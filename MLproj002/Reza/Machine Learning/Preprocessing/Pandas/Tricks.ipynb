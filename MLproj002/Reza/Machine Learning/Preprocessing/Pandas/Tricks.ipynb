{
 "cells": [
  {
   "cell_type": "markdown",
   "id": "8393c932",
   "metadata": {},
   "source": [
    "### Importing libraries"
   ]
  },
  {
   "cell_type": "code",
   "execution_count": 2,
   "id": "0a931522",
   "metadata": {},
   "outputs": [],
   "source": [
    "import pandas as pd"
   ]
  },
  {
   "cell_type": "code",
   "execution_count": 3,
   "id": "bb274c18",
   "metadata": {},
   "outputs": [
    {
     "data": {
      "text/plain": [
       "'2.3.1'"
      ]
     },
     "execution_count": 3,
     "metadata": {},
     "output_type": "execute_result"
    }
   ],
   "source": [
    "pd.__version__"
   ]
  },
  {
   "cell_type": "code",
   "execution_count": 5,
   "id": "a2f10991",
   "metadata": {},
   "outputs": [
    {
     "name": "stdout",
     "output_type": "stream",
     "text": [
      "   Name  Age    City\n",
      "0   Ali   23  Tehran\n",
      "1  Sara   27  Shiraz\n",
      "2  Reza   21  Tabriz\n"
     ]
    }
   ],
   "source": [
    "import pandas as pd\n",
    "\n",
    "data = {\n",
    "    'Name': ['Ali', 'Sara', 'Reza'],\n",
    "    'Age': [23, 27, 21],\n",
    "    'City': ['Tehran', 'Shiraz', 'Tabriz']\n",
    "}\n",
    "\n",
    "df = pd.DataFrame(data)\n",
    "print(df)\n"
   ]
  },
  {
   "cell_type": "markdown",
   "id": "8ec26e2f",
   "metadata": {},
   "source": [
    "### Import Dataset & Make Dataframe "
   ]
  },
  {
   "cell_type": "code",
   "execution_count": 8,
   "id": "c3524cd8",
   "metadata": {},
   "outputs": [
    {
     "data": {
      "text/plain": [
       "<bound method NDFrame.head of      magnitude  cdi  mmi  sig  nst   dmin   gap    depth  latitude  longitude  \\\n",
       "0          7.0    8    7  768  117  0.509  17.0   14.000   -9.7963    159.596   \n",
       "1          6.9    4    4  735   99  2.229  34.0   25.000   -4.9559    100.738   \n",
       "2          7.0    3    3  755  147  3.125  18.0  579.000  -20.0508   -178.346   \n",
       "3          7.3    5    5  833  149  1.865  21.0   37.000  -19.2918   -172.129   \n",
       "4          6.6    0    2  670  131  4.998  27.0  624.464  -25.5948    178.278   \n",
       "..         ...  ...  ...  ...  ...    ...   ...      ...       ...        ...   \n",
       "777        7.7    0    8  912  427  0.000   0.0   60.000   13.0490    -88.660   \n",
       "778        6.9    5    7  745    0  0.000   0.0   36.400   56.7744   -153.281   \n",
       "779        7.1    0    7  776  372  0.000   0.0  103.000  -14.9280    167.170   \n",
       "780        6.8    0    5  711   64  0.000   0.0   33.000    6.6310    126.899   \n",
       "781        7.5    0    7  865  324  0.000   0.0   33.000    6.8980    126.579   \n",
       "\n",
       "     Year  Month  tsunami  \n",
       "0    2022     11        1  \n",
       "1    2022     11        0  \n",
       "2    2022     11        1  \n",
       "3    2022     11        1  \n",
       "4    2022     11        1  \n",
       "..    ...    ...      ...  \n",
       "777  2001      1        0  \n",
       "778  2001      1        0  \n",
       "779  2001      1        0  \n",
       "780  2001      1        0  \n",
       "781  2001      1        0  \n",
       "\n",
       "[782 rows x 13 columns]>"
      ]
     },
     "execution_count": 8,
     "metadata": {},
     "output_type": "execute_result"
    }
   ],
   "source": [
    "dataset = pd.read_csv('earthquake_data_tsunami.csv')\n",
    "dataset.head"
   ]
  },
  {
   "cell_type": "markdown",
   "id": "487ad293",
   "metadata": {},
   "source": [
    "### Memory usage in each(how to optimize dataframe storage)"
   ]
  },
  {
   "cell_type": "code",
   "execution_count": 9,
   "id": "bca9d76b",
   "metadata": {},
   "outputs": [
    {
     "name": "stdout",
     "output_type": "stream",
     "text": [
      "<class 'pandas.core.frame.DataFrame'>\n",
      "RangeIndex: 782 entries, 0 to 781\n",
      "Data columns (total 13 columns):\n",
      " #   Column     Non-Null Count  Dtype  \n",
      "---  ------     --------------  -----  \n",
      " 0   magnitude  782 non-null    float64\n",
      " 1   cdi        782 non-null    int64  \n",
      " 2   mmi        782 non-null    int64  \n",
      " 3   sig        782 non-null    int64  \n",
      " 4   nst        782 non-null    int64  \n",
      " 5   dmin       782 non-null    float64\n",
      " 6   gap        782 non-null    float64\n",
      " 7   depth      782 non-null    float64\n",
      " 8   latitude   782 non-null    float64\n",
      " 9   longitude  782 non-null    float64\n",
      " 10  Year       782 non-null    int64  \n",
      " 11  Month      782 non-null    int64  \n",
      " 12  tsunami    782 non-null    int64  \n",
      "dtypes: float64(6), int64(7)\n",
      "memory usage: 79.6 KB\n"
     ]
    }
   ],
   "source": [
    "dataset.info(memory_usage = 'deep')"
   ]
  },
  {
   "cell_type": "code",
   "execution_count": null,
   "id": "2a501a78",
   "metadata": {},
   "outputs": [],
   "source": []
  }
 ],
 "metadata": {
  "kernelspec": {
   "display_name": "Python 3",
   "language": "python",
   "name": "python3"
  },
  "language_info": {
   "codemirror_mode": {
    "name": "ipython",
    "version": 3
   },
   "file_extension": ".py",
   "mimetype": "text/x-python",
   "name": "python",
   "nbconvert_exporter": "python",
   "pygments_lexer": "ipython3",
   "version": "3.13.8"
  }
 },
 "nbformat": 4,
 "nbformat_minor": 5
}
