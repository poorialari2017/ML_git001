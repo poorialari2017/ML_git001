{
 "cells": [
  {
   "cell_type": "code",
   "execution_count": 3,
   "id": "eed86a9d",
   "metadata": {},
   "outputs": [],
   "source": [
    "import numpy as np\n",
    "import matplotlib.pyplot as plt\n",
    "import pandas as pd"
   ]
  },
  {
   "cell_type": "markdown",
   "id": "349145cb",
   "metadata": {},
   "source": [
    "### Importing the dataset"
   ]
  },
  {
   "cell_type": "markdown",
   "id": "5200e23e",
   "metadata": {},
   "source": [
    "dataset = pd.read_csv('data.csv')\n",
    "x = dataset.iloc[:, :-1].values همه ستون ها جز اخرین ستون\n",
    "y = dataset.iloc[:, -1].values فقط اخرین ستون \n",
    "\n",
    " در ابتدا باید داده های خود را بگیریم\n",
    " از ilock برای جمع اوری ردیف ها و شاخص های ستون استفاده میکنیم\n",
    "\n",
    " .iloc یعنی \"index location\""
   ]
  },
  {
   "cell_type": "code",
   "execution_count": 5,
   "id": "9cd7b88b",
   "metadata": {},
   "outputs": [
    {
     "name": "stdout",
     "output_type": "stream",
     "text": [
      "       patient_id               name  age arrival_date departure_date  \\\n",
      "0    PAT-09484753  Richard Rodriguez   24   2025-03-16     2025-03-22   \n",
      "1    PAT-f0644084     Shannon Walker    6   2025-12-13     2025-12-14   \n",
      "2    PAT-ac6162e4       Julia Torres   24   2025-06-29     2025-07-05   \n",
      "3    PAT-3dda2bb5    Crystal Johnson   32   2025-10-12     2025-10-23   \n",
      "4    PAT-08591375        Garrett Lin   25   2025-02-18     2025-02-25   \n",
      "..            ...                ...  ...          ...            ...   \n",
      "995  PAT-a01bf534         Amber Vang   26   2025-12-02     2025-12-04   \n",
      "996  PAT-87fa07bd       Martha Smith   89   2025-11-18     2025-11-30   \n",
      "997  PAT-8f07e894     Jennifer James   72   2025-12-12     2025-12-21   \n",
      "998  PAT-4ae301e1     Kara Hernandez   47   2025-02-08     2025-02-20   \n",
      "999  PAT-e2ef9c5f    Lorraine Turner   64   2025-05-04     2025-05-08   \n",
      "\n",
      "              service  \n",
      "0             surgery  \n",
      "1             surgery  \n",
      "2    general_medicine  \n",
      "3           emergency  \n",
      "4                 ICU  \n",
      "..                ...  \n",
      "995         emergency  \n",
      "996         emergency  \n",
      "997               ICU  \n",
      "998               ICU  \n",
      "999  general_medicine  \n",
      "\n",
      "[1000 rows x 6 columns]\n"
     ]
    }
   ],
   "source": [
    "dataset = pd.read_csv('patients.csv')\n",
    "x = dataset.iloc[:, :-1]\n",
    "y = dataset.iloc[:, -1]\n",
    "print(x)\n"
   ]
  },
  {
   "cell_type": "code",
   "execution_count": 6,
   "id": "28decceb",
   "metadata": {},
   "outputs": [
    {
     "name": "stdout",
     "output_type": "stream",
     "text": [
      "0      61\n",
      "1      83\n",
      "2      83\n",
      "3      81\n",
      "4      76\n",
      "       ..\n",
      "995    91\n",
      "996    99\n",
      "997    69\n",
      "998    61\n",
      "999    83\n",
      "Name: satisfaction, Length: 1000, dtype: int64\n"
     ]
    }
   ],
   "source": [
    "print(y)"
   ]
  },
  {
   "cell_type": "code",
   "execution_count": null,
   "id": "c8a9a383",
   "metadata": {},
   "outputs": [],
   "source": []
  }
 ],
 "metadata": {
  "kernelspec": {
   "display_name": "Python 3",
   "language": "python",
   "name": "python3"
  },
  "language_info": {
   "codemirror_mode": {
    "name": "ipython",
    "version": 3
   },
   "file_extension": ".py",
   "mimetype": "text/x-python",
   "name": "python",
   "nbconvert_exporter": "python",
   "pygments_lexer": "ipython3",
   "version": "3.13.8"
  }
 },
 "nbformat": 4,
 "nbformat_minor": 5
}
