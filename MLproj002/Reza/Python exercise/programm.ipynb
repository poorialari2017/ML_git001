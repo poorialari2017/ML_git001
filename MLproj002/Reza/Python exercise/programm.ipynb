{
 "cells": [
  {
   "cell_type": "markdown",
   "id": "697b19a3",
   "metadata": {},
   "source": [
    "برنامه ای که قاعده و ارتفاع متوازی الاضلاع را خوانده, مساحت ان را نمایش دهد "
   ]
  },
  {
   "cell_type": "code",
   "execution_count": 2,
   "id": "80aea721",
   "metadata": {},
   "outputs": [
    {
     "name": "stdout",
     "output_type": "stream",
     "text": [
      "Area is:  24.0\n"
     ]
    }
   ],
   "source": [
    "base = float(input(\"lenge of base: \"))\n",
    "height = float(input(\"measurement of hight: \"))\n",
    "area = base * height\n",
    "print(\"Area is: \", area)"
   ]
  },
  {
   "cell_type": "markdown",
   "id": "9e3c3b72",
   "metadata": {},
   "source": [
    "برنامه ای که شعاع و ارتفاع استوانه را خوانده و حجم و مساحت ان را حساب کند"
   ]
  },
  {
   "cell_type": "code",
   "execution_count": 4,
   "id": "83792138",
   "metadata": {},
   "outputs": [
    {
     "name": "stdout",
     "output_type": "stream",
     "text": [
      "volume of the cylinder= 3216.990877275948\n",
      "total surface area of the cylinder= 6635.043684381643\n"
     ]
    }
   ],
   "source": [
    "import math\n",
    " \n",
    "r = float(input(\"enter the radius of the cylinder: \"))\n",
    "h = float(input(\"enter the height of the cylinder: \"))\n",
    "\n",
    "# calculate volume \n",
    "volume = math.pi * r**2 * h\n",
    "\n",
    "# calculate total surface area\n",
    "surface_area = 2 * math.pi * r * (r + h)\n",
    "\n",
    "print(\"volume of the cylinder=\", volume)\n",
    "print(\"total surface area of the cylinder=\", surface_area)"
   ]
  },
  {
   "cell_type": "markdown",
   "id": "b532f868",
   "metadata": {},
   "source": [
    "برنامه ای که شعاع کره را خوانده و مستحت و حجم کره را محاسبه کند "
   ]
  },
  {
   "cell_type": "code",
   "execution_count": 1,
   "id": "c8e67de7",
   "metadata": {},
   "outputs": [
    {
     "name": "stdout",
     "output_type": "stream",
     "text": [
      "surface area of the sphers is:  12.566370614359172\n",
      "volume of the sphere is:  4.1887902047863905\n"
     ]
    }
   ],
   "source": [
    "import math \n",
    "\n",
    "r = (float(input(\"enter the radius of the sphere: \")))\n",
    "surface_area = r**2 * math.pi * 4 \n",
    "\n",
    "volume = r**2 * math.pi * 4/3\n",
    "print(\"surface area of the sphers is: \", surface_area)\n",
    "print(\"volume of the sphere is: \", volume)"
   ]
  },
  {
   "cell_type": "markdown",
   "id": "f09a590e",
   "metadata": {},
   "source": [
    "#### Reverse each word of a string\n",
    "\n",
    "Given:\n",
    "\n",
    "str = 'My Name is Jessa'\n",
    "\n",
    "\n",
    "Expected Output:\n",
    "\n",
    "yM emaN si asseJ"
   ]
  },
  {
   "cell_type": "code",
   "execution_count": 4,
   "id": "40be2ab5",
   "metadata": {},
   "outputs": [
    {
     "name": "stdout",
     "output_type": "stream",
     "text": [
      "yM emaN si asseJ\n"
     ]
    }
   ],
   "source": [
    "str = 'My Name is Jessa'\n",
    " \n",
    "words = str.split()\n",
    "\n",
    "reversed_word = [word[::-1] for word in words]\n",
    "result = \" \".join(reversed_word)\n",
    "\n",
    "print(result)"
   ]
  }
 ],
 "metadata": {
  "kernelspec": {
   "display_name": "Python 3",
   "language": "python",
   "name": "python3"
  },
  "language_info": {
   "codemirror_mode": {
    "name": "ipython",
    "version": 3
   },
   "file_extension": ".py",
   "mimetype": "text/x-python",
   "name": "python",
   "nbconvert_exporter": "python",
   "pygments_lexer": "ipython3",
   "version": "3.13.8"
  }
 },
 "nbformat": 4,
 "nbformat_minor": 5
}
