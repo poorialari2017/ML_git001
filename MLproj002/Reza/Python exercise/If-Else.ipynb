{
 "cells": [
  {
   "cell_type": "markdown",
   "id": "7f11c252",
   "metadata": {},
   "source": [
    "# Here are some exercises about the topic of if and else\n"
   ]
  },
  {
   "cell_type": "markdown",
   "id": "a353b11a",
   "metadata": {},
   "source": [
    "یک عدد از کاربر بگیر و مشخص کن که زوج است یا فرد.\n"
   ]
  },
  {
   "cell_type": "code",
   "execution_count": 2,
   "id": "1f97e782",
   "metadata": {},
   "outputs": [
    {
     "name": "stdout",
     "output_type": "stream",
     "text": [
      "this number is even\n"
     ]
    }
   ],
   "source": [
    "num = int(input(\"enter your number\"))\n",
    "if num % 2 == 0:\n",
    "    print(\"this number is even\")\n",
    "    \n",
    "else:\n",
    "    print(\"this number is odd\")"
   ]
  },
  {
   "cell_type": "markdown",
   "id": "e2808c6e",
   "metadata": {},
   "source": [
    "برنامه‌ای بنویس که نمره دانش‌آموز را بگیرد:\n",
    "\n",
    "اگر نمره بالای ۱۰ بود، چاپ کند: \"قبول شدی ✅\"\n",
    "\n",
    "اگر نمره ۱۰ یا کمتر بود، چاپ کند: \"رد شدی ❌\""
   ]
  },
  {
   "cell_type": "code",
   "execution_count": 3,
   "id": "2ffbbee0",
   "metadata": {},
   "outputs": [
    {
     "name": "stdout",
     "output_type": "stream",
     "text": [
      "you are pass\n"
     ]
    }
   ],
   "source": [
    "score = float(input(\"enter your score\"))\n",
    "\n",
    "if score >= 10:\n",
    "    print(\"you are pass\")\n",
    "elif score <= 10:\n",
    "    print(\"you are fail\")"
   ]
  },
  {
   "cell_type": "markdown",
   "id": "d294db88",
   "metadata": {},
   "source": [
    "دو عدد از کاربر بگیر و مشخص کن کدام بزرگتر است.\n",
    "\n",
    "اگر مساوی بودند، پیام \"دو عدد برابرند\" چاپ کن."
   ]
  },
  {
   "cell_type": "code",
   "execution_count": 4,
   "id": "1ae4d601",
   "metadata": {},
   "outputs": [
    {
     "name": "stdout",
     "output_type": "stream",
     "text": [
      "num2 is biggest number\n"
     ]
    }
   ],
   "source": [
    "num1 = int(input(\"enter your number\"))\n",
    "num2 = int(input(\"enter your nunber\"))\n",
    "\n",
    "if num1 > num2:\n",
    "    print(\"num1 is biggest number\")\n",
    "elif num2 > num1:\n",
    "    print(\"num2 is biggest number\")\n",
    "else:\n",
    "    num1 == num2\n",
    "    print(\"the numbers are equal\")"
   ]
  },
  {
   "cell_type": "markdown",
   "id": "b5db8917",
   "metadata": {},
   "source": [
    "برنامه‌ای بنویس که سال را از کاربر بگیرد و مشخص کند آیا کبیسه است یا نه"
   ]
  },
  {
   "cell_type": "code",
   "execution_count": 5,
   "id": "50d58010",
   "metadata": {},
   "outputs": [
    {
     "name": "stdout",
     "output_type": "stream",
     "text": [
      "year is normal\n"
     ]
    }
   ],
   "source": [
    "year = int(input(\"enter year for check\"))\n",
    "\n",
    "if year % 400 == 0:\n",
    "    print(\"year is leap\")\n",
    "else:\n",
    "    print(\"year is normal\")"
   ]
  },
  {
   "cell_type": "markdown",
   "id": "31afa26f",
   "metadata": {},
   "source": [
    "ماشین‌ حساب ساده"
   ]
  },
  {
   "cell_type": "code",
   "execution_count": 11,
   "id": "0009615a",
   "metadata": {},
   "outputs": [
    {
     "name": "stdout",
     "output_type": "stream",
     "text": [
      "result: 49961259.0\n"
     ]
    }
   ],
   "source": [
    "num1 = float(input(\"enter the first number\"))\n",
    "num2 = float(input(\"enter your secound number\"))\n",
    "\n",
    "operator = input(\"Enter an operator (+, -, *, /): \")\n",
    "if operator == \"+\":\n",
    "    print(\"result:\", num1 + num2)\n",
    "elif operator == \"-\":\n",
    "    print(\"result:\", num1 - num2)\n",
    "elif operator == \"*\":\n",
    "    print(\"result:\", num1 * num2)\n",
    "elif operator == \"/\":\n",
    "      if num2 != 0:\n",
    "           print(\"result:\", num1 / num2)\n",
    "      else:\n",
    "           print(\"error\")\n",
    "else:\n",
    "     print(\"invalid operator\")\n",
    "      "
   ]
  }
 ],
 "metadata": {
  "kernelspec": {
   "display_name": "Python 3",
   "language": "python",
   "name": "python3"
  },
  "language_info": {
   "codemirror_mode": {
    "name": "ipython",
    "version": 3
   },
   "file_extension": ".py",
   "mimetype": "text/x-python",
   "name": "python",
   "nbconvert_exporter": "python",
   "pygments_lexer": "ipython3",
   "version": "3.13.7"
  }
 },
 "nbformat": 4,
 "nbformat_minor": 5
}
