{
 "cells": [
  {
   "cell_type": "markdown",
   "id": "7f11c252",
   "metadata": {},
   "source": [
    "# Here are some exercises about the topic of if and else\n"
   ]
  },
  {
   "cell_type": "markdown",
   "id": "a353b11a",
   "metadata": {},
   "source": [
    "یک عدد از کاربر بگیر و مشخص کن که زوج است یا فرد.\n"
   ]
  },
  {
   "cell_type": "code",
   "execution_count": 5,
   "id": "1f97e782",
   "metadata": {},
   "outputs": [
    {
     "name": "stdout",
     "output_type": "stream",
     "text": [
      "this number is even\n"
     ]
    }
   ],
   "source": [
    "num = int(input(\"enter your number\"))\n",
    "if num % 2 == 0:\n",
    "    print(\"this number is even\")\n",
    "    \n",
    "else:\n",
    "    print(\"this number is odd\")"
   ]
  },
  {
   "cell_type": "markdown",
   "id": "e2808c6e",
   "metadata": {},
   "source": [
    "برنامه‌ای بنویس که نمره دانش‌آموز را بگیرد:\n",
    "\n",
    "اگر نمره بالای ۱۰ بود، چاپ کند: \"قبول شدی ✅\"\n",
    "\n",
    "اگر نمره ۱۰ یا کمتر بود، چاپ کند: \"رد شدی ❌\""
   ]
  },
  {
   "cell_type": "code",
   "execution_count": 6,
   "id": "2ffbbee0",
   "metadata": {},
   "outputs": [
    {
     "name": "stdout",
     "output_type": "stream",
     "text": [
      "you are fail\n"
     ]
    }
   ],
   "source": [
    "score = float(input(\"enter your score\"))\n",
    "\n",
    "if score >= 10:\n",
    "    print(\"you are pass\")\n",
    "elif score <= 10:\n",
    "    print(\"you are fail\")"
   ]
  },
  {
   "cell_type": "markdown",
   "id": "d294db88",
   "metadata": {},
   "source": [
    "دو عدد از کاربر بگیر و مشخص کن کدام بزرگتر است.\n",
    "\n",
    "اگر مساوی بودند، پیام \"دو عدد برابرند\" چاپ کن."
   ]
  },
  {
   "cell_type": "code",
   "execution_count": 8,
   "id": "1ae4d601",
   "metadata": {},
   "outputs": [
    {
     "name": "stdout",
     "output_type": "stream",
     "text": [
      "the numbers are equal\n"
     ]
    }
   ],
   "source": [
    "num1 = int(input(\"enter your number\"))\n",
    "num2 = int(input(\"enter your nunber\"))\n",
    "\n",
    "if num1 > num2:\n",
    "    print(\"num1 is biggest number\")\n",
    "elif num2 > num1:\n",
    "    print(\"num2 is biggest number\")\n",
    "elif num1 == num2:\n",
    "    print(\"the numbers are equal\")"
   ]
  },
  {
   "cell_type": "markdown",
   "id": "b5db8917",
   "metadata": {},
   "source": [
    "برنامه‌ای بنویس که سال را از کاربر بگیرد و مشخص کند آیا کبیسه است یا نه"
   ]
  },
  {
   "cell_type": "code",
   "execution_count": null,
   "id": "50d58010",
   "metadata": {},
   "outputs": [
    {
     "name": "stdout",
     "output_type": "stream",
     "text": [
      "year is normal\n"
     ]
    }
   ],
   "source": [
    "year = int(input(\"enter year for check\"))\n",
    "\n",
    "if year % 400 == 0:\n",
    "    print(\"year is leap\")\n",
    "else:\n",
    "    print(\"year is normal\")"
   ]
  },
  {
   "cell_type": "markdown",
   "id": "31afa26f",
   "metadata": {},
   "source": [
    "ماشین‌ حساب ساده"
   ]
  },
  {
   "cell_type": "code",
   "execution_count": null,
   "id": "0009615a",
   "metadata": {},
   "outputs": [
    {
     "name": "stdout",
     "output_type": "stream",
     "text": [
      "result: 2957683405950.0\n"
     ]
    }
   ],
   "source": [
    "num1 = float(input(\"enter the first number\"))\n",
    "num2 = float(input(\"enter your secound number\"))\n",
    "\n",
    "operator = input(\"Enter an operator (+, -, *, /): \")\n",
    "if operator == \"+\":\n",
    "    print(\"result:\", num1 + num2)\n",
    "elif operator == \"-\":\n",
    "    print(\"result:\", num1 - num2)\n",
    "elif operator == \"*\":\n",
    "    print(\"result:\", num1 * num2)\n",
    "elif operator == \"/\":\n",
    "      if num2 != 0:\n",
    "           print(\"result:\", num1 / num2)\n",
    "      else:\n",
    "           print(\"error\")\n",
    "else:\n",
    "     print(\"invalid operator\")\n",
    "      "
   ]
  },
  {
   "cell_type": "code",
   "execution_count": null,
   "id": "723cf80e",
   "metadata": {},
   "outputs": [
    {
     "name": "stdout",
     "output_type": "stream",
     "text": [
      "False\n"
     ]
    }
   ],
   "source": [
    "str = \"GFG\"\n",
    "print(not (not(str and \"\")))\n"
   ]
  },
  {
   "cell_type": "code",
   "execution_count": 11,
   "id": "df760c9d",
   "metadata": {},
   "outputs": [
    {
     "name": "stdout",
     "output_type": "stream",
     "text": [
      "False\n"
     ]
    }
   ],
   "source": [
    "c = 4\n",
    "print(not c)"
   ]
  },
  {
   "cell_type": "markdown",
   "id": "45ee49b4",
   "metadata": {},
   "source": [
    "1name = \"Error\"  # Starts with a digit\n",
    "class = 10       # 'class' is a reserved keyword\n",
    "user-name = \"Doe\"  # Contains a hyphen1name "
   ]
  },
  {
   "cell_type": "code",
   "execution_count": null,
   "id": "b7afdac1",
   "metadata": {},
   "outputs": [],
   "source": [
    "x = 10\n",
    "x = \"Now a string\"\n",
    "#Python variables are dynamically typed, meaning the same variable can \n",
    "#hold different types of values during execution."
   ]
  },
  {
   "cell_type": "code",
   "execution_count": 11,
   "id": "5489ee86",
   "metadata": {},
   "outputs": [
    {
     "name": "stdout",
     "output_type": "stream",
     "text": [
      "2323 2323 2323\n"
     ]
    }
   ],
   "source": [
    "a = b = c = 2323\n",
    "print(a, b, c)\n",
    "#Python allows assigning the same value to multiple variables in a single line,\n",
    "#which can be useful for initializing variables with the same value."
   ]
  },
  {
   "cell_type": "markdown",
   "id": "fe3481cd",
   "metadata": {},
   "source": [
    "### Assigning Different Values"
   ]
  },
  {
   "cell_type": "code",
   "execution_count": 12,
   "id": "65e209b7",
   "metadata": {},
   "outputs": [
    {
     "name": "stdout",
     "output_type": "stream",
     "text": [
      "100 33234 reza\n"
     ]
    }
   ],
   "source": [
    "x, y, z = 100 , 33234, \"reza\"\n",
    "print(x, y, z)"
   ]
  },
  {
   "cell_type": "markdown",
   "id": "8b8f8198",
   "metadata": {},
   "source": [
    "### Type Casting a Variable"
   ]
  },
  {
   "cell_type": "code",
   "execution_count": 15,
   "id": "2306a148",
   "metadata": {},
   "outputs": [
    {
     "data": {
      "text/plain": [
       "'213'"
      ]
     },
     "execution_count": 15,
     "metadata": {},
     "output_type": "execute_result"
    }
   ],
   "source": [
    "a =  '213'\n",
    "m = int(a)\n",
    "a"
   ]
  },
  {
   "cell_type": "markdown",
   "id": "85e94ded",
   "metadata": {},
   "source": [
    "### Type Casting a Variable"
   ]
  },
  {
   "cell_type": "code",
   "execution_count": 18,
   "id": "213f8827",
   "metadata": {},
   "outputs": [
    {
     "data": {
      "text/plain": [
       "(5.0, '34')"
      ]
     },
     "execution_count": 18,
     "metadata": {},
     "output_type": "execute_result"
    }
   ],
   "source": [
    "cnt = 5\n",
    "f = float(cnt)\n",
    "age = 34\n",
    "age2 = str(age)\n",
    "f, age2"
   ]
  },
  {
   "cell_type": "markdown",
   "id": "b23b53ad",
   "metadata": {},
   "source": [
    "### Type of Variable"
   ]
  },
  {
   "cell_type": "code",
   "execution_count": 5,
   "id": "6e2e1af5",
   "metadata": {},
   "outputs": [
    {
     "name": "stdout",
     "output_type": "stream",
     "text": [
      "<class 'int'>\n",
      "<class 'float'>\n",
      "<class 'str'>\n",
      "<class 'set'>\n",
      "<class 'list'>\n",
      "<class 'bool'>\n"
     ]
    }
   ],
   "source": [
    "n = 43\n",
    "m = 3.14\n",
    "s = \"hello\"\n",
    "z = {123,324,234}\n",
    "o = [213, 2343, 5324]\n",
    "bool = False\n",
    "\n",
    "print(type(n))\n",
    "print(type(m))\n",
    "print(type(s))\n",
    "print(type(z))\n",
    "print(type(o))\n",
    "print(type(bool))\n",
    "#Python is a dynamically typed language, meaning you don't need to declare variable types explicitly."
   ]
  },
  {
   "cell_type": "code",
   "execution_count": 16,
   "id": "a68091a5",
   "metadata": {},
   "outputs": [
    {
     "name": "stdout",
     "output_type": "stream",
     "text": [
      "[1, 2, 3, 3]\n"
     ]
    }
   ],
   "source": [
    "a = [1, 2, 3]\n",
    "b = a\n",
    "b.append(3) #for lists\n",
    "print(a)"
   ]
  },
  {
   "cell_type": "code",
   "execution_count": 5,
   "id": "e94c4850",
   "metadata": {},
   "outputs": [
    {
     "ename": "SyntaxError",
     "evalue": "'(' was never closed (4234419225.py, line 5)",
     "output_type": "error",
     "traceback": [
      "  \u001b[36mCell\u001b[39m\u001b[36m \u001b[39m\u001b[32mIn[5]\u001b[39m\u001b[32m, line 5\u001b[39m\n\u001b[31m    \u001b[39m\u001b[31mprint(b is c\u001b[39m\n         ^\n\u001b[31mSyntaxError\u001b[39m\u001b[31m:\u001b[39m '(' was never closed\n"
     ]
    }
   ],
   "source": [
    "a = [1, 2, 3]\n",
    "b = a\n",
    "c = [22, 0, 1]\n",
    "print(a is b)\n",
    "print(b is c\n",
    "pritn(a is c) #error"
   ]
  },
  {
   "cell_type": "markdown",
   "id": "2c2b20bd",
   "metadata": {},
   "source": [
    "### Copy vs Reference\n"
   ]
  },
  {
   "cell_type": "code",
   "execution_count": null,
   "id": "2595062f",
   "metadata": {},
   "outputs": [
    {
     "name": "stdout",
     "output_type": "stream",
     "text": [
      "[[1, 90], [3, 4]]\n",
      "[[1, 90], [3, 4]]\n",
      "False\n"
     ]
    }
   ],
   "source": [
    "import copy\n",
    "a = [[1,2], [3,4]]\n",
    "b = copy.copy(a)\n",
    "\n",
    "a[0][1]= 90\n",
    "print(a) \n",
    "print(b) #الان همون مقدار اولیه رو داد\n",
    "print(a is b)\n",
    "\n",
    "# list is imutble"
   ]
  },
  {
   "cell_type": "code",
   "execution_count": 5,
   "id": "b727ad95",
   "metadata": {},
   "outputs": [
    {
     "name": "stdout",
     "output_type": "stream",
     "text": [
      "[[294792374923749, 2], [2, 4]]\n",
      "[[294792374923749, 2], [2, 4]]\n",
      "False\n"
     ]
    }
   ],
   "source": [
    "import copy\n",
    "\n",
    "a = [[1,2], [2,4]]\n",
    "b = copy.copy(a)\n",
    "\n",
    "a[0][0] = 294792374923749\n",
    "print(a)\n",
    "print(b)\n",
    "print(a is b) "
   ]
  },
  {
   "cell_type": "code",
   "execution_count": 5,
   "id": "7a88a3c1",
   "metadata": {},
   "outputs": [
    {
     "name": "stdout",
     "output_type": "stream",
     "text": [
      "[[2, 2, 3], [1, 2, 100]]\n",
      "[[2, 2, 3], [1, 2, 3]]\n",
      "False\n"
     ]
    }
   ],
   "source": [
    "import copy\n",
    "\n",
    "a = [[2,2,3], [1,2,3]]\n",
    "b = copy.deepcopy(a)\n",
    "a[1][2] = 100\n",
    "print(a)\n",
    "print(b)\n",
    "print(a is b)"
   ]
  },
  {
   "cell_type": "markdown",
   "id": "46592a11",
   "metadata": {},
   "source": [
    "### operators"
   ]
  },
  {
   "cell_type": "code",
   "execution_count": 8,
   "id": "e9ca4a95",
   "metadata": {},
   "outputs": [
    {
     "name": "stdout",
     "output_type": "stream",
     "text": [
      "addition 22\n",
      "subtraction -2\n",
      "multipication 120\n",
      "floor divition 0\n",
      "modalus 10\n",
      "exponentiation 1000000000000\n"
     ]
    }
   ],
   "source": [
    "a = 10\n",
    "b = 12\n",
    "\n",
    "print('addition', a + b)\n",
    "\n",
    "print('subtraction', a - b)\n",
    "\n",
    "print('multipication', a * b)\n",
    "\n",
    "print('floor divition', a // b)\n",
    "\n",
    "print('modalus', a % b)\n",
    "\n",
    "print('exponentiation', a ** b)\n",
    "\n",
    "# Arithmetic Operators"
   ]
  },
  {
   "cell_type": "code",
   "execution_count": null,
   "id": "12227575",
   "metadata": {},
   "outputs": [
    {
     "name": "stdout",
     "output_type": "stream",
     "text": [
      "False\n",
      "True\n",
      "False\n",
      "True\n",
      "False\n",
      "True\n"
     ]
    }
   ],
   "source": [
    "a = 2\n",
    "b = 3\n",
    "\n",
    "print(a > b)\n",
    "print(a < b)\n",
    "print(a == b)\n",
    "print(a != b)\n",
    "print(a >= b)\n",
    "print(a <= b)\n",
    "\n",
    "# Comparison Operators"
   ]
  },
  {
   "cell_type": "code",
   "execution_count": null,
   "id": "a72ca9f0",
   "metadata": {},
   "outputs": [
    {
     "name": "stdout",
     "output_type": "stream",
     "text": [
      "False\n",
      "True\n",
      "False\n"
     ]
    }
   ],
   "source": [
    "a = True\n",
    "b = False\n",
    "\n",
    "print(a and b)\n",
    "print(a or b)\n",
    "print(not a)\n",
    "\n",
    "# Logical Operators"
   ]
  },
  {
   "cell_type": "code",
   "execution_count": null,
   "id": "0c476be3",
   "metadata": {},
   "outputs": [
    {
     "name": "stdout",
     "output_type": "stream",
     "text": [
      "0\n",
      "31\n",
      "-20\n",
      "31\n",
      "4\n",
      "76\n"
     ]
    }
   ],
   "source": [
    "a = 19\n",
    "b = 12\n",
    "\n",
    "print(a & b)\n",
    "print(a | b)\n",
    "print(~a)\n",
    "print(a ^ b)\n",
    "print(a >> 2)\n",
    "print(a << 2)\n",
    "\n",
    "# Bitwise Operators"
   ]
  },
  {
   "cell_type": "code",
   "execution_count": 10,
   "id": "35ba2691",
   "metadata": {},
   "outputs": [
    {
     "name": "stdout",
     "output_type": "stream",
     "text": [
      "10\n",
      "20\n",
      "10\n",
      "100\n",
      "102400\n"
     ]
    }
   ],
   "source": [
    "a = 10\n",
    "b = a\n",
    "print(b)\n",
    "b += a\n",
    "print(b)\n",
    "b -= a\n",
    "print(b)\n",
    "b *= a\n",
    "print(b)\n",
    "b <<= a\n",
    "print(b)\n",
    "\n",
    "# Assignment Operators"
   ]
  },
  {
   "cell_type": "code",
   "execution_count": 12,
   "id": "20310ba2",
   "metadata": {},
   "outputs": [
    {
     "name": "stdout",
     "output_type": "stream",
     "text": [
      "True\n",
      "False\n",
      "True\n"
     ]
    }
   ],
   "source": [
    "a = 10\n",
    "b = 123\n",
    "c = b\n",
    "\n",
    "print(a is not b)\n",
    "print(a is c)\n",
    "print(b is c)\n",
    "\n",
    "# Identity Operators"
   ]
  },
  {
   "cell_type": "code",
   "execution_count": 20,
   "id": "be3762fe",
   "metadata": {},
   "outputs": [
    {
     "name": "stdout",
     "output_type": "stream",
     "text": [
      "x is NOT present in given list\n",
      "y is present in given list\n"
     ]
    }
   ],
   "source": [
    "x = 24\n",
    "y = 20\n",
    "list = [10, 20, 30, 40, 50]\n",
    "\n",
    "if (x not in list):\n",
    "    print(\"x is NOT present in given list\")\n",
    "else:\n",
    "    print(\"x is present in given list\")\n",
    "\n",
    "if (y in list):\n",
    "    print(\"y is present in given list\")\n",
    "else:\n",
    "    print(\"y is NOT present in given list\")\n",
    "\n",
    "# Membership Operators\n",
    "    '''\n",
    "    in     =       True if value is found in the sequence\n",
    "not in     =   True if value is not found in the sequence\n",
    "    '''"
   ]
  },
  {
   "cell_type": "code",
   "execution_count": 21,
   "id": "1830443d",
   "metadata": {},
   "outputs": [
    {
     "name": "stdout",
     "output_type": "stream",
     "text": [
      "10\n"
     ]
    }
   ],
   "source": [
    "a ,b = 10, 20 \n",
    "\n",
    "result = a if a < b else b\n",
    "print(result)\n",
    "\n",
    "# Ternary Operator"
   ]
  },
  {
   "cell_type": "code",
   "execution_count": 23,
   "id": "04ebf23c",
   "metadata": {},
   "outputs": [
    {
     "name": "stdout",
     "output_type": "stream",
     "text": [
      "610\n",
      "Hello! Welcome.\n"
     ]
    }
   ],
   "source": [
    "expr = 10 + 20 * 30\n",
    "print(expr)\n",
    "name = \"Alex\"\n",
    "age = 0\n",
    "\n",
    "if name == \"Alex\" or name == \"John\" and age >= 2:\n",
    "    print(\"Hello! Welcome.\")\n",
    "else:\n",
    "    print(\"Good Bye!!\")"
   ]
  },
  {
   "cell_type": "code",
   "execution_count": 1,
   "id": "310cfe12",
   "metadata": {},
   "outputs": [
    {
     "name": "stdout",
     "output_type": "stream",
     "text": [
      "hello world\n"
     ]
    },
    {
     "ename": "NameError",
     "evalue": "name 's' is not defined",
     "output_type": "error",
     "traceback": [
      "\u001b[31m---------------------------------------------------------------------------\u001b[39m",
      "\u001b[31mNameError\u001b[39m                                 Traceback (most recent call last)",
      "\u001b[36mCell\u001b[39m\u001b[36m \u001b[39m\u001b[32mIn[1]\u001b[39m\u001b[32m, line 2\u001b[39m\n\u001b[32m      1\u001b[39m \u001b[38;5;28mprint\u001b[39m(\u001b[33m\"\u001b[39m\u001b[33mhello world\u001b[39m\u001b[33m\"\u001b[39m)\n\u001b[32m----> \u001b[39m\u001b[32m2\u001b[39m \u001b[43ms\u001b[49m\n",
      "\u001b[31mNameError\u001b[39m: name 's' is not defined"
     ]
    }
   ],
   "source": [
    "print(\"hello world\")\n",
    "s"
   ]
  },
  {
   "cell_type": "code",
   "execution_count": null,
   "id": "815ca1b4",
   "metadata": {},
   "outputs": [],
   "source": []
  }
 ],
 "metadata": {
  "kernelspec": {
   "display_name": "Python 3",
   "language": "python",
   "name": "python3"
  },
  "language_info": {
   "codemirror_mode": {
    "name": "ipython",
    "version": 3
   },
   "file_extension": ".py",
   "mimetype": "text/x-python",
   "name": "python",
   "nbconvert_exporter": "python",
   "pygments_lexer": "ipython3",
   "version": "3.13.7"
  }
 },
 "nbformat": 4,
 "nbformat_minor": 5
}
