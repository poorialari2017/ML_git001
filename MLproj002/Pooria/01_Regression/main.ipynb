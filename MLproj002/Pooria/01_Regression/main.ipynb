{
 "cells": [
  {
   "cell_type": "code",
   "id": "initial_id",
   "metadata": {
    "collapsed": true,
    "ExecuteTime": {
     "end_time": "2025-09-19T11:42:48.802511Z",
     "start_time": "2025-09-19T11:42:48.768005Z"
    }
   },
   "source": [
    "from statistics import linear_regression\n",
    "\n",
    "import numpy as np\n",
    "import pandas as pd\n",
    "import matplotlib.pyplot as plt\n",
    "from sklearn.linear_model import LinearRegression\n",
    "from sklearn.model_selection import train_test_split\n"
   ],
   "outputs": [],
   "execution_count": 19
  },
  {
   "metadata": {
    "ExecuteTime": {
     "end_time": "2025-09-19T11:42:48.812693Z",
     "start_time": "2025-09-19T11:42:48.809009Z"
    }
   },
   "cell_type": "code",
   "source": [
    "# data\n",
    "# y = x*2 - 1\n",
    "\n",
    "x = np.array([1, 2, 3, 4, 5])\n",
    "y = np.array([1, 3, 5, 7, 9])"
   ],
   "id": "b8e740a7c0a7c1c9",
   "outputs": [],
   "execution_count": 20
  },
  {
   "metadata": {
    "ExecuteTime": {
     "end_time": "2025-09-19T11:42:48.876669Z",
     "start_time": "2025-09-19T11:42:48.823383Z"
    }
   },
   "cell_type": "code",
   "source": [
    "# plot\n",
    "\n",
    "plt.plot(x, y,'o')\n",
    "plt.show()"
   ],
   "id": "667418dd12fbfe23",
   "outputs": [
    {
     "data": {
      "text/plain": [
       "<Figure size 640x480 with 1 Axes>"
      ],
      "image/png": "[encoded data removed]"
     },
     "metadata": {},
     "output_type": "display_data"
    }
   ],
   "execution_count": 21
  },
  {
   "metadata": {
    "ExecuteTime": {
     "end_time": "2025-09-19T11:42:48.888203Z",
     "start_time": "2025-09-19T11:42:48.885357Z"
    }
   },
   "cell_type": "code",
   "source": [
    "## p داده ها شبی به خط هست\n",
    "# p این دستور خطا میدهد چون ارایه چند بعدی دریافت میشه و باید ریشیپ بشه\n",
    "\n",
    "#model = LinearRegression()\n",
    "#model.fit(x,y)"
   ],
   "id": "21f6e0887bc20137",
   "outputs": [],
   "execution_count": 22
  },
  {
   "metadata": {
    "ExecuteTime": {
     "end_time": "2025-09-19T11:42:48.910158Z",
     "start_time": "2025-09-19T11:42:48.907389Z"
    }
   },
   "cell_type": "code",
   "source": "x",
   "id": "1b6033ce1e38912a",
   "outputs": [
    {
     "data": {
      "text/plain": [
       "array([1, 2, 3, 4, 5])"
      ]
     },
     "execution_count": 23,
     "metadata": {},
     "output_type": "execute_result"
    }
   ],
   "execution_count": 23
  },
  {
   "metadata": {
    "ExecuteTime": {
     "end_time": "2025-09-19T11:42:48.928479Z",
     "start_time": "2025-09-19T11:42:48.925463Z"
    }
   },
   "cell_type": "code",
   "source": [
    "x = np.array([1, 2, 3, 4, 5]).reshape(-1,1)\n",
    "x.shape"
   ],
   "id": "1e59bfab6dc5db49",
   "outputs": [
    {
     "data": {
      "text/plain": [
       "(5, 1)"
      ]
     },
     "execution_count": 24,
     "metadata": {},
     "output_type": "execute_result"
    }
   ],
   "execution_count": 24
  },
  {
   "metadata": {
    "ExecuteTime": {
     "end_time": "2025-09-19T11:42:48.969940Z",
     "start_time": "2025-09-19T11:42:48.966056Z"
    }
   },
   "cell_type": "code",
   "source": "x",
   "id": "31e00460a82d8c6",
   "outputs": [
    {
     "data": {
      "text/plain": [
       "array([[1],\n",
       "       [2],\n",
       "       [3],\n",
       "       [4],\n",
       "       [5]])"
      ]
     },
     "execution_count": 25,
     "metadata": {},
     "output_type": "execute_result"
    }
   ],
   "execution_count": 25
  },
  {
   "metadata": {
    "ExecuteTime": {
     "end_time": "2025-09-19T11:42:49.011489Z",
     "start_time": "2025-09-19T11:42:49.010067Z"
    }
   },
   "cell_type": "code",
   "source": "",
   "id": "43f9c91178c195bc",
   "outputs": [],
   "execution_count": null
  }
 ],
 "metadata": {
  "kernelspec": {
   "display_name": "Python 3",
   "language": "python",
   "name": "python3"
  },
  "language_info": {
   "codemirror_mode": {
    "name": "ipython",
    "version": 2
   },
   "file_extension": ".py",
   "mimetype": "text/x-python",
   "name": "python",
   "nbconvert_exporter": "python",
   "pygments_lexer": "ipython2",
   "version": "2.7.6"
  }
 },
 "nbformat": 4,
 "nbformat_minor": 5
}
