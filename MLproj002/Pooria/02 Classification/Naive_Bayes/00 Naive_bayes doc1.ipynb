{
 "cells": [
  {
   "cell_type": "code",
   "execution_count": 1,
   "id": "2aeb162cce61c060",
   "metadata": {
    "ExecuteTime": {
     "end_time": "2025-09-21T10:49:13.635819Z",
     "start_time": "2025-09-21T10:49:13.434690Z"
    }
   },
   "outputs": [],
   "source": [
    "import numpy as np\n",
    "import pandas as pd"
   ]
  },
  {
   "cell_type": "code",
   "execution_count": 16,
   "id": "8ac9de4a3f08e8b",
   "metadata": {
    "ExecuteTime": {
     "end_time": "2025-09-21T11:03:02.861123Z",
     "start_time": "2025-09-21T11:03:02.855148Z"
    }
   },
   "outputs": [
    {
     "name": "stdout",
     "output_type": "stream",
     "text": [
      "<class 'pandas.core.frame.DataFrame'>\n",
      "<class 'numpy.ndarray'>\n"
     ]
    }
   ],
   "source": [
    "df = pd.read_csv(\"../../00 DATA/diabetes.csv\")\n",
    "df.shape\n",
    "df['Outcome'].value_counts()\n",
    "# حالا باید x را بسازیم که میشه کل جدول بدون جدول outcom و y میشود outcom\n",
    "x = df.drop(columns=['Outcome'])\n",
    "y = df['Outcome']\n",
    "# حالا باید ایکس رو از جدلو خارج و به ارایه تبدیل کنیم\n",
    "print(type(x))\n",
    "x = np.array(x)\n",
    "print(type(x))\n",
    "y = np.array(y)"
   ]
  },
  {
   "cell_type": "markdown",
   "id": "1f52cf2cccb8cba2",
   "metadata": {},
   "source": [
    "# Normalize"
   ]
  },
  {
   "cell_type": "code",
   "execution_count": 3,
   "id": "46b297c457e247e0",
   "metadata": {
    "ExecuteTime": {
     "end_time": "2025-09-21T10:49:17.727359Z",
     "start_time": "2025-09-21T10:49:13.914514Z"
    }
   },
   "outputs": [],
   "source": [
    "from sklearn.preprocessing import StandardScaler\n",
    "scaler = StandardScaler()\n",
    "x = scaler.fit_transform(x)"
   ]
  },
  {
   "cell_type": "markdown",
   "id": "bb4154efb3e52a9",
   "metadata": {},
   "source": [
    "# Train / Test\n"
   ]
  },
  {
   "cell_type": "code",
   "execution_count": 4,
   "id": "85fbc5012e8b424b",
   "metadata": {
    "ExecuteTime": {
     "end_time": "2025-09-21T10:49:17.922232Z",
     "start_time": "2025-09-21T10:49:17.741848Z"
    }
   },
   "outputs": [
    {
     "data": {
      "text/plain": [
       "((614, 8), (154, 8), (614,), (154,))"
      ]
     },
     "execution_count": 4,
     "metadata": {},
     "output_type": "execute_result"
    }
   ],
   "source": [
    "from sklearn.model_selection import train_test_split\n",
    "x_train, x_test, y_train, y_test = train_test_split(x, y, test_size=0.2, random_state=42)\n",
    "x_train.shape, x_test.shape, y_train.shape, y_test.shape"
   ]
  },
  {
   "cell_type": "markdown",
   "id": "9f9fefbe959345b6",
   "metadata": {},
   "source": [
    "# Naive bayes"
   ]
  },
  {
   "cell_type": "code",
   "execution_count": null,
   "id": "8ccf36815960d764",
   "metadata": {
    "ExecuteTime": {
     "end_time": "2025-09-21T10:49:17.980181Z",
     "start_time": "2025-09-21T10:49:17.932003Z"
    }
   },
   "outputs": [],
   "source": [
    "from sklearn.naive_bayes import GaussianNB\n",
    "model = GaussianNB()\n",
    "model.fit(x_train, y_train)"
   ]
  },
  {
   "cell_type": "code",
   "execution_count": 6,
   "id": "a1708404e468ff07",
   "metadata": {
    "ExecuteTime": {
     "end_time": "2025-09-21T10:49:18.010474Z",
     "start_time": "2025-09-21T10:49:18.002412Z"
    }
   },
   "outputs": [],
   "source": [
    "# تست دقتش\n",
    "y_pred_train = model.predict(x_train)\n",
    "y_pred_test = model.predict(x_test)"
   ]
  },
  {
   "cell_type": "code",
   "execution_count": 7,
   "id": "72512c28744cc94f",
   "metadata": {
    "ExecuteTime": {
     "end_time": "2025-09-21T10:49:18.029458Z",
     "start_time": "2025-09-21T10:49:18.024508Z"
    }
   },
   "outputs": [
    {
     "name": "stdout",
     "output_type": "stream",
     "text": [
      "0.752442996742671\n",
      "0.7662337662337663\n"
     ]
    }
   ],
   "source": [
    "from sklearn.metrics import accuracy_score\n",
    "\n",
    "accuracy_train = accuracy_score(y_true=y_train, y_pred=y_pred_train)\n",
    "accuracy_test = accuracy_score(y_true=y_test, y_pred=y_pred_test)\n",
    "print(accuracy_train)\n",
    "print(accuracy_test)"
   ]
  },
  {
   "cell_type": "code",
   "execution_count": 8,
   "id": "bc360241d563afe0",
   "metadata": {
    "ExecuteTime": {
     "end_time": "2025-09-21T10:49:18.059401Z",
     "start_time": "2025-09-21T10:49:18.043430Z"
    }
   },
   "outputs": [
    {
     "name": "stdout",
     "output_type": "stream",
     "text": [
      "[[79 20]\n",
      " [16 39]]\n"
     ]
    }
   ],
   "source": [
    "from sklearn.metrics import confusion_matrix\n",
    "cm = confusion_matrix(y_true=y_test, y_pred=y_pred_test)\n",
    "print(cm)"
   ]
  },
  {
   "cell_type": "code",
   "execution_count": 9,
   "id": "e1b08edf95922ffe",
   "metadata": {
    "ExecuteTime": {
     "end_time": "2025-09-21T10:49:18.078630Z",
     "start_time": "2025-09-21T10:49:18.072322Z"
    }
   },
   "outputs": [
    {
     "name": "stdout",
     "output_type": "stream",
     "text": [
      "0.7090909090909091\n",
      "0.6610169491525424\n"
     ]
    }
   ],
   "source": [
    "from sklearn.metrics import recall_score\n",
    "recall_score = recall_score(y_true=y_test, y_pred=y_pred_test)\n",
    "print(recall_score)\n",
    "from sklearn.metrics import precision_score\n",
    "precision_score = precision_score(y_true=y_test, y_pred=y_pred_test)\n",
    "print(precision_score)\n"
   ]
  },
  {
   "cell_type": "code",
   "execution_count": null,
   "id": "fb73632c3c8e0b6a",
   "metadata": {
    "ExecuteTime": {
     "end_time": "2025-09-21T10:49:18.098517Z",
     "start_time": "2025-09-21T10:49:18.096631Z"
    }
   },
   "outputs": [],
   "source": []
  }
 ],
 "metadata": {
  "kernelspec": {
   "display_name": "Python 3",
   "language": "python",
   "name": "python3"
  },
  "language_info": {
   "codemirror_mode": {
    "name": "ipython",
    "version": 3
   },
   "file_extension": ".py",
   "mimetype": "text/x-python",
   "name": "python",
   "nbconvert_exporter": "python",
   "pygments_lexer": "ipython3",
   "version": "3.13.8"
  }
 },
 "nbformat": 4,
 "nbformat_minor": 5
}
