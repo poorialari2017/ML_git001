{
 "cells": [
  {
   "metadata": {},
   "cell_type": "markdown",
   "source": "Definition of libraries and resources\n",
   "id": "a0bc5762c80dd9d3"
  },
  {
   "cell_type": "code",
   "id": "initial_id",
   "metadata": {
    "collapsed": true,
    "ExecuteTime": {
     "end_time": "2025-09-21T11:03:58.710090Z",
     "start_time": "2025-09-21T11:03:58.705094Z"
    }
   },
   "source": [
    "import numpy as np\n",
    "import matplotlib.pyplot as plt\n",
    "import pandas as pd\n",
    "from sklearn.preprocessing import StandardScaler\n",
    "from sklearn.model_selection import train_test_split\n",
    "diabetes_dataset = pd.read_csv('../../00 DATA/diabetes.csv')\n",
    "#diabetes_dataset.head()"
   ],
   "outputs": [],
   "execution_count": 26
  },
  {
   "metadata": {},
   "cell_type": "markdown",
   "source": "Assigning values to x and y / Normalize / train / test",
   "id": "d02a1fb33f935f6b"
  },
  {
   "metadata": {
    "ExecuteTime": {
     "end_time": "2025-09-21T11:03:57.463948Z",
     "start_time": "2025-09-21T11:03:57.460273Z"
    }
   },
   "cell_type": "code",
   "source": [
    "x = diabetes_dataset.iloc[:, :-1].values\n",
    "#x = np.array(x)\n",
    "y = diabetes_dataset.iloc[:, -1].values\n",
    "#y = np.array(y)\n",
    "sc = StandardScaler()\n",
    "x = sc.fit_transform(x)\n",
    "x_train, x_test, y_train, y_test = train_test_split(x, y, test_size = 0.2, random_state = 0)"
   ],
   "id": "9d7df2863fa593a6",
   "outputs": [],
   "execution_count": 25
  },
  {
   "metadata": {},
   "cell_type": "markdown",
   "source": "",
   "id": "f450d12450ea31fb"
  },
  {
   "metadata": {
    "ExecuteTime": {
     "end_time": "2025-09-21T11:02:09.949475Z",
     "start_time": "2025-09-21T11:02:09.948003Z"
    }
   },
   "cell_type": "code",
   "source": "",
   "id": "f0a1de6eddd7757a",
   "outputs": [],
   "execution_count": null
  },
  {
   "metadata": {
    "ExecuteTime": {
     "end_time": "2025-09-21T11:02:09.974261Z",
     "start_time": "2025-09-21T11:02:09.972048Z"
    }
   },
   "cell_type": "code",
   "source": "",
   "id": "8f59a5845dec197d",
   "outputs": [],
   "execution_count": null
  }
 ],
 "metadata": {
  "kernelspec": {
   "display_name": "Python 3",
   "language": "python",
   "name": "python3"
  },
  "language_info": {
   "codemirror_mode": {
    "name": "ipython",
    "version": 2
   },
   "file_extension": ".py",
   "mimetype": "text/x-python",
   "name": "python",
   "nbconvert_exporter": "python",
   "pygments_lexer": "ipython2",
   "version": "2.7.6"
  }
 },
 "nbformat": 4,
 "nbformat_minor": 5
}
