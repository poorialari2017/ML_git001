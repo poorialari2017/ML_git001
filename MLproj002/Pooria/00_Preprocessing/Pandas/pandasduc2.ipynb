{
 "cells": [
  {
   "cell_type": "code",
   "id": "initial_id",
   "metadata": {
    "collapsed": true,
    "ExecuteTime": {
     "end_time": "2025-09-18T07:37:45.643735Z",
     "start_time": "2025-09-18T07:37:45.641125Z"
    }
   },
   "source": [
    "import pandas as pd\n",
    "import numpy as np"
   ],
   "outputs": [],
   "execution_count": 23
  },
  {
   "metadata": {
    "ExecuteTime": {
     "end_time": "2025-09-18T07:37:45.658605Z",
     "start_time": "2025-09-18T07:37:45.655532Z"
    }
   },
   "cell_type": "code",
   "source": [
    "data = {\n",
    "    'a': [1, 2, 3],\n",
    "    'b': [4, 5, 6],\n",
    "    'c': [7, 8, 9],\n",
    "    'd': [10, 11, 12],\n",
    "}\n"
   ],
   "id": "dc03a7f52e08fd25",
   "outputs": [],
   "execution_count": 24
  },
  {
   "metadata": {
    "ExecuteTime": {
     "end_time": "2025-09-18T07:37:45.682475Z",
     "start_time": "2025-09-18T07:37:45.678746Z"
    }
   },
   "cell_type": "code",
   "source": "df = pd.DataFrame(data)",
   "id": "fe7a1ac2e5eb071d",
   "outputs": [],
   "execution_count": 25
  },
  {
   "metadata": {
    "ExecuteTime": {
     "end_time": "2025-09-18T07:37:45.705771Z",
     "start_time": "2025-09-18T07:37:45.698791Z"
    }
   },
   "cell_type": "code",
   "source": "df\n",
   "id": "5383ab309ad8c041",
   "outputs": [
    {
     "data": {
      "text/plain": [
       "   a  b  c   d\n",
       "0  1  4  7  10\n",
       "1  2  5  8  11\n",
       "2  3  6  9  12"
      ],
      "text/html": [
       "<div>\n",
       "<style scoped>\n",
       "    .dataframe tbody tr th:only-of-type {\n",
       "        vertical-align: middle;\n",
       "    }\n",
       "\n",
       "    .dataframe tbody tr th {\n",
       "        vertical-align: top;\n",
       "    }\n",
       "\n",
       "    .dataframe thead th {\n",
       "        text-align: right;\n",
       "    }\n",
       "</style>\n",
       "<table border=\"1\" class=\"dataframe\">\n",
       "  <thead>\n",
       "    <tr style=\"text-align: right;\">\n",
       "      <th></th>\n",
       "      <th>a</th>\n",
       "      <th>b</th>\n",
       "      <th>c</th>\n",
       "      <th>d</th>\n",
       "    </tr>\n",
       "  </thead>\n",
       "  <tbody>\n",
       "    <tr>\n",
       "      <th>0</th>\n",
       "      <td>1</td>\n",
       "      <td>4</td>\n",
       "      <td>7</td>\n",
       "      <td>10</td>\n",
       "    </tr>\n",
       "    <tr>\n",
       "      <th>1</th>\n",
       "      <td>2</td>\n",
       "      <td>5</td>\n",
       "      <td>8</td>\n",
       "      <td>11</td>\n",
       "    </tr>\n",
       "    <tr>\n",
       "      <th>2</th>\n",
       "      <td>3</td>\n",
       "      <td>6</td>\n",
       "      <td>9</td>\n",
       "      <td>12</td>\n",
       "    </tr>\n",
       "  </tbody>\n",
       "</table>\n",
       "</div>"
      ]
     },
     "execution_count": 26,
     "metadata": {},
     "output_type": "execute_result"
    }
   ],
   "execution_count": 26
  },
  {
   "metadata": {
    "ExecuteTime": {
     "end_time": "2025-09-18T07:38:28.686257Z",
     "start_time": "2025-09-18T07:38:28.683231Z"
    }
   },
   "cell_type": "code",
   "source": "index = ['radif1', 'radif2', 'radif3']",
   "id": "37cc4e53b3c81284",
   "outputs": [],
   "execution_count": 29
  },
  {
   "metadata": {
    "ExecuteTime": {
     "end_time": "2025-09-18T07:38:29.470161Z",
     "start_time": "2025-09-18T07:38:29.462473Z"
    }
   },
   "cell_type": "code",
   "source": [
    "df = pd.DataFrame(data, index=index)\n",
    "df"
   ],
   "id": "513c65de999fd932",
   "outputs": [
    {
     "data": {
      "text/plain": [
       "        a  b  c   d\n",
       "radif1  1  4  7  10\n",
       "radif2  2  5  8  11\n",
       "radif3  3  6  9  12"
      ],
      "text/html": [
       "<div>\n",
       "<style scoped>\n",
       "    .dataframe tbody tr th:only-of-type {\n",
       "        vertical-align: middle;\n",
       "    }\n",
       "\n",
       "    .dataframe tbody tr th {\n",
       "        vertical-align: top;\n",
       "    }\n",
       "\n",
       "    .dataframe thead th {\n",
       "        text-align: right;\n",
       "    }\n",
       "</style>\n",
       "<table border=\"1\" class=\"dataframe\">\n",
       "  <thead>\n",
       "    <tr style=\"text-align: right;\">\n",
       "      <th></th>\n",
       "      <th>a</th>\n",
       "      <th>b</th>\n",
       "      <th>c</th>\n",
       "      <th>d</th>\n",
       "    </tr>\n",
       "  </thead>\n",
       "  <tbody>\n",
       "    <tr>\n",
       "      <th>radif1</th>\n",
       "      <td>1</td>\n",
       "      <td>4</td>\n",
       "      <td>7</td>\n",
       "      <td>10</td>\n",
       "    </tr>\n",
       "    <tr>\n",
       "      <th>radif2</th>\n",
       "      <td>2</td>\n",
       "      <td>5</td>\n",
       "      <td>8</td>\n",
       "      <td>11</td>\n",
       "    </tr>\n",
       "    <tr>\n",
       "      <th>radif3</th>\n",
       "      <td>3</td>\n",
       "      <td>6</td>\n",
       "      <td>9</td>\n",
       "      <td>12</td>\n",
       "    </tr>\n",
       "  </tbody>\n",
       "</table>\n",
       "</div>"
      ]
     },
     "execution_count": 30,
     "metadata": {},
     "output_type": "execute_result"
    }
   ],
   "execution_count": 30
  },
  {
   "metadata": {},
   "cell_type": "markdown",
   "source": "",
   "id": "2a0940048c5853ce"
  },
  {
   "metadata": {
    "ExecuteTime": {
     "end_time": "2025-09-18T07:38:36.761652Z",
     "start_time": "2025-09-18T07:38:36.752355Z"
    }
   },
   "cell_type": "code",
   "source": [
    "data2 ={\n",
    "\n",
    "    'نام': ['علی', 'رضا', 'سارا', 'نازنین'],\n",
    "    'سن': [25, 30, 22, 28],\n",
    "    'شهر': ['تهران', 'مشهد', 'اصفهان', 'شیراز'],\n",
    "    'امتیاز': [85, 92, 78, 88]\n",
    "}\n",
    "\n",
    "df = pd.DataFrame(data2)\n",
    "df"
   ],
   "id": "df9ee8c92e2912e6",
   "outputs": [
    {
     "data": {
      "text/plain": [
       "      نام  سن     شهر  امتیاز\n",
       "0     علی  25   تهران      85\n",
       "1     رضا  30    مشهد      92\n",
       "2    سارا  22  اصفهان      78\n",
       "3  نازنین  28   شیراز      88"
      ],
      "text/html": [
       "<div>\n",
       "<style scoped>\n",
       "    .dataframe tbody tr th:only-of-type {\n",
       "        vertical-align: middle;\n",
       "    }\n",
       "\n",
       "    .dataframe tbody tr th {\n",
       "        vertical-align: top;\n",
       "    }\n",
       "\n",
       "    .dataframe thead th {\n",
       "        text-align: right;\n",
       "    }\n",
       "</style>\n",
       "<table border=\"1\" class=\"dataframe\">\n",
       "  <thead>\n",
       "    <tr style=\"text-align: right;\">\n",
       "      <th></th>\n",
       "      <th>نام</th>\n",
       "      <th>سن</th>\n",
       "      <th>شهر</th>\n",
       "      <th>امتیاز</th>\n",
       "    </tr>\n",
       "  </thead>\n",
       "  <tbody>\n",
       "    <tr>\n",
       "      <th>0</th>\n",
       "      <td>علی</td>\n",
       "      <td>25</td>\n",
       "      <td>تهران</td>\n",
       "      <td>85</td>\n",
       "    </tr>\n",
       "    <tr>\n",
       "      <th>1</th>\n",
       "      <td>رضا</td>\n",
       "      <td>30</td>\n",
       "      <td>مشهد</td>\n",
       "      <td>92</td>\n",
       "    </tr>\n",
       "    <tr>\n",
       "      <th>2</th>\n",
       "      <td>سارا</td>\n",
       "      <td>22</td>\n",
       "      <td>اصفهان</td>\n",
       "      <td>78</td>\n",
       "    </tr>\n",
       "    <tr>\n",
       "      <th>3</th>\n",
       "      <td>نازنین</td>\n",
       "      <td>28</td>\n",
       "      <td>شیراز</td>\n",
       "      <td>88</td>\n",
       "    </tr>\n",
       "  </tbody>\n",
       "</table>\n",
       "</div>"
      ]
     },
     "execution_count": 31,
     "metadata": {},
     "output_type": "execute_result"
    }
   ],
   "execution_count": 31
  },
  {
   "metadata": {
    "ExecuteTime": {
     "end_time": "2025-09-18T07:38:56.657396Z",
     "start_time": "2025-09-18T07:38:56.648558Z"
    }
   },
   "cell_type": "code",
   "source": [
    "\n",
    "df = pd.DataFrame(data)\n",
    "print(\"دیتافریم اصلی:\")\n",
    "print(df)\n",
    "print(\"\\n\" + \"=\"*50 + \"\\n\")"
   ],
   "id": "7776a5b14d99a6fe",
   "outputs": [
    {
     "name": "stdout",
     "output_type": "stream",
     "text": [
      "دیتافریم اصلی:\n",
      "   a  b  c   d\n",
      "0  1  4  7  10\n",
      "1  2  5  8  11\n",
      "2  3  6  9  12\n",
      "\n",
      "==================================================\n",
      "\n"
     ]
    }
   ],
   "execution_count": 32
  },
  {
   "metadata": {
    "ExecuteTime": {
     "end_time": "2025-09-18T07:39:58.961509Z",
     "start_time": "2025-09-18T07:39:58.928851Z"
    }
   },
   "cell_type": "code",
   "source": [
    "print(\"اطلاعات دیتافریم:\")\n",
    "print(df.info())\n",
    "\n",
    "print(\"\\nاولین ۲ سطر:\")\n",
    "print(df.head(2))\n",
    "\n",
    "print(\"\\nآمار توصیفی:\")\n",
    "print(df.describe())"
   ],
   "id": "37024d3c9331fc9c",
   "outputs": [
    {
     "name": "stdout",
     "output_type": "stream",
     "text": [
      "اطلاعات دیتافریم:\n",
      "<class 'pandas.core.frame.DataFrame'>\n",
      "RangeIndex: 3 entries, 0 to 2\n",
      "Data columns (total 4 columns):\n",
      " #   Column  Non-Null Count  Dtype\n",
      "---  ------  --------------  -----\n",
      " 0   a       3 non-null      int64\n",
      " 1   b       3 non-null      int64\n",
      " 2   c       3 non-null      int64\n",
      " 3   d       3 non-null      int64\n",
      "dtypes: int64(4)\n",
      "memory usage: 228.0 bytes\n",
      "None\n",
      "\n",
      "اولین ۲ سطر:\n",
      "   a  b  c   d\n",
      "0  1  4  7  10\n",
      "1  2  5  8  11\n",
      "\n",
      "آمار توصیفی:\n",
      "         a    b    c     d\n",
      "count  3.0  3.0  3.0   3.0\n",
      "mean   2.0  5.0  8.0  11.0\n",
      "std    1.0  1.0  1.0   1.0\n",
      "min    1.0  4.0  7.0  10.0\n",
      "25%    1.5  4.5  7.5  10.5\n",
      "50%    2.0  5.0  8.0  11.0\n",
      "75%    2.5  5.5  8.5  11.5\n",
      "max    3.0  6.0  9.0  12.0\n"
     ]
    }
   ],
   "execution_count": 33
  },
  {
   "metadata": {},
   "cell_type": "markdown",
   "source": "### select data",
   "id": "c2cf4396c949cd"
  },
  {
   "metadata": {
    "ExecuteTime": {
     "end_time": "2025-09-18T08:43:47.838093Z",
     "start_time": "2025-09-18T08:43:47.833974Z"
    }
   },
   "cell_type": "code",
   "source": "df = pd.DataFrame(data2)",
   "id": "7535163b833a91d7",
   "outputs": [],
   "execution_count": 43
  },
  {
   "metadata": {
    "ExecuteTime": {
     "end_time": "2025-09-18T08:44:10.231549Z",
     "start_time": "2025-09-18T08:44:10.225928Z"
    }
   },
   "cell_type": "code",
   "source": [
    "age = df['سن']\n",
    "age"
   ],
   "id": "6dac84a237c37ff1",
   "outputs": [
    {
     "data": {
      "text/plain": [
       "0    25\n",
       "1    30\n",
       "2    22\n",
       "3    28\n",
       "Name: سن, dtype: int64"
      ]
     },
     "execution_count": 45,
     "metadata": {},
     "output_type": "execute_result"
    }
   ],
   "execution_count": 45
  },
  {
   "metadata": {
    "ExecuteTime": {
     "end_time": "2025-09-18T08:47:17.521349Z",
     "start_time": "2025-09-18T08:47:17.513539Z"
    }
   },
   "cell_type": "code",
   "source": [
    "sunset = df [['نام', 'شهر']]\n",
    "sunset"
   ],
   "id": "44d379322332a621",
   "outputs": [
    {
     "data": {
      "text/plain": [
       "      نام     شهر\n",
       "0     علی   تهران\n",
       "1     رضا    مشهد\n",
       "2    سارا  اصفهان\n",
       "3  نازنین   شیراز"
      ],
      "text/html": [
       "<div>\n",
       "<style scoped>\n",
       "    .dataframe tbody tr th:only-of-type {\n",
       "        vertical-align: middle;\n",
       "    }\n",
       "\n",
       "    .dataframe tbody tr th {\n",
       "        vertical-align: top;\n",
       "    }\n",
       "\n",
       "    .dataframe thead th {\n",
       "        text-align: right;\n",
       "    }\n",
       "</style>\n",
       "<table border=\"1\" class=\"dataframe\">\n",
       "  <thead>\n",
       "    <tr style=\"text-align: right;\">\n",
       "      <th></th>\n",
       "      <th>نام</th>\n",
       "      <th>شهر</th>\n",
       "    </tr>\n",
       "  </thead>\n",
       "  <tbody>\n",
       "    <tr>\n",
       "      <th>0</th>\n",
       "      <td>علی</td>\n",
       "      <td>تهران</td>\n",
       "    </tr>\n",
       "    <tr>\n",
       "      <th>1</th>\n",
       "      <td>رضا</td>\n",
       "      <td>مشهد</td>\n",
       "    </tr>\n",
       "    <tr>\n",
       "      <th>2</th>\n",
       "      <td>سارا</td>\n",
       "      <td>اصفهان</td>\n",
       "    </tr>\n",
       "    <tr>\n",
       "      <th>3</th>\n",
       "      <td>نازنین</td>\n",
       "      <td>شیراز</td>\n",
       "    </tr>\n",
       "  </tbody>\n",
       "</table>\n",
       "</div>"
      ]
     },
     "execution_count": 48,
     "metadata": {},
     "output_type": "execute_result"
    }
   ],
   "execution_count": 48
  },
  {
   "metadata": {
    "ExecuteTime": {
     "end_time": "2025-09-18T08:48:13.474747Z",
     "start_time": "2025-09-18T08:48:13.467504Z"
    }
   },
   "cell_type": "code",
   "source": [
    "print(\"سطر اول:\")\n",
    "print(df.iloc[0])\n",
    "\n",
    "print(\"\\nسطرهای ۱ تا ۳:\")\n",
    "print(df.iloc[1:3])\n",
    "\n",
    "# انتخاب با loc (بر اساس label)\n",
    "print(\"\\nسطرهای بر اساس label:\")\n",
    "print(df.loc[0:2])"
   ],
   "id": "7c9e4aa85f07f0e8",
   "outputs": [
    {
     "name": "stdout",
     "output_type": "stream",
     "text": [
      "سطر اول:\n",
      "نام         علی\n",
      "سن           25\n",
      "شهر       تهران\n",
      "امتیاز       85\n",
      "Name: 0, dtype: object\n",
      "\n",
      "سطرهای ۱ تا ۳:\n",
      "    نام  سن     شهر  امتیاز\n",
      "1   رضا  30    مشهد      92\n",
      "2  سارا  22  اصفهان      78\n",
      "\n",
      "سطرهای بر اساس label:\n",
      "    نام  سن     شهر  امتیاز\n",
      "0   علی  25   تهران      85\n",
      "1   رضا  30    مشهد      92\n",
      "2  سارا  22  اصفهان      78\n"
     ]
    }
   ],
   "execution_count": 49
  },
  {
   "metadata": {
    "ExecuteTime": {
     "end_time": "2025-09-18T08:50:17.387627Z",
     "start_time": "2025-09-18T08:50:17.379756Z"
    }
   },
   "cell_type": "code",
   "source": [
    "ex1 = df[['نام','امتیاز']]\n",
    "ex2 = df.loc[2:3]\n",
    "ex2"
   ],
   "id": "77f95aab3197c0cb",
   "outputs": [
    {
     "data": {
      "text/plain": [
       "      نام  سن     شهر  امتیاز\n",
       "2    سارا  22  اصفهان      78\n",
       "3  نازنین  28   شیراز      88"
      ],
      "text/html": [
       "<div>\n",
       "<style scoped>\n",
       "    .dataframe tbody tr th:only-of-type {\n",
       "        vertical-align: middle;\n",
       "    }\n",
       "\n",
       "    .dataframe tbody tr th {\n",
       "        vertical-align: top;\n",
       "    }\n",
       "\n",
       "    .dataframe thead th {\n",
       "        text-align: right;\n",
       "    }\n",
       "</style>\n",
       "<table border=\"1\" class=\"dataframe\">\n",
       "  <thead>\n",
       "    <tr style=\"text-align: right;\">\n",
       "      <th></th>\n",
       "      <th>نام</th>\n",
       "      <th>سن</th>\n",
       "      <th>شهر</th>\n",
       "      <th>امتیاز</th>\n",
       "    </tr>\n",
       "  </thead>\n",
       "  <tbody>\n",
       "    <tr>\n",
       "      <th>2</th>\n",
       "      <td>سارا</td>\n",
       "      <td>22</td>\n",
       "      <td>اصفهان</td>\n",
       "      <td>78</td>\n",
       "    </tr>\n",
       "    <tr>\n",
       "      <th>3</th>\n",
       "      <td>نازنین</td>\n",
       "      <td>28</td>\n",
       "      <td>شیراز</td>\n",
       "      <td>88</td>\n",
       "    </tr>\n",
       "  </tbody>\n",
       "</table>\n",
       "</div>"
      ]
     },
     "execution_count": 52,
     "metadata": {},
     "output_type": "execute_result"
    }
   ],
   "execution_count": 52
  },
  {
   "metadata": {
    "ExecuteTime": {
     "end_time": "2025-09-18T09:03:46.305743Z",
     "start_time": "2025-09-18T09:03:46.295982Z"
    }
   },
   "cell_type": "code",
   "source": "df",
   "id": "f945cebc90c4d6c2",
   "outputs": [
    {
     "data": {
      "text/plain": [
       "      نام  سن     شهر  امتیاز\n",
       "0     علی  25   تهران      85\n",
       "1     رضا  30    مشهد      92\n",
       "2    سارا  22  اصفهان      78\n",
       "3  نازنین  28   شیراز      88"
      ],
      "text/html": [
       "<div>\n",
       "<style scoped>\n",
       "    .dataframe tbody tr th:only-of-type {\n",
       "        vertical-align: middle;\n",
       "    }\n",
       "\n",
       "    .dataframe tbody tr th {\n",
       "        vertical-align: top;\n",
       "    }\n",
       "\n",
       "    .dataframe thead th {\n",
       "        text-align: right;\n",
       "    }\n",
       "</style>\n",
       "<table border=\"1\" class=\"dataframe\">\n",
       "  <thead>\n",
       "    <tr style=\"text-align: right;\">\n",
       "      <th></th>\n",
       "      <th>نام</th>\n",
       "      <th>سن</th>\n",
       "      <th>شهر</th>\n",
       "      <th>امتیاز</th>\n",
       "    </tr>\n",
       "  </thead>\n",
       "  <tbody>\n",
       "    <tr>\n",
       "      <th>0</th>\n",
       "      <td>علی</td>\n",
       "      <td>25</td>\n",
       "      <td>تهران</td>\n",
       "      <td>85</td>\n",
       "    </tr>\n",
       "    <tr>\n",
       "      <th>1</th>\n",
       "      <td>رضا</td>\n",
       "      <td>30</td>\n",
       "      <td>مشهد</td>\n",
       "      <td>92</td>\n",
       "    </tr>\n",
       "    <tr>\n",
       "      <th>2</th>\n",
       "      <td>سارا</td>\n",
       "      <td>22</td>\n",
       "      <td>اصفهان</td>\n",
       "      <td>78</td>\n",
       "    </tr>\n",
       "    <tr>\n",
       "      <th>3</th>\n",
       "      <td>نازنین</td>\n",
       "      <td>28</td>\n",
       "      <td>شیراز</td>\n",
       "      <td>88</td>\n",
       "    </tr>\n",
       "  </tbody>\n",
       "</table>\n",
       "</div>"
      ]
     },
     "execution_count": 54,
     "metadata": {},
     "output_type": "execute_result"
    }
   ],
   "execution_count": 54
  },
  {
   "metadata": {
    "ExecuteTime": {
     "end_time": "2025-09-18T09:05:03.004866Z",
     "start_time": "2025-09-18T09:05:02.996621Z"
    }
   },
   "cell_type": "code",
   "source": [
    "ex3 = df[df['سن']<= 25]\n",
    "ex3"
   ],
   "id": "ad05e6c3f565e34e",
   "outputs": [
    {
     "data": {
      "text/plain": [
       "    نام  سن     شهر  امتیاز\n",
       "0   علی  25   تهران      85\n",
       "2  سارا  22  اصفهان      78"
      ],
      "text/html": [
       "<div>\n",
       "<style scoped>\n",
       "    .dataframe tbody tr th:only-of-type {\n",
       "        vertical-align: middle;\n",
       "    }\n",
       "\n",
       "    .dataframe tbody tr th {\n",
       "        vertical-align: top;\n",
       "    }\n",
       "\n",
       "    .dataframe thead th {\n",
       "        text-align: right;\n",
       "    }\n",
       "</style>\n",
       "<table border=\"1\" class=\"dataframe\">\n",
       "  <thead>\n",
       "    <tr style=\"text-align: right;\">\n",
       "      <th></th>\n",
       "      <th>نام</th>\n",
       "      <th>سن</th>\n",
       "      <th>شهر</th>\n",
       "      <th>امتیاز</th>\n",
       "    </tr>\n",
       "  </thead>\n",
       "  <tbody>\n",
       "    <tr>\n",
       "      <th>0</th>\n",
       "      <td>علی</td>\n",
       "      <td>25</td>\n",
       "      <td>تهران</td>\n",
       "      <td>85</td>\n",
       "    </tr>\n",
       "    <tr>\n",
       "      <th>2</th>\n",
       "      <td>سارا</td>\n",
       "      <td>22</td>\n",
       "      <td>اصفهان</td>\n",
       "      <td>78</td>\n",
       "    </tr>\n",
       "  </tbody>\n",
       "</table>\n",
       "</div>"
      ]
     },
     "execution_count": 57,
     "metadata": {},
     "output_type": "execute_result"
    }
   ],
   "execution_count": 57
  },
  {
   "metadata": {
    "ExecuteTime": {
     "end_time": "2025-09-18T09:11:06.263332Z",
     "start_time": "2025-09-18T09:11:06.254385Z"
    }
   },
   "cell_type": "code",
   "source": [
    "ex4 = df[(df['سن']>= 26) & (df['شهر'] == 'مشهد')]\n",
    "ex4\n"
   ],
   "id": "53cd08295246cc39",
   "outputs": [
    {
     "data": {
      "text/plain": [
       "   نام  سن   شهر  امتیاز\n",
       "1  رضا  30  مشهد      92"
      ],
      "text/html": [
       "<div>\n",
       "<style scoped>\n",
       "    .dataframe tbody tr th:only-of-type {\n",
       "        vertical-align: middle;\n",
       "    }\n",
       "\n",
       "    .dataframe tbody tr th {\n",
       "        vertical-align: top;\n",
       "    }\n",
       "\n",
       "    .dataframe thead th {\n",
       "        text-align: right;\n",
       "    }\n",
       "</style>\n",
       "<table border=\"1\" class=\"dataframe\">\n",
       "  <thead>\n",
       "    <tr style=\"text-align: right;\">\n",
       "      <th></th>\n",
       "      <th>نام</th>\n",
       "      <th>سن</th>\n",
       "      <th>شهر</th>\n",
       "      <th>امتیاز</th>\n",
       "    </tr>\n",
       "  </thead>\n",
       "  <tbody>\n",
       "    <tr>\n",
       "      <th>1</th>\n",
       "      <td>رضا</td>\n",
       "      <td>30</td>\n",
       "      <td>مشهد</td>\n",
       "      <td>92</td>\n",
       "    </tr>\n",
       "  </tbody>\n",
       "</table>\n",
       "</div>"
      ]
     },
     "execution_count": 61,
     "metadata": {},
     "output_type": "execute_result"
    }
   ],
   "execution_count": 61
  },
  {
   "metadata": {
    "ExecuteTime": {
     "end_time": "2025-09-18T09:14:21.159062Z",
     "start_time": "2025-09-18T09:14:21.150821Z"
    }
   },
   "cell_type": "code",
   "source": [
    "# یک دیتافریم برای کتابخانه شخصی بساز\n",
    "books_data = {\n",
    "    'کتاب': ['پایتون مقدماتی', 'هوش مصنوعی', 'تحلیل داده', 'یادگیری ماشین'],\n",
    "    'نویسنده': ['احمدی', 'رضایی', 'محمدی', 'جعفری'],\n",
    "    'سال انتشار': [2020, 2019, 2021, 2022],\n",
    "    'قیمت': [50000, 75000, 60000, 90000],\n",
    "    'صفحات': [300, 450, 350, 500]\n",
    "}\n",
    "\n",
    "books_df = pd.DataFrame(books_data)\n",
    "print(\"کتابخانه من:\")\n",
    "print(books_df)\n",
    "\n",
    "# حالا این سوالات رو جواب بده:\n",
    "# ۱. گرانترین کتاب کدومه؟\n",
    "# ۲. میانگین قیمت کتاب‌ها چقدره؟\n",
    "# ۳. کتاب‌های منتشر شده بعد از ۲۰۲۰ رو نمایش بده"
   ],
   "id": "c46a37a40e0843f8",
   "outputs": [
    {
     "name": "stdout",
     "output_type": "stream",
     "text": [
      "کتابخانه من:\n",
      "             کتاب نویسنده  سال انتشار   قیمت  صفحات\n",
      "0  پایتون مقدماتی   احمدی        2020  50000    300\n",
      "1      هوش مصنوعی   رضایی        2019  75000    450\n",
      "2      تحلیل داده   محمدی        2021  60000    350\n",
      "3   یادگیری ماشین   جعفری        2022  90000    500\n"
     ]
    }
   ],
   "execution_count": 62
  },
  {
   "metadata": {
    "ExecuteTime": {
     "end_time": "2025-09-18T09:20:50.805297Z",
     "start_time": "2025-09-18T09:20:50.796359Z"
    }
   },
   "cell_type": "code",
   "source": [
    "e001 = books_df[books_df['قیمت'] == books_df['قیمت'].max()]\n",
    "e001"
   ],
   "id": "ec60c6c4b592536b",
   "outputs": [
    {
     "data": {
      "text/plain": [
       "            کتاب نویسنده  سال انتشار   قیمت  صفحات\n",
       "3  یادگیری ماشین   جعفری        2022  90000    500"
      ],
      "text/html": [
       "<div>\n",
       "<style scoped>\n",
       "    .dataframe tbody tr th:only-of-type {\n",
       "        vertical-align: middle;\n",
       "    }\n",
       "\n",
       "    .dataframe tbody tr th {\n",
       "        vertical-align: top;\n",
       "    }\n",
       "\n",
       "    .dataframe thead th {\n",
       "        text-align: right;\n",
       "    }\n",
       "</style>\n",
       "<table border=\"1\" class=\"dataframe\">\n",
       "  <thead>\n",
       "    <tr style=\"text-align: right;\">\n",
       "      <th></th>\n",
       "      <th>کتاب</th>\n",
       "      <th>نویسنده</th>\n",
       "      <th>سال انتشار</th>\n",
       "      <th>قیمت</th>\n",
       "      <th>صفحات</th>\n",
       "    </tr>\n",
       "  </thead>\n",
       "  <tbody>\n",
       "    <tr>\n",
       "      <th>3</th>\n",
       "      <td>یادگیری ماشین</td>\n",
       "      <td>جعفری</td>\n",
       "      <td>2022</td>\n",
       "      <td>90000</td>\n",
       "      <td>500</td>\n",
       "    </tr>\n",
       "  </tbody>\n",
       "</table>\n",
       "</div>"
      ]
     },
     "execution_count": 73,
     "metadata": {},
     "output_type": "execute_result"
    }
   ],
   "execution_count": 73
  },
  {
   "metadata": {
    "ExecuteTime": {
     "end_time": "2025-09-18T09:23:09.543864Z",
     "start_time": "2025-09-18T09:23:09.539039Z"
    }
   },
   "cell_type": "code",
   "source": [
    "e002 = books_df['قیمت'].mean()\n",
    "e002"
   ],
   "id": "eb19e2104a5be381",
   "outputs": [
    {
     "data": {
      "text/plain": [
       "np.float64(68750.0)"
      ]
     },
     "execution_count": 76,
     "metadata": {},
     "output_type": "execute_result"
    }
   ],
   "execution_count": 76
  },
  {
   "metadata": {
    "ExecuteTime": {
     "end_time": "2025-09-18T09:24:27.336885Z",
     "start_time": "2025-09-18T09:24:27.328165Z"
    }
   },
   "cell_type": "code",
   "source": [
    "e003 = books_df[books_df['سال انتشار'] >= 2020]\n",
    "e003"
   ],
   "id": "3adbcc0ead3bf1b2",
   "outputs": [
    {
     "data": {
      "text/plain": [
       "             کتاب نویسنده  سال انتشار   قیمت  صفحات\n",
       "0  پایتون مقدماتی   احمدی        2020  50000    300\n",
       "2      تحلیل داده   محمدی        2021  60000    350\n",
       "3   یادگیری ماشین   جعفری        2022  90000    500"
      ],
      "text/html": [
       "<div>\n",
       "<style scoped>\n",
       "    .dataframe tbody tr th:only-of-type {\n",
       "        vertical-align: middle;\n",
       "    }\n",
       "\n",
       "    .dataframe tbody tr th {\n",
       "        vertical-align: top;\n",
       "    }\n",
       "\n",
       "    .dataframe thead th {\n",
       "        text-align: right;\n",
       "    }\n",
       "</style>\n",
       "<table border=\"1\" class=\"dataframe\">\n",
       "  <thead>\n",
       "    <tr style=\"text-align: right;\">\n",
       "      <th></th>\n",
       "      <th>کتاب</th>\n",
       "      <th>نویسنده</th>\n",
       "      <th>سال انتشار</th>\n",
       "      <th>قیمت</th>\n",
       "      <th>صفحات</th>\n",
       "    </tr>\n",
       "  </thead>\n",
       "  <tbody>\n",
       "    <tr>\n",
       "      <th>0</th>\n",
       "      <td>پایتون مقدماتی</td>\n",
       "      <td>احمدی</td>\n",
       "      <td>2020</td>\n",
       "      <td>50000</td>\n",
       "      <td>300</td>\n",
       "    </tr>\n",
       "    <tr>\n",
       "      <th>2</th>\n",
       "      <td>تحلیل داده</td>\n",
       "      <td>محمدی</td>\n",
       "      <td>2021</td>\n",
       "      <td>60000</td>\n",
       "      <td>350</td>\n",
       "    </tr>\n",
       "    <tr>\n",
       "      <th>3</th>\n",
       "      <td>یادگیری ماشین</td>\n",
       "      <td>جعفری</td>\n",
       "      <td>2022</td>\n",
       "      <td>90000</td>\n",
       "      <td>500</td>\n",
       "    </tr>\n",
       "  </tbody>\n",
       "</table>\n",
       "</div>"
      ]
     },
     "execution_count": 78,
     "metadata": {},
     "output_type": "execute_result"
    }
   ],
   "execution_count": 78
  },
  {
   "metadata": {
    "ExecuteTime": {
     "end_time": "2025-09-18T09:28:59.836991Z",
     "start_time": "2025-09-18T09:28:59.826014Z"
    }
   },
   "cell_type": "code",
   "source": [
    "# داده‌های جدید برای کتابخانه\n",
    "library_data = {\n",
    "    'نام': ['پایتون پیشرفته', 'شبکه‌های عصبی', 'پردازش زبان طبیعی', 'داده‌کاوی', 'یادگیری عمیق'],\n",
    "    'نویسنده': ['فاطمی', 'کریمی', 'موسوی', 'حسینی', 'نوری'],\n",
    "    'سال انتشار': [2021, 2020, 2022, 2019, 2023],\n",
    "    'قیمت': [80000, 70000, 85000, 55000, 95000],\n",
    "    'صفحات': [400, 320, 380, 280, 420],\n",
    "    'دسته بندی': ['برنامه‌نویسی', 'هوش مصنوعی', 'هوش مصنوعی', 'داده‌کاوی', 'هوش مصنوعی']\n",
    "}\n",
    "\n",
    "library_df = pd.DataFrame(library_data)\n",
    "library_df\n",
    "\n",
    "# کتاب‌های دسته‌بندی «هوش مصنوعی» را نمایش دهید\n",
    "#میانگین تعداد صفحات کتاب‌ها را محاسبه کنید\n",
    "#کتاب‌های با قیمت کمتر از ۷۵۰۰۰ تومان را پیدا کنید\n"
   ],
   "id": "10f4361341593032",
   "outputs": [
    {
     "data": {
      "text/plain": [
       "                 نام نویسنده  سال انتشار   قیمت  صفحات     دسته بندی\n",
       "0     پایتون پیشرفته   فاطمی        2021  80000    400  برنامه‌نویسی\n",
       "1      شبکه‌های عصبی   کریمی        2020  70000    320    هوش مصنوعی\n",
       "2  پردازش زبان طبیعی   موسوی        2022  85000    380    هوش مصنوعی\n",
       "3          داده‌کاوی   حسینی        2019  55000    280     داده‌کاوی\n",
       "4       یادگیری عمیق    نوری        2023  95000    420    هوش مصنوعی"
      ],
      "text/html": [
       "<div>\n",
       "<style scoped>\n",
       "    .dataframe tbody tr th:only-of-type {\n",
       "        vertical-align: middle;\n",
       "    }\n",
       "\n",
       "    .dataframe tbody tr th {\n",
       "        vertical-align: top;\n",
       "    }\n",
       "\n",
       "    .dataframe thead th {\n",
       "        text-align: right;\n",
       "    }\n",
       "</style>\n",
       "<table border=\"1\" class=\"dataframe\">\n",
       "  <thead>\n",
       "    <tr style=\"text-align: right;\">\n",
       "      <th></th>\n",
       "      <th>نام</th>\n",
       "      <th>نویسنده</th>\n",
       "      <th>سال انتشار</th>\n",
       "      <th>قیمت</th>\n",
       "      <th>صفحات</th>\n",
       "      <th>دسته بندی</th>\n",
       "    </tr>\n",
       "  </thead>\n",
       "  <tbody>\n",
       "    <tr>\n",
       "      <th>0</th>\n",
       "      <td>پایتون پیشرفته</td>\n",
       "      <td>فاطمی</td>\n",
       "      <td>2021</td>\n",
       "      <td>80000</td>\n",
       "      <td>400</td>\n",
       "      <td>برنامه‌نویسی</td>\n",
       "    </tr>\n",
       "    <tr>\n",
       "      <th>1</th>\n",
       "      <td>شبکه‌های عصبی</td>\n",
       "      <td>کریمی</td>\n",
       "      <td>2020</td>\n",
       "      <td>70000</td>\n",
       "      <td>320</td>\n",
       "      <td>هوش مصنوعی</td>\n",
       "    </tr>\n",
       "    <tr>\n",
       "      <th>2</th>\n",
       "      <td>پردازش زبان طبیعی</td>\n",
       "      <td>موسوی</td>\n",
       "      <td>2022</td>\n",
       "      <td>85000</td>\n",
       "      <td>380</td>\n",
       "      <td>هوش مصنوعی</td>\n",
       "    </tr>\n",
       "    <tr>\n",
       "      <th>3</th>\n",
       "      <td>داده‌کاوی</td>\n",
       "      <td>حسینی</td>\n",
       "      <td>2019</td>\n",
       "      <td>55000</td>\n",
       "      <td>280</td>\n",
       "      <td>داده‌کاوی</td>\n",
       "    </tr>\n",
       "    <tr>\n",
       "      <th>4</th>\n",
       "      <td>یادگیری عمیق</td>\n",
       "      <td>نوری</td>\n",
       "      <td>2023</td>\n",
       "      <td>95000</td>\n",
       "      <td>420</td>\n",
       "      <td>هوش مصنوعی</td>\n",
       "    </tr>\n",
       "  </tbody>\n",
       "</table>\n",
       "</div>"
      ]
     },
     "execution_count": 81,
     "metadata": {},
     "output_type": "execute_result"
    }
   ],
   "execution_count": 81
  },
  {
   "metadata": {
    "ExecuteTime": {
     "end_time": "2025-09-18T09:34:15.072066Z",
     "start_time": "2025-09-18T09:34:15.062861Z"
    }
   },
   "cell_type": "code",
   "source": [
    "liex001 = library_df[library_df['دسته بندی'] == 'هوش مصنوعی']\n",
    "liex001"
   ],
   "id": "2ec5703ef0e02d8c",
   "outputs": [
    {
     "data": {
      "text/plain": [
       "                 نام نویسنده  سال انتشار   قیمت  صفحات   دسته بندی\n",
       "1      شبکه‌های عصبی   کریمی        2020  70000    320  هوش مصنوعی\n",
       "2  پردازش زبان طبیعی   موسوی        2022  85000    380  هوش مصنوعی\n",
       "4       یادگیری عمیق    نوری        2023  95000    420  هوش مصنوعی"
      ],
      "text/html": [
       "<div>\n",
       "<style scoped>\n",
       "    .dataframe tbody tr th:only-of-type {\n",
       "        vertical-align: middle;\n",
       "    }\n",
       "\n",
       "    .dataframe tbody tr th {\n",
       "        vertical-align: top;\n",
       "    }\n",
       "\n",
       "    .dataframe thead th {\n",
       "        text-align: right;\n",
       "    }\n",
       "</style>\n",
       "<table border=\"1\" class=\"dataframe\">\n",
       "  <thead>\n",
       "    <tr style=\"text-align: right;\">\n",
       "      <th></th>\n",
       "      <th>نام</th>\n",
       "      <th>نویسنده</th>\n",
       "      <th>سال انتشار</th>\n",
       "      <th>قیمت</th>\n",
       "      <th>صفحات</th>\n",
       "      <th>دسته بندی</th>\n",
       "    </tr>\n",
       "  </thead>\n",
       "  <tbody>\n",
       "    <tr>\n",
       "      <th>1</th>\n",
       "      <td>شبکه‌های عصبی</td>\n",
       "      <td>کریمی</td>\n",
       "      <td>2020</td>\n",
       "      <td>70000</td>\n",
       "      <td>320</td>\n",
       "      <td>هوش مصنوعی</td>\n",
       "    </tr>\n",
       "    <tr>\n",
       "      <th>2</th>\n",
       "      <td>پردازش زبان طبیعی</td>\n",
       "      <td>موسوی</td>\n",
       "      <td>2022</td>\n",
       "      <td>85000</td>\n",
       "      <td>380</td>\n",
       "      <td>هوش مصنوعی</td>\n",
       "    </tr>\n",
       "    <tr>\n",
       "      <th>4</th>\n",
       "      <td>یادگیری عمیق</td>\n",
       "      <td>نوری</td>\n",
       "      <td>2023</td>\n",
       "      <td>95000</td>\n",
       "      <td>420</td>\n",
       "      <td>هوش مصنوعی</td>\n",
       "    </tr>\n",
       "  </tbody>\n",
       "</table>\n",
       "</div>"
      ]
     },
     "execution_count": 82,
     "metadata": {},
     "output_type": "execute_result"
    }
   ],
   "execution_count": 82
  },
  {
   "metadata": {
    "ExecuteTime": {
     "end_time": "2025-09-18T09:35:26.607357Z",
     "start_time": "2025-09-18T09:35:26.603094Z"
    }
   },
   "cell_type": "code",
   "source": [
    "liex002 = library_df['قیمت'].mean()\n",
    "liex002"
   ],
   "id": "f24427d4f1628b07",
   "outputs": [
    {
     "data": {
      "text/plain": [
       "np.float64(77000.0)"
      ]
     },
     "execution_count": 84,
     "metadata": {},
     "output_type": "execute_result"
    }
   ],
   "execution_count": 84
  },
  {
   "metadata": {
    "ExecuteTime": {
     "end_time": "2025-09-18T09:37:34.939702Z",
     "start_time": "2025-09-18T09:37:34.931265Z"
    }
   },
   "cell_type": "code",
   "source": [
    "liex003 = library_df[library_df['قیمت'] <= 75000]\n",
    "liex003"
   ],
   "id": "4a1f7fa774e3ebbd",
   "outputs": [
    {
     "data": {
      "text/plain": [
       "             نام نویسنده  سال انتشار   قیمت  صفحات   دسته بندی\n",
       "1  شبکه‌های عصبی   کریمی        2020  70000    320  هوش مصنوعی\n",
       "3      داده‌کاوی   حسینی        2019  55000    280   داده‌کاوی"
      ],
      "text/html": [
       "<div>\n",
       "<style scoped>\n",
       "    .dataframe tbody tr th:only-of-type {\n",
       "        vertical-align: middle;\n",
       "    }\n",
       "\n",
       "    .dataframe tbody tr th {\n",
       "        vertical-align: top;\n",
       "    }\n",
       "\n",
       "    .dataframe thead th {\n",
       "        text-align: right;\n",
       "    }\n",
       "</style>\n",
       "<table border=\"1\" class=\"dataframe\">\n",
       "  <thead>\n",
       "    <tr style=\"text-align: right;\">\n",
       "      <th></th>\n",
       "      <th>نام</th>\n",
       "      <th>نویسنده</th>\n",
       "      <th>سال انتشار</th>\n",
       "      <th>قیمت</th>\n",
       "      <th>صفحات</th>\n",
       "      <th>دسته بندی</th>\n",
       "    </tr>\n",
       "  </thead>\n",
       "  <tbody>\n",
       "    <tr>\n",
       "      <th>1</th>\n",
       "      <td>شبکه‌های عصبی</td>\n",
       "      <td>کریمی</td>\n",
       "      <td>2020</td>\n",
       "      <td>70000</td>\n",
       "      <td>320</td>\n",
       "      <td>هوش مصنوعی</td>\n",
       "    </tr>\n",
       "    <tr>\n",
       "      <th>3</th>\n",
       "      <td>داده‌کاوی</td>\n",
       "      <td>حسینی</td>\n",
       "      <td>2019</td>\n",
       "      <td>55000</td>\n",
       "      <td>280</td>\n",
       "      <td>داده‌کاوی</td>\n",
       "    </tr>\n",
       "  </tbody>\n",
       "</table>\n",
       "</div>"
      ]
     },
     "execution_count": 85,
     "metadata": {},
     "output_type": "execute_result"
    }
   ],
   "execution_count": 85
  },
  {
   "metadata": {
    "ExecuteTime": {
     "end_time": "2025-09-18T09:40:44.394426Z",
     "start_time": "2025-09-18T09:40:44.377262Z"
    }
   },
   "cell_type": "code",
   "source": [
    "# داده‌های محصولات\n",
    "products_data = {\n",
    "    'نام محصول': ['لپ‌تاپ', 'موبایل', 'تبلت', 'هدفون', 'ماوس'],\n",
    "    'قیمت': [25000000, 8000000, 5000000, 1500000, 500000],\n",
    "    'تعداد موجودی': [15, 30, 20, 50, 100],\n",
    "    'دسته‌بندی': ['الکترونیکی', 'الکترونیکی', 'الکترونیکی', 'اکسسوری', 'اکسسوری']\n",
    "}\n",
    "\n",
    "products_df = pd.DataFrame(products_data)\n",
    "products_df.info()\n",
    "products_df.head()\n",
    "products_df.describe()\n",
    "\n",
    "#ارزش کل موجودی هر محصول را محاسبه کنید (قیمت × تعداد)\n",
    "#محصولات دسته‌بندی «الکترونیکی» را نمایش دهید\n",
    "#میانگین قیمت محصولات را محاسبه کنید"
   ],
   "id": "26428a67cff4fbb1",
   "outputs": [
    {
     "name": "stdout",
     "output_type": "stream",
     "text": [
      "<class 'pandas.core.frame.DataFrame'>\n",
      "RangeIndex: 5 entries, 0 to 4\n",
      "Data columns (total 4 columns):\n",
      " #   Column        Non-Null Count  Dtype \n",
      "---  ------        --------------  ----- \n",
      " 0   نام محصول     5 non-null      object\n",
      " 1   قیمت          5 non-null      int64 \n",
      " 2   تعداد موجودی  5 non-null      int64 \n",
      " 3   دسته‌بندی     5 non-null      object\n",
      "dtypes: int64(2), object(2)\n",
      "memory usage: 292.0+ bytes\n"
     ]
    },
    {
     "data": {
      "text/plain": [
       "               قیمت  تعداد موجودی\n",
       "count  5.000000e+00      5.000000\n",
       "mean   8.000000e+06     43.000000\n",
       "std    9.956154e+06     34.568772\n",
       "min    5.000000e+05     15.000000\n",
       "25%    1.500000e+06     20.000000\n",
       "50%    5.000000e+06     30.000000\n",
       "75%    8.000000e+06     50.000000\n",
       "max    2.500000e+07    100.000000"
      ],
      "text/html": [
       "<div>\n",
       "<style scoped>\n",
       "    .dataframe tbody tr th:only-of-type {\n",
       "        vertical-align: middle;\n",
       "    }\n",
       "\n",
       "    .dataframe tbody tr th {\n",
       "        vertical-align: top;\n",
       "    }\n",
       "\n",
       "    .dataframe thead th {\n",
       "        text-align: right;\n",
       "    }\n",
       "</style>\n",
       "<table border=\"1\" class=\"dataframe\">\n",
       "  <thead>\n",
       "    <tr style=\"text-align: right;\">\n",
       "      <th></th>\n",
       "      <th>قیمت</th>\n",
       "      <th>تعداد موجودی</th>\n",
       "    </tr>\n",
       "  </thead>\n",
       "  <tbody>\n",
       "    <tr>\n",
       "      <th>count</th>\n",
       "      <td>5.000000e+00</td>\n",
       "      <td>5.000000</td>\n",
       "    </tr>\n",
       "    <tr>\n",
       "      <th>mean</th>\n",
       "      <td>8.000000e+06</td>\n",
       "      <td>43.000000</td>\n",
       "    </tr>\n",
       "    <tr>\n",
       "      <th>std</th>\n",
       "      <td>9.956154e+06</td>\n",
       "      <td>34.568772</td>\n",
       "    </tr>\n",
       "    <tr>\n",
       "      <th>min</th>\n",
       "      <td>5.000000e+05</td>\n",
       "      <td>15.000000</td>\n",
       "    </tr>\n",
       "    <tr>\n",
       "      <th>25%</th>\n",
       "      <td>1.500000e+06</td>\n",
       "      <td>20.000000</td>\n",
       "    </tr>\n",
       "    <tr>\n",
       "      <th>50%</th>\n",
       "      <td>5.000000e+06</td>\n",
       "      <td>30.000000</td>\n",
       "    </tr>\n",
       "    <tr>\n",
       "      <th>75%</th>\n",
       "      <td>8.000000e+06</td>\n",
       "      <td>50.000000</td>\n",
       "    </tr>\n",
       "    <tr>\n",
       "      <th>max</th>\n",
       "      <td>2.500000e+07</td>\n",
       "      <td>100.000000</td>\n",
       "    </tr>\n",
       "  </tbody>\n",
       "</table>\n",
       "</div>"
      ]
     },
     "execution_count": 87,
     "metadata": {},
     "output_type": "execute_result"
    }
   ],
   "execution_count": 87
  },
  {
   "metadata": {
    "ExecuteTime": {
     "end_time": "2025-09-18T09:42:10.972670Z",
     "start_time": "2025-09-18T09:42:10.964176Z"
    }
   },
   "cell_type": "code",
   "source": "products_df",
   "id": "d344c99a3e53e8d1",
   "outputs": [
    {
     "data": {
      "text/plain": [
       "  نام محصول      قیمت  تعداد موجودی   دسته‌بندی\n",
       "0    لپ‌تاپ  25000000            15  الکترونیکی\n",
       "1    موبایل   8000000            30  الکترونیکی\n",
       "2      تبلت   5000000            20  الکترونیکی\n",
       "3     هدفون   1500000            50     اکسسوری\n",
       "4      ماوس    500000           100     اکسسوری"
      ],
      "text/html": [
       "<div>\n",
       "<style scoped>\n",
       "    .dataframe tbody tr th:only-of-type {\n",
       "        vertical-align: middle;\n",
       "    }\n",
       "\n",
       "    .dataframe tbody tr th {\n",
       "        vertical-align: top;\n",
       "    }\n",
       "\n",
       "    .dataframe thead th {\n",
       "        text-align: right;\n",
       "    }\n",
       "</style>\n",
       "<table border=\"1\" class=\"dataframe\">\n",
       "  <thead>\n",
       "    <tr style=\"text-align: right;\">\n",
       "      <th></th>\n",
       "      <th>نام محصول</th>\n",
       "      <th>قیمت</th>\n",
       "      <th>تعداد موجودی</th>\n",
       "      <th>دسته‌بندی</th>\n",
       "    </tr>\n",
       "  </thead>\n",
       "  <tbody>\n",
       "    <tr>\n",
       "      <th>0</th>\n",
       "      <td>لپ‌تاپ</td>\n",
       "      <td>25000000</td>\n",
       "      <td>15</td>\n",
       "      <td>الکترونیکی</td>\n",
       "    </tr>\n",
       "    <tr>\n",
       "      <th>1</th>\n",
       "      <td>موبایل</td>\n",
       "      <td>8000000</td>\n",
       "      <td>30</td>\n",
       "      <td>الکترونیکی</td>\n",
       "    </tr>\n",
       "    <tr>\n",
       "      <th>2</th>\n",
       "      <td>تبلت</td>\n",
       "      <td>5000000</td>\n",
       "      <td>20</td>\n",
       "      <td>الکترونیکی</td>\n",
       "    </tr>\n",
       "    <tr>\n",
       "      <th>3</th>\n",
       "      <td>هدفون</td>\n",
       "      <td>1500000</td>\n",
       "      <td>50</td>\n",
       "      <td>اکسسوری</td>\n",
       "    </tr>\n",
       "    <tr>\n",
       "      <th>4</th>\n",
       "      <td>ماوس</td>\n",
       "      <td>500000</td>\n",
       "      <td>100</td>\n",
       "      <td>اکسسوری</td>\n",
       "    </tr>\n",
       "  </tbody>\n",
       "</table>\n",
       "</div>"
      ]
     },
     "execution_count": 89,
     "metadata": {},
     "output_type": "execute_result"
    }
   ],
   "execution_count": 89
  },
  {
   "metadata": {
    "ExecuteTime": {
     "end_time": "2025-09-18T09:55:45.230951Z",
     "start_time": "2025-09-18T09:55:45.224074Z"
    }
   },
   "cell_type": "code",
   "source": [
    "products_df['ارزش کل'] = products_df['قیمت'] * products_df['تعداد موجودی']\n",
    "prodex001 = products_df['ارزش کل']\n",
    "prodex001"
   ],
   "id": "75f2505314764416",
   "outputs": [
    {
     "data": {
      "text/plain": [
       "0    375000000\n",
       "1    240000000\n",
       "2    100000000\n",
       "3     75000000\n",
       "4     50000000\n",
       "Name: ارزش کل, dtype: int64"
      ]
     },
     "execution_count": 98,
     "metadata": {},
     "output_type": "execute_result"
    }
   ],
   "execution_count": 98
  },
  {
   "metadata": {},
   "cell_type": "code",
   "outputs": [],
   "execution_count": null,
   "source": "",
   "id": "3b7c3a63f3be094"
  }
 ],
 "metadata": {
  "kernelspec": {
   "display_name": "Python 3",
   "language": "python",
   "name": "python3"
  },
  "language_info": {
   "codemirror_mode": {
    "name": "ipython",
    "version": 2
   },
   "file_extension": ".py",
   "mimetype": "text/x-python",
   "name": "python",
   "nbconvert_exporter": "python",
   "pygments_lexer": "ipython2",
   "version": "2.7.6"
  }
 },
 "nbformat": 4,
 "nbformat_minor": 5
}
