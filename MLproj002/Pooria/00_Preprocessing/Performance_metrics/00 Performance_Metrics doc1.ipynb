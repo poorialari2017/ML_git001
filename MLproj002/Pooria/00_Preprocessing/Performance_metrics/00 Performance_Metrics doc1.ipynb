{
 "cells": [
  {
   "cell_type": "code",
   "id": "initial_id",
   "metadata": {
    "collapsed": true,
    "ExecuteTime": {
     "end_time": "2025-09-20T10:03:31.993417Z",
     "start_time": "2025-09-20T10:03:31.990782Z"
    }
   },
   "source": [
    "# 100% true\n",
    "y_true= [1,0,0,1,0,1,0,0,1,1]\n",
    "y_pred= [1,0,0,1,0,1,0,0,1,1]"
   ],
   "outputs": [],
   "execution_count": 54
  },
  {
   "metadata": {
    "ExecuteTime": {
     "end_time": "2025-09-20T10:02:29.435173Z",
     "start_time": "2025-09-20T10:02:29.432358Z"
    }
   },
   "cell_type": "code",
   "source": [
    "# 90.0 % accuracy\n",
    "# 100.0 % precision\n",
    "# 80.0 % recall\n",
    "y_true= [1,0,0,1,0,1,0,0,1,1]\n",
    "y_pred= [0,0,0,1,0,1,0,0,1,1]"
   ],
   "id": "d2a747e779628b11",
   "outputs": [],
   "execution_count": 47
  },
  {
   "metadata": {
    "ExecuteTime": {
     "end_time": "2025-09-20T10:02:29.448110Z",
     "start_time": "2025-09-20T10:02:29.446148Z"
    }
   },
   "cell_type": "code",
   "source": [
    "# 50.0 % accuracy\n",
    "# 50.0 % precision\n",
    "# 100.0 % recall\n",
    "y_true= [1,0,0,1,0,1,0,0,1,1]\n",
    "y_pred= [1,1,1,1,1,1,1,1,1,1]"
   ],
   "id": "3451093f79e77c73",
   "outputs": [],
   "execution_count": 48
  },
  {
   "metadata": {
    "ExecuteTime": {
     "end_time": "2025-09-20T10:02:29.465185Z",
     "start_time": "2025-09-20T10:02:29.462759Z"
    }
   },
   "cell_type": "code",
   "source": [
    "# 0.0 % accuracy\n",
    "# 0.0 % precision\n",
    "# 0.0 % recall\n",
    "y_true= [1,1,1,1,1,1,1,1,1,1]\n",
    "y_pred= [1,0,0,1,0,1,0,0,1,1]"
   ],
   "id": "7b852e6b93575600",
   "outputs": [],
   "execution_count": 49
  },
  {
   "metadata": {
    "ExecuteTime": {
     "end_time": "2025-09-20T10:02:29.480719Z",
     "start_time": "2025-09-20T10:02:29.477947Z"
    }
   },
   "cell_type": "code",
   "source": [
    "# 50.0 % accuracy\n",
    "# 100.0 % precision\n",
    "# 50.0 % recall\n",
    "y_true = [0, 1, 1, 0, 1, 0, 1, 1, 0, 0]\n",
    "y_pred = [1, 0, 0, 1, 0, 1, 0, 0, 1, 1]"
   ],
   "id": "2d05ec723b59cf2e",
   "outputs": [],
   "execution_count": 50
  },
  {
   "metadata": {
    "ExecuteTime": {
     "end_time": "2025-09-20T10:03:35.016014Z",
     "start_time": "2025-09-20T10:03:35.012118Z"
    }
   },
   "cell_type": "code",
   "source": [
    "from sklearn.metrics import accuracy_score\n",
    "\n",
    "accuracy = accuracy_score(y_true, y_pred)\n",
    "print(accuracy * 100 , \"%\")"
   ],
   "id": "5c80bae14a4072a9",
   "outputs": [
    {
     "name": "stdout",
     "output_type": "stream",
     "text": [
      "100.0 %\n"
     ]
    }
   ],
   "execution_count": 55
  },
  {
   "metadata": {
    "ExecuteTime": {
     "end_time": "2025-09-20T10:03:35.944017Z",
     "start_time": "2025-09-20T10:03:35.938919Z"
    }
   },
   "cell_type": "code",
   "source": [
    "from sklearn.metrics import precision_score\n",
    "precision = precision_score(y_true, y_pred)\n",
    "print(precision * 100 , \"%\")"
   ],
   "id": "210636c89751b151",
   "outputs": [
    {
     "name": "stdout",
     "output_type": "stream",
     "text": [
      "100.0 %\n"
     ]
    }
   ],
   "execution_count": 56
  },
  {
   "metadata": {
    "ExecuteTime": {
     "end_time": "2025-09-20T10:03:37.170144Z",
     "start_time": "2025-09-20T10:03:37.164054Z"
    }
   },
   "cell_type": "code",
   "source": [
    "from sklearn.metrics import recall_score\n",
    "recall = recall_score(y_true, y_pred)\n",
    "print(recall * 100 , \"%\")"
   ],
   "id": "2a6dd3f06337ad11",
   "outputs": [
    {
     "name": "stdout",
     "output_type": "stream",
     "text": [
      "100.0 %\n"
     ]
    }
   ],
   "execution_count": 57
  },
  {
   "metadata": {
    "ExecuteTime": {
     "end_time": "2025-09-20T10:02:29.570248Z",
     "start_time": "2025-09-20T10:02:29.568776Z"
    }
   },
   "cell_type": "code",
   "source": "",
   "id": "32f325b59db6e7a9",
   "outputs": [],
   "execution_count": null
  }
 ],
 "metadata": {
  "kernelspec": {
   "display_name": "Python 3",
   "language": "python",
   "name": "python3"
  },
  "language_info": {
   "codemirror_mode": {
    "name": "ipython",
    "version": 2
   },
   "file_extension": ".py",
   "mimetype": "text/x-python",
   "name": "python",
   "nbconvert_exporter": "python",
   "pygments_lexer": "ipython2",
   "version": "2.7.6"
  }
 },
 "nbformat": 4,
 "nbformat_minor": 5
}
