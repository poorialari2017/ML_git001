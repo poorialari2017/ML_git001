{
 "cells": [
  {
   "metadata": {},
   "cell_type": "markdown",
   "source": "### Imports",
   "id": "44c50be71eaf742e"
  },
  {
   "cell_type": "code",
   "id": "initial_id",
   "metadata": {
    "collapsed": true
   },
   "source": [
    "# وارد کردن کتابخونه به برنامه\n",
    "import pandas as pd\n",
    "import numpy as np\n",
    "# فهمیدن ورژن پانداس\n",
    "print(pd.__version__)\n"
   ],
   "outputs": [],
   "execution_count": null
  },
  {
   "metadata": {},
   "cell_type": "markdown",
   "source": "### Trick 01 - نحوه بررسی مصرف حافظه (Memory Usage) در Pandas",
   "id": "8625320aaddbbff8"
  },
  {
   "metadata": {},
   "cell_type": "code",
   "source": [
    "dft01 = pd.read_csv(\"../../00 DATA/Churn_Modelling.csv\")\n",
    "dft01.head()\n",
    "\n"
   ],
   "id": "43095cdd0356de9d",
   "outputs": [],
   "execution_count": null
  },
  {
   "metadata": {},
   "cell_type": "code",
   "source": "dft01.info()",
   "id": "f990811876173cf5",
   "outputs": [],
   "execution_count": null
  },
  {
   "metadata": {},
   "cell_type": "code",
   "source": "dft01.info(memory_usage=\"deep\")",
   "id": "c71045e6a77a086b",
   "outputs": [],
   "execution_count": null
  },
  {
   "metadata": {},
   "cell_type": "code",
   "source": [
    "# فهمیدن اینکه هر کدوم از ستون ها چقدر از حافظه را مصرف میکنه\n",
    "\n",
    "dft01.memory_usage(deep=True)"
   ],
   "id": "2c407b7f4122b7fd",
   "outputs": [],
   "execution_count": null
  },
  {
   "metadata": {},
   "cell_type": "markdown",
   "source": "### Trick 02 - نحوه تبدیل داده های گسسته (Convert) در Pandas\n",
   "id": "8a25e03349207766"
  },
  {
   "metadata": {},
   "cell_type": "code",
   "source": [
    "dft02 = pd.read_csv(\"../../00 DATA/titanic.csv\")\n",
    "dft02.info()"
   ],
   "id": "af473009fdfc8329",
   "outputs": [],
   "execution_count": null
  },
  {
   "metadata": {},
   "cell_type": "code",
   "source": "dft02.head()",
   "id": "498d3532602fab4e",
   "outputs": [],
   "execution_count": null
  },
  {
   "metadata": {},
   "cell_type": "code",
   "source": "dft02.sex.info()",
   "id": "6459de21eeb7a858",
   "outputs": [],
   "execution_count": null
  },
  {
   "metadata": {},
   "cell_type": "markdown",
   "source": "#### a) کانورت دستی",
   "id": "a4c2f97486a2fc2"
  },
  {
   "metadata": {},
   "cell_type": "code",
   "source": [
    "# میخایم نوع دیتا تایپ رو به عدد تغیر بدیم چون اینجا اپجکت هست\n",
    "dft02['sex num'] = dft02.sex.map({'male':0, 'female':1})\n",
    "dft02.head()"
   ],
   "id": "9f08a9946d1c37c0",
   "outputs": [],
   "execution_count": null
  },
  {
   "metadata": {},
   "cell_type": "markdown",
   "source": "#### b)  کانورت خودکار",
   "id": "4d9ab3a7b056b7af"
  },
  {
   "metadata": {},
   "cell_type": "code",
   "source": "dft02.embarked.info(), dft02.embarked.head()",
   "id": "1937dbdcc3c4e24a",
   "outputs": [],
   "execution_count": null
  },
  {
   "metadata": {},
   "cell_type": "code",
   "source": [
    "# این دستور با استفاده از تابع فکتورایز به صورت خودکار مقدار دهی میکنه برای وقتی که بیش تر از دو پارامتر داریم خوبه\n",
    "dft02['embarked num'] = dft02.embarked.factorize()[0]\n",
    "\n",
    "\n",
    "dft02.embarked.head(20)\n"
   ],
   "id": "419f79b5b595aca1",
   "outputs": [],
   "execution_count": null
  },
  {
   "metadata": {},
   "cell_type": "code",
   "source": "dft02['embarked num'].head(20)",
   "id": "4137ed110bade341",
   "outputs": [],
   "execution_count": null
  },
  {
   "metadata": {},
   "cell_type": "code",
   "source": [
    "# فهمیدن ترتیب دیتا\n",
    "dft02.embarked.factorize()[1]"
   ],
   "id": "67ce17cc44f26c16",
   "outputs": [],
   "execution_count": null
  },
  {
   "metadata": {},
   "cell_type": "markdown",
   "source": "#### c) روش سوم",
   "id": "7d202cfe67e92c6b"
  },
  {
   "metadata": {},
   "cell_type": "code",
   "source": [
    "# حالت باینری برای وقتاییی که میخایم صرفا یه جواب صفر یا یک داشته باشیم\n",
    "# ستون sibsp یا ۰ هست یا ۱ یا ۲ ولی ما میخایم فقط ببینیم وجود داره یا نه (پس ۱ با ۲ بودن فرقی نداره)\n",
    "dft02['sibsp'].head(40)"
   ],
   "id": "2cb5c75dc9a20a3",
   "outputs": [],
   "execution_count": null
  },
  {
   "metadata": {},
   "cell_type": "code",
   "source": [
    "dft02['sibsp_binary'] = (dft02['sibsp'] > 0).astype(int)\n",
    "dft02['sibsp_binary'].head(20)"
   ],
   "id": "1ed02844a537b99e",
   "outputs": [],
   "execution_count": null
  },
  {
   "metadata": {},
   "cell_type": "markdown",
   "source": "### Trick 03 - نحوه تبدیل داده های پیوسته (Convert) در Pandas",
   "id": "18f1492adb19eac"
  },
  {
   "metadata": {},
   "cell_type": "code",
   "source": [
    "dft03 = pd.read_csv(\"../../00 DATA/titanic.csv\")\n",
    "dft03.head()"
   ],
   "id": "68fd15e9698a3d51",
   "outputs": [],
   "execution_count": null
  },
  {
   "metadata": {},
   "cell_type": "markdown",
   "source": "#### a)  روش دستی",
   "id": "fc71da2bd165abe4"
  },
  {
   "metadata": {},
   "cell_type": "code",
   "source": [
    "# برای وقتی که درک از دیتا داریم\n",
    "pd.cut(dft03.age , bins = [0,18,25,99], labels = [\"child\",\"young\",\"old\"]).head(20)"
   ],
   "id": "ac8f7580a242b59",
   "outputs": [],
   "execution_count": null
  },
  {
   "metadata": {},
   "cell_type": "markdown",
   "source": "#### b) برای وقتی که درکی از دیتا نداریم",
   "id": "5eae2b4ddd5f9c46"
  },
  {
   "metadata": {
    "ExecuteTime": {
     "end_time": "2025-09-24T08:37:39.266342Z",
     "start_time": "2025-09-24T08:37:39.259622Z"
    }
   },
   "cell_type": "code",
   "source": [
    "# p برای اینکه بگیم به چند بخش تقسیم کن\n",
    "pd.qcut(dft03['age'], q = 3)"
   ],
   "id": "9f53ef1b9df78d7e",
   "outputs": [
    {
     "data": {
      "text/plain": [
       "0        (23.0, 34.0]\n",
       "1       (0.169, 23.0]\n",
       "2       (0.169, 23.0]\n",
       "3        (23.0, 34.0]\n",
       "4        (23.0, 34.0]\n",
       "            ...      \n",
       "1304    (0.169, 23.0]\n",
       "1305              NaN\n",
       "1306     (23.0, 34.0]\n",
       "1307     (23.0, 34.0]\n",
       "1308     (23.0, 34.0]\n",
       "Name: age, Length: 1309, dtype: category\n",
       "Categories (3, interval[float64, right]): [(0.169, 23.0] < (23.0, 34.0] < (34.0, 80.0]]"
      ]
     },
     "execution_count": 49,
     "metadata": {},
     "output_type": "execute_result"
    }
   ],
   "execution_count": 49
  },
  {
   "metadata": {},
   "cell_type": "code",
   "outputs": [],
   "execution_count": null,
   "source": "",
   "id": "9c94a9c339e5b08b"
  }
 ],
 "metadata": {
  "kernelspec": {
   "display_name": "Python 3",
   "language": "python",
   "name": "python3"
  },
  "language_info": {
   "codemirror_mode": {
    "name": "ipython",
    "version": 2
   },
   "file_extension": ".py",
   "mimetype": "text/x-python",
   "name": "python",
   "nbconvert_exporter": "python",
   "pygments_lexer": "ipython2",
   "version": "2.7.6"
  }
 },
 "nbformat": 4,
 "nbformat_minor": 5
}
