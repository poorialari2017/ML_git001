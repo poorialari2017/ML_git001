{
 "cells": [
  {
   "cell_type": "markdown",
   "id": "44c50be71eaf742e",
   "metadata": {},
   "source": "### **Imports the libraries**"
  },
  {
   "cell_type": "code",
   "id": "initial_id",
   "metadata": {
    "collapsed": true,
    "jupyter": {
     "outputs_hidden": true
    },
    "ExecuteTime": {
     "end_time": "2025-10-04T18:12:57.442451Z",
     "start_time": "2025-10-04T18:12:52.312790Z"
    }
   },
   "source": [
    "# وارد کردن کتابخونه به برنامه\n",
    "import pandas as pd\n",
    "\n",
    "import numpy as np\n",
    "\n",
    "import matplotlib.pyplot as plt\n",
    "# پاک کردن متغیر ها که حافظه را درگیر نکنند\n",
    "import gc\n",
    "# فهمیدن ورژن پانداس\n",
    "import os\n",
    "#\n",
    "import warnings\n",
    "warnings.filterwarnings('ignore')\n",
    "\n",
    "print(pd.__version__)\n"
   ],
   "outputs": [
    {
     "name": "stdout",
     "output_type": "stream",
     "text": [
      "2.3.2\n"
     ]
    }
   ],
   "execution_count": 1
  },
  {
   "cell_type": "markdown",
   "id": "8625320aaddbbff8",
   "metadata": {},
   "source": [
    "### **Trick 01 - نحوه بررسی مصرف حافظه (Memory Usage) در Pandas**"
   ]
  },
  {
   "cell_type": "code",
   "id": "43095cdd0356de9d",
   "metadata": {
    "ExecuteTime": {
     "end_time": "2025-10-04T18:12:57.684884Z",
     "start_time": "2025-10-04T18:12:57.497761Z"
    }
   },
   "source": [
    "dft01 = pd.read_csv(\"../../00 DATA/Churn_Modelling.csv\")\n",
    "dft01.head()\n",
    "\n"
   ],
   "outputs": [
    {
     "data": {
      "text/plain": [
       "   RowNumber  CustomerId   Surname  CreditScore Geography  Gender  Age  \\\n",
       "0          1    15634602  Hargrave          619    France  Female   42   \n",
       "1          2    15647311      Hill          608     Spain  Female   41   \n",
       "2          3    15619304      Onio          502    France  Female   42   \n",
       "3          4    15701354      Boni          699    France  Female   39   \n",
       "4          5    15737888  Mitchell          850     Spain  Female   43   \n",
       "\n",
       "   Tenure    Balance  NumOfProducts  HasCrCard  IsActiveMember  \\\n",
       "0       2       0.00              1          1               1   \n",
       "1       1   83807.86              1          0               1   \n",
       "2       8  159660.80              3          1               0   \n",
       "3       1       0.00              2          0               0   \n",
       "4       2  125510.82              1          1               1   \n",
       "\n",
       "   EstimatedSalary  Exited  \n",
       "0        101348.88       1  \n",
       "1        112542.58       0  \n",
       "2        113931.57       1  \n",
       "3         93826.63       0  \n",
       "4         79084.10       0  "
      ],
      "text/html": [
       "<div>\n",
       "<style scoped>\n",
       "    .dataframe tbody tr th:only-of-type {\n",
       "        vertical-align: middle;\n",
       "    }\n",
       "\n",
       "    .dataframe tbody tr th {\n",
       "        vertical-align: top;\n",
       "    }\n",
       "\n",
       "    .dataframe thead th {\n",
       "        text-align: right;\n",
       "    }\n",
       "</style>\n",
       "<table border=\"1\" class=\"dataframe\">\n",
       "  <thead>\n",
       "    <tr style=\"text-align: right;\">\n",
       "      <th></th>\n",
       "      <th>RowNumber</th>\n",
       "      <th>CustomerId</th>\n",
       "      <th>Surname</th>\n",
       "      <th>CreditScore</th>\n",
       "      <th>Geography</th>\n",
       "      <th>Gender</th>\n",
       "      <th>Age</th>\n",
       "      <th>Tenure</th>\n",
       "      <th>Balance</th>\n",
       "      <th>NumOfProducts</th>\n",
       "      <th>HasCrCard</th>\n",
       "      <th>IsActiveMember</th>\n",
       "      <th>EstimatedSalary</th>\n",
       "      <th>Exited</th>\n",
       "    </tr>\n",
       "  </thead>\n",
       "  <tbody>\n",
       "    <tr>\n",
       "      <th>0</th>\n",
       "      <td>1</td>\n",
       "      <td>15634602</td>\n",
       "      <td>Hargrave</td>\n",
       "      <td>619</td>\n",
       "      <td>France</td>\n",
       "      <td>Female</td>\n",
       "      <td>42</td>\n",
       "      <td>2</td>\n",
       "      <td>0.00</td>\n",
       "      <td>1</td>\n",
       "      <td>1</td>\n",
       "      <td>1</td>\n",
       "      <td>101348.88</td>\n",
       "      <td>1</td>\n",
       "    </tr>\n",
       "    <tr>\n",
       "      <th>1</th>\n",
       "      <td>2</td>\n",
       "      <td>15647311</td>\n",
       "      <td>Hill</td>\n",
       "      <td>608</td>\n",
       "      <td>Spain</td>\n",
       "      <td>Female</td>\n",
       "      <td>41</td>\n",
       "      <td>1</td>\n",
       "      <td>83807.86</td>\n",
       "      <td>1</td>\n",
       "      <td>0</td>\n",
       "      <td>1</td>\n",
       "      <td>112542.58</td>\n",
       "      <td>0</td>\n",
       "    </tr>\n",
       "    <tr>\n",
       "      <th>2</th>\n",
       "      <td>3</td>\n",
       "      <td>15619304</td>\n",
       "      <td>Onio</td>\n",
       "      <td>502</td>\n",
       "      <td>France</td>\n",
       "      <td>Female</td>\n",
       "      <td>42</td>\n",
       "      <td>8</td>\n",
       "      <td>159660.80</td>\n",
       "      <td>3</td>\n",
       "      <td>1</td>\n",
       "      <td>0</td>\n",
       "      <td>113931.57</td>\n",
       "      <td>1</td>\n",
       "    </tr>\n",
       "    <tr>\n",
       "      <th>3</th>\n",
       "      <td>4</td>\n",
       "      <td>15701354</td>\n",
       "      <td>Boni</td>\n",
       "      <td>699</td>\n",
       "      <td>France</td>\n",
       "      <td>Female</td>\n",
       "      <td>39</td>\n",
       "      <td>1</td>\n",
       "      <td>0.00</td>\n",
       "      <td>2</td>\n",
       "      <td>0</td>\n",
       "      <td>0</td>\n",
       "      <td>93826.63</td>\n",
       "      <td>0</td>\n",
       "    </tr>\n",
       "    <tr>\n",
       "      <th>4</th>\n",
       "      <td>5</td>\n",
       "      <td>15737888</td>\n",
       "      <td>Mitchell</td>\n",
       "      <td>850</td>\n",
       "      <td>Spain</td>\n",
       "      <td>Female</td>\n",
       "      <td>43</td>\n",
       "      <td>2</td>\n",
       "      <td>125510.82</td>\n",
       "      <td>1</td>\n",
       "      <td>1</td>\n",
       "      <td>1</td>\n",
       "      <td>79084.10</td>\n",
       "      <td>0</td>\n",
       "    </tr>\n",
       "  </tbody>\n",
       "</table>\n",
       "</div>"
      ]
     },
     "execution_count": 2,
     "metadata": {},
     "output_type": "execute_result"
    }
   ],
   "execution_count": 2
  },
  {
   "cell_type": "code",
   "id": "f990811876173cf5",
   "metadata": {
    "ExecuteTime": {
     "end_time": "2025-10-04T18:12:58.025071Z",
     "start_time": "2025-10-04T18:12:57.926127Z"
    }
   },
   "source": [
    "dft01.info()"
   ],
   "outputs": [
    {
     "name": "stdout",
     "output_type": "stream",
     "text": [
      "<class 'pandas.core.frame.DataFrame'>\n",
      "RangeIndex: 10000 entries, 0 to 9999\n",
      "Data columns (total 14 columns):\n",
      " #   Column           Non-Null Count  Dtype  \n",
      "---  ------           --------------  -----  \n",
      " 0   RowNumber        10000 non-null  int64  \n",
      " 1   CustomerId       10000 non-null  int64  \n",
      " 2   Surname          10000 non-null  object \n",
      " 3   CreditScore      10000 non-null  int64  \n",
      " 4   Geography        10000 non-null  object \n",
      " 5   Gender           10000 non-null  object \n",
      " 6   Age              10000 non-null  int64  \n",
      " 7   Tenure           10000 non-null  int64  \n",
      " 8   Balance          10000 non-null  float64\n",
      " 9   NumOfProducts    10000 non-null  int64  \n",
      " 10  HasCrCard        10000 non-null  int64  \n",
      " 11  IsActiveMember   10000 non-null  int64  \n",
      " 12  EstimatedSalary  10000 non-null  float64\n",
      " 13  Exited           10000 non-null  int64  \n",
      "dtypes: float64(2), int64(9), object(3)\n",
      "memory usage: 1.1+ MB\n"
     ]
    }
   ],
   "execution_count": 3
  },
  {
   "cell_type": "code",
   "id": "c71045e6a77a086b",
   "metadata": {
    "ExecuteTime": {
     "end_time": "2025-10-04T18:12:58.274082Z",
     "start_time": "2025-10-04T18:12:58.265588Z"
    }
   },
   "source": [
    "dft01.info(memory_usage=\"deep\")"
   ],
   "outputs": [
    {
     "name": "stdout",
     "output_type": "stream",
     "text": [
      "<class 'pandas.core.frame.DataFrame'>\n",
      "RangeIndex: 10000 entries, 0 to 9999\n",
      "Data columns (total 14 columns):\n",
      " #   Column           Non-Null Count  Dtype  \n",
      "---  ------           --------------  -----  \n",
      " 0   RowNumber        10000 non-null  int64  \n",
      " 1   CustomerId       10000 non-null  int64  \n",
      " 2   Surname          10000 non-null  object \n",
      " 3   CreditScore      10000 non-null  int64  \n",
      " 4   Geography        10000 non-null  object \n",
      " 5   Gender           10000 non-null  object \n",
      " 6   Age              10000 non-null  int64  \n",
      " 7   Tenure           10000 non-null  int64  \n",
      " 8   Balance          10000 non-null  float64\n",
      " 9   NumOfProducts    10000 non-null  int64  \n",
      " 10  HasCrCard        10000 non-null  int64  \n",
      " 11  IsActiveMember   10000 non-null  int64  \n",
      " 12  EstimatedSalary  10000 non-null  float64\n",
      " 13  Exited           10000 non-null  int64  \n",
      "dtypes: float64(2), int64(9), object(3)\n",
      "memory usage: 2.4 MB\n"
     ]
    }
   ],
   "execution_count": 4
  },
  {
   "cell_type": "code",
   "id": "2c407b7f4122b7fd",
   "metadata": {
    "ExecuteTime": {
     "end_time": "2025-10-04T18:12:58.435454Z",
     "start_time": "2025-10-04T18:12:58.428845Z"
    }
   },
   "source": [
    "# فهمیدن اینکه هر کدوم از ستون ها چقدر از حافظه را مصرف میکنه\n",
    "\n",
    "dft01.memory_usage(deep=True)"
   ],
   "outputs": [
    {
     "data": {
      "text/plain": [
       "Index                 132\n",
       "RowNumber           80000\n",
       "CustomerId          80000\n",
       "Surname            554349\n",
       "CreditScore         80000\n",
       "Geography          550032\n",
       "Gender             539086\n",
       "Age                 80000\n",
       "Tenure              80000\n",
       "Balance             80000\n",
       "NumOfProducts       80000\n",
       "HasCrCard           80000\n",
       "IsActiveMember      80000\n",
       "EstimatedSalary     80000\n",
       "Exited              80000\n",
       "dtype: int64"
      ]
     },
     "execution_count": 5,
     "metadata": {},
     "output_type": "execute_result"
    }
   ],
   "execution_count": 5
  },
  {
   "cell_type": "code",
   "id": "537597d2",
   "metadata": {
    "ExecuteTime": {
     "end_time": "2025-10-04T18:12:58.581274Z",
     "start_time": "2025-10-04T18:12:58.535081Z"
    }
   },
   "source": [
    "\n",
    "del dft01\n",
    "gc.collect()"
   ],
   "outputs": [
    {
     "data": {
      "text/plain": [
       "76"
      ]
     },
     "execution_count": 6,
     "metadata": {},
     "output_type": "execute_result"
    }
   ],
   "execution_count": 6
  },
  {
   "cell_type": "markdown",
   "id": "8a25e03349207766",
   "metadata": {},
   "source": [
    "### **Trick 02 - نحوه تبدیل داده های گسسته (Convert) در Pandas**\n"
   ]
  },
  {
   "cell_type": "code",
   "id": "af473009fdfc8329",
   "metadata": {
    "ExecuteTime": {
     "end_time": "2025-10-04T18:12:58.775163Z",
     "start_time": "2025-10-04T18:12:58.761128Z"
    }
   },
   "source": [
    "dft02 = pd.read_csv(\"../../00 DATA/titanic.csv\")\n",
    "dft02.info()"
   ],
   "outputs": [
    {
     "name": "stdout",
     "output_type": "stream",
     "text": [
      "<class 'pandas.core.frame.DataFrame'>\n",
      "RangeIndex: 1309 entries, 0 to 1308\n",
      "Data columns (total 14 columns):\n",
      " #   Column     Non-Null Count  Dtype  \n",
      "---  ------     --------------  -----  \n",
      " 0   pclass     1309 non-null   int64  \n",
      " 1   survived   1309 non-null   int64  \n",
      " 2   name       1309 non-null   object \n",
      " 3   sex        1309 non-null   object \n",
      " 4   age        1046 non-null   float64\n",
      " 5   sibsp      1309 non-null   int64  \n",
      " 6   parch      1309 non-null   int64  \n",
      " 7   ticket     1309 non-null   object \n",
      " 8   fare       1308 non-null   float64\n",
      " 9   cabin      295 non-null    object \n",
      " 10  embarked   1307 non-null   object \n",
      " 11  boat       486 non-null    object \n",
      " 12  body       121 non-null    float64\n",
      " 13  home.dest  745 non-null    object \n",
      "dtypes: float64(3), int64(4), object(7)\n",
      "memory usage: 143.3+ KB\n"
     ]
    }
   ],
   "execution_count": 7
  },
  {
   "cell_type": "code",
   "id": "498d3532602fab4e",
   "metadata": {
    "ExecuteTime": {
     "end_time": "2025-10-04T18:12:58.930193Z",
     "start_time": "2025-10-04T18:12:58.922155Z"
    }
   },
   "source": [
    "dft02.head()"
   ],
   "outputs": [
    {
     "data": {
      "text/plain": [
       "   pclass  survived                                             name     sex  \\\n",
       "0       1         1                    Allen, Miss. Elisabeth Walton  female   \n",
       "1       1         1                   Allison, Master. Hudson Trevor    male   \n",
       "2       1         0                     Allison, Miss. Helen Loraine  female   \n",
       "3       1         0             Allison, Mr. Hudson Joshua Creighton    male   \n",
       "4       1         0  Allison, Mrs. Hudson J C (Bessie Waldo Daniels)  female   \n",
       "\n",
       "     age  sibsp  parch  ticket      fare    cabin embarked boat   body  \\\n",
       "0  29.00      0      0   24160  211.3375       B5        S    2    NaN   \n",
       "1   0.92      1      2  113781  151.5500  C22 C26        S   11    NaN   \n",
       "2   2.00      1      2  113781  151.5500  C22 C26        S  NaN    NaN   \n",
       "3  30.00      1      2  113781  151.5500  C22 C26        S  NaN  135.0   \n",
       "4  25.00      1      2  113781  151.5500  C22 C26        S  NaN    NaN   \n",
       "\n",
       "                         home.dest  \n",
       "0                     St Louis, MO  \n",
       "1  Montreal, PQ / Chesterville, ON  \n",
       "2  Montreal, PQ / Chesterville, ON  \n",
       "3  Montreal, PQ / Chesterville, ON  \n",
       "4  Montreal, PQ / Chesterville, ON  "
      ],
      "text/html": [
       "<div>\n",
       "<style scoped>\n",
       "    .dataframe tbody tr th:only-of-type {\n",
       "        vertical-align: middle;\n",
       "    }\n",
       "\n",
       "    .dataframe tbody tr th {\n",
       "        vertical-align: top;\n",
       "    }\n",
       "\n",
       "    .dataframe thead th {\n",
       "        text-align: right;\n",
       "    }\n",
       "</style>\n",
       "<table border=\"1\" class=\"dataframe\">\n",
       "  <thead>\n",
       "    <tr style=\"text-align: right;\">\n",
       "      <th></th>\n",
       "      <th>pclass</th>\n",
       "      <th>survived</th>\n",
       "      <th>name</th>\n",
       "      <th>sex</th>\n",
       "      <th>age</th>\n",
       "      <th>sibsp</th>\n",
       "      <th>parch</th>\n",
       "      <th>ticket</th>\n",
       "      <th>fare</th>\n",
       "      <th>cabin</th>\n",
       "      <th>embarked</th>\n",
       "      <th>boat</th>\n",
       "      <th>body</th>\n",
       "      <th>home.dest</th>\n",
       "    </tr>\n",
       "  </thead>\n",
       "  <tbody>\n",
       "    <tr>\n",
       "      <th>0</th>\n",
       "      <td>1</td>\n",
       "      <td>1</td>\n",
       "      <td>Allen, Miss. Elisabeth Walton</td>\n",
       "      <td>female</td>\n",
       "      <td>29.00</td>\n",
       "      <td>0</td>\n",
       "      <td>0</td>\n",
       "      <td>24160</td>\n",
       "      <td>211.3375</td>\n",
       "      <td>B5</td>\n",
       "      <td>S</td>\n",
       "      <td>2</td>\n",
       "      <td>NaN</td>\n",
       "      <td>St Louis, MO</td>\n",
       "    </tr>\n",
       "    <tr>\n",
       "      <th>1</th>\n",
       "      <td>1</td>\n",
       "      <td>1</td>\n",
       "      <td>Allison, Master. Hudson Trevor</td>\n",
       "      <td>male</td>\n",
       "      <td>0.92</td>\n",
       "      <td>1</td>\n",
       "      <td>2</td>\n",
       "      <td>113781</td>\n",
       "      <td>151.5500</td>\n",
       "      <td>C22 C26</td>\n",
       "      <td>S</td>\n",
       "      <td>11</td>\n",
       "      <td>NaN</td>\n",
       "      <td>Montreal, PQ / Chesterville, ON</td>\n",
       "    </tr>\n",
       "    <tr>\n",
       "      <th>2</th>\n",
       "      <td>1</td>\n",
       "      <td>0</td>\n",
       "      <td>Allison, Miss. Helen Loraine</td>\n",
       "      <td>female</td>\n",
       "      <td>2.00</td>\n",
       "      <td>1</td>\n",
       "      <td>2</td>\n",
       "      <td>113781</td>\n",
       "      <td>151.5500</td>\n",
       "      <td>C22 C26</td>\n",
       "      <td>S</td>\n",
       "      <td>NaN</td>\n",
       "      <td>NaN</td>\n",
       "      <td>Montreal, PQ / Chesterville, ON</td>\n",
       "    </tr>\n",
       "    <tr>\n",
       "      <th>3</th>\n",
       "      <td>1</td>\n",
       "      <td>0</td>\n",
       "      <td>Allison, Mr. Hudson Joshua Creighton</td>\n",
       "      <td>male</td>\n",
       "      <td>30.00</td>\n",
       "      <td>1</td>\n",
       "      <td>2</td>\n",
       "      <td>113781</td>\n",
       "      <td>151.5500</td>\n",
       "      <td>C22 C26</td>\n",
       "      <td>S</td>\n",
       "      <td>NaN</td>\n",
       "      <td>135.0</td>\n",
       "      <td>Montreal, PQ / Chesterville, ON</td>\n",
       "    </tr>\n",
       "    <tr>\n",
       "      <th>4</th>\n",
       "      <td>1</td>\n",
       "      <td>0</td>\n",
       "      <td>Allison, Mrs. Hudson J C (Bessie Waldo Daniels)</td>\n",
       "      <td>female</td>\n",
       "      <td>25.00</td>\n",
       "      <td>1</td>\n",
       "      <td>2</td>\n",
       "      <td>113781</td>\n",
       "      <td>151.5500</td>\n",
       "      <td>C22 C26</td>\n",
       "      <td>S</td>\n",
       "      <td>NaN</td>\n",
       "      <td>NaN</td>\n",
       "      <td>Montreal, PQ / Chesterville, ON</td>\n",
       "    </tr>\n",
       "  </tbody>\n",
       "</table>\n",
       "</div>"
      ]
     },
     "execution_count": 8,
     "metadata": {},
     "output_type": "execute_result"
    }
   ],
   "execution_count": 8
  },
  {
   "cell_type": "code",
   "id": "6459de21eeb7a858",
   "metadata": {
    "ExecuteTime": {
     "end_time": "2025-10-04T18:12:59.085538Z",
     "start_time": "2025-10-04T18:12:59.080907Z"
    }
   },
   "source": [
    "dft02.sex.info()"
   ],
   "outputs": [
    {
     "name": "stdout",
     "output_type": "stream",
     "text": [
      "<class 'pandas.core.series.Series'>\n",
      "RangeIndex: 1309 entries, 0 to 1308\n",
      "Series name: sex\n",
      "Non-Null Count  Dtype \n",
      "--------------  ----- \n",
      "1309 non-null   object\n",
      "dtypes: object(1)\n",
      "memory usage: 10.4+ KB\n"
     ]
    }
   ],
   "execution_count": 9
  },
  {
   "cell_type": "markdown",
   "id": "a4c2f97486a2fc2",
   "metadata": {},
   "source": [
    "#### a) کانورت دستی"
   ]
  },
  {
   "cell_type": "code",
   "id": "9f08a9946d1c37c0",
   "metadata": {
    "ExecuteTime": {
     "end_time": "2025-10-04T18:12:59.379133Z",
     "start_time": "2025-10-04T18:12:59.370827Z"
    }
   },
   "source": [
    "# میخایم نوع دیتا تایپ رو به عدد تغیر بدیم چون اینجا اپجکت هست\n",
    "dft02['sex num'] = dft02.sex.map({'male':0, 'female':1})\n",
    "dft02.head()"
   ],
   "outputs": [
    {
     "data": {
      "text/plain": [
       "   pclass  survived                                             name     sex  \\\n",
       "0       1         1                    Allen, Miss. Elisabeth Walton  female   \n",
       "1       1         1                   Allison, Master. Hudson Trevor    male   \n",
       "2       1         0                     Allison, Miss. Helen Loraine  female   \n",
       "3       1         0             Allison, Mr. Hudson Joshua Creighton    male   \n",
       "4       1         0  Allison, Mrs. Hudson J C (Bessie Waldo Daniels)  female   \n",
       "\n",
       "     age  sibsp  parch  ticket      fare    cabin embarked boat   body  \\\n",
       "0  29.00      0      0   24160  211.3375       B5        S    2    NaN   \n",
       "1   0.92      1      2  113781  151.5500  C22 C26        S   11    NaN   \n",
       "2   2.00      1      2  113781  151.5500  C22 C26        S  NaN    NaN   \n",
       "3  30.00      1      2  113781  151.5500  C22 C26        S  NaN  135.0   \n",
       "4  25.00      1      2  113781  151.5500  C22 C26        S  NaN    NaN   \n",
       "\n",
       "                         home.dest  sex num  \n",
       "0                     St Louis, MO        1  \n",
       "1  Montreal, PQ / Chesterville, ON        0  \n",
       "2  Montreal, PQ / Chesterville, ON        1  \n",
       "3  Montreal, PQ / Chesterville, ON        0  \n",
       "4  Montreal, PQ / Chesterville, ON        1  "
      ],
      "text/html": [
       "<div>\n",
       "<style scoped>\n",
       "    .dataframe tbody tr th:only-of-type {\n",
       "        vertical-align: middle;\n",
       "    }\n",
       "\n",
       "    .dataframe tbody tr th {\n",
       "        vertical-align: top;\n",
       "    }\n",
       "\n",
       "    .dataframe thead th {\n",
       "        text-align: right;\n",
       "    }\n",
       "</style>\n",
       "<table border=\"1\" class=\"dataframe\">\n",
       "  <thead>\n",
       "    <tr style=\"text-align: right;\">\n",
       "      <th></th>\n",
       "      <th>pclass</th>\n",
       "      <th>survived</th>\n",
       "      <th>name</th>\n",
       "      <th>sex</th>\n",
       "      <th>age</th>\n",
       "      <th>sibsp</th>\n",
       "      <th>parch</th>\n",
       "      <th>ticket</th>\n",
       "      <th>fare</th>\n",
       "      <th>cabin</th>\n",
       "      <th>embarked</th>\n",
       "      <th>boat</th>\n",
       "      <th>body</th>\n",
       "      <th>home.dest</th>\n",
       "      <th>sex num</th>\n",
       "    </tr>\n",
       "  </thead>\n",
       "  <tbody>\n",
       "    <tr>\n",
       "      <th>0</th>\n",
       "      <td>1</td>\n",
       "      <td>1</td>\n",
       "      <td>Allen, Miss. Elisabeth Walton</td>\n",
       "      <td>female</td>\n",
       "      <td>29.00</td>\n",
       "      <td>0</td>\n",
       "      <td>0</td>\n",
       "      <td>24160</td>\n",
       "      <td>211.3375</td>\n",
       "      <td>B5</td>\n",
       "      <td>S</td>\n",
       "      <td>2</td>\n",
       "      <td>NaN</td>\n",
       "      <td>St Louis, MO</td>\n",
       "      <td>1</td>\n",
       "    </tr>\n",
       "    <tr>\n",
       "      <th>1</th>\n",
       "      <td>1</td>\n",
       "      <td>1</td>\n",
       "      <td>Allison, Master. Hudson Trevor</td>\n",
       "      <td>male</td>\n",
       "      <td>0.92</td>\n",
       "      <td>1</td>\n",
       "      <td>2</td>\n",
       "      <td>113781</td>\n",
       "      <td>151.5500</td>\n",
       "      <td>C22 C26</td>\n",
       "      <td>S</td>\n",
       "      <td>11</td>\n",
       "      <td>NaN</td>\n",
       "      <td>Montreal, PQ / Chesterville, ON</td>\n",
       "      <td>0</td>\n",
       "    </tr>\n",
       "    <tr>\n",
       "      <th>2</th>\n",
       "      <td>1</td>\n",
       "      <td>0</td>\n",
       "      <td>Allison, Miss. Helen Loraine</td>\n",
       "      <td>female</td>\n",
       "      <td>2.00</td>\n",
       "      <td>1</td>\n",
       "      <td>2</td>\n",
       "      <td>113781</td>\n",
       "      <td>151.5500</td>\n",
       "      <td>C22 C26</td>\n",
       "      <td>S</td>\n",
       "      <td>NaN</td>\n",
       "      <td>NaN</td>\n",
       "      <td>Montreal, PQ / Chesterville, ON</td>\n",
       "      <td>1</td>\n",
       "    </tr>\n",
       "    <tr>\n",
       "      <th>3</th>\n",
       "      <td>1</td>\n",
       "      <td>0</td>\n",
       "      <td>Allison, Mr. Hudson Joshua Creighton</td>\n",
       "      <td>male</td>\n",
       "      <td>30.00</td>\n",
       "      <td>1</td>\n",
       "      <td>2</td>\n",
       "      <td>113781</td>\n",
       "      <td>151.5500</td>\n",
       "      <td>C22 C26</td>\n",
       "      <td>S</td>\n",
       "      <td>NaN</td>\n",
       "      <td>135.0</td>\n",
       "      <td>Montreal, PQ / Chesterville, ON</td>\n",
       "      <td>0</td>\n",
       "    </tr>\n",
       "    <tr>\n",
       "      <th>4</th>\n",
       "      <td>1</td>\n",
       "      <td>0</td>\n",
       "      <td>Allison, Mrs. Hudson J C (Bessie Waldo Daniels)</td>\n",
       "      <td>female</td>\n",
       "      <td>25.00</td>\n",
       "      <td>1</td>\n",
       "      <td>2</td>\n",
       "      <td>113781</td>\n",
       "      <td>151.5500</td>\n",
       "      <td>C22 C26</td>\n",
       "      <td>S</td>\n",
       "      <td>NaN</td>\n",
       "      <td>NaN</td>\n",
       "      <td>Montreal, PQ / Chesterville, ON</td>\n",
       "      <td>1</td>\n",
       "    </tr>\n",
       "  </tbody>\n",
       "</table>\n",
       "</div>"
      ]
     },
     "execution_count": 10,
     "metadata": {},
     "output_type": "execute_result"
    }
   ],
   "execution_count": 10
  },
  {
   "cell_type": "markdown",
   "id": "4d9ab3a7b056b7af",
   "metadata": {},
   "source": [
    "#### b)  کانورت خودکار"
   ]
  },
  {
   "cell_type": "code",
   "id": "1937dbdcc3c4e24a",
   "metadata": {
    "ExecuteTime": {
     "end_time": "2025-10-04T18:12:59.588845Z",
     "start_time": "2025-10-04T18:12:59.582172Z"
    }
   },
   "source": [
    "dft02.embarked.info(), dft02.embarked.head()"
   ],
   "outputs": [
    {
     "name": "stdout",
     "output_type": "stream",
     "text": [
      "<class 'pandas.core.series.Series'>\n",
      "RangeIndex: 1309 entries, 0 to 1308\n",
      "Series name: embarked\n",
      "Non-Null Count  Dtype \n",
      "--------------  ----- \n",
      "1307 non-null   object\n",
      "dtypes: object(1)\n",
      "memory usage: 10.4+ KB\n"
     ]
    },
    {
     "data": {
      "text/plain": [
       "(None,\n",
       " 0    S\n",
       " 1    S\n",
       " 2    S\n",
       " 3    S\n",
       " 4    S\n",
       " Name: embarked, dtype: object)"
      ]
     },
     "execution_count": 11,
     "metadata": {},
     "output_type": "execute_result"
    }
   ],
   "execution_count": 11
  },
  {
   "cell_type": "code",
   "id": "419f79b5b595aca1",
   "metadata": {
    "ExecuteTime": {
     "end_time": "2025-10-04T18:12:59.844891Z",
     "start_time": "2025-10-04T18:12:59.840853Z"
    }
   },
   "source": [
    "# این دستور با استفاده از تابع فکتورایز به صورت خودکار مقدار دهی میکنه برای وقتی که بیش تر از دو پارامتر داریم خوبه\n",
    "dft02['embarked num'] = dft02.embarked.factorize()[0]\n",
    "\n",
    "\n",
    "dft02.embarked.head(20)\n"
   ],
   "outputs": [
    {
     "data": {
      "text/plain": [
       "0     S\n",
       "1     S\n",
       "2     S\n",
       "3     S\n",
       "4     S\n",
       "5     S\n",
       "6     S\n",
       "7     S\n",
       "8     S\n",
       "9     C\n",
       "10    C\n",
       "11    C\n",
       "12    C\n",
       "13    S\n",
       "14    S\n",
       "15    S\n",
       "16    C\n",
       "17    C\n",
       "18    C\n",
       "19    C\n",
       "Name: embarked, dtype: object"
      ]
     },
     "execution_count": 12,
     "metadata": {},
     "output_type": "execute_result"
    }
   ],
   "execution_count": 12
  },
  {
   "cell_type": "code",
   "id": "4137ed110bade341",
   "metadata": {
    "ExecuteTime": {
     "end_time": "2025-10-04T18:12:59.993885Z",
     "start_time": "2025-10-04T18:12:59.990444Z"
    }
   },
   "source": [
    "dft02['embarked num'].head(20)"
   ],
   "outputs": [
    {
     "data": {
      "text/plain": [
       "0     0\n",
       "1     0\n",
       "2     0\n",
       "3     0\n",
       "4     0\n",
       "5     0\n",
       "6     0\n",
       "7     0\n",
       "8     0\n",
       "9     1\n",
       "10    1\n",
       "11    1\n",
       "12    1\n",
       "13    0\n",
       "14    0\n",
       "15    0\n",
       "16    1\n",
       "17    1\n",
       "18    1\n",
       "19    1\n",
       "Name: embarked num, dtype: int64"
      ]
     },
     "execution_count": 13,
     "metadata": {},
     "output_type": "execute_result"
    }
   ],
   "execution_count": 13
  },
  {
   "cell_type": "code",
   "id": "67ce17cc44f26c16",
   "metadata": {
    "ExecuteTime": {
     "end_time": "2025-10-04T18:13:00.275553Z",
     "start_time": "2025-10-04T18:13:00.272155Z"
    }
   },
   "source": [
    "# فهمیدن ترتیب دیتا\n",
    "dft02.embarked.factorize()[1]"
   ],
   "outputs": [
    {
     "data": {
      "text/plain": [
       "Index(['S', 'C', 'Q'], dtype='object')"
      ]
     },
     "execution_count": 14,
     "metadata": {},
     "output_type": "execute_result"
    }
   ],
   "execution_count": 14
  },
  {
   "cell_type": "markdown",
   "id": "7d202cfe67e92c6b",
   "metadata": {},
   "source": [
    "#### c) روش سوم"
   ]
  },
  {
   "cell_type": "code",
   "id": "2cb5c75dc9a20a3",
   "metadata": {
    "ExecuteTime": {
     "end_time": "2025-10-04T18:13:00.495441Z",
     "start_time": "2025-10-04T18:13:00.491166Z"
    }
   },
   "source": [
    "# حالت باینری برای وقتاییی که میخایم صرفا یه جواب صفر یا یک داشته باشیم\n",
    "# ستون sibsp یا ۰ هست یا ۱ یا ۲ ولی ما میخایم فقط ببینیم وجود داره یا نه (پس ۱ با ۲ بودن فرقی نداره)\n",
    "dft02['sibsp'].head(40)"
   ],
   "outputs": [
    {
     "data": {
      "text/plain": [
       "0     0\n",
       "1     1\n",
       "2     1\n",
       "3     1\n",
       "4     1\n",
       "5     0\n",
       "6     1\n",
       "7     0\n",
       "8     2\n",
       "9     0\n",
       "10    1\n",
       "11    1\n",
       "12    0\n",
       "13    0\n",
       "14    0\n",
       "15    0\n",
       "16    0\n",
       "17    0\n",
       "18    0\n",
       "19    0\n",
       "20    1\n",
       "21    1\n",
       "22    0\n",
       "23    0\n",
       "24    0\n",
       "25    0\n",
       "26    1\n",
       "27    1\n",
       "28    0\n",
       "29    0\n",
       "30    0\n",
       "31    0\n",
       "32    0\n",
       "33    0\n",
       "34    0\n",
       "35    0\n",
       "36    0\n",
       "37    0\n",
       "38    0\n",
       "39    0\n",
       "Name: sibsp, dtype: int64"
      ]
     },
     "execution_count": 15,
     "metadata": {},
     "output_type": "execute_result"
    }
   ],
   "execution_count": 15
  },
  {
   "cell_type": "code",
   "id": "1ed02844a537b99e",
   "metadata": {
    "ExecuteTime": {
     "end_time": "2025-10-04T18:13:00.679297Z",
     "start_time": "2025-10-04T18:13:00.674650Z"
    }
   },
   "source": [
    "dft02['sibsp_binary'] = (dft02['sibsp'] > 0).astype(int)\n",
    "dft02['sibsp_binary'].head(20)"
   ],
   "outputs": [
    {
     "data": {
      "text/plain": [
       "0     0\n",
       "1     1\n",
       "2     1\n",
       "3     1\n",
       "4     1\n",
       "5     0\n",
       "6     1\n",
       "7     0\n",
       "8     1\n",
       "9     0\n",
       "10    1\n",
       "11    1\n",
       "12    0\n",
       "13    0\n",
       "14    0\n",
       "15    0\n",
       "16    0\n",
       "17    0\n",
       "18    0\n",
       "19    0\n",
       "Name: sibsp_binary, dtype: int64"
      ]
     },
     "execution_count": 16,
     "metadata": {},
     "output_type": "execute_result"
    }
   ],
   "execution_count": 16
  },
  {
   "cell_type": "code",
   "id": "f4cdaff7",
   "metadata": {
    "ExecuteTime": {
     "end_time": "2025-10-04T18:13:00.890256Z",
     "start_time": "2025-10-04T18:13:00.848304Z"
    }
   },
   "source": [
    "\n",
    "del dft02\n",
    "gc.collect()"
   ],
   "outputs": [
    {
     "data": {
      "text/plain": [
       "12"
      ]
     },
     "execution_count": 17,
     "metadata": {},
     "output_type": "execute_result"
    }
   ],
   "execution_count": 17
  },
  {
   "cell_type": "markdown",
   "id": "18f1492adb19eac",
   "metadata": {},
   "source": [
    "### **Trick 03 - نحوه تبدیل داده های پیوسته (Convert) در Pandas**"
   ]
  },
  {
   "cell_type": "code",
   "id": "68fd15e9698a3d51",
   "metadata": {
    "ExecuteTime": {
     "end_time": "2025-10-04T18:13:01.131344Z",
     "start_time": "2025-10-04T18:13:01.120203Z"
    }
   },
   "source": [
    "dft03 = pd.read_csv(\"../../00 DATA/titanic.csv\")\n",
    "dft03.head()"
   ],
   "outputs": [
    {
     "data": {
      "text/plain": [
       "   pclass  survived                                             name     sex  \\\n",
       "0       1         1                    Allen, Miss. Elisabeth Walton  female   \n",
       "1       1         1                   Allison, Master. Hudson Trevor    male   \n",
       "2       1         0                     Allison, Miss. Helen Loraine  female   \n",
       "3       1         0             Allison, Mr. Hudson Joshua Creighton    male   \n",
       "4       1         0  Allison, Mrs. Hudson J C (Bessie Waldo Daniels)  female   \n",
       "\n",
       "     age  sibsp  parch  ticket      fare    cabin embarked boat   body  \\\n",
       "0  29.00      0      0   24160  211.3375       B5        S    2    NaN   \n",
       "1   0.92      1      2  113781  151.5500  C22 C26        S   11    NaN   \n",
       "2   2.00      1      2  113781  151.5500  C22 C26        S  NaN    NaN   \n",
       "3  30.00      1      2  113781  151.5500  C22 C26        S  NaN  135.0   \n",
       "4  25.00      1      2  113781  151.5500  C22 C26        S  NaN    NaN   \n",
       "\n",
       "                         home.dest  \n",
       "0                     St Louis, MO  \n",
       "1  Montreal, PQ / Chesterville, ON  \n",
       "2  Montreal, PQ / Chesterville, ON  \n",
       "3  Montreal, PQ / Chesterville, ON  \n",
       "4  Montreal, PQ / Chesterville, ON  "
      ],
      "text/html": [
       "<div>\n",
       "<style scoped>\n",
       "    .dataframe tbody tr th:only-of-type {\n",
       "        vertical-align: middle;\n",
       "    }\n",
       "\n",
       "    .dataframe tbody tr th {\n",
       "        vertical-align: top;\n",
       "    }\n",
       "\n",
       "    .dataframe thead th {\n",
       "        text-align: right;\n",
       "    }\n",
       "</style>\n",
       "<table border=\"1\" class=\"dataframe\">\n",
       "  <thead>\n",
       "    <tr style=\"text-align: right;\">\n",
       "      <th></th>\n",
       "      <th>pclass</th>\n",
       "      <th>survived</th>\n",
       "      <th>name</th>\n",
       "      <th>sex</th>\n",
       "      <th>age</th>\n",
       "      <th>sibsp</th>\n",
       "      <th>parch</th>\n",
       "      <th>ticket</th>\n",
       "      <th>fare</th>\n",
       "      <th>cabin</th>\n",
       "      <th>embarked</th>\n",
       "      <th>boat</th>\n",
       "      <th>body</th>\n",
       "      <th>home.dest</th>\n",
       "    </tr>\n",
       "  </thead>\n",
       "  <tbody>\n",
       "    <tr>\n",
       "      <th>0</th>\n",
       "      <td>1</td>\n",
       "      <td>1</td>\n",
       "      <td>Allen, Miss. Elisabeth Walton</td>\n",
       "      <td>female</td>\n",
       "      <td>29.00</td>\n",
       "      <td>0</td>\n",
       "      <td>0</td>\n",
       "      <td>24160</td>\n",
       "      <td>211.3375</td>\n",
       "      <td>B5</td>\n",
       "      <td>S</td>\n",
       "      <td>2</td>\n",
       "      <td>NaN</td>\n",
       "      <td>St Louis, MO</td>\n",
       "    </tr>\n",
       "    <tr>\n",
       "      <th>1</th>\n",
       "      <td>1</td>\n",
       "      <td>1</td>\n",
       "      <td>Allison, Master. Hudson Trevor</td>\n",
       "      <td>male</td>\n",
       "      <td>0.92</td>\n",
       "      <td>1</td>\n",
       "      <td>2</td>\n",
       "      <td>113781</td>\n",
       "      <td>151.5500</td>\n",
       "      <td>C22 C26</td>\n",
       "      <td>S</td>\n",
       "      <td>11</td>\n",
       "      <td>NaN</td>\n",
       "      <td>Montreal, PQ / Chesterville, ON</td>\n",
       "    </tr>\n",
       "    <tr>\n",
       "      <th>2</th>\n",
       "      <td>1</td>\n",
       "      <td>0</td>\n",
       "      <td>Allison, Miss. Helen Loraine</td>\n",
       "      <td>female</td>\n",
       "      <td>2.00</td>\n",
       "      <td>1</td>\n",
       "      <td>2</td>\n",
       "      <td>113781</td>\n",
       "      <td>151.5500</td>\n",
       "      <td>C22 C26</td>\n",
       "      <td>S</td>\n",
       "      <td>NaN</td>\n",
       "      <td>NaN</td>\n",
       "      <td>Montreal, PQ / Chesterville, ON</td>\n",
       "    </tr>\n",
       "    <tr>\n",
       "      <th>3</th>\n",
       "      <td>1</td>\n",
       "      <td>0</td>\n",
       "      <td>Allison, Mr. Hudson Joshua Creighton</td>\n",
       "      <td>male</td>\n",
       "      <td>30.00</td>\n",
       "      <td>1</td>\n",
       "      <td>2</td>\n",
       "      <td>113781</td>\n",
       "      <td>151.5500</td>\n",
       "      <td>C22 C26</td>\n",
       "      <td>S</td>\n",
       "      <td>NaN</td>\n",
       "      <td>135.0</td>\n",
       "      <td>Montreal, PQ / Chesterville, ON</td>\n",
       "    </tr>\n",
       "    <tr>\n",
       "      <th>4</th>\n",
       "      <td>1</td>\n",
       "      <td>0</td>\n",
       "      <td>Allison, Mrs. Hudson J C (Bessie Waldo Daniels)</td>\n",
       "      <td>female</td>\n",
       "      <td>25.00</td>\n",
       "      <td>1</td>\n",
       "      <td>2</td>\n",
       "      <td>113781</td>\n",
       "      <td>151.5500</td>\n",
       "      <td>C22 C26</td>\n",
       "      <td>S</td>\n",
       "      <td>NaN</td>\n",
       "      <td>NaN</td>\n",
       "      <td>Montreal, PQ / Chesterville, ON</td>\n",
       "    </tr>\n",
       "  </tbody>\n",
       "</table>\n",
       "</div>"
      ]
     },
     "execution_count": 18,
     "metadata": {},
     "output_type": "execute_result"
    }
   ],
   "execution_count": 18
  },
  {
   "cell_type": "markdown",
   "id": "fc71da2bd165abe4",
   "metadata": {},
   "source": [
    "#### a)  روش دستی"
   ]
  },
  {
   "cell_type": "code",
   "id": "ac8f7580a242b59",
   "metadata": {
    "ExecuteTime": {
     "end_time": "2025-10-04T18:13:01.315816Z",
     "start_time": "2025-10-04T18:13:01.270619Z"
    }
   },
   "source": [
    "# برای وقتی که درک از دیتا داریم\n",
    "pd.cut(dft03.age , bins = [0,18,25,99], labels = [\"child\",\"young\",\"old\"]).head(20)"
   ],
   "outputs": [
    {
     "data": {
      "text/plain": [
       "0       old\n",
       "1     child\n",
       "2     child\n",
       "3       old\n",
       "4     young\n",
       "5       old\n",
       "6       old\n",
       "7       old\n",
       "8       old\n",
       "9       old\n",
       "10      old\n",
       "11    child\n",
       "12    young\n",
       "13      old\n",
       "14      old\n",
       "15      NaN\n",
       "16    young\n",
       "17      old\n",
       "18      old\n",
       "19      old\n",
       "Name: age, dtype: category\n",
       "Categories (3, object): ['child' < 'young' < 'old']"
      ]
     },
     "execution_count": 19,
     "metadata": {},
     "output_type": "execute_result"
    }
   ],
   "execution_count": 19
  },
  {
   "cell_type": "markdown",
   "id": "5eae2b4ddd5f9c46",
   "metadata": {},
   "source": [
    "#### b) برای وقتی که درکی از دیتا نداریم"
   ]
  },
  {
   "cell_type": "code",
   "id": "9f53ef1b9df78d7e",
   "metadata": {
    "ExecuteTime": {
     "end_time": "2025-10-04T18:13:01.573477Z",
     "start_time": "2025-10-04T18:13:01.504157Z"
    }
   },
   "source": [
    "# p برای اینکه بگیم به چند بخش تقسیم کن\n",
    "# تابع value_counts() این مقدار رو بهم ما نشون میده\n",
    "pd.qcut(dft03['age'], q = 3).value_counts()\n",
    "dft03.head(20)"
   ],
   "outputs": [
    {
     "data": {
      "text/plain": [
       "    pclass  survived                                               name  \\\n",
       "0        1         1                      Allen, Miss. Elisabeth Walton   \n",
       "1        1         1                     Allison, Master. Hudson Trevor   \n",
       "2        1         0                       Allison, Miss. Helen Loraine   \n",
       "3        1         0               Allison, Mr. Hudson Joshua Creighton   \n",
       "4        1         0    Allison, Mrs. Hudson J C (Bessie Waldo Daniels)   \n",
       "5        1         1                                Anderson, Mr. Harry   \n",
       "6        1         1                  Andrews, Miss. Kornelia Theodosia   \n",
       "7        1         0                             Andrews, Mr. Thomas Jr   \n",
       "8        1         1      Appleton, Mrs. Edward Dale (Charlotte Lamson)   \n",
       "9        1         0                            Artagaveytia, Mr. Ramon   \n",
       "10       1         0                             Astor, Col. John Jacob   \n",
       "11       1         1  Astor, Mrs. John Jacob (Madeleine Talmadge Force)   \n",
       "12       1         1                      Aubart, Mme. Leontine Pauline   \n",
       "13       1         1                       Barber, Miss. Ellen \"Nellie\"   \n",
       "14       1         1               Barkworth, Mr. Algernon Henry Wilson   \n",
       "15       1         0                                Baumann, Mr. John D   \n",
       "16       1         0                           Baxter, Mr. Quigg Edmond   \n",
       "17       1         1    Baxter, Mrs. James (Helene DeLaudeniere Chaput)   \n",
       "18       1         1                              Bazzani, Miss. Albina   \n",
       "19       1         0                               Beattie, Mr. Thomson   \n",
       "\n",
       "       sex    age  sibsp  parch    ticket      fare    cabin embarked boat  \\\n",
       "0   female  29.00      0      0     24160  211.3375       B5        S    2   \n",
       "1     male   0.92      1      2    113781  151.5500  C22 C26        S   11   \n",
       "2   female   2.00      1      2    113781  151.5500  C22 C26        S  NaN   \n",
       "3     male  30.00      1      2    113781  151.5500  C22 C26        S  NaN   \n",
       "4   female  25.00      1      2    113781  151.5500  C22 C26        S  NaN   \n",
       "5     male  48.00      0      0     19952   26.5500      E12        S    3   \n",
       "6   female  63.00      1      0     13502   77.9583       D7        S   10   \n",
       "7     male  39.00      0      0    112050    0.0000      A36        S  NaN   \n",
       "8   female  53.00      2      0     11769   51.4792     C101        S    D   \n",
       "9     male  71.00      0      0  PC 17609   49.5042      NaN        C  NaN   \n",
       "10    male  47.00      1      0  PC 17757  227.5250  C62 C64        C  NaN   \n",
       "11  female  18.00      1      0  PC 17757  227.5250  C62 C64        C    4   \n",
       "12  female  24.00      0      0  PC 17477   69.3000      B35        C    9   \n",
       "13  female  26.00      0      0     19877   78.8500      NaN        S    6   \n",
       "14    male  80.00      0      0     27042   30.0000      A23        S    B   \n",
       "15    male    NaN      0      0  PC 17318   25.9250      NaN        S  NaN   \n",
       "16    male  24.00      0      1  PC 17558  247.5208  B58 B60        C  NaN   \n",
       "17  female  50.00      0      1  PC 17558  247.5208  B58 B60        C    6   \n",
       "18  female  32.00      0      0     11813   76.2917      D15        C    8   \n",
       "19    male  36.00      0      0     13050   75.2417       C6        C    A   \n",
       "\n",
       "     body                        home.dest  \n",
       "0     NaN                     St Louis, MO  \n",
       "1     NaN  Montreal, PQ / Chesterville, ON  \n",
       "2     NaN  Montreal, PQ / Chesterville, ON  \n",
       "3   135.0  Montreal, PQ / Chesterville, ON  \n",
       "4     NaN  Montreal, PQ / Chesterville, ON  \n",
       "5     NaN                     New York, NY  \n",
       "6     NaN                       Hudson, NY  \n",
       "7     NaN                      Belfast, NI  \n",
       "8     NaN              Bayside, Queens, NY  \n",
       "9    22.0              Montevideo, Uruguay  \n",
       "10  124.0                     New York, NY  \n",
       "11    NaN                     New York, NY  \n",
       "12    NaN                    Paris, France  \n",
       "13    NaN                              NaN  \n",
       "14    NaN                    Hessle, Yorks  \n",
       "15    NaN                     New York, NY  \n",
       "16    NaN                     Montreal, PQ  \n",
       "17    NaN                     Montreal, PQ  \n",
       "18    NaN                              NaN  \n",
       "19    NaN                     Winnipeg, MN  "
      ],
      "text/html": [
       "<div>\n",
       "<style scoped>\n",
       "    .dataframe tbody tr th:only-of-type {\n",
       "        vertical-align: middle;\n",
       "    }\n",
       "\n",
       "    .dataframe tbody tr th {\n",
       "        vertical-align: top;\n",
       "    }\n",
       "\n",
       "    .dataframe thead th {\n",
       "        text-align: right;\n",
       "    }\n",
       "</style>\n",
       "<table border=\"1\" class=\"dataframe\">\n",
       "  <thead>\n",
       "    <tr style=\"text-align: right;\">\n",
       "      <th></th>\n",
       "      <th>pclass</th>\n",
       "      <th>survived</th>\n",
       "      <th>name</th>\n",
       "      <th>sex</th>\n",
       "      <th>age</th>\n",
       "      <th>sibsp</th>\n",
       "      <th>parch</th>\n",
       "      <th>ticket</th>\n",
       "      <th>fare</th>\n",
       "      <th>cabin</th>\n",
       "      <th>embarked</th>\n",
       "      <th>boat</th>\n",
       "      <th>body</th>\n",
       "      <th>home.dest</th>\n",
       "    </tr>\n",
       "  </thead>\n",
       "  <tbody>\n",
       "    <tr>\n",
       "      <th>0</th>\n",
       "      <td>1</td>\n",
       "      <td>1</td>\n",
       "      <td>Allen, Miss. Elisabeth Walton</td>\n",
       "      <td>female</td>\n",
       "      <td>29.00</td>\n",
       "      <td>0</td>\n",
       "      <td>0</td>\n",
       "      <td>24160</td>\n",
       "      <td>211.3375</td>\n",
       "      <td>B5</td>\n",
       "      <td>S</td>\n",
       "      <td>2</td>\n",
       "      <td>NaN</td>\n",
       "      <td>St Louis, MO</td>\n",
       "    </tr>\n",
       "    <tr>\n",
       "      <th>1</th>\n",
       "      <td>1</td>\n",
       "      <td>1</td>\n",
       "      <td>Allison, Master. Hudson Trevor</td>\n",
       "      <td>male</td>\n",
       "      <td>0.92</td>\n",
       "      <td>1</td>\n",
       "      <td>2</td>\n",
       "      <td>113781</td>\n",
       "      <td>151.5500</td>\n",
       "      <td>C22 C26</td>\n",
       "      <td>S</td>\n",
       "      <td>11</td>\n",
       "      <td>NaN</td>\n",
       "      <td>Montreal, PQ / Chesterville, ON</td>\n",
       "    </tr>\n",
       "    <tr>\n",
       "      <th>2</th>\n",
       "      <td>1</td>\n",
       "      <td>0</td>\n",
       "      <td>Allison, Miss. Helen Loraine</td>\n",
       "      <td>female</td>\n",
       "      <td>2.00</td>\n",
       "      <td>1</td>\n",
       "      <td>2</td>\n",
       "      <td>113781</td>\n",
       "      <td>151.5500</td>\n",
       "      <td>C22 C26</td>\n",
       "      <td>S</td>\n",
       "      <td>NaN</td>\n",
       "      <td>NaN</td>\n",
       "      <td>Montreal, PQ / Chesterville, ON</td>\n",
       "    </tr>\n",
       "    <tr>\n",
       "      <th>3</th>\n",
       "      <td>1</td>\n",
       "      <td>0</td>\n",
       "      <td>Allison, Mr. Hudson Joshua Creighton</td>\n",
       "      <td>male</td>\n",
       "      <td>30.00</td>\n",
       "      <td>1</td>\n",
       "      <td>2</td>\n",
       "      <td>113781</td>\n",
       "      <td>151.5500</td>\n",
       "      <td>C22 C26</td>\n",
       "      <td>S</td>\n",
       "      <td>NaN</td>\n",
       "      <td>135.0</td>\n",
       "      <td>Montreal, PQ / Chesterville, ON</td>\n",
       "    </tr>\n",
       "    <tr>\n",
       "      <th>4</th>\n",
       "      <td>1</td>\n",
       "      <td>0</td>\n",
       "      <td>Allison, Mrs. Hudson J C (Bessie Waldo Daniels)</td>\n",
       "      <td>female</td>\n",
       "      <td>25.00</td>\n",
       "      <td>1</td>\n",
       "      <td>2</td>\n",
       "      <td>113781</td>\n",
       "      <td>151.5500</td>\n",
       "      <td>C22 C26</td>\n",
       "      <td>S</td>\n",
       "      <td>NaN</td>\n",
       "      <td>NaN</td>\n",
       "      <td>Montreal, PQ / Chesterville, ON</td>\n",
       "    </tr>\n",
       "    <tr>\n",
       "      <th>5</th>\n",
       "      <td>1</td>\n",
       "      <td>1</td>\n",
       "      <td>Anderson, Mr. Harry</td>\n",
       "      <td>male</td>\n",
       "      <td>48.00</td>\n",
       "      <td>0</td>\n",
       "      <td>0</td>\n",
       "      <td>19952</td>\n",
       "      <td>26.5500</td>\n",
       "      <td>E12</td>\n",
       "      <td>S</td>\n",
       "      <td>3</td>\n",
       "      <td>NaN</td>\n",
       "      <td>New York, NY</td>\n",
       "    </tr>\n",
       "    <tr>\n",
       "      <th>6</th>\n",
       "      <td>1</td>\n",
       "      <td>1</td>\n",
       "      <td>Andrews, Miss. Kornelia Theodosia</td>\n",
       "      <td>female</td>\n",
       "      <td>63.00</td>\n",
       "      <td>1</td>\n",
       "      <td>0</td>\n",
       "      <td>13502</td>\n",
       "      <td>77.9583</td>\n",
       "      <td>D7</td>\n",
       "      <td>S</td>\n",
       "      <td>10</td>\n",
       "      <td>NaN</td>\n",
       "      <td>Hudson, NY</td>\n",
       "    </tr>\n",
       "    <tr>\n",
       "      <th>7</th>\n",
       "      <td>1</td>\n",
       "      <td>0</td>\n",
       "      <td>Andrews, Mr. Thomas Jr</td>\n",
       "      <td>male</td>\n",
       "      <td>39.00</td>\n",
       "      <td>0</td>\n",
       "      <td>0</td>\n",
       "      <td>112050</td>\n",
       "      <td>0.0000</td>\n",
       "      <td>A36</td>\n",
       "      <td>S</td>\n",
       "      <td>NaN</td>\n",
       "      <td>NaN</td>\n",
       "      <td>Belfast, NI</td>\n",
       "    </tr>\n",
       "    <tr>\n",
       "      <th>8</th>\n",
       "      <td>1</td>\n",
       "      <td>1</td>\n",
       "      <td>Appleton, Mrs. Edward Dale (Charlotte Lamson)</td>\n",
       "      <td>female</td>\n",
       "      <td>53.00</td>\n",
       "      <td>2</td>\n",
       "      <td>0</td>\n",
       "      <td>11769</td>\n",
       "      <td>51.4792</td>\n",
       "      <td>C101</td>\n",
       "      <td>S</td>\n",
       "      <td>D</td>\n",
       "      <td>NaN</td>\n",
       "      <td>Bayside, Queens, NY</td>\n",
       "    </tr>\n",
       "    <tr>\n",
       "      <th>9</th>\n",
       "      <td>1</td>\n",
       "      <td>0</td>\n",
       "      <td>Artagaveytia, Mr. Ramon</td>\n",
       "      <td>male</td>\n",
       "      <td>71.00</td>\n",
       "      <td>0</td>\n",
       "      <td>0</td>\n",
       "      <td>PC 17609</td>\n",
       "      <td>49.5042</td>\n",
       "      <td>NaN</td>\n",
       "      <td>C</td>\n",
       "      <td>NaN</td>\n",
       "      <td>22.0</td>\n",
       "      <td>Montevideo, Uruguay</td>\n",
       "    </tr>\n",
       "    <tr>\n",
       "      <th>10</th>\n",
       "      <td>1</td>\n",
       "      <td>0</td>\n",
       "      <td>Astor, Col. John Jacob</td>\n",
       "      <td>male</td>\n",
       "      <td>47.00</td>\n",
       "      <td>1</td>\n",
       "      <td>0</td>\n",
       "      <td>PC 17757</td>\n",
       "      <td>227.5250</td>\n",
       "      <td>C62 C64</td>\n",
       "      <td>C</td>\n",
       "      <td>NaN</td>\n",
       "      <td>124.0</td>\n",
       "      <td>New York, NY</td>\n",
       "    </tr>\n",
       "    <tr>\n",
       "      <th>11</th>\n",
       "      <td>1</td>\n",
       "      <td>1</td>\n",
       "      <td>Astor, Mrs. John Jacob (Madeleine Talmadge Force)</td>\n",
       "      <td>female</td>\n",
       "      <td>18.00</td>\n",
       "      <td>1</td>\n",
       "      <td>0</td>\n",
       "      <td>PC 17757</td>\n",
       "      <td>227.5250</td>\n",
       "      <td>C62 C64</td>\n",
       "      <td>C</td>\n",
       "      <td>4</td>\n",
       "      <td>NaN</td>\n",
       "      <td>New York, NY</td>\n",
       "    </tr>\n",
       "    <tr>\n",
       "      <th>12</th>\n",
       "      <td>1</td>\n",
       "      <td>1</td>\n",
       "      <td>Aubart, Mme. Leontine Pauline</td>\n",
       "      <td>female</td>\n",
       "      <td>24.00</td>\n",
       "      <td>0</td>\n",
       "      <td>0</td>\n",
       "      <td>PC 17477</td>\n",
       "      <td>69.3000</td>\n",
       "      <td>B35</td>\n",
       "      <td>C</td>\n",
       "      <td>9</td>\n",
       "      <td>NaN</td>\n",
       "      <td>Paris, France</td>\n",
       "    </tr>\n",
       "    <tr>\n",
       "      <th>13</th>\n",
       "      <td>1</td>\n",
       "      <td>1</td>\n",
       "      <td>Barber, Miss. Ellen \"Nellie\"</td>\n",
       "      <td>female</td>\n",
       "      <td>26.00</td>\n",
       "      <td>0</td>\n",
       "      <td>0</td>\n",
       "      <td>19877</td>\n",
       "      <td>78.8500</td>\n",
       "      <td>NaN</td>\n",
       "      <td>S</td>\n",
       "      <td>6</td>\n",
       "      <td>NaN</td>\n",
       "      <td>NaN</td>\n",
       "    </tr>\n",
       "    <tr>\n",
       "      <th>14</th>\n",
       "      <td>1</td>\n",
       "      <td>1</td>\n",
       "      <td>Barkworth, Mr. Algernon Henry Wilson</td>\n",
       "      <td>male</td>\n",
       "      <td>80.00</td>\n",
       "      <td>0</td>\n",
       "      <td>0</td>\n",
       "      <td>27042</td>\n",
       "      <td>30.0000</td>\n",
       "      <td>A23</td>\n",
       "      <td>S</td>\n",
       "      <td>B</td>\n",
       "      <td>NaN</td>\n",
       "      <td>Hessle, Yorks</td>\n",
       "    </tr>\n",
       "    <tr>\n",
       "      <th>15</th>\n",
       "      <td>1</td>\n",
       "      <td>0</td>\n",
       "      <td>Baumann, Mr. John D</td>\n",
       "      <td>male</td>\n",
       "      <td>NaN</td>\n",
       "      <td>0</td>\n",
       "      <td>0</td>\n",
       "      <td>PC 17318</td>\n",
       "      <td>25.9250</td>\n",
       "      <td>NaN</td>\n",
       "      <td>S</td>\n",
       "      <td>NaN</td>\n",
       "      <td>NaN</td>\n",
       "      <td>New York, NY</td>\n",
       "    </tr>\n",
       "    <tr>\n",
       "      <th>16</th>\n",
       "      <td>1</td>\n",
       "      <td>0</td>\n",
       "      <td>Baxter, Mr. Quigg Edmond</td>\n",
       "      <td>male</td>\n",
       "      <td>24.00</td>\n",
       "      <td>0</td>\n",
       "      <td>1</td>\n",
       "      <td>PC 17558</td>\n",
       "      <td>247.5208</td>\n",
       "      <td>B58 B60</td>\n",
       "      <td>C</td>\n",
       "      <td>NaN</td>\n",
       "      <td>NaN</td>\n",
       "      <td>Montreal, PQ</td>\n",
       "    </tr>\n",
       "    <tr>\n",
       "      <th>17</th>\n",
       "      <td>1</td>\n",
       "      <td>1</td>\n",
       "      <td>Baxter, Mrs. James (Helene DeLaudeniere Chaput)</td>\n",
       "      <td>female</td>\n",
       "      <td>50.00</td>\n",
       "      <td>0</td>\n",
       "      <td>1</td>\n",
       "      <td>PC 17558</td>\n",
       "      <td>247.5208</td>\n",
       "      <td>B58 B60</td>\n",
       "      <td>C</td>\n",
       "      <td>6</td>\n",
       "      <td>NaN</td>\n",
       "      <td>Montreal, PQ</td>\n",
       "    </tr>\n",
       "    <tr>\n",
       "      <th>18</th>\n",
       "      <td>1</td>\n",
       "      <td>1</td>\n",
       "      <td>Bazzani, Miss. Albina</td>\n",
       "      <td>female</td>\n",
       "      <td>32.00</td>\n",
       "      <td>0</td>\n",
       "      <td>0</td>\n",
       "      <td>11813</td>\n",
       "      <td>76.2917</td>\n",
       "      <td>D15</td>\n",
       "      <td>C</td>\n",
       "      <td>8</td>\n",
       "      <td>NaN</td>\n",
       "      <td>NaN</td>\n",
       "    </tr>\n",
       "    <tr>\n",
       "      <th>19</th>\n",
       "      <td>1</td>\n",
       "      <td>0</td>\n",
       "      <td>Beattie, Mr. Thomson</td>\n",
       "      <td>male</td>\n",
       "      <td>36.00</td>\n",
       "      <td>0</td>\n",
       "      <td>0</td>\n",
       "      <td>13050</td>\n",
       "      <td>75.2417</td>\n",
       "      <td>C6</td>\n",
       "      <td>C</td>\n",
       "      <td>A</td>\n",
       "      <td>NaN</td>\n",
       "      <td>Winnipeg, MN</td>\n",
       "    </tr>\n",
       "  </tbody>\n",
       "</table>\n",
       "</div>"
      ]
     },
     "execution_count": 20,
     "metadata": {},
     "output_type": "execute_result"
    }
   ],
   "execution_count": 20
  },
  {
   "cell_type": "code",
   "id": "37314a06",
   "metadata": {
    "ExecuteTime": {
     "end_time": "2025-10-04T18:13:01.775441Z",
     "start_time": "2025-10-04T18:13:01.730857Z"
    }
   },
   "source": [
    "\n",
    "del dft03\n",
    "gc.collect()"
   ],
   "outputs": [
    {
     "data": {
      "text/plain": [
       "12"
      ]
     },
     "execution_count": 21,
     "metadata": {},
     "output_type": "execute_result"
    }
   ],
   "execution_count": 21
  },
  {
   "cell_type": "markdown",
   "id": "7dfb007edbfa6a5a",
   "metadata": {},
   "source": [
    "### **Trick 04 - نحوه تغییر نمایش (Display Option) در Pandas**"
   ]
  },
  {
   "cell_type": "code",
   "id": "3f0a8cae12218498",
   "metadata": {
    "ExecuteTime": {
     "end_time": "2025-10-04T18:13:01.976088Z",
     "start_time": "2025-10-04T18:13:01.968656Z"
    }
   },
   "source": [
    "dft04 = pd.read_csv(\"../../00 DATA/titanic.csv\")\n",
    "dft04.fare\n"
   ],
   "outputs": [
    {
     "data": {
      "text/plain": [
       "0       211.3375\n",
       "1       151.5500\n",
       "2       151.5500\n",
       "3       151.5500\n",
       "4       151.5500\n",
       "          ...   \n",
       "1304     14.4542\n",
       "1305     14.4542\n",
       "1306      7.2250\n",
       "1307      7.2250\n",
       "1308      7.8750\n",
       "Name: fare, Length: 1309, dtype: float64"
      ]
     },
     "execution_count": 22,
     "metadata": {},
     "output_type": "execute_result"
    }
   ],
   "execution_count": 22
  },
  {
   "cell_type": "markdown",
   "id": "398521f6d74bdd7d",
   "metadata": {},
   "source": [
    "#### a) تنظیم رقم اعشار"
   ]
  },
  {
   "cell_type": "code",
   "id": "61d3ca177c669cd4",
   "metadata": {
    "ExecuteTime": {
     "end_time": "2025-10-04T18:13:02.157466Z",
     "start_time": "2025-10-04T18:13:02.154697Z"
    }
   },
   "source": [
    "pd.set_option('display.float_format', lambda x: '%.10f' % x)"
   ],
   "outputs": [],
   "execution_count": 23
  },
  {
   "cell_type": "code",
   "id": "bf8801cb16135284",
   "metadata": {
    "ExecuteTime": {
     "end_time": "2025-10-04T18:13:02.317938Z",
     "start_time": "2025-10-04T18:13:02.313886Z"
    }
   },
   "source": [
    "pd.set_option('display.float_format', lambda x: '%.1f' % x)\n",
    "dft04.fare\n",
    "# دقت کنید این کار روی کل پانداس اعمال میشه نه دیتا فریم\n"
   ],
   "outputs": [
    {
     "data": {
      "text/plain": [
       "0      211.3\n",
       "1      151.6\n",
       "2      151.6\n",
       "3      151.6\n",
       "4      151.6\n",
       "        ... \n",
       "1304    14.5\n",
       "1305    14.5\n",
       "1306     7.2\n",
       "1307     7.2\n",
       "1308     7.9\n",
       "Name: fare, Length: 1309, dtype: float64"
      ]
     },
     "execution_count": 24,
     "metadata": {},
     "output_type": "execute_result"
    }
   ],
   "execution_count": 24
  },
  {
   "cell_type": "markdown",
   "id": "fe8e33c46d64b193",
   "metadata": {},
   "source": [
    "#### b) برای ریست کردن"
   ]
  },
  {
   "cell_type": "code",
   "id": "dfc900d71c581e2c",
   "metadata": {
    "ExecuteTime": {
     "end_time": "2025-10-04T18:13:02.473866Z",
     "start_time": "2025-10-04T18:13:02.470036Z"
    }
   },
   "source": [
    "pd.reset_option('display.float_format')\n",
    "dft04.fare"
   ],
   "outputs": [
    {
     "data": {
      "text/plain": [
       "0       211.3375\n",
       "1       151.5500\n",
       "2       151.5500\n",
       "3       151.5500\n",
       "4       151.5500\n",
       "          ...   \n",
       "1304     14.4542\n",
       "1305     14.4542\n",
       "1306      7.2250\n",
       "1307      7.2250\n",
       "1308      7.8750\n",
       "Name: fare, Length: 1309, dtype: float64"
      ]
     },
     "execution_count": 25,
     "metadata": {},
     "output_type": "execute_result"
    }
   ],
   "execution_count": 25
  },
  {
   "cell_type": "code",
   "id": "79db66a453b77068",
   "metadata": {
    "ExecuteTime": {
     "end_time": "2025-10-04T18:13:02.678828Z",
     "start_time": "2025-10-04T18:13:02.674100Z"
    }
   },
   "source": [
    "pd.set_option('display.float_format', lambda x: '%.1f' % x)\n",
    "print(dft04.fare)\n",
    "pd.reset_option('display.float_format')\n",
    "print(dft04.fare)"
   ],
   "outputs": [
    {
     "name": "stdout",
     "output_type": "stream",
     "text": [
      "0      211.3\n",
      "1      151.6\n",
      "2      151.6\n",
      "3      151.6\n",
      "4      151.6\n",
      "        ... \n",
      "1304    14.5\n",
      "1305    14.5\n",
      "1306     7.2\n",
      "1307     7.2\n",
      "1308     7.9\n",
      "Name: fare, Length: 1309, dtype: float64\n",
      "0       211.3375\n",
      "1       151.5500\n",
      "2       151.5500\n",
      "3       151.5500\n",
      "4       151.5500\n",
      "          ...   \n",
      "1304     14.4542\n",
      "1305     14.4542\n",
      "1306      7.2250\n",
      "1307      7.2250\n",
      "1308      7.8750\n",
      "Name: fare, Length: 1309, dtype: float64\n"
     ]
    }
   ],
   "execution_count": 26
  },
  {
   "cell_type": "code",
   "id": "2b8a01c5fa4b85b5",
   "metadata": {
    "ExecuteTime": {
     "end_time": "2025-10-04T18:13:02.919945Z",
     "start_time": "2025-10-04T18:13:02.878817Z"
    }
   },
   "source": [
    "\n",
    "del dft04\n",
    "gc.collect()"
   ],
   "outputs": [
    {
     "data": {
      "text/plain": [
       "12"
      ]
     },
     "execution_count": 27,
     "metadata": {},
     "output_type": "execute_result"
    }
   ],
   "execution_count": 27
  },
  {
   "cell_type": "markdown",
   "id": "117a04a5bd099d50",
   "metadata": {},
   "source": [
    "### **Trick 05 - نحوه تغییر استایل (Styling) در Pandas**"
   ]
  },
  {
   "cell_type": "code",
   "id": "2e4f7ecc12c65019",
   "metadata": {
    "ExecuteTime": {
     "end_time": "2025-10-04T18:13:03.020447Z",
     "start_time": "2025-10-04T18:13:03.017779Z"
    }
   },
   "source": [
    "import warnings\n",
    "warnings.filterwarnings('ignore')\n",
    "# این کار باعث میشه فایل نهایی شامل وارنینگ ها نباشه که از نظر بصری خروجی بهتری داشته باشیم\n"
   ],
   "outputs": [],
   "execution_count": 28
  },
  {
   "cell_type": "code",
   "id": "c0d49f1d2b17b2a",
   "metadata": {
    "ExecuteTime": {
     "end_time": "2025-10-04T18:13:03.087659Z",
     "start_time": "2025-10-04T18:13:03.070168Z"
    }
   },
   "source": [
    "dft05 = pd.read_csv(\"../../00 DATA/stocks.csv\")\n",
    "dft05.head()\n",
    "#(dft05.style.background_gradient(cmap='RdYlGn'))"
   ],
   "outputs": [
    {
     "data": {
      "text/plain": [
       "         Date   Close    Volume Symbol\n",
       "0  2016-10-03   31.50  14070500   CSCO\n",
       "1  2016-10-03  112.52  21701800   AAPL\n",
       "2  2016-10-03   57.42  19189500   MSFT\n",
       "3  2016-10-04  113.00  29736800   AAPL\n",
       "4  2016-10-04   57.24  20085900   MSFT"
      ],
      "text/html": [
       "<div>\n",
       "<style scoped>\n",
       "    .dataframe tbody tr th:only-of-type {\n",
       "        vertical-align: middle;\n",
       "    }\n",
       "\n",
       "    .dataframe tbody tr th {\n",
       "        vertical-align: top;\n",
       "    }\n",
       "\n",
       "    .dataframe thead th {\n",
       "        text-align: right;\n",
       "    }\n",
       "</style>\n",
       "<table border=\"1\" class=\"dataframe\">\n",
       "  <thead>\n",
       "    <tr style=\"text-align: right;\">\n",
       "      <th></th>\n",
       "      <th>Date</th>\n",
       "      <th>Close</th>\n",
       "      <th>Volume</th>\n",
       "      <th>Symbol</th>\n",
       "    </tr>\n",
       "  </thead>\n",
       "  <tbody>\n",
       "    <tr>\n",
       "      <th>0</th>\n",
       "      <td>2016-10-03</td>\n",
       "      <td>31.50</td>\n",
       "      <td>14070500</td>\n",
       "      <td>CSCO</td>\n",
       "    </tr>\n",
       "    <tr>\n",
       "      <th>1</th>\n",
       "      <td>2016-10-03</td>\n",
       "      <td>112.52</td>\n",
       "      <td>21701800</td>\n",
       "      <td>AAPL</td>\n",
       "    </tr>\n",
       "    <tr>\n",
       "      <th>2</th>\n",
       "      <td>2016-10-03</td>\n",
       "      <td>57.42</td>\n",
       "      <td>19189500</td>\n",
       "      <td>MSFT</td>\n",
       "    </tr>\n",
       "    <tr>\n",
       "      <th>3</th>\n",
       "      <td>2016-10-04</td>\n",
       "      <td>113.00</td>\n",
       "      <td>29736800</td>\n",
       "      <td>AAPL</td>\n",
       "    </tr>\n",
       "    <tr>\n",
       "      <th>4</th>\n",
       "      <td>2016-10-04</td>\n",
       "      <td>57.24</td>\n",
       "      <td>20085900</td>\n",
       "      <td>MSFT</td>\n",
       "    </tr>\n",
       "  </tbody>\n",
       "</table>\n",
       "</div>"
      ]
     },
     "execution_count": 29,
     "metadata": {},
     "output_type": "execute_result"
    }
   ],
   "execution_count": 29
  },
  {
   "cell_type": "markdown",
   "id": "85137c90c810ec5d",
   "metadata": {},
   "source": [
    "**DATA Frame Styling**"
   ]
  },
  {
   "cell_type": "code",
   "id": "907c737244f5d0f5",
   "metadata": {
    "ExecuteTime": {
     "end_time": "2025-10-04T18:13:03.184303Z",
     "start_time": "2025-10-04T18:13:03.181701Z"
    }
   },
   "source": [
    "formatter = {'Close': '${:.2f}', 'Volume': '{:,}'}\n",
    "# یک علامت دلار قبل کلوسر میاد و تا دورقم اعشار نمایش داده میشه\n",
    "# , به طور خودکار سه رقم سه رقم جدا میشه\n"
   ],
   "outputs": [],
   "execution_count": 30
  },
  {
   "cell_type": "markdown",
   "id": "7357bf203440a22",
   "metadata": {},
   "source": [
    "#### a) حالت اول"
   ]
  },
  {
   "cell_type": "code",
   "id": "db73d558c530b66c",
   "metadata": {
    "ExecuteTime": {
     "end_time": "2025-10-04T18:13:03.338599Z",
     "start_time": "2025-10-04T18:13:03.335508Z"
    }
   },
   "source": [
    "dft05.columns"
   ],
   "outputs": [
    {
     "data": {
      "text/plain": [
       "Index(['Date', 'Close', 'Volume', 'Symbol'], dtype='object')"
      ]
     },
     "execution_count": 31,
     "metadata": {},
     "output_type": "execute_result"
    }
   ],
   "execution_count": 31
  },
  {
   "cell_type": "code",
   "id": "cd63850537b3d351",
   "metadata": {
    "ExecuteTime": {
     "end_time": "2025-10-04T18:13:03.531014Z",
     "start_time": "2025-10-04T18:13:03.461412Z"
    }
   },
   "source": [
    "dft05.style.format(formatter)"
   ],
   "outputs": [
    {
     "data": {
      "text/plain": [
       "<pandas.io.formats.style.Styler at 0x192cbca8050>"
      ],
      "text/html": [
       "<style type=\"text/css\">\n",
       "</style>\n",
       "<table id=\"T_d76d8\">\n",
       "  <thead>\n",
       "    <tr>\n",
       "      <th class=\"blank level0\" >&nbsp;</th>\n",
       "      <th id=\"T_d76d8_level0_col0\" class=\"col_heading level0 col0\" >Date</th>\n",
       "      <th id=\"T_d76d8_level0_col1\" class=\"col_heading level0 col1\" >Close</th>\n",
       "      <th id=\"T_d76d8_level0_col2\" class=\"col_heading level0 col2\" >Volume</th>\n",
       "      <th id=\"T_d76d8_level0_col3\" class=\"col_heading level0 col3\" >Symbol</th>\n",
       "    </tr>\n",
       "  </thead>\n",
       "  <tbody>\n",
       "    <tr>\n",
       "      <th id=\"T_d76d8_level0_row0\" class=\"row_heading level0 row0\" >0</th>\n",
       "      <td id=\"T_d76d8_row0_col0\" class=\"data row0 col0\" >2016-10-03</td>\n",
       "      <td id=\"T_d76d8_row0_col1\" class=\"data row0 col1\" >$31.50</td>\n",
       "      <td id=\"T_d76d8_row0_col2\" class=\"data row0 col2\" >14,070,500</td>\n",
       "      <td id=\"T_d76d8_row0_col3\" class=\"data row0 col3\" >CSCO</td>\n",
       "    </tr>\n",
       "    <tr>\n",
       "      <th id=\"T_d76d8_level0_row1\" class=\"row_heading level0 row1\" >1</th>\n",
       "      <td id=\"T_d76d8_row1_col0\" class=\"data row1 col0\" >2016-10-03</td>\n",
       "      <td id=\"T_d76d8_row1_col1\" class=\"data row1 col1\" >$112.52</td>\n",
       "      <td id=\"T_d76d8_row1_col2\" class=\"data row1 col2\" >21,701,800</td>\n",
       "      <td id=\"T_d76d8_row1_col3\" class=\"data row1 col3\" >AAPL</td>\n",
       "    </tr>\n",
       "    <tr>\n",
       "      <th id=\"T_d76d8_level0_row2\" class=\"row_heading level0 row2\" >2</th>\n",
       "      <td id=\"T_d76d8_row2_col0\" class=\"data row2 col0\" >2016-10-03</td>\n",
       "      <td id=\"T_d76d8_row2_col1\" class=\"data row2 col1\" >$57.42</td>\n",
       "      <td id=\"T_d76d8_row2_col2\" class=\"data row2 col2\" >19,189,500</td>\n",
       "      <td id=\"T_d76d8_row2_col3\" class=\"data row2 col3\" >MSFT</td>\n",
       "    </tr>\n",
       "    <tr>\n",
       "      <th id=\"T_d76d8_level0_row3\" class=\"row_heading level0 row3\" >3</th>\n",
       "      <td id=\"T_d76d8_row3_col0\" class=\"data row3 col0\" >2016-10-04</td>\n",
       "      <td id=\"T_d76d8_row3_col1\" class=\"data row3 col1\" >$113.00</td>\n",
       "      <td id=\"T_d76d8_row3_col2\" class=\"data row3 col2\" >29,736,800</td>\n",
       "      <td id=\"T_d76d8_row3_col3\" class=\"data row3 col3\" >AAPL</td>\n",
       "    </tr>\n",
       "    <tr>\n",
       "      <th id=\"T_d76d8_level0_row4\" class=\"row_heading level0 row4\" >4</th>\n",
       "      <td id=\"T_d76d8_row4_col0\" class=\"data row4 col0\" >2016-10-04</td>\n",
       "      <td id=\"T_d76d8_row4_col1\" class=\"data row4 col1\" >$57.24</td>\n",
       "      <td id=\"T_d76d8_row4_col2\" class=\"data row4 col2\" >20,085,900</td>\n",
       "      <td id=\"T_d76d8_row4_col3\" class=\"data row4 col3\" >MSFT</td>\n",
       "    </tr>\n",
       "    <tr>\n",
       "      <th id=\"T_d76d8_level0_row5\" class=\"row_heading level0 row5\" >5</th>\n",
       "      <td id=\"T_d76d8_row5_col0\" class=\"data row5 col0\" >2016-10-04</td>\n",
       "      <td id=\"T_d76d8_row5_col1\" class=\"data row5 col1\" >$31.35</td>\n",
       "      <td id=\"T_d76d8_row5_col2\" class=\"data row5 col2\" >18,460,400</td>\n",
       "      <td id=\"T_d76d8_row5_col3\" class=\"data row5 col3\" >CSCO</td>\n",
       "    </tr>\n",
       "    <tr>\n",
       "      <th id=\"T_d76d8_level0_row6\" class=\"row_heading level0 row6\" >6</th>\n",
       "      <td id=\"T_d76d8_row6_col0\" class=\"data row6 col0\" >2016-10-05</td>\n",
       "      <td id=\"T_d76d8_row6_col1\" class=\"data row6 col1\" >$57.64</td>\n",
       "      <td id=\"T_d76d8_row6_col2\" class=\"data row6 col2\" >16,726,400</td>\n",
       "      <td id=\"T_d76d8_row6_col3\" class=\"data row6 col3\" >MSFT</td>\n",
       "    </tr>\n",
       "    <tr>\n",
       "      <th id=\"T_d76d8_level0_row7\" class=\"row_heading level0 row7\" >7</th>\n",
       "      <td id=\"T_d76d8_row7_col0\" class=\"data row7 col0\" >2016-10-05</td>\n",
       "      <td id=\"T_d76d8_row7_col1\" class=\"data row7 col1\" >$31.59</td>\n",
       "      <td id=\"T_d76d8_row7_col2\" class=\"data row7 col2\" >11,808,600</td>\n",
       "      <td id=\"T_d76d8_row7_col3\" class=\"data row7 col3\" >CSCO</td>\n",
       "    </tr>\n",
       "    <tr>\n",
       "      <th id=\"T_d76d8_level0_row8\" class=\"row_heading level0 row8\" >8</th>\n",
       "      <td id=\"T_d76d8_row8_col0\" class=\"data row8 col0\" >2016-10-05</td>\n",
       "      <td id=\"T_d76d8_row8_col1\" class=\"data row8 col1\" >$113.05</td>\n",
       "      <td id=\"T_d76d8_row8_col2\" class=\"data row8 col2\" >21,453,100</td>\n",
       "      <td id=\"T_d76d8_row8_col3\" class=\"data row8 col3\" >AAPL</td>\n",
       "    </tr>\n",
       "  </tbody>\n",
       "</table>\n"
      ]
     },
     "execution_count": 32,
     "metadata": {},
     "output_type": "execute_result"
    }
   ],
   "execution_count": 32
  },
  {
   "cell_type": "markdown",
   "id": "f00e70d5b27c4b7e",
   "metadata": {},
   "source": [
    "#### b) حالت دوم"
   ]
  },
  {
   "cell_type": "code",
   "id": "9cdf03869bef23e6",
   "metadata": {
    "ExecuteTime": {
     "end_time": "2025-10-04T18:13:03.592437Z",
     "start_time": "2025-10-04T18:13:03.547993Z"
    }
   },
   "source": [
    "(dft05.style.format(formatter)\n",
    "  # به بخش axis='index' بیشتر دقت داشته باش\n",
    " .hide(axis='index')\n",
    " .highlight_min('Close', color='red')\n",
    " .highlight_max('Close', color='lightgreen')\n",
    ")"
   ],
   "outputs": [
    {
     "data": {
      "text/plain": [
       "<pandas.io.formats.style.Styler at 0x192cbb87250>"
      ],
      "text/html": [
       "<style type=\"text/css\">\n",
       "#T_68b59_row5_col1 {\n",
       "  background-color: red;\n",
       "}\n",
       "#T_68b59_row8_col1 {\n",
       "  background-color: lightgreen;\n",
       "}\n",
       "</style>\n",
       "<table id=\"T_68b59\">\n",
       "  <thead>\n",
       "    <tr>\n",
       "      <th id=\"T_68b59_level0_col0\" class=\"col_heading level0 col0\" >Date</th>\n",
       "      <th id=\"T_68b59_level0_col1\" class=\"col_heading level0 col1\" >Close</th>\n",
       "      <th id=\"T_68b59_level0_col2\" class=\"col_heading level0 col2\" >Volume</th>\n",
       "      <th id=\"T_68b59_level0_col3\" class=\"col_heading level0 col3\" >Symbol</th>\n",
       "    </tr>\n",
       "  </thead>\n",
       "  <tbody>\n",
       "    <tr>\n",
       "      <td id=\"T_68b59_row0_col0\" class=\"data row0 col0\" >2016-10-03</td>\n",
       "      <td id=\"T_68b59_row0_col1\" class=\"data row0 col1\" >$31.50</td>\n",
       "      <td id=\"T_68b59_row0_col2\" class=\"data row0 col2\" >14,070,500</td>\n",
       "      <td id=\"T_68b59_row0_col3\" class=\"data row0 col3\" >CSCO</td>\n",
       "    </tr>\n",
       "    <tr>\n",
       "      <td id=\"T_68b59_row1_col0\" class=\"data row1 col0\" >2016-10-03</td>\n",
       "      <td id=\"T_68b59_row1_col1\" class=\"data row1 col1\" >$112.52</td>\n",
       "      <td id=\"T_68b59_row1_col2\" class=\"data row1 col2\" >21,701,800</td>\n",
       "      <td id=\"T_68b59_row1_col3\" class=\"data row1 col3\" >AAPL</td>\n",
       "    </tr>\n",
       "    <tr>\n",
       "      <td id=\"T_68b59_row2_col0\" class=\"data row2 col0\" >2016-10-03</td>\n",
       "      <td id=\"T_68b59_row2_col1\" class=\"data row2 col1\" >$57.42</td>\n",
       "      <td id=\"T_68b59_row2_col2\" class=\"data row2 col2\" >19,189,500</td>\n",
       "      <td id=\"T_68b59_row2_col3\" class=\"data row2 col3\" >MSFT</td>\n",
       "    </tr>\n",
       "    <tr>\n",
       "      <td id=\"T_68b59_row3_col0\" class=\"data row3 col0\" >2016-10-04</td>\n",
       "      <td id=\"T_68b59_row3_col1\" class=\"data row3 col1\" >$113.00</td>\n",
       "      <td id=\"T_68b59_row3_col2\" class=\"data row3 col2\" >29,736,800</td>\n",
       "      <td id=\"T_68b59_row3_col3\" class=\"data row3 col3\" >AAPL</td>\n",
       "    </tr>\n",
       "    <tr>\n",
       "      <td id=\"T_68b59_row4_col0\" class=\"data row4 col0\" >2016-10-04</td>\n",
       "      <td id=\"T_68b59_row4_col1\" class=\"data row4 col1\" >$57.24</td>\n",
       "      <td id=\"T_68b59_row4_col2\" class=\"data row4 col2\" >20,085,900</td>\n",
       "      <td id=\"T_68b59_row4_col3\" class=\"data row4 col3\" >MSFT</td>\n",
       "    </tr>\n",
       "    <tr>\n",
       "      <td id=\"T_68b59_row5_col0\" class=\"data row5 col0\" >2016-10-04</td>\n",
       "      <td id=\"T_68b59_row5_col1\" class=\"data row5 col1\" >$31.35</td>\n",
       "      <td id=\"T_68b59_row5_col2\" class=\"data row5 col2\" >18,460,400</td>\n",
       "      <td id=\"T_68b59_row5_col3\" class=\"data row5 col3\" >CSCO</td>\n",
       "    </tr>\n",
       "    <tr>\n",
       "      <td id=\"T_68b59_row6_col0\" class=\"data row6 col0\" >2016-10-05</td>\n",
       "      <td id=\"T_68b59_row6_col1\" class=\"data row6 col1\" >$57.64</td>\n",
       "      <td id=\"T_68b59_row6_col2\" class=\"data row6 col2\" >16,726,400</td>\n",
       "      <td id=\"T_68b59_row6_col3\" class=\"data row6 col3\" >MSFT</td>\n",
       "    </tr>\n",
       "    <tr>\n",
       "      <td id=\"T_68b59_row7_col0\" class=\"data row7 col0\" >2016-10-05</td>\n",
       "      <td id=\"T_68b59_row7_col1\" class=\"data row7 col1\" >$31.59</td>\n",
       "      <td id=\"T_68b59_row7_col2\" class=\"data row7 col2\" >11,808,600</td>\n",
       "      <td id=\"T_68b59_row7_col3\" class=\"data row7 col3\" >CSCO</td>\n",
       "    </tr>\n",
       "    <tr>\n",
       "      <td id=\"T_68b59_row8_col0\" class=\"data row8 col0\" >2016-10-05</td>\n",
       "      <td id=\"T_68b59_row8_col1\" class=\"data row8 col1\" >$113.05</td>\n",
       "      <td id=\"T_68b59_row8_col2\" class=\"data row8 col2\" >21,453,100</td>\n",
       "      <td id=\"T_68b59_row8_col3\" class=\"data row8 col3\" >AAPL</td>\n",
       "    </tr>\n",
       "  </tbody>\n",
       "</table>\n"
      ]
     },
     "execution_count": 33,
     "metadata": {},
     "output_type": "execute_result"
    }
   ],
   "execution_count": 33
  },
  {
   "cell_type": "markdown",
   "id": "2ddbd47c591e07cc",
   "metadata": {},
   "source": [
    "#### c) حالت سوم\n"
   ]
  },
  {
   "cell_type": "code",
   "id": "f146b9a3ba962e99",
   "metadata": {
    "ExecuteTime": {
     "end_time": "2025-10-04T18:13:03.634302Z",
     "start_time": "2025-10-04T18:13:03.606590Z"
    }
   },
   "source": [
    "(dft05.style.format(formatter)\n",
    " .hide(axis='index')\n",
    " .background_gradient(subset = 'Volume',cmap='PuBu'))"
   ],
   "outputs": [
    {
     "data": {
      "text/plain": [
       "<pandas.io.formats.style.Styler at 0x192cbb87b10>"
      ],
      "text/html": [
       "<style type=\"text/css\">\n",
       "#T_da646_row0_col2 {\n",
       "  background-color: #ece7f2;\n",
       "  color: #000000;\n",
       "}\n",
       "#T_da646_row1_col2 {\n",
       "  background-color: #5a9ec9;\n",
       "  color: #f1f1f1;\n",
       "}\n",
       "#T_da646_row2_col2 {\n",
       "  background-color: #97b7d7;\n",
       "  color: #000000;\n",
       "}\n",
       "#T_da646_row3_col2 {\n",
       "  background-color: #023858;\n",
       "  color: #f1f1f1;\n",
       "}\n",
       "#T_da646_row4_col2 {\n",
       "  background-color: #83afd3;\n",
       "  color: #f1f1f1;\n",
       "}\n",
       "#T_da646_row5_col2 {\n",
       "  background-color: #a8bedc;\n",
       "  color: #000000;\n",
       "}\n",
       "#T_da646_row6_col2 {\n",
       "  background-color: #c8cde4;\n",
       "  color: #000000;\n",
       "}\n",
       "#T_da646_row7_col2 {\n",
       "  background-color: #fff7fb;\n",
       "  color: #000000;\n",
       "}\n",
       "#T_da646_row8_col2 {\n",
       "  background-color: #62a2cb;\n",
       "  color: #f1f1f1;\n",
       "}\n",
       "</style>\n",
       "<table id=\"T_da646\">\n",
       "  <thead>\n",
       "    <tr>\n",
       "      <th id=\"T_da646_level0_col0\" class=\"col_heading level0 col0\" >Date</th>\n",
       "      <th id=\"T_da646_level0_col1\" class=\"col_heading level0 col1\" >Close</th>\n",
       "      <th id=\"T_da646_level0_col2\" class=\"col_heading level0 col2\" >Volume</th>\n",
       "      <th id=\"T_da646_level0_col3\" class=\"col_heading level0 col3\" >Symbol</th>\n",
       "    </tr>\n",
       "  </thead>\n",
       "  <tbody>\n",
       "    <tr>\n",
       "      <td id=\"T_da646_row0_col0\" class=\"data row0 col0\" >2016-10-03</td>\n",
       "      <td id=\"T_da646_row0_col1\" class=\"data row0 col1\" >$31.50</td>\n",
       "      <td id=\"T_da646_row0_col2\" class=\"data row0 col2\" >14,070,500</td>\n",
       "      <td id=\"T_da646_row0_col3\" class=\"data row0 col3\" >CSCO</td>\n",
       "    </tr>\n",
       "    <tr>\n",
       "      <td id=\"T_da646_row1_col0\" class=\"data row1 col0\" >2016-10-03</td>\n",
       "      <td id=\"T_da646_row1_col1\" class=\"data row1 col1\" >$112.52</td>\n",
       "      <td id=\"T_da646_row1_col2\" class=\"data row1 col2\" >21,701,800</td>\n",
       "      <td id=\"T_da646_row1_col3\" class=\"data row1 col3\" >AAPL</td>\n",
       "    </tr>\n",
       "    <tr>\n",
       "      <td id=\"T_da646_row2_col0\" class=\"data row2 col0\" >2016-10-03</td>\n",
       "      <td id=\"T_da646_row2_col1\" class=\"data row2 col1\" >$57.42</td>\n",
       "      <td id=\"T_da646_row2_col2\" class=\"data row2 col2\" >19,189,500</td>\n",
       "      <td id=\"T_da646_row2_col3\" class=\"data row2 col3\" >MSFT</td>\n",
       "    </tr>\n",
       "    <tr>\n",
       "      <td id=\"T_da646_row3_col0\" class=\"data row3 col0\" >2016-10-04</td>\n",
       "      <td id=\"T_da646_row3_col1\" class=\"data row3 col1\" >$113.00</td>\n",
       "      <td id=\"T_da646_row3_col2\" class=\"data row3 col2\" >29,736,800</td>\n",
       "      <td id=\"T_da646_row3_col3\" class=\"data row3 col3\" >AAPL</td>\n",
       "    </tr>\n",
       "    <tr>\n",
       "      <td id=\"T_da646_row4_col0\" class=\"data row4 col0\" >2016-10-04</td>\n",
       "      <td id=\"T_da646_row4_col1\" class=\"data row4 col1\" >$57.24</td>\n",
       "      <td id=\"T_da646_row4_col2\" class=\"data row4 col2\" >20,085,900</td>\n",
       "      <td id=\"T_da646_row4_col3\" class=\"data row4 col3\" >MSFT</td>\n",
       "    </tr>\n",
       "    <tr>\n",
       "      <td id=\"T_da646_row5_col0\" class=\"data row5 col0\" >2016-10-04</td>\n",
       "      <td id=\"T_da646_row5_col1\" class=\"data row5 col1\" >$31.35</td>\n",
       "      <td id=\"T_da646_row5_col2\" class=\"data row5 col2\" >18,460,400</td>\n",
       "      <td id=\"T_da646_row5_col3\" class=\"data row5 col3\" >CSCO</td>\n",
       "    </tr>\n",
       "    <tr>\n",
       "      <td id=\"T_da646_row6_col0\" class=\"data row6 col0\" >2016-10-05</td>\n",
       "      <td id=\"T_da646_row6_col1\" class=\"data row6 col1\" >$57.64</td>\n",
       "      <td id=\"T_da646_row6_col2\" class=\"data row6 col2\" >16,726,400</td>\n",
       "      <td id=\"T_da646_row6_col3\" class=\"data row6 col3\" >MSFT</td>\n",
       "    </tr>\n",
       "    <tr>\n",
       "      <td id=\"T_da646_row7_col0\" class=\"data row7 col0\" >2016-10-05</td>\n",
       "      <td id=\"T_da646_row7_col1\" class=\"data row7 col1\" >$31.59</td>\n",
       "      <td id=\"T_da646_row7_col2\" class=\"data row7 col2\" >11,808,600</td>\n",
       "      <td id=\"T_da646_row7_col3\" class=\"data row7 col3\" >CSCO</td>\n",
       "    </tr>\n",
       "    <tr>\n",
       "      <td id=\"T_da646_row8_col0\" class=\"data row8 col0\" >2016-10-05</td>\n",
       "      <td id=\"T_da646_row8_col1\" class=\"data row8 col1\" >$113.05</td>\n",
       "      <td id=\"T_da646_row8_col2\" class=\"data row8 col2\" >21,453,100</td>\n",
       "      <td id=\"T_da646_row8_col3\" class=\"data row8 col3\" >AAPL</td>\n",
       "    </tr>\n",
       "  </tbody>\n",
       "</table>\n"
      ]
     },
     "execution_count": 34,
     "metadata": {},
     "output_type": "execute_result"
    }
   ],
   "execution_count": 34
  },
  {
   "cell_type": "markdown",
   "id": "6410e8efc5e6cb5d",
   "metadata": {},
   "source": [
    "#### d) حالت چهارم"
   ]
  },
  {
   "cell_type": "code",
   "id": "7ee2d6c983e90d4b",
   "metadata": {
    "ExecuteTime": {
     "end_time": "2025-10-04T18:13:03.703650Z",
     "start_time": "2025-10-04T18:13:03.697731Z"
    }
   },
   "source": [
    "(dft05.style.format(formatter)\n",
    " .hide(axis='index')\n",
    " .bar('Volume')\n",
    " )"
   ],
   "outputs": [
    {
     "data": {
      "text/plain": [
       "<pandas.io.formats.style.Styler at 0x192cbb879d0>"
      ],
      "text/html": [
       "<style type=\"text/css\">\n",
       "#T_423f8_row0_col2 {\n",
       "  width: 10em;\n",
       "  background: linear-gradient(90deg, #d65f5f 47.3%, transparent 47.3%);\n",
       "}\n",
       "#T_423f8_row1_col2 {\n",
       "  width: 10em;\n",
       "  background: linear-gradient(90deg, #d65f5f 73.0%, transparent 73.0%);\n",
       "}\n",
       "#T_423f8_row2_col2 {\n",
       "  width: 10em;\n",
       "  background: linear-gradient(90deg, #d65f5f 64.5%, transparent 64.5%);\n",
       "}\n",
       "#T_423f8_row3_col2 {\n",
       "  width: 10em;\n",
       "  background: linear-gradient(90deg, #d65f5f 100.0%, transparent 100.0%);\n",
       "}\n",
       "#T_423f8_row4_col2 {\n",
       "  width: 10em;\n",
       "  background: linear-gradient(90deg, #d65f5f 67.5%, transparent 67.5%);\n",
       "}\n",
       "#T_423f8_row5_col2 {\n",
       "  width: 10em;\n",
       "  background: linear-gradient(90deg, #d65f5f 62.1%, transparent 62.1%);\n",
       "}\n",
       "#T_423f8_row6_col2 {\n",
       "  width: 10em;\n",
       "  background: linear-gradient(90deg, #d65f5f 56.2%, transparent 56.2%);\n",
       "}\n",
       "#T_423f8_row7_col2 {\n",
       "  width: 10em;\n",
       "  background: linear-gradient(90deg, #d65f5f 39.7%, transparent 39.7%);\n",
       "}\n",
       "#T_423f8_row8_col2 {\n",
       "  width: 10em;\n",
       "  background: linear-gradient(90deg, #d65f5f 72.1%, transparent 72.1%);\n",
       "}\n",
       "</style>\n",
       "<table id=\"T_423f8\">\n",
       "  <thead>\n",
       "    <tr>\n",
       "      <th id=\"T_423f8_level0_col0\" class=\"col_heading level0 col0\" >Date</th>\n",
       "      <th id=\"T_423f8_level0_col1\" class=\"col_heading level0 col1\" >Close</th>\n",
       "      <th id=\"T_423f8_level0_col2\" class=\"col_heading level0 col2\" >Volume</th>\n",
       "      <th id=\"T_423f8_level0_col3\" class=\"col_heading level0 col3\" >Symbol</th>\n",
       "    </tr>\n",
       "  </thead>\n",
       "  <tbody>\n",
       "    <tr>\n",
       "      <td id=\"T_423f8_row0_col0\" class=\"data row0 col0\" >2016-10-03</td>\n",
       "      <td id=\"T_423f8_row0_col1\" class=\"data row0 col1\" >$31.50</td>\n",
       "      <td id=\"T_423f8_row0_col2\" class=\"data row0 col2\" >14,070,500</td>\n",
       "      <td id=\"T_423f8_row0_col3\" class=\"data row0 col3\" >CSCO</td>\n",
       "    </tr>\n",
       "    <tr>\n",
       "      <td id=\"T_423f8_row1_col0\" class=\"data row1 col0\" >2016-10-03</td>\n",
       "      <td id=\"T_423f8_row1_col1\" class=\"data row1 col1\" >$112.52</td>\n",
       "      <td id=\"T_423f8_row1_col2\" class=\"data row1 col2\" >21,701,800</td>\n",
       "      <td id=\"T_423f8_row1_col3\" class=\"data row1 col3\" >AAPL</td>\n",
       "    </tr>\n",
       "    <tr>\n",
       "      <td id=\"T_423f8_row2_col0\" class=\"data row2 col0\" >2016-10-03</td>\n",
       "      <td id=\"T_423f8_row2_col1\" class=\"data row2 col1\" >$57.42</td>\n",
       "      <td id=\"T_423f8_row2_col2\" class=\"data row2 col2\" >19,189,500</td>\n",
       "      <td id=\"T_423f8_row2_col3\" class=\"data row2 col3\" >MSFT</td>\n",
       "    </tr>\n",
       "    <tr>\n",
       "      <td id=\"T_423f8_row3_col0\" class=\"data row3 col0\" >2016-10-04</td>\n",
       "      <td id=\"T_423f8_row3_col1\" class=\"data row3 col1\" >$113.00</td>\n",
       "      <td id=\"T_423f8_row3_col2\" class=\"data row3 col2\" >29,736,800</td>\n",
       "      <td id=\"T_423f8_row3_col3\" class=\"data row3 col3\" >AAPL</td>\n",
       "    </tr>\n",
       "    <tr>\n",
       "      <td id=\"T_423f8_row4_col0\" class=\"data row4 col0\" >2016-10-04</td>\n",
       "      <td id=\"T_423f8_row4_col1\" class=\"data row4 col1\" >$57.24</td>\n",
       "      <td id=\"T_423f8_row4_col2\" class=\"data row4 col2\" >20,085,900</td>\n",
       "      <td id=\"T_423f8_row4_col3\" class=\"data row4 col3\" >MSFT</td>\n",
       "    </tr>\n",
       "    <tr>\n",
       "      <td id=\"T_423f8_row5_col0\" class=\"data row5 col0\" >2016-10-04</td>\n",
       "      <td id=\"T_423f8_row5_col1\" class=\"data row5 col1\" >$31.35</td>\n",
       "      <td id=\"T_423f8_row5_col2\" class=\"data row5 col2\" >18,460,400</td>\n",
       "      <td id=\"T_423f8_row5_col3\" class=\"data row5 col3\" >CSCO</td>\n",
       "    </tr>\n",
       "    <tr>\n",
       "      <td id=\"T_423f8_row6_col0\" class=\"data row6 col0\" >2016-10-05</td>\n",
       "      <td id=\"T_423f8_row6_col1\" class=\"data row6 col1\" >$57.64</td>\n",
       "      <td id=\"T_423f8_row6_col2\" class=\"data row6 col2\" >16,726,400</td>\n",
       "      <td id=\"T_423f8_row6_col3\" class=\"data row6 col3\" >MSFT</td>\n",
       "    </tr>\n",
       "    <tr>\n",
       "      <td id=\"T_423f8_row7_col0\" class=\"data row7 col0\" >2016-10-05</td>\n",
       "      <td id=\"T_423f8_row7_col1\" class=\"data row7 col1\" >$31.59</td>\n",
       "      <td id=\"T_423f8_row7_col2\" class=\"data row7 col2\" >11,808,600</td>\n",
       "      <td id=\"T_423f8_row7_col3\" class=\"data row7 col3\" >CSCO</td>\n",
       "    </tr>\n",
       "    <tr>\n",
       "      <td id=\"T_423f8_row8_col0\" class=\"data row8 col0\" >2016-10-05</td>\n",
       "      <td id=\"T_423f8_row8_col1\" class=\"data row8 col1\" >$113.05</td>\n",
       "      <td id=\"T_423f8_row8_col2\" class=\"data row8 col2\" >21,453,100</td>\n",
       "      <td id=\"T_423f8_row8_col3\" class=\"data row8 col3\" >AAPL</td>\n",
       "    </tr>\n",
       "  </tbody>\n",
       "</table>\n"
      ]
     },
     "execution_count": 35,
     "metadata": {},
     "output_type": "execute_result"
    }
   ],
   "execution_count": 35
  },
  {
   "cell_type": "code",
   "id": "a500f787c1a28f16",
   "metadata": {
    "ExecuteTime": {
     "end_time": "2025-10-04T18:13:03.796090Z",
     "start_time": "2025-10-04T18:13:03.790335Z"
    }
   },
   "source": [
    "(dft05.style.format(formatter)\n",
    " .hide(axis='index')\n",
    " .bar('Volume', color='lightblue')\n",
    " )"
   ],
   "outputs": [
    {
     "data": {
      "text/plain": [
       "<pandas.io.formats.style.Styler at 0x192cbb87610>"
      ],
      "text/html": [
       "<style type=\"text/css\">\n",
       "#T_7ca0e_row0_col2 {\n",
       "  width: 10em;\n",
       "  background: linear-gradient(90deg, lightblue 47.3%, transparent 47.3%);\n",
       "}\n",
       "#T_7ca0e_row1_col2 {\n",
       "  width: 10em;\n",
       "  background: linear-gradient(90deg, lightblue 73.0%, transparent 73.0%);\n",
       "}\n",
       "#T_7ca0e_row2_col2 {\n",
       "  width: 10em;\n",
       "  background: linear-gradient(90deg, lightblue 64.5%, transparent 64.5%);\n",
       "}\n",
       "#T_7ca0e_row3_col2 {\n",
       "  width: 10em;\n",
       "  background: linear-gradient(90deg, lightblue 100.0%, transparent 100.0%);\n",
       "}\n",
       "#T_7ca0e_row4_col2 {\n",
       "  width: 10em;\n",
       "  background: linear-gradient(90deg, lightblue 67.5%, transparent 67.5%);\n",
       "}\n",
       "#T_7ca0e_row5_col2 {\n",
       "  width: 10em;\n",
       "  background: linear-gradient(90deg, lightblue 62.1%, transparent 62.1%);\n",
       "}\n",
       "#T_7ca0e_row6_col2 {\n",
       "  width: 10em;\n",
       "  background: linear-gradient(90deg, lightblue 56.2%, transparent 56.2%);\n",
       "}\n",
       "#T_7ca0e_row7_col2 {\n",
       "  width: 10em;\n",
       "  background: linear-gradient(90deg, lightblue 39.7%, transparent 39.7%);\n",
       "}\n",
       "#T_7ca0e_row8_col2 {\n",
       "  width: 10em;\n",
       "  background: linear-gradient(90deg, lightblue 72.1%, transparent 72.1%);\n",
       "}\n",
       "</style>\n",
       "<table id=\"T_7ca0e\">\n",
       "  <thead>\n",
       "    <tr>\n",
       "      <th id=\"T_7ca0e_level0_col0\" class=\"col_heading level0 col0\" >Date</th>\n",
       "      <th id=\"T_7ca0e_level0_col1\" class=\"col_heading level0 col1\" >Close</th>\n",
       "      <th id=\"T_7ca0e_level0_col2\" class=\"col_heading level0 col2\" >Volume</th>\n",
       "      <th id=\"T_7ca0e_level0_col3\" class=\"col_heading level0 col3\" >Symbol</th>\n",
       "    </tr>\n",
       "  </thead>\n",
       "  <tbody>\n",
       "    <tr>\n",
       "      <td id=\"T_7ca0e_row0_col0\" class=\"data row0 col0\" >2016-10-03</td>\n",
       "      <td id=\"T_7ca0e_row0_col1\" class=\"data row0 col1\" >$31.50</td>\n",
       "      <td id=\"T_7ca0e_row0_col2\" class=\"data row0 col2\" >14,070,500</td>\n",
       "      <td id=\"T_7ca0e_row0_col3\" class=\"data row0 col3\" >CSCO</td>\n",
       "    </tr>\n",
       "    <tr>\n",
       "      <td id=\"T_7ca0e_row1_col0\" class=\"data row1 col0\" >2016-10-03</td>\n",
       "      <td id=\"T_7ca0e_row1_col1\" class=\"data row1 col1\" >$112.52</td>\n",
       "      <td id=\"T_7ca0e_row1_col2\" class=\"data row1 col2\" >21,701,800</td>\n",
       "      <td id=\"T_7ca0e_row1_col3\" class=\"data row1 col3\" >AAPL</td>\n",
       "    </tr>\n",
       "    <tr>\n",
       "      <td id=\"T_7ca0e_row2_col0\" class=\"data row2 col0\" >2016-10-03</td>\n",
       "      <td id=\"T_7ca0e_row2_col1\" class=\"data row2 col1\" >$57.42</td>\n",
       "      <td id=\"T_7ca0e_row2_col2\" class=\"data row2 col2\" >19,189,500</td>\n",
       "      <td id=\"T_7ca0e_row2_col3\" class=\"data row2 col3\" >MSFT</td>\n",
       "    </tr>\n",
       "    <tr>\n",
       "      <td id=\"T_7ca0e_row3_col0\" class=\"data row3 col0\" >2016-10-04</td>\n",
       "      <td id=\"T_7ca0e_row3_col1\" class=\"data row3 col1\" >$113.00</td>\n",
       "      <td id=\"T_7ca0e_row3_col2\" class=\"data row3 col2\" >29,736,800</td>\n",
       "      <td id=\"T_7ca0e_row3_col3\" class=\"data row3 col3\" >AAPL</td>\n",
       "    </tr>\n",
       "    <tr>\n",
       "      <td id=\"T_7ca0e_row4_col0\" class=\"data row4 col0\" >2016-10-04</td>\n",
       "      <td id=\"T_7ca0e_row4_col1\" class=\"data row4 col1\" >$57.24</td>\n",
       "      <td id=\"T_7ca0e_row4_col2\" class=\"data row4 col2\" >20,085,900</td>\n",
       "      <td id=\"T_7ca0e_row4_col3\" class=\"data row4 col3\" >MSFT</td>\n",
       "    </tr>\n",
       "    <tr>\n",
       "      <td id=\"T_7ca0e_row5_col0\" class=\"data row5 col0\" >2016-10-04</td>\n",
       "      <td id=\"T_7ca0e_row5_col1\" class=\"data row5 col1\" >$31.35</td>\n",
       "      <td id=\"T_7ca0e_row5_col2\" class=\"data row5 col2\" >18,460,400</td>\n",
       "      <td id=\"T_7ca0e_row5_col3\" class=\"data row5 col3\" >CSCO</td>\n",
       "    </tr>\n",
       "    <tr>\n",
       "      <td id=\"T_7ca0e_row6_col0\" class=\"data row6 col0\" >2016-10-05</td>\n",
       "      <td id=\"T_7ca0e_row6_col1\" class=\"data row6 col1\" >$57.64</td>\n",
       "      <td id=\"T_7ca0e_row6_col2\" class=\"data row6 col2\" >16,726,400</td>\n",
       "      <td id=\"T_7ca0e_row6_col3\" class=\"data row6 col3\" >MSFT</td>\n",
       "    </tr>\n",
       "    <tr>\n",
       "      <td id=\"T_7ca0e_row7_col0\" class=\"data row7 col0\" >2016-10-05</td>\n",
       "      <td id=\"T_7ca0e_row7_col1\" class=\"data row7 col1\" >$31.59</td>\n",
       "      <td id=\"T_7ca0e_row7_col2\" class=\"data row7 col2\" >11,808,600</td>\n",
       "      <td id=\"T_7ca0e_row7_col3\" class=\"data row7 col3\" >CSCO</td>\n",
       "    </tr>\n",
       "    <tr>\n",
       "      <td id=\"T_7ca0e_row8_col0\" class=\"data row8 col0\" >2016-10-05</td>\n",
       "      <td id=\"T_7ca0e_row8_col1\" class=\"data row8 col1\" >$113.05</td>\n",
       "      <td id=\"T_7ca0e_row8_col2\" class=\"data row8 col2\" >21,453,100</td>\n",
       "      <td id=\"T_7ca0e_row8_col3\" class=\"data row8 col3\" >AAPL</td>\n",
       "    </tr>\n",
       "  </tbody>\n",
       "</table>\n"
      ]
     },
     "execution_count": 36,
     "metadata": {},
     "output_type": "execute_result"
    }
   ],
   "execution_count": 36
  },
  {
   "cell_type": "code",
   "id": "cfe7bfaf4db55b39",
   "metadata": {
    "ExecuteTime": {
     "end_time": "2025-10-04T18:13:03.888822Z",
     "start_time": "2025-10-04T18:13:03.883539Z"
    }
   },
   "source": [
    "(dft05.style.format(formatter)\n",
    " .hide(axis='index')\n",
    " .bar('Volume', color='lightblue', align='left') # default\n",
    " )"
   ],
   "outputs": [
    {
     "data": {
      "text/plain": [
       "<pandas.io.formats.style.Styler at 0x192cbca0190>"
      ],
      "text/html": [
       "<style type=\"text/css\">\n",
       "#T_07214_row0_col2 {\n",
       "  width: 10em;\n",
       "  background: linear-gradient(90deg, lightblue 12.6%, transparent 12.6%);\n",
       "}\n",
       "#T_07214_row1_col2 {\n",
       "  width: 10em;\n",
       "  background: linear-gradient(90deg, lightblue 55.2%, transparent 55.2%);\n",
       "}\n",
       "#T_07214_row2_col2 {\n",
       "  width: 10em;\n",
       "  background: linear-gradient(90deg, lightblue 41.2%, transparent 41.2%);\n",
       "}\n",
       "#T_07214_row3_col2 {\n",
       "  width: 10em;\n",
       "  background: linear-gradient(90deg, lightblue 100.0%, transparent 100.0%);\n",
       "}\n",
       "#T_07214_row4_col2 {\n",
       "  width: 10em;\n",
       "  background: linear-gradient(90deg, lightblue 46.2%, transparent 46.2%);\n",
       "}\n",
       "#T_07214_row5_col2 {\n",
       "  width: 10em;\n",
       "  background: linear-gradient(90deg, lightblue 37.1%, transparent 37.1%);\n",
       "}\n",
       "#T_07214_row6_col2 {\n",
       "  width: 10em;\n",
       "  background: linear-gradient(90deg, lightblue 27.4%, transparent 27.4%);\n",
       "}\n",
       "#T_07214_row7_col2 {\n",
       "  width: 10em;\n",
       "}\n",
       "#T_07214_row8_col2 {\n",
       "  width: 10em;\n",
       "  background: linear-gradient(90deg, lightblue 53.8%, transparent 53.8%);\n",
       "}\n",
       "</style>\n",
       "<table id=\"T_07214\">\n",
       "  <thead>\n",
       "    <tr>\n",
       "      <th id=\"T_07214_level0_col0\" class=\"col_heading level0 col0\" >Date</th>\n",
       "      <th id=\"T_07214_level0_col1\" class=\"col_heading level0 col1\" >Close</th>\n",
       "      <th id=\"T_07214_level0_col2\" class=\"col_heading level0 col2\" >Volume</th>\n",
       "      <th id=\"T_07214_level0_col3\" class=\"col_heading level0 col3\" >Symbol</th>\n",
       "    </tr>\n",
       "  </thead>\n",
       "  <tbody>\n",
       "    <tr>\n",
       "      <td id=\"T_07214_row0_col0\" class=\"data row0 col0\" >2016-10-03</td>\n",
       "      <td id=\"T_07214_row0_col1\" class=\"data row0 col1\" >$31.50</td>\n",
       "      <td id=\"T_07214_row0_col2\" class=\"data row0 col2\" >14,070,500</td>\n",
       "      <td id=\"T_07214_row0_col3\" class=\"data row0 col3\" >CSCO</td>\n",
       "    </tr>\n",
       "    <tr>\n",
       "      <td id=\"T_07214_row1_col0\" class=\"data row1 col0\" >2016-10-03</td>\n",
       "      <td id=\"T_07214_row1_col1\" class=\"data row1 col1\" >$112.52</td>\n",
       "      <td id=\"T_07214_row1_col2\" class=\"data row1 col2\" >21,701,800</td>\n",
       "      <td id=\"T_07214_row1_col3\" class=\"data row1 col3\" >AAPL</td>\n",
       "    </tr>\n",
       "    <tr>\n",
       "      <td id=\"T_07214_row2_col0\" class=\"data row2 col0\" >2016-10-03</td>\n",
       "      <td id=\"T_07214_row2_col1\" class=\"data row2 col1\" >$57.42</td>\n",
       "      <td id=\"T_07214_row2_col2\" class=\"data row2 col2\" >19,189,500</td>\n",
       "      <td id=\"T_07214_row2_col3\" class=\"data row2 col3\" >MSFT</td>\n",
       "    </tr>\n",
       "    <tr>\n",
       "      <td id=\"T_07214_row3_col0\" class=\"data row3 col0\" >2016-10-04</td>\n",
       "      <td id=\"T_07214_row3_col1\" class=\"data row3 col1\" >$113.00</td>\n",
       "      <td id=\"T_07214_row3_col2\" class=\"data row3 col2\" >29,736,800</td>\n",
       "      <td id=\"T_07214_row3_col3\" class=\"data row3 col3\" >AAPL</td>\n",
       "    </tr>\n",
       "    <tr>\n",
       "      <td id=\"T_07214_row4_col0\" class=\"data row4 col0\" >2016-10-04</td>\n",
       "      <td id=\"T_07214_row4_col1\" class=\"data row4 col1\" >$57.24</td>\n",
       "      <td id=\"T_07214_row4_col2\" class=\"data row4 col2\" >20,085,900</td>\n",
       "      <td id=\"T_07214_row4_col3\" class=\"data row4 col3\" >MSFT</td>\n",
       "    </tr>\n",
       "    <tr>\n",
       "      <td id=\"T_07214_row5_col0\" class=\"data row5 col0\" >2016-10-04</td>\n",
       "      <td id=\"T_07214_row5_col1\" class=\"data row5 col1\" >$31.35</td>\n",
       "      <td id=\"T_07214_row5_col2\" class=\"data row5 col2\" >18,460,400</td>\n",
       "      <td id=\"T_07214_row5_col3\" class=\"data row5 col3\" >CSCO</td>\n",
       "    </tr>\n",
       "    <tr>\n",
       "      <td id=\"T_07214_row6_col0\" class=\"data row6 col0\" >2016-10-05</td>\n",
       "      <td id=\"T_07214_row6_col1\" class=\"data row6 col1\" >$57.64</td>\n",
       "      <td id=\"T_07214_row6_col2\" class=\"data row6 col2\" >16,726,400</td>\n",
       "      <td id=\"T_07214_row6_col3\" class=\"data row6 col3\" >MSFT</td>\n",
       "    </tr>\n",
       "    <tr>\n",
       "      <td id=\"T_07214_row7_col0\" class=\"data row7 col0\" >2016-10-05</td>\n",
       "      <td id=\"T_07214_row7_col1\" class=\"data row7 col1\" >$31.59</td>\n",
       "      <td id=\"T_07214_row7_col2\" class=\"data row7 col2\" >11,808,600</td>\n",
       "      <td id=\"T_07214_row7_col3\" class=\"data row7 col3\" >CSCO</td>\n",
       "    </tr>\n",
       "    <tr>\n",
       "      <td id=\"T_07214_row8_col0\" class=\"data row8 col0\" >2016-10-05</td>\n",
       "      <td id=\"T_07214_row8_col1\" class=\"data row8 col1\" >$113.05</td>\n",
       "      <td id=\"T_07214_row8_col2\" class=\"data row8 col2\" >21,453,100</td>\n",
       "      <td id=\"T_07214_row8_col3\" class=\"data row8 col3\" >AAPL</td>\n",
       "    </tr>\n",
       "  </tbody>\n",
       "</table>\n"
      ]
     },
     "execution_count": 37,
     "metadata": {},
     "output_type": "execute_result"
    }
   ],
   "execution_count": 37
  },
  {
   "cell_type": "code",
   "id": "560691bf09d59a45",
   "metadata": {
    "ExecuteTime": {
     "end_time": "2025-10-04T18:13:03.985971Z",
     "start_time": "2025-10-04T18:13:03.980053Z"
    }
   },
   "source": [
    "(dft05.style.format(formatter)\n",
    " .hide(axis='index')\n",
    " .bar('Volume', color='lightblue', align='right')\n",
    " )"
   ],
   "outputs": [
    {
     "data": {
      "text/plain": [
       "<pandas.io.formats.style.Styler at 0x192cbca02d0>"
      ],
      "text/html": [
       "<style type=\"text/css\">\n",
       "#T_d2e1e_row0_col2 {\n",
       "  width: 10em;\n",
       "  background: linear-gradient(90deg, transparent 12.6%, lightblue 12.6%, lightblue 100.0%, transparent 100.0%);\n",
       "}\n",
       "#T_d2e1e_row1_col2 {\n",
       "  width: 10em;\n",
       "  background: linear-gradient(90deg, transparent 55.2%, lightblue 55.2%, lightblue 100.0%, transparent 100.0%);\n",
       "}\n",
       "#T_d2e1e_row2_col2 {\n",
       "  width: 10em;\n",
       "  background: linear-gradient(90deg, transparent 41.2%, lightblue 41.2%, lightblue 100.0%, transparent 100.0%);\n",
       "}\n",
       "#T_d2e1e_row3_col2 {\n",
       "  width: 10em;\n",
       "}\n",
       "#T_d2e1e_row4_col2 {\n",
       "  width: 10em;\n",
       "  background: linear-gradient(90deg, transparent 46.2%, lightblue 46.2%, lightblue 100.0%, transparent 100.0%);\n",
       "}\n",
       "#T_d2e1e_row5_col2 {\n",
       "  width: 10em;\n",
       "  background: linear-gradient(90deg, transparent 37.1%, lightblue 37.1%, lightblue 100.0%, transparent 100.0%);\n",
       "}\n",
       "#T_d2e1e_row6_col2 {\n",
       "  width: 10em;\n",
       "  background: linear-gradient(90deg, transparent 27.4%, lightblue 27.4%, lightblue 100.0%, transparent 100.0%);\n",
       "}\n",
       "#T_d2e1e_row7_col2 {\n",
       "  width: 10em;\n",
       "  background: linear-gradient(90deg, lightblue 100.0%, transparent 100.0%);\n",
       "}\n",
       "#T_d2e1e_row8_col2 {\n",
       "  width: 10em;\n",
       "  background: linear-gradient(90deg, transparent 53.8%, lightblue 53.8%, lightblue 100.0%, transparent 100.0%);\n",
       "}\n",
       "</style>\n",
       "<table id=\"T_d2e1e\">\n",
       "  <thead>\n",
       "    <tr>\n",
       "      <th id=\"T_d2e1e_level0_col0\" class=\"col_heading level0 col0\" >Date</th>\n",
       "      <th id=\"T_d2e1e_level0_col1\" class=\"col_heading level0 col1\" >Close</th>\n",
       "      <th id=\"T_d2e1e_level0_col2\" class=\"col_heading level0 col2\" >Volume</th>\n",
       "      <th id=\"T_d2e1e_level0_col3\" class=\"col_heading level0 col3\" >Symbol</th>\n",
       "    </tr>\n",
       "  </thead>\n",
       "  <tbody>\n",
       "    <tr>\n",
       "      <td id=\"T_d2e1e_row0_col0\" class=\"data row0 col0\" >2016-10-03</td>\n",
       "      <td id=\"T_d2e1e_row0_col1\" class=\"data row0 col1\" >$31.50</td>\n",
       "      <td id=\"T_d2e1e_row0_col2\" class=\"data row0 col2\" >14,070,500</td>\n",
       "      <td id=\"T_d2e1e_row0_col3\" class=\"data row0 col3\" >CSCO</td>\n",
       "    </tr>\n",
       "    <tr>\n",
       "      <td id=\"T_d2e1e_row1_col0\" class=\"data row1 col0\" >2016-10-03</td>\n",
       "      <td id=\"T_d2e1e_row1_col1\" class=\"data row1 col1\" >$112.52</td>\n",
       "      <td id=\"T_d2e1e_row1_col2\" class=\"data row1 col2\" >21,701,800</td>\n",
       "      <td id=\"T_d2e1e_row1_col3\" class=\"data row1 col3\" >AAPL</td>\n",
       "    </tr>\n",
       "    <tr>\n",
       "      <td id=\"T_d2e1e_row2_col0\" class=\"data row2 col0\" >2016-10-03</td>\n",
       "      <td id=\"T_d2e1e_row2_col1\" class=\"data row2 col1\" >$57.42</td>\n",
       "      <td id=\"T_d2e1e_row2_col2\" class=\"data row2 col2\" >19,189,500</td>\n",
       "      <td id=\"T_d2e1e_row2_col3\" class=\"data row2 col3\" >MSFT</td>\n",
       "    </tr>\n",
       "    <tr>\n",
       "      <td id=\"T_d2e1e_row3_col0\" class=\"data row3 col0\" >2016-10-04</td>\n",
       "      <td id=\"T_d2e1e_row3_col1\" class=\"data row3 col1\" >$113.00</td>\n",
       "      <td id=\"T_d2e1e_row3_col2\" class=\"data row3 col2\" >29,736,800</td>\n",
       "      <td id=\"T_d2e1e_row3_col3\" class=\"data row3 col3\" >AAPL</td>\n",
       "    </tr>\n",
       "    <tr>\n",
       "      <td id=\"T_d2e1e_row4_col0\" class=\"data row4 col0\" >2016-10-04</td>\n",
       "      <td id=\"T_d2e1e_row4_col1\" class=\"data row4 col1\" >$57.24</td>\n",
       "      <td id=\"T_d2e1e_row4_col2\" class=\"data row4 col2\" >20,085,900</td>\n",
       "      <td id=\"T_d2e1e_row4_col3\" class=\"data row4 col3\" >MSFT</td>\n",
       "    </tr>\n",
       "    <tr>\n",
       "      <td id=\"T_d2e1e_row5_col0\" class=\"data row5 col0\" >2016-10-04</td>\n",
       "      <td id=\"T_d2e1e_row5_col1\" class=\"data row5 col1\" >$31.35</td>\n",
       "      <td id=\"T_d2e1e_row5_col2\" class=\"data row5 col2\" >18,460,400</td>\n",
       "      <td id=\"T_d2e1e_row5_col3\" class=\"data row5 col3\" >CSCO</td>\n",
       "    </tr>\n",
       "    <tr>\n",
       "      <td id=\"T_d2e1e_row6_col0\" class=\"data row6 col0\" >2016-10-05</td>\n",
       "      <td id=\"T_d2e1e_row6_col1\" class=\"data row6 col1\" >$57.64</td>\n",
       "      <td id=\"T_d2e1e_row6_col2\" class=\"data row6 col2\" >16,726,400</td>\n",
       "      <td id=\"T_d2e1e_row6_col3\" class=\"data row6 col3\" >MSFT</td>\n",
       "    </tr>\n",
       "    <tr>\n",
       "      <td id=\"T_d2e1e_row7_col0\" class=\"data row7 col0\" >2016-10-05</td>\n",
       "      <td id=\"T_d2e1e_row7_col1\" class=\"data row7 col1\" >$31.59</td>\n",
       "      <td id=\"T_d2e1e_row7_col2\" class=\"data row7 col2\" >11,808,600</td>\n",
       "      <td id=\"T_d2e1e_row7_col3\" class=\"data row7 col3\" >CSCO</td>\n",
       "    </tr>\n",
       "    <tr>\n",
       "      <td id=\"T_d2e1e_row8_col0\" class=\"data row8 col0\" >2016-10-05</td>\n",
       "      <td id=\"T_d2e1e_row8_col1\" class=\"data row8 col1\" >$113.05</td>\n",
       "      <td id=\"T_d2e1e_row8_col2\" class=\"data row8 col2\" >21,453,100</td>\n",
       "      <td id=\"T_d2e1e_row8_col3\" class=\"data row8 col3\" >AAPL</td>\n",
       "    </tr>\n",
       "  </tbody>\n",
       "</table>\n"
      ]
     },
     "execution_count": 38,
     "metadata": {},
     "output_type": "execute_result"
    }
   ],
   "execution_count": 38
  },
  {
   "cell_type": "code",
   "id": "e2dfc6a63873a60",
   "metadata": {
    "ExecuteTime": {
     "end_time": "2025-10-04T18:13:04.081557Z",
     "start_time": "2025-10-04T18:13:04.075397Z"
    }
   },
   "source": [
    "(dft05.style.format(formatter)\n",
    " .hide(axis='index')\n",
    " .bar('Volume', color='lightblue', align='zero')\n",
    " .set_caption('Volume from 2008')\n",
    " )"
   ],
   "outputs": [
    {
     "data": {
      "text/plain": [
       "<pandas.io.formats.style.Styler at 0x192cbb87d90>"
      ],
      "text/html": [
       "<style type=\"text/css\">\n",
       "#T_9f479_row0_col2 {\n",
       "  width: 10em;\n",
       "  background: linear-gradient(90deg, transparent 50.0%, lightblue 50.0%, lightblue 73.7%, transparent 73.7%);\n",
       "}\n",
       "#T_9f479_row1_col2 {\n",
       "  width: 10em;\n",
       "  background: linear-gradient(90deg, transparent 50.0%, lightblue 50.0%, lightblue 86.5%, transparent 86.5%);\n",
       "}\n",
       "#T_9f479_row2_col2 {\n",
       "  width: 10em;\n",
       "  background: linear-gradient(90deg, transparent 50.0%, lightblue 50.0%, lightblue 82.3%, transparent 82.3%);\n",
       "}\n",
       "#T_9f479_row3_col2 {\n",
       "  width: 10em;\n",
       "  background: linear-gradient(90deg, transparent 50.0%, lightblue 50.0%, lightblue 100.0%, transparent 100.0%);\n",
       "}\n",
       "#T_9f479_row4_col2 {\n",
       "  width: 10em;\n",
       "  background: linear-gradient(90deg, transparent 50.0%, lightblue 50.0%, lightblue 83.8%, transparent 83.8%);\n",
       "}\n",
       "#T_9f479_row5_col2 {\n",
       "  width: 10em;\n",
       "  background: linear-gradient(90deg, transparent 50.0%, lightblue 50.0%, lightblue 81.0%, transparent 81.0%);\n",
       "}\n",
       "#T_9f479_row6_col2 {\n",
       "  width: 10em;\n",
       "  background: linear-gradient(90deg, transparent 50.0%, lightblue 50.0%, lightblue 78.1%, transparent 78.1%);\n",
       "}\n",
       "#T_9f479_row7_col2 {\n",
       "  width: 10em;\n",
       "  background: linear-gradient(90deg, transparent 50.0%, lightblue 50.0%, lightblue 69.9%, transparent 69.9%);\n",
       "}\n",
       "#T_9f479_row8_col2 {\n",
       "  width: 10em;\n",
       "  background: linear-gradient(90deg, transparent 50.0%, lightblue 50.0%, lightblue 86.1%, transparent 86.1%);\n",
       "}\n",
       "</style>\n",
       "<table id=\"T_9f479\">\n",
       "  <caption>Volume from 2008</caption>\n",
       "  <thead>\n",
       "    <tr>\n",
       "      <th id=\"T_9f479_level0_col0\" class=\"col_heading level0 col0\" >Date</th>\n",
       "      <th id=\"T_9f479_level0_col1\" class=\"col_heading level0 col1\" >Close</th>\n",
       "      <th id=\"T_9f479_level0_col2\" class=\"col_heading level0 col2\" >Volume</th>\n",
       "      <th id=\"T_9f479_level0_col3\" class=\"col_heading level0 col3\" >Symbol</th>\n",
       "    </tr>\n",
       "  </thead>\n",
       "  <tbody>\n",
       "    <tr>\n",
       "      <td id=\"T_9f479_row0_col0\" class=\"data row0 col0\" >2016-10-03</td>\n",
       "      <td id=\"T_9f479_row0_col1\" class=\"data row0 col1\" >$31.50</td>\n",
       "      <td id=\"T_9f479_row0_col2\" class=\"data row0 col2\" >14,070,500</td>\n",
       "      <td id=\"T_9f479_row0_col3\" class=\"data row0 col3\" >CSCO</td>\n",
       "    </tr>\n",
       "    <tr>\n",
       "      <td id=\"T_9f479_row1_col0\" class=\"data row1 col0\" >2016-10-03</td>\n",
       "      <td id=\"T_9f479_row1_col1\" class=\"data row1 col1\" >$112.52</td>\n",
       "      <td id=\"T_9f479_row1_col2\" class=\"data row1 col2\" >21,701,800</td>\n",
       "      <td id=\"T_9f479_row1_col3\" class=\"data row1 col3\" >AAPL</td>\n",
       "    </tr>\n",
       "    <tr>\n",
       "      <td id=\"T_9f479_row2_col0\" class=\"data row2 col0\" >2016-10-03</td>\n",
       "      <td id=\"T_9f479_row2_col1\" class=\"data row2 col1\" >$57.42</td>\n",
       "      <td id=\"T_9f479_row2_col2\" class=\"data row2 col2\" >19,189,500</td>\n",
       "      <td id=\"T_9f479_row2_col3\" class=\"data row2 col3\" >MSFT</td>\n",
       "    </tr>\n",
       "    <tr>\n",
       "      <td id=\"T_9f479_row3_col0\" class=\"data row3 col0\" >2016-10-04</td>\n",
       "      <td id=\"T_9f479_row3_col1\" class=\"data row3 col1\" >$113.00</td>\n",
       "      <td id=\"T_9f479_row3_col2\" class=\"data row3 col2\" >29,736,800</td>\n",
       "      <td id=\"T_9f479_row3_col3\" class=\"data row3 col3\" >AAPL</td>\n",
       "    </tr>\n",
       "    <tr>\n",
       "      <td id=\"T_9f479_row4_col0\" class=\"data row4 col0\" >2016-10-04</td>\n",
       "      <td id=\"T_9f479_row4_col1\" class=\"data row4 col1\" >$57.24</td>\n",
       "      <td id=\"T_9f479_row4_col2\" class=\"data row4 col2\" >20,085,900</td>\n",
       "      <td id=\"T_9f479_row4_col3\" class=\"data row4 col3\" >MSFT</td>\n",
       "    </tr>\n",
       "    <tr>\n",
       "      <td id=\"T_9f479_row5_col0\" class=\"data row5 col0\" >2016-10-04</td>\n",
       "      <td id=\"T_9f479_row5_col1\" class=\"data row5 col1\" >$31.35</td>\n",
       "      <td id=\"T_9f479_row5_col2\" class=\"data row5 col2\" >18,460,400</td>\n",
       "      <td id=\"T_9f479_row5_col3\" class=\"data row5 col3\" >CSCO</td>\n",
       "    </tr>\n",
       "    <tr>\n",
       "      <td id=\"T_9f479_row6_col0\" class=\"data row6 col0\" >2016-10-05</td>\n",
       "      <td id=\"T_9f479_row6_col1\" class=\"data row6 col1\" >$57.64</td>\n",
       "      <td id=\"T_9f479_row6_col2\" class=\"data row6 col2\" >16,726,400</td>\n",
       "      <td id=\"T_9f479_row6_col3\" class=\"data row6 col3\" >MSFT</td>\n",
       "    </tr>\n",
       "    <tr>\n",
       "      <td id=\"T_9f479_row7_col0\" class=\"data row7 col0\" >2016-10-05</td>\n",
       "      <td id=\"T_9f479_row7_col1\" class=\"data row7 col1\" >$31.59</td>\n",
       "      <td id=\"T_9f479_row7_col2\" class=\"data row7 col2\" >11,808,600</td>\n",
       "      <td id=\"T_9f479_row7_col3\" class=\"data row7 col3\" >CSCO</td>\n",
       "    </tr>\n",
       "    <tr>\n",
       "      <td id=\"T_9f479_row8_col0\" class=\"data row8 col0\" >2016-10-05</td>\n",
       "      <td id=\"T_9f479_row8_col1\" class=\"data row8 col1\" >$113.05</td>\n",
       "      <td id=\"T_9f479_row8_col2\" class=\"data row8 col2\" >21,453,100</td>\n",
       "      <td id=\"T_9f479_row8_col3\" class=\"data row8 col3\" >AAPL</td>\n",
       "    </tr>\n",
       "  </tbody>\n",
       "</table>\n"
      ]
     },
     "execution_count": 39,
     "metadata": {},
     "output_type": "execute_result"
    }
   ],
   "execution_count": 39
  },
  {
   "cell_type": "code",
   "id": "8d978b59d91c083d",
   "metadata": {
    "ExecuteTime": {
     "end_time": "2025-10-04T18:13:04.217340Z",
     "start_time": "2025-10-04T18:13:04.171002Z"
    }
   },
   "source": [
    "\n",
    "del dft05, formatter\n",
    "gc.collect()"
   ],
   "outputs": [
    {
     "data": {
      "text/plain": [
       "238"
      ]
     },
     "execution_count": 40,
     "metadata": {},
     "output_type": "execute_result"
    }
   ],
   "execution_count": 40
  },
  {
   "cell_type": "markdown",
   "id": "98c9eb7b7a9e82bb",
   "metadata": {},
   "source": [
    "### **~~Trick 06 - آشنایی با Pandas Profiling در Pandas~~ (UNUSED)**\n"
   ]
  },
  {
   "cell_type": "markdown",
   "id": "5e35a412e1b7cf27",
   "metadata": {},
   "source": [
    "### **Trick 07- نحوه تغییر نام ستون ها در Pandas**"
   ]
  },
  {
   "cell_type": "code",
   "id": "b9b442f2c3063d52",
   "metadata": {
    "ExecuteTime": {
     "end_time": "2025-10-04T18:13:04.306424Z",
     "start_time": "2025-10-04T18:13:04.295979Z"
    }
   },
   "source": [
    "dft07 = pd.DataFrame(np.random.randn(10,5))\n",
    "print(dft07)"
   ],
   "outputs": [
    {
     "name": "stdout",
     "output_type": "stream",
     "text": [
      "          0         1         2         3         4\n",
      "0 -0.597300  0.762963 -1.484425 -1.696751 -1.523066\n",
      "1  1.252085 -1.580546 -1.112285  1.563286  0.326650\n",
      "2 -0.203361  1.030766  0.827361 -1.570714 -0.386240\n",
      "3  0.404872  1.151027 -0.102996 -0.777582  1.705721\n",
      "4 -0.793422  0.806196  0.060385 -0.609849 -0.259149\n",
      "5 -0.991043 -0.993638 -1.059103 -1.086997 -0.014859\n",
      "6 -0.180724 -0.910357  0.520040 -0.871959 -1.118566\n",
      "7 -1.509002  1.611856  1.500627  0.502402  0.277319\n",
      "8 -1.135579 -0.823121 -0.769615  0.673729 -0.759363\n",
      "9  1.344453  0.900516 -0.666204 -1.538310  0.777170\n"
     ]
    }
   ],
   "execution_count": 41
  },
  {
   "cell_type": "code",
   "id": "2acbf96f1d8ce5c9",
   "metadata": {
    "ExecuteTime": {
     "end_time": "2025-10-04T18:13:04.404061Z",
     "start_time": "2025-10-04T18:13:04.397915Z"
    }
   },
   "source": [
    "dft07 = pd.DataFrame(np.random.randn(10,5), columns=['A', 'B', 'C', 'D','F'])\n",
    "# or dft07 = pd.DataFrame(np.random.randn(10,5), columns=list('ABCDF'))\n",
    "dft07"
   ],
   "outputs": [
    {
     "data": {
      "text/plain": [
       "          A         B         C         D         F\n",
       "0  2.200583  0.256079 -0.326642  0.569558 -0.407372\n",
       "1  0.670894 -0.465208  1.952255  2.408384  0.097234\n",
       "2 -0.595799 -0.512758  3.349532  0.802844 -0.944269\n",
       "3 -0.653431  0.855182 -0.126869  1.063262  0.213159\n",
       "4  0.778716 -1.606237  0.985583  0.652088 -0.520698\n",
       "5 -0.378333 -0.392907  0.989722  0.186826 -1.130871\n",
       "6 -0.864474 -0.188754  0.330064 -0.122888 -0.048173\n",
       "7 -0.256596 -1.850964  0.525630  1.825053  0.676088\n",
       "8  0.185848 -1.143277 -0.738438  0.270026 -1.769206\n",
       "9  1.987819 -2.484720  1.071736  1.561192 -1.551591"
      ],
      "text/html": [
       "<div>\n",
       "<style scoped>\n",
       "    .dataframe tbody tr th:only-of-type {\n",
       "        vertical-align: middle;\n",
       "    }\n",
       "\n",
       "    .dataframe tbody tr th {\n",
       "        vertical-align: top;\n",
       "    }\n",
       "\n",
       "    .dataframe thead th {\n",
       "        text-align: right;\n",
       "    }\n",
       "</style>\n",
       "<table border=\"1\" class=\"dataframe\">\n",
       "  <thead>\n",
       "    <tr style=\"text-align: right;\">\n",
       "      <th></th>\n",
       "      <th>A</th>\n",
       "      <th>B</th>\n",
       "      <th>C</th>\n",
       "      <th>D</th>\n",
       "      <th>F</th>\n",
       "    </tr>\n",
       "  </thead>\n",
       "  <tbody>\n",
       "    <tr>\n",
       "      <th>0</th>\n",
       "      <td>2.200583</td>\n",
       "      <td>0.256079</td>\n",
       "      <td>-0.326642</td>\n",
       "      <td>0.569558</td>\n",
       "      <td>-0.407372</td>\n",
       "    </tr>\n",
       "    <tr>\n",
       "      <th>1</th>\n",
       "      <td>0.670894</td>\n",
       "      <td>-0.465208</td>\n",
       "      <td>1.952255</td>\n",
       "      <td>2.408384</td>\n",
       "      <td>0.097234</td>\n",
       "    </tr>\n",
       "    <tr>\n",
       "      <th>2</th>\n",
       "      <td>-0.595799</td>\n",
       "      <td>-0.512758</td>\n",
       "      <td>3.349532</td>\n",
       "      <td>0.802844</td>\n",
       "      <td>-0.944269</td>\n",
       "    </tr>\n",
       "    <tr>\n",
       "      <th>3</th>\n",
       "      <td>-0.653431</td>\n",
       "      <td>0.855182</td>\n",
       "      <td>-0.126869</td>\n",
       "      <td>1.063262</td>\n",
       "      <td>0.213159</td>\n",
       "    </tr>\n",
       "    <tr>\n",
       "      <th>4</th>\n",
       "      <td>0.778716</td>\n",
       "      <td>-1.606237</td>\n",
       "      <td>0.985583</td>\n",
       "      <td>0.652088</td>\n",
       "      <td>-0.520698</td>\n",
       "    </tr>\n",
       "    <tr>\n",
       "      <th>5</th>\n",
       "      <td>-0.378333</td>\n",
       "      <td>-0.392907</td>\n",
       "      <td>0.989722</td>\n",
       "      <td>0.186826</td>\n",
       "      <td>-1.130871</td>\n",
       "    </tr>\n",
       "    <tr>\n",
       "      <th>6</th>\n",
       "      <td>-0.864474</td>\n",
       "      <td>-0.188754</td>\n",
       "      <td>0.330064</td>\n",
       "      <td>-0.122888</td>\n",
       "      <td>-0.048173</td>\n",
       "    </tr>\n",
       "    <tr>\n",
       "      <th>7</th>\n",
       "      <td>-0.256596</td>\n",
       "      <td>-1.850964</td>\n",
       "      <td>0.525630</td>\n",
       "      <td>1.825053</td>\n",
       "      <td>0.676088</td>\n",
       "    </tr>\n",
       "    <tr>\n",
       "      <th>8</th>\n",
       "      <td>0.185848</td>\n",
       "      <td>-1.143277</td>\n",
       "      <td>-0.738438</td>\n",
       "      <td>0.270026</td>\n",
       "      <td>-1.769206</td>\n",
       "    </tr>\n",
       "    <tr>\n",
       "      <th>9</th>\n",
       "      <td>1.987819</td>\n",
       "      <td>-2.484720</td>\n",
       "      <td>1.071736</td>\n",
       "      <td>1.561192</td>\n",
       "      <td>-1.551591</td>\n",
       "    </tr>\n",
       "  </tbody>\n",
       "</table>\n",
       "</div>"
      ]
     },
     "execution_count": 42,
     "metadata": {},
     "output_type": "execute_result"
    }
   ],
   "execution_count": 42
  },
  {
   "cell_type": "markdown",
   "id": "41c3ab06f97064f",
   "metadata": {},
   "source": [
    "**Another Solution**"
   ]
  },
  {
   "cell_type": "code",
   "id": "7908c37c230a1873",
   "metadata": {
    "ExecuteTime": {
     "end_time": "2025-10-04T18:13:04.561361Z",
     "start_time": "2025-10-04T18:13:04.556967Z"
    }
   },
   "source": [
    "dft07 = pd.DataFrame({'ستون یک': [10,20],'ستون دو': [20,30]})\n",
    "dft07\n"
   ],
   "outputs": [
    {
     "data": {
      "text/plain": [
       "   ستون یک  ستون دو\n",
       "0       10       20\n",
       "1       20       30"
      ],
      "text/html": [
       "<div>\n",
       "<style scoped>\n",
       "    .dataframe tbody tr th:only-of-type {\n",
       "        vertical-align: middle;\n",
       "    }\n",
       "\n",
       "    .dataframe tbody tr th {\n",
       "        vertical-align: top;\n",
       "    }\n",
       "\n",
       "    .dataframe thead th {\n",
       "        text-align: right;\n",
       "    }\n",
       "</style>\n",
       "<table border=\"1\" class=\"dataframe\">\n",
       "  <thead>\n",
       "    <tr style=\"text-align: right;\">\n",
       "      <th></th>\n",
       "      <th>ستون یک</th>\n",
       "      <th>ستون دو</th>\n",
       "    </tr>\n",
       "  </thead>\n",
       "  <tbody>\n",
       "    <tr>\n",
       "      <th>0</th>\n",
       "      <td>10</td>\n",
       "      <td>20</td>\n",
       "    </tr>\n",
       "    <tr>\n",
       "      <th>1</th>\n",
       "      <td>20</td>\n",
       "      <td>30</td>\n",
       "    </tr>\n",
       "  </tbody>\n",
       "</table>\n",
       "</div>"
      ]
     },
     "execution_count": 43,
     "metadata": {},
     "output_type": "execute_result"
    }
   ],
   "execution_count": 43
  },
  {
   "cell_type": "markdown",
   "id": "216bede05aa4f76a",
   "metadata": {},
   "source": [
    "#### a) روش اول"
   ]
  },
  {
   "cell_type": "code",
   "id": "f1e92b0342360695",
   "metadata": {
    "ExecuteTime": {
     "end_time": "2025-10-04T18:13:04.795197Z",
     "start_time": "2025-10-04T18:13:04.790962Z"
    }
   },
   "source": [
    "dft07 = dft07.rename({'ستون یک' : 'columns1', 'ستون دو' : 'columns2'}, axis='columns')\n",
    "dft07"
   ],
   "outputs": [
    {
     "data": {
      "text/plain": [
       "   columns1  columns2\n",
       "0        10        20\n",
       "1        20        30"
      ],
      "text/html": [
       "<div>\n",
       "<style scoped>\n",
       "    .dataframe tbody tr th:only-of-type {\n",
       "        vertical-align: middle;\n",
       "    }\n",
       "\n",
       "    .dataframe tbody tr th {\n",
       "        vertical-align: top;\n",
       "    }\n",
       "\n",
       "    .dataframe thead th {\n",
       "        text-align: right;\n",
       "    }\n",
       "</style>\n",
       "<table border=\"1\" class=\"dataframe\">\n",
       "  <thead>\n",
       "    <tr style=\"text-align: right;\">\n",
       "      <th></th>\n",
       "      <th>columns1</th>\n",
       "      <th>columns2</th>\n",
       "    </tr>\n",
       "  </thead>\n",
       "  <tbody>\n",
       "    <tr>\n",
       "      <th>0</th>\n",
       "      <td>10</td>\n",
       "      <td>20</td>\n",
       "    </tr>\n",
       "    <tr>\n",
       "      <th>1</th>\n",
       "      <td>20</td>\n",
       "      <td>30</td>\n",
       "    </tr>\n",
       "  </tbody>\n",
       "</table>\n",
       "</div>"
      ]
     },
     "execution_count": 44,
     "metadata": {},
     "output_type": "execute_result"
    }
   ],
   "execution_count": 44
  },
  {
   "cell_type": "markdown",
   "id": "35f4ae15588b1a09",
   "metadata": {},
   "source": [
    "#### b) روش دوم"
   ]
  },
  {
   "cell_type": "code",
   "id": "52679ee016ce4589",
   "metadata": {
    "ExecuteTime": {
     "end_time": "2025-10-04T18:13:05.085500Z",
     "start_time": "2025-10-04T18:13:05.080988Z"
    }
   },
   "source": [
    "dft07.columns = ['colu_1','colu_2']\n",
    "dft07"
   ],
   "outputs": [
    {
     "data": {
      "text/plain": [
       "   colu_1  colu_2\n",
       "0      10      20\n",
       "1      20      30"
      ],
      "text/html": [
       "<div>\n",
       "<style scoped>\n",
       "    .dataframe tbody tr th:only-of-type {\n",
       "        vertical-align: middle;\n",
       "    }\n",
       "\n",
       "    .dataframe tbody tr th {\n",
       "        vertical-align: top;\n",
       "    }\n",
       "\n",
       "    .dataframe thead th {\n",
       "        text-align: right;\n",
       "    }\n",
       "</style>\n",
       "<table border=\"1\" class=\"dataframe\">\n",
       "  <thead>\n",
       "    <tr style=\"text-align: right;\">\n",
       "      <th></th>\n",
       "      <th>colu_1</th>\n",
       "      <th>colu_2</th>\n",
       "    </tr>\n",
       "  </thead>\n",
       "  <tbody>\n",
       "    <tr>\n",
       "      <th>0</th>\n",
       "      <td>10</td>\n",
       "      <td>20</td>\n",
       "    </tr>\n",
       "    <tr>\n",
       "      <th>1</th>\n",
       "      <td>20</td>\n",
       "      <td>30</td>\n",
       "    </tr>\n",
       "  </tbody>\n",
       "</table>\n",
       "</div>"
      ]
     },
     "execution_count": 45,
     "metadata": {},
     "output_type": "execute_result"
    }
   ],
   "execution_count": 45
  },
  {
   "cell_type": "markdown",
   "id": "940ebeb2fcb5a851",
   "metadata": {},
   "source": [
    "#### c)  **STR Replace**"
   ]
  },
  {
   "cell_type": "code",
   "id": "88b63613f639ffe",
   "metadata": {
    "ExecuteTime": {
     "end_time": "2025-10-04T18:13:05.410786Z",
     "start_time": "2025-10-04T18:13:05.406530Z"
    }
   },
   "source": [
    "dft07.columns = dft07.columns.str.replace('_',' ')\n",
    "dft07"
   ],
   "outputs": [
    {
     "data": {
      "text/plain": [
       "   colu 1  colu 2\n",
       "0      10      20\n",
       "1      20      30"
      ],
      "text/html": [
       "<div>\n",
       "<style scoped>\n",
       "    .dataframe tbody tr th:only-of-type {\n",
       "        vertical-align: middle;\n",
       "    }\n",
       "\n",
       "    .dataframe tbody tr th {\n",
       "        vertical-align: top;\n",
       "    }\n",
       "\n",
       "    .dataframe thead th {\n",
       "        text-align: right;\n",
       "    }\n",
       "</style>\n",
       "<table border=\"1\" class=\"dataframe\">\n",
       "  <thead>\n",
       "    <tr style=\"text-align: right;\">\n",
       "      <th></th>\n",
       "      <th>colu 1</th>\n",
       "      <th>colu 2</th>\n",
       "    </tr>\n",
       "  </thead>\n",
       "  <tbody>\n",
       "    <tr>\n",
       "      <th>0</th>\n",
       "      <td>10</td>\n",
       "      <td>20</td>\n",
       "    </tr>\n",
       "    <tr>\n",
       "      <th>1</th>\n",
       "      <td>20</td>\n",
       "      <td>30</td>\n",
       "    </tr>\n",
       "  </tbody>\n",
       "</table>\n",
       "</div>"
      ]
     },
     "execution_count": 46,
     "metadata": {},
     "output_type": "execute_result"
    }
   ],
   "execution_count": 46
  },
  {
   "cell_type": "code",
   "id": "980ff09ef80807eb",
   "metadata": {
    "ExecuteTime": {
     "end_time": "2025-10-04T18:13:05.676984Z",
     "start_time": "2025-10-04T18:13:05.672624Z"
    }
   },
   "source": [
    "dft07.columns = dft07.columns.str.replace('colu','column')\n",
    "dft07"
   ],
   "outputs": [
    {
     "data": {
      "text/plain": [
       "   column 1  column 2\n",
       "0        10        20\n",
       "1        20        30"
      ],
      "text/html": [
       "<div>\n",
       "<style scoped>\n",
       "    .dataframe tbody tr th:only-of-type {\n",
       "        vertical-align: middle;\n",
       "    }\n",
       "\n",
       "    .dataframe tbody tr th {\n",
       "        vertical-align: top;\n",
       "    }\n",
       "\n",
       "    .dataframe thead th {\n",
       "        text-align: right;\n",
       "    }\n",
       "</style>\n",
       "<table border=\"1\" class=\"dataframe\">\n",
       "  <thead>\n",
       "    <tr style=\"text-align: right;\">\n",
       "      <th></th>\n",
       "      <th>column 1</th>\n",
       "      <th>column 2</th>\n",
       "    </tr>\n",
       "  </thead>\n",
       "  <tbody>\n",
       "    <tr>\n",
       "      <th>0</th>\n",
       "      <td>10</td>\n",
       "      <td>20</td>\n",
       "    </tr>\n",
       "    <tr>\n",
       "      <th>1</th>\n",
       "      <td>20</td>\n",
       "      <td>30</td>\n",
       "    </tr>\n",
       "  </tbody>\n",
       "</table>\n",
       "</div>"
      ]
     },
     "execution_count": 47,
     "metadata": {},
     "output_type": "execute_result"
    }
   ],
   "execution_count": 47
  },
  {
   "cell_type": "markdown",
   "id": "ca994d1cfc4042ad",
   "metadata": {},
   "source": [
    "#### d) اضافه کردن به اول و اخر اسم ها"
   ]
  },
  {
   "cell_type": "code",
   "id": "1935b738702d3492",
   "metadata": {
    "ExecuteTime": {
     "end_time": "2025-10-04T18:13:05.928457Z",
     "start_time": "2025-10-04T18:13:05.923993Z"
    }
   },
   "source": [
    "dft07.add_prefix('x_')"
   ],
   "outputs": [
    {
     "data": {
      "text/plain": [
       "   x_column 1  x_column 2\n",
       "0          10          20\n",
       "1          20          30"
      ],
      "text/html": [
       "<div>\n",
       "<style scoped>\n",
       "    .dataframe tbody tr th:only-of-type {\n",
       "        vertical-align: middle;\n",
       "    }\n",
       "\n",
       "    .dataframe tbody tr th {\n",
       "        vertical-align: top;\n",
       "    }\n",
       "\n",
       "    .dataframe thead th {\n",
       "        text-align: right;\n",
       "    }\n",
       "</style>\n",
       "<table border=\"1\" class=\"dataframe\">\n",
       "  <thead>\n",
       "    <tr style=\"text-align: right;\">\n",
       "      <th></th>\n",
       "      <th>x_column 1</th>\n",
       "      <th>x_column 2</th>\n",
       "    </tr>\n",
       "  </thead>\n",
       "  <tbody>\n",
       "    <tr>\n",
       "      <th>0</th>\n",
       "      <td>10</td>\n",
       "      <td>20</td>\n",
       "    </tr>\n",
       "    <tr>\n",
       "      <th>1</th>\n",
       "      <td>20</td>\n",
       "      <td>30</td>\n",
       "    </tr>\n",
       "  </tbody>\n",
       "</table>\n",
       "</div>"
      ]
     },
     "execution_count": 48,
     "metadata": {},
     "output_type": "execute_result"
    }
   ],
   "execution_count": 48
  },
  {
   "cell_type": "code",
   "id": "6e38ee020ca3c0d6",
   "metadata": {
    "ExecuteTime": {
     "end_time": "2025-10-04T18:13:06.198126Z",
     "start_time": "2025-10-04T18:13:06.193531Z"
    }
   },
   "source": [
    "dft07.add_suffix('_y')"
   ],
   "outputs": [
    {
     "data": {
      "text/plain": [
       "   column 1_y  column 2_y\n",
       "0          10          20\n",
       "1          20          30"
      ],
      "text/html": [
       "<div>\n",
       "<style scoped>\n",
       "    .dataframe tbody tr th:only-of-type {\n",
       "        vertical-align: middle;\n",
       "    }\n",
       "\n",
       "    .dataframe tbody tr th {\n",
       "        vertical-align: top;\n",
       "    }\n",
       "\n",
       "    .dataframe thead th {\n",
       "        text-align: right;\n",
       "    }\n",
       "</style>\n",
       "<table border=\"1\" class=\"dataframe\">\n",
       "  <thead>\n",
       "    <tr style=\"text-align: right;\">\n",
       "      <th></th>\n",
       "      <th>column 1_y</th>\n",
       "      <th>column 2_y</th>\n",
       "    </tr>\n",
       "  </thead>\n",
       "  <tbody>\n",
       "    <tr>\n",
       "      <th>0</th>\n",
       "      <td>10</td>\n",
       "      <td>20</td>\n",
       "    </tr>\n",
       "    <tr>\n",
       "      <th>1</th>\n",
       "      <td>20</td>\n",
       "      <td>30</td>\n",
       "    </tr>\n",
       "  </tbody>\n",
       "</table>\n",
       "</div>"
      ]
     },
     "execution_count": 49,
     "metadata": {},
     "output_type": "execute_result"
    }
   ],
   "execution_count": 49
  },
  {
   "cell_type": "markdown",
   "id": "2fb7db7ea4241ad4",
   "metadata": {},
   "source": [
    "save changes"
   ]
  },
  {
   "cell_type": "code",
   "id": "e737245f3af27fcd",
   "metadata": {
    "ExecuteTime": {
     "end_time": "2025-10-04T18:13:06.436886Z",
     "start_time": "2025-10-04T18:13:06.433677Z"
    }
   },
   "source": [
    "dft07 = dft07.add_prefix('x_')\n",
    "dft07 = dft07.add_suffix('_Y')\n",
    "print(dft07)"
   ],
   "outputs": [
    {
     "name": "stdout",
     "output_type": "stream",
     "text": [
      "   x_column 1_Y  x_column 2_Y\n",
      "0            10            20\n",
      "1            20            30\n"
     ]
    }
   ],
   "execution_count": 50
  },
  {
   "cell_type": "code",
   "id": "80ab73e90908d95a",
   "metadata": {
    "ExecuteTime": {
     "end_time": "2025-10-04T18:13:06.705533Z",
     "start_time": "2025-10-04T18:13:06.656276Z"
    }
   },
   "source": [
    "del dft07\n",
    "gc.collect()"
   ],
   "outputs": [
    {
     "data": {
      "text/plain": [
       "30"
      ]
     },
     "execution_count": 51,
     "metadata": {},
     "output_type": "execute_result"
    }
   ],
   "execution_count": 51
  },
  {
   "cell_type": "markdown",
   "id": "5a80d2868ad1430c",
   "metadata": {},
   "source": [
    "### **Trick 08 - نحوه تشخیص برابر بودن ستون ها در Pandas**"
   ]
  },
  {
   "cell_type": "code",
   "id": "2669935a80e67399",
   "metadata": {
    "ExecuteTime": {
     "end_time": "2025-10-04T18:13:06.839661Z",
     "start_time": "2025-10-04T18:13:06.833995Z"
    }
   },
   "source": [
    "dft08 = pd.DataFrame({'First' : [12,24,44,np.nan], 'Sec' : [12,24,44,np.nan]})\n",
    "dft08\n"
   ],
   "outputs": [
    {
     "data": {
      "text/plain": [
       "   First   Sec\n",
       "0   12.0  12.0\n",
       "1   24.0  24.0\n",
       "2   44.0  44.0\n",
       "3    NaN   NaN"
      ],
      "text/html": [
       "<div>\n",
       "<style scoped>\n",
       "    .dataframe tbody tr th:only-of-type {\n",
       "        vertical-align: middle;\n",
       "    }\n",
       "\n",
       "    .dataframe tbody tr th {\n",
       "        vertical-align: top;\n",
       "    }\n",
       "\n",
       "    .dataframe thead th {\n",
       "        text-align: right;\n",
       "    }\n",
       "</style>\n",
       "<table border=\"1\" class=\"dataframe\">\n",
       "  <thead>\n",
       "    <tr style=\"text-align: right;\">\n",
       "      <th></th>\n",
       "      <th>First</th>\n",
       "      <th>Sec</th>\n",
       "    </tr>\n",
       "  </thead>\n",
       "  <tbody>\n",
       "    <tr>\n",
       "      <th>0</th>\n",
       "      <td>12.0</td>\n",
       "      <td>12.0</td>\n",
       "    </tr>\n",
       "    <tr>\n",
       "      <th>1</th>\n",
       "      <td>24.0</td>\n",
       "      <td>24.0</td>\n",
       "    </tr>\n",
       "    <tr>\n",
       "      <th>2</th>\n",
       "      <td>44.0</td>\n",
       "      <td>44.0</td>\n",
       "    </tr>\n",
       "    <tr>\n",
       "      <th>3</th>\n",
       "      <td>NaN</td>\n",
       "      <td>NaN</td>\n",
       "    </tr>\n",
       "  </tbody>\n",
       "</table>\n",
       "</div>"
      ]
     },
     "execution_count": 52,
     "metadata": {},
     "output_type": "execute_result"
    }
   ],
   "execution_count": 52
  },
  {
   "cell_type": "code",
   "id": "e06b91d33ce976bb",
   "metadata": {
    "ExecuteTime": {
     "end_time": "2025-10-04T18:13:06.938711Z",
     "start_time": "2025-10-04T18:13:06.934465Z"
    }
   },
   "source": [
    "# دو ستون عملا مساوی هستن ولی دو nan هیچوقت مساوی نخواهند بود\n",
    "np.nan == np.nan"
   ],
   "outputs": [
    {
     "data": {
      "text/plain": [
       "False"
      ]
     },
     "execution_count": 53,
     "metadata": {},
     "output_type": "execute_result"
    }
   ],
   "execution_count": 53
  },
  {
   "cell_type": "markdown",
   "id": "30d31dc1d0ef3264",
   "metadata": {},
   "source": [
    "#### a)"
   ]
  },
  {
   "cell_type": "code",
   "id": "58c8bd66966b1724",
   "metadata": {
    "ExecuteTime": {
     "end_time": "2025-10-04T18:13:07.191776Z",
     "start_time": "2025-10-04T18:13:07.188241Z"
    }
   },
   "source": [
    "dft08.First.equals(dft08.Sec)"
   ],
   "outputs": [
    {
     "data": {
      "text/plain": [
       "True"
      ]
     },
     "execution_count": 54,
     "metadata": {},
     "output_type": "execute_result"
    }
   ],
   "execution_count": 54
  },
  {
   "cell_type": "markdown",
   "id": "60bf56ab0adcbb3b",
   "metadata": {},
   "source": [
    "#### b)"
   ]
  },
  {
   "cell_type": "code",
   "id": "376e31097159a463",
   "metadata": {
    "ExecuteTime": {
     "end_time": "2025-10-04T18:13:07.332009Z",
     "start_time": "2025-10-04T18:13:07.328948Z"
    }
   },
   "source": [
    "dft08_new = dft08.copy()\n",
    "dft08_new.equals(dft08)"
   ],
   "outputs": [
    {
     "data": {
      "text/plain": [
       "True"
      ]
     },
     "execution_count": 55,
     "metadata": {},
     "output_type": "execute_result"
    }
   ],
   "execution_count": 55
  },
  {
   "cell_type": "code",
   "id": "f50c0a9941e79939",
   "metadata": {
    "ExecuteTime": {
     "end_time": "2025-10-04T18:13:07.491029Z",
     "start_time": "2025-10-04T18:13:07.438929Z"
    }
   },
   "source": [
    "\n",
    "del dft08, dft08_new\n",
    "gc.collect()"
   ],
   "outputs": [
    {
     "data": {
      "text/plain": [
       "12"
      ]
     },
     "execution_count": 56,
     "metadata": {},
     "output_type": "execute_result"
    }
   ],
   "execution_count": 56
  },
  {
   "cell_type": "markdown",
   "id": "34d347c84a7adcf5",
   "metadata": {},
   "source": [
    "### **Trick 09 - نحوه استفاده از تابع Query در Pandas**"
   ]
  },
  {
   "cell_type": "code",
   "id": "9326f8bfbdffc99e",
   "metadata": {
    "ExecuteTime": {
     "end_time": "2025-10-04T18:13:07.549053Z",
     "start_time": "2025-10-04T18:13:07.546722Z"
    }
   },
   "source": [
    "import warnings\n",
    "warnings.filterwarnings('ignore')"
   ],
   "outputs": [],
   "execution_count": 57
  },
  {
   "cell_type": "code",
   "id": "3a7f4a263e53c94a",
   "metadata": {
    "ExecuteTime": {
     "end_time": "2025-10-04T18:13:07.603570Z",
     "start_time": "2025-10-04T18:13:07.597191Z"
    }
   },
   "source": [
    "dft09 = pd.read_csv(\"../../00 DATA/stocks.csv\")\n",
    "dft09.head()"
   ],
   "outputs": [
    {
     "data": {
      "text/plain": [
       "         Date   Close    Volume Symbol\n",
       "0  2016-10-03   31.50  14070500   CSCO\n",
       "1  2016-10-03  112.52  21701800   AAPL\n",
       "2  2016-10-03   57.42  19189500   MSFT\n",
       "3  2016-10-04  113.00  29736800   AAPL\n",
       "4  2016-10-04   57.24  20085900   MSFT"
      ],
      "text/html": [
       "<div>\n",
       "<style scoped>\n",
       "    .dataframe tbody tr th:only-of-type {\n",
       "        vertical-align: middle;\n",
       "    }\n",
       "\n",
       "    .dataframe tbody tr th {\n",
       "        vertical-align: top;\n",
       "    }\n",
       "\n",
       "    .dataframe thead th {\n",
       "        text-align: right;\n",
       "    }\n",
       "</style>\n",
       "<table border=\"1\" class=\"dataframe\">\n",
       "  <thead>\n",
       "    <tr style=\"text-align: right;\">\n",
       "      <th></th>\n",
       "      <th>Date</th>\n",
       "      <th>Close</th>\n",
       "      <th>Volume</th>\n",
       "      <th>Symbol</th>\n",
       "    </tr>\n",
       "  </thead>\n",
       "  <tbody>\n",
       "    <tr>\n",
       "      <th>0</th>\n",
       "      <td>2016-10-03</td>\n",
       "      <td>31.50</td>\n",
       "      <td>14070500</td>\n",
       "      <td>CSCO</td>\n",
       "    </tr>\n",
       "    <tr>\n",
       "      <th>1</th>\n",
       "      <td>2016-10-03</td>\n",
       "      <td>112.52</td>\n",
       "      <td>21701800</td>\n",
       "      <td>AAPL</td>\n",
       "    </tr>\n",
       "    <tr>\n",
       "      <th>2</th>\n",
       "      <td>2016-10-03</td>\n",
       "      <td>57.42</td>\n",
       "      <td>19189500</td>\n",
       "      <td>MSFT</td>\n",
       "    </tr>\n",
       "    <tr>\n",
       "      <th>3</th>\n",
       "      <td>2016-10-04</td>\n",
       "      <td>113.00</td>\n",
       "      <td>29736800</td>\n",
       "      <td>AAPL</td>\n",
       "    </tr>\n",
       "    <tr>\n",
       "      <th>4</th>\n",
       "      <td>2016-10-04</td>\n",
       "      <td>57.24</td>\n",
       "      <td>20085900</td>\n",
       "      <td>MSFT</td>\n",
       "    </tr>\n",
       "  </tbody>\n",
       "</table>\n",
       "</div>"
      ]
     },
     "execution_count": 58,
     "metadata": {},
     "output_type": "execute_result"
    }
   ],
   "execution_count": 58
  },
  {
   "cell_type": "markdown",
   "id": "870ea8639a0daaaa",
   "metadata": {},
   "source": [
    "#### a) سلکت کردن با کوئری"
   ]
  },
  {
   "cell_type": "markdown",
   "id": "de90746400f01b66",
   "metadata": {},
   "source": [
    "a) روش معمولی"
   ]
  },
  {
   "cell_type": "code",
   "id": "fbcfad1b52deb46e",
   "metadata": {
    "ExecuteTime": {
     "end_time": "2025-10-04T18:13:07.703157Z",
     "start_time": "2025-10-04T18:13:07.697969Z"
    }
   },
   "source": [
    "dft09[dft09.Symbol == 'AAPL']"
   ],
   "outputs": [
    {
     "data": {
      "text/plain": [
       "         Date   Close    Volume Symbol\n",
       "1  2016-10-03  112.52  21701800   AAPL\n",
       "3  2016-10-04  113.00  29736800   AAPL\n",
       "8  2016-10-05  113.05  21453100   AAPL"
      ],
      "text/html": [
       "<div>\n",
       "<style scoped>\n",
       "    .dataframe tbody tr th:only-of-type {\n",
       "        vertical-align: middle;\n",
       "    }\n",
       "\n",
       "    .dataframe tbody tr th {\n",
       "        vertical-align: top;\n",
       "    }\n",
       "\n",
       "    .dataframe thead th {\n",
       "        text-align: right;\n",
       "    }\n",
       "</style>\n",
       "<table border=\"1\" class=\"dataframe\">\n",
       "  <thead>\n",
       "    <tr style=\"text-align: right;\">\n",
       "      <th></th>\n",
       "      <th>Date</th>\n",
       "      <th>Close</th>\n",
       "      <th>Volume</th>\n",
       "      <th>Symbol</th>\n",
       "    </tr>\n",
       "  </thead>\n",
       "  <tbody>\n",
       "    <tr>\n",
       "      <th>1</th>\n",
       "      <td>2016-10-03</td>\n",
       "      <td>112.52</td>\n",
       "      <td>21701800</td>\n",
       "      <td>AAPL</td>\n",
       "    </tr>\n",
       "    <tr>\n",
       "      <th>3</th>\n",
       "      <td>2016-10-04</td>\n",
       "      <td>113.00</td>\n",
       "      <td>29736800</td>\n",
       "      <td>AAPL</td>\n",
       "    </tr>\n",
       "    <tr>\n",
       "      <th>8</th>\n",
       "      <td>2016-10-05</td>\n",
       "      <td>113.05</td>\n",
       "      <td>21453100</td>\n",
       "      <td>AAPL</td>\n",
       "    </tr>\n",
       "  </tbody>\n",
       "</table>\n",
       "</div>"
      ]
     },
     "execution_count": 59,
     "metadata": {},
     "output_type": "execute_result"
    }
   ],
   "execution_count": 59
  },
  {
   "cell_type": "markdown",
   "id": "fecd493e6f8c9618",
   "metadata": {},
   "source": [
    "b) روش استفاده از کوئری"
   ]
  },
  {
   "cell_type": "code",
   "id": "133cd9bf3c4e7bdb",
   "metadata": {
    "ExecuteTime": {
     "end_time": "2025-10-04T18:13:07.943919Z",
     "start_time": "2025-10-04T18:13:07.938081Z"
    }
   },
   "source": [
    "dft09.query('Symbol == \"AAPL\" ')"
   ],
   "outputs": [
    {
     "data": {
      "text/plain": [
       "         Date   Close    Volume Symbol\n",
       "1  2016-10-03  112.52  21701800   AAPL\n",
       "3  2016-10-04  113.00  29736800   AAPL\n",
       "8  2016-10-05  113.05  21453100   AAPL"
      ],
      "text/html": [
       "<div>\n",
       "<style scoped>\n",
       "    .dataframe tbody tr th:only-of-type {\n",
       "        vertical-align: middle;\n",
       "    }\n",
       "\n",
       "    .dataframe tbody tr th {\n",
       "        vertical-align: top;\n",
       "    }\n",
       "\n",
       "    .dataframe thead th {\n",
       "        text-align: right;\n",
       "    }\n",
       "</style>\n",
       "<table border=\"1\" class=\"dataframe\">\n",
       "  <thead>\n",
       "    <tr style=\"text-align: right;\">\n",
       "      <th></th>\n",
       "      <th>Date</th>\n",
       "      <th>Close</th>\n",
       "      <th>Volume</th>\n",
       "      <th>Symbol</th>\n",
       "    </tr>\n",
       "  </thead>\n",
       "  <tbody>\n",
       "    <tr>\n",
       "      <th>1</th>\n",
       "      <td>2016-10-03</td>\n",
       "      <td>112.52</td>\n",
       "      <td>21701800</td>\n",
       "      <td>AAPL</td>\n",
       "    </tr>\n",
       "    <tr>\n",
       "      <th>3</th>\n",
       "      <td>2016-10-04</td>\n",
       "      <td>113.00</td>\n",
       "      <td>29736800</td>\n",
       "      <td>AAPL</td>\n",
       "    </tr>\n",
       "    <tr>\n",
       "      <th>8</th>\n",
       "      <td>2016-10-05</td>\n",
       "      <td>113.05</td>\n",
       "      <td>21453100</td>\n",
       "      <td>AAPL</td>\n",
       "    </tr>\n",
       "  </tbody>\n",
       "</table>\n",
       "</div>"
      ]
     },
     "execution_count": 60,
     "metadata": {},
     "output_type": "execute_result"
    }
   ],
   "execution_count": 60
  },
  {
   "cell_type": "markdown",
   "id": "aa6d96a06669624d",
   "metadata": {},
   "source": [
    "#### b) عملیات منتطقی با کوئری\n"
   ]
  },
  {
   "cell_type": "markdown",
   "id": "a495efa256c148a5",
   "metadata": {},
   "source": [
    "a) روش معمولی"
   ]
  },
  {
   "cell_type": "code",
   "id": "208adcf1c8629abb",
   "metadata": {
    "ExecuteTime": {
     "end_time": "2025-10-04T18:13:08.248171Z",
     "start_time": "2025-10-04T18:13:08.221501Z"
    }
   },
   "source": [
    "dft09.groupby(\"Symbol\").mean('Volume','Close')"
   ],
   "outputs": [
    {
     "data": {
      "text/plain": [
       "             Close        Volume\n",
       "Symbol                          \n",
       "AAPL    112.856667  2.429723e+07\n",
       "CSCO     31.480000  1.477983e+07\n",
       "MSFT     57.433333  1.866727e+07"
      ],
      "text/html": [
       "<div>\n",
       "<style scoped>\n",
       "    .dataframe tbody tr th:only-of-type {\n",
       "        vertical-align: middle;\n",
       "    }\n",
       "\n",
       "    .dataframe tbody tr th {\n",
       "        vertical-align: top;\n",
       "    }\n",
       "\n",
       "    .dataframe thead th {\n",
       "        text-align: right;\n",
       "    }\n",
       "</style>\n",
       "<table border=\"1\" class=\"dataframe\">\n",
       "  <thead>\n",
       "    <tr style=\"text-align: right;\">\n",
       "      <th></th>\n",
       "      <th>Close</th>\n",
       "      <th>Volume</th>\n",
       "    </tr>\n",
       "    <tr>\n",
       "      <th>Symbol</th>\n",
       "      <th></th>\n",
       "      <th></th>\n",
       "    </tr>\n",
       "  </thead>\n",
       "  <tbody>\n",
       "    <tr>\n",
       "      <th>AAPL</th>\n",
       "      <td>112.856667</td>\n",
       "      <td>2.429723e+07</td>\n",
       "    </tr>\n",
       "    <tr>\n",
       "      <th>CSCO</th>\n",
       "      <td>31.480000</td>\n",
       "      <td>1.477983e+07</td>\n",
       "    </tr>\n",
       "    <tr>\n",
       "      <th>MSFT</th>\n",
       "      <td>57.433333</td>\n",
       "      <td>1.866727e+07</td>\n",
       "    </tr>\n",
       "  </tbody>\n",
       "</table>\n",
       "</div>"
      ]
     },
     "execution_count": 61,
     "metadata": {},
     "output_type": "execute_result"
    }
   ],
   "execution_count": 61
  },
  {
   "cell_type": "code",
   "id": "37cf6c9488f297ad",
   "metadata": {
    "ExecuteTime": {
     "end_time": "2025-10-04T18:13:08.441634Z",
     "start_time": "2025-10-04T18:13:08.435968Z"
    }
   },
   "source": [
    "temp = dft09.groupby(\"Symbol\").mean('Volume','Close')\n",
    "temp = temp[temp['Close'] < 100]\n",
    "temp"
   ],
   "outputs": [
    {
     "data": {
      "text/plain": [
       "            Close        Volume\n",
       "Symbol                         \n",
       "CSCO    31.480000  1.477983e+07\n",
       "MSFT    57.433333  1.866727e+07"
      ],
      "text/html": [
       "<div>\n",
       "<style scoped>\n",
       "    .dataframe tbody tr th:only-of-type {\n",
       "        vertical-align: middle;\n",
       "    }\n",
       "\n",
       "    .dataframe tbody tr th {\n",
       "        vertical-align: top;\n",
       "    }\n",
       "\n",
       "    .dataframe thead th {\n",
       "        text-align: right;\n",
       "    }\n",
       "</style>\n",
       "<table border=\"1\" class=\"dataframe\">\n",
       "  <thead>\n",
       "    <tr style=\"text-align: right;\">\n",
       "      <th></th>\n",
       "      <th>Close</th>\n",
       "      <th>Volume</th>\n",
       "    </tr>\n",
       "    <tr>\n",
       "      <th>Symbol</th>\n",
       "      <th></th>\n",
       "      <th></th>\n",
       "    </tr>\n",
       "  </thead>\n",
       "  <tbody>\n",
       "    <tr>\n",
       "      <th>CSCO</th>\n",
       "      <td>31.480000</td>\n",
       "      <td>1.477983e+07</td>\n",
       "    </tr>\n",
       "    <tr>\n",
       "      <th>MSFT</th>\n",
       "      <td>57.433333</td>\n",
       "      <td>1.866727e+07</td>\n",
       "    </tr>\n",
       "  </tbody>\n",
       "</table>\n",
       "</div>"
      ]
     },
     "execution_count": 62,
     "metadata": {},
     "output_type": "execute_result"
    }
   ],
   "execution_count": 62
  },
  {
   "cell_type": "markdown",
   "id": "c5e7c15bfc4a8ef1",
   "metadata": {},
   "source": [
    "b) استفاده از کوئری"
   ]
  },
  {
   "cell_type": "code",
   "id": "f2b1137d10b1a95",
   "metadata": {
    "ExecuteTime": {
     "end_time": "2025-10-04T18:13:08.715946Z",
     "start_time": "2025-10-04T18:13:08.709296Z"
    }
   },
   "source": [
    "temp = dft09.groupby(\"Symbol\").mean('Volume','Close').query('Close<100')\n",
    "temp"
   ],
   "outputs": [
    {
     "data": {
      "text/plain": [
       "            Close        Volume\n",
       "Symbol                         \n",
       "CSCO    31.480000  1.477983e+07\n",
       "MSFT    57.433333  1.866727e+07"
      ],
      "text/html": [
       "<div>\n",
       "<style scoped>\n",
       "    .dataframe tbody tr th:only-of-type {\n",
       "        vertical-align: middle;\n",
       "    }\n",
       "\n",
       "    .dataframe tbody tr th {\n",
       "        vertical-align: top;\n",
       "    }\n",
       "\n",
       "    .dataframe thead th {\n",
       "        text-align: right;\n",
       "    }\n",
       "</style>\n",
       "<table border=\"1\" class=\"dataframe\">\n",
       "  <thead>\n",
       "    <tr style=\"text-align: right;\">\n",
       "      <th></th>\n",
       "      <th>Close</th>\n",
       "      <th>Volume</th>\n",
       "    </tr>\n",
       "    <tr>\n",
       "      <th>Symbol</th>\n",
       "      <th></th>\n",
       "      <th></th>\n",
       "    </tr>\n",
       "  </thead>\n",
       "  <tbody>\n",
       "    <tr>\n",
       "      <th>CSCO</th>\n",
       "      <td>31.480000</td>\n",
       "      <td>1.477983e+07</td>\n",
       "    </tr>\n",
       "    <tr>\n",
       "      <th>MSFT</th>\n",
       "      <td>57.433333</td>\n",
       "      <td>1.866727e+07</td>\n",
       "    </tr>\n",
       "  </tbody>\n",
       "</table>\n",
       "</div>"
      ]
     },
     "execution_count": 63,
     "metadata": {},
     "output_type": "execute_result"
    }
   ],
   "execution_count": 63
  },
  {
   "cell_type": "code",
   "id": "391ecd33",
   "metadata": {
    "ExecuteTime": {
     "end_time": "2025-10-04T18:13:08.992124Z",
     "start_time": "2025-10-04T18:13:08.949502Z"
    }
   },
   "source": [
    "\n",
    "del dft09, temp\n",
    "gc.collect()"
   ],
   "outputs": [
    {
     "data": {
      "text/plain": [
       "12"
      ]
     },
     "execution_count": 64,
     "metadata": {},
     "output_type": "execute_result"
    }
   ],
   "execution_count": 64
  },
  {
   "cell_type": "markdown",
   "id": "d8034ed68682e502",
   "metadata": {},
   "source": [
    "### **Trick 10 - نحوه جداسازی داده های یک دیتافریم به ستون های مختلف در Pandas**"
   ]
  },
  {
   "cell_type": "code",
   "id": "1f878e076800e752",
   "metadata": {
    "ExecuteTime": {
     "end_time": "2025-10-04T18:13:09.184437Z",
     "start_time": "2025-10-04T18:13:09.179990Z"
    }
   },
   "source": [
    "dft10 = pd.DataFrame({'name' : ['Pooria Lari','Ali Adibi','Reza moradifarahani'],'loc' : ['tehran','lavason','tabriz']})\n",
    "dft10"
   ],
   "outputs": [
    {
     "data": {
      "text/plain": [
       "                  name      loc\n",
       "0          Pooria Lari   tehran\n",
       "1            Ali Adibi  lavason\n",
       "2  Reza moradifarahani   tabriz"
      ],
      "text/html": [
       "<div>\n",
       "<style scoped>\n",
       "    .dataframe tbody tr th:only-of-type {\n",
       "        vertical-align: middle;\n",
       "    }\n",
       "\n",
       "    .dataframe tbody tr th {\n",
       "        vertical-align: top;\n",
       "    }\n",
       "\n",
       "    .dataframe thead th {\n",
       "        text-align: right;\n",
       "    }\n",
       "</style>\n",
       "<table border=\"1\" class=\"dataframe\">\n",
       "  <thead>\n",
       "    <tr style=\"text-align: right;\">\n",
       "      <th></th>\n",
       "      <th>name</th>\n",
       "      <th>loc</th>\n",
       "    </tr>\n",
       "  </thead>\n",
       "  <tbody>\n",
       "    <tr>\n",
       "      <th>0</th>\n",
       "      <td>Pooria Lari</td>\n",
       "      <td>tehran</td>\n",
       "    </tr>\n",
       "    <tr>\n",
       "      <th>1</th>\n",
       "      <td>Ali Adibi</td>\n",
       "      <td>lavason</td>\n",
       "    </tr>\n",
       "    <tr>\n",
       "      <th>2</th>\n",
       "      <td>Reza moradifarahani</td>\n",
       "      <td>tabriz</td>\n",
       "    </tr>\n",
       "  </tbody>\n",
       "</table>\n",
       "</div>"
      ]
     },
     "execution_count": 65,
     "metadata": {},
     "output_type": "execute_result"
    }
   ],
   "execution_count": 65
  },
  {
   "cell_type": "code",
   "id": "7fa898cbc6ebbebc",
   "metadata": {
    "ExecuteTime": {
     "end_time": "2025-10-04T18:13:09.327599Z",
     "start_time": "2025-10-04T18:13:09.322183Z"
    }
   },
   "source": [
    "dft10[['First Name', 'Last Name']] = dft10.name.str.split(' ', expand=True)\n",
    "#dft10.drop(columns=['name'], inplace=True)\n",
    "dft10"
   ],
   "outputs": [
    {
     "data": {
      "text/plain": [
       "                  name      loc First Name       Last Name\n",
       "0          Pooria Lari   tehran     Pooria            Lari\n",
       "1            Ali Adibi  lavason        Ali           Adibi\n",
       "2  Reza moradifarahani   tabriz       Reza  moradifarahani"
      ],
      "text/html": [
       "<div>\n",
       "<style scoped>\n",
       "    .dataframe tbody tr th:only-of-type {\n",
       "        vertical-align: middle;\n",
       "    }\n",
       "\n",
       "    .dataframe tbody tr th {\n",
       "        vertical-align: top;\n",
       "    }\n",
       "\n",
       "    .dataframe thead th {\n",
       "        text-align: right;\n",
       "    }\n",
       "</style>\n",
       "<table border=\"1\" class=\"dataframe\">\n",
       "  <thead>\n",
       "    <tr style=\"text-align: right;\">\n",
       "      <th></th>\n",
       "      <th>name</th>\n",
       "      <th>loc</th>\n",
       "      <th>First Name</th>\n",
       "      <th>Last Name</th>\n",
       "    </tr>\n",
       "  </thead>\n",
       "  <tbody>\n",
       "    <tr>\n",
       "      <th>0</th>\n",
       "      <td>Pooria Lari</td>\n",
       "      <td>tehran</td>\n",
       "      <td>Pooria</td>\n",
       "      <td>Lari</td>\n",
       "    </tr>\n",
       "    <tr>\n",
       "      <th>1</th>\n",
       "      <td>Ali Adibi</td>\n",
       "      <td>lavason</td>\n",
       "      <td>Ali</td>\n",
       "      <td>Adibi</td>\n",
       "    </tr>\n",
       "    <tr>\n",
       "      <th>2</th>\n",
       "      <td>Reza moradifarahani</td>\n",
       "      <td>tabriz</td>\n",
       "      <td>Reza</td>\n",
       "      <td>moradifarahani</td>\n",
       "    </tr>\n",
       "  </tbody>\n",
       "</table>\n",
       "</div>"
      ]
     },
     "execution_count": 66,
     "metadata": {},
     "output_type": "execute_result"
    }
   ],
   "execution_count": 66
  },
  {
   "cell_type": "markdown",
   "id": "2e36f724b45d6d41",
   "metadata": {},
   "source": [
    "Alternative Solution"
   ]
  },
  {
   "cell_type": "code",
   "id": "d445f65493ce3b42",
   "metadata": {
    "ExecuteTime": {
     "end_time": "2025-10-04T18:13:09.594322Z",
     "start_time": "2025-10-04T18:13:09.588652Z"
    }
   },
   "source": [
    "\n",
    "dft10['First Name'], dft10['Last Name'] = dft10.name.str.split(' ', expand=True)\n",
    "#dft10.drop(columns=['First Name', 'Last Name'], inplace=True)\n",
    "dft10\n"
   ],
   "outputs": [
    {
     "data": {
      "text/plain": [
       "                  name      loc  First Name  Last Name\n",
       "0          Pooria Lari   tehran           0          1\n",
       "1            Ali Adibi  lavason           0          1\n",
       "2  Reza moradifarahani   tabriz           0          1"
      ],
      "text/html": [
       "<div>\n",
       "<style scoped>\n",
       "    .dataframe tbody tr th:only-of-type {\n",
       "        vertical-align: middle;\n",
       "    }\n",
       "\n",
       "    .dataframe tbody tr th {\n",
       "        vertical-align: top;\n",
       "    }\n",
       "\n",
       "    .dataframe thead th {\n",
       "        text-align: right;\n",
       "    }\n",
       "</style>\n",
       "<table border=\"1\" class=\"dataframe\">\n",
       "  <thead>\n",
       "    <tr style=\"text-align: right;\">\n",
       "      <th></th>\n",
       "      <th>name</th>\n",
       "      <th>loc</th>\n",
       "      <th>First Name</th>\n",
       "      <th>Last Name</th>\n",
       "    </tr>\n",
       "  </thead>\n",
       "  <tbody>\n",
       "    <tr>\n",
       "      <th>0</th>\n",
       "      <td>Pooria Lari</td>\n",
       "      <td>tehran</td>\n",
       "      <td>0</td>\n",
       "      <td>1</td>\n",
       "    </tr>\n",
       "    <tr>\n",
       "      <th>1</th>\n",
       "      <td>Ali Adibi</td>\n",
       "      <td>lavason</td>\n",
       "      <td>0</td>\n",
       "      <td>1</td>\n",
       "    </tr>\n",
       "    <tr>\n",
       "      <th>2</th>\n",
       "      <td>Reza moradifarahani</td>\n",
       "      <td>tabriz</td>\n",
       "      <td>0</td>\n",
       "      <td>1</td>\n",
       "    </tr>\n",
       "  </tbody>\n",
       "</table>\n",
       "</div>"
      ]
     },
     "execution_count": 67,
     "metadata": {},
     "output_type": "execute_result"
    }
   ],
   "execution_count": 67
  },
  {
   "cell_type": "code",
   "id": "6ef84570",
   "metadata": {
    "ExecuteTime": {
     "end_time": "2025-10-04T18:13:09.835043Z",
     "start_time": "2025-10-04T18:13:09.787190Z"
    }
   },
   "source": [
    "\n",
    "del dft10\n",
    "gc.collect()"
   ],
   "outputs": [
    {
     "data": {
      "text/plain": [
       "25"
      ]
     },
     "execution_count": 68,
     "metadata": {},
     "output_type": "execute_result"
    }
   ],
   "execution_count": 68
  },
  {
   "cell_type": "markdown",
   "id": "12333785e59fc6e3",
   "metadata": {},
   "source": [
    "### **Trick 11 - نحوه انتخاب ستون های بر اساس تایپ داده ها در Pandas**"
   ]
  },
  {
   "cell_type": "code",
   "id": "1597585fab7365c1",
   "metadata": {
    "ExecuteTime": {
     "end_time": "2025-10-04T18:13:10.055105Z",
     "start_time": "2025-10-04T18:13:10.050230Z"
    }
   },
   "source": [
    "import warnings\n",
    "warnings.filterwarnings('ignore')"
   ],
   "outputs": [],
   "execution_count": 69
  },
  {
   "cell_type": "code",
   "id": "3c0df46ab8f1e979",
   "metadata": {
    "ExecuteTime": {
     "end_time": "2025-10-04T18:13:10.320316Z",
     "start_time": "2025-10-04T18:13:10.301855Z"
    }
   },
   "source": [
    "dft11 = pd.read_csv(\"../../00 DATA/Churn_Modelling.csv\")\n",
    "dft11.head()"
   ],
   "outputs": [
    {
     "data": {
      "text/plain": [
       "   RowNumber  CustomerId   Surname  CreditScore Geography  Gender  Age  \\\n",
       "0          1    15634602  Hargrave          619    France  Female   42   \n",
       "1          2    15647311      Hill          608     Spain  Female   41   \n",
       "2          3    15619304      Onio          502    France  Female   42   \n",
       "3          4    15701354      Boni          699    France  Female   39   \n",
       "4          5    15737888  Mitchell          850     Spain  Female   43   \n",
       "\n",
       "   Tenure    Balance  NumOfProducts  HasCrCard  IsActiveMember  \\\n",
       "0       2       0.00              1          1               1   \n",
       "1       1   83807.86              1          0               1   \n",
       "2       8  159660.80              3          1               0   \n",
       "3       1       0.00              2          0               0   \n",
       "4       2  125510.82              1          1               1   \n",
       "\n",
       "   EstimatedSalary  Exited  \n",
       "0        101348.88       1  \n",
       "1        112542.58       0  \n",
       "2        113931.57       1  \n",
       "3         93826.63       0  \n",
       "4         79084.10       0  "
      ],
      "text/html": [
       "<div>\n",
       "<style scoped>\n",
       "    .dataframe tbody tr th:only-of-type {\n",
       "        vertical-align: middle;\n",
       "    }\n",
       "\n",
       "    .dataframe tbody tr th {\n",
       "        vertical-align: top;\n",
       "    }\n",
       "\n",
       "    .dataframe thead th {\n",
       "        text-align: right;\n",
       "    }\n",
       "</style>\n",
       "<table border=\"1\" class=\"dataframe\">\n",
       "  <thead>\n",
       "    <tr style=\"text-align: right;\">\n",
       "      <th></th>\n",
       "      <th>RowNumber</th>\n",
       "      <th>CustomerId</th>\n",
       "      <th>Surname</th>\n",
       "      <th>CreditScore</th>\n",
       "      <th>Geography</th>\n",
       "      <th>Gender</th>\n",
       "      <th>Age</th>\n",
       "      <th>Tenure</th>\n",
       "      <th>Balance</th>\n",
       "      <th>NumOfProducts</th>\n",
       "      <th>HasCrCard</th>\n",
       "      <th>IsActiveMember</th>\n",
       "      <th>EstimatedSalary</th>\n",
       "      <th>Exited</th>\n",
       "    </tr>\n",
       "  </thead>\n",
       "  <tbody>\n",
       "    <tr>\n",
       "      <th>0</th>\n",
       "      <td>1</td>\n",
       "      <td>15634602</td>\n",
       "      <td>Hargrave</td>\n",
       "      <td>619</td>\n",
       "      <td>France</td>\n",
       "      <td>Female</td>\n",
       "      <td>42</td>\n",
       "      <td>2</td>\n",
       "      <td>0.00</td>\n",
       "      <td>1</td>\n",
       "      <td>1</td>\n",
       "      <td>1</td>\n",
       "      <td>101348.88</td>\n",
       "      <td>1</td>\n",
       "    </tr>\n",
       "    <tr>\n",
       "      <th>1</th>\n",
       "      <td>2</td>\n",
       "      <td>15647311</td>\n",
       "      <td>Hill</td>\n",
       "      <td>608</td>\n",
       "      <td>Spain</td>\n",
       "      <td>Female</td>\n",
       "      <td>41</td>\n",
       "      <td>1</td>\n",
       "      <td>83807.86</td>\n",
       "      <td>1</td>\n",
       "      <td>0</td>\n",
       "      <td>1</td>\n",
       "      <td>112542.58</td>\n",
       "      <td>0</td>\n",
       "    </tr>\n",
       "    <tr>\n",
       "      <th>2</th>\n",
       "      <td>3</td>\n",
       "      <td>15619304</td>\n",
       "      <td>Onio</td>\n",
       "      <td>502</td>\n",
       "      <td>France</td>\n",
       "      <td>Female</td>\n",
       "      <td>42</td>\n",
       "      <td>8</td>\n",
       "      <td>159660.80</td>\n",
       "      <td>3</td>\n",
       "      <td>1</td>\n",
       "      <td>0</td>\n",
       "      <td>113931.57</td>\n",
       "      <td>1</td>\n",
       "    </tr>\n",
       "    <tr>\n",
       "      <th>3</th>\n",
       "      <td>4</td>\n",
       "      <td>15701354</td>\n",
       "      <td>Boni</td>\n",
       "      <td>699</td>\n",
       "      <td>France</td>\n",
       "      <td>Female</td>\n",
       "      <td>39</td>\n",
       "      <td>1</td>\n",
       "      <td>0.00</td>\n",
       "      <td>2</td>\n",
       "      <td>0</td>\n",
       "      <td>0</td>\n",
       "      <td>93826.63</td>\n",
       "      <td>0</td>\n",
       "    </tr>\n",
       "    <tr>\n",
       "      <th>4</th>\n",
       "      <td>5</td>\n",
       "      <td>15737888</td>\n",
       "      <td>Mitchell</td>\n",
       "      <td>850</td>\n",
       "      <td>Spain</td>\n",
       "      <td>Female</td>\n",
       "      <td>43</td>\n",
       "      <td>2</td>\n",
       "      <td>125510.82</td>\n",
       "      <td>1</td>\n",
       "      <td>1</td>\n",
       "      <td>1</td>\n",
       "      <td>79084.10</td>\n",
       "      <td>0</td>\n",
       "    </tr>\n",
       "  </tbody>\n",
       "</table>\n",
       "</div>"
      ]
     },
     "execution_count": 70,
     "metadata": {},
     "output_type": "execute_result"
    }
   ],
   "execution_count": 70
  },
  {
   "cell_type": "code",
   "id": "ebca52703e6e23d",
   "metadata": {
    "ExecuteTime": {
     "end_time": "2025-10-04T18:13:11.236579Z",
     "start_time": "2025-10-04T18:13:11.231642Z"
    }
   },
   "source": [
    "dft11.dtypes"
   ],
   "outputs": [
    {
     "data": {
      "text/plain": [
       "RowNumber            int64\n",
       "CustomerId           int64\n",
       "Surname             object\n",
       "CreditScore          int64\n",
       "Geography           object\n",
       "Gender              object\n",
       "Age                  int64\n",
       "Tenure               int64\n",
       "Balance            float64\n",
       "NumOfProducts        int64\n",
       "HasCrCard            int64\n",
       "IsActiveMember       int64\n",
       "EstimatedSalary    float64\n",
       "Exited               int64\n",
       "dtype: object"
      ]
     },
     "execution_count": 71,
     "metadata": {},
     "output_type": "execute_result"
    }
   ],
   "execution_count": 71
  },
  {
   "cell_type": "markdown",
   "id": "496a7de218e01fb2",
   "metadata": {},
   "source": [
    "#### a) include data\n"
   ]
  },
  {
   "cell_type": "code",
   "id": "e739fabe9cd6ab17",
   "metadata": {
    "ExecuteTime": {
     "end_time": "2025-10-04T18:13:12.559424Z",
     "start_time": "2025-10-04T18:13:12.553413Z"
    }
   },
   "source": [
    "# میخام فقط ستون هایی که عددی هستن رو انتخاب کنم\n",
    "#dft11.select_dtypes(include= 'number').head()\n",
    "# روش بهتر\n",
    "dft11.select_dtypes(include=[np.number]).head()"
   ],
   "outputs": [
    {
     "data": {
      "text/plain": [
       "   RowNumber  CustomerId  CreditScore  Age  Tenure    Balance  NumOfProducts  \\\n",
       "0          1    15634602          619   42       2       0.00              1   \n",
       "1          2    15647311          608   41       1   83807.86              1   \n",
       "2          3    15619304          502   42       8  159660.80              3   \n",
       "3          4    15701354          699   39       1       0.00              2   \n",
       "4          5    15737888          850   43       2  125510.82              1   \n",
       "\n",
       "   HasCrCard  IsActiveMember  EstimatedSalary  Exited  \n",
       "0          1               1        101348.88       1  \n",
       "1          0               1        112542.58       0  \n",
       "2          1               0        113931.57       1  \n",
       "3          0               0         93826.63       0  \n",
       "4          1               1         79084.10       0  "
      ],
      "text/html": [
       "<div>\n",
       "<style scoped>\n",
       "    .dataframe tbody tr th:only-of-type {\n",
       "        vertical-align: middle;\n",
       "    }\n",
       "\n",
       "    .dataframe tbody tr th {\n",
       "        vertical-align: top;\n",
       "    }\n",
       "\n",
       "    .dataframe thead th {\n",
       "        text-align: right;\n",
       "    }\n",
       "</style>\n",
       "<table border=\"1\" class=\"dataframe\">\n",
       "  <thead>\n",
       "    <tr style=\"text-align: right;\">\n",
       "      <th></th>\n",
       "      <th>RowNumber</th>\n",
       "      <th>CustomerId</th>\n",
       "      <th>CreditScore</th>\n",
       "      <th>Age</th>\n",
       "      <th>Tenure</th>\n",
       "      <th>Balance</th>\n",
       "      <th>NumOfProducts</th>\n",
       "      <th>HasCrCard</th>\n",
       "      <th>IsActiveMember</th>\n",
       "      <th>EstimatedSalary</th>\n",
       "      <th>Exited</th>\n",
       "    </tr>\n",
       "  </thead>\n",
       "  <tbody>\n",
       "    <tr>\n",
       "      <th>0</th>\n",
       "      <td>1</td>\n",
       "      <td>15634602</td>\n",
       "      <td>619</td>\n",
       "      <td>42</td>\n",
       "      <td>2</td>\n",
       "      <td>0.00</td>\n",
       "      <td>1</td>\n",
       "      <td>1</td>\n",
       "      <td>1</td>\n",
       "      <td>101348.88</td>\n",
       "      <td>1</td>\n",
       "    </tr>\n",
       "    <tr>\n",
       "      <th>1</th>\n",
       "      <td>2</td>\n",
       "      <td>15647311</td>\n",
       "      <td>608</td>\n",
       "      <td>41</td>\n",
       "      <td>1</td>\n",
       "      <td>83807.86</td>\n",
       "      <td>1</td>\n",
       "      <td>0</td>\n",
       "      <td>1</td>\n",
       "      <td>112542.58</td>\n",
       "      <td>0</td>\n",
       "    </tr>\n",
       "    <tr>\n",
       "      <th>2</th>\n",
       "      <td>3</td>\n",
       "      <td>15619304</td>\n",
       "      <td>502</td>\n",
       "      <td>42</td>\n",
       "      <td>8</td>\n",
       "      <td>159660.80</td>\n",
       "      <td>3</td>\n",
       "      <td>1</td>\n",
       "      <td>0</td>\n",
       "      <td>113931.57</td>\n",
       "      <td>1</td>\n",
       "    </tr>\n",
       "    <tr>\n",
       "      <th>3</th>\n",
       "      <td>4</td>\n",
       "      <td>15701354</td>\n",
       "      <td>699</td>\n",
       "      <td>39</td>\n",
       "      <td>1</td>\n",
       "      <td>0.00</td>\n",
       "      <td>2</td>\n",
       "      <td>0</td>\n",
       "      <td>0</td>\n",
       "      <td>93826.63</td>\n",
       "      <td>0</td>\n",
       "    </tr>\n",
       "    <tr>\n",
       "      <th>4</th>\n",
       "      <td>5</td>\n",
       "      <td>15737888</td>\n",
       "      <td>850</td>\n",
       "      <td>43</td>\n",
       "      <td>2</td>\n",
       "      <td>125510.82</td>\n",
       "      <td>1</td>\n",
       "      <td>1</td>\n",
       "      <td>1</td>\n",
       "      <td>79084.10</td>\n",
       "      <td>0</td>\n",
       "    </tr>\n",
       "  </tbody>\n",
       "</table>\n",
       "</div>"
      ]
     },
     "execution_count": 72,
     "metadata": {},
     "output_type": "execute_result"
    }
   ],
   "execution_count": 72
  },
  {
   "cell_type": "code",
   "id": "9a2b6621534f5d68",
   "metadata": {
    "ExecuteTime": {
     "end_time": "2025-10-04T18:13:12.892452Z",
     "start_time": "2025-10-04T18:13:12.887626Z"
    }
   },
   "source": [
    "dft11.select_dtypes(include= 'object').head()"
   ],
   "outputs": [
    {
     "data": {
      "text/plain": [
       "    Surname Geography  Gender\n",
       "0  Hargrave    France  Female\n",
       "1      Hill     Spain  Female\n",
       "2      Onio    France  Female\n",
       "3      Boni    France  Female\n",
       "4  Mitchell     Spain  Female"
      ],
      "text/html": [
       "<div>\n",
       "<style scoped>\n",
       "    .dataframe tbody tr th:only-of-type {\n",
       "        vertical-align: middle;\n",
       "    }\n",
       "\n",
       "    .dataframe tbody tr th {\n",
       "        vertical-align: top;\n",
       "    }\n",
       "\n",
       "    .dataframe thead th {\n",
       "        text-align: right;\n",
       "    }\n",
       "</style>\n",
       "<table border=\"1\" class=\"dataframe\">\n",
       "  <thead>\n",
       "    <tr style=\"text-align: right;\">\n",
       "      <th></th>\n",
       "      <th>Surname</th>\n",
       "      <th>Geography</th>\n",
       "      <th>Gender</th>\n",
       "    </tr>\n",
       "  </thead>\n",
       "  <tbody>\n",
       "    <tr>\n",
       "      <th>0</th>\n",
       "      <td>Hargrave</td>\n",
       "      <td>France</td>\n",
       "      <td>Female</td>\n",
       "    </tr>\n",
       "    <tr>\n",
       "      <th>1</th>\n",
       "      <td>Hill</td>\n",
       "      <td>Spain</td>\n",
       "      <td>Female</td>\n",
       "    </tr>\n",
       "    <tr>\n",
       "      <th>2</th>\n",
       "      <td>Onio</td>\n",
       "      <td>France</td>\n",
       "      <td>Female</td>\n",
       "    </tr>\n",
       "    <tr>\n",
       "      <th>3</th>\n",
       "      <td>Boni</td>\n",
       "      <td>France</td>\n",
       "      <td>Female</td>\n",
       "    </tr>\n",
       "    <tr>\n",
       "      <th>4</th>\n",
       "      <td>Mitchell</td>\n",
       "      <td>Spain</td>\n",
       "      <td>Female</td>\n",
       "    </tr>\n",
       "  </tbody>\n",
       "</table>\n",
       "</div>"
      ]
     },
     "execution_count": 73,
     "metadata": {},
     "output_type": "execute_result"
    }
   ],
   "execution_count": 73
  },
  {
   "cell_type": "code",
   "id": "4a1baed392d5e83a",
   "metadata": {
    "ExecuteTime": {
     "end_time": "2025-10-04T18:13:13.146193Z",
     "start_time": "2025-10-04T18:13:13.140250Z"
    }
   },
   "source": [
    "dft11.select_dtypes(include= 'float').head()"
   ],
   "outputs": [
    {
     "data": {
      "text/plain": [
       "     Balance  EstimatedSalary\n",
       "0       0.00        101348.88\n",
       "1   83807.86        112542.58\n",
       "2  159660.80        113931.57\n",
       "3       0.00         93826.63\n",
       "4  125510.82         79084.10"
      ],
      "text/html": [
       "<div>\n",
       "<style scoped>\n",
       "    .dataframe tbody tr th:only-of-type {\n",
       "        vertical-align: middle;\n",
       "    }\n",
       "\n",
       "    .dataframe tbody tr th {\n",
       "        vertical-align: top;\n",
       "    }\n",
       "\n",
       "    .dataframe thead th {\n",
       "        text-align: right;\n",
       "    }\n",
       "</style>\n",
       "<table border=\"1\" class=\"dataframe\">\n",
       "  <thead>\n",
       "    <tr style=\"text-align: right;\">\n",
       "      <th></th>\n",
       "      <th>Balance</th>\n",
       "      <th>EstimatedSalary</th>\n",
       "    </tr>\n",
       "  </thead>\n",
       "  <tbody>\n",
       "    <tr>\n",
       "      <th>0</th>\n",
       "      <td>0.00</td>\n",
       "      <td>101348.88</td>\n",
       "    </tr>\n",
       "    <tr>\n",
       "      <th>1</th>\n",
       "      <td>83807.86</td>\n",
       "      <td>112542.58</td>\n",
       "    </tr>\n",
       "    <tr>\n",
       "      <th>2</th>\n",
       "      <td>159660.80</td>\n",
       "      <td>113931.57</td>\n",
       "    </tr>\n",
       "    <tr>\n",
       "      <th>3</th>\n",
       "      <td>0.00</td>\n",
       "      <td>93826.63</td>\n",
       "    </tr>\n",
       "    <tr>\n",
       "      <th>4</th>\n",
       "      <td>125510.82</td>\n",
       "      <td>79084.10</td>\n",
       "    </tr>\n",
       "  </tbody>\n",
       "</table>\n",
       "</div>"
      ]
     },
     "execution_count": 74,
     "metadata": {},
     "output_type": "execute_result"
    }
   ],
   "execution_count": 74
  },
  {
   "cell_type": "code",
   "id": "360faf52a58407db",
   "metadata": {
    "ExecuteTime": {
     "end_time": "2025-10-04T18:13:13.430033Z",
     "start_time": "2025-10-04T18:13:13.424549Z"
    }
   },
   "source": [
    "dft11.select_dtypes(include= 'int').head()"
   ],
   "outputs": [
    {
     "data": {
      "text/plain": [
       "   RowNumber  CustomerId  CreditScore  Age  Tenure  NumOfProducts  HasCrCard  \\\n",
       "0          1    15634602          619   42       2              1          1   \n",
       "1          2    15647311          608   41       1              1          0   \n",
       "2          3    15619304          502   42       8              3          1   \n",
       "3          4    15701354          699   39       1              2          0   \n",
       "4          5    15737888          850   43       2              1          1   \n",
       "\n",
       "   IsActiveMember  Exited  \n",
       "0               1       1  \n",
       "1               1       0  \n",
       "2               0       1  \n",
       "3               0       0  \n",
       "4               1       0  "
      ],
      "text/html": [
       "<div>\n",
       "<style scoped>\n",
       "    .dataframe tbody tr th:only-of-type {\n",
       "        vertical-align: middle;\n",
       "    }\n",
       "\n",
       "    .dataframe tbody tr th {\n",
       "        vertical-align: top;\n",
       "    }\n",
       "\n",
       "    .dataframe thead th {\n",
       "        text-align: right;\n",
       "    }\n",
       "</style>\n",
       "<table border=\"1\" class=\"dataframe\">\n",
       "  <thead>\n",
       "    <tr style=\"text-align: right;\">\n",
       "      <th></th>\n",
       "      <th>RowNumber</th>\n",
       "      <th>CustomerId</th>\n",
       "      <th>CreditScore</th>\n",
       "      <th>Age</th>\n",
       "      <th>Tenure</th>\n",
       "      <th>NumOfProducts</th>\n",
       "      <th>HasCrCard</th>\n",
       "      <th>IsActiveMember</th>\n",
       "      <th>Exited</th>\n",
       "    </tr>\n",
       "  </thead>\n",
       "  <tbody>\n",
       "    <tr>\n",
       "      <th>0</th>\n",
       "      <td>1</td>\n",
       "      <td>15634602</td>\n",
       "      <td>619</td>\n",
       "      <td>42</td>\n",
       "      <td>2</td>\n",
       "      <td>1</td>\n",
       "      <td>1</td>\n",
       "      <td>1</td>\n",
       "      <td>1</td>\n",
       "    </tr>\n",
       "    <tr>\n",
       "      <th>1</th>\n",
       "      <td>2</td>\n",
       "      <td>15647311</td>\n",
       "      <td>608</td>\n",
       "      <td>41</td>\n",
       "      <td>1</td>\n",
       "      <td>1</td>\n",
       "      <td>0</td>\n",
       "      <td>1</td>\n",
       "      <td>0</td>\n",
       "    </tr>\n",
       "    <tr>\n",
       "      <th>2</th>\n",
       "      <td>3</td>\n",
       "      <td>15619304</td>\n",
       "      <td>502</td>\n",
       "      <td>42</td>\n",
       "      <td>8</td>\n",
       "      <td>3</td>\n",
       "      <td>1</td>\n",
       "      <td>0</td>\n",
       "      <td>1</td>\n",
       "    </tr>\n",
       "    <tr>\n",
       "      <th>3</th>\n",
       "      <td>4</td>\n",
       "      <td>15701354</td>\n",
       "      <td>699</td>\n",
       "      <td>39</td>\n",
       "      <td>1</td>\n",
       "      <td>2</td>\n",
       "      <td>0</td>\n",
       "      <td>0</td>\n",
       "      <td>0</td>\n",
       "    </tr>\n",
       "    <tr>\n",
       "      <th>4</th>\n",
       "      <td>5</td>\n",
       "      <td>15737888</td>\n",
       "      <td>850</td>\n",
       "      <td>43</td>\n",
       "      <td>2</td>\n",
       "      <td>1</td>\n",
       "      <td>1</td>\n",
       "      <td>1</td>\n",
       "      <td>0</td>\n",
       "    </tr>\n",
       "  </tbody>\n",
       "</table>\n",
       "</div>"
      ]
     },
     "execution_count": 75,
     "metadata": {},
     "output_type": "execute_result"
    }
   ],
   "execution_count": 75
  },
  {
   "cell_type": "code",
   "id": "a24e49f627b8d5cd",
   "metadata": {
    "ExecuteTime": {
     "end_time": "2025-10-04T18:13:13.665102Z",
     "start_time": "2025-10-04T18:13:13.658581Z"
    }
   },
   "source": [
    "dft11.select_dtypes(include= 'int64').head()"
   ],
   "outputs": [
    {
     "data": {
      "text/plain": [
       "   RowNumber  CustomerId  CreditScore  Age  Tenure  NumOfProducts  HasCrCard  \\\n",
       "0          1    15634602          619   42       2              1          1   \n",
       "1          2    15647311          608   41       1              1          0   \n",
       "2          3    15619304          502   42       8              3          1   \n",
       "3          4    15701354          699   39       1              2          0   \n",
       "4          5    15737888          850   43       2              1          1   \n",
       "\n",
       "   IsActiveMember  Exited  \n",
       "0               1       1  \n",
       "1               1       0  \n",
       "2               0       1  \n",
       "3               0       0  \n",
       "4               1       0  "
      ],
      "text/html": [
       "<div>\n",
       "<style scoped>\n",
       "    .dataframe tbody tr th:only-of-type {\n",
       "        vertical-align: middle;\n",
       "    }\n",
       "\n",
       "    .dataframe tbody tr th {\n",
       "        vertical-align: top;\n",
       "    }\n",
       "\n",
       "    .dataframe thead th {\n",
       "        text-align: right;\n",
       "    }\n",
       "</style>\n",
       "<table border=\"1\" class=\"dataframe\">\n",
       "  <thead>\n",
       "    <tr style=\"text-align: right;\">\n",
       "      <th></th>\n",
       "      <th>RowNumber</th>\n",
       "      <th>CustomerId</th>\n",
       "      <th>CreditScore</th>\n",
       "      <th>Age</th>\n",
       "      <th>Tenure</th>\n",
       "      <th>NumOfProducts</th>\n",
       "      <th>HasCrCard</th>\n",
       "      <th>IsActiveMember</th>\n",
       "      <th>Exited</th>\n",
       "    </tr>\n",
       "  </thead>\n",
       "  <tbody>\n",
       "    <tr>\n",
       "      <th>0</th>\n",
       "      <td>1</td>\n",
       "      <td>15634602</td>\n",
       "      <td>619</td>\n",
       "      <td>42</td>\n",
       "      <td>2</td>\n",
       "      <td>1</td>\n",
       "      <td>1</td>\n",
       "      <td>1</td>\n",
       "      <td>1</td>\n",
       "    </tr>\n",
       "    <tr>\n",
       "      <th>1</th>\n",
       "      <td>2</td>\n",
       "      <td>15647311</td>\n",
       "      <td>608</td>\n",
       "      <td>41</td>\n",
       "      <td>1</td>\n",
       "      <td>1</td>\n",
       "      <td>0</td>\n",
       "      <td>1</td>\n",
       "      <td>0</td>\n",
       "    </tr>\n",
       "    <tr>\n",
       "      <th>2</th>\n",
       "      <td>3</td>\n",
       "      <td>15619304</td>\n",
       "      <td>502</td>\n",
       "      <td>42</td>\n",
       "      <td>8</td>\n",
       "      <td>3</td>\n",
       "      <td>1</td>\n",
       "      <td>0</td>\n",
       "      <td>1</td>\n",
       "    </tr>\n",
       "    <tr>\n",
       "      <th>3</th>\n",
       "      <td>4</td>\n",
       "      <td>15701354</td>\n",
       "      <td>699</td>\n",
       "      <td>39</td>\n",
       "      <td>1</td>\n",
       "      <td>2</td>\n",
       "      <td>0</td>\n",
       "      <td>0</td>\n",
       "      <td>0</td>\n",
       "    </tr>\n",
       "    <tr>\n",
       "      <th>4</th>\n",
       "      <td>5</td>\n",
       "      <td>15737888</td>\n",
       "      <td>850</td>\n",
       "      <td>43</td>\n",
       "      <td>2</td>\n",
       "      <td>1</td>\n",
       "      <td>1</td>\n",
       "      <td>1</td>\n",
       "      <td>0</td>\n",
       "    </tr>\n",
       "  </tbody>\n",
       "</table>\n",
       "</div>"
      ]
     },
     "execution_count": 76,
     "metadata": {},
     "output_type": "execute_result"
    }
   ],
   "execution_count": 76
  },
  {
   "cell_type": "markdown",
   "id": "69ede9213f094327",
   "metadata": {},
   "source": [
    "#### b) exclude data"
   ]
  },
  {
   "cell_type": "code",
   "id": "150c77f7edb674e6",
   "metadata": {
    "ExecuteTime": {
     "end_time": "2025-10-04T18:13:13.921838Z",
     "start_time": "2025-10-04T18:13:13.916982Z"
    }
   },
   "source": [
    "# حالا میخام همه دیتا ها رو داشته باشم جز دیتای عددی\n",
    "dft11.select_dtypes(exclude= 'number').head()"
   ],
   "outputs": [
    {
     "data": {
      "text/plain": [
       "    Surname Geography  Gender\n",
       "0  Hargrave    France  Female\n",
       "1      Hill     Spain  Female\n",
       "2      Onio    France  Female\n",
       "3      Boni    France  Female\n",
       "4  Mitchell     Spain  Female"
      ],
      "text/html": [
       "<div>\n",
       "<style scoped>\n",
       "    .dataframe tbody tr th:only-of-type {\n",
       "        vertical-align: middle;\n",
       "    }\n",
       "\n",
       "    .dataframe tbody tr th {\n",
       "        vertical-align: top;\n",
       "    }\n",
       "\n",
       "    .dataframe thead th {\n",
       "        text-align: right;\n",
       "    }\n",
       "</style>\n",
       "<table border=\"1\" class=\"dataframe\">\n",
       "  <thead>\n",
       "    <tr style=\"text-align: right;\">\n",
       "      <th></th>\n",
       "      <th>Surname</th>\n",
       "      <th>Geography</th>\n",
       "      <th>Gender</th>\n",
       "    </tr>\n",
       "  </thead>\n",
       "  <tbody>\n",
       "    <tr>\n",
       "      <th>0</th>\n",
       "      <td>Hargrave</td>\n",
       "      <td>France</td>\n",
       "      <td>Female</td>\n",
       "    </tr>\n",
       "    <tr>\n",
       "      <th>1</th>\n",
       "      <td>Hill</td>\n",
       "      <td>Spain</td>\n",
       "      <td>Female</td>\n",
       "    </tr>\n",
       "    <tr>\n",
       "      <th>2</th>\n",
       "      <td>Onio</td>\n",
       "      <td>France</td>\n",
       "      <td>Female</td>\n",
       "    </tr>\n",
       "    <tr>\n",
       "      <th>3</th>\n",
       "      <td>Boni</td>\n",
       "      <td>France</td>\n",
       "      <td>Female</td>\n",
       "    </tr>\n",
       "    <tr>\n",
       "      <th>4</th>\n",
       "      <td>Mitchell</td>\n",
       "      <td>Spain</td>\n",
       "      <td>Female</td>\n",
       "    </tr>\n",
       "  </tbody>\n",
       "</table>\n",
       "</div>"
      ]
     },
     "execution_count": 77,
     "metadata": {},
     "output_type": "execute_result"
    }
   ],
   "execution_count": 77
  },
  {
   "cell_type": "code",
   "id": "e373705583a5ed38",
   "metadata": {
    "ExecuteTime": {
     "end_time": "2025-10-04T18:13:14.207575Z",
     "start_time": "2025-10-04T18:13:14.201522Z"
    }
   },
   "source": [
    "dft11.select_dtypes(exclude= ['int','object']).head()"
   ],
   "outputs": [
    {
     "data": {
      "text/plain": [
       "     Balance  EstimatedSalary\n",
       "0       0.00        101348.88\n",
       "1   83807.86        112542.58\n",
       "2  159660.80        113931.57\n",
       "3       0.00         93826.63\n",
       "4  125510.82         79084.10"
      ],
      "text/html": [
       "<div>\n",
       "<style scoped>\n",
       "    .dataframe tbody tr th:only-of-type {\n",
       "        vertical-align: middle;\n",
       "    }\n",
       "\n",
       "    .dataframe tbody tr th {\n",
       "        vertical-align: top;\n",
       "    }\n",
       "\n",
       "    .dataframe thead th {\n",
       "        text-align: right;\n",
       "    }\n",
       "</style>\n",
       "<table border=\"1\" class=\"dataframe\">\n",
       "  <thead>\n",
       "    <tr style=\"text-align: right;\">\n",
       "      <th></th>\n",
       "      <th>Balance</th>\n",
       "      <th>EstimatedSalary</th>\n",
       "    </tr>\n",
       "  </thead>\n",
       "  <tbody>\n",
       "    <tr>\n",
       "      <th>0</th>\n",
       "      <td>0.00</td>\n",
       "      <td>101348.88</td>\n",
       "    </tr>\n",
       "    <tr>\n",
       "      <th>1</th>\n",
       "      <td>83807.86</td>\n",
       "      <td>112542.58</td>\n",
       "    </tr>\n",
       "    <tr>\n",
       "      <th>2</th>\n",
       "      <td>159660.80</td>\n",
       "      <td>113931.57</td>\n",
       "    </tr>\n",
       "    <tr>\n",
       "      <th>3</th>\n",
       "      <td>0.00</td>\n",
       "      <td>93826.63</td>\n",
       "    </tr>\n",
       "    <tr>\n",
       "      <th>4</th>\n",
       "      <td>125510.82</td>\n",
       "      <td>79084.10</td>\n",
       "    </tr>\n",
       "  </tbody>\n",
       "</table>\n",
       "</div>"
      ]
     },
     "execution_count": 78,
     "metadata": {},
     "output_type": "execute_result"
    }
   ],
   "execution_count": 78
  },
  {
   "cell_type": "code",
   "id": "e8cb71a8f2a06c79",
   "metadata": {
    "ExecuteTime": {
     "end_time": "2025-10-04T18:13:14.471693Z",
     "start_time": "2025-10-04T18:13:14.465989Z"
    }
   },
   "source": [
    "dft11.select_dtypes(exclude= ['float','object']).head()"
   ],
   "outputs": [
    {
     "data": {
      "text/plain": [
       "   RowNumber  CustomerId  CreditScore  Age  Tenure  NumOfProducts  HasCrCard  \\\n",
       "0          1    15634602          619   42       2              1          1   \n",
       "1          2    15647311          608   41       1              1          0   \n",
       "2          3    15619304          502   42       8              3          1   \n",
       "3          4    15701354          699   39       1              2          0   \n",
       "4          5    15737888          850   43       2              1          1   \n",
       "\n",
       "   IsActiveMember  Exited  \n",
       "0               1       1  \n",
       "1               1       0  \n",
       "2               0       1  \n",
       "3               0       0  \n",
       "4               1       0  "
      ],
      "text/html": [
       "<div>\n",
       "<style scoped>\n",
       "    .dataframe tbody tr th:only-of-type {\n",
       "        vertical-align: middle;\n",
       "    }\n",
       "\n",
       "    .dataframe tbody tr th {\n",
       "        vertical-align: top;\n",
       "    }\n",
       "\n",
       "    .dataframe thead th {\n",
       "        text-align: right;\n",
       "    }\n",
       "</style>\n",
       "<table border=\"1\" class=\"dataframe\">\n",
       "  <thead>\n",
       "    <tr style=\"text-align: right;\">\n",
       "      <th></th>\n",
       "      <th>RowNumber</th>\n",
       "      <th>CustomerId</th>\n",
       "      <th>CreditScore</th>\n",
       "      <th>Age</th>\n",
       "      <th>Tenure</th>\n",
       "      <th>NumOfProducts</th>\n",
       "      <th>HasCrCard</th>\n",
       "      <th>IsActiveMember</th>\n",
       "      <th>Exited</th>\n",
       "    </tr>\n",
       "  </thead>\n",
       "  <tbody>\n",
       "    <tr>\n",
       "      <th>0</th>\n",
       "      <td>1</td>\n",
       "      <td>15634602</td>\n",
       "      <td>619</td>\n",
       "      <td>42</td>\n",
       "      <td>2</td>\n",
       "      <td>1</td>\n",
       "      <td>1</td>\n",
       "      <td>1</td>\n",
       "      <td>1</td>\n",
       "    </tr>\n",
       "    <tr>\n",
       "      <th>1</th>\n",
       "      <td>2</td>\n",
       "      <td>15647311</td>\n",
       "      <td>608</td>\n",
       "      <td>41</td>\n",
       "      <td>1</td>\n",
       "      <td>1</td>\n",
       "      <td>0</td>\n",
       "      <td>1</td>\n",
       "      <td>0</td>\n",
       "    </tr>\n",
       "    <tr>\n",
       "      <th>2</th>\n",
       "      <td>3</td>\n",
       "      <td>15619304</td>\n",
       "      <td>502</td>\n",
       "      <td>42</td>\n",
       "      <td>8</td>\n",
       "      <td>3</td>\n",
       "      <td>1</td>\n",
       "      <td>0</td>\n",
       "      <td>1</td>\n",
       "    </tr>\n",
       "    <tr>\n",
       "      <th>3</th>\n",
       "      <td>4</td>\n",
       "      <td>15701354</td>\n",
       "      <td>699</td>\n",
       "      <td>39</td>\n",
       "      <td>1</td>\n",
       "      <td>2</td>\n",
       "      <td>0</td>\n",
       "      <td>0</td>\n",
       "      <td>0</td>\n",
       "    </tr>\n",
       "    <tr>\n",
       "      <th>4</th>\n",
       "      <td>5</td>\n",
       "      <td>15737888</td>\n",
       "      <td>850</td>\n",
       "      <td>43</td>\n",
       "      <td>2</td>\n",
       "      <td>1</td>\n",
       "      <td>1</td>\n",
       "      <td>1</td>\n",
       "      <td>0</td>\n",
       "    </tr>\n",
       "  </tbody>\n",
       "</table>\n",
       "</div>"
      ]
     },
     "execution_count": 79,
     "metadata": {},
     "output_type": "execute_result"
    }
   ],
   "execution_count": 79
  },
  {
   "cell_type": "code",
   "id": "8a417340",
   "metadata": {
    "ExecuteTime": {
     "end_time": "2025-10-04T18:13:14.694353Z",
     "start_time": "2025-10-04T18:13:14.653459Z"
    }
   },
   "source": [
    "\n",
    "del dft11\n",
    "gc.collect()"
   ],
   "outputs": [
    {
     "data": {
      "text/plain": [
       "12"
      ]
     },
     "execution_count": 80,
     "metadata": {},
     "output_type": "execute_result"
    }
   ],
   "execution_count": 80
  },
  {
   "cell_type": "markdown",
   "id": "bd380ac074d4d031",
   "metadata": {},
   "source": [
    "### **Trick 12 - نحوه تبدیل داده‌ها به عدد در Pandas**"
   ]
  },
  {
   "cell_type": "code",
   "id": "d33d2ebdac172797",
   "metadata": {
    "ExecuteTime": {
     "end_time": "2025-10-04T18:13:14.928302Z",
     "start_time": "2025-10-04T18:13:14.923357Z"
    }
   },
   "source": [
    "dft12 = pd.DataFrame(\n",
    " {\n",
    "     'col1' : ['1.2','34.2','23.1'],\n",
    "     'col2' : ['12.1','10','4.5'],\n",
    "     'col3' : ['6.7','2.3','7.8']\n",
    " }\n",
    ")\n",
    "dft12"
   ],
   "outputs": [
    {
     "data": {
      "text/plain": [
       "   col1  col2 col3\n",
       "0   1.2  12.1  6.7\n",
       "1  34.2    10  2.3\n",
       "2  23.1   4.5  7.8"
      ],
      "text/html": [
       "<div>\n",
       "<style scoped>\n",
       "    .dataframe tbody tr th:only-of-type {\n",
       "        vertical-align: middle;\n",
       "    }\n",
       "\n",
       "    .dataframe tbody tr th {\n",
       "        vertical-align: top;\n",
       "    }\n",
       "\n",
       "    .dataframe thead th {\n",
       "        text-align: right;\n",
       "    }\n",
       "</style>\n",
       "<table border=\"1\" class=\"dataframe\">\n",
       "  <thead>\n",
       "    <tr style=\"text-align: right;\">\n",
       "      <th></th>\n",
       "      <th>col1</th>\n",
       "      <th>col2</th>\n",
       "      <th>col3</th>\n",
       "    </tr>\n",
       "  </thead>\n",
       "  <tbody>\n",
       "    <tr>\n",
       "      <th>0</th>\n",
       "      <td>1.2</td>\n",
       "      <td>12.1</td>\n",
       "      <td>6.7</td>\n",
       "    </tr>\n",
       "    <tr>\n",
       "      <th>1</th>\n",
       "      <td>34.2</td>\n",
       "      <td>10</td>\n",
       "      <td>2.3</td>\n",
       "    </tr>\n",
       "    <tr>\n",
       "      <th>2</th>\n",
       "      <td>23.1</td>\n",
       "      <td>4.5</td>\n",
       "      <td>7.8</td>\n",
       "    </tr>\n",
       "  </tbody>\n",
       "</table>\n",
       "</div>"
      ]
     },
     "execution_count": 81,
     "metadata": {},
     "output_type": "execute_result"
    }
   ],
   "execution_count": 81
  },
  {
   "cell_type": "code",
   "id": "46aef38ad336b477",
   "metadata": {
    "ExecuteTime": {
     "end_time": "2025-10-04T18:13:15.052506Z",
     "start_time": "2025-10-04T18:13:15.048621Z"
    }
   },
   "source": [
    "dft12.dtypes"
   ],
   "outputs": [
    {
     "data": {
      "text/plain": [
       "col1    object\n",
       "col2    object\n",
       "col3    object\n",
       "dtype: object"
      ]
     },
     "execution_count": 82,
     "metadata": {},
     "output_type": "execute_result"
    }
   ],
   "execution_count": 82
  },
  {
   "cell_type": "markdown",
   "id": "9152513470912743",
   "metadata": {},
   "source": [
    "#### a)"
   ]
  },
  {
   "cell_type": "code",
   "id": "ddfe24a00ccabb23",
   "metadata": {
    "ExecuteTime": {
     "end_time": "2025-10-04T18:13:15.217725Z",
     "start_time": "2025-10-04T18:13:15.212666Z"
    }
   },
   "source": [
    "dft12_convert = dft12.astype(\n",
    " {\n",
    "     'col1' : 'float64',\n",
    "     'col2' : 'float64',\n",
    " }\n",
    ")\n",
    "dft12_convert.dtypes"
   ],
   "outputs": [
    {
     "data": {
      "text/plain": [
       "col1    float64\n",
       "col2    float64\n",
       "col3     object\n",
       "dtype: object"
      ]
     },
     "execution_count": 83,
     "metadata": {},
     "output_type": "execute_result"
    }
   ],
   "execution_count": 83
  },
  {
   "cell_type": "markdown",
   "id": "ace1bdeb2291df8d",
   "metadata": {},
   "source": [
    "#### b)"
   ]
  },
  {
   "cell_type": "code",
   "id": "9feed03b5fb10a31",
   "metadata": {
    "ExecuteTime": {
     "end_time": "2025-10-04T18:13:15.464228Z",
     "start_time": "2025-10-04T18:13:15.459798Z"
    }
   },
   "source": [
    "dft12_convert['col3'] = pd.to_numeric(dft12.col3, errors='coerce').fillna(0)\n",
    "\"\"\"\n",
    "fillna(N)\n",
    "         fill not num to N\n",
    "\n",
    "errors : {'ignore', 'raise', 'coerce'}, default 'raise'\n",
    "        - If 'raise', then invalid parsing will raise an exception.\n",
    "        - If 'coerce', then invalid parsing will be set as NaN.\n",
    "        - If 'ignore', then invalid parsing will return the input.\n",
    "\"\"\"\n",
    "dft12_convert.dtypes"
   ],
   "outputs": [
    {
     "data": {
      "text/plain": [
       "col1    float64\n",
       "col2    float64\n",
       "col3    float64\n",
       "dtype: object"
      ]
     },
     "execution_count": 84,
     "metadata": {},
     "output_type": "execute_result"
    }
   ],
   "execution_count": 84
  },
  {
   "cell_type": "markdown",
   "id": "f59248383bd76d11",
   "metadata": {},
   "source": [
    "#### c)"
   ]
  },
  {
   "cell_type": "code",
   "id": "6e8e35f56ae5230",
   "metadata": {
    "ExecuteTime": {
     "end_time": "2025-10-04T18:13:15.720198Z",
     "start_time": "2025-10-04T18:13:15.716201Z"
    }
   },
   "source": [
    "dft12.dtypes"
   ],
   "outputs": [
    {
     "data": {
      "text/plain": [
       "col1    object\n",
       "col2    object\n",
       "col3    object\n",
       "dtype: object"
      ]
     },
     "execution_count": 85,
     "metadata": {},
     "output_type": "execute_result"
    }
   ],
   "execution_count": 85
  },
  {
   "cell_type": "code",
   "id": "20fda63a01fd78e0",
   "metadata": {
    "ExecuteTime": {
     "end_time": "2025-10-04T18:13:15.892053Z",
     "start_time": "2025-10-04T18:13:15.887478Z"
    }
   },
   "source": [
    "dft12_convert = dft12.apply(pd.to_numeric, errors='coerce').fillna(0)\n",
    "dft12_convert.dtypes"
   ],
   "outputs": [
    {
     "data": {
      "text/plain": [
       "col1    float64\n",
       "col2    float64\n",
       "col3    float64\n",
       "dtype: object"
      ]
     },
     "execution_count": 86,
     "metadata": {},
     "output_type": "execute_result"
    }
   ],
   "execution_count": 86
  },
  {
   "cell_type": "code",
   "id": "81e0086fbdad3550",
   "metadata": {
    "ExecuteTime": {
     "end_time": "2025-10-04T18:13:16.173588Z",
     "start_time": "2025-10-04T18:13:16.168108Z"
    }
   },
   "source": [
    "dft12_convert"
   ],
   "outputs": [
    {
     "data": {
      "text/plain": [
       "   col1  col2  col3\n",
       "0   1.2  12.1   6.7\n",
       "1  34.2  10.0   2.3\n",
       "2  23.1   4.5   7.8"
      ],
      "text/html": [
       "<div>\n",
       "<style scoped>\n",
       "    .dataframe tbody tr th:only-of-type {\n",
       "        vertical-align: middle;\n",
       "    }\n",
       "\n",
       "    .dataframe tbody tr th {\n",
       "        vertical-align: top;\n",
       "    }\n",
       "\n",
       "    .dataframe thead th {\n",
       "        text-align: right;\n",
       "    }\n",
       "</style>\n",
       "<table border=\"1\" class=\"dataframe\">\n",
       "  <thead>\n",
       "    <tr style=\"text-align: right;\">\n",
       "      <th></th>\n",
       "      <th>col1</th>\n",
       "      <th>col2</th>\n",
       "      <th>col3</th>\n",
       "    </tr>\n",
       "  </thead>\n",
       "  <tbody>\n",
       "    <tr>\n",
       "      <th>0</th>\n",
       "      <td>1.2</td>\n",
       "      <td>12.1</td>\n",
       "      <td>6.7</td>\n",
       "    </tr>\n",
       "    <tr>\n",
       "      <th>1</th>\n",
       "      <td>34.2</td>\n",
       "      <td>10.0</td>\n",
       "      <td>2.3</td>\n",
       "    </tr>\n",
       "    <tr>\n",
       "      <th>2</th>\n",
       "      <td>23.1</td>\n",
       "      <td>4.5</td>\n",
       "      <td>7.8</td>\n",
       "    </tr>\n",
       "  </tbody>\n",
       "</table>\n",
       "</div>"
      ]
     },
     "execution_count": 87,
     "metadata": {},
     "output_type": "execute_result"
    }
   ],
   "execution_count": 87
  },
  {
   "cell_type": "code",
   "id": "77f2cf0a",
   "metadata": {
    "ExecuteTime": {
     "end_time": "2025-10-04T18:13:16.454347Z",
     "start_time": "2025-10-04T18:13:16.410340Z"
    }
   },
   "source": [
    "\n",
    "del dft12, dft12_convert\n",
    "gc.collect()"
   ],
   "outputs": [
    {
     "data": {
      "text/plain": [
       "12"
      ]
     },
     "execution_count": 88,
     "metadata": {},
     "output_type": "execute_result"
    }
   ],
   "execution_count": 88
  },
  {
   "cell_type": "markdown",
   "id": "94a214f890a28d23",
   "metadata": {},
   "source": [
    "### **Trick 13 - ساخت یک دیتافریم از چندین فایل CSV در Pandas**"
   ]
  },
  {
   "cell_type": "code",
   "id": "e78dec4bda2f9a9a",
   "metadata": {
    "ExecuteTime": {
     "end_time": "2025-10-04T18:13:16.708705Z",
     "start_time": "2025-10-04T18:13:16.690641Z"
    }
   },
   "source": [
    "pd.read_csv('../../00 DATA/Churn_Modelling_1.csv')\n",
    "\n"
   ],
   "outputs": [
    {
     "data": {
      "text/plain": [
       "   RowNumber  CustomerId   Surname  CreditScore Geography  Gender  Age  \\\n",
       "0          1    15634602  Hargrave          619    France  Female   42   \n",
       "1          2    15647311      Hill          608     Spain  Female   41   \n",
       "2          3    15619304      Onio          502    France  Female   42   \n",
       "3          4    15701354      Boni          699    France  Female   39   \n",
       "4          5    15737888  Mitchell          850     Spain  Female   43   \n",
       "5          6    15574012       Chu          645     Spain    Male   44   \n",
       "6          7    15592531  Bartlett          822    France    Male   50   \n",
       "7          8    15656148    Obinna          376   Germany  Female   29   \n",
       "8          9    15792365        He          501    France    Male   44   \n",
       "9         10    15592389        H?          684    France    Male   27   \n",
       "\n",
       "   Tenure    Balance  NumOfProducts  HasCrCard  IsActiveMember  \\\n",
       "0       2       0.00              1          1               1   \n",
       "1       1   83807.86              1          0               1   \n",
       "2       8  159660.80              3          1               0   \n",
       "3       1       0.00              2          0               0   \n",
       "4       2  125510.82              1          1               1   \n",
       "5       8  113755.78              2          1               0   \n",
       "6       7       0.00              2          1               1   \n",
       "7       4  115046.74              4          1               0   \n",
       "8       4  142051.07              2          0               1   \n",
       "9       2  134603.88              1          1               1   \n",
       "\n",
       "   EstimatedSalary  Exited  \n",
       "0        101348.88       1  \n",
       "1        112542.58       0  \n",
       "2        113931.57       1  \n",
       "3         93826.63       0  \n",
       "4         79084.10       0  \n",
       "5        149756.71       1  \n",
       "6         10062.80       0  \n",
       "7        119346.88       1  \n",
       "8         74940.50       0  \n",
       "9         71725.73       0  "
      ],
      "text/html": [
       "<div>\n",
       "<style scoped>\n",
       "    .dataframe tbody tr th:only-of-type {\n",
       "        vertical-align: middle;\n",
       "    }\n",
       "\n",
       "    .dataframe tbody tr th {\n",
       "        vertical-align: top;\n",
       "    }\n",
       "\n",
       "    .dataframe thead th {\n",
       "        text-align: right;\n",
       "    }\n",
       "</style>\n",
       "<table border=\"1\" class=\"dataframe\">\n",
       "  <thead>\n",
       "    <tr style=\"text-align: right;\">\n",
       "      <th></th>\n",
       "      <th>RowNumber</th>\n",
       "      <th>CustomerId</th>\n",
       "      <th>Surname</th>\n",
       "      <th>CreditScore</th>\n",
       "      <th>Geography</th>\n",
       "      <th>Gender</th>\n",
       "      <th>Age</th>\n",
       "      <th>Tenure</th>\n",
       "      <th>Balance</th>\n",
       "      <th>NumOfProducts</th>\n",
       "      <th>HasCrCard</th>\n",
       "      <th>IsActiveMember</th>\n",
       "      <th>EstimatedSalary</th>\n",
       "      <th>Exited</th>\n",
       "    </tr>\n",
       "  </thead>\n",
       "  <tbody>\n",
       "    <tr>\n",
       "      <th>0</th>\n",
       "      <td>1</td>\n",
       "      <td>15634602</td>\n",
       "      <td>Hargrave</td>\n",
       "      <td>619</td>\n",
       "      <td>France</td>\n",
       "      <td>Female</td>\n",
       "      <td>42</td>\n",
       "      <td>2</td>\n",
       "      <td>0.00</td>\n",
       "      <td>1</td>\n",
       "      <td>1</td>\n",
       "      <td>1</td>\n",
       "      <td>101348.88</td>\n",
       "      <td>1</td>\n",
       "    </tr>\n",
       "    <tr>\n",
       "      <th>1</th>\n",
       "      <td>2</td>\n",
       "      <td>15647311</td>\n",
       "      <td>Hill</td>\n",
       "      <td>608</td>\n",
       "      <td>Spain</td>\n",
       "      <td>Female</td>\n",
       "      <td>41</td>\n",
       "      <td>1</td>\n",
       "      <td>83807.86</td>\n",
       "      <td>1</td>\n",
       "      <td>0</td>\n",
       "      <td>1</td>\n",
       "      <td>112542.58</td>\n",
       "      <td>0</td>\n",
       "    </tr>\n",
       "    <tr>\n",
       "      <th>2</th>\n",
       "      <td>3</td>\n",
       "      <td>15619304</td>\n",
       "      <td>Onio</td>\n",
       "      <td>502</td>\n",
       "      <td>France</td>\n",
       "      <td>Female</td>\n",
       "      <td>42</td>\n",
       "      <td>8</td>\n",
       "      <td>159660.80</td>\n",
       "      <td>3</td>\n",
       "      <td>1</td>\n",
       "      <td>0</td>\n",
       "      <td>113931.57</td>\n",
       "      <td>1</td>\n",
       "    </tr>\n",
       "    <tr>\n",
       "      <th>3</th>\n",
       "      <td>4</td>\n",
       "      <td>15701354</td>\n",
       "      <td>Boni</td>\n",
       "      <td>699</td>\n",
       "      <td>France</td>\n",
       "      <td>Female</td>\n",
       "      <td>39</td>\n",
       "      <td>1</td>\n",
       "      <td>0.00</td>\n",
       "      <td>2</td>\n",
       "      <td>0</td>\n",
       "      <td>0</td>\n",
       "      <td>93826.63</td>\n",
       "      <td>0</td>\n",
       "    </tr>\n",
       "    <tr>\n",
       "      <th>4</th>\n",
       "      <td>5</td>\n",
       "      <td>15737888</td>\n",
       "      <td>Mitchell</td>\n",
       "      <td>850</td>\n",
       "      <td>Spain</td>\n",
       "      <td>Female</td>\n",
       "      <td>43</td>\n",
       "      <td>2</td>\n",
       "      <td>125510.82</td>\n",
       "      <td>1</td>\n",
       "      <td>1</td>\n",
       "      <td>1</td>\n",
       "      <td>79084.10</td>\n",
       "      <td>0</td>\n",
       "    </tr>\n",
       "    <tr>\n",
       "      <th>5</th>\n",
       "      <td>6</td>\n",
       "      <td>15574012</td>\n",
       "      <td>Chu</td>\n",
       "      <td>645</td>\n",
       "      <td>Spain</td>\n",
       "      <td>Male</td>\n",
       "      <td>44</td>\n",
       "      <td>8</td>\n",
       "      <td>113755.78</td>\n",
       "      <td>2</td>\n",
       "      <td>1</td>\n",
       "      <td>0</td>\n",
       "      <td>149756.71</td>\n",
       "      <td>1</td>\n",
       "    </tr>\n",
       "    <tr>\n",
       "      <th>6</th>\n",
       "      <td>7</td>\n",
       "      <td>15592531</td>\n",
       "      <td>Bartlett</td>\n",
       "      <td>822</td>\n",
       "      <td>France</td>\n",
       "      <td>Male</td>\n",
       "      <td>50</td>\n",
       "      <td>7</td>\n",
       "      <td>0.00</td>\n",
       "      <td>2</td>\n",
       "      <td>1</td>\n",
       "      <td>1</td>\n",
       "      <td>10062.80</td>\n",
       "      <td>0</td>\n",
       "    </tr>\n",
       "    <tr>\n",
       "      <th>7</th>\n",
       "      <td>8</td>\n",
       "      <td>15656148</td>\n",
       "      <td>Obinna</td>\n",
       "      <td>376</td>\n",
       "      <td>Germany</td>\n",
       "      <td>Female</td>\n",
       "      <td>29</td>\n",
       "      <td>4</td>\n",
       "      <td>115046.74</td>\n",
       "      <td>4</td>\n",
       "      <td>1</td>\n",
       "      <td>0</td>\n",
       "      <td>119346.88</td>\n",
       "      <td>1</td>\n",
       "    </tr>\n",
       "    <tr>\n",
       "      <th>8</th>\n",
       "      <td>9</td>\n",
       "      <td>15792365</td>\n",
       "      <td>He</td>\n",
       "      <td>501</td>\n",
       "      <td>France</td>\n",
       "      <td>Male</td>\n",
       "      <td>44</td>\n",
       "      <td>4</td>\n",
       "      <td>142051.07</td>\n",
       "      <td>2</td>\n",
       "      <td>0</td>\n",
       "      <td>1</td>\n",
       "      <td>74940.50</td>\n",
       "      <td>0</td>\n",
       "    </tr>\n",
       "    <tr>\n",
       "      <th>9</th>\n",
       "      <td>10</td>\n",
       "      <td>15592389</td>\n",
       "      <td>H?</td>\n",
       "      <td>684</td>\n",
       "      <td>France</td>\n",
       "      <td>Male</td>\n",
       "      <td>27</td>\n",
       "      <td>2</td>\n",
       "      <td>134603.88</td>\n",
       "      <td>1</td>\n",
       "      <td>1</td>\n",
       "      <td>1</td>\n",
       "      <td>71725.73</td>\n",
       "      <td>0</td>\n",
       "    </tr>\n",
       "  </tbody>\n",
       "</table>\n",
       "</div>"
      ]
     },
     "execution_count": 89,
     "metadata": {},
     "output_type": "execute_result"
    }
   ],
   "execution_count": 89
  },
  {
   "cell_type": "code",
   "id": "7db404f913ac46db",
   "metadata": {
    "ExecuteTime": {
     "end_time": "2025-10-04T18:13:16.836046Z",
     "start_time": "2025-10-04T18:13:16.827829Z"
    }
   },
   "source": [
    "\n",
    "pd.read_csv('../../00 DATA/Churn_Modelling_2.csv')"
   ],
   "outputs": [
    {
     "data": {
      "text/plain": [
       "   RowNumber  CustomerId    Surname  CreditScore Geography  Gender  Age  \\\n",
       "0         11    15767821     Bearce          528    France    Male   31   \n",
       "1         12    15737173    Andrews          497     Spain    Male   24   \n",
       "2         13    15632264        Kay          476    France  Female   34   \n",
       "3         14    15691483       Chin          549    France  Female   25   \n",
       "4         15    15600882      Scott          635     Spain  Female   35   \n",
       "5         16    15643966    Goforth          616   Germany    Male   45   \n",
       "6         17    15737452      Romeo          653   Germany    Male   58   \n",
       "7         18    15788218  Henderson          549     Spain  Female   24   \n",
       "8         19    15661507    Muldrow          587     Spain    Male   45   \n",
       "9         20    15568982        Hao          726    France  Female   24   \n",
       "\n",
       "   Tenure    Balance  NumOfProducts  HasCrCard  IsActiveMember  \\\n",
       "0       6  102016.72              2          0               0   \n",
       "1       3       0.00              2          1               0   \n",
       "2      10       0.00              2          1               0   \n",
       "3       5       0.00              2          0               0   \n",
       "4       7       0.00              2          1               1   \n",
       "5       3  143129.41              2          0               1   \n",
       "6       1  132602.88              1          1               0   \n",
       "7       9       0.00              2          1               1   \n",
       "8       6       0.00              1          0               0   \n",
       "9       6       0.00              2          1               1   \n",
       "\n",
       "   EstimatedSalary  Exited  \n",
       "0         80181.12       0  \n",
       "1         76390.01       0  \n",
       "2         26260.98       0  \n",
       "3        190857.79       0  \n",
       "4         65951.65       0  \n",
       "5         64327.26       0  \n",
       "6          5097.67       1  \n",
       "7         14406.41       0  \n",
       "8        158684.81       0  \n",
       "9         54724.03       0  "
      ],
      "text/html": [
       "<div>\n",
       "<style scoped>\n",
       "    .dataframe tbody tr th:only-of-type {\n",
       "        vertical-align: middle;\n",
       "    }\n",
       "\n",
       "    .dataframe tbody tr th {\n",
       "        vertical-align: top;\n",
       "    }\n",
       "\n",
       "    .dataframe thead th {\n",
       "        text-align: right;\n",
       "    }\n",
       "</style>\n",
       "<table border=\"1\" class=\"dataframe\">\n",
       "  <thead>\n",
       "    <tr style=\"text-align: right;\">\n",
       "      <th></th>\n",
       "      <th>RowNumber</th>\n",
       "      <th>CustomerId</th>\n",
       "      <th>Surname</th>\n",
       "      <th>CreditScore</th>\n",
       "      <th>Geography</th>\n",
       "      <th>Gender</th>\n",
       "      <th>Age</th>\n",
       "      <th>Tenure</th>\n",
       "      <th>Balance</th>\n",
       "      <th>NumOfProducts</th>\n",
       "      <th>HasCrCard</th>\n",
       "      <th>IsActiveMember</th>\n",
       "      <th>EstimatedSalary</th>\n",
       "      <th>Exited</th>\n",
       "    </tr>\n",
       "  </thead>\n",
       "  <tbody>\n",
       "    <tr>\n",
       "      <th>0</th>\n",
       "      <td>11</td>\n",
       "      <td>15767821</td>\n",
       "      <td>Bearce</td>\n",
       "      <td>528</td>\n",
       "      <td>France</td>\n",
       "      <td>Male</td>\n",
       "      <td>31</td>\n",
       "      <td>6</td>\n",
       "      <td>102016.72</td>\n",
       "      <td>2</td>\n",
       "      <td>0</td>\n",
       "      <td>0</td>\n",
       "      <td>80181.12</td>\n",
       "      <td>0</td>\n",
       "    </tr>\n",
       "    <tr>\n",
       "      <th>1</th>\n",
       "      <td>12</td>\n",
       "      <td>15737173</td>\n",
       "      <td>Andrews</td>\n",
       "      <td>497</td>\n",
       "      <td>Spain</td>\n",
       "      <td>Male</td>\n",
       "      <td>24</td>\n",
       "      <td>3</td>\n",
       "      <td>0.00</td>\n",
       "      <td>2</td>\n",
       "      <td>1</td>\n",
       "      <td>0</td>\n",
       "      <td>76390.01</td>\n",
       "      <td>0</td>\n",
       "    </tr>\n",
       "    <tr>\n",
       "      <th>2</th>\n",
       "      <td>13</td>\n",
       "      <td>15632264</td>\n",
       "      <td>Kay</td>\n",
       "      <td>476</td>\n",
       "      <td>France</td>\n",
       "      <td>Female</td>\n",
       "      <td>34</td>\n",
       "      <td>10</td>\n",
       "      <td>0.00</td>\n",
       "      <td>2</td>\n",
       "      <td>1</td>\n",
       "      <td>0</td>\n",
       "      <td>26260.98</td>\n",
       "      <td>0</td>\n",
       "    </tr>\n",
       "    <tr>\n",
       "      <th>3</th>\n",
       "      <td>14</td>\n",
       "      <td>15691483</td>\n",
       "      <td>Chin</td>\n",
       "      <td>549</td>\n",
       "      <td>France</td>\n",
       "      <td>Female</td>\n",
       "      <td>25</td>\n",
       "      <td>5</td>\n",
       "      <td>0.00</td>\n",
       "      <td>2</td>\n",
       "      <td>0</td>\n",
       "      <td>0</td>\n",
       "      <td>190857.79</td>\n",
       "      <td>0</td>\n",
       "    </tr>\n",
       "    <tr>\n",
       "      <th>4</th>\n",
       "      <td>15</td>\n",
       "      <td>15600882</td>\n",
       "      <td>Scott</td>\n",
       "      <td>635</td>\n",
       "      <td>Spain</td>\n",
       "      <td>Female</td>\n",
       "      <td>35</td>\n",
       "      <td>7</td>\n",
       "      <td>0.00</td>\n",
       "      <td>2</td>\n",
       "      <td>1</td>\n",
       "      <td>1</td>\n",
       "      <td>65951.65</td>\n",
       "      <td>0</td>\n",
       "    </tr>\n",
       "    <tr>\n",
       "      <th>5</th>\n",
       "      <td>16</td>\n",
       "      <td>15643966</td>\n",
       "      <td>Goforth</td>\n",
       "      <td>616</td>\n",
       "      <td>Germany</td>\n",
       "      <td>Male</td>\n",
       "      <td>45</td>\n",
       "      <td>3</td>\n",
       "      <td>143129.41</td>\n",
       "      <td>2</td>\n",
       "      <td>0</td>\n",
       "      <td>1</td>\n",
       "      <td>64327.26</td>\n",
       "      <td>0</td>\n",
       "    </tr>\n",
       "    <tr>\n",
       "      <th>6</th>\n",
       "      <td>17</td>\n",
       "      <td>15737452</td>\n",
       "      <td>Romeo</td>\n",
       "      <td>653</td>\n",
       "      <td>Germany</td>\n",
       "      <td>Male</td>\n",
       "      <td>58</td>\n",
       "      <td>1</td>\n",
       "      <td>132602.88</td>\n",
       "      <td>1</td>\n",
       "      <td>1</td>\n",
       "      <td>0</td>\n",
       "      <td>5097.67</td>\n",
       "      <td>1</td>\n",
       "    </tr>\n",
       "    <tr>\n",
       "      <th>7</th>\n",
       "      <td>18</td>\n",
       "      <td>15788218</td>\n",
       "      <td>Henderson</td>\n",
       "      <td>549</td>\n",
       "      <td>Spain</td>\n",
       "      <td>Female</td>\n",
       "      <td>24</td>\n",
       "      <td>9</td>\n",
       "      <td>0.00</td>\n",
       "      <td>2</td>\n",
       "      <td>1</td>\n",
       "      <td>1</td>\n",
       "      <td>14406.41</td>\n",
       "      <td>0</td>\n",
       "    </tr>\n",
       "    <tr>\n",
       "      <th>8</th>\n",
       "      <td>19</td>\n",
       "      <td>15661507</td>\n",
       "      <td>Muldrow</td>\n",
       "      <td>587</td>\n",
       "      <td>Spain</td>\n",
       "      <td>Male</td>\n",
       "      <td>45</td>\n",
       "      <td>6</td>\n",
       "      <td>0.00</td>\n",
       "      <td>1</td>\n",
       "      <td>0</td>\n",
       "      <td>0</td>\n",
       "      <td>158684.81</td>\n",
       "      <td>0</td>\n",
       "    </tr>\n",
       "    <tr>\n",
       "      <th>9</th>\n",
       "      <td>20</td>\n",
       "      <td>15568982</td>\n",
       "      <td>Hao</td>\n",
       "      <td>726</td>\n",
       "      <td>France</td>\n",
       "      <td>Female</td>\n",
       "      <td>24</td>\n",
       "      <td>6</td>\n",
       "      <td>0.00</td>\n",
       "      <td>2</td>\n",
       "      <td>1</td>\n",
       "      <td>1</td>\n",
       "      <td>54724.03</td>\n",
       "      <td>0</td>\n",
       "    </tr>\n",
       "  </tbody>\n",
       "</table>\n",
       "</div>"
      ]
     },
     "execution_count": 90,
     "metadata": {},
     "output_type": "execute_result"
    }
   ],
   "execution_count": 90
  },
  {
   "cell_type": "code",
   "id": "35aecf1680c8a743",
   "metadata": {
    "ExecuteTime": {
     "end_time": "2025-10-04T18:13:17.076793Z",
     "start_time": "2025-10-04T18:13:17.067339Z"
    }
   },
   "source": [
    "\n",
    "pd.read_csv('../../00 DATA/Churn_Modelling_3.csv')"
   ],
   "outputs": [
    {
     "data": {
      "text/plain": [
       "   RowNumber  CustomerId     Surname  CreditScore Geography  Gender  Age  \\\n",
       "0         21    15577657    McDonald          732    France    Male   41   \n",
       "1         22    15597945    Dellucci          636     Spain  Female   32   \n",
       "2         23    15699309   Gerasimov          510     Spain  Female   38   \n",
       "3         24    15725737      Mosman          669    France    Male   46   \n",
       "4         25    15625047         Yen          846    France  Female   38   \n",
       "5         26    15738191     Maclean          577    France    Male   25   \n",
       "6         27    15736816       Young          756   Germany    Male   36   \n",
       "7         28    15700772     Nebechi          571    France    Male   44   \n",
       "8         29    15728693  McWilliams          574   Germany  Female   43   \n",
       "9         30    15656300    Lucciano          411    France    Male   29   \n",
       "\n",
       "   Tenure    Balance  NumOfProducts  HasCrCard  IsActiveMember  \\\n",
       "0       8       0.00              2          1               1   \n",
       "1       8       0.00              2          1               0   \n",
       "2       4       0.00              1          1               0   \n",
       "3       3       0.00              2          0               1   \n",
       "4       5       0.00              1          1               1   \n",
       "5       3       0.00              2          0               1   \n",
       "6       2  136815.64              1          1               1   \n",
       "7       9       0.00              2          0               0   \n",
       "8       3  141349.43              1          1               1   \n",
       "9       0   59697.17              2          1               1   \n",
       "\n",
       "   EstimatedSalary  Exited  \n",
       "0        170886.17       0  \n",
       "1        138555.46       0  \n",
       "2        118913.53       1  \n",
       "3          8487.75       0  \n",
       "4        187616.16       0  \n",
       "5        124508.29       0  \n",
       "6        170041.95       0  \n",
       "7         38433.35       0  \n",
       "8        100187.43       0  \n",
       "9         53483.21       0  "
      ],
      "text/html": [
       "<div>\n",
       "<style scoped>\n",
       "    .dataframe tbody tr th:only-of-type {\n",
       "        vertical-align: middle;\n",
       "    }\n",
       "\n",
       "    .dataframe tbody tr th {\n",
       "        vertical-align: top;\n",
       "    }\n",
       "\n",
       "    .dataframe thead th {\n",
       "        text-align: right;\n",
       "    }\n",
       "</style>\n",
       "<table border=\"1\" class=\"dataframe\">\n",
       "  <thead>\n",
       "    <tr style=\"text-align: right;\">\n",
       "      <th></th>\n",
       "      <th>RowNumber</th>\n",
       "      <th>CustomerId</th>\n",
       "      <th>Surname</th>\n",
       "      <th>CreditScore</th>\n",
       "      <th>Geography</th>\n",
       "      <th>Gender</th>\n",
       "      <th>Age</th>\n",
       "      <th>Tenure</th>\n",
       "      <th>Balance</th>\n",
       "      <th>NumOfProducts</th>\n",
       "      <th>HasCrCard</th>\n",
       "      <th>IsActiveMember</th>\n",
       "      <th>EstimatedSalary</th>\n",
       "      <th>Exited</th>\n",
       "    </tr>\n",
       "  </thead>\n",
       "  <tbody>\n",
       "    <tr>\n",
       "      <th>0</th>\n",
       "      <td>21</td>\n",
       "      <td>15577657</td>\n",
       "      <td>McDonald</td>\n",
       "      <td>732</td>\n",
       "      <td>France</td>\n",
       "      <td>Male</td>\n",
       "      <td>41</td>\n",
       "      <td>8</td>\n",
       "      <td>0.00</td>\n",
       "      <td>2</td>\n",
       "      <td>1</td>\n",
       "      <td>1</td>\n",
       "      <td>170886.17</td>\n",
       "      <td>0</td>\n",
       "    </tr>\n",
       "    <tr>\n",
       "      <th>1</th>\n",
       "      <td>22</td>\n",
       "      <td>15597945</td>\n",
       "      <td>Dellucci</td>\n",
       "      <td>636</td>\n",
       "      <td>Spain</td>\n",
       "      <td>Female</td>\n",
       "      <td>32</td>\n",
       "      <td>8</td>\n",
       "      <td>0.00</td>\n",
       "      <td>2</td>\n",
       "      <td>1</td>\n",
       "      <td>0</td>\n",
       "      <td>138555.46</td>\n",
       "      <td>0</td>\n",
       "    </tr>\n",
       "    <tr>\n",
       "      <th>2</th>\n",
       "      <td>23</td>\n",
       "      <td>15699309</td>\n",
       "      <td>Gerasimov</td>\n",
       "      <td>510</td>\n",
       "      <td>Spain</td>\n",
       "      <td>Female</td>\n",
       "      <td>38</td>\n",
       "      <td>4</td>\n",
       "      <td>0.00</td>\n",
       "      <td>1</td>\n",
       "      <td>1</td>\n",
       "      <td>0</td>\n",
       "      <td>118913.53</td>\n",
       "      <td>1</td>\n",
       "    </tr>\n",
       "    <tr>\n",
       "      <th>3</th>\n",
       "      <td>24</td>\n",
       "      <td>15725737</td>\n",
       "      <td>Mosman</td>\n",
       "      <td>669</td>\n",
       "      <td>France</td>\n",
       "      <td>Male</td>\n",
       "      <td>46</td>\n",
       "      <td>3</td>\n",
       "      <td>0.00</td>\n",
       "      <td>2</td>\n",
       "      <td>0</td>\n",
       "      <td>1</td>\n",
       "      <td>8487.75</td>\n",
       "      <td>0</td>\n",
       "    </tr>\n",
       "    <tr>\n",
       "      <th>4</th>\n",
       "      <td>25</td>\n",
       "      <td>15625047</td>\n",
       "      <td>Yen</td>\n",
       "      <td>846</td>\n",
       "      <td>France</td>\n",
       "      <td>Female</td>\n",
       "      <td>38</td>\n",
       "      <td>5</td>\n",
       "      <td>0.00</td>\n",
       "      <td>1</td>\n",
       "      <td>1</td>\n",
       "      <td>1</td>\n",
       "      <td>187616.16</td>\n",
       "      <td>0</td>\n",
       "    </tr>\n",
       "    <tr>\n",
       "      <th>5</th>\n",
       "      <td>26</td>\n",
       "      <td>15738191</td>\n",
       "      <td>Maclean</td>\n",
       "      <td>577</td>\n",
       "      <td>France</td>\n",
       "      <td>Male</td>\n",
       "      <td>25</td>\n",
       "      <td>3</td>\n",
       "      <td>0.00</td>\n",
       "      <td>2</td>\n",
       "      <td>0</td>\n",
       "      <td>1</td>\n",
       "      <td>124508.29</td>\n",
       "      <td>0</td>\n",
       "    </tr>\n",
       "    <tr>\n",
       "      <th>6</th>\n",
       "      <td>27</td>\n",
       "      <td>15736816</td>\n",
       "      <td>Young</td>\n",
       "      <td>756</td>\n",
       "      <td>Germany</td>\n",
       "      <td>Male</td>\n",
       "      <td>36</td>\n",
       "      <td>2</td>\n",
       "      <td>136815.64</td>\n",
       "      <td>1</td>\n",
       "      <td>1</td>\n",
       "      <td>1</td>\n",
       "      <td>170041.95</td>\n",
       "      <td>0</td>\n",
       "    </tr>\n",
       "    <tr>\n",
       "      <th>7</th>\n",
       "      <td>28</td>\n",
       "      <td>15700772</td>\n",
       "      <td>Nebechi</td>\n",
       "      <td>571</td>\n",
       "      <td>France</td>\n",
       "      <td>Male</td>\n",
       "      <td>44</td>\n",
       "      <td>9</td>\n",
       "      <td>0.00</td>\n",
       "      <td>2</td>\n",
       "      <td>0</td>\n",
       "      <td>0</td>\n",
       "      <td>38433.35</td>\n",
       "      <td>0</td>\n",
       "    </tr>\n",
       "    <tr>\n",
       "      <th>8</th>\n",
       "      <td>29</td>\n",
       "      <td>15728693</td>\n",
       "      <td>McWilliams</td>\n",
       "      <td>574</td>\n",
       "      <td>Germany</td>\n",
       "      <td>Female</td>\n",
       "      <td>43</td>\n",
       "      <td>3</td>\n",
       "      <td>141349.43</td>\n",
       "      <td>1</td>\n",
       "      <td>1</td>\n",
       "      <td>1</td>\n",
       "      <td>100187.43</td>\n",
       "      <td>0</td>\n",
       "    </tr>\n",
       "    <tr>\n",
       "      <th>9</th>\n",
       "      <td>30</td>\n",
       "      <td>15656300</td>\n",
       "      <td>Lucciano</td>\n",
       "      <td>411</td>\n",
       "      <td>France</td>\n",
       "      <td>Male</td>\n",
       "      <td>29</td>\n",
       "      <td>0</td>\n",
       "      <td>59697.17</td>\n",
       "      <td>2</td>\n",
       "      <td>1</td>\n",
       "      <td>1</td>\n",
       "      <td>53483.21</td>\n",
       "      <td>0</td>\n",
       "    </tr>\n",
       "  </tbody>\n",
       "</table>\n",
       "</div>"
      ]
     },
     "execution_count": 91,
     "metadata": {},
     "output_type": "execute_result"
    }
   ],
   "execution_count": 91
  },
  {
   "cell_type": "code",
   "id": "d215fdfd21676dfc",
   "metadata": {
    "ExecuteTime": {
     "end_time": "2025-10-04T18:13:17.293275Z",
     "start_time": "2025-10-04T18:13:17.290676Z"
    }
   },
   "source": [
    "#import glob\n",
    "from glob import glob"
   ],
   "outputs": [],
   "execution_count": 92
  },
  {
   "cell_type": "code",
   "id": "29c867d35b6ea97a",
   "metadata": {
    "ExecuteTime": {
     "end_time": "2025-10-04T18:13:17.483750Z",
     "start_time": "2025-10-04T18:13:17.479516Z"
    }
   },
   "source": [
    "#churn_full_files = glob.glob('../../00 DATA/Churn_Modelling_*.csv')\n",
    "#hurn_full_files = sorted(churn_full_files)\n",
    "churn_full_files = sorted(glob('../../00 DATA/Churn_Modelling_*.csv'))\n",
    "churn_full_files"
   ],
   "outputs": [
    {
     "data": {
      "text/plain": [
       "['../../00 DATA\\\\Churn_Modelling_1.csv',\n",
       " '../../00 DATA\\\\Churn_Modelling_2.csv',\n",
       " '../../00 DATA\\\\Churn_Modelling_3.csv']"
      ]
     },
     "execution_count": 93,
     "metadata": {},
     "output_type": "execute_result"
    }
   ],
   "execution_count": 93
  },
  {
   "cell_type": "code",
   "id": "237483c2a7d69ce7",
   "metadata": {
    "ExecuteTime": {
     "end_time": "2025-10-04T18:13:17.638722Z",
     "start_time": "2025-10-04T18:13:17.635587Z"
    }
   },
   "source": [
    "dft13 = churn_full_files\n",
    "dft13\n",
    "\n",
    "# این کار غلطه"
   ],
   "outputs": [
    {
     "data": {
      "text/plain": [
       "['../../00 DATA\\\\Churn_Modelling_1.csv',\n",
       " '../../00 DATA\\\\Churn_Modelling_2.csv',\n",
       " '../../00 DATA\\\\Churn_Modelling_3.csv']"
      ]
     },
     "execution_count": 94,
     "metadata": {},
     "output_type": "execute_result"
    }
   ],
   "execution_count": 94
  },
  {
   "cell_type": "code",
   "id": "ba9d7156707c9ef0",
   "metadata": {
    "ExecuteTime": {
     "end_time": "2025-10-04T18:13:17.766305Z",
     "start_time": "2025-10-04T18:13:17.747413Z"
    }
   },
   "source": [
    "\n",
    "dft13 = pd.concat((pd.read_csv(file) for file in churn_full_files))\n",
    "dft13\n"
   ],
   "outputs": [
    {
     "data": {
      "text/plain": [
       "   RowNumber  CustomerId     Surname  CreditScore Geography  Gender  Age  \\\n",
       "0          1    15634602    Hargrave          619    France  Female   42   \n",
       "1          2    15647311        Hill          608     Spain  Female   41   \n",
       "2          3    15619304        Onio          502    France  Female   42   \n",
       "3          4    15701354        Boni          699    France  Female   39   \n",
       "4          5    15737888    Mitchell          850     Spain  Female   43   \n",
       "5          6    15574012         Chu          645     Spain    Male   44   \n",
       "6          7    15592531    Bartlett          822    France    Male   50   \n",
       "7          8    15656148      Obinna          376   Germany  Female   29   \n",
       "8          9    15792365          He          501    France    Male   44   \n",
       "9         10    15592389          H?          684    France    Male   27   \n",
       "0         11    15767821      Bearce          528    France    Male   31   \n",
       "1         12    15737173     Andrews          497     Spain    Male   24   \n",
       "2         13    15632264         Kay          476    France  Female   34   \n",
       "3         14    15691483        Chin          549    France  Female   25   \n",
       "4         15    15600882       Scott          635     Spain  Female   35   \n",
       "5         16    15643966     Goforth          616   Germany    Male   45   \n",
       "6         17    15737452       Romeo          653   Germany    Male   58   \n",
       "7         18    15788218   Henderson          549     Spain  Female   24   \n",
       "8         19    15661507     Muldrow          587     Spain    Male   45   \n",
       "9         20    15568982         Hao          726    France  Female   24   \n",
       "0         21    15577657    McDonald          732    France    Male   41   \n",
       "1         22    15597945    Dellucci          636     Spain  Female   32   \n",
       "2         23    15699309   Gerasimov          510     Spain  Female   38   \n",
       "3         24    15725737      Mosman          669    France    Male   46   \n",
       "4         25    15625047         Yen          846    France  Female   38   \n",
       "5         26    15738191     Maclean          577    France    Male   25   \n",
       "6         27    15736816       Young          756   Germany    Male   36   \n",
       "7         28    15700772     Nebechi          571    France    Male   44   \n",
       "8         29    15728693  McWilliams          574   Germany  Female   43   \n",
       "9         30    15656300    Lucciano          411    France    Male   29   \n",
       "\n",
       "   Tenure    Balance  NumOfProducts  HasCrCard  IsActiveMember  \\\n",
       "0       2       0.00              1          1               1   \n",
       "1       1   83807.86              1          0               1   \n",
       "2       8  159660.80              3          1               0   \n",
       "3       1       0.00              2          0               0   \n",
       "4       2  125510.82              1          1               1   \n",
       "5       8  113755.78              2          1               0   \n",
       "6       7       0.00              2          1               1   \n",
       "7       4  115046.74              4          1               0   \n",
       "8       4  142051.07              2          0               1   \n",
       "9       2  134603.88              1          1               1   \n",
       "0       6  102016.72              2          0               0   \n",
       "1       3       0.00              2          1               0   \n",
       "2      10       0.00              2          1               0   \n",
       "3       5       0.00              2          0               0   \n",
       "4       7       0.00              2          1               1   \n",
       "5       3  143129.41              2          0               1   \n",
       "6       1  132602.88              1          1               0   \n",
       "7       9       0.00              2          1               1   \n",
       "8       6       0.00              1          0               0   \n",
       "9       6       0.00              2          1               1   \n",
       "0       8       0.00              2          1               1   \n",
       "1       8       0.00              2          1               0   \n",
       "2       4       0.00              1          1               0   \n",
       "3       3       0.00              2          0               1   \n",
       "4       5       0.00              1          1               1   \n",
       "5       3       0.00              2          0               1   \n",
       "6       2  136815.64              1          1               1   \n",
       "7       9       0.00              2          0               0   \n",
       "8       3  141349.43              1          1               1   \n",
       "9       0   59697.17              2          1               1   \n",
       "\n",
       "   EstimatedSalary  Exited  \n",
       "0        101348.88       1  \n",
       "1        112542.58       0  \n",
       "2        113931.57       1  \n",
       "3         93826.63       0  \n",
       "4         79084.10       0  \n",
       "5        149756.71       1  \n",
       "6         10062.80       0  \n",
       "7        119346.88       1  \n",
       "8         74940.50       0  \n",
       "9         71725.73       0  \n",
       "0         80181.12       0  \n",
       "1         76390.01       0  \n",
       "2         26260.98       0  \n",
       "3        190857.79       0  \n",
       "4         65951.65       0  \n",
       "5         64327.26       0  \n",
       "6          5097.67       1  \n",
       "7         14406.41       0  \n",
       "8        158684.81       0  \n",
       "9         54724.03       0  \n",
       "0        170886.17       0  \n",
       "1        138555.46       0  \n",
       "2        118913.53       1  \n",
       "3          8487.75       0  \n",
       "4        187616.16       0  \n",
       "5        124508.29       0  \n",
       "6        170041.95       0  \n",
       "7         38433.35       0  \n",
       "8        100187.43       0  \n",
       "9         53483.21       0  "
      ],
      "text/html": [
       "<div>\n",
       "<style scoped>\n",
       "    .dataframe tbody tr th:only-of-type {\n",
       "        vertical-align: middle;\n",
       "    }\n",
       "\n",
       "    .dataframe tbody tr th {\n",
       "        vertical-align: top;\n",
       "    }\n",
       "\n",
       "    .dataframe thead th {\n",
       "        text-align: right;\n",
       "    }\n",
       "</style>\n",
       "<table border=\"1\" class=\"dataframe\">\n",
       "  <thead>\n",
       "    <tr style=\"text-align: right;\">\n",
       "      <th></th>\n",
       "      <th>RowNumber</th>\n",
       "      <th>CustomerId</th>\n",
       "      <th>Surname</th>\n",
       "      <th>CreditScore</th>\n",
       "      <th>Geography</th>\n",
       "      <th>Gender</th>\n",
       "      <th>Age</th>\n",
       "      <th>Tenure</th>\n",
       "      <th>Balance</th>\n",
       "      <th>NumOfProducts</th>\n",
       "      <th>HasCrCard</th>\n",
       "      <th>IsActiveMember</th>\n",
       "      <th>EstimatedSalary</th>\n",
       "      <th>Exited</th>\n",
       "    </tr>\n",
       "  </thead>\n",
       "  <tbody>\n",
       "    <tr>\n",
       "      <th>0</th>\n",
       "      <td>1</td>\n",
       "      <td>15634602</td>\n",
       "      <td>Hargrave</td>\n",
       "      <td>619</td>\n",
       "      <td>France</td>\n",
       "      <td>Female</td>\n",
       "      <td>42</td>\n",
       "      <td>2</td>\n",
       "      <td>0.00</td>\n",
       "      <td>1</td>\n",
       "      <td>1</td>\n",
       "      <td>1</td>\n",
       "      <td>101348.88</td>\n",
       "      <td>1</td>\n",
       "    </tr>\n",
       "    <tr>\n",
       "      <th>1</th>\n",
       "      <td>2</td>\n",
       "      <td>15647311</td>\n",
       "      <td>Hill</td>\n",
       "      <td>608</td>\n",
       "      <td>Spain</td>\n",
       "      <td>Female</td>\n",
       "      <td>41</td>\n",
       "      <td>1</td>\n",
       "      <td>83807.86</td>\n",
       "      <td>1</td>\n",
       "      <td>0</td>\n",
       "      <td>1</td>\n",
       "      <td>112542.58</td>\n",
       "      <td>0</td>\n",
       "    </tr>\n",
       "    <tr>\n",
       "      <th>2</th>\n",
       "      <td>3</td>\n",
       "      <td>15619304</td>\n",
       "      <td>Onio</td>\n",
       "      <td>502</td>\n",
       "      <td>France</td>\n",
       "      <td>Female</td>\n",
       "      <td>42</td>\n",
       "      <td>8</td>\n",
       "      <td>159660.80</td>\n",
       "      <td>3</td>\n",
       "      <td>1</td>\n",
       "      <td>0</td>\n",
       "      <td>113931.57</td>\n",
       "      <td>1</td>\n",
       "    </tr>\n",
       "    <tr>\n",
       "      <th>3</th>\n",
       "      <td>4</td>\n",
       "      <td>15701354</td>\n",
       "      <td>Boni</td>\n",
       "      <td>699</td>\n",
       "      <td>France</td>\n",
       "      <td>Female</td>\n",
       "      <td>39</td>\n",
       "      <td>1</td>\n",
       "      <td>0.00</td>\n",
       "      <td>2</td>\n",
       "      <td>0</td>\n",
       "      <td>0</td>\n",
       "      <td>93826.63</td>\n",
       "      <td>0</td>\n",
       "    </tr>\n",
       "    <tr>\n",
       "      <th>4</th>\n",
       "      <td>5</td>\n",
       "      <td>15737888</td>\n",
       "      <td>Mitchell</td>\n",
       "      <td>850</td>\n",
       "      <td>Spain</td>\n",
       "      <td>Female</td>\n",
       "      <td>43</td>\n",
       "      <td>2</td>\n",
       "      <td>125510.82</td>\n",
       "      <td>1</td>\n",
       "      <td>1</td>\n",
       "      <td>1</td>\n",
       "      <td>79084.10</td>\n",
       "      <td>0</td>\n",
       "    </tr>\n",
       "    <tr>\n",
       "      <th>5</th>\n",
       "      <td>6</td>\n",
       "      <td>15574012</td>\n",
       "      <td>Chu</td>\n",
       "      <td>645</td>\n",
       "      <td>Spain</td>\n",
       "      <td>Male</td>\n",
       "      <td>44</td>\n",
       "      <td>8</td>\n",
       "      <td>113755.78</td>\n",
       "      <td>2</td>\n",
       "      <td>1</td>\n",
       "      <td>0</td>\n",
       "      <td>149756.71</td>\n",
       "      <td>1</td>\n",
       "    </tr>\n",
       "    <tr>\n",
       "      <th>6</th>\n",
       "      <td>7</td>\n",
       "      <td>15592531</td>\n",
       "      <td>Bartlett</td>\n",
       "      <td>822</td>\n",
       "      <td>France</td>\n",
       "      <td>Male</td>\n",
       "      <td>50</td>\n",
       "      <td>7</td>\n",
       "      <td>0.00</td>\n",
       "      <td>2</td>\n",
       "      <td>1</td>\n",
       "      <td>1</td>\n",
       "      <td>10062.80</td>\n",
       "      <td>0</td>\n",
       "    </tr>\n",
       "    <tr>\n",
       "      <th>7</th>\n",
       "      <td>8</td>\n",
       "      <td>15656148</td>\n",
       "      <td>Obinna</td>\n",
       "      <td>376</td>\n",
       "      <td>Germany</td>\n",
       "      <td>Female</td>\n",
       "      <td>29</td>\n",
       "      <td>4</td>\n",
       "      <td>115046.74</td>\n",
       "      <td>4</td>\n",
       "      <td>1</td>\n",
       "      <td>0</td>\n",
       "      <td>119346.88</td>\n",
       "      <td>1</td>\n",
       "    </tr>\n",
       "    <tr>\n",
       "      <th>8</th>\n",
       "      <td>9</td>\n",
       "      <td>15792365</td>\n",
       "      <td>He</td>\n",
       "      <td>501</td>\n",
       "      <td>France</td>\n",
       "      <td>Male</td>\n",
       "      <td>44</td>\n",
       "      <td>4</td>\n",
       "      <td>142051.07</td>\n",
       "      <td>2</td>\n",
       "      <td>0</td>\n",
       "      <td>1</td>\n",
       "      <td>74940.50</td>\n",
       "      <td>0</td>\n",
       "    </tr>\n",
       "    <tr>\n",
       "      <th>9</th>\n",
       "      <td>10</td>\n",
       "      <td>15592389</td>\n",
       "      <td>H?</td>\n",
       "      <td>684</td>\n",
       "      <td>France</td>\n",
       "      <td>Male</td>\n",
       "      <td>27</td>\n",
       "      <td>2</td>\n",
       "      <td>134603.88</td>\n",
       "      <td>1</td>\n",
       "      <td>1</td>\n",
       "      <td>1</td>\n",
       "      <td>71725.73</td>\n",
       "      <td>0</td>\n",
       "    </tr>\n",
       "    <tr>\n",
       "      <th>0</th>\n",
       "      <td>11</td>\n",
       "      <td>15767821</td>\n",
       "      <td>Bearce</td>\n",
       "      <td>528</td>\n",
       "      <td>France</td>\n",
       "      <td>Male</td>\n",
       "      <td>31</td>\n",
       "      <td>6</td>\n",
       "      <td>102016.72</td>\n",
       "      <td>2</td>\n",
       "      <td>0</td>\n",
       "      <td>0</td>\n",
       "      <td>80181.12</td>\n",
       "      <td>0</td>\n",
       "    </tr>\n",
       "    <tr>\n",
       "      <th>1</th>\n",
       "      <td>12</td>\n",
       "      <td>15737173</td>\n",
       "      <td>Andrews</td>\n",
       "      <td>497</td>\n",
       "      <td>Spain</td>\n",
       "      <td>Male</td>\n",
       "      <td>24</td>\n",
       "      <td>3</td>\n",
       "      <td>0.00</td>\n",
       "      <td>2</td>\n",
       "      <td>1</td>\n",
       "      <td>0</td>\n",
       "      <td>76390.01</td>\n",
       "      <td>0</td>\n",
       "    </tr>\n",
       "    <tr>\n",
       "      <th>2</th>\n",
       "      <td>13</td>\n",
       "      <td>15632264</td>\n",
       "      <td>Kay</td>\n",
       "      <td>476</td>\n",
       "      <td>France</td>\n",
       "      <td>Female</td>\n",
       "      <td>34</td>\n",
       "      <td>10</td>\n",
       "      <td>0.00</td>\n",
       "      <td>2</td>\n",
       "      <td>1</td>\n",
       "      <td>0</td>\n",
       "      <td>26260.98</td>\n",
       "      <td>0</td>\n",
       "    </tr>\n",
       "    <tr>\n",
       "      <th>3</th>\n",
       "      <td>14</td>\n",
       "      <td>15691483</td>\n",
       "      <td>Chin</td>\n",
       "      <td>549</td>\n",
       "      <td>France</td>\n",
       "      <td>Female</td>\n",
       "      <td>25</td>\n",
       "      <td>5</td>\n",
       "      <td>0.00</td>\n",
       "      <td>2</td>\n",
       "      <td>0</td>\n",
       "      <td>0</td>\n",
       "      <td>190857.79</td>\n",
       "      <td>0</td>\n",
       "    </tr>\n",
       "    <tr>\n",
       "      <th>4</th>\n",
       "      <td>15</td>\n",
       "      <td>15600882</td>\n",
       "      <td>Scott</td>\n",
       "      <td>635</td>\n",
       "      <td>Spain</td>\n",
       "      <td>Female</td>\n",
       "      <td>35</td>\n",
       "      <td>7</td>\n",
       "      <td>0.00</td>\n",
       "      <td>2</td>\n",
       "      <td>1</td>\n",
       "      <td>1</td>\n",
       "      <td>65951.65</td>\n",
       "      <td>0</td>\n",
       "    </tr>\n",
       "    <tr>\n",
       "      <th>5</th>\n",
       "      <td>16</td>\n",
       "      <td>15643966</td>\n",
       "      <td>Goforth</td>\n",
       "      <td>616</td>\n",
       "      <td>Germany</td>\n",
       "      <td>Male</td>\n",
       "      <td>45</td>\n",
       "      <td>3</td>\n",
       "      <td>143129.41</td>\n",
       "      <td>2</td>\n",
       "      <td>0</td>\n",
       "      <td>1</td>\n",
       "      <td>64327.26</td>\n",
       "      <td>0</td>\n",
       "    </tr>\n",
       "    <tr>\n",
       "      <th>6</th>\n",
       "      <td>17</td>\n",
       "      <td>15737452</td>\n",
       "      <td>Romeo</td>\n",
       "      <td>653</td>\n",
       "      <td>Germany</td>\n",
       "      <td>Male</td>\n",
       "      <td>58</td>\n",
       "      <td>1</td>\n",
       "      <td>132602.88</td>\n",
       "      <td>1</td>\n",
       "      <td>1</td>\n",
       "      <td>0</td>\n",
       "      <td>5097.67</td>\n",
       "      <td>1</td>\n",
       "    </tr>\n",
       "    <tr>\n",
       "      <th>7</th>\n",
       "      <td>18</td>\n",
       "      <td>15788218</td>\n",
       "      <td>Henderson</td>\n",
       "      <td>549</td>\n",
       "      <td>Spain</td>\n",
       "      <td>Female</td>\n",
       "      <td>24</td>\n",
       "      <td>9</td>\n",
       "      <td>0.00</td>\n",
       "      <td>2</td>\n",
       "      <td>1</td>\n",
       "      <td>1</td>\n",
       "      <td>14406.41</td>\n",
       "      <td>0</td>\n",
       "    </tr>\n",
       "    <tr>\n",
       "      <th>8</th>\n",
       "      <td>19</td>\n",
       "      <td>15661507</td>\n",
       "      <td>Muldrow</td>\n",
       "      <td>587</td>\n",
       "      <td>Spain</td>\n",
       "      <td>Male</td>\n",
       "      <td>45</td>\n",
       "      <td>6</td>\n",
       "      <td>0.00</td>\n",
       "      <td>1</td>\n",
       "      <td>0</td>\n",
       "      <td>0</td>\n",
       "      <td>158684.81</td>\n",
       "      <td>0</td>\n",
       "    </tr>\n",
       "    <tr>\n",
       "      <th>9</th>\n",
       "      <td>20</td>\n",
       "      <td>15568982</td>\n",
       "      <td>Hao</td>\n",
       "      <td>726</td>\n",
       "      <td>France</td>\n",
       "      <td>Female</td>\n",
       "      <td>24</td>\n",
       "      <td>6</td>\n",
       "      <td>0.00</td>\n",
       "      <td>2</td>\n",
       "      <td>1</td>\n",
       "      <td>1</td>\n",
       "      <td>54724.03</td>\n",
       "      <td>0</td>\n",
       "    </tr>\n",
       "    <tr>\n",
       "      <th>0</th>\n",
       "      <td>21</td>\n",
       "      <td>15577657</td>\n",
       "      <td>McDonald</td>\n",
       "      <td>732</td>\n",
       "      <td>France</td>\n",
       "      <td>Male</td>\n",
       "      <td>41</td>\n",
       "      <td>8</td>\n",
       "      <td>0.00</td>\n",
       "      <td>2</td>\n",
       "      <td>1</td>\n",
       "      <td>1</td>\n",
       "      <td>170886.17</td>\n",
       "      <td>0</td>\n",
       "    </tr>\n",
       "    <tr>\n",
       "      <th>1</th>\n",
       "      <td>22</td>\n",
       "      <td>15597945</td>\n",
       "      <td>Dellucci</td>\n",
       "      <td>636</td>\n",
       "      <td>Spain</td>\n",
       "      <td>Female</td>\n",
       "      <td>32</td>\n",
       "      <td>8</td>\n",
       "      <td>0.00</td>\n",
       "      <td>2</td>\n",
       "      <td>1</td>\n",
       "      <td>0</td>\n",
       "      <td>138555.46</td>\n",
       "      <td>0</td>\n",
       "    </tr>\n",
       "    <tr>\n",
       "      <th>2</th>\n",
       "      <td>23</td>\n",
       "      <td>15699309</td>\n",
       "      <td>Gerasimov</td>\n",
       "      <td>510</td>\n",
       "      <td>Spain</td>\n",
       "      <td>Female</td>\n",
       "      <td>38</td>\n",
       "      <td>4</td>\n",
       "      <td>0.00</td>\n",
       "      <td>1</td>\n",
       "      <td>1</td>\n",
       "      <td>0</td>\n",
       "      <td>118913.53</td>\n",
       "      <td>1</td>\n",
       "    </tr>\n",
       "    <tr>\n",
       "      <th>3</th>\n",
       "      <td>24</td>\n",
       "      <td>15725737</td>\n",
       "      <td>Mosman</td>\n",
       "      <td>669</td>\n",
       "      <td>France</td>\n",
       "      <td>Male</td>\n",
       "      <td>46</td>\n",
       "      <td>3</td>\n",
       "      <td>0.00</td>\n",
       "      <td>2</td>\n",
       "      <td>0</td>\n",
       "      <td>1</td>\n",
       "      <td>8487.75</td>\n",
       "      <td>0</td>\n",
       "    </tr>\n",
       "    <tr>\n",
       "      <th>4</th>\n",
       "      <td>25</td>\n",
       "      <td>15625047</td>\n",
       "      <td>Yen</td>\n",
       "      <td>846</td>\n",
       "      <td>France</td>\n",
       "      <td>Female</td>\n",
       "      <td>38</td>\n",
       "      <td>5</td>\n",
       "      <td>0.00</td>\n",
       "      <td>1</td>\n",
       "      <td>1</td>\n",
       "      <td>1</td>\n",
       "      <td>187616.16</td>\n",
       "      <td>0</td>\n",
       "    </tr>\n",
       "    <tr>\n",
       "      <th>5</th>\n",
       "      <td>26</td>\n",
       "      <td>15738191</td>\n",
       "      <td>Maclean</td>\n",
       "      <td>577</td>\n",
       "      <td>France</td>\n",
       "      <td>Male</td>\n",
       "      <td>25</td>\n",
       "      <td>3</td>\n",
       "      <td>0.00</td>\n",
       "      <td>2</td>\n",
       "      <td>0</td>\n",
       "      <td>1</td>\n",
       "      <td>124508.29</td>\n",
       "      <td>0</td>\n",
       "    </tr>\n",
       "    <tr>\n",
       "      <th>6</th>\n",
       "      <td>27</td>\n",
       "      <td>15736816</td>\n",
       "      <td>Young</td>\n",
       "      <td>756</td>\n",
       "      <td>Germany</td>\n",
       "      <td>Male</td>\n",
       "      <td>36</td>\n",
       "      <td>2</td>\n",
       "      <td>136815.64</td>\n",
       "      <td>1</td>\n",
       "      <td>1</td>\n",
       "      <td>1</td>\n",
       "      <td>170041.95</td>\n",
       "      <td>0</td>\n",
       "    </tr>\n",
       "    <tr>\n",
       "      <th>7</th>\n",
       "      <td>28</td>\n",
       "      <td>15700772</td>\n",
       "      <td>Nebechi</td>\n",
       "      <td>571</td>\n",
       "      <td>France</td>\n",
       "      <td>Male</td>\n",
       "      <td>44</td>\n",
       "      <td>9</td>\n",
       "      <td>0.00</td>\n",
       "      <td>2</td>\n",
       "      <td>0</td>\n",
       "      <td>0</td>\n",
       "      <td>38433.35</td>\n",
       "      <td>0</td>\n",
       "    </tr>\n",
       "    <tr>\n",
       "      <th>8</th>\n",
       "      <td>29</td>\n",
       "      <td>15728693</td>\n",
       "      <td>McWilliams</td>\n",
       "      <td>574</td>\n",
       "      <td>Germany</td>\n",
       "      <td>Female</td>\n",
       "      <td>43</td>\n",
       "      <td>3</td>\n",
       "      <td>141349.43</td>\n",
       "      <td>1</td>\n",
       "      <td>1</td>\n",
       "      <td>1</td>\n",
       "      <td>100187.43</td>\n",
       "      <td>0</td>\n",
       "    </tr>\n",
       "    <tr>\n",
       "      <th>9</th>\n",
       "      <td>30</td>\n",
       "      <td>15656300</td>\n",
       "      <td>Lucciano</td>\n",
       "      <td>411</td>\n",
       "      <td>France</td>\n",
       "      <td>Male</td>\n",
       "      <td>29</td>\n",
       "      <td>0</td>\n",
       "      <td>59697.17</td>\n",
       "      <td>2</td>\n",
       "      <td>1</td>\n",
       "      <td>1</td>\n",
       "      <td>53483.21</td>\n",
       "      <td>0</td>\n",
       "    </tr>\n",
       "  </tbody>\n",
       "</table>\n",
       "</div>"
      ]
     },
     "execution_count": 95,
     "metadata": {},
     "output_type": "execute_result"
    }
   ],
   "execution_count": 95
  },
  {
   "cell_type": "markdown",
   "id": "12eb15a5cbbe25f1",
   "metadata": {},
   "source": [
    "fix index"
   ]
  },
  {
   "cell_type": "code",
   "id": "32fbf0c0c447936d",
   "metadata": {
    "ExecuteTime": {
     "end_time": "2025-10-04T18:13:17.879205Z",
     "start_time": "2025-10-04T18:13:17.865613Z"
    }
   },
   "source": [
    "\n",
    "dft13 = pd.concat((pd.read_csv(file) for file in churn_full_files), ignore_index=True)\n",
    "dft13"
   ],
   "outputs": [
    {
     "data": {
      "text/plain": [
       "    RowNumber  CustomerId     Surname  CreditScore Geography  Gender  Age  \\\n",
       "0           1    15634602    Hargrave          619    France  Female   42   \n",
       "1           2    15647311        Hill          608     Spain  Female   41   \n",
       "2           3    15619304        Onio          502    France  Female   42   \n",
       "3           4    15701354        Boni          699    France  Female   39   \n",
       "4           5    15737888    Mitchell          850     Spain  Female   43   \n",
       "5           6    15574012         Chu          645     Spain    Male   44   \n",
       "6           7    15592531    Bartlett          822    France    Male   50   \n",
       "7           8    15656148      Obinna          376   Germany  Female   29   \n",
       "8           9    15792365          He          501    France    Male   44   \n",
       "9          10    15592389          H?          684    France    Male   27   \n",
       "10         11    15767821      Bearce          528    France    Male   31   \n",
       "11         12    15737173     Andrews          497     Spain    Male   24   \n",
       "12         13    15632264         Kay          476    France  Female   34   \n",
       "13         14    15691483        Chin          549    France  Female   25   \n",
       "14         15    15600882       Scott          635     Spain  Female   35   \n",
       "15         16    15643966     Goforth          616   Germany    Male   45   \n",
       "16         17    15737452       Romeo          653   Germany    Male   58   \n",
       "17         18    15788218   Henderson          549     Spain  Female   24   \n",
       "18         19    15661507     Muldrow          587     Spain    Male   45   \n",
       "19         20    15568982         Hao          726    France  Female   24   \n",
       "20         21    15577657    McDonald          732    France    Male   41   \n",
       "21         22    15597945    Dellucci          636     Spain  Female   32   \n",
       "22         23    15699309   Gerasimov          510     Spain  Female   38   \n",
       "23         24    15725737      Mosman          669    France    Male   46   \n",
       "24         25    15625047         Yen          846    France  Female   38   \n",
       "25         26    15738191     Maclean          577    France    Male   25   \n",
       "26         27    15736816       Young          756   Germany    Male   36   \n",
       "27         28    15700772     Nebechi          571    France    Male   44   \n",
       "28         29    15728693  McWilliams          574   Germany  Female   43   \n",
       "29         30    15656300    Lucciano          411    France    Male   29   \n",
       "\n",
       "    Tenure    Balance  NumOfProducts  HasCrCard  IsActiveMember  \\\n",
       "0        2       0.00              1          1               1   \n",
       "1        1   83807.86              1          0               1   \n",
       "2        8  159660.80              3          1               0   \n",
       "3        1       0.00              2          0               0   \n",
       "4        2  125510.82              1          1               1   \n",
       "5        8  113755.78              2          1               0   \n",
       "6        7       0.00              2          1               1   \n",
       "7        4  115046.74              4          1               0   \n",
       "8        4  142051.07              2          0               1   \n",
       "9        2  134603.88              1          1               1   \n",
       "10       6  102016.72              2          0               0   \n",
       "11       3       0.00              2          1               0   \n",
       "12      10       0.00              2          1               0   \n",
       "13       5       0.00              2          0               0   \n",
       "14       7       0.00              2          1               1   \n",
       "15       3  143129.41              2          0               1   \n",
       "16       1  132602.88              1          1               0   \n",
       "17       9       0.00              2          1               1   \n",
       "18       6       0.00              1          0               0   \n",
       "19       6       0.00              2          1               1   \n",
       "20       8       0.00              2          1               1   \n",
       "21       8       0.00              2          1               0   \n",
       "22       4       0.00              1          1               0   \n",
       "23       3       0.00              2          0               1   \n",
       "24       5       0.00              1          1               1   \n",
       "25       3       0.00              2          0               1   \n",
       "26       2  136815.64              1          1               1   \n",
       "27       9       0.00              2          0               0   \n",
       "28       3  141349.43              1          1               1   \n",
       "29       0   59697.17              2          1               1   \n",
       "\n",
       "    EstimatedSalary  Exited  \n",
       "0         101348.88       1  \n",
       "1         112542.58       0  \n",
       "2         113931.57       1  \n",
       "3          93826.63       0  \n",
       "4          79084.10       0  \n",
       "5         149756.71       1  \n",
       "6          10062.80       0  \n",
       "7         119346.88       1  \n",
       "8          74940.50       0  \n",
       "9          71725.73       0  \n",
       "10         80181.12       0  \n",
       "11         76390.01       0  \n",
       "12         26260.98       0  \n",
       "13        190857.79       0  \n",
       "14         65951.65       0  \n",
       "15         64327.26       0  \n",
       "16          5097.67       1  \n",
       "17         14406.41       0  \n",
       "18        158684.81       0  \n",
       "19         54724.03       0  \n",
       "20        170886.17       0  \n",
       "21        138555.46       0  \n",
       "22        118913.53       1  \n",
       "23          8487.75       0  \n",
       "24        187616.16       0  \n",
       "25        124508.29       0  \n",
       "26        170041.95       0  \n",
       "27         38433.35       0  \n",
       "28        100187.43       0  \n",
       "29         53483.21       0  "
      ],
      "text/html": [
       "<div>\n",
       "<style scoped>\n",
       "    .dataframe tbody tr th:only-of-type {\n",
       "        vertical-align: middle;\n",
       "    }\n",
       "\n",
       "    .dataframe tbody tr th {\n",
       "        vertical-align: top;\n",
       "    }\n",
       "\n",
       "    .dataframe thead th {\n",
       "        text-align: right;\n",
       "    }\n",
       "</style>\n",
       "<table border=\"1\" class=\"dataframe\">\n",
       "  <thead>\n",
       "    <tr style=\"text-align: right;\">\n",
       "      <th></th>\n",
       "      <th>RowNumber</th>\n",
       "      <th>CustomerId</th>\n",
       "      <th>Surname</th>\n",
       "      <th>CreditScore</th>\n",
       "      <th>Geography</th>\n",
       "      <th>Gender</th>\n",
       "      <th>Age</th>\n",
       "      <th>Tenure</th>\n",
       "      <th>Balance</th>\n",
       "      <th>NumOfProducts</th>\n",
       "      <th>HasCrCard</th>\n",
       "      <th>IsActiveMember</th>\n",
       "      <th>EstimatedSalary</th>\n",
       "      <th>Exited</th>\n",
       "    </tr>\n",
       "  </thead>\n",
       "  <tbody>\n",
       "    <tr>\n",
       "      <th>0</th>\n",
       "      <td>1</td>\n",
       "      <td>15634602</td>\n",
       "      <td>Hargrave</td>\n",
       "      <td>619</td>\n",
       "      <td>France</td>\n",
       "      <td>Female</td>\n",
       "      <td>42</td>\n",
       "      <td>2</td>\n",
       "      <td>0.00</td>\n",
       "      <td>1</td>\n",
       "      <td>1</td>\n",
       "      <td>1</td>\n",
       "      <td>101348.88</td>\n",
       "      <td>1</td>\n",
       "    </tr>\n",
       "    <tr>\n",
       "      <th>1</th>\n",
       "      <td>2</td>\n",
       "      <td>15647311</td>\n",
       "      <td>Hill</td>\n",
       "      <td>608</td>\n",
       "      <td>Spain</td>\n",
       "      <td>Female</td>\n",
       "      <td>41</td>\n",
       "      <td>1</td>\n",
       "      <td>83807.86</td>\n",
       "      <td>1</td>\n",
       "      <td>0</td>\n",
       "      <td>1</td>\n",
       "      <td>112542.58</td>\n",
       "      <td>0</td>\n",
       "    </tr>\n",
       "    <tr>\n",
       "      <th>2</th>\n",
       "      <td>3</td>\n",
       "      <td>15619304</td>\n",
       "      <td>Onio</td>\n",
       "      <td>502</td>\n",
       "      <td>France</td>\n",
       "      <td>Female</td>\n",
       "      <td>42</td>\n",
       "      <td>8</td>\n",
       "      <td>159660.80</td>\n",
       "      <td>3</td>\n",
       "      <td>1</td>\n",
       "      <td>0</td>\n",
       "      <td>113931.57</td>\n",
       "      <td>1</td>\n",
       "    </tr>\n",
       "    <tr>\n",
       "      <th>3</th>\n",
       "      <td>4</td>\n",
       "      <td>15701354</td>\n",
       "      <td>Boni</td>\n",
       "      <td>699</td>\n",
       "      <td>France</td>\n",
       "      <td>Female</td>\n",
       "      <td>39</td>\n",
       "      <td>1</td>\n",
       "      <td>0.00</td>\n",
       "      <td>2</td>\n",
       "      <td>0</td>\n",
       "      <td>0</td>\n",
       "      <td>93826.63</td>\n",
       "      <td>0</td>\n",
       "    </tr>\n",
       "    <tr>\n",
       "      <th>4</th>\n",
       "      <td>5</td>\n",
       "      <td>15737888</td>\n",
       "      <td>Mitchell</td>\n",
       "      <td>850</td>\n",
       "      <td>Spain</td>\n",
       "      <td>Female</td>\n",
       "      <td>43</td>\n",
       "      <td>2</td>\n",
       "      <td>125510.82</td>\n",
       "      <td>1</td>\n",
       "      <td>1</td>\n",
       "      <td>1</td>\n",
       "      <td>79084.10</td>\n",
       "      <td>0</td>\n",
       "    </tr>\n",
       "    <tr>\n",
       "      <th>5</th>\n",
       "      <td>6</td>\n",
       "      <td>15574012</td>\n",
       "      <td>Chu</td>\n",
       "      <td>645</td>\n",
       "      <td>Spain</td>\n",
       "      <td>Male</td>\n",
       "      <td>44</td>\n",
       "      <td>8</td>\n",
       "      <td>113755.78</td>\n",
       "      <td>2</td>\n",
       "      <td>1</td>\n",
       "      <td>0</td>\n",
       "      <td>149756.71</td>\n",
       "      <td>1</td>\n",
       "    </tr>\n",
       "    <tr>\n",
       "      <th>6</th>\n",
       "      <td>7</td>\n",
       "      <td>15592531</td>\n",
       "      <td>Bartlett</td>\n",
       "      <td>822</td>\n",
       "      <td>France</td>\n",
       "      <td>Male</td>\n",
       "      <td>50</td>\n",
       "      <td>7</td>\n",
       "      <td>0.00</td>\n",
       "      <td>2</td>\n",
       "      <td>1</td>\n",
       "      <td>1</td>\n",
       "      <td>10062.80</td>\n",
       "      <td>0</td>\n",
       "    </tr>\n",
       "    <tr>\n",
       "      <th>7</th>\n",
       "      <td>8</td>\n",
       "      <td>15656148</td>\n",
       "      <td>Obinna</td>\n",
       "      <td>376</td>\n",
       "      <td>Germany</td>\n",
       "      <td>Female</td>\n",
       "      <td>29</td>\n",
       "      <td>4</td>\n",
       "      <td>115046.74</td>\n",
       "      <td>4</td>\n",
       "      <td>1</td>\n",
       "      <td>0</td>\n",
       "      <td>119346.88</td>\n",
       "      <td>1</td>\n",
       "    </tr>\n",
       "    <tr>\n",
       "      <th>8</th>\n",
       "      <td>9</td>\n",
       "      <td>15792365</td>\n",
       "      <td>He</td>\n",
       "      <td>501</td>\n",
       "      <td>France</td>\n",
       "      <td>Male</td>\n",
       "      <td>44</td>\n",
       "      <td>4</td>\n",
       "      <td>142051.07</td>\n",
       "      <td>2</td>\n",
       "      <td>0</td>\n",
       "      <td>1</td>\n",
       "      <td>74940.50</td>\n",
       "      <td>0</td>\n",
       "    </tr>\n",
       "    <tr>\n",
       "      <th>9</th>\n",
       "      <td>10</td>\n",
       "      <td>15592389</td>\n",
       "      <td>H?</td>\n",
       "      <td>684</td>\n",
       "      <td>France</td>\n",
       "      <td>Male</td>\n",
       "      <td>27</td>\n",
       "      <td>2</td>\n",
       "      <td>134603.88</td>\n",
       "      <td>1</td>\n",
       "      <td>1</td>\n",
       "      <td>1</td>\n",
       "      <td>71725.73</td>\n",
       "      <td>0</td>\n",
       "    </tr>\n",
       "    <tr>\n",
       "      <th>10</th>\n",
       "      <td>11</td>\n",
       "      <td>15767821</td>\n",
       "      <td>Bearce</td>\n",
       "      <td>528</td>\n",
       "      <td>France</td>\n",
       "      <td>Male</td>\n",
       "      <td>31</td>\n",
       "      <td>6</td>\n",
       "      <td>102016.72</td>\n",
       "      <td>2</td>\n",
       "      <td>0</td>\n",
       "      <td>0</td>\n",
       "      <td>80181.12</td>\n",
       "      <td>0</td>\n",
       "    </tr>\n",
       "    <tr>\n",
       "      <th>11</th>\n",
       "      <td>12</td>\n",
       "      <td>15737173</td>\n",
       "      <td>Andrews</td>\n",
       "      <td>497</td>\n",
       "      <td>Spain</td>\n",
       "      <td>Male</td>\n",
       "      <td>24</td>\n",
       "      <td>3</td>\n",
       "      <td>0.00</td>\n",
       "      <td>2</td>\n",
       "      <td>1</td>\n",
       "      <td>0</td>\n",
       "      <td>76390.01</td>\n",
       "      <td>0</td>\n",
       "    </tr>\n",
       "    <tr>\n",
       "      <th>12</th>\n",
       "      <td>13</td>\n",
       "      <td>15632264</td>\n",
       "      <td>Kay</td>\n",
       "      <td>476</td>\n",
       "      <td>France</td>\n",
       "      <td>Female</td>\n",
       "      <td>34</td>\n",
       "      <td>10</td>\n",
       "      <td>0.00</td>\n",
       "      <td>2</td>\n",
       "      <td>1</td>\n",
       "      <td>0</td>\n",
       "      <td>26260.98</td>\n",
       "      <td>0</td>\n",
       "    </tr>\n",
       "    <tr>\n",
       "      <th>13</th>\n",
       "      <td>14</td>\n",
       "      <td>15691483</td>\n",
       "      <td>Chin</td>\n",
       "      <td>549</td>\n",
       "      <td>France</td>\n",
       "      <td>Female</td>\n",
       "      <td>25</td>\n",
       "      <td>5</td>\n",
       "      <td>0.00</td>\n",
       "      <td>2</td>\n",
       "      <td>0</td>\n",
       "      <td>0</td>\n",
       "      <td>190857.79</td>\n",
       "      <td>0</td>\n",
       "    </tr>\n",
       "    <tr>\n",
       "      <th>14</th>\n",
       "      <td>15</td>\n",
       "      <td>15600882</td>\n",
       "      <td>Scott</td>\n",
       "      <td>635</td>\n",
       "      <td>Spain</td>\n",
       "      <td>Female</td>\n",
       "      <td>35</td>\n",
       "      <td>7</td>\n",
       "      <td>0.00</td>\n",
       "      <td>2</td>\n",
       "      <td>1</td>\n",
       "      <td>1</td>\n",
       "      <td>65951.65</td>\n",
       "      <td>0</td>\n",
       "    </tr>\n",
       "    <tr>\n",
       "      <th>15</th>\n",
       "      <td>16</td>\n",
       "      <td>15643966</td>\n",
       "      <td>Goforth</td>\n",
       "      <td>616</td>\n",
       "      <td>Germany</td>\n",
       "      <td>Male</td>\n",
       "      <td>45</td>\n",
       "      <td>3</td>\n",
       "      <td>143129.41</td>\n",
       "      <td>2</td>\n",
       "      <td>0</td>\n",
       "      <td>1</td>\n",
       "      <td>64327.26</td>\n",
       "      <td>0</td>\n",
       "    </tr>\n",
       "    <tr>\n",
       "      <th>16</th>\n",
       "      <td>17</td>\n",
       "      <td>15737452</td>\n",
       "      <td>Romeo</td>\n",
       "      <td>653</td>\n",
       "      <td>Germany</td>\n",
       "      <td>Male</td>\n",
       "      <td>58</td>\n",
       "      <td>1</td>\n",
       "      <td>132602.88</td>\n",
       "      <td>1</td>\n",
       "      <td>1</td>\n",
       "      <td>0</td>\n",
       "      <td>5097.67</td>\n",
       "      <td>1</td>\n",
       "    </tr>\n",
       "    <tr>\n",
       "      <th>17</th>\n",
       "      <td>18</td>\n",
       "      <td>15788218</td>\n",
       "      <td>Henderson</td>\n",
       "      <td>549</td>\n",
       "      <td>Spain</td>\n",
       "      <td>Female</td>\n",
       "      <td>24</td>\n",
       "      <td>9</td>\n",
       "      <td>0.00</td>\n",
       "      <td>2</td>\n",
       "      <td>1</td>\n",
       "      <td>1</td>\n",
       "      <td>14406.41</td>\n",
       "      <td>0</td>\n",
       "    </tr>\n",
       "    <tr>\n",
       "      <th>18</th>\n",
       "      <td>19</td>\n",
       "      <td>15661507</td>\n",
       "      <td>Muldrow</td>\n",
       "      <td>587</td>\n",
       "      <td>Spain</td>\n",
       "      <td>Male</td>\n",
       "      <td>45</td>\n",
       "      <td>6</td>\n",
       "      <td>0.00</td>\n",
       "      <td>1</td>\n",
       "      <td>0</td>\n",
       "      <td>0</td>\n",
       "      <td>158684.81</td>\n",
       "      <td>0</td>\n",
       "    </tr>\n",
       "    <tr>\n",
       "      <th>19</th>\n",
       "      <td>20</td>\n",
       "      <td>15568982</td>\n",
       "      <td>Hao</td>\n",
       "      <td>726</td>\n",
       "      <td>France</td>\n",
       "      <td>Female</td>\n",
       "      <td>24</td>\n",
       "      <td>6</td>\n",
       "      <td>0.00</td>\n",
       "      <td>2</td>\n",
       "      <td>1</td>\n",
       "      <td>1</td>\n",
       "      <td>54724.03</td>\n",
       "      <td>0</td>\n",
       "    </tr>\n",
       "    <tr>\n",
       "      <th>20</th>\n",
       "      <td>21</td>\n",
       "      <td>15577657</td>\n",
       "      <td>McDonald</td>\n",
       "      <td>732</td>\n",
       "      <td>France</td>\n",
       "      <td>Male</td>\n",
       "      <td>41</td>\n",
       "      <td>8</td>\n",
       "      <td>0.00</td>\n",
       "      <td>2</td>\n",
       "      <td>1</td>\n",
       "      <td>1</td>\n",
       "      <td>170886.17</td>\n",
       "      <td>0</td>\n",
       "    </tr>\n",
       "    <tr>\n",
       "      <th>21</th>\n",
       "      <td>22</td>\n",
       "      <td>15597945</td>\n",
       "      <td>Dellucci</td>\n",
       "      <td>636</td>\n",
       "      <td>Spain</td>\n",
       "      <td>Female</td>\n",
       "      <td>32</td>\n",
       "      <td>8</td>\n",
       "      <td>0.00</td>\n",
       "      <td>2</td>\n",
       "      <td>1</td>\n",
       "      <td>0</td>\n",
       "      <td>138555.46</td>\n",
       "      <td>0</td>\n",
       "    </tr>\n",
       "    <tr>\n",
       "      <th>22</th>\n",
       "      <td>23</td>\n",
       "      <td>15699309</td>\n",
       "      <td>Gerasimov</td>\n",
       "      <td>510</td>\n",
       "      <td>Spain</td>\n",
       "      <td>Female</td>\n",
       "      <td>38</td>\n",
       "      <td>4</td>\n",
       "      <td>0.00</td>\n",
       "      <td>1</td>\n",
       "      <td>1</td>\n",
       "      <td>0</td>\n",
       "      <td>118913.53</td>\n",
       "      <td>1</td>\n",
       "    </tr>\n",
       "    <tr>\n",
       "      <th>23</th>\n",
       "      <td>24</td>\n",
       "      <td>15725737</td>\n",
       "      <td>Mosman</td>\n",
       "      <td>669</td>\n",
       "      <td>France</td>\n",
       "      <td>Male</td>\n",
       "      <td>46</td>\n",
       "      <td>3</td>\n",
       "      <td>0.00</td>\n",
       "      <td>2</td>\n",
       "      <td>0</td>\n",
       "      <td>1</td>\n",
       "      <td>8487.75</td>\n",
       "      <td>0</td>\n",
       "    </tr>\n",
       "    <tr>\n",
       "      <th>24</th>\n",
       "      <td>25</td>\n",
       "      <td>15625047</td>\n",
       "      <td>Yen</td>\n",
       "      <td>846</td>\n",
       "      <td>France</td>\n",
       "      <td>Female</td>\n",
       "      <td>38</td>\n",
       "      <td>5</td>\n",
       "      <td>0.00</td>\n",
       "      <td>1</td>\n",
       "      <td>1</td>\n",
       "      <td>1</td>\n",
       "      <td>187616.16</td>\n",
       "      <td>0</td>\n",
       "    </tr>\n",
       "    <tr>\n",
       "      <th>25</th>\n",
       "      <td>26</td>\n",
       "      <td>15738191</td>\n",
       "      <td>Maclean</td>\n",
       "      <td>577</td>\n",
       "      <td>France</td>\n",
       "      <td>Male</td>\n",
       "      <td>25</td>\n",
       "      <td>3</td>\n",
       "      <td>0.00</td>\n",
       "      <td>2</td>\n",
       "      <td>0</td>\n",
       "      <td>1</td>\n",
       "      <td>124508.29</td>\n",
       "      <td>0</td>\n",
       "    </tr>\n",
       "    <tr>\n",
       "      <th>26</th>\n",
       "      <td>27</td>\n",
       "      <td>15736816</td>\n",
       "      <td>Young</td>\n",
       "      <td>756</td>\n",
       "      <td>Germany</td>\n",
       "      <td>Male</td>\n",
       "      <td>36</td>\n",
       "      <td>2</td>\n",
       "      <td>136815.64</td>\n",
       "      <td>1</td>\n",
       "      <td>1</td>\n",
       "      <td>1</td>\n",
       "      <td>170041.95</td>\n",
       "      <td>0</td>\n",
       "    </tr>\n",
       "    <tr>\n",
       "      <th>27</th>\n",
       "      <td>28</td>\n",
       "      <td>15700772</td>\n",
       "      <td>Nebechi</td>\n",
       "      <td>571</td>\n",
       "      <td>France</td>\n",
       "      <td>Male</td>\n",
       "      <td>44</td>\n",
       "      <td>9</td>\n",
       "      <td>0.00</td>\n",
       "      <td>2</td>\n",
       "      <td>0</td>\n",
       "      <td>0</td>\n",
       "      <td>38433.35</td>\n",
       "      <td>0</td>\n",
       "    </tr>\n",
       "    <tr>\n",
       "      <th>28</th>\n",
       "      <td>29</td>\n",
       "      <td>15728693</td>\n",
       "      <td>McWilliams</td>\n",
       "      <td>574</td>\n",
       "      <td>Germany</td>\n",
       "      <td>Female</td>\n",
       "      <td>43</td>\n",
       "      <td>3</td>\n",
       "      <td>141349.43</td>\n",
       "      <td>1</td>\n",
       "      <td>1</td>\n",
       "      <td>1</td>\n",
       "      <td>100187.43</td>\n",
       "      <td>0</td>\n",
       "    </tr>\n",
       "    <tr>\n",
       "      <th>29</th>\n",
       "      <td>30</td>\n",
       "      <td>15656300</td>\n",
       "      <td>Lucciano</td>\n",
       "      <td>411</td>\n",
       "      <td>France</td>\n",
       "      <td>Male</td>\n",
       "      <td>29</td>\n",
       "      <td>0</td>\n",
       "      <td>59697.17</td>\n",
       "      <td>2</td>\n",
       "      <td>1</td>\n",
       "      <td>1</td>\n",
       "      <td>53483.21</td>\n",
       "      <td>0</td>\n",
       "    </tr>\n",
       "  </tbody>\n",
       "</table>\n",
       "</div>"
      ]
     },
     "execution_count": 96,
     "metadata": {},
     "output_type": "execute_result"
    }
   ],
   "execution_count": 96
  },
  {
   "cell_type": "code",
   "id": "397f070e",
   "metadata": {
    "ExecuteTime": {
     "end_time": "2025-10-04T18:13:18.154954Z",
     "start_time": "2025-10-04T18:13:18.108932Z"
    }
   },
   "source": [
    "\n",
    "del dft13, churn_full_files\n",
    "gc.collect()"
   ],
   "outputs": [
    {
     "data": {
      "text/plain": [
       "12"
      ]
     },
     "execution_count": 97,
     "metadata": {},
     "output_type": "execute_result"
    }
   ],
   "execution_count": 97
  },
  {
   "cell_type": "markdown",
   "id": "8318a84fd3e6c490",
   "metadata": {},
   "source": [
    "### **Trick 14 - نحوه فیلتر نمودن دیتافریم بر اساس محتوا در Pandas**"
   ]
  },
  {
   "cell_type": "code",
   "id": "da49242831fd6fe6",
   "metadata": {
    "ExecuteTime": {
     "end_time": "2025-10-04T18:13:18.388645Z",
     "start_time": "2025-10-04T18:13:18.369835Z"
    }
   },
   "source": [
    "dft14 = pd.read_csv('../../00 DATA/Churn_Modelling.csv')\n",
    "dft14"
   ],
   "outputs": [
    {
     "data": {
      "text/plain": [
       "      RowNumber  CustomerId    Surname  CreditScore Geography  Gender  Age  \\\n",
       "0             1    15634602   Hargrave          619    France  Female   42   \n",
       "1             2    15647311       Hill          608     Spain  Female   41   \n",
       "2             3    15619304       Onio          502    France  Female   42   \n",
       "3             4    15701354       Boni          699    France  Female   39   \n",
       "4             5    15737888   Mitchell          850     Spain  Female   43   \n",
       "...         ...         ...        ...          ...       ...     ...  ...   \n",
       "9995       9996    15606229   Obijiaku          771    France    Male   39   \n",
       "9996       9997    15569892  Johnstone          516    France    Male   35   \n",
       "9997       9998    15584532        Liu          709    France  Female   36   \n",
       "9998       9999    15682355  Sabbatini          772   Germany    Male   42   \n",
       "9999      10000    15628319     Walker          792    France  Female   28   \n",
       "\n",
       "      Tenure    Balance  NumOfProducts  HasCrCard  IsActiveMember  \\\n",
       "0          2       0.00              1          1               1   \n",
       "1          1   83807.86              1          0               1   \n",
       "2          8  159660.80              3          1               0   \n",
       "3          1       0.00              2          0               0   \n",
       "4          2  125510.82              1          1               1   \n",
       "...      ...        ...            ...        ...             ...   \n",
       "9995       5       0.00              2          1               0   \n",
       "9996      10   57369.61              1          1               1   \n",
       "9997       7       0.00              1          0               1   \n",
       "9998       3   75075.31              2          1               0   \n",
       "9999       4  130142.79              1          1               0   \n",
       "\n",
       "      EstimatedSalary  Exited  \n",
       "0           101348.88       1  \n",
       "1           112542.58       0  \n",
       "2           113931.57       1  \n",
       "3            93826.63       0  \n",
       "4            79084.10       0  \n",
       "...               ...     ...  \n",
       "9995         96270.64       0  \n",
       "9996        101699.77       0  \n",
       "9997         42085.58       1  \n",
       "9998         92888.52       1  \n",
       "9999         38190.78       0  \n",
       "\n",
       "[10000 rows x 14 columns]"
      ],
      "text/html": [
       "<div>\n",
       "<style scoped>\n",
       "    .dataframe tbody tr th:only-of-type {\n",
       "        vertical-align: middle;\n",
       "    }\n",
       "\n",
       "    .dataframe tbody tr th {\n",
       "        vertical-align: top;\n",
       "    }\n",
       "\n",
       "    .dataframe thead th {\n",
       "        text-align: right;\n",
       "    }\n",
       "</style>\n",
       "<table border=\"1\" class=\"dataframe\">\n",
       "  <thead>\n",
       "    <tr style=\"text-align: right;\">\n",
       "      <th></th>\n",
       "      <th>RowNumber</th>\n",
       "      <th>CustomerId</th>\n",
       "      <th>Surname</th>\n",
       "      <th>CreditScore</th>\n",
       "      <th>Geography</th>\n",
       "      <th>Gender</th>\n",
       "      <th>Age</th>\n",
       "      <th>Tenure</th>\n",
       "      <th>Balance</th>\n",
       "      <th>NumOfProducts</th>\n",
       "      <th>HasCrCard</th>\n",
       "      <th>IsActiveMember</th>\n",
       "      <th>EstimatedSalary</th>\n",
       "      <th>Exited</th>\n",
       "    </tr>\n",
       "  </thead>\n",
       "  <tbody>\n",
       "    <tr>\n",
       "      <th>0</th>\n",
       "      <td>1</td>\n",
       "      <td>15634602</td>\n",
       "      <td>Hargrave</td>\n",
       "      <td>619</td>\n",
       "      <td>France</td>\n",
       "      <td>Female</td>\n",
       "      <td>42</td>\n",
       "      <td>2</td>\n",
       "      <td>0.00</td>\n",
       "      <td>1</td>\n",
       "      <td>1</td>\n",
       "      <td>1</td>\n",
       "      <td>101348.88</td>\n",
       "      <td>1</td>\n",
       "    </tr>\n",
       "    <tr>\n",
       "      <th>1</th>\n",
       "      <td>2</td>\n",
       "      <td>15647311</td>\n",
       "      <td>Hill</td>\n",
       "      <td>608</td>\n",
       "      <td>Spain</td>\n",
       "      <td>Female</td>\n",
       "      <td>41</td>\n",
       "      <td>1</td>\n",
       "      <td>83807.86</td>\n",
       "      <td>1</td>\n",
       "      <td>0</td>\n",
       "      <td>1</td>\n",
       "      <td>112542.58</td>\n",
       "      <td>0</td>\n",
       "    </tr>\n",
       "    <tr>\n",
       "      <th>2</th>\n",
       "      <td>3</td>\n",
       "      <td>15619304</td>\n",
       "      <td>Onio</td>\n",
       "      <td>502</td>\n",
       "      <td>France</td>\n",
       "      <td>Female</td>\n",
       "      <td>42</td>\n",
       "      <td>8</td>\n",
       "      <td>159660.80</td>\n",
       "      <td>3</td>\n",
       "      <td>1</td>\n",
       "      <td>0</td>\n",
       "      <td>113931.57</td>\n",
       "      <td>1</td>\n",
       "    </tr>\n",
       "    <tr>\n",
       "      <th>3</th>\n",
       "      <td>4</td>\n",
       "      <td>15701354</td>\n",
       "      <td>Boni</td>\n",
       "      <td>699</td>\n",
       "      <td>France</td>\n",
       "      <td>Female</td>\n",
       "      <td>39</td>\n",
       "      <td>1</td>\n",
       "      <td>0.00</td>\n",
       "      <td>2</td>\n",
       "      <td>0</td>\n",
       "      <td>0</td>\n",
       "      <td>93826.63</td>\n",
       "      <td>0</td>\n",
       "    </tr>\n",
       "    <tr>\n",
       "      <th>4</th>\n",
       "      <td>5</td>\n",
       "      <td>15737888</td>\n",
       "      <td>Mitchell</td>\n",
       "      <td>850</td>\n",
       "      <td>Spain</td>\n",
       "      <td>Female</td>\n",
       "      <td>43</td>\n",
       "      <td>2</td>\n",
       "      <td>125510.82</td>\n",
       "      <td>1</td>\n",
       "      <td>1</td>\n",
       "      <td>1</td>\n",
       "      <td>79084.10</td>\n",
       "      <td>0</td>\n",
       "    </tr>\n",
       "    <tr>\n",
       "      <th>...</th>\n",
       "      <td>...</td>\n",
       "      <td>...</td>\n",
       "      <td>...</td>\n",
       "      <td>...</td>\n",
       "      <td>...</td>\n",
       "      <td>...</td>\n",
       "      <td>...</td>\n",
       "      <td>...</td>\n",
       "      <td>...</td>\n",
       "      <td>...</td>\n",
       "      <td>...</td>\n",
       "      <td>...</td>\n",
       "      <td>...</td>\n",
       "      <td>...</td>\n",
       "    </tr>\n",
       "    <tr>\n",
       "      <th>9995</th>\n",
       "      <td>9996</td>\n",
       "      <td>15606229</td>\n",
       "      <td>Obijiaku</td>\n",
       "      <td>771</td>\n",
       "      <td>France</td>\n",
       "      <td>Male</td>\n",
       "      <td>39</td>\n",
       "      <td>5</td>\n",
       "      <td>0.00</td>\n",
       "      <td>2</td>\n",
       "      <td>1</td>\n",
       "      <td>0</td>\n",
       "      <td>96270.64</td>\n",
       "      <td>0</td>\n",
       "    </tr>\n",
       "    <tr>\n",
       "      <th>9996</th>\n",
       "      <td>9997</td>\n",
       "      <td>15569892</td>\n",
       "      <td>Johnstone</td>\n",
       "      <td>516</td>\n",
       "      <td>France</td>\n",
       "      <td>Male</td>\n",
       "      <td>35</td>\n",
       "      <td>10</td>\n",
       "      <td>57369.61</td>\n",
       "      <td>1</td>\n",
       "      <td>1</td>\n",
       "      <td>1</td>\n",
       "      <td>101699.77</td>\n",
       "      <td>0</td>\n",
       "    </tr>\n",
       "    <tr>\n",
       "      <th>9997</th>\n",
       "      <td>9998</td>\n",
       "      <td>15584532</td>\n",
       "      <td>Liu</td>\n",
       "      <td>709</td>\n",
       "      <td>France</td>\n",
       "      <td>Female</td>\n",
       "      <td>36</td>\n",
       "      <td>7</td>\n",
       "      <td>0.00</td>\n",
       "      <td>1</td>\n",
       "      <td>0</td>\n",
       "      <td>1</td>\n",
       "      <td>42085.58</td>\n",
       "      <td>1</td>\n",
       "    </tr>\n",
       "    <tr>\n",
       "      <th>9998</th>\n",
       "      <td>9999</td>\n",
       "      <td>15682355</td>\n",
       "      <td>Sabbatini</td>\n",
       "      <td>772</td>\n",
       "      <td>Germany</td>\n",
       "      <td>Male</td>\n",
       "      <td>42</td>\n",
       "      <td>3</td>\n",
       "      <td>75075.31</td>\n",
       "      <td>2</td>\n",
       "      <td>1</td>\n",
       "      <td>0</td>\n",
       "      <td>92888.52</td>\n",
       "      <td>1</td>\n",
       "    </tr>\n",
       "    <tr>\n",
       "      <th>9999</th>\n",
       "      <td>10000</td>\n",
       "      <td>15628319</td>\n",
       "      <td>Walker</td>\n",
       "      <td>792</td>\n",
       "      <td>France</td>\n",
       "      <td>Female</td>\n",
       "      <td>28</td>\n",
       "      <td>4</td>\n",
       "      <td>130142.79</td>\n",
       "      <td>1</td>\n",
       "      <td>1</td>\n",
       "      <td>0</td>\n",
       "      <td>38190.78</td>\n",
       "      <td>0</td>\n",
       "    </tr>\n",
       "  </tbody>\n",
       "</table>\n",
       "<p>10000 rows × 14 columns</p>\n",
       "</div>"
      ]
     },
     "execution_count": 98,
     "metadata": {},
     "output_type": "execute_result"
    }
   ],
   "execution_count": 98
  },
  {
   "cell_type": "code",
   "id": "b960a1233ae052d0",
   "metadata": {
    "ExecuteTime": {
     "end_time": "2025-10-04T18:13:18.576858Z",
     "start_time": "2025-10-04T18:13:18.561868Z"
    }
   },
   "source": [
    "# sample () برای انتخاب رندوم یک یا چند ستون\n",
    "dft14.sample()\n"
   ],
   "outputs": [
    {
     "data": {
      "text/plain": [
       "      RowNumber  CustomerId Surname  CreditScore Geography Gender  Age  \\\n",
       "2134       2135    15610355  Hunter          713    France   Male   44   \n",
       "\n",
       "      Tenure   Balance  NumOfProducts  HasCrCard  IsActiveMember  \\\n",
       "2134       1  63438.91              1          1               0   \n",
       "\n",
       "      EstimatedSalary  Exited  \n",
       "2134          64375.4       0  "
      ],
      "text/html": [
       "<div>\n",
       "<style scoped>\n",
       "    .dataframe tbody tr th:only-of-type {\n",
       "        vertical-align: middle;\n",
       "    }\n",
       "\n",
       "    .dataframe tbody tr th {\n",
       "        vertical-align: top;\n",
       "    }\n",
       "\n",
       "    .dataframe thead th {\n",
       "        text-align: right;\n",
       "    }\n",
       "</style>\n",
       "<table border=\"1\" class=\"dataframe\">\n",
       "  <thead>\n",
       "    <tr style=\"text-align: right;\">\n",
       "      <th></th>\n",
       "      <th>RowNumber</th>\n",
       "      <th>CustomerId</th>\n",
       "      <th>Surname</th>\n",
       "      <th>CreditScore</th>\n",
       "      <th>Geography</th>\n",
       "      <th>Gender</th>\n",
       "      <th>Age</th>\n",
       "      <th>Tenure</th>\n",
       "      <th>Balance</th>\n",
       "      <th>NumOfProducts</th>\n",
       "      <th>HasCrCard</th>\n",
       "      <th>IsActiveMember</th>\n",
       "      <th>EstimatedSalary</th>\n",
       "      <th>Exited</th>\n",
       "    </tr>\n",
       "  </thead>\n",
       "  <tbody>\n",
       "    <tr>\n",
       "      <th>2134</th>\n",
       "      <td>2135</td>\n",
       "      <td>15610355</td>\n",
       "      <td>Hunter</td>\n",
       "      <td>713</td>\n",
       "      <td>France</td>\n",
       "      <td>Male</td>\n",
       "      <td>44</td>\n",
       "      <td>1</td>\n",
       "      <td>63438.91</td>\n",
       "      <td>1</td>\n",
       "      <td>1</td>\n",
       "      <td>0</td>\n",
       "      <td>64375.4</td>\n",
       "      <td>0</td>\n",
       "    </tr>\n",
       "  </tbody>\n",
       "</table>\n",
       "</div>"
      ]
     },
     "execution_count": 99,
     "metadata": {},
     "output_type": "execute_result"
    }
   ],
   "execution_count": 99
  },
  {
   "cell_type": "code",
   "id": "cf5855228b4d924f",
   "metadata": {
    "ExecuteTime": {
     "end_time": "2025-10-04T18:13:18.787933Z",
     "start_time": "2025-10-04T18:13:18.784398Z"
    }
   },
   "source": [
    "# بفهمیم مشتری ها از چه کشورایی هستن\n",
    "dft14.Geography.unique()"
   ],
   "outputs": [
    {
     "data": {
      "text/plain": [
       "array(['France', 'Spain', 'Germany'], dtype=object)"
      ]
     },
     "execution_count": 100,
     "metadata": {},
     "output_type": "execute_result"
    }
   ],
   "execution_count": 100
  },
  {
   "cell_type": "code",
   "id": "539da9efcb62ec34",
   "metadata": {
    "ExecuteTime": {
     "end_time": "2025-10-04T18:13:19.025958Z",
     "start_time": "2025-10-04T18:13:19.021244Z"
    }
   },
   "source": [
    "# بفهمیم تعداد مشتری ها در هر کشو چه قدر هست\n",
    "\n",
    "dft14.Geography.value_counts()"
   ],
   "outputs": [
    {
     "data": {
      "text/plain": [
       "Geography\n",
       "France     5014\n",
       "Germany    2509\n",
       "Spain      2477\n",
       "Name: count, dtype: int64"
      ]
     },
     "execution_count": 101,
     "metadata": {},
     "output_type": "execute_result"
    }
   ],
   "execution_count": 101
  },
  {
   "cell_type": "markdown",
   "id": "dc9275b9c2d00fab",
   "metadata": {},
   "source": [
    "#### a) روش اول"
   ]
  },
  {
   "cell_type": "code",
   "id": "b60e45b8608b7498",
   "metadata": {
    "ExecuteTime": {
     "end_time": "2025-10-04T18:13:19.218698Z",
     "start_time": "2025-10-04T18:13:19.209169Z"
    }
   },
   "source": [
    "dft14[(dft14['Geography']=='France') | (dft14['Geography']=='Spain')]"
   ],
   "outputs": [
    {
     "data": {
      "text/plain": [
       "      RowNumber  CustomerId    Surname  CreditScore Geography  Gender  Age  \\\n",
       "0             1    15634602   Hargrave          619    France  Female   42   \n",
       "1             2    15647311       Hill          608     Spain  Female   41   \n",
       "2             3    15619304       Onio          502    France  Female   42   \n",
       "3             4    15701354       Boni          699    France  Female   39   \n",
       "4             5    15737888   Mitchell          850     Spain  Female   43   \n",
       "...         ...         ...        ...          ...       ...     ...  ...   \n",
       "9994       9995    15719294       Wood          800    France  Female   29   \n",
       "9995       9996    15606229   Obijiaku          771    France    Male   39   \n",
       "9996       9997    15569892  Johnstone          516    France    Male   35   \n",
       "9997       9998    15584532        Liu          709    France  Female   36   \n",
       "9999      10000    15628319     Walker          792    France  Female   28   \n",
       "\n",
       "      Tenure    Balance  NumOfProducts  HasCrCard  IsActiveMember  \\\n",
       "0          2       0.00              1          1               1   \n",
       "1          1   83807.86              1          0               1   \n",
       "2          8  159660.80              3          1               0   \n",
       "3          1       0.00              2          0               0   \n",
       "4          2  125510.82              1          1               1   \n",
       "...      ...        ...            ...        ...             ...   \n",
       "9994       2       0.00              2          0               0   \n",
       "9995       5       0.00              2          1               0   \n",
       "9996      10   57369.61              1          1               1   \n",
       "9997       7       0.00              1          0               1   \n",
       "9999       4  130142.79              1          1               0   \n",
       "\n",
       "      EstimatedSalary  Exited  \n",
       "0           101348.88       1  \n",
       "1           112542.58       0  \n",
       "2           113931.57       1  \n",
       "3            93826.63       0  \n",
       "4            79084.10       0  \n",
       "...               ...     ...  \n",
       "9994        167773.55       0  \n",
       "9995         96270.64       0  \n",
       "9996        101699.77       0  \n",
       "9997         42085.58       1  \n",
       "9999         38190.78       0  \n",
       "\n",
       "[7491 rows x 14 columns]"
      ],
      "text/html": [
       "<div>\n",
       "<style scoped>\n",
       "    .dataframe tbody tr th:only-of-type {\n",
       "        vertical-align: middle;\n",
       "    }\n",
       "\n",
       "    .dataframe tbody tr th {\n",
       "        vertical-align: top;\n",
       "    }\n",
       "\n",
       "    .dataframe thead th {\n",
       "        text-align: right;\n",
       "    }\n",
       "</style>\n",
       "<table border=\"1\" class=\"dataframe\">\n",
       "  <thead>\n",
       "    <tr style=\"text-align: right;\">\n",
       "      <th></th>\n",
       "      <th>RowNumber</th>\n",
       "      <th>CustomerId</th>\n",
       "      <th>Surname</th>\n",
       "      <th>CreditScore</th>\n",
       "      <th>Geography</th>\n",
       "      <th>Gender</th>\n",
       "      <th>Age</th>\n",
       "      <th>Tenure</th>\n",
       "      <th>Balance</th>\n",
       "      <th>NumOfProducts</th>\n",
       "      <th>HasCrCard</th>\n",
       "      <th>IsActiveMember</th>\n",
       "      <th>EstimatedSalary</th>\n",
       "      <th>Exited</th>\n",
       "    </tr>\n",
       "  </thead>\n",
       "  <tbody>\n",
       "    <tr>\n",
       "      <th>0</th>\n",
       "      <td>1</td>\n",
       "      <td>15634602</td>\n",
       "      <td>Hargrave</td>\n",
       "      <td>619</td>\n",
       "      <td>France</td>\n",
       "      <td>Female</td>\n",
       "      <td>42</td>\n",
       "      <td>2</td>\n",
       "      <td>0.00</td>\n",
       "      <td>1</td>\n",
       "      <td>1</td>\n",
       "      <td>1</td>\n",
       "      <td>101348.88</td>\n",
       "      <td>1</td>\n",
       "    </tr>\n",
       "    <tr>\n",
       "      <th>1</th>\n",
       "      <td>2</td>\n",
       "      <td>15647311</td>\n",
       "      <td>Hill</td>\n",
       "      <td>608</td>\n",
       "      <td>Spain</td>\n",
       "      <td>Female</td>\n",
       "      <td>41</td>\n",
       "      <td>1</td>\n",
       "      <td>83807.86</td>\n",
       "      <td>1</td>\n",
       "      <td>0</td>\n",
       "      <td>1</td>\n",
       "      <td>112542.58</td>\n",
       "      <td>0</td>\n",
       "    </tr>\n",
       "    <tr>\n",
       "      <th>2</th>\n",
       "      <td>3</td>\n",
       "      <td>15619304</td>\n",
       "      <td>Onio</td>\n",
       "      <td>502</td>\n",
       "      <td>France</td>\n",
       "      <td>Female</td>\n",
       "      <td>42</td>\n",
       "      <td>8</td>\n",
       "      <td>159660.80</td>\n",
       "      <td>3</td>\n",
       "      <td>1</td>\n",
       "      <td>0</td>\n",
       "      <td>113931.57</td>\n",
       "      <td>1</td>\n",
       "    </tr>\n",
       "    <tr>\n",
       "      <th>3</th>\n",
       "      <td>4</td>\n",
       "      <td>15701354</td>\n",
       "      <td>Boni</td>\n",
       "      <td>699</td>\n",
       "      <td>France</td>\n",
       "      <td>Female</td>\n",
       "      <td>39</td>\n",
       "      <td>1</td>\n",
       "      <td>0.00</td>\n",
       "      <td>2</td>\n",
       "      <td>0</td>\n",
       "      <td>0</td>\n",
       "      <td>93826.63</td>\n",
       "      <td>0</td>\n",
       "    </tr>\n",
       "    <tr>\n",
       "      <th>4</th>\n",
       "      <td>5</td>\n",
       "      <td>15737888</td>\n",
       "      <td>Mitchell</td>\n",
       "      <td>850</td>\n",
       "      <td>Spain</td>\n",
       "      <td>Female</td>\n",
       "      <td>43</td>\n",
       "      <td>2</td>\n",
       "      <td>125510.82</td>\n",
       "      <td>1</td>\n",
       "      <td>1</td>\n",
       "      <td>1</td>\n",
       "      <td>79084.10</td>\n",
       "      <td>0</td>\n",
       "    </tr>\n",
       "    <tr>\n",
       "      <th>...</th>\n",
       "      <td>...</td>\n",
       "      <td>...</td>\n",
       "      <td>...</td>\n",
       "      <td>...</td>\n",
       "      <td>...</td>\n",
       "      <td>...</td>\n",
       "      <td>...</td>\n",
       "      <td>...</td>\n",
       "      <td>...</td>\n",
       "      <td>...</td>\n",
       "      <td>...</td>\n",
       "      <td>...</td>\n",
       "      <td>...</td>\n",
       "      <td>...</td>\n",
       "    </tr>\n",
       "    <tr>\n",
       "      <th>9994</th>\n",
       "      <td>9995</td>\n",
       "      <td>15719294</td>\n",
       "      <td>Wood</td>\n",
       "      <td>800</td>\n",
       "      <td>France</td>\n",
       "      <td>Female</td>\n",
       "      <td>29</td>\n",
       "      <td>2</td>\n",
       "      <td>0.00</td>\n",
       "      <td>2</td>\n",
       "      <td>0</td>\n",
       "      <td>0</td>\n",
       "      <td>167773.55</td>\n",
       "      <td>0</td>\n",
       "    </tr>\n",
       "    <tr>\n",
       "      <th>9995</th>\n",
       "      <td>9996</td>\n",
       "      <td>15606229</td>\n",
       "      <td>Obijiaku</td>\n",
       "      <td>771</td>\n",
       "      <td>France</td>\n",
       "      <td>Male</td>\n",
       "      <td>39</td>\n",
       "      <td>5</td>\n",
       "      <td>0.00</td>\n",
       "      <td>2</td>\n",
       "      <td>1</td>\n",
       "      <td>0</td>\n",
       "      <td>96270.64</td>\n",
       "      <td>0</td>\n",
       "    </tr>\n",
       "    <tr>\n",
       "      <th>9996</th>\n",
       "      <td>9997</td>\n",
       "      <td>15569892</td>\n",
       "      <td>Johnstone</td>\n",
       "      <td>516</td>\n",
       "      <td>France</td>\n",
       "      <td>Male</td>\n",
       "      <td>35</td>\n",
       "      <td>10</td>\n",
       "      <td>57369.61</td>\n",
       "      <td>1</td>\n",
       "      <td>1</td>\n",
       "      <td>1</td>\n",
       "      <td>101699.77</td>\n",
       "      <td>0</td>\n",
       "    </tr>\n",
       "    <tr>\n",
       "      <th>9997</th>\n",
       "      <td>9998</td>\n",
       "      <td>15584532</td>\n",
       "      <td>Liu</td>\n",
       "      <td>709</td>\n",
       "      <td>France</td>\n",
       "      <td>Female</td>\n",
       "      <td>36</td>\n",
       "      <td>7</td>\n",
       "      <td>0.00</td>\n",
       "      <td>1</td>\n",
       "      <td>0</td>\n",
       "      <td>1</td>\n",
       "      <td>42085.58</td>\n",
       "      <td>1</td>\n",
       "    </tr>\n",
       "    <tr>\n",
       "      <th>9999</th>\n",
       "      <td>10000</td>\n",
       "      <td>15628319</td>\n",
       "      <td>Walker</td>\n",
       "      <td>792</td>\n",
       "      <td>France</td>\n",
       "      <td>Female</td>\n",
       "      <td>28</td>\n",
       "      <td>4</td>\n",
       "      <td>130142.79</td>\n",
       "      <td>1</td>\n",
       "      <td>1</td>\n",
       "      <td>0</td>\n",
       "      <td>38190.78</td>\n",
       "      <td>0</td>\n",
       "    </tr>\n",
       "  </tbody>\n",
       "</table>\n",
       "<p>7491 rows × 14 columns</p>\n",
       "</div>"
      ]
     },
     "execution_count": 102,
     "metadata": {},
     "output_type": "execute_result"
    }
   ],
   "execution_count": 102
  },
  {
   "cell_type": "code",
   "id": "7a8a68a0baf1862",
   "metadata": {
    "ExecuteTime": {
     "end_time": "2025-10-04T18:13:19.463478Z",
     "start_time": "2025-10-04T18:13:19.460379Z"
    }
   },
   "source": [
    "# این کد کار نمیکنه\n",
    "#dft14[(dft14['Geography']=='France') & (dft14['Gender'] == 'male') ].sample(10)"
   ],
   "outputs": [],
   "execution_count": 103
  },
  {
   "cell_type": "markdown",
   "id": "381a924f45b4b644",
   "metadata": {},
   "source": [
    "#### b) روش دوم"
   ]
  },
  {
   "cell_type": "code",
   "id": "67052f477563f942",
   "metadata": {
    "ExecuteTime": {
     "end_time": "2025-10-04T18:13:19.663071Z",
     "start_time": "2025-10-04T18:13:19.654716Z"
    }
   },
   "source": [
    "dft14[dft14.Geography.isin(['France','Spain'])]"
   ],
   "outputs": [
    {
     "data": {
      "text/plain": [
       "      RowNumber  CustomerId    Surname  CreditScore Geography  Gender  Age  \\\n",
       "0             1    15634602   Hargrave          619    France  Female   42   \n",
       "1             2    15647311       Hill          608     Spain  Female   41   \n",
       "2             3    15619304       Onio          502    France  Female   42   \n",
       "3             4    15701354       Boni          699    France  Female   39   \n",
       "4             5    15737888   Mitchell          850     Spain  Female   43   \n",
       "...         ...         ...        ...          ...       ...     ...  ...   \n",
       "9994       9995    15719294       Wood          800    France  Female   29   \n",
       "9995       9996    15606229   Obijiaku          771    France    Male   39   \n",
       "9996       9997    15569892  Johnstone          516    France    Male   35   \n",
       "9997       9998    15584532        Liu          709    France  Female   36   \n",
       "9999      10000    15628319     Walker          792    France  Female   28   \n",
       "\n",
       "      Tenure    Balance  NumOfProducts  HasCrCard  IsActiveMember  \\\n",
       "0          2       0.00              1          1               1   \n",
       "1          1   83807.86              1          0               1   \n",
       "2          8  159660.80              3          1               0   \n",
       "3          1       0.00              2          0               0   \n",
       "4          2  125510.82              1          1               1   \n",
       "...      ...        ...            ...        ...             ...   \n",
       "9994       2       0.00              2          0               0   \n",
       "9995       5       0.00              2          1               0   \n",
       "9996      10   57369.61              1          1               1   \n",
       "9997       7       0.00              1          0               1   \n",
       "9999       4  130142.79              1          1               0   \n",
       "\n",
       "      EstimatedSalary  Exited  \n",
       "0           101348.88       1  \n",
       "1           112542.58       0  \n",
       "2           113931.57       1  \n",
       "3            93826.63       0  \n",
       "4            79084.10       0  \n",
       "...               ...     ...  \n",
       "9994        167773.55       0  \n",
       "9995         96270.64       0  \n",
       "9996        101699.77       0  \n",
       "9997         42085.58       1  \n",
       "9999         38190.78       0  \n",
       "\n",
       "[7491 rows x 14 columns]"
      ],
      "text/html": [
       "<div>\n",
       "<style scoped>\n",
       "    .dataframe tbody tr th:only-of-type {\n",
       "        vertical-align: middle;\n",
       "    }\n",
       "\n",
       "    .dataframe tbody tr th {\n",
       "        vertical-align: top;\n",
       "    }\n",
       "\n",
       "    .dataframe thead th {\n",
       "        text-align: right;\n",
       "    }\n",
       "</style>\n",
       "<table border=\"1\" class=\"dataframe\">\n",
       "  <thead>\n",
       "    <tr style=\"text-align: right;\">\n",
       "      <th></th>\n",
       "      <th>RowNumber</th>\n",
       "      <th>CustomerId</th>\n",
       "      <th>Surname</th>\n",
       "      <th>CreditScore</th>\n",
       "      <th>Geography</th>\n",
       "      <th>Gender</th>\n",
       "      <th>Age</th>\n",
       "      <th>Tenure</th>\n",
       "      <th>Balance</th>\n",
       "      <th>NumOfProducts</th>\n",
       "      <th>HasCrCard</th>\n",
       "      <th>IsActiveMember</th>\n",
       "      <th>EstimatedSalary</th>\n",
       "      <th>Exited</th>\n",
       "    </tr>\n",
       "  </thead>\n",
       "  <tbody>\n",
       "    <tr>\n",
       "      <th>0</th>\n",
       "      <td>1</td>\n",
       "      <td>15634602</td>\n",
       "      <td>Hargrave</td>\n",
       "      <td>619</td>\n",
       "      <td>France</td>\n",
       "      <td>Female</td>\n",
       "      <td>42</td>\n",
       "      <td>2</td>\n",
       "      <td>0.00</td>\n",
       "      <td>1</td>\n",
       "      <td>1</td>\n",
       "      <td>1</td>\n",
       "      <td>101348.88</td>\n",
       "      <td>1</td>\n",
       "    </tr>\n",
       "    <tr>\n",
       "      <th>1</th>\n",
       "      <td>2</td>\n",
       "      <td>15647311</td>\n",
       "      <td>Hill</td>\n",
       "      <td>608</td>\n",
       "      <td>Spain</td>\n",
       "      <td>Female</td>\n",
       "      <td>41</td>\n",
       "      <td>1</td>\n",
       "      <td>83807.86</td>\n",
       "      <td>1</td>\n",
       "      <td>0</td>\n",
       "      <td>1</td>\n",
       "      <td>112542.58</td>\n",
       "      <td>0</td>\n",
       "    </tr>\n",
       "    <tr>\n",
       "      <th>2</th>\n",
       "      <td>3</td>\n",
       "      <td>15619304</td>\n",
       "      <td>Onio</td>\n",
       "      <td>502</td>\n",
       "      <td>France</td>\n",
       "      <td>Female</td>\n",
       "      <td>42</td>\n",
       "      <td>8</td>\n",
       "      <td>159660.80</td>\n",
       "      <td>3</td>\n",
       "      <td>1</td>\n",
       "      <td>0</td>\n",
       "      <td>113931.57</td>\n",
       "      <td>1</td>\n",
       "    </tr>\n",
       "    <tr>\n",
       "      <th>3</th>\n",
       "      <td>4</td>\n",
       "      <td>15701354</td>\n",
       "      <td>Boni</td>\n",
       "      <td>699</td>\n",
       "      <td>France</td>\n",
       "      <td>Female</td>\n",
       "      <td>39</td>\n",
       "      <td>1</td>\n",
       "      <td>0.00</td>\n",
       "      <td>2</td>\n",
       "      <td>0</td>\n",
       "      <td>0</td>\n",
       "      <td>93826.63</td>\n",
       "      <td>0</td>\n",
       "    </tr>\n",
       "    <tr>\n",
       "      <th>4</th>\n",
       "      <td>5</td>\n",
       "      <td>15737888</td>\n",
       "      <td>Mitchell</td>\n",
       "      <td>850</td>\n",
       "      <td>Spain</td>\n",
       "      <td>Female</td>\n",
       "      <td>43</td>\n",
       "      <td>2</td>\n",
       "      <td>125510.82</td>\n",
       "      <td>1</td>\n",
       "      <td>1</td>\n",
       "      <td>1</td>\n",
       "      <td>79084.10</td>\n",
       "      <td>0</td>\n",
       "    </tr>\n",
       "    <tr>\n",
       "      <th>...</th>\n",
       "      <td>...</td>\n",
       "      <td>...</td>\n",
       "      <td>...</td>\n",
       "      <td>...</td>\n",
       "      <td>...</td>\n",
       "      <td>...</td>\n",
       "      <td>...</td>\n",
       "      <td>...</td>\n",
       "      <td>...</td>\n",
       "      <td>...</td>\n",
       "      <td>...</td>\n",
       "      <td>...</td>\n",
       "      <td>...</td>\n",
       "      <td>...</td>\n",
       "    </tr>\n",
       "    <tr>\n",
       "      <th>9994</th>\n",
       "      <td>9995</td>\n",
       "      <td>15719294</td>\n",
       "      <td>Wood</td>\n",
       "      <td>800</td>\n",
       "      <td>France</td>\n",
       "      <td>Female</td>\n",
       "      <td>29</td>\n",
       "      <td>2</td>\n",
       "      <td>0.00</td>\n",
       "      <td>2</td>\n",
       "      <td>0</td>\n",
       "      <td>0</td>\n",
       "      <td>167773.55</td>\n",
       "      <td>0</td>\n",
       "    </tr>\n",
       "    <tr>\n",
       "      <th>9995</th>\n",
       "      <td>9996</td>\n",
       "      <td>15606229</td>\n",
       "      <td>Obijiaku</td>\n",
       "      <td>771</td>\n",
       "      <td>France</td>\n",
       "      <td>Male</td>\n",
       "      <td>39</td>\n",
       "      <td>5</td>\n",
       "      <td>0.00</td>\n",
       "      <td>2</td>\n",
       "      <td>1</td>\n",
       "      <td>0</td>\n",
       "      <td>96270.64</td>\n",
       "      <td>0</td>\n",
       "    </tr>\n",
       "    <tr>\n",
       "      <th>9996</th>\n",
       "      <td>9997</td>\n",
       "      <td>15569892</td>\n",
       "      <td>Johnstone</td>\n",
       "      <td>516</td>\n",
       "      <td>France</td>\n",
       "      <td>Male</td>\n",
       "      <td>35</td>\n",
       "      <td>10</td>\n",
       "      <td>57369.61</td>\n",
       "      <td>1</td>\n",
       "      <td>1</td>\n",
       "      <td>1</td>\n",
       "      <td>101699.77</td>\n",
       "      <td>0</td>\n",
       "    </tr>\n",
       "    <tr>\n",
       "      <th>9997</th>\n",
       "      <td>9998</td>\n",
       "      <td>15584532</td>\n",
       "      <td>Liu</td>\n",
       "      <td>709</td>\n",
       "      <td>France</td>\n",
       "      <td>Female</td>\n",
       "      <td>36</td>\n",
       "      <td>7</td>\n",
       "      <td>0.00</td>\n",
       "      <td>1</td>\n",
       "      <td>0</td>\n",
       "      <td>1</td>\n",
       "      <td>42085.58</td>\n",
       "      <td>1</td>\n",
       "    </tr>\n",
       "    <tr>\n",
       "      <th>9999</th>\n",
       "      <td>10000</td>\n",
       "      <td>15628319</td>\n",
       "      <td>Walker</td>\n",
       "      <td>792</td>\n",
       "      <td>France</td>\n",
       "      <td>Female</td>\n",
       "      <td>28</td>\n",
       "      <td>4</td>\n",
       "      <td>130142.79</td>\n",
       "      <td>1</td>\n",
       "      <td>1</td>\n",
       "      <td>0</td>\n",
       "      <td>38190.78</td>\n",
       "      <td>0</td>\n",
       "    </tr>\n",
       "  </tbody>\n",
       "</table>\n",
       "<p>7491 rows × 14 columns</p>\n",
       "</div>"
      ]
     },
     "execution_count": 104,
     "metadata": {},
     "output_type": "execute_result"
    }
   ],
   "execution_count": 104
  },
  {
   "cell_type": "markdown",
   "id": "92956d49c456f61d",
   "metadata": {},
   "source": [
    "#### c) روش سوم به کمک نات کردن"
   ]
  },
  {
   "cell_type": "code",
   "id": "3211b968b3f68895",
   "metadata": {
    "ExecuteTime": {
     "end_time": "2025-10-04T18:13:19.802423Z",
     "start_time": "2025-10-04T18:13:19.793509Z"
    }
   },
   "source": [
    "dft14[~dft14.Geography.isin(['Germany'])]"
   ],
   "outputs": [
    {
     "data": {
      "text/plain": [
       "      RowNumber  CustomerId    Surname  CreditScore Geography  Gender  Age  \\\n",
       "0             1    15634602   Hargrave          619    France  Female   42   \n",
       "1             2    15647311       Hill          608     Spain  Female   41   \n",
       "2             3    15619304       Onio          502    France  Female   42   \n",
       "3             4    15701354       Boni          699    France  Female   39   \n",
       "4             5    15737888   Mitchell          850     Spain  Female   43   \n",
       "...         ...         ...        ...          ...       ...     ...  ...   \n",
       "9994       9995    15719294       Wood          800    France  Female   29   \n",
       "9995       9996    15606229   Obijiaku          771    France    Male   39   \n",
       "9996       9997    15569892  Johnstone          516    France    Male   35   \n",
       "9997       9998    15584532        Liu          709    France  Female   36   \n",
       "9999      10000    15628319     Walker          792    France  Female   28   \n",
       "\n",
       "      Tenure    Balance  NumOfProducts  HasCrCard  IsActiveMember  \\\n",
       "0          2       0.00              1          1               1   \n",
       "1          1   83807.86              1          0               1   \n",
       "2          8  159660.80              3          1               0   \n",
       "3          1       0.00              2          0               0   \n",
       "4          2  125510.82              1          1               1   \n",
       "...      ...        ...            ...        ...             ...   \n",
       "9994       2       0.00              2          0               0   \n",
       "9995       5       0.00              2          1               0   \n",
       "9996      10   57369.61              1          1               1   \n",
       "9997       7       0.00              1          0               1   \n",
       "9999       4  130142.79              1          1               0   \n",
       "\n",
       "      EstimatedSalary  Exited  \n",
       "0           101348.88       1  \n",
       "1           112542.58       0  \n",
       "2           113931.57       1  \n",
       "3            93826.63       0  \n",
       "4            79084.10       0  \n",
       "...               ...     ...  \n",
       "9994        167773.55       0  \n",
       "9995         96270.64       0  \n",
       "9996        101699.77       0  \n",
       "9997         42085.58       1  \n",
       "9999         38190.78       0  \n",
       "\n",
       "[7491 rows x 14 columns]"
      ],
      "text/html": [
       "<div>\n",
       "<style scoped>\n",
       "    .dataframe tbody tr th:only-of-type {\n",
       "        vertical-align: middle;\n",
       "    }\n",
       "\n",
       "    .dataframe tbody tr th {\n",
       "        vertical-align: top;\n",
       "    }\n",
       "\n",
       "    .dataframe thead th {\n",
       "        text-align: right;\n",
       "    }\n",
       "</style>\n",
       "<table border=\"1\" class=\"dataframe\">\n",
       "  <thead>\n",
       "    <tr style=\"text-align: right;\">\n",
       "      <th></th>\n",
       "      <th>RowNumber</th>\n",
       "      <th>CustomerId</th>\n",
       "      <th>Surname</th>\n",
       "      <th>CreditScore</th>\n",
       "      <th>Geography</th>\n",
       "      <th>Gender</th>\n",
       "      <th>Age</th>\n",
       "      <th>Tenure</th>\n",
       "      <th>Balance</th>\n",
       "      <th>NumOfProducts</th>\n",
       "      <th>HasCrCard</th>\n",
       "      <th>IsActiveMember</th>\n",
       "      <th>EstimatedSalary</th>\n",
       "      <th>Exited</th>\n",
       "    </tr>\n",
       "  </thead>\n",
       "  <tbody>\n",
       "    <tr>\n",
       "      <th>0</th>\n",
       "      <td>1</td>\n",
       "      <td>15634602</td>\n",
       "      <td>Hargrave</td>\n",
       "      <td>619</td>\n",
       "      <td>France</td>\n",
       "      <td>Female</td>\n",
       "      <td>42</td>\n",
       "      <td>2</td>\n",
       "      <td>0.00</td>\n",
       "      <td>1</td>\n",
       "      <td>1</td>\n",
       "      <td>1</td>\n",
       "      <td>101348.88</td>\n",
       "      <td>1</td>\n",
       "    </tr>\n",
       "    <tr>\n",
       "      <th>1</th>\n",
       "      <td>2</td>\n",
       "      <td>15647311</td>\n",
       "      <td>Hill</td>\n",
       "      <td>608</td>\n",
       "      <td>Spain</td>\n",
       "      <td>Female</td>\n",
       "      <td>41</td>\n",
       "      <td>1</td>\n",
       "      <td>83807.86</td>\n",
       "      <td>1</td>\n",
       "      <td>0</td>\n",
       "      <td>1</td>\n",
       "      <td>112542.58</td>\n",
       "      <td>0</td>\n",
       "    </tr>\n",
       "    <tr>\n",
       "      <th>2</th>\n",
       "      <td>3</td>\n",
       "      <td>15619304</td>\n",
       "      <td>Onio</td>\n",
       "      <td>502</td>\n",
       "      <td>France</td>\n",
       "      <td>Female</td>\n",
       "      <td>42</td>\n",
       "      <td>8</td>\n",
       "      <td>159660.80</td>\n",
       "      <td>3</td>\n",
       "      <td>1</td>\n",
       "      <td>0</td>\n",
       "      <td>113931.57</td>\n",
       "      <td>1</td>\n",
       "    </tr>\n",
       "    <tr>\n",
       "      <th>3</th>\n",
       "      <td>4</td>\n",
       "      <td>15701354</td>\n",
       "      <td>Boni</td>\n",
       "      <td>699</td>\n",
       "      <td>France</td>\n",
       "      <td>Female</td>\n",
       "      <td>39</td>\n",
       "      <td>1</td>\n",
       "      <td>0.00</td>\n",
       "      <td>2</td>\n",
       "      <td>0</td>\n",
       "      <td>0</td>\n",
       "      <td>93826.63</td>\n",
       "      <td>0</td>\n",
       "    </tr>\n",
       "    <tr>\n",
       "      <th>4</th>\n",
       "      <td>5</td>\n",
       "      <td>15737888</td>\n",
       "      <td>Mitchell</td>\n",
       "      <td>850</td>\n",
       "      <td>Spain</td>\n",
       "      <td>Female</td>\n",
       "      <td>43</td>\n",
       "      <td>2</td>\n",
       "      <td>125510.82</td>\n",
       "      <td>1</td>\n",
       "      <td>1</td>\n",
       "      <td>1</td>\n",
       "      <td>79084.10</td>\n",
       "      <td>0</td>\n",
       "    </tr>\n",
       "    <tr>\n",
       "      <th>...</th>\n",
       "      <td>...</td>\n",
       "      <td>...</td>\n",
       "      <td>...</td>\n",
       "      <td>...</td>\n",
       "      <td>...</td>\n",
       "      <td>...</td>\n",
       "      <td>...</td>\n",
       "      <td>...</td>\n",
       "      <td>...</td>\n",
       "      <td>...</td>\n",
       "      <td>...</td>\n",
       "      <td>...</td>\n",
       "      <td>...</td>\n",
       "      <td>...</td>\n",
       "    </tr>\n",
       "    <tr>\n",
       "      <th>9994</th>\n",
       "      <td>9995</td>\n",
       "      <td>15719294</td>\n",
       "      <td>Wood</td>\n",
       "      <td>800</td>\n",
       "      <td>France</td>\n",
       "      <td>Female</td>\n",
       "      <td>29</td>\n",
       "      <td>2</td>\n",
       "      <td>0.00</td>\n",
       "      <td>2</td>\n",
       "      <td>0</td>\n",
       "      <td>0</td>\n",
       "      <td>167773.55</td>\n",
       "      <td>0</td>\n",
       "    </tr>\n",
       "    <tr>\n",
       "      <th>9995</th>\n",
       "      <td>9996</td>\n",
       "      <td>15606229</td>\n",
       "      <td>Obijiaku</td>\n",
       "      <td>771</td>\n",
       "      <td>France</td>\n",
       "      <td>Male</td>\n",
       "      <td>39</td>\n",
       "      <td>5</td>\n",
       "      <td>0.00</td>\n",
       "      <td>2</td>\n",
       "      <td>1</td>\n",
       "      <td>0</td>\n",
       "      <td>96270.64</td>\n",
       "      <td>0</td>\n",
       "    </tr>\n",
       "    <tr>\n",
       "      <th>9996</th>\n",
       "      <td>9997</td>\n",
       "      <td>15569892</td>\n",
       "      <td>Johnstone</td>\n",
       "      <td>516</td>\n",
       "      <td>France</td>\n",
       "      <td>Male</td>\n",
       "      <td>35</td>\n",
       "      <td>10</td>\n",
       "      <td>57369.61</td>\n",
       "      <td>1</td>\n",
       "      <td>1</td>\n",
       "      <td>1</td>\n",
       "      <td>101699.77</td>\n",
       "      <td>0</td>\n",
       "    </tr>\n",
       "    <tr>\n",
       "      <th>9997</th>\n",
       "      <td>9998</td>\n",
       "      <td>15584532</td>\n",
       "      <td>Liu</td>\n",
       "      <td>709</td>\n",
       "      <td>France</td>\n",
       "      <td>Female</td>\n",
       "      <td>36</td>\n",
       "      <td>7</td>\n",
       "      <td>0.00</td>\n",
       "      <td>1</td>\n",
       "      <td>0</td>\n",
       "      <td>1</td>\n",
       "      <td>42085.58</td>\n",
       "      <td>1</td>\n",
       "    </tr>\n",
       "    <tr>\n",
       "      <th>9999</th>\n",
       "      <td>10000</td>\n",
       "      <td>15628319</td>\n",
       "      <td>Walker</td>\n",
       "      <td>792</td>\n",
       "      <td>France</td>\n",
       "      <td>Female</td>\n",
       "      <td>28</td>\n",
       "      <td>4</td>\n",
       "      <td>130142.79</td>\n",
       "      <td>1</td>\n",
       "      <td>1</td>\n",
       "      <td>0</td>\n",
       "      <td>38190.78</td>\n",
       "      <td>0</td>\n",
       "    </tr>\n",
       "  </tbody>\n",
       "</table>\n",
       "<p>7491 rows × 14 columns</p>\n",
       "</div>"
      ]
     },
     "execution_count": 105,
     "metadata": {},
     "output_type": "execute_result"
    }
   ],
   "execution_count": 105
  },
  {
   "cell_type": "code",
   "id": "29903c14",
   "metadata": {
    "ExecuteTime": {
     "end_time": "2025-10-04T18:13:20.067017Z",
     "start_time": "2025-10-04T18:13:20.019797Z"
    }
   },
   "source": [
    "\n",
    "del dft14\n",
    "gc.collect()"
   ],
   "outputs": [
    {
     "data": {
      "text/plain": [
       "12"
      ]
     },
     "execution_count": 106,
     "metadata": {},
     "output_type": "execute_result"
    }
   ],
   "execution_count": 106
  },
  {
   "cell_type": "markdown",
   "id": "c6a6a85c53d70eec",
   "metadata": {},
   "source": [
    "### **Trick 15 - کار با Date Range برای تولید داده‌های زمانی در Pandas**"
   ]
  },
  {
   "cell_type": "code",
   "id": "2e22deb7228c36f0",
   "metadata": {
    "ExecuteTime": {
     "end_time": "2025-10-04T18:13:20.226715Z",
     "start_time": "2025-10-04T18:13:20.224186Z"
    }
   },
   "source": [
    "import warnings\n",
    "warnings.filterwarnings('ignore')"
   ],
   "outputs": [],
   "execution_count": 107
  },
  {
   "cell_type": "markdown",
   "id": "44fbe4c3c4324402",
   "metadata": {},
   "source": [
    "#### a) DATA Range doc"
   ]
  },
  {
   "cell_type": "code",
   "id": "219b6c4535c5b2a3",
   "metadata": {
    "ExecuteTime": {
     "end_time": "2025-10-04T18:13:20.448217Z",
     "start_time": "2025-10-04T18:13:20.349453Z"
    }
   },
   "source": [
    "#Creating a simple date range\n",
    "pd.date_range(start='2022-11-15', end='2022-11-21')"
   ],
   "outputs": [
    {
     "data": {
      "text/plain": [
       "DatetimeIndex(['2022-11-15', '2022-11-16', '2022-11-17', '2022-11-18',\n",
       "               '2022-11-19', '2022-11-20', '2022-11-21'],\n",
       "              dtype='datetime64[ns]', freq='D')"
      ]
     },
     "execution_count": 108,
     "metadata": {},
     "output_type": "execute_result"
    }
   ],
   "execution_count": 108
  },
  {
   "cell_type": "code",
   "id": "662a1c852a90a556",
   "metadata": {
    "ExecuteTime": {
     "end_time": "2025-10-04T18:13:20.511439Z",
     "start_time": "2025-10-04T18:13:20.507725Z"
    }
   },
   "source": [
    "#Creating a date range in 6 minute intervals\n",
    "pd.date_range(start='2023-01-01 00:00:00', end='2023-01-01 00:24:00', freq='6T')"
   ],
   "outputs": [
    {
     "data": {
      "text/plain": [
       "DatetimeIndex(['2023-01-01 00:00:00', '2023-01-01 00:06:00',\n",
       "               '2023-01-01 00:12:00', '2023-01-01 00:18:00',\n",
       "               '2023-01-01 00:24:00'],\n",
       "              dtype='datetime64[ns]', freq='6min')"
      ]
     },
     "execution_count": 109,
     "metadata": {},
     "output_type": "execute_result"
    }
   ],
   "execution_count": 109
  },
  {
   "cell_type": "code",
   "id": "e8461aefe4822336",
   "metadata": {
    "ExecuteTime": {
     "end_time": "2025-10-04T18:13:20.572829Z",
     "start_time": "2025-10-04T18:13:20.568492Z"
    }
   },
   "source": [
    "#Weekly 'W' - Cutting your date range into weeks\n",
    "pd.date_range(start='2023-01-01', end='2023-03-10', freq='W')"
   ],
   "outputs": [
    {
     "data": {
      "text/plain": [
       "DatetimeIndex(['2023-01-01', '2023-01-08', '2023-01-15', '2023-01-22',\n",
       "               '2023-01-29', '2023-02-05', '2023-02-12', '2023-02-19',\n",
       "               '2023-02-26', '2023-03-05'],\n",
       "              dtype='datetime64[ns]', freq='W-SUN')"
      ]
     },
     "execution_count": 110,
     "metadata": {},
     "output_type": "execute_result"
    }
   ],
   "execution_count": 110
  },
  {
   "cell_type": "code",
   "id": "8cabb78bdc7f88d5",
   "metadata": {
    "ExecuteTime": {
     "end_time": "2025-10-04T18:13:20.638300Z",
     "start_time": "2025-10-04T18:13:20.634014Z"
    }
   },
   "source": [
    "#Creating a date range with 10 periods\n",
    "pd.date_range(start='2020-01-01 00:00:00', end='2020-01-01 00:24:00', periods=10)"
   ],
   "outputs": [
    {
     "data": {
      "text/plain": [
       "DatetimeIndex(['2020-01-01 00:00:00', '2020-01-01 00:02:40',\n",
       "               '2020-01-01 00:05:20', '2020-01-01 00:08:00',\n",
       "               '2020-01-01 00:10:40', '2020-01-01 00:13:20',\n",
       "               '2020-01-01 00:16:00', '2020-01-01 00:18:40',\n",
       "               '2020-01-01 00:21:20', '2020-01-01 00:24:00'],\n",
       "              dtype='datetime64[ns]', freq=None)"
      ]
     },
     "execution_count": 111,
     "metadata": {},
     "output_type": "execute_result"
    }
   ],
   "execution_count": 111
  },
  {
   "cell_type": "code",
   "id": "4874a1e68c78748b",
   "metadata": {
    "ExecuteTime": {
     "end_time": "2025-10-04T18:13:20.703131Z",
     "start_time": "2025-10-04T18:13:20.698762Z"
    }
   },
   "source": [
    "#Quarters 'Q' - Splitting your date range by quarters\n",
    "pd.date_range(start='2023-01-01', end='2023-12-01', freq='Q')"
   ],
   "outputs": [
    {
     "data": {
      "text/plain": [
       "DatetimeIndex(['2023-03-31', '2023-06-30', '2023-09-30'], dtype='datetime64[ns]', freq='QE-DEC')"
      ]
     },
     "execution_count": 112,
     "metadata": {},
     "output_type": "execute_result"
    }
   ],
   "execution_count": 112
  },
  {
   "cell_type": "code",
   "id": "caae43bf4b74ccef",
   "metadata": {
    "ExecuteTime": {
     "end_time": "2025-10-04T18:13:20.770313Z",
     "start_time": "2025-10-04T18:13:20.764725Z"
    }
   },
   "source": [
    "#Every 5 Months '5M' - Don't forget your can put a integer in front of your freq to expand the frequency\n",
    "pd.date_range(start='2023-01-01', end='2024-12-01', freq='5M')"
   ],
   "outputs": [
    {
     "data": {
      "text/plain": [
       "DatetimeIndex(['2023-01-31', '2023-06-30', '2023-11-30', '2024-04-30',\n",
       "               '2024-09-30'],\n",
       "              dtype='datetime64[ns]', freq='5ME')"
      ]
     },
     "execution_count": 113,
     "metadata": {},
     "output_type": "execute_result"
    }
   ],
   "execution_count": 113
  },
  {
   "cell_type": "markdown",
   "id": "c1b58abbeb95a59d",
   "metadata": {},
   "source": [
    "#### ~~b) Example~~"
   ]
  },
  {
   "cell_type": "code",
   "id": "ab122e823b2c449f",
   "metadata": {
    "ExecuteTime": {
     "end_time": "2025-10-04T18:13:20.850895Z",
     "start_time": "2025-10-04T18:13:20.849439Z"
    }
   },
   "source": [],
   "outputs": [],
   "execution_count": null
  },
  {
   "cell_type": "markdown",
   "id": "18ef81e68e9e0cf8",
   "metadata": {},
   "source": [
    "### **Trick 16 - کار با داده‌های زمانی (Datetime) در Pandas**"
   ]
  },
  {
   "cell_type": "code",
   "id": "68b611fce51609c6",
   "metadata": {
    "ExecuteTime": {
     "end_time": "2025-10-04T18:13:20.872998Z",
     "start_time": "2025-10-04T18:13:20.870715Z"
    }
   },
   "source": [
    "import warnings\n",
    "warnings.filterwarnings('ignore')"
   ],
   "outputs": [],
   "execution_count": 114
  },
  {
   "cell_type": "markdown",
   "id": "d718b131d0f84148",
   "metadata": {},
   "source": [
    "**DateTime in Pandas**"
   ]
  },
  {
   "cell_type": "markdown",
   "id": "b3c45767b19653fb",
   "metadata": {},
   "source": [
    "* The date-time default format is “YYYY-MM-DD”. Hence, November 15th, 2022, in the date format will be presented as “2022-11-15”. The datetime format can be changed and by changing we mean changing the sequence and style of the format."
   ]
  },
  {
   "cell_type": "markdown",
   "id": "51c29846c4d1354e",
   "metadata": {},
   "source": [
    "Where, format is a string representing the type of required date format.\n",
    "\n",
    "* For year %y\n",
    "* For month %m\n",
    "* For day %d"
   ]
  },
  {
   "cell_type": "code",
   "id": "c701f43bcdcaefc8",
   "metadata": {
    "ExecuteTime": {
     "end_time": "2025-10-04T18:13:20.929994Z",
     "start_time": "2025-10-04T18:13:20.885173Z"
    }
   },
   "source": [
    "date_sr = pd.Series(pd.date_range('2022-11-15', periods=3, freq='D', tz='Asia/Tehran'))\n",
    "print(date_sr.dtype)\n",
    "print(date_sr)"
   ],
   "outputs": [
    {
     "name": "stdout",
     "output_type": "stream",
     "text": [
      "datetime64[ns, Asia/Tehran]\n",
      "0   2022-11-15 00:00:00+03:30\n",
      "1   2022-11-16 00:00:00+03:30\n",
      "2   2022-11-17 00:00:00+03:30\n",
      "dtype: datetime64[ns, Asia/Tehran]\n"
     ]
    }
   ],
   "execution_count": 115
  },
  {
   "cell_type": "code",
   "id": "b142e83ee4659076",
   "metadata": {
    "ExecuteTime": {
     "end_time": "2025-10-04T18:13:20.960985Z",
     "start_time": "2025-10-04T18:13:20.957936Z"
    }
   },
   "source": [
    "# نام دادن به ایندکس ها\n",
    "list1 = ['day 1','day 2','day 3']\n",
    "\n",
    "# set index\n",
    "date_sr.index = list1\n",
    "print(date_sr.dtype)\n",
    "print(date_sr)"
   ],
   "outputs": [
    {
     "name": "stdout",
     "output_type": "stream",
     "text": [
      "datetime64[ns, Asia/Tehran]\n",
      "day 1   2022-11-15 00:00:00+03:30\n",
      "day 2   2022-11-16 00:00:00+03:30\n",
      "day 3   2022-11-17 00:00:00+03:30\n",
      "dtype: datetime64[ns, Asia/Tehran]\n"
     ]
    }
   ],
   "execution_count": 116
  },
  {
   "cell_type": "code",
   "id": "517733be0024e357",
   "metadata": {
    "ExecuteTime": {
     "end_time": "2025-10-04T18:13:21.047236Z",
     "start_time": "2025-10-04T18:13:21.024741Z"
    }
   },
   "source": [
    "change_format = date_sr.dt.strftime('%d,%m,%Y')\n",
    "print(change_format)"
   ],
   "outputs": [
    {
     "name": "stdout",
     "output_type": "stream",
     "text": [
      "day 1    15,11,2022\n",
      "day 2    16,11,2022\n",
      "day 3    17,11,2022\n",
      "dtype: object\n"
     ]
    }
   ],
   "execution_count": 117
  },
  {
   "cell_type": "code",
   "id": "4b0a11d4c66fd7f",
   "metadata": {
    "ExecuteTime": {
     "end_time": "2025-10-04T18:13:21.098450Z",
     "start_time": "2025-10-04T18:13:21.095103Z"
    }
   },
   "source": [
    "change_format = date_sr.dt.strftime('%d/%m/%Y')\n",
    "print(change_format)"
   ],
   "outputs": [
    {
     "name": "stdout",
     "output_type": "stream",
     "text": [
      "day 1    15/11/2022\n",
      "day 2    16/11/2022\n",
      "day 3    17/11/2022\n",
      "dtype: object\n"
     ]
    }
   ],
   "execution_count": 118
  },
  {
   "cell_type": "markdown",
   "id": "8a1f8f9bfb7e8ef0",
   "metadata": {},
   "source": [
    "b)"
   ]
  },
  {
   "cell_type": "code",
   "id": "61093a8c24de83a8",
   "metadata": {
    "ExecuteTime": {
     "end_time": "2025-10-04T18:13:21.179015Z",
     "start_time": "2025-10-04T18:13:21.162783Z"
    }
   },
   "source": [
    "date_sr = pd.to_datetime(pd.Series('2022-11-15'))\n",
    "print(date_sr)\n",
    "change_format = date_sr.dt.strftime('%d/%m/%Y')\n",
    "print(change_format)"
   ],
   "outputs": [
    {
     "name": "stdout",
     "output_type": "stream",
     "text": [
      "0   2022-11-15\n",
      "dtype: datetime64[ns]\n",
      "0    15/11/2022\n",
      "dtype: object\n"
     ]
    }
   ],
   "execution_count": 119
  },
  {
   "cell_type": "markdown",
   "id": "afbbe8b2c07847c9",
   "metadata": {},
   "source": [
    "c)"
   ]
  },
  {
   "cell_type": "code",
   "id": "7d69878ba5580f6e",
   "metadata": {
    "ExecuteTime": {
     "end_time": "2025-10-04T18:13:21.230998Z",
     "start_time": "2025-10-04T18:13:21.227207Z"
    }
   },
   "source": [
    "date_sr = pd.to_datetime(pd.Series(\"2022-11-15\"))\n",
    "change_format = date_sr.dt.strftime('%d-%m-%Y')\n",
    "\n",
    "print(change_format)"
   ],
   "outputs": [
    {
     "name": "stdout",
     "output_type": "stream",
     "text": [
      "0    15-11-2022\n",
      "dtype: object\n"
     ]
    }
   ],
   "execution_count": 120
  },
  {
   "cell_type": "markdown",
   "id": "beee773f508b4720",
   "metadata": {},
   "source": [
    "d)"
   ]
  },
  {
   "cell_type": "code",
   "id": "1d23cfc32025d7ba",
   "metadata": {
    "ExecuteTime": {
     "end_time": "2025-10-04T18:13:21.310372Z",
     "start_time": "2025-10-04T18:13:21.304678Z"
    }
   },
   "source": [
    "dft16 = pd.DataFrame({\n",
    "    'data' : ['3/10/2022', '3/11/2022', '3/12/2022'],\n",
    "    'value': [100, 200, 300]\n",
    "})\n",
    "dft16"
   ],
   "outputs": [
    {
     "data": {
      "text/plain": [
       "        data  value\n",
       "0  3/10/2022    100\n",
       "1  3/11/2022    200\n",
       "2  3/12/2022    300"
      ],
      "text/html": [
       "<div>\n",
       "<style scoped>\n",
       "    .dataframe tbody tr th:only-of-type {\n",
       "        vertical-align: middle;\n",
       "    }\n",
       "\n",
       "    .dataframe tbody tr th {\n",
       "        vertical-align: top;\n",
       "    }\n",
       "\n",
       "    .dataframe thead th {\n",
       "        text-align: right;\n",
       "    }\n",
       "</style>\n",
       "<table border=\"1\" class=\"dataframe\">\n",
       "  <thead>\n",
       "    <tr style=\"text-align: right;\">\n",
       "      <th></th>\n",
       "      <th>data</th>\n",
       "      <th>value</th>\n",
       "    </tr>\n",
       "  </thead>\n",
       "  <tbody>\n",
       "    <tr>\n",
       "      <th>0</th>\n",
       "      <td>3/10/2022</td>\n",
       "      <td>100</td>\n",
       "    </tr>\n",
       "    <tr>\n",
       "      <th>1</th>\n",
       "      <td>3/11/2022</td>\n",
       "      <td>200</td>\n",
       "    </tr>\n",
       "    <tr>\n",
       "      <th>2</th>\n",
       "      <td>3/12/2022</td>\n",
       "      <td>300</td>\n",
       "    </tr>\n",
       "  </tbody>\n",
       "</table>\n",
       "</div>"
      ]
     },
     "execution_count": 121,
     "metadata": {},
     "output_type": "execute_result"
    }
   ],
   "execution_count": 121
  },
  {
   "cell_type": "code",
   "id": "94d0883b9063ff00",
   "metadata": {
    "ExecuteTime": {
     "end_time": "2025-10-04T18:13:21.461205Z",
     "start_time": "2025-10-04T18:13:21.445152Z"
    }
   },
   "source": [
    "dft16['data'] = pd.to_datetime(dft16['data'])\n",
    "dft16\n",
    "# هدف کلی این بود که جنس داده رو به دیتا تایپ تبدیل کنیم"
   ],
   "outputs": [
    {
     "data": {
      "text/plain": [
       "        data  value\n",
       "0 2022-03-10    100\n",
       "1 2022-03-11    200\n",
       "2 2022-03-12    300"
      ],
      "text/html": [
       "<div>\n",
       "<style scoped>\n",
       "    .dataframe tbody tr th:only-of-type {\n",
       "        vertical-align: middle;\n",
       "    }\n",
       "\n",
       "    .dataframe tbody tr th {\n",
       "        vertical-align: top;\n",
       "    }\n",
       "\n",
       "    .dataframe thead th {\n",
       "        text-align: right;\n",
       "    }\n",
       "</style>\n",
       "<table border=\"1\" class=\"dataframe\">\n",
       "  <thead>\n",
       "    <tr style=\"text-align: right;\">\n",
       "      <th></th>\n",
       "      <th>data</th>\n",
       "      <th>value</th>\n",
       "    </tr>\n",
       "  </thead>\n",
       "  <tbody>\n",
       "    <tr>\n",
       "      <th>0</th>\n",
       "      <td>2022-03-10</td>\n",
       "      <td>100</td>\n",
       "    </tr>\n",
       "    <tr>\n",
       "      <th>1</th>\n",
       "      <td>2022-03-11</td>\n",
       "      <td>200</td>\n",
       "    </tr>\n",
       "    <tr>\n",
       "      <th>2</th>\n",
       "      <td>2022-03-12</td>\n",
       "      <td>300</td>\n",
       "    </tr>\n",
       "  </tbody>\n",
       "</table>\n",
       "</div>"
      ]
     },
     "execution_count": 122,
     "metadata": {},
     "output_type": "execute_result"
    }
   ],
   "execution_count": 122
  },
  {
   "cell_type": "code",
   "id": "75156c4bea6dee4b",
   "metadata": {
    "ExecuteTime": {
     "end_time": "2025-10-04T18:13:21.662040Z",
     "start_time": "2025-10-04T18:13:21.656674Z"
    }
   },
   "source": [
    "# برای اینکه روز اول بیاد\n",
    "dft16['data'] = pd.to_datetime(dft16['data'], dayfirst=True)\n",
    "dft16"
   ],
   "outputs": [
    {
     "data": {
      "text/plain": [
       "        data  value\n",
       "0 2022-03-10    100\n",
       "1 2022-03-11    200\n",
       "2 2022-03-12    300"
      ],
      "text/html": [
       "<div>\n",
       "<style scoped>\n",
       "    .dataframe tbody tr th:only-of-type {\n",
       "        vertical-align: middle;\n",
       "    }\n",
       "\n",
       "    .dataframe tbody tr th {\n",
       "        vertical-align: top;\n",
       "    }\n",
       "\n",
       "    .dataframe thead th {\n",
       "        text-align: right;\n",
       "    }\n",
       "</style>\n",
       "<table border=\"1\" class=\"dataframe\">\n",
       "  <thead>\n",
       "    <tr style=\"text-align: right;\">\n",
       "      <th></th>\n",
       "      <th>data</th>\n",
       "      <th>value</th>\n",
       "    </tr>\n",
       "  </thead>\n",
       "  <tbody>\n",
       "    <tr>\n",
       "      <th>0</th>\n",
       "      <td>2022-03-10</td>\n",
       "      <td>100</td>\n",
       "    </tr>\n",
       "    <tr>\n",
       "      <th>1</th>\n",
       "      <td>2022-03-11</td>\n",
       "      <td>200</td>\n",
       "    </tr>\n",
       "    <tr>\n",
       "      <th>2</th>\n",
       "      <td>2022-03-12</td>\n",
       "      <td>300</td>\n",
       "    </tr>\n",
       "  </tbody>\n",
       "</table>\n",
       "</div>"
      ]
     },
     "execution_count": 123,
     "metadata": {},
     "output_type": "execute_result"
    }
   ],
   "execution_count": 123
  },
  {
   "cell_type": "markdown",
   "id": "d32d30b5abb43e2c",
   "metadata": {},
   "source": [
    "e)"
   ]
  },
  {
   "cell_type": "code",
   "id": "cff7a2fa7d13cedf",
   "metadata": {
    "ExecuteTime": {
     "end_time": "2025-10-04T18:13:21.872876Z",
     "start_time": "2025-10-04T18:13:21.865502Z"
    }
   },
   "source": [
    "dft16 = pd.DataFrame({'date': ['2022-6-10 20:30:0',\n",
    "                            '2022-7-1 19:45:30',\n",
    "                            '2022-10-12 4:5:1'],\n",
    "                      'value': [100, 200, 300]})\n",
    "dft16['date'] = pd.to_datetime(dft16['date'], format=\"%Y-%d-%m %H:%M:%S\")\n",
    "dft16"
   ],
   "outputs": [
    {
     "data": {
      "text/plain": [
       "                 date  value\n",
       "0 2022-10-06 20:30:00    100\n",
       "1 2022-01-07 19:45:30    200\n",
       "2 2022-12-10 04:05:01    300"
      ],
      "text/html": [
       "<div>\n",
       "<style scoped>\n",
       "    .dataframe tbody tr th:only-of-type {\n",
       "        vertical-align: middle;\n",
       "    }\n",
       "\n",
       "    .dataframe tbody tr th {\n",
       "        vertical-align: top;\n",
       "    }\n",
       "\n",
       "    .dataframe thead th {\n",
       "        text-align: right;\n",
       "    }\n",
       "</style>\n",
       "<table border=\"1\" class=\"dataframe\">\n",
       "  <thead>\n",
       "    <tr style=\"text-align: right;\">\n",
       "      <th></th>\n",
       "      <th>date</th>\n",
       "      <th>value</th>\n",
       "    </tr>\n",
       "  </thead>\n",
       "  <tbody>\n",
       "    <tr>\n",
       "      <th>0</th>\n",
       "      <td>2022-10-06 20:30:00</td>\n",
       "      <td>100</td>\n",
       "    </tr>\n",
       "    <tr>\n",
       "      <th>1</th>\n",
       "      <td>2022-01-07 19:45:30</td>\n",
       "      <td>200</td>\n",
       "    </tr>\n",
       "    <tr>\n",
       "      <th>2</th>\n",
       "      <td>2022-12-10 04:05:01</td>\n",
       "      <td>300</td>\n",
       "    </tr>\n",
       "  </tbody>\n",
       "</table>\n",
       "</div>"
      ]
     },
     "execution_count": 124,
     "metadata": {},
     "output_type": "execute_result"
    }
   ],
   "execution_count": 124
  },
  {
   "cell_type": "markdown",
   "id": "dd41b1664b45ee42",
   "metadata": {},
   "source": [
    "f) ساخت یک دیتا فریم با استفاده از ستون های جدا"
   ]
  },
  {
   "cell_type": "code",
   "id": "2086235e1fe0ed60",
   "metadata": {
    "ExecuteTime": {
     "end_time": "2025-10-04T18:13:22.152625Z",
     "start_time": "2025-10-04T18:13:22.145838Z"
    }
   },
   "source": [
    "dft16 = pd.DataFrame({'year': [2022, 2023],\n",
    "                   'month': [2, 3],\n",
    "                   'day': [4, 5]})\n",
    "dft16['data'] = pd.to_datetime(dft16)\n",
    "dft16"
   ],
   "outputs": [
    {
     "data": {
      "text/plain": [
       "   year  month  day       data\n",
       "0  2022      2    4 2022-02-04\n",
       "1  2023      3    5 2023-03-05"
      ],
      "text/html": [
       "<div>\n",
       "<style scoped>\n",
       "    .dataframe tbody tr th:only-of-type {\n",
       "        vertical-align: middle;\n",
       "    }\n",
       "\n",
       "    .dataframe tbody tr th {\n",
       "        vertical-align: top;\n",
       "    }\n",
       "\n",
       "    .dataframe thead th {\n",
       "        text-align: right;\n",
       "    }\n",
       "</style>\n",
       "<table border=\"1\" class=\"dataframe\">\n",
       "  <thead>\n",
       "    <tr style=\"text-align: right;\">\n",
       "      <th></th>\n",
       "      <th>year</th>\n",
       "      <th>month</th>\n",
       "      <th>day</th>\n",
       "      <th>data</th>\n",
       "    </tr>\n",
       "  </thead>\n",
       "  <tbody>\n",
       "    <tr>\n",
       "      <th>0</th>\n",
       "      <td>2022</td>\n",
       "      <td>2</td>\n",
       "      <td>4</td>\n",
       "      <td>2022-02-04</td>\n",
       "    </tr>\n",
       "    <tr>\n",
       "      <th>1</th>\n",
       "      <td>2023</td>\n",
       "      <td>3</td>\n",
       "      <td>5</td>\n",
       "      <td>2023-03-05</td>\n",
       "    </tr>\n",
       "  </tbody>\n",
       "</table>\n",
       "</div>"
      ]
     },
     "execution_count": 125,
     "metadata": {},
     "output_type": "execute_result"
    }
   ],
   "execution_count": 125
  },
  {
   "cell_type": "markdown",
   "id": "c48326248bc6d91",
   "metadata": {},
   "source": [
    "g) گرفتن جدا جدای سال ماه و روز"
   ]
  },
  {
   "cell_type": "code",
   "id": "ee872b279eba6f0f",
   "metadata": {
    "ExecuteTime": {
     "end_time": "2025-10-04T18:13:22.432037Z",
     "start_time": "2025-10-04T18:13:22.424690Z"
    }
   },
   "source": [
    "dft16 = pd.DataFrame({'name': ['Soheil', 'Mahtab', 'Baran'],\n",
    "                      'DoB': ['10-09-1989', '06-28-2020', '06-28-2022']})\n",
    "\n",
    "dft16['DoB'] = pd.to_datetime(dft16['DoB'])\n",
    "dft16"
   ],
   "outputs": [
    {
     "data": {
      "text/plain": [
       "     name        DoB\n",
       "0  Soheil 1989-10-09\n",
       "1  Mahtab 2020-06-28\n",
       "2   Baran 2022-06-28"
      ],
      "text/html": [
       "<div>\n",
       "<style scoped>\n",
       "    .dataframe tbody tr th:only-of-type {\n",
       "        vertical-align: middle;\n",
       "    }\n",
       "\n",
       "    .dataframe tbody tr th {\n",
       "        vertical-align: top;\n",
       "    }\n",
       "\n",
       "    .dataframe thead th {\n",
       "        text-align: right;\n",
       "    }\n",
       "</style>\n",
       "<table border=\"1\" class=\"dataframe\">\n",
       "  <thead>\n",
       "    <tr style=\"text-align: right;\">\n",
       "      <th></th>\n",
       "      <th>name</th>\n",
       "      <th>DoB</th>\n",
       "    </tr>\n",
       "  </thead>\n",
       "  <tbody>\n",
       "    <tr>\n",
       "      <th>0</th>\n",
       "      <td>Soheil</td>\n",
       "      <td>1989-10-09</td>\n",
       "    </tr>\n",
       "    <tr>\n",
       "      <th>1</th>\n",
       "      <td>Mahtab</td>\n",
       "      <td>2020-06-28</td>\n",
       "    </tr>\n",
       "    <tr>\n",
       "      <th>2</th>\n",
       "      <td>Baran</td>\n",
       "      <td>2022-06-28</td>\n",
       "    </tr>\n",
       "  </tbody>\n",
       "</table>\n",
       "</div>"
      ]
     },
     "execution_count": 126,
     "metadata": {},
     "output_type": "execute_result"
    }
   ],
   "execution_count": 126
  },
  {
   "cell_type": "code",
   "id": "a1a121ad7e137182",
   "metadata": {
    "ExecuteTime": {
     "end_time": "2025-10-04T18:13:22.742309Z",
     "start_time": "2025-10-04T18:13:22.724530Z"
    }
   },
   "source": [
    "dft16['day'] = dft16['DoB'].dt.day\n",
    "dft16['month'] = dft16['DoB'].dt.month\n",
    "dft16['year'] = dft16['DoB'].dt.year\n",
    "dft16['weekday'] = dft16['DoB'].dt.weekday\n",
    "dft16['day_of_week'] = dft16['DoB'].dt.dayofweek\n",
    "dft16['is_leap_year'] = dft16['DoB'].dt.is_leap_year\n",
    "dft16['hour'] = dft16['DoB'].dt.hour\n",
    "dft16['minute'] = dft16['DoB'].dt.minute\n",
    "dft16['second'] = dft16['DoB'].dt.second\n",
    "dft16"
   ],
   "outputs": [
    {
     "data": {
      "text/plain": [
       "     name        DoB  day  month  year  weekday  day_of_week  is_leap_year  \\\n",
       "0  Soheil 1989-10-09    9     10  1989        0            0         False   \n",
       "1  Mahtab 2020-06-28   28      6  2020        6            6          True   \n",
       "2   Baran 2022-06-28   28      6  2022        1            1         False   \n",
       "\n",
       "   hour  minute  second  \n",
       "0     0       0       0  \n",
       "1     0       0       0  \n",
       "2     0       0       0  "
      ],
      "text/html": [
       "<div>\n",
       "<style scoped>\n",
       "    .dataframe tbody tr th:only-of-type {\n",
       "        vertical-align: middle;\n",
       "    }\n",
       "\n",
       "    .dataframe tbody tr th {\n",
       "        vertical-align: top;\n",
       "    }\n",
       "\n",
       "    .dataframe thead th {\n",
       "        text-align: right;\n",
       "    }\n",
       "</style>\n",
       "<table border=\"1\" class=\"dataframe\">\n",
       "  <thead>\n",
       "    <tr style=\"text-align: right;\">\n",
       "      <th></th>\n",
       "      <th>name</th>\n",
       "      <th>DoB</th>\n",
       "      <th>day</th>\n",
       "      <th>month</th>\n",
       "      <th>year</th>\n",
       "      <th>weekday</th>\n",
       "      <th>day_of_week</th>\n",
       "      <th>is_leap_year</th>\n",
       "      <th>hour</th>\n",
       "      <th>minute</th>\n",
       "      <th>second</th>\n",
       "    </tr>\n",
       "  </thead>\n",
       "  <tbody>\n",
       "    <tr>\n",
       "      <th>0</th>\n",
       "      <td>Soheil</td>\n",
       "      <td>1989-10-09</td>\n",
       "      <td>9</td>\n",
       "      <td>10</td>\n",
       "      <td>1989</td>\n",
       "      <td>0</td>\n",
       "      <td>0</td>\n",
       "      <td>False</td>\n",
       "      <td>0</td>\n",
       "      <td>0</td>\n",
       "      <td>0</td>\n",
       "    </tr>\n",
       "    <tr>\n",
       "      <th>1</th>\n",
       "      <td>Mahtab</td>\n",
       "      <td>2020-06-28</td>\n",
       "      <td>28</td>\n",
       "      <td>6</td>\n",
       "      <td>2020</td>\n",
       "      <td>6</td>\n",
       "      <td>6</td>\n",
       "      <td>True</td>\n",
       "      <td>0</td>\n",
       "      <td>0</td>\n",
       "      <td>0</td>\n",
       "    </tr>\n",
       "    <tr>\n",
       "      <th>2</th>\n",
       "      <td>Baran</td>\n",
       "      <td>2022-06-28</td>\n",
       "      <td>28</td>\n",
       "      <td>6</td>\n",
       "      <td>2022</td>\n",
       "      <td>1</td>\n",
       "      <td>1</td>\n",
       "      <td>False</td>\n",
       "      <td>0</td>\n",
       "      <td>0</td>\n",
       "      <td>0</td>\n",
       "    </tr>\n",
       "  </tbody>\n",
       "</table>\n",
       "</div>"
      ]
     },
     "execution_count": 127,
     "metadata": {},
     "output_type": "execute_result"
    }
   ],
   "execution_count": 127
  },
  {
   "cell_type": "markdown",
   "id": "c2bfc07f14b2266e",
   "metadata": {},
   "source": [
    "mapping"
   ]
  },
  {
   "cell_type": "code",
   "id": "f63b172b8421b675",
   "metadata": {
    "ExecuteTime": {
     "end_time": "2025-10-04T18:13:22.993291Z",
     "start_time": "2025-10-04T18:13:22.986127Z"
    }
   },
   "source": [
    "dw_mapping={\n",
    "    0: 'Saturday',\n",
    "    1: 'Sunday',\n",
    "    2: 'Monday',\n",
    "    3: 'Tuesday',\n",
    "    4: 'Wednesday',\n",
    "    5: 'Thursday',\n",
    "    6: 'Friday'\n",
    "}\n",
    "dft16['day_of_week']=dft16['DoB'].dt.weekday.map(dw_mapping)\n",
    "dft16"
   ],
   "outputs": [
    {
     "data": {
      "text/plain": [
       "     name        DoB  day  month  year  weekday day_of_week  is_leap_year  \\\n",
       "0  Soheil 1989-10-09    9     10  1989        0    Saturday         False   \n",
       "1  Mahtab 2020-06-28   28      6  2020        6      Friday          True   \n",
       "2   Baran 2022-06-28   28      6  2022        1      Sunday         False   \n",
       "\n",
       "   hour  minute  second  \n",
       "0     0       0       0  \n",
       "1     0       0       0  \n",
       "2     0       0       0  "
      ],
      "text/html": [
       "<div>\n",
       "<style scoped>\n",
       "    .dataframe tbody tr th:only-of-type {\n",
       "        vertical-align: middle;\n",
       "    }\n",
       "\n",
       "    .dataframe tbody tr th {\n",
       "        vertical-align: top;\n",
       "    }\n",
       "\n",
       "    .dataframe thead th {\n",
       "        text-align: right;\n",
       "    }\n",
       "</style>\n",
       "<table border=\"1\" class=\"dataframe\">\n",
       "  <thead>\n",
       "    <tr style=\"text-align: right;\">\n",
       "      <th></th>\n",
       "      <th>name</th>\n",
       "      <th>DoB</th>\n",
       "      <th>day</th>\n",
       "      <th>month</th>\n",
       "      <th>year</th>\n",
       "      <th>weekday</th>\n",
       "      <th>day_of_week</th>\n",
       "      <th>is_leap_year</th>\n",
       "      <th>hour</th>\n",
       "      <th>minute</th>\n",
       "      <th>second</th>\n",
       "    </tr>\n",
       "  </thead>\n",
       "  <tbody>\n",
       "    <tr>\n",
       "      <th>0</th>\n",
       "      <td>Soheil</td>\n",
       "      <td>1989-10-09</td>\n",
       "      <td>9</td>\n",
       "      <td>10</td>\n",
       "      <td>1989</td>\n",
       "      <td>0</td>\n",
       "      <td>Saturday</td>\n",
       "      <td>False</td>\n",
       "      <td>0</td>\n",
       "      <td>0</td>\n",
       "      <td>0</td>\n",
       "    </tr>\n",
       "    <tr>\n",
       "      <th>1</th>\n",
       "      <td>Mahtab</td>\n",
       "      <td>2020-06-28</td>\n",
       "      <td>28</td>\n",
       "      <td>6</td>\n",
       "      <td>2020</td>\n",
       "      <td>6</td>\n",
       "      <td>Friday</td>\n",
       "      <td>True</td>\n",
       "      <td>0</td>\n",
       "      <td>0</td>\n",
       "      <td>0</td>\n",
       "    </tr>\n",
       "    <tr>\n",
       "      <th>2</th>\n",
       "      <td>Baran</td>\n",
       "      <td>2022-06-28</td>\n",
       "      <td>28</td>\n",
       "      <td>6</td>\n",
       "      <td>2022</td>\n",
       "      <td>1</td>\n",
       "      <td>Sunday</td>\n",
       "      <td>False</td>\n",
       "      <td>0</td>\n",
       "      <td>0</td>\n",
       "      <td>0</td>\n",
       "    </tr>\n",
       "  </tbody>\n",
       "</table>\n",
       "</div>"
      ]
     },
     "execution_count": 128,
     "metadata": {},
     "output_type": "execute_result"
    }
   ],
   "execution_count": 128
  },
  {
   "cell_type": "code",
   "id": "264339524db3791d",
   "metadata": {
    "ExecuteTime": {
     "end_time": "2025-10-04T18:13:23.229351Z",
     "start_time": "2025-10-04T18:13:23.222625Z"
    }
   },
   "source": [
    "dw_mapping={\n",
    "     0: 'شنبه',\n",
    "    1: 'یکشنبه',\n",
    "    2: 'دوشنبه',\n",
    "    3: 'سه شنبه',\n",
    "    4: 'چهارشنبه',\n",
    "    5: 'پنجشنبه',\n",
    "    6: 'جمعه',\n",
    "}\n",
    "dft16['day_of_week']=dft16['DoB'].dt.weekday.map(dw_mapping)\n",
    "dft16"
   ],
   "outputs": [
    {
     "data": {
      "text/plain": [
       "     name        DoB  day  month  year  weekday day_of_week  is_leap_year  \\\n",
       "0  Soheil 1989-10-09    9     10  1989        0        شنبه         False   \n",
       "1  Mahtab 2020-06-28   28      6  2020        6        جمعه          True   \n",
       "2   Baran 2022-06-28   28      6  2022        1      یکشنبه         False   \n",
       "\n",
       "   hour  minute  second  \n",
       "0     0       0       0  \n",
       "1     0       0       0  \n",
       "2     0       0       0  "
      ],
      "text/html": [
       "<div>\n",
       "<style scoped>\n",
       "    .dataframe tbody tr th:only-of-type {\n",
       "        vertical-align: middle;\n",
       "    }\n",
       "\n",
       "    .dataframe tbody tr th {\n",
       "        vertical-align: top;\n",
       "    }\n",
       "\n",
       "    .dataframe thead th {\n",
       "        text-align: right;\n",
       "    }\n",
       "</style>\n",
       "<table border=\"1\" class=\"dataframe\">\n",
       "  <thead>\n",
       "    <tr style=\"text-align: right;\">\n",
       "      <th></th>\n",
       "      <th>name</th>\n",
       "      <th>DoB</th>\n",
       "      <th>day</th>\n",
       "      <th>month</th>\n",
       "      <th>year</th>\n",
       "      <th>weekday</th>\n",
       "      <th>day_of_week</th>\n",
       "      <th>is_leap_year</th>\n",
       "      <th>hour</th>\n",
       "      <th>minute</th>\n",
       "      <th>second</th>\n",
       "    </tr>\n",
       "  </thead>\n",
       "  <tbody>\n",
       "    <tr>\n",
       "      <th>0</th>\n",
       "      <td>Soheil</td>\n",
       "      <td>1989-10-09</td>\n",
       "      <td>9</td>\n",
       "      <td>10</td>\n",
       "      <td>1989</td>\n",
       "      <td>0</td>\n",
       "      <td>شنبه</td>\n",
       "      <td>False</td>\n",
       "      <td>0</td>\n",
       "      <td>0</td>\n",
       "      <td>0</td>\n",
       "    </tr>\n",
       "    <tr>\n",
       "      <th>1</th>\n",
       "      <td>Mahtab</td>\n",
       "      <td>2020-06-28</td>\n",
       "      <td>28</td>\n",
       "      <td>6</td>\n",
       "      <td>2020</td>\n",
       "      <td>6</td>\n",
       "      <td>جمعه</td>\n",
       "      <td>True</td>\n",
       "      <td>0</td>\n",
       "      <td>0</td>\n",
       "      <td>0</td>\n",
       "    </tr>\n",
       "    <tr>\n",
       "      <th>2</th>\n",
       "      <td>Baran</td>\n",
       "      <td>2022-06-28</td>\n",
       "      <td>28</td>\n",
       "      <td>6</td>\n",
       "      <td>2022</td>\n",
       "      <td>1</td>\n",
       "      <td>یکشنبه</td>\n",
       "      <td>False</td>\n",
       "      <td>0</td>\n",
       "      <td>0</td>\n",
       "      <td>0</td>\n",
       "    </tr>\n",
       "  </tbody>\n",
       "</table>\n",
       "</div>"
      ]
     },
     "execution_count": 129,
     "metadata": {},
     "output_type": "execute_result"
    }
   ],
   "execution_count": 129
  },
  {
   "cell_type": "markdown",
   "id": "90ecdc4b3b72e951",
   "metadata": {},
   "source": [
    "h) محاسبه تولد"
   ]
  },
  {
   "cell_type": "code",
   "id": "ffaa26ec0e6b2514",
   "metadata": {
    "ExecuteTime": {
     "end_time": "2025-10-04T18:13:23.498651Z",
     "start_time": "2025-10-04T18:13:23.490694Z"
    }
   },
   "source": [
    "today = pd.to_datetime('today')\n",
    "dft16['age'] = today.year - dft16['DoB'].dt.year\n",
    "dft16"
   ],
   "outputs": [
    {
     "data": {
      "text/plain": [
       "     name        DoB  day  month  year  weekday day_of_week  is_leap_year  \\\n",
       "0  Soheil 1989-10-09    9     10  1989        0        شنبه         False   \n",
       "1  Mahtab 2020-06-28   28      6  2020        6        جمعه          True   \n",
       "2   Baran 2022-06-28   28      6  2022        1      یکشنبه         False   \n",
       "\n",
       "   hour  minute  second  age  \n",
       "0     0       0       0   36  \n",
       "1     0       0       0    5  \n",
       "2     0       0       0    3  "
      ],
      "text/html": [
       "<div>\n",
       "<style scoped>\n",
       "    .dataframe tbody tr th:only-of-type {\n",
       "        vertical-align: middle;\n",
       "    }\n",
       "\n",
       "    .dataframe tbody tr th {\n",
       "        vertical-align: top;\n",
       "    }\n",
       "\n",
       "    .dataframe thead th {\n",
       "        text-align: right;\n",
       "    }\n",
       "</style>\n",
       "<table border=\"1\" class=\"dataframe\">\n",
       "  <thead>\n",
       "    <tr style=\"text-align: right;\">\n",
       "      <th></th>\n",
       "      <th>name</th>\n",
       "      <th>DoB</th>\n",
       "      <th>day</th>\n",
       "      <th>month</th>\n",
       "      <th>year</th>\n",
       "      <th>weekday</th>\n",
       "      <th>day_of_week</th>\n",
       "      <th>is_leap_year</th>\n",
       "      <th>hour</th>\n",
       "      <th>minute</th>\n",
       "      <th>second</th>\n",
       "      <th>age</th>\n",
       "    </tr>\n",
       "  </thead>\n",
       "  <tbody>\n",
       "    <tr>\n",
       "      <th>0</th>\n",
       "      <td>Soheil</td>\n",
       "      <td>1989-10-09</td>\n",
       "      <td>9</td>\n",
       "      <td>10</td>\n",
       "      <td>1989</td>\n",
       "      <td>0</td>\n",
       "      <td>شنبه</td>\n",
       "      <td>False</td>\n",
       "      <td>0</td>\n",
       "      <td>0</td>\n",
       "      <td>0</td>\n",
       "      <td>36</td>\n",
       "    </tr>\n",
       "    <tr>\n",
       "      <th>1</th>\n",
       "      <td>Mahtab</td>\n",
       "      <td>2020-06-28</td>\n",
       "      <td>28</td>\n",
       "      <td>6</td>\n",
       "      <td>2020</td>\n",
       "      <td>6</td>\n",
       "      <td>جمعه</td>\n",
       "      <td>True</td>\n",
       "      <td>0</td>\n",
       "      <td>0</td>\n",
       "      <td>0</td>\n",
       "      <td>5</td>\n",
       "    </tr>\n",
       "    <tr>\n",
       "      <th>2</th>\n",
       "      <td>Baran</td>\n",
       "      <td>2022-06-28</td>\n",
       "      <td>28</td>\n",
       "      <td>6</td>\n",
       "      <td>2022</td>\n",
       "      <td>1</td>\n",
       "      <td>یکشنبه</td>\n",
       "      <td>False</td>\n",
       "      <td>0</td>\n",
       "      <td>0</td>\n",
       "      <td>0</td>\n",
       "      <td>3</td>\n",
       "    </tr>\n",
       "  </tbody>\n",
       "</table>\n",
       "</div>"
      ]
     },
     "execution_count": 130,
     "metadata": {},
     "output_type": "execute_result"
    }
   ],
   "execution_count": 130
  },
  {
   "cell_type": "code",
   "id": "55a8e94a77d635fc",
   "metadata": {
    "ExecuteTime": {
     "end_time": "2025-10-04T18:13:23.782625Z",
     "start_time": "2025-10-04T18:13:23.779878Z"
    }
   },
   "source": [
    "\"\"\"# Year difference\n",
    "today = pd.to_datetime('today')\n",
    "diff_y = today.year - df['DoB'].dt.year\n",
    "\n",
    "# Haven't had birthday\n",
    "b_md = df['DoB'].apply(lambda x: (x.month,x.day) )\n",
    "no_birthday = b_md > (today.month,today.day)\n",
    "df['age'] = diff_y - no_birthday\n",
    "df\"\"\""
   ],
   "outputs": [
    {
     "data": {
      "text/plain": [
       "\"# Year difference\\ntoday = pd.to_datetime('today')\\ndiff_y = today.year - df['DoB'].dt.year\\n\\n# Haven't had birthday\\nb_md = df['DoB'].apply(lambda x: (x.month,x.day) )\\nno_birthday = b_md > (today.month,today.day)\\ndf['age'] = diff_y - no_birthday\\ndf\""
      ]
     },
     "execution_count": 131,
     "metadata": {},
     "output_type": "execute_result"
    }
   ],
   "execution_count": 131
  },
  {
   "cell_type": "code",
   "id": "753a2bbe",
   "metadata": {
    "ExecuteTime": {
     "end_time": "2025-10-04T18:13:24.029756Z",
     "start_time": "2025-10-04T18:13:23.982660Z"
    }
   },
   "source": [
    "\n",
    "del dft16, today, date_sr, list1,dw_mapping, change_format\n",
    "gc.collect()"
   ],
   "outputs": [
    {
     "data": {
      "text/plain": [
       "68"
      ]
     },
     "execution_count": 132,
     "metadata": {},
     "output_type": "execute_result"
    }
   ],
   "execution_count": 132
  },
  {
   "cell_type": "markdown",
   "id": "9a18d2acb536e92f",
   "metadata": {},
   "source": [
    "### Trick 17 - کار با داده های زمانی شمسی ( Jalali Datetime) در Pandas"
   ]
  },
  {
   "cell_type": "code",
   "id": "ff33d4cd20a7b12c",
   "metadata": {
    "ExecuteTime": {
     "end_time": "2025-10-04T18:13:24.096738Z",
     "start_time": "2025-10-04T18:13:24.094166Z"
    }
   },
   "source": [
    " #pip install jalali-pandas"
   ],
   "outputs": [],
   "execution_count": 133
  },
  {
   "cell_type": "code",
   "id": "1f49d963000b5d3e",
   "metadata": {
    "ExecuteTime": {
     "end_time": "2025-10-04T18:13:24.174423Z",
     "start_time": "2025-10-04T18:13:24.141337Z"
    }
   },
   "source": [
    "import jalali_pandas\n",
    "import warnings\n",
    "warnings.filterwarnings('ignore')"
   ],
   "outputs": [],
   "execution_count": 134
  },
  {
   "cell_type": "code",
   "id": "8a67185f06fd4494",
   "metadata": {
    "ExecuteTime": {
     "end_time": "2025-10-04T18:13:24.217643Z",
     "start_time": "2025-10-04T18:13:24.212232Z"
    }
   },
   "source": [
    "dft17 = pd.DataFrame({'data' : pd.date_range(start='2022-11-15', periods=10, freq='D')})\n",
    "dft17"
   ],
   "outputs": [
    {
     "data": {
      "text/plain": [
       "        data\n",
       "0 2022-11-15\n",
       "1 2022-11-16\n",
       "2 2022-11-17\n",
       "3 2022-11-18\n",
       "4 2022-11-19\n",
       "5 2022-11-20\n",
       "6 2022-11-21\n",
       "7 2022-11-22\n",
       "8 2022-11-23\n",
       "9 2022-11-24"
      ],
      "text/html": [
       "<div>\n",
       "<style scoped>\n",
       "    .dataframe tbody tr th:only-of-type {\n",
       "        vertical-align: middle;\n",
       "    }\n",
       "\n",
       "    .dataframe tbody tr th {\n",
       "        vertical-align: top;\n",
       "    }\n",
       "\n",
       "    .dataframe thead th {\n",
       "        text-align: right;\n",
       "    }\n",
       "</style>\n",
       "<table border=\"1\" class=\"dataframe\">\n",
       "  <thead>\n",
       "    <tr style=\"text-align: right;\">\n",
       "      <th></th>\n",
       "      <th>data</th>\n",
       "    </tr>\n",
       "  </thead>\n",
       "  <tbody>\n",
       "    <tr>\n",
       "      <th>0</th>\n",
       "      <td>2022-11-15</td>\n",
       "    </tr>\n",
       "    <tr>\n",
       "      <th>1</th>\n",
       "      <td>2022-11-16</td>\n",
       "    </tr>\n",
       "    <tr>\n",
       "      <th>2</th>\n",
       "      <td>2022-11-17</td>\n",
       "    </tr>\n",
       "    <tr>\n",
       "      <th>3</th>\n",
       "      <td>2022-11-18</td>\n",
       "    </tr>\n",
       "    <tr>\n",
       "      <th>4</th>\n",
       "      <td>2022-11-19</td>\n",
       "    </tr>\n",
       "    <tr>\n",
       "      <th>5</th>\n",
       "      <td>2022-11-20</td>\n",
       "    </tr>\n",
       "    <tr>\n",
       "      <th>6</th>\n",
       "      <td>2022-11-21</td>\n",
       "    </tr>\n",
       "    <tr>\n",
       "      <th>7</th>\n",
       "      <td>2022-11-22</td>\n",
       "    </tr>\n",
       "    <tr>\n",
       "      <th>8</th>\n",
       "      <td>2022-11-23</td>\n",
       "    </tr>\n",
       "    <tr>\n",
       "      <th>9</th>\n",
       "      <td>2022-11-24</td>\n",
       "    </tr>\n",
       "  </tbody>\n",
       "</table>\n",
       "</div>"
      ]
     },
     "execution_count": 135,
     "metadata": {},
     "output_type": "execute_result"
    }
   ],
   "execution_count": 135
  },
  {
   "cell_type": "markdown",
   "id": "f042881b3bab3cac",
   "metadata": {},
   "source": [
    "#### a) میلادی به شمسی"
   ]
  },
  {
   "cell_type": "code",
   "id": "4af0cf63612a7f47",
   "metadata": {
    "ExecuteTime": {
     "end_time": "2025-10-04T18:13:24.303600Z",
     "start_time": "2025-10-04T18:13:24.297796Z"
    }
   },
   "source": [
    "# تبدیل تاریخ به شمسی\n",
    "\n",
    "dft17['shamsi_data'] = dft17['data'].jalali.to_jalali()\n",
    "dft17\n"
   ],
   "outputs": [
    {
     "data": {
      "text/plain": [
       "        data          shamsi_data\n",
       "0 2022-11-15  1401-08-24 00:00:00\n",
       "1 2022-11-16  1401-08-25 00:00:00\n",
       "2 2022-11-17  1401-08-26 00:00:00\n",
       "3 2022-11-18  1401-08-27 00:00:00\n",
       "4 2022-11-19  1401-08-28 00:00:00\n",
       "5 2022-11-20  1401-08-29 00:00:00\n",
       "6 2022-11-21  1401-08-30 00:00:00\n",
       "7 2022-11-22  1401-09-01 00:00:00\n",
       "8 2022-11-23  1401-09-02 00:00:00\n",
       "9 2022-11-24  1401-09-03 00:00:00"
      ],
      "text/html": [
       "<div>\n",
       "<style scoped>\n",
       "    .dataframe tbody tr th:only-of-type {\n",
       "        vertical-align: middle;\n",
       "    }\n",
       "\n",
       "    .dataframe tbody tr th {\n",
       "        vertical-align: top;\n",
       "    }\n",
       "\n",
       "    .dataframe thead th {\n",
       "        text-align: right;\n",
       "    }\n",
       "</style>\n",
       "<table border=\"1\" class=\"dataframe\">\n",
       "  <thead>\n",
       "    <tr style=\"text-align: right;\">\n",
       "      <th></th>\n",
       "      <th>data</th>\n",
       "      <th>shamsi_data</th>\n",
       "    </tr>\n",
       "  </thead>\n",
       "  <tbody>\n",
       "    <tr>\n",
       "      <th>0</th>\n",
       "      <td>2022-11-15</td>\n",
       "      <td>1401-08-24 00:00:00</td>\n",
       "    </tr>\n",
       "    <tr>\n",
       "      <th>1</th>\n",
       "      <td>2022-11-16</td>\n",
       "      <td>1401-08-25 00:00:00</td>\n",
       "    </tr>\n",
       "    <tr>\n",
       "      <th>2</th>\n",
       "      <td>2022-11-17</td>\n",
       "      <td>1401-08-26 00:00:00</td>\n",
       "    </tr>\n",
       "    <tr>\n",
       "      <th>3</th>\n",
       "      <td>2022-11-18</td>\n",
       "      <td>1401-08-27 00:00:00</td>\n",
       "    </tr>\n",
       "    <tr>\n",
       "      <th>4</th>\n",
       "      <td>2022-11-19</td>\n",
       "      <td>1401-08-28 00:00:00</td>\n",
       "    </tr>\n",
       "    <tr>\n",
       "      <th>5</th>\n",
       "      <td>2022-11-20</td>\n",
       "      <td>1401-08-29 00:00:00</td>\n",
       "    </tr>\n",
       "    <tr>\n",
       "      <th>6</th>\n",
       "      <td>2022-11-21</td>\n",
       "      <td>1401-08-30 00:00:00</td>\n",
       "    </tr>\n",
       "    <tr>\n",
       "      <th>7</th>\n",
       "      <td>2022-11-22</td>\n",
       "      <td>1401-09-01 00:00:00</td>\n",
       "    </tr>\n",
       "    <tr>\n",
       "      <th>8</th>\n",
       "      <td>2022-11-23</td>\n",
       "      <td>1401-09-02 00:00:00</td>\n",
       "    </tr>\n",
       "    <tr>\n",
       "      <th>9</th>\n",
       "      <td>2022-11-24</td>\n",
       "      <td>1401-09-03 00:00:00</td>\n",
       "    </tr>\n",
       "  </tbody>\n",
       "</table>\n",
       "</div>"
      ]
     },
     "execution_count": 136,
     "metadata": {},
     "output_type": "execute_result"
    }
   ],
   "execution_count": 136
  },
  {
   "cell_type": "markdown",
   "id": "7a19ce505247e489",
   "metadata": {},
   "source": [
    "#### b) شمسی به میلادی"
   ]
  },
  {
   "cell_type": "code",
   "id": "3522e29f40ed2f0",
   "metadata": {
    "ExecuteTime": {
     "end_time": "2025-10-04T18:13:24.471826Z",
     "start_time": "2025-10-04T18:13:24.466049Z"
    }
   },
   "source": [
    "dft17['miladi_data'] = dft17['shamsi_data'].jalali.to_gregorian()\n",
    "dft17"
   ],
   "outputs": [
    {
     "data": {
      "text/plain": [
       "        data          shamsi_data miladi_data\n",
       "0 2022-11-15  1401-08-24 00:00:00  2022-11-15\n",
       "1 2022-11-16  1401-08-25 00:00:00  2022-11-16\n",
       "2 2022-11-17  1401-08-26 00:00:00  2022-11-17\n",
       "3 2022-11-18  1401-08-27 00:00:00  2022-11-18\n",
       "4 2022-11-19  1401-08-28 00:00:00  2022-11-19\n",
       "5 2022-11-20  1401-08-29 00:00:00  2022-11-20\n",
       "6 2022-11-21  1401-08-30 00:00:00  2022-11-21\n",
       "7 2022-11-22  1401-09-01 00:00:00  2022-11-22\n",
       "8 2022-11-23  1401-09-02 00:00:00  2022-11-23\n",
       "9 2022-11-24  1401-09-03 00:00:00  2022-11-24"
      ],
      "text/html": [
       "<div>\n",
       "<style scoped>\n",
       "    .dataframe tbody tr th:only-of-type {\n",
       "        vertical-align: middle;\n",
       "    }\n",
       "\n",
       "    .dataframe tbody tr th {\n",
       "        vertical-align: top;\n",
       "    }\n",
       "\n",
       "    .dataframe thead th {\n",
       "        text-align: right;\n",
       "    }\n",
       "</style>\n",
       "<table border=\"1\" class=\"dataframe\">\n",
       "  <thead>\n",
       "    <tr style=\"text-align: right;\">\n",
       "      <th></th>\n",
       "      <th>data</th>\n",
       "      <th>shamsi_data</th>\n",
       "      <th>miladi_data</th>\n",
       "    </tr>\n",
       "  </thead>\n",
       "  <tbody>\n",
       "    <tr>\n",
       "      <th>0</th>\n",
       "      <td>2022-11-15</td>\n",
       "      <td>1401-08-24 00:00:00</td>\n",
       "      <td>2022-11-15</td>\n",
       "    </tr>\n",
       "    <tr>\n",
       "      <th>1</th>\n",
       "      <td>2022-11-16</td>\n",
       "      <td>1401-08-25 00:00:00</td>\n",
       "      <td>2022-11-16</td>\n",
       "    </tr>\n",
       "    <tr>\n",
       "      <th>2</th>\n",
       "      <td>2022-11-17</td>\n",
       "      <td>1401-08-26 00:00:00</td>\n",
       "      <td>2022-11-17</td>\n",
       "    </tr>\n",
       "    <tr>\n",
       "      <th>3</th>\n",
       "      <td>2022-11-18</td>\n",
       "      <td>1401-08-27 00:00:00</td>\n",
       "      <td>2022-11-18</td>\n",
       "    </tr>\n",
       "    <tr>\n",
       "      <th>4</th>\n",
       "      <td>2022-11-19</td>\n",
       "      <td>1401-08-28 00:00:00</td>\n",
       "      <td>2022-11-19</td>\n",
       "    </tr>\n",
       "    <tr>\n",
       "      <th>5</th>\n",
       "      <td>2022-11-20</td>\n",
       "      <td>1401-08-29 00:00:00</td>\n",
       "      <td>2022-11-20</td>\n",
       "    </tr>\n",
       "    <tr>\n",
       "      <th>6</th>\n",
       "      <td>2022-11-21</td>\n",
       "      <td>1401-08-30 00:00:00</td>\n",
       "      <td>2022-11-21</td>\n",
       "    </tr>\n",
       "    <tr>\n",
       "      <th>7</th>\n",
       "      <td>2022-11-22</td>\n",
       "      <td>1401-09-01 00:00:00</td>\n",
       "      <td>2022-11-22</td>\n",
       "    </tr>\n",
       "    <tr>\n",
       "      <th>8</th>\n",
       "      <td>2022-11-23</td>\n",
       "      <td>1401-09-02 00:00:00</td>\n",
       "      <td>2022-11-23</td>\n",
       "    </tr>\n",
       "    <tr>\n",
       "      <th>9</th>\n",
       "      <td>2022-11-24</td>\n",
       "      <td>1401-09-03 00:00:00</td>\n",
       "      <td>2022-11-24</td>\n",
       "    </tr>\n",
       "  </tbody>\n",
       "</table>\n",
       "</div>"
      ]
     },
     "execution_count": 137,
     "metadata": {},
     "output_type": "execute_result"
    }
   ],
   "execution_count": 137
  },
  {
   "cell_type": "markdown",
   "id": "dbb0c3e255a2cccf",
   "metadata": {},
   "source": [
    "#### c) تجزیه"
   ]
  },
  {
   "cell_type": "code",
   "id": "2f60adf9a3e5db65",
   "metadata": {
    "ExecuteTime": {
     "end_time": "2025-10-04T18:13:24.694697Z",
     "start_time": "2025-10-04T18:13:24.689091Z"
    }
   },
   "source": [
    "dft17 = pd.DataFrame({\"date\": [\"1401/08/24\", \"1401/08/25\", \"1401/08/26\"]})\n",
    "dft17[\"jdate\"] = dft17[\"date\"].jalali.parse_jalali(\"%Y/%m/%d\")\n",
    "dft17"
   ],
   "outputs": [
    {
     "data": {
      "text/plain": [
       "         date                jdate\n",
       "0  1401/08/24  1401-08-24 00:00:00\n",
       "1  1401/08/25  1401-08-25 00:00:00\n",
       "2  1401/08/26  1401-08-26 00:00:00"
      ],
      "text/html": [
       "<div>\n",
       "<style scoped>\n",
       "    .dataframe tbody tr th:only-of-type {\n",
       "        vertical-align: middle;\n",
       "    }\n",
       "\n",
       "    .dataframe tbody tr th {\n",
       "        vertical-align: top;\n",
       "    }\n",
       "\n",
       "    .dataframe thead th {\n",
       "        text-align: right;\n",
       "    }\n",
       "</style>\n",
       "<table border=\"1\" class=\"dataframe\">\n",
       "  <thead>\n",
       "    <tr style=\"text-align: right;\">\n",
       "      <th></th>\n",
       "      <th>date</th>\n",
       "      <th>jdate</th>\n",
       "    </tr>\n",
       "  </thead>\n",
       "  <tbody>\n",
       "    <tr>\n",
       "      <th>0</th>\n",
       "      <td>1401/08/24</td>\n",
       "      <td>1401-08-24 00:00:00</td>\n",
       "    </tr>\n",
       "    <tr>\n",
       "      <th>1</th>\n",
       "      <td>1401/08/25</td>\n",
       "      <td>1401-08-25 00:00:00</td>\n",
       "    </tr>\n",
       "    <tr>\n",
       "      <th>2</th>\n",
       "      <td>1401/08/26</td>\n",
       "      <td>1401-08-26 00:00:00</td>\n",
       "    </tr>\n",
       "  </tbody>\n",
       "</table>\n",
       "</div>"
      ]
     },
     "execution_count": 138,
     "metadata": {},
     "output_type": "execute_result"
    }
   ],
   "execution_count": 138
  },
  {
   "cell_type": "code",
   "id": "ffe9c9bcd4d0cf64",
   "metadata": {
    "ExecuteTime": {
     "end_time": "2025-10-04T18:13:25.022605Z",
     "start_time": "2025-10-04T18:13:25.015211Z"
    }
   },
   "source": [
    "dft17['year'] = dft17[\"jdate\"].jalali.year\n",
    "dft17['month'] = dft17[\"jdate\"].jalali.month\n",
    "dft17['quarter'] = dft17[\"jdate\"].jalali.quarter\n",
    "dft17['day'] = dft17[\"jdate\"].jalali.day\n",
    "dft17['weekday'] = dft17[\"jdate\"].jalali.weekday\n",
    "dft17"
   ],
   "outputs": [
    {
     "data": {
      "text/plain": [
       "         date                jdate  year  month  quarter  day  weekday\n",
       "0  1401/08/24  1401-08-24 00:00:00  1401      8        3   24        3\n",
       "1  1401/08/25  1401-08-25 00:00:00  1401      8        3   25        4\n",
       "2  1401/08/26  1401-08-26 00:00:00  1401      8        3   26        5"
      ],
      "text/html": [
       "<div>\n",
       "<style scoped>\n",
       "    .dataframe tbody tr th:only-of-type {\n",
       "        vertical-align: middle;\n",
       "    }\n",
       "\n",
       "    .dataframe tbody tr th {\n",
       "        vertical-align: top;\n",
       "    }\n",
       "\n",
       "    .dataframe thead th {\n",
       "        text-align: right;\n",
       "    }\n",
       "</style>\n",
       "<table border=\"1\" class=\"dataframe\">\n",
       "  <thead>\n",
       "    <tr style=\"text-align: right;\">\n",
       "      <th></th>\n",
       "      <th>date</th>\n",
       "      <th>jdate</th>\n",
       "      <th>year</th>\n",
       "      <th>month</th>\n",
       "      <th>quarter</th>\n",
       "      <th>day</th>\n",
       "      <th>weekday</th>\n",
       "    </tr>\n",
       "  </thead>\n",
       "  <tbody>\n",
       "    <tr>\n",
       "      <th>0</th>\n",
       "      <td>1401/08/24</td>\n",
       "      <td>1401-08-24 00:00:00</td>\n",
       "      <td>1401</td>\n",
       "      <td>8</td>\n",
       "      <td>3</td>\n",
       "      <td>24</td>\n",
       "      <td>3</td>\n",
       "    </tr>\n",
       "    <tr>\n",
       "      <th>1</th>\n",
       "      <td>1401/08/25</td>\n",
       "      <td>1401-08-25 00:00:00</td>\n",
       "      <td>1401</td>\n",
       "      <td>8</td>\n",
       "      <td>3</td>\n",
       "      <td>25</td>\n",
       "      <td>4</td>\n",
       "    </tr>\n",
       "    <tr>\n",
       "      <th>2</th>\n",
       "      <td>1401/08/26</td>\n",
       "      <td>1401-08-26 00:00:00</td>\n",
       "      <td>1401</td>\n",
       "      <td>8</td>\n",
       "      <td>3</td>\n",
       "      <td>26</td>\n",
       "      <td>5</td>\n",
       "    </tr>\n",
       "  </tbody>\n",
       "</table>\n",
       "</div>"
      ]
     },
     "execution_count": 139,
     "metadata": {},
     "output_type": "execute_result"
    }
   ],
   "execution_count": 139
  },
  {
   "cell_type": "code",
   "id": "7292765f",
   "metadata": {
    "ExecuteTime": {
     "end_time": "2025-10-04T18:13:25.357382Z",
     "start_time": "2025-10-04T18:13:25.305552Z"
    }
   },
   "source": [
    "\n",
    "del dft17\n",
    "gc.collect()"
   ],
   "outputs": [
    {
     "data": {
      "text/plain": [
       "12"
      ]
     },
     "execution_count": 140,
     "metadata": {},
     "output_type": "execute_result"
    }
   ],
   "execution_count": 140
  },
  {
   "cell_type": "markdown",
   "id": "9dd469fd9592da17",
   "metadata": {},
   "source": [
    "### Trick 18 - کاربرد دستور Explode در Pandas"
   ]
  },
  {
   "cell_type": "code",
   "id": "177641c4cd9b40ad",
   "metadata": {
    "ExecuteTime": {
     "end_time": "2025-10-04T18:13:25.566310Z",
     "start_time": "2025-10-04T18:13:25.563747Z"
    }
   },
   "source": [
    "import warnings\n",
    "warnings.filterwarnings('ignore')"
   ],
   "outputs": [],
   "execution_count": 141
  },
  {
   "cell_type": "code",
   "id": "9790730b0afa9b71",
   "metadata": {
    "ExecuteTime": {
     "end_time": "2025-10-04T18:13:25.643355Z",
     "start_time": "2025-10-04T18:13:25.640789Z"
    }
   },
   "source": [
    "dic18 = {\"Team\":[\"FC Barcelona\", \"FC Real Madrid\"],\n",
    "    \"Players\":[[\"Ter Stegen\", \"Semedo\", \"Piqué\", \"Lenglet\", \"Alba\", \"Rakitic\", \"De Jong\", \"Sergi Roberto\", \"Messi\", \"Suárez\", \"Griezmann\"],\n",
    "               [\"Courtois\", \"Carvajal\", \"Varane\", \"Sergio Ramos\", \"Mendy\", \"Kroos\", \"Valverde\", \"Casemiro\", \"Isco\", \"Benzema\", \"Bale\"]]}\n"
   ],
   "outputs": [],
   "execution_count": 142
  },
  {
   "cell_type": "code",
   "id": "3c0e27d8198896c6",
   "metadata": {
    "ExecuteTime": {
     "end_time": "2025-10-04T18:13:25.700312Z",
     "start_time": "2025-10-04T18:13:25.695906Z"
    }
   },
   "source": [
    "dft18 = pd.DataFrame(dic18)\n",
    "dft18"
   ],
   "outputs": [
    {
     "data": {
      "text/plain": [
       "             Team                                            Players\n",
       "0    FC Barcelona  [Ter Stegen, Semedo, Piqué, Lenglet, Alba, Rak...\n",
       "1  FC Real Madrid  [Courtois, Carvajal, Varane, Sergio Ramos, Men..."
      ],
      "text/html": [
       "<div>\n",
       "<style scoped>\n",
       "    .dataframe tbody tr th:only-of-type {\n",
       "        vertical-align: middle;\n",
       "    }\n",
       "\n",
       "    .dataframe tbody tr th {\n",
       "        vertical-align: top;\n",
       "    }\n",
       "\n",
       "    .dataframe thead th {\n",
       "        text-align: right;\n",
       "    }\n",
       "</style>\n",
       "<table border=\"1\" class=\"dataframe\">\n",
       "  <thead>\n",
       "    <tr style=\"text-align: right;\">\n",
       "      <th></th>\n",
       "      <th>Team</th>\n",
       "      <th>Players</th>\n",
       "    </tr>\n",
       "  </thead>\n",
       "  <tbody>\n",
       "    <tr>\n",
       "      <th>0</th>\n",
       "      <td>FC Barcelona</td>\n",
       "      <td>[Ter Stegen, Semedo, Piqué, Lenglet, Alba, Rak...</td>\n",
       "    </tr>\n",
       "    <tr>\n",
       "      <th>1</th>\n",
       "      <td>FC Real Madrid</td>\n",
       "      <td>[Courtois, Carvajal, Varane, Sergio Ramos, Men...</td>\n",
       "    </tr>\n",
       "  </tbody>\n",
       "</table>\n",
       "</div>"
      ]
     },
     "execution_count": 143,
     "metadata": {},
     "output_type": "execute_result"
    }
   ],
   "execution_count": 143
  },
  {
   "cell_type": "code",
   "id": "4cfac0b67005bfc9",
   "metadata": {
    "ExecuteTime": {
     "end_time": "2025-10-04T18:13:25.861068Z",
     "start_time": "2025-10-04T18:13:25.812892Z"
    }
   },
   "source": [
    "tempDF = dft18.explode('Players')\n",
    "tempDF"
   ],
   "outputs": [
    {
     "data": {
      "text/plain": [
       "             Team        Players\n",
       "0    FC Barcelona     Ter Stegen\n",
       "0    FC Barcelona         Semedo\n",
       "0    FC Barcelona          Piqué\n",
       "0    FC Barcelona        Lenglet\n",
       "0    FC Barcelona           Alba\n",
       "0    FC Barcelona        Rakitic\n",
       "0    FC Barcelona        De Jong\n",
       "0    FC Barcelona  Sergi Roberto\n",
       "0    FC Barcelona          Messi\n",
       "0    FC Barcelona         Suárez\n",
       "0    FC Barcelona      Griezmann\n",
       "1  FC Real Madrid       Courtois\n",
       "1  FC Real Madrid       Carvajal\n",
       "1  FC Real Madrid         Varane\n",
       "1  FC Real Madrid   Sergio Ramos\n",
       "1  FC Real Madrid          Mendy\n",
       "1  FC Real Madrid          Kroos\n",
       "1  FC Real Madrid       Valverde\n",
       "1  FC Real Madrid       Casemiro\n",
       "1  FC Real Madrid           Isco\n",
       "1  FC Real Madrid        Benzema\n",
       "1  FC Real Madrid           Bale"
      ],
      "text/html": [
       "<div>\n",
       "<style scoped>\n",
       "    .dataframe tbody tr th:only-of-type {\n",
       "        vertical-align: middle;\n",
       "    }\n",
       "\n",
       "    .dataframe tbody tr th {\n",
       "        vertical-align: top;\n",
       "    }\n",
       "\n",
       "    .dataframe thead th {\n",
       "        text-align: right;\n",
       "    }\n",
       "</style>\n",
       "<table border=\"1\" class=\"dataframe\">\n",
       "  <thead>\n",
       "    <tr style=\"text-align: right;\">\n",
       "      <th></th>\n",
       "      <th>Team</th>\n",
       "      <th>Players</th>\n",
       "    </tr>\n",
       "  </thead>\n",
       "  <tbody>\n",
       "    <tr>\n",
       "      <th>0</th>\n",
       "      <td>FC Barcelona</td>\n",
       "      <td>Ter Stegen</td>\n",
       "    </tr>\n",
       "    <tr>\n",
       "      <th>0</th>\n",
       "      <td>FC Barcelona</td>\n",
       "      <td>Semedo</td>\n",
       "    </tr>\n",
       "    <tr>\n",
       "      <th>0</th>\n",
       "      <td>FC Barcelona</td>\n",
       "      <td>Piqué</td>\n",
       "    </tr>\n",
       "    <tr>\n",
       "      <th>0</th>\n",
       "      <td>FC Barcelona</td>\n",
       "      <td>Lenglet</td>\n",
       "    </tr>\n",
       "    <tr>\n",
       "      <th>0</th>\n",
       "      <td>FC Barcelona</td>\n",
       "      <td>Alba</td>\n",
       "    </tr>\n",
       "    <tr>\n",
       "      <th>0</th>\n",
       "      <td>FC Barcelona</td>\n",
       "      <td>Rakitic</td>\n",
       "    </tr>\n",
       "    <tr>\n",
       "      <th>0</th>\n",
       "      <td>FC Barcelona</td>\n",
       "      <td>De Jong</td>\n",
       "    </tr>\n",
       "    <tr>\n",
       "      <th>0</th>\n",
       "      <td>FC Barcelona</td>\n",
       "      <td>Sergi Roberto</td>\n",
       "    </tr>\n",
       "    <tr>\n",
       "      <th>0</th>\n",
       "      <td>FC Barcelona</td>\n",
       "      <td>Messi</td>\n",
       "    </tr>\n",
       "    <tr>\n",
       "      <th>0</th>\n",
       "      <td>FC Barcelona</td>\n",
       "      <td>Suárez</td>\n",
       "    </tr>\n",
       "    <tr>\n",
       "      <th>0</th>\n",
       "      <td>FC Barcelona</td>\n",
       "      <td>Griezmann</td>\n",
       "    </tr>\n",
       "    <tr>\n",
       "      <th>1</th>\n",
       "      <td>FC Real Madrid</td>\n",
       "      <td>Courtois</td>\n",
       "    </tr>\n",
       "    <tr>\n",
       "      <th>1</th>\n",
       "      <td>FC Real Madrid</td>\n",
       "      <td>Carvajal</td>\n",
       "    </tr>\n",
       "    <tr>\n",
       "      <th>1</th>\n",
       "      <td>FC Real Madrid</td>\n",
       "      <td>Varane</td>\n",
       "    </tr>\n",
       "    <tr>\n",
       "      <th>1</th>\n",
       "      <td>FC Real Madrid</td>\n",
       "      <td>Sergio Ramos</td>\n",
       "    </tr>\n",
       "    <tr>\n",
       "      <th>1</th>\n",
       "      <td>FC Real Madrid</td>\n",
       "      <td>Mendy</td>\n",
       "    </tr>\n",
       "    <tr>\n",
       "      <th>1</th>\n",
       "      <td>FC Real Madrid</td>\n",
       "      <td>Kroos</td>\n",
       "    </tr>\n",
       "    <tr>\n",
       "      <th>1</th>\n",
       "      <td>FC Real Madrid</td>\n",
       "      <td>Valverde</td>\n",
       "    </tr>\n",
       "    <tr>\n",
       "      <th>1</th>\n",
       "      <td>FC Real Madrid</td>\n",
       "      <td>Casemiro</td>\n",
       "    </tr>\n",
       "    <tr>\n",
       "      <th>1</th>\n",
       "      <td>FC Real Madrid</td>\n",
       "      <td>Isco</td>\n",
       "    </tr>\n",
       "    <tr>\n",
       "      <th>1</th>\n",
       "      <td>FC Real Madrid</td>\n",
       "      <td>Benzema</td>\n",
       "    </tr>\n",
       "    <tr>\n",
       "      <th>1</th>\n",
       "      <td>FC Real Madrid</td>\n",
       "      <td>Bale</td>\n",
       "    </tr>\n",
       "  </tbody>\n",
       "</table>\n",
       "</div>"
      ]
     },
     "execution_count": 144,
     "metadata": {},
     "output_type": "execute_result"
    }
   ],
   "execution_count": 144
  },
  {
   "cell_type": "markdown",
   "id": "a9b06f4dbc0db734",
   "metadata": {},
   "source": [
    "inclode"
   ]
  },
  {
   "cell_type": "code",
   "id": "b07bb84f2db1afff",
   "metadata": {
    "ExecuteTime": {
     "end_time": "2025-10-04T18:13:26.096503Z",
     "start_time": "2025-10-04T18:13:26.032466Z"
    }
   },
   "source": [
    "tempDF['imp'] = tempDF.groupby(tempDF.index)[\"Players\"].agg(list)\n",
    "\n",
    "tempDF"
   ],
   "outputs": [
    {
     "data": {
      "text/plain": [
       "             Team        Players  \\\n",
       "0    FC Barcelona     Ter Stegen   \n",
       "0    FC Barcelona         Semedo   \n",
       "0    FC Barcelona          Piqué   \n",
       "0    FC Barcelona        Lenglet   \n",
       "0    FC Barcelona           Alba   \n",
       "0    FC Barcelona        Rakitic   \n",
       "0    FC Barcelona        De Jong   \n",
       "0    FC Barcelona  Sergi Roberto   \n",
       "0    FC Barcelona          Messi   \n",
       "0    FC Barcelona         Suárez   \n",
       "0    FC Barcelona      Griezmann   \n",
       "1  FC Real Madrid       Courtois   \n",
       "1  FC Real Madrid       Carvajal   \n",
       "1  FC Real Madrid         Varane   \n",
       "1  FC Real Madrid   Sergio Ramos   \n",
       "1  FC Real Madrid          Mendy   \n",
       "1  FC Real Madrid          Kroos   \n",
       "1  FC Real Madrid       Valverde   \n",
       "1  FC Real Madrid       Casemiro   \n",
       "1  FC Real Madrid           Isco   \n",
       "1  FC Real Madrid        Benzema   \n",
       "1  FC Real Madrid           Bale   \n",
       "\n",
       "                                                 imp  \n",
       "0  [Ter Stegen, Semedo, Piqué, Lenglet, Alba, Rak...  \n",
       "0  [Ter Stegen, Semedo, Piqué, Lenglet, Alba, Rak...  \n",
       "0  [Ter Stegen, Semedo, Piqué, Lenglet, Alba, Rak...  \n",
       "0  [Ter Stegen, Semedo, Piqué, Lenglet, Alba, Rak...  \n",
       "0  [Ter Stegen, Semedo, Piqué, Lenglet, Alba, Rak...  \n",
       "0  [Ter Stegen, Semedo, Piqué, Lenglet, Alba, Rak...  \n",
       "0  [Ter Stegen, Semedo, Piqué, Lenglet, Alba, Rak...  \n",
       "0  [Ter Stegen, Semedo, Piqué, Lenglet, Alba, Rak...  \n",
       "0  [Ter Stegen, Semedo, Piqué, Lenglet, Alba, Rak...  \n",
       "0  [Ter Stegen, Semedo, Piqué, Lenglet, Alba, Rak...  \n",
       "0  [Ter Stegen, Semedo, Piqué, Lenglet, Alba, Rak...  \n",
       "1  [Courtois, Carvajal, Varane, Sergio Ramos, Men...  \n",
       "1  [Courtois, Carvajal, Varane, Sergio Ramos, Men...  \n",
       "1  [Courtois, Carvajal, Varane, Sergio Ramos, Men...  \n",
       "1  [Courtois, Carvajal, Varane, Sergio Ramos, Men...  \n",
       "1  [Courtois, Carvajal, Varane, Sergio Ramos, Men...  \n",
       "1  [Courtois, Carvajal, Varane, Sergio Ramos, Men...  \n",
       "1  [Courtois, Carvajal, Varane, Sergio Ramos, Men...  \n",
       "1  [Courtois, Carvajal, Varane, Sergio Ramos, Men...  \n",
       "1  [Courtois, Carvajal, Varane, Sergio Ramos, Men...  \n",
       "1  [Courtois, Carvajal, Varane, Sergio Ramos, Men...  \n",
       "1  [Courtois, Carvajal, Varane, Sergio Ramos, Men...  "
      ],
      "text/html": [
       "<div>\n",
       "<style scoped>\n",
       "    .dataframe tbody tr th:only-of-type {\n",
       "        vertical-align: middle;\n",
       "    }\n",
       "\n",
       "    .dataframe tbody tr th {\n",
       "        vertical-align: top;\n",
       "    }\n",
       "\n",
       "    .dataframe thead th {\n",
       "        text-align: right;\n",
       "    }\n",
       "</style>\n",
       "<table border=\"1\" class=\"dataframe\">\n",
       "  <thead>\n",
       "    <tr style=\"text-align: right;\">\n",
       "      <th></th>\n",
       "      <th>Team</th>\n",
       "      <th>Players</th>\n",
       "      <th>imp</th>\n",
       "    </tr>\n",
       "  </thead>\n",
       "  <tbody>\n",
       "    <tr>\n",
       "      <th>0</th>\n",
       "      <td>FC Barcelona</td>\n",
       "      <td>Ter Stegen</td>\n",
       "      <td>[Ter Stegen, Semedo, Piqué, Lenglet, Alba, Rak...</td>\n",
       "    </tr>\n",
       "    <tr>\n",
       "      <th>0</th>\n",
       "      <td>FC Barcelona</td>\n",
       "      <td>Semedo</td>\n",
       "      <td>[Ter Stegen, Semedo, Piqué, Lenglet, Alba, Rak...</td>\n",
       "    </tr>\n",
       "    <tr>\n",
       "      <th>0</th>\n",
       "      <td>FC Barcelona</td>\n",
       "      <td>Piqué</td>\n",
       "      <td>[Ter Stegen, Semedo, Piqué, Lenglet, Alba, Rak...</td>\n",
       "    </tr>\n",
       "    <tr>\n",
       "      <th>0</th>\n",
       "      <td>FC Barcelona</td>\n",
       "      <td>Lenglet</td>\n",
       "      <td>[Ter Stegen, Semedo, Piqué, Lenglet, Alba, Rak...</td>\n",
       "    </tr>\n",
       "    <tr>\n",
       "      <th>0</th>\n",
       "      <td>FC Barcelona</td>\n",
       "      <td>Alba</td>\n",
       "      <td>[Ter Stegen, Semedo, Piqué, Lenglet, Alba, Rak...</td>\n",
       "    </tr>\n",
       "    <tr>\n",
       "      <th>0</th>\n",
       "      <td>FC Barcelona</td>\n",
       "      <td>Rakitic</td>\n",
       "      <td>[Ter Stegen, Semedo, Piqué, Lenglet, Alba, Rak...</td>\n",
       "    </tr>\n",
       "    <tr>\n",
       "      <th>0</th>\n",
       "      <td>FC Barcelona</td>\n",
       "      <td>De Jong</td>\n",
       "      <td>[Ter Stegen, Semedo, Piqué, Lenglet, Alba, Rak...</td>\n",
       "    </tr>\n",
       "    <tr>\n",
       "      <th>0</th>\n",
       "      <td>FC Barcelona</td>\n",
       "      <td>Sergi Roberto</td>\n",
       "      <td>[Ter Stegen, Semedo, Piqué, Lenglet, Alba, Rak...</td>\n",
       "    </tr>\n",
       "    <tr>\n",
       "      <th>0</th>\n",
       "      <td>FC Barcelona</td>\n",
       "      <td>Messi</td>\n",
       "      <td>[Ter Stegen, Semedo, Piqué, Lenglet, Alba, Rak...</td>\n",
       "    </tr>\n",
       "    <tr>\n",
       "      <th>0</th>\n",
       "      <td>FC Barcelona</td>\n",
       "      <td>Suárez</td>\n",
       "      <td>[Ter Stegen, Semedo, Piqué, Lenglet, Alba, Rak...</td>\n",
       "    </tr>\n",
       "    <tr>\n",
       "      <th>0</th>\n",
       "      <td>FC Barcelona</td>\n",
       "      <td>Griezmann</td>\n",
       "      <td>[Ter Stegen, Semedo, Piqué, Lenglet, Alba, Rak...</td>\n",
       "    </tr>\n",
       "    <tr>\n",
       "      <th>1</th>\n",
       "      <td>FC Real Madrid</td>\n",
       "      <td>Courtois</td>\n",
       "      <td>[Courtois, Carvajal, Varane, Sergio Ramos, Men...</td>\n",
       "    </tr>\n",
       "    <tr>\n",
       "      <th>1</th>\n",
       "      <td>FC Real Madrid</td>\n",
       "      <td>Carvajal</td>\n",
       "      <td>[Courtois, Carvajal, Varane, Sergio Ramos, Men...</td>\n",
       "    </tr>\n",
       "    <tr>\n",
       "      <th>1</th>\n",
       "      <td>FC Real Madrid</td>\n",
       "      <td>Varane</td>\n",
       "      <td>[Courtois, Carvajal, Varane, Sergio Ramos, Men...</td>\n",
       "    </tr>\n",
       "    <tr>\n",
       "      <th>1</th>\n",
       "      <td>FC Real Madrid</td>\n",
       "      <td>Sergio Ramos</td>\n",
       "      <td>[Courtois, Carvajal, Varane, Sergio Ramos, Men...</td>\n",
       "    </tr>\n",
       "    <tr>\n",
       "      <th>1</th>\n",
       "      <td>FC Real Madrid</td>\n",
       "      <td>Mendy</td>\n",
       "      <td>[Courtois, Carvajal, Varane, Sergio Ramos, Men...</td>\n",
       "    </tr>\n",
       "    <tr>\n",
       "      <th>1</th>\n",
       "      <td>FC Real Madrid</td>\n",
       "      <td>Kroos</td>\n",
       "      <td>[Courtois, Carvajal, Varane, Sergio Ramos, Men...</td>\n",
       "    </tr>\n",
       "    <tr>\n",
       "      <th>1</th>\n",
       "      <td>FC Real Madrid</td>\n",
       "      <td>Valverde</td>\n",
       "      <td>[Courtois, Carvajal, Varane, Sergio Ramos, Men...</td>\n",
       "    </tr>\n",
       "    <tr>\n",
       "      <th>1</th>\n",
       "      <td>FC Real Madrid</td>\n",
       "      <td>Casemiro</td>\n",
       "      <td>[Courtois, Carvajal, Varane, Sergio Ramos, Men...</td>\n",
       "    </tr>\n",
       "    <tr>\n",
       "      <th>1</th>\n",
       "      <td>FC Real Madrid</td>\n",
       "      <td>Isco</td>\n",
       "      <td>[Courtois, Carvajal, Varane, Sergio Ramos, Men...</td>\n",
       "    </tr>\n",
       "    <tr>\n",
       "      <th>1</th>\n",
       "      <td>FC Real Madrid</td>\n",
       "      <td>Benzema</td>\n",
       "      <td>[Courtois, Carvajal, Varane, Sergio Ramos, Men...</td>\n",
       "    </tr>\n",
       "    <tr>\n",
       "      <th>1</th>\n",
       "      <td>FC Real Madrid</td>\n",
       "      <td>Bale</td>\n",
       "      <td>[Courtois, Carvajal, Varane, Sergio Ramos, Men...</td>\n",
       "    </tr>\n",
       "  </tbody>\n",
       "</table>\n",
       "</div>"
      ]
     },
     "execution_count": 145,
     "metadata": {},
     "output_type": "execute_result"
    }
   ],
   "execution_count": 145
  },
  {
   "cell_type": "code",
   "id": "df8f4cad",
   "metadata": {
    "ExecuteTime": {
     "end_time": "2025-10-04T18:13:26.279797Z",
     "start_time": "2025-10-04T18:13:26.231787Z"
    }
   },
   "source": [
    "\n",
    "del dft18, tempDF,dic18\n",
    "gc.collect()"
   ],
   "outputs": [
    {
     "data": {
      "text/plain": [
       "12"
      ]
     },
     "execution_count": 146,
     "metadata": {},
     "output_type": "execute_result"
    }
   ],
   "execution_count": 146
  },
  {
   "cell_type": "markdown",
   "id": "df2b5f86285141fd",
   "metadata": {},
   "source": [
    "### Trick 19 - نحوه کار با CategoricalDtype در Pandas"
   ]
  },
  {
   "cell_type": "code",
   "id": "1c0d1a5219fe77f9",
   "metadata": {
    "ExecuteTime": {
     "end_time": "2025-10-04T18:13:26.531113Z",
     "start_time": "2025-10-04T18:13:26.528174Z"
    }
   },
   "source": [
    "'''\n",
    "Categoryهایی که مانند دبستان، راهنمایی و دبیرستان ترتیب دارند را می توانیم در کتابخانه Pandas تحلیل کنیم به گونه ای که به عنوان مثال پس از Sort نمودن داده ها این ترتیب قابل تشخیص باشد.\n",
    "'''\n",
    "from pandas.api.types import CategoricalDtype"
   ],
   "outputs": [],
   "execution_count": 147
  },
  {
   "cell_type": "code",
   "id": "a592a77bc7bc1cc5",
   "metadata": {
    "ExecuteTime": {
     "end_time": "2025-10-04T18:13:26.645042Z",
     "start_time": "2025-10-04T18:13:26.638387Z"
    }
   },
   "source": [
    "dic19 = {\"ID\":[100, 200, 300, 400], \"quality\":[\"bad\", \"very good\", \"good\", \"excellent\"]}\n",
    "dft19 = pd.DataFrame(dic19)\n",
    "dft19.head()"
   ],
   "outputs": [
    {
     "data": {
      "text/plain": [
       "    ID    quality\n",
       "0  100        bad\n",
       "1  200  very good\n",
       "2  300       good\n",
       "3  400  excellent"
      ],
      "text/html": [
       "<div>\n",
       "<style scoped>\n",
       "    .dataframe tbody tr th:only-of-type {\n",
       "        vertical-align: middle;\n",
       "    }\n",
       "\n",
       "    .dataframe tbody tr th {\n",
       "        vertical-align: top;\n",
       "    }\n",
       "\n",
       "    .dataframe thead th {\n",
       "        text-align: right;\n",
       "    }\n",
       "</style>\n",
       "<table border=\"1\" class=\"dataframe\">\n",
       "  <thead>\n",
       "    <tr style=\"text-align: right;\">\n",
       "      <th></th>\n",
       "      <th>ID</th>\n",
       "      <th>quality</th>\n",
       "    </tr>\n",
       "  </thead>\n",
       "  <tbody>\n",
       "    <tr>\n",
       "      <th>0</th>\n",
       "      <td>100</td>\n",
       "      <td>bad</td>\n",
       "    </tr>\n",
       "    <tr>\n",
       "      <th>1</th>\n",
       "      <td>200</td>\n",
       "      <td>very good</td>\n",
       "    </tr>\n",
       "    <tr>\n",
       "      <th>2</th>\n",
       "      <td>300</td>\n",
       "      <td>good</td>\n",
       "    </tr>\n",
       "    <tr>\n",
       "      <th>3</th>\n",
       "      <td>400</td>\n",
       "      <td>excellent</td>\n",
       "    </tr>\n",
       "  </tbody>\n",
       "</table>\n",
       "</div>"
      ]
     },
     "execution_count": 148,
     "metadata": {},
     "output_type": "execute_result"
    }
   ],
   "execution_count": 148
  },
  {
   "cell_type": "code",
   "id": "9ad1aca30f14ced1",
   "metadata": {
    "ExecuteTime": {
     "end_time": "2025-10-04T18:13:26.745567Z",
     "start_time": "2025-10-04T18:13:26.740581Z"
    }
   },
   "source": [
    "cat_type = CategoricalDtype([\"bad\", \"good\", \"very good\", \"excellent\"], ordered=True)\n",
    "# دستور ordered اشاره به این داره که داریم به ترتیب داده دادیم و انرا به عنوان یک لیست با ترتیب در نظر بگیر\n",
    "cat_type"
   ],
   "outputs": [
    {
     "data": {
      "text/plain": [
       "CategoricalDtype(categories=['bad', 'good', 'very good', 'excellent'], ordered=True, categories_dtype=object)"
      ]
     },
     "execution_count": 149,
     "metadata": {},
     "output_type": "execute_result"
    }
   ],
   "execution_count": 149
  },
  {
   "cell_type": "code",
   "id": "71df24c2e475525a",
   "metadata": {
    "ExecuteTime": {
     "end_time": "2025-10-04T18:13:26.999941Z",
     "start_time": "2025-10-04T18:13:26.994932Z"
    }
   },
   "source": [
    "dft19['quality'] =dft19.quality.astype(cat_type)\n",
    "dft19.head()"
   ],
   "outputs": [
    {
     "data": {
      "text/plain": [
       "    ID    quality\n",
       "0  100        bad\n",
       "1  200  very good\n",
       "2  300       good\n",
       "3  400  excellent"
      ],
      "text/html": [
       "<div>\n",
       "<style scoped>\n",
       "    .dataframe tbody tr th:only-of-type {\n",
       "        vertical-align: middle;\n",
       "    }\n",
       "\n",
       "    .dataframe tbody tr th {\n",
       "        vertical-align: top;\n",
       "    }\n",
       "\n",
       "    .dataframe thead th {\n",
       "        text-align: right;\n",
       "    }\n",
       "</style>\n",
       "<table border=\"1\" class=\"dataframe\">\n",
       "  <thead>\n",
       "    <tr style=\"text-align: right;\">\n",
       "      <th></th>\n",
       "      <th>ID</th>\n",
       "      <th>quality</th>\n",
       "    </tr>\n",
       "  </thead>\n",
       "  <tbody>\n",
       "    <tr>\n",
       "      <th>0</th>\n",
       "      <td>100</td>\n",
       "      <td>bad</td>\n",
       "    </tr>\n",
       "    <tr>\n",
       "      <th>1</th>\n",
       "      <td>200</td>\n",
       "      <td>very good</td>\n",
       "    </tr>\n",
       "    <tr>\n",
       "      <th>2</th>\n",
       "      <td>300</td>\n",
       "      <td>good</td>\n",
       "    </tr>\n",
       "    <tr>\n",
       "      <th>3</th>\n",
       "      <td>400</td>\n",
       "      <td>excellent</td>\n",
       "    </tr>\n",
       "  </tbody>\n",
       "</table>\n",
       "</div>"
      ]
     },
     "execution_count": 150,
     "metadata": {},
     "output_type": "execute_result"
    }
   ],
   "execution_count": 150
  },
  {
   "cell_type": "code",
   "id": "a09789e999f61f69",
   "metadata": {
    "ExecuteTime": {
     "end_time": "2025-10-04T18:13:27.154305Z",
     "start_time": "2025-10-04T18:13:27.136234Z"
    }
   },
   "source": [
    "dft19 = dft19.sort_values('quality', ascending = False)\n",
    "# ascending بر اساس نزوری و صعودی بودن\n",
    "dft19"
   ],
   "outputs": [
    {
     "data": {
      "text/plain": [
       "    ID    quality\n",
       "3  400  excellent\n",
       "1  200  very good\n",
       "2  300       good\n",
       "0  100        bad"
      ],
      "text/html": [
       "<div>\n",
       "<style scoped>\n",
       "    .dataframe tbody tr th:only-of-type {\n",
       "        vertical-align: middle;\n",
       "    }\n",
       "\n",
       "    .dataframe tbody tr th {\n",
       "        vertical-align: top;\n",
       "    }\n",
       "\n",
       "    .dataframe thead th {\n",
       "        text-align: right;\n",
       "    }\n",
       "</style>\n",
       "<table border=\"1\" class=\"dataframe\">\n",
       "  <thead>\n",
       "    <tr style=\"text-align: right;\">\n",
       "      <th></th>\n",
       "      <th>ID</th>\n",
       "      <th>quality</th>\n",
       "    </tr>\n",
       "  </thead>\n",
       "  <tbody>\n",
       "    <tr>\n",
       "      <th>3</th>\n",
       "      <td>400</td>\n",
       "      <td>excellent</td>\n",
       "    </tr>\n",
       "    <tr>\n",
       "      <th>1</th>\n",
       "      <td>200</td>\n",
       "      <td>very good</td>\n",
       "    </tr>\n",
       "    <tr>\n",
       "      <th>2</th>\n",
       "      <td>300</td>\n",
       "      <td>good</td>\n",
       "    </tr>\n",
       "    <tr>\n",
       "      <th>0</th>\n",
       "      <td>100</td>\n",
       "      <td>bad</td>\n",
       "    </tr>\n",
       "  </tbody>\n",
       "</table>\n",
       "</div>"
      ]
     },
     "execution_count": 151,
     "metadata": {},
     "output_type": "execute_result"
    }
   ],
   "execution_count": 151
  },
  {
   "cell_type": "code",
   "id": "d0f75ffc54d63b9a",
   "metadata": {
    "ExecuteTime": {
     "end_time": "2025-10-04T18:13:27.346969Z",
     "start_time": "2025-10-04T18:13:27.341800Z"
    }
   },
   "source": [
    "dft19[dft19['quality'] > 'good'].head()\n"
   ],
   "outputs": [
    {
     "data": {
      "text/plain": [
       "    ID    quality\n",
       "3  400  excellent\n",
       "1  200  very good"
      ],
      "text/html": [
       "<div>\n",
       "<style scoped>\n",
       "    .dataframe tbody tr th:only-of-type {\n",
       "        vertical-align: middle;\n",
       "    }\n",
       "\n",
       "    .dataframe tbody tr th {\n",
       "        vertical-align: top;\n",
       "    }\n",
       "\n",
       "    .dataframe thead th {\n",
       "        text-align: right;\n",
       "    }\n",
       "</style>\n",
       "<table border=\"1\" class=\"dataframe\">\n",
       "  <thead>\n",
       "    <tr style=\"text-align: right;\">\n",
       "      <th></th>\n",
       "      <th>ID</th>\n",
       "      <th>quality</th>\n",
       "    </tr>\n",
       "  </thead>\n",
       "  <tbody>\n",
       "    <tr>\n",
       "      <th>3</th>\n",
       "      <td>400</td>\n",
       "      <td>excellent</td>\n",
       "    </tr>\n",
       "    <tr>\n",
       "      <th>1</th>\n",
       "      <td>200</td>\n",
       "      <td>very good</td>\n",
       "    </tr>\n",
       "  </tbody>\n",
       "</table>\n",
       "</div>"
      ]
     },
     "execution_count": 152,
     "metadata": {},
     "output_type": "execute_result"
    }
   ],
   "execution_count": 152
  },
  {
   "cell_type": "code",
   "id": "a328d18a0b465336",
   "metadata": {
    "ExecuteTime": {
     "end_time": "2025-10-04T18:13:27.628319Z",
     "start_time": "2025-10-04T18:13:27.581598Z"
    }
   },
   "source": [
    "del dft19, cat_type, dic19\n",
    "gc.collect()"
   ],
   "outputs": [
    {
     "data": {
      "text/plain": [
       "12"
      ]
     },
     "execution_count": 153,
     "metadata": {},
     "output_type": "execute_result"
    }
   ],
   "execution_count": 153
  },
  {
   "cell_type": "markdown",
   "id": "27281ee458fe0a70",
   "metadata": {},
   "source": [
    "### Tirck 20 - کاربرد Diff در Pandas"
   ]
  },
  {
   "cell_type": "code",
   "id": "fd7396f4e0d5b38a",
   "metadata": {
    "ExecuteTime": {
     "end_time": "2025-10-04T18:13:27.744035Z",
     "start_time": "2025-10-04T18:13:27.741490Z"
    }
   },
   "source": [
    "import warnings\n",
    "warnings.filterwarnings('ignore')"
   ],
   "outputs": [],
   "execution_count": 154
  },
  {
   "cell_type": "code",
   "id": "fc8bb75c26f409a9",
   "metadata": {
    "ExecuteTime": {
     "end_time": "2025-10-04T18:13:27.816455Z",
     "start_time": "2025-10-04T18:13:27.814167Z"
    }
   },
   "source": [
    "# فرض کنید میزان تفاضل ها رو میخاهیم"
   ],
   "outputs": [],
   "execution_count": 155
  },
  {
   "cell_type": "markdown",
   "id": "68e2ea87dcfb913c",
   "metadata": {},
   "source": [
    "a) ساخت یک دیتا فریم که رندوم باشه"
   ]
  },
  {
   "cell_type": "code",
   "id": "f6e6fdfcd9d01edc",
   "metadata": {
    "ExecuteTime": {
     "end_time": "2025-10-04T18:13:27.840019Z",
     "start_time": "2025-10-04T18:13:27.837653Z"
    }
   },
   "source": [
    "def genarate_data():\n",
    "    rows = 11\n",
    "    n_cols = 6\n",
    "    cols = list(\"abcdef\")\n",
    "    dft20 = pd.DataFrame(np.random.randint(1,10,size = (rows,n_cols)), columns=cols)\n",
    "    #dft20.index = pd.util.testing.makeIntIndex(rows)\n",
    "    return dft20"
   ],
   "outputs": [],
   "execution_count": 156
  },
  {
   "cell_type": "code",
   "id": "8e756fa24a6c2c2a",
   "metadata": {
    "ExecuteTime": {
     "end_time": "2025-10-04T18:13:27.889385Z",
     "start_time": "2025-10-04T18:13:27.864712Z"
    }
   },
   "source": [
    "dft20 = genarate_data()\n",
    "dft20"
   ],
   "outputs": [
    {
     "data": {
      "text/plain": [
       "    a  b  c  d  e  f\n",
       "0   1  8  4  7  7  3\n",
       "1   3  7  6  4  3  9\n",
       "2   1  8  7  1  3  9\n",
       "3   1  2  9  4  4  5\n",
       "4   7  8  9  6  6  8\n",
       "5   6  9  1  7  8  7\n",
       "6   8  3  7  7  7  3\n",
       "7   3  2  2  8  7  7\n",
       "8   7  7  6  1  7  2\n",
       "9   8  3  7  6  5  5\n",
       "10  3  9  7  3  8  6"
      ],
      "text/html": [
       "<div>\n",
       "<style scoped>\n",
       "    .dataframe tbody tr th:only-of-type {\n",
       "        vertical-align: middle;\n",
       "    }\n",
       "\n",
       "    .dataframe tbody tr th {\n",
       "        vertical-align: top;\n",
       "    }\n",
       "\n",
       "    .dataframe thead th {\n",
       "        text-align: right;\n",
       "    }\n",
       "</style>\n",
       "<table border=\"1\" class=\"dataframe\">\n",
       "  <thead>\n",
       "    <tr style=\"text-align: right;\">\n",
       "      <th></th>\n",
       "      <th>a</th>\n",
       "      <th>b</th>\n",
       "      <th>c</th>\n",
       "      <th>d</th>\n",
       "      <th>e</th>\n",
       "      <th>f</th>\n",
       "    </tr>\n",
       "  </thead>\n",
       "  <tbody>\n",
       "    <tr>\n",
       "      <th>0</th>\n",
       "      <td>1</td>\n",
       "      <td>8</td>\n",
       "      <td>4</td>\n",
       "      <td>7</td>\n",
       "      <td>7</td>\n",
       "      <td>3</td>\n",
       "    </tr>\n",
       "    <tr>\n",
       "      <th>1</th>\n",
       "      <td>3</td>\n",
       "      <td>7</td>\n",
       "      <td>6</td>\n",
       "      <td>4</td>\n",
       "      <td>3</td>\n",
       "      <td>9</td>\n",
       "    </tr>\n",
       "    <tr>\n",
       "      <th>2</th>\n",
       "      <td>1</td>\n",
       "      <td>8</td>\n",
       "      <td>7</td>\n",
       "      <td>1</td>\n",
       "      <td>3</td>\n",
       "      <td>9</td>\n",
       "    </tr>\n",
       "    <tr>\n",
       "      <th>3</th>\n",
       "      <td>1</td>\n",
       "      <td>2</td>\n",
       "      <td>9</td>\n",
       "      <td>4</td>\n",
       "      <td>4</td>\n",
       "      <td>5</td>\n",
       "    </tr>\n",
       "    <tr>\n",
       "      <th>4</th>\n",
       "      <td>7</td>\n",
       "      <td>8</td>\n",
       "      <td>9</td>\n",
       "      <td>6</td>\n",
       "      <td>6</td>\n",
       "      <td>8</td>\n",
       "    </tr>\n",
       "    <tr>\n",
       "      <th>5</th>\n",
       "      <td>6</td>\n",
       "      <td>9</td>\n",
       "      <td>1</td>\n",
       "      <td>7</td>\n",
       "      <td>8</td>\n",
       "      <td>7</td>\n",
       "    </tr>\n",
       "    <tr>\n",
       "      <th>6</th>\n",
       "      <td>8</td>\n",
       "      <td>3</td>\n",
       "      <td>7</td>\n",
       "      <td>7</td>\n",
       "      <td>7</td>\n",
       "      <td>3</td>\n",
       "    </tr>\n",
       "    <tr>\n",
       "      <th>7</th>\n",
       "      <td>3</td>\n",
       "      <td>2</td>\n",
       "      <td>2</td>\n",
       "      <td>8</td>\n",
       "      <td>7</td>\n",
       "      <td>7</td>\n",
       "    </tr>\n",
       "    <tr>\n",
       "      <th>8</th>\n",
       "      <td>7</td>\n",
       "      <td>7</td>\n",
       "      <td>6</td>\n",
       "      <td>1</td>\n",
       "      <td>7</td>\n",
       "      <td>2</td>\n",
       "    </tr>\n",
       "    <tr>\n",
       "      <th>9</th>\n",
       "      <td>8</td>\n",
       "      <td>3</td>\n",
       "      <td>7</td>\n",
       "      <td>6</td>\n",
       "      <td>5</td>\n",
       "      <td>5</td>\n",
       "    </tr>\n",
       "    <tr>\n",
       "      <th>10</th>\n",
       "      <td>3</td>\n",
       "      <td>9</td>\n",
       "      <td>7</td>\n",
       "      <td>3</td>\n",
       "      <td>8</td>\n",
       "      <td>6</td>\n",
       "    </tr>\n",
       "  </tbody>\n",
       "</table>\n",
       "</div>"
      ]
     },
     "execution_count": 157,
     "metadata": {},
     "output_type": "execute_result"
    }
   ],
   "execution_count": 157
  },
  {
   "cell_type": "code",
   "id": "4e116f0479dc5eb3",
   "metadata": {
    "ExecuteTime": {
     "end_time": "2025-10-04T18:13:27.944916Z",
     "start_time": "2025-10-04T18:13:27.937680Z"
    }
   },
   "source": [
    "dft20['a_diff'] = dft20.a.diff()\n",
    "dft20"
   ],
   "outputs": [
    {
     "data": {
      "text/plain": [
       "    a  b  c  d  e  f  a_diff\n",
       "0   1  8  4  7  7  3     NaN\n",
       "1   3  7  6  4  3  9     2.0\n",
       "2   1  8  7  1  3  9    -2.0\n",
       "3   1  2  9  4  4  5     0.0\n",
       "4   7  8  9  6  6  8     6.0\n",
       "5   6  9  1  7  8  7    -1.0\n",
       "6   8  3  7  7  7  3     2.0\n",
       "7   3  2  2  8  7  7    -5.0\n",
       "8   7  7  6  1  7  2     4.0\n",
       "9   8  3  7  6  5  5     1.0\n",
       "10  3  9  7  3  8  6    -5.0"
      ],
      "text/html": [
       "<div>\n",
       "<style scoped>\n",
       "    .dataframe tbody tr th:only-of-type {\n",
       "        vertical-align: middle;\n",
       "    }\n",
       "\n",
       "    .dataframe tbody tr th {\n",
       "        vertical-align: top;\n",
       "    }\n",
       "\n",
       "    .dataframe thead th {\n",
       "        text-align: right;\n",
       "    }\n",
       "</style>\n",
       "<table border=\"1\" class=\"dataframe\">\n",
       "  <thead>\n",
       "    <tr style=\"text-align: right;\">\n",
       "      <th></th>\n",
       "      <th>a</th>\n",
       "      <th>b</th>\n",
       "      <th>c</th>\n",
       "      <th>d</th>\n",
       "      <th>e</th>\n",
       "      <th>f</th>\n",
       "      <th>a_diff</th>\n",
       "    </tr>\n",
       "  </thead>\n",
       "  <tbody>\n",
       "    <tr>\n",
       "      <th>0</th>\n",
       "      <td>1</td>\n",
       "      <td>8</td>\n",
       "      <td>4</td>\n",
       "      <td>7</td>\n",
       "      <td>7</td>\n",
       "      <td>3</td>\n",
       "      <td>NaN</td>\n",
       "    </tr>\n",
       "    <tr>\n",
       "      <th>1</th>\n",
       "      <td>3</td>\n",
       "      <td>7</td>\n",
       "      <td>6</td>\n",
       "      <td>4</td>\n",
       "      <td>3</td>\n",
       "      <td>9</td>\n",
       "      <td>2.0</td>\n",
       "    </tr>\n",
       "    <tr>\n",
       "      <th>2</th>\n",
       "      <td>1</td>\n",
       "      <td>8</td>\n",
       "      <td>7</td>\n",
       "      <td>1</td>\n",
       "      <td>3</td>\n",
       "      <td>9</td>\n",
       "      <td>-2.0</td>\n",
       "    </tr>\n",
       "    <tr>\n",
       "      <th>3</th>\n",
       "      <td>1</td>\n",
       "      <td>2</td>\n",
       "      <td>9</td>\n",
       "      <td>4</td>\n",
       "      <td>4</td>\n",
       "      <td>5</td>\n",
       "      <td>0.0</td>\n",
       "    </tr>\n",
       "    <tr>\n",
       "      <th>4</th>\n",
       "      <td>7</td>\n",
       "      <td>8</td>\n",
       "      <td>9</td>\n",
       "      <td>6</td>\n",
       "      <td>6</td>\n",
       "      <td>8</td>\n",
       "      <td>6.0</td>\n",
       "    </tr>\n",
       "    <tr>\n",
       "      <th>5</th>\n",
       "      <td>6</td>\n",
       "      <td>9</td>\n",
       "      <td>1</td>\n",
       "      <td>7</td>\n",
       "      <td>8</td>\n",
       "      <td>7</td>\n",
       "      <td>-1.0</td>\n",
       "    </tr>\n",
       "    <tr>\n",
       "      <th>6</th>\n",
       "      <td>8</td>\n",
       "      <td>3</td>\n",
       "      <td>7</td>\n",
       "      <td>7</td>\n",
       "      <td>7</td>\n",
       "      <td>3</td>\n",
       "      <td>2.0</td>\n",
       "    </tr>\n",
       "    <tr>\n",
       "      <th>7</th>\n",
       "      <td>3</td>\n",
       "      <td>2</td>\n",
       "      <td>2</td>\n",
       "      <td>8</td>\n",
       "      <td>7</td>\n",
       "      <td>7</td>\n",
       "      <td>-5.0</td>\n",
       "    </tr>\n",
       "    <tr>\n",
       "      <th>8</th>\n",
       "      <td>7</td>\n",
       "      <td>7</td>\n",
       "      <td>6</td>\n",
       "      <td>1</td>\n",
       "      <td>7</td>\n",
       "      <td>2</td>\n",
       "      <td>4.0</td>\n",
       "    </tr>\n",
       "    <tr>\n",
       "      <th>9</th>\n",
       "      <td>8</td>\n",
       "      <td>3</td>\n",
       "      <td>7</td>\n",
       "      <td>6</td>\n",
       "      <td>5</td>\n",
       "      <td>5</td>\n",
       "      <td>1.0</td>\n",
       "    </tr>\n",
       "    <tr>\n",
       "      <th>10</th>\n",
       "      <td>3</td>\n",
       "      <td>9</td>\n",
       "      <td>7</td>\n",
       "      <td>3</td>\n",
       "      <td>8</td>\n",
       "      <td>6</td>\n",
       "      <td>-5.0</td>\n",
       "    </tr>\n",
       "  </tbody>\n",
       "</table>\n",
       "</div>"
      ]
     },
     "execution_count": 158,
     "metadata": {},
     "output_type": "execute_result"
    }
   ],
   "execution_count": 158
  },
  {
   "cell_type": "code",
   "id": "eb7e4a55fff295af",
   "metadata": {
    "ExecuteTime": {
     "end_time": "2025-10-04T18:13:28.137603Z",
     "start_time": "2025-10-04T18:13:28.127279Z"
    }
   },
   "source": [
    "dft20 = genarate_data()\n",
    "dft20['a_diff'] = dft20.a.diff()\n",
    "dft20['b_diff'] = dft20.b.diff()\n",
    "dft20['c_diff'] = dft20.c.diff()\n",
    "dft20['d_diff'] = dft20.d.diff()\n",
    "dft20['e_diff'] = dft20.e.diff()\n",
    "dft20['f_diff'] = dft20.f.diff()\n",
    "dft20"
   ],
   "outputs": [
    {
     "data": {
      "text/plain": [
       "    a  b  c  d  e  f  a_diff  b_diff  c_diff  d_diff  e_diff  f_diff\n",
       "0   6  3  1  8  1  1     NaN     NaN     NaN     NaN     NaN     NaN\n",
       "1   2  4  9  6  9  1    -4.0     1.0     8.0    -2.0     8.0     0.0\n",
       "2   2  6  8  7  3  7     0.0     2.0    -1.0     1.0    -6.0     6.0\n",
       "3   9  6  6  6  1  7     7.0     0.0    -2.0    -1.0    -2.0     0.0\n",
       "4   2  2  1  8  2  5    -7.0    -4.0    -5.0     2.0     1.0    -2.0\n",
       "5   6  7  3  8  1  7     4.0     5.0     2.0     0.0    -1.0     2.0\n",
       "6   5  6  6  2  5  9    -1.0    -1.0     3.0    -6.0     4.0     2.0\n",
       "7   1  1  2  3  2  9    -4.0    -5.0    -4.0     1.0    -3.0     0.0\n",
       "8   9  6  3  4  5  4     8.0     5.0     1.0     1.0     3.0    -5.0\n",
       "9   9  4  3  2  8  1     0.0    -2.0     0.0    -2.0     3.0    -3.0\n",
       "10  6  5  9  4  1  8    -3.0     1.0     6.0     2.0    -7.0     7.0"
      ],
      "text/html": [
       "<div>\n",
       "<style scoped>\n",
       "    .dataframe tbody tr th:only-of-type {\n",
       "        vertical-align: middle;\n",
       "    }\n",
       "\n",
       "    .dataframe tbody tr th {\n",
       "        vertical-align: top;\n",
       "    }\n",
       "\n",
       "    .dataframe thead th {\n",
       "        text-align: right;\n",
       "    }\n",
       "</style>\n",
       "<table border=\"1\" class=\"dataframe\">\n",
       "  <thead>\n",
       "    <tr style=\"text-align: right;\">\n",
       "      <th></th>\n",
       "      <th>a</th>\n",
       "      <th>b</th>\n",
       "      <th>c</th>\n",
       "      <th>d</th>\n",
       "      <th>e</th>\n",
       "      <th>f</th>\n",
       "      <th>a_diff</th>\n",
       "      <th>b_diff</th>\n",
       "      <th>c_diff</th>\n",
       "      <th>d_diff</th>\n",
       "      <th>e_diff</th>\n",
       "      <th>f_diff</th>\n",
       "    </tr>\n",
       "  </thead>\n",
       "  <tbody>\n",
       "    <tr>\n",
       "      <th>0</th>\n",
       "      <td>6</td>\n",
       "      <td>3</td>\n",
       "      <td>1</td>\n",
       "      <td>8</td>\n",
       "      <td>1</td>\n",
       "      <td>1</td>\n",
       "      <td>NaN</td>\n",
       "      <td>NaN</td>\n",
       "      <td>NaN</td>\n",
       "      <td>NaN</td>\n",
       "      <td>NaN</td>\n",
       "      <td>NaN</td>\n",
       "    </tr>\n",
       "    <tr>\n",
       "      <th>1</th>\n",
       "      <td>2</td>\n",
       "      <td>4</td>\n",
       "      <td>9</td>\n",
       "      <td>6</td>\n",
       "      <td>9</td>\n",
       "      <td>1</td>\n",
       "      <td>-4.0</td>\n",
       "      <td>1.0</td>\n",
       "      <td>8.0</td>\n",
       "      <td>-2.0</td>\n",
       "      <td>8.0</td>\n",
       "      <td>0.0</td>\n",
       "    </tr>\n",
       "    <tr>\n",
       "      <th>2</th>\n",
       "      <td>2</td>\n",
       "      <td>6</td>\n",
       "      <td>8</td>\n",
       "      <td>7</td>\n",
       "      <td>3</td>\n",
       "      <td>7</td>\n",
       "      <td>0.0</td>\n",
       "      <td>2.0</td>\n",
       "      <td>-1.0</td>\n",
       "      <td>1.0</td>\n",
       "      <td>-6.0</td>\n",
       "      <td>6.0</td>\n",
       "    </tr>\n",
       "    <tr>\n",
       "      <th>3</th>\n",
       "      <td>9</td>\n",
       "      <td>6</td>\n",
       "      <td>6</td>\n",
       "      <td>6</td>\n",
       "      <td>1</td>\n",
       "      <td>7</td>\n",
       "      <td>7.0</td>\n",
       "      <td>0.0</td>\n",
       "      <td>-2.0</td>\n",
       "      <td>-1.0</td>\n",
       "      <td>-2.0</td>\n",
       "      <td>0.0</td>\n",
       "    </tr>\n",
       "    <tr>\n",
       "      <th>4</th>\n",
       "      <td>2</td>\n",
       "      <td>2</td>\n",
       "      <td>1</td>\n",
       "      <td>8</td>\n",
       "      <td>2</td>\n",
       "      <td>5</td>\n",
       "      <td>-7.0</td>\n",
       "      <td>-4.0</td>\n",
       "      <td>-5.0</td>\n",
       "      <td>2.0</td>\n",
       "      <td>1.0</td>\n",
       "      <td>-2.0</td>\n",
       "    </tr>\n",
       "    <tr>\n",
       "      <th>5</th>\n",
       "      <td>6</td>\n",
       "      <td>7</td>\n",
       "      <td>3</td>\n",
       "      <td>8</td>\n",
       "      <td>1</td>\n",
       "      <td>7</td>\n",
       "      <td>4.0</td>\n",
       "      <td>5.0</td>\n",
       "      <td>2.0</td>\n",
       "      <td>0.0</td>\n",
       "      <td>-1.0</td>\n",
       "      <td>2.0</td>\n",
       "    </tr>\n",
       "    <tr>\n",
       "      <th>6</th>\n",
       "      <td>5</td>\n",
       "      <td>6</td>\n",
       "      <td>6</td>\n",
       "      <td>2</td>\n",
       "      <td>5</td>\n",
       "      <td>9</td>\n",
       "      <td>-1.0</td>\n",
       "      <td>-1.0</td>\n",
       "      <td>3.0</td>\n",
       "      <td>-6.0</td>\n",
       "      <td>4.0</td>\n",
       "      <td>2.0</td>\n",
       "    </tr>\n",
       "    <tr>\n",
       "      <th>7</th>\n",
       "      <td>1</td>\n",
       "      <td>1</td>\n",
       "      <td>2</td>\n",
       "      <td>3</td>\n",
       "      <td>2</td>\n",
       "      <td>9</td>\n",
       "      <td>-4.0</td>\n",
       "      <td>-5.0</td>\n",
       "      <td>-4.0</td>\n",
       "      <td>1.0</td>\n",
       "      <td>-3.0</td>\n",
       "      <td>0.0</td>\n",
       "    </tr>\n",
       "    <tr>\n",
       "      <th>8</th>\n",
       "      <td>9</td>\n",
       "      <td>6</td>\n",
       "      <td>3</td>\n",
       "      <td>4</td>\n",
       "      <td>5</td>\n",
       "      <td>4</td>\n",
       "      <td>8.0</td>\n",
       "      <td>5.0</td>\n",
       "      <td>1.0</td>\n",
       "      <td>1.0</td>\n",
       "      <td>3.0</td>\n",
       "      <td>-5.0</td>\n",
       "    </tr>\n",
       "    <tr>\n",
       "      <th>9</th>\n",
       "      <td>9</td>\n",
       "      <td>4</td>\n",
       "      <td>3</td>\n",
       "      <td>2</td>\n",
       "      <td>8</td>\n",
       "      <td>1</td>\n",
       "      <td>0.0</td>\n",
       "      <td>-2.0</td>\n",
       "      <td>0.0</td>\n",
       "      <td>-2.0</td>\n",
       "      <td>3.0</td>\n",
       "      <td>-3.0</td>\n",
       "    </tr>\n",
       "    <tr>\n",
       "      <th>10</th>\n",
       "      <td>6</td>\n",
       "      <td>5</td>\n",
       "      <td>9</td>\n",
       "      <td>4</td>\n",
       "      <td>1</td>\n",
       "      <td>8</td>\n",
       "      <td>-3.0</td>\n",
       "      <td>1.0</td>\n",
       "      <td>6.0</td>\n",
       "      <td>2.0</td>\n",
       "      <td>-7.0</td>\n",
       "      <td>7.0</td>\n",
       "    </tr>\n",
       "  </tbody>\n",
       "</table>\n",
       "</div>"
      ]
     },
     "execution_count": 159,
     "metadata": {},
     "output_type": "execute_result"
    }
   ],
   "execution_count": 159
  },
  {
   "cell_type": "code",
   "id": "c128d9609fd8daf5",
   "metadata": {
    "ExecuteTime": {
     "end_time": "2025-10-04T18:13:28.387555Z",
     "start_time": "2025-10-04T18:13:28.338345Z"
    }
   },
   "source": [
    "del dft20\n",
    "gc.collect()"
   ],
   "outputs": [
    {
     "data": {
      "text/plain": [
       "12"
      ]
     },
     "execution_count": 160,
     "metadata": {},
     "output_type": "execute_result"
    }
   ],
   "execution_count": 160
  },
  {
   "cell_type": "markdown",
   "id": "ed2c9e15c8bcd81b",
   "metadata": {},
   "source": [
    "### Trick 21 - شناسایی منبع اصلی داده ها در دیتافریم در Pandas"
   ]
  },
  {
   "cell_type": "code",
   "id": "d0492571f9d1534b",
   "metadata": {
    "ExecuteTime": {
     "end_time": "2025-10-04T18:13:28.572632Z",
     "start_time": "2025-10-04T18:13:28.570524Z"
    }
   },
   "source": [
    "# میخاهیم بفهمیم هر کدوم از دیتا فریم ها از کجا امده"
   ],
   "outputs": [],
   "execution_count": 161
  },
  {
   "cell_type": "code",
   "id": "142a165eb3e4ce12",
   "metadata": {
    "ExecuteTime": {
     "end_time": "2025-10-04T18:13:28.658105Z",
     "start_time": "2025-10-04T18:13:28.655023Z"
    }
   },
   "source": [
    "#import os\n",
    "#برای اینکه فایل رو سیو و بخانیم و دسترسی سیستم عاملی نیاز داریم"
   ],
   "outputs": [],
   "execution_count": 162
  },
  {
   "cell_type": "code",
   "id": "406e0b3927af2d5d",
   "metadata": {
    "ExecuteTime": {
     "end_time": "2025-10-04T18:13:28.683889Z",
     "start_time": "2025-10-04T18:13:28.680968Z"
    }
   },
   "source": [
    "def genarate_data():\n",
    "    rows = 11\n",
    "    n_cols = 6\n",
    "    cols = list(\"abcdef\")\n",
    "    dft21t = pd.DataFrame(np.random.randint(1,10,size = (rows,n_cols)), columns=cols)\n",
    "    #dft21.index = pd.util.testing.makeIntIndex(rows)\n",
    "    return dft21t"
   ],
   "outputs": [],
   "execution_count": 163
  },
  {
   "cell_type": "code",
   "id": "f4c2dd7dbabc3ce8",
   "metadata": {
    "ExecuteTime": {
     "end_time": "2025-10-04T18:13:28.706210Z",
     "start_time": "2025-10-04T18:13:28.703132Z"
    }
   },
   "source": [
    "dft21_1 = genarate_data()\n",
    "dft21_2 = genarate_data()\n",
    "dft21_3 = genarate_data()"
   ],
   "outputs": [],
   "execution_count": 164
  },
  {
   "cell_type": "code",
   "id": "e25070524e47004c",
   "metadata": {
    "ExecuteTime": {
     "end_time": "2025-10-04T18:13:28.751423Z",
     "start_time": "2025-10-04T18:13:28.747020Z"
    }
   },
   "source": [
    "dft21_1.head()"
   ],
   "outputs": [
    {
     "data": {
      "text/plain": [
       "   a  b  c  d  e  f\n",
       "0  2  9  2  6  6  1\n",
       "1  4  8  2  3  8  3\n",
       "2  9  2  9  1  2  3\n",
       "3  4  4  7  2  6  2\n",
       "4  1  1  4  9  8  5"
      ],
      "text/html": [
       "<div>\n",
       "<style scoped>\n",
       "    .dataframe tbody tr th:only-of-type {\n",
       "        vertical-align: middle;\n",
       "    }\n",
       "\n",
       "    .dataframe tbody tr th {\n",
       "        vertical-align: top;\n",
       "    }\n",
       "\n",
       "    .dataframe thead th {\n",
       "        text-align: right;\n",
       "    }\n",
       "</style>\n",
       "<table border=\"1\" class=\"dataframe\">\n",
       "  <thead>\n",
       "    <tr style=\"text-align: right;\">\n",
       "      <th></th>\n",
       "      <th>a</th>\n",
       "      <th>b</th>\n",
       "      <th>c</th>\n",
       "      <th>d</th>\n",
       "      <th>e</th>\n",
       "      <th>f</th>\n",
       "    </tr>\n",
       "  </thead>\n",
       "  <tbody>\n",
       "    <tr>\n",
       "      <th>0</th>\n",
       "      <td>2</td>\n",
       "      <td>9</td>\n",
       "      <td>2</td>\n",
       "      <td>6</td>\n",
       "      <td>6</td>\n",
       "      <td>1</td>\n",
       "    </tr>\n",
       "    <tr>\n",
       "      <th>1</th>\n",
       "      <td>4</td>\n",
       "      <td>8</td>\n",
       "      <td>2</td>\n",
       "      <td>3</td>\n",
       "      <td>8</td>\n",
       "      <td>3</td>\n",
       "    </tr>\n",
       "    <tr>\n",
       "      <th>2</th>\n",
       "      <td>9</td>\n",
       "      <td>2</td>\n",
       "      <td>9</td>\n",
       "      <td>1</td>\n",
       "      <td>2</td>\n",
       "      <td>3</td>\n",
       "    </tr>\n",
       "    <tr>\n",
       "      <th>3</th>\n",
       "      <td>4</td>\n",
       "      <td>4</td>\n",
       "      <td>7</td>\n",
       "      <td>2</td>\n",
       "      <td>6</td>\n",
       "      <td>2</td>\n",
       "    </tr>\n",
       "    <tr>\n",
       "      <th>4</th>\n",
       "      <td>1</td>\n",
       "      <td>1</td>\n",
       "      <td>4</td>\n",
       "      <td>9</td>\n",
       "      <td>8</td>\n",
       "      <td>5</td>\n",
       "    </tr>\n",
       "  </tbody>\n",
       "</table>\n",
       "</div>"
      ]
     },
     "execution_count": 165,
     "metadata": {},
     "output_type": "execute_result"
    }
   ],
   "execution_count": 165
  },
  {
   "cell_type": "code",
   "id": "410acd55ea992f53",
   "metadata": {
    "ExecuteTime": {
     "end_time": "2025-10-04T18:13:28.817076Z",
     "start_time": "2025-10-04T18:13:28.812245Z"
    }
   },
   "source": [
    "dft21_2.head()"
   ],
   "outputs": [
    {
     "data": {
      "text/plain": [
       "   a  b  c  d  e  f\n",
       "0  8  4  4  4  2  2\n",
       "1  3  9  2  3  5  9\n",
       "2  3  8  9  9  7  6\n",
       "3  7  7  6  7  9  4\n",
       "4  1  3  1  7  4  1"
      ],
      "text/html": [
       "<div>\n",
       "<style scoped>\n",
       "    .dataframe tbody tr th:only-of-type {\n",
       "        vertical-align: middle;\n",
       "    }\n",
       "\n",
       "    .dataframe tbody tr th {\n",
       "        vertical-align: top;\n",
       "    }\n",
       "\n",
       "    .dataframe thead th {\n",
       "        text-align: right;\n",
       "    }\n",
       "</style>\n",
       "<table border=\"1\" class=\"dataframe\">\n",
       "  <thead>\n",
       "    <tr style=\"text-align: right;\">\n",
       "      <th></th>\n",
       "      <th>a</th>\n",
       "      <th>b</th>\n",
       "      <th>c</th>\n",
       "      <th>d</th>\n",
       "      <th>e</th>\n",
       "      <th>f</th>\n",
       "    </tr>\n",
       "  </thead>\n",
       "  <tbody>\n",
       "    <tr>\n",
       "      <th>0</th>\n",
       "      <td>8</td>\n",
       "      <td>4</td>\n",
       "      <td>4</td>\n",
       "      <td>4</td>\n",
       "      <td>2</td>\n",
       "      <td>2</td>\n",
       "    </tr>\n",
       "    <tr>\n",
       "      <th>1</th>\n",
       "      <td>3</td>\n",
       "      <td>9</td>\n",
       "      <td>2</td>\n",
       "      <td>3</td>\n",
       "      <td>5</td>\n",
       "      <td>9</td>\n",
       "    </tr>\n",
       "    <tr>\n",
       "      <th>2</th>\n",
       "      <td>3</td>\n",
       "      <td>8</td>\n",
       "      <td>9</td>\n",
       "      <td>9</td>\n",
       "      <td>7</td>\n",
       "      <td>6</td>\n",
       "    </tr>\n",
       "    <tr>\n",
       "      <th>3</th>\n",
       "      <td>7</td>\n",
       "      <td>7</td>\n",
       "      <td>6</td>\n",
       "      <td>7</td>\n",
       "      <td>9</td>\n",
       "      <td>4</td>\n",
       "    </tr>\n",
       "    <tr>\n",
       "      <th>4</th>\n",
       "      <td>1</td>\n",
       "      <td>3</td>\n",
       "      <td>1</td>\n",
       "      <td>7</td>\n",
       "      <td>4</td>\n",
       "      <td>1</td>\n",
       "    </tr>\n",
       "  </tbody>\n",
       "</table>\n",
       "</div>"
      ]
     },
     "execution_count": 166,
     "metadata": {},
     "output_type": "execute_result"
    }
   ],
   "execution_count": 166
  },
  {
   "cell_type": "code",
   "id": "329c4f193f13965e",
   "metadata": {
    "ExecuteTime": {
     "end_time": "2025-10-04T18:13:29.029691Z",
     "start_time": "2025-10-04T18:13:29.025038Z"
    }
   },
   "source": [
    "dft21_3.head()"
   ],
   "outputs": [
    {
     "data": {
      "text/plain": [
       "   a  b  c  d  e  f\n",
       "0  9  8  6  9  5  4\n",
       "1  1  8  1  9  4  7\n",
       "2  2  2  1  4  3  2\n",
       "3  6  8  1  6  9  8\n",
       "4  4  4  2  7  9  7"
      ],
      "text/html": [
       "<div>\n",
       "<style scoped>\n",
       "    .dataframe tbody tr th:only-of-type {\n",
       "        vertical-align: middle;\n",
       "    }\n",
       "\n",
       "    .dataframe tbody tr th {\n",
       "        vertical-align: top;\n",
       "    }\n",
       "\n",
       "    .dataframe thead th {\n",
       "        text-align: right;\n",
       "    }\n",
       "</style>\n",
       "<table border=\"1\" class=\"dataframe\">\n",
       "  <thead>\n",
       "    <tr style=\"text-align: right;\">\n",
       "      <th></th>\n",
       "      <th>a</th>\n",
       "      <th>b</th>\n",
       "      <th>c</th>\n",
       "      <th>d</th>\n",
       "      <th>e</th>\n",
       "      <th>f</th>\n",
       "    </tr>\n",
       "  </thead>\n",
       "  <tbody>\n",
       "    <tr>\n",
       "      <th>0</th>\n",
       "      <td>9</td>\n",
       "      <td>8</td>\n",
       "      <td>6</td>\n",
       "      <td>9</td>\n",
       "      <td>5</td>\n",
       "      <td>4</td>\n",
       "    </tr>\n",
       "    <tr>\n",
       "      <th>1</th>\n",
       "      <td>1</td>\n",
       "      <td>8</td>\n",
       "      <td>1</td>\n",
       "      <td>9</td>\n",
       "      <td>4</td>\n",
       "      <td>7</td>\n",
       "    </tr>\n",
       "    <tr>\n",
       "      <th>2</th>\n",
       "      <td>2</td>\n",
       "      <td>2</td>\n",
       "      <td>1</td>\n",
       "      <td>4</td>\n",
       "      <td>3</td>\n",
       "      <td>2</td>\n",
       "    </tr>\n",
       "    <tr>\n",
       "      <th>3</th>\n",
       "      <td>6</td>\n",
       "      <td>8</td>\n",
       "      <td>1</td>\n",
       "      <td>6</td>\n",
       "      <td>9</td>\n",
       "      <td>8</td>\n",
       "    </tr>\n",
       "    <tr>\n",
       "      <th>4</th>\n",
       "      <td>4</td>\n",
       "      <td>4</td>\n",
       "      <td>2</td>\n",
       "      <td>7</td>\n",
       "      <td>9</td>\n",
       "      <td>7</td>\n",
       "    </tr>\n",
       "  </tbody>\n",
       "</table>\n",
       "</div>"
      ]
     },
     "execution_count": 167,
     "metadata": {},
     "output_type": "execute_result"
    }
   ],
   "execution_count": 167
  },
  {
   "cell_type": "markdown",
   "id": "bbba3fad6dddb775",
   "metadata": {},
   "source": [
    "a) گرفتن خروجی csv"
   ]
  },
  {
   "cell_type": "code",
   "id": "5c467d78ba6840f",
   "metadata": {
    "ExecuteTime": {
     "end_time": "2025-10-04T18:13:29.321153Z",
     "start_time": "2025-10-04T18:13:29.297104Z"
    }
   },
   "source": [
    "dft21_1.to_csv(\"dft21_1.csv\")\n",
    "dft21_2.to_csv(\"dft21_2.csv\")\n",
    "dft21_3.to_csv(\"dft21_3.csv\")"
   ],
   "outputs": [],
   "execution_count": 168
  },
  {
   "cell_type": "markdown",
   "id": "3387b03a3a69867b",
   "metadata": {},
   "source": [
    "b) فهمیدن اینکه فایل این  نوتبوک کجا ذخیره شده"
   ]
  },
  {
   "cell_type": "code",
   "id": "7c4da70fe2f46b09",
   "metadata": {
    "ExecuteTime": {
     "end_time": "2025-10-04T18:13:29.498970Z",
     "start_time": "2025-10-04T18:13:29.496176Z"
    }
   },
   "source": [
    "pwd"
   ],
   "outputs": [
    {
     "data": {
      "text/plain": [
       "'E:\\\\ML\\\\MLproj002\\\\Pooria\\\\01 Preprocessing\\\\Pandas'"
      ]
     },
     "execution_count": 169,
     "metadata": {},
     "output_type": "execute_result"
    }
   ],
   "execution_count": 169
  },
  {
   "cell_type": "code",
   "id": "74f9961480936de6",
   "metadata": {
    "ExecuteTime": {
     "end_time": "2025-10-04T18:13:29.612816Z",
     "start_time": "2025-10-04T18:13:29.609546Z"
    }
   },
   "source": [
    "listFile = []\n",
    "\n",
    "#for _,_, files in os.walk('E:\\\\ML\\\\MLproj002\\\\Pooria\\\\01 Preprocessing\\\\Pandas'):\n",
    "for _,_, files in os.walk(\".\"):\n",
    "    for f in files:\n",
    "        if \"dft21\" in f:\n",
    "            listFile.append(f)\n",
    "listFile"
   ],
   "outputs": [
    {
     "data": {
      "text/plain": [
       "['dft21_1.csv', 'dft21_2.csv', 'dft21_3.csv']"
      ]
     },
     "execution_count": 170,
     "metadata": {},
     "output_type": "execute_result"
    }
   ],
   "execution_count": 170
  },
  {
   "cell_type": "markdown",
   "id": "5bdd930c23f5088a",
   "metadata": {},
   "source": [
    "c) فهمیدن اینکه بفهمی از کدوم فایل خونده شده"
   ]
  },
  {
   "cell_type": "code",
   "id": "9d780086d15e2d1e",
   "metadata": {
    "ExecuteTime": {
     "end_time": "2025-10-04T18:13:29.718162Z",
     "start_time": "2025-10-04T18:13:29.709325Z"
    }
   },
   "source": [
    "dft21 = pd.concat((pd.read_csv(file).assign(filename = file) for file in listFile), ignore_index = True)\n",
    "dft21.sample(10)"
   ],
   "outputs": [
    {
     "data": {
      "text/plain": [
       "    Unnamed: 0  a  b  c  d  e  f     filename\n",
       "23           1  1  8  1  9  4  7  dft21_3.csv\n",
       "12           1  3  9  2  3  5  9  dft21_2.csv\n",
       "28           6  9  9  4  9  8  1  dft21_3.csv\n",
       "13           2  3  8  9  9  7  6  dft21_2.csv\n",
       "21          10  4  9  5  7  7  8  dft21_2.csv\n",
       "2            2  9  2  9  1  2  3  dft21_1.csv\n",
       "1            1  4  8  2  3  8  3  dft21_1.csv\n",
       "24           2  2  2  1  4  3  2  dft21_3.csv\n",
       "27           5  1  7  8  8  4  5  dft21_3.csv\n",
       "11           0  8  4  4  4  2  2  dft21_2.csv"
      ],
      "text/html": [
       "<div>\n",
       "<style scoped>\n",
       "    .dataframe tbody tr th:only-of-type {\n",
       "        vertical-align: middle;\n",
       "    }\n",
       "\n",
       "    .dataframe tbody tr th {\n",
       "        vertical-align: top;\n",
       "    }\n",
       "\n",
       "    .dataframe thead th {\n",
       "        text-align: right;\n",
       "    }\n",
       "</style>\n",
       "<table border=\"1\" class=\"dataframe\">\n",
       "  <thead>\n",
       "    <tr style=\"text-align: right;\">\n",
       "      <th></th>\n",
       "      <th>Unnamed: 0</th>\n",
       "      <th>a</th>\n",
       "      <th>b</th>\n",
       "      <th>c</th>\n",
       "      <th>d</th>\n",
       "      <th>e</th>\n",
       "      <th>f</th>\n",
       "      <th>filename</th>\n",
       "    </tr>\n",
       "  </thead>\n",
       "  <tbody>\n",
       "    <tr>\n",
       "      <th>23</th>\n",
       "      <td>1</td>\n",
       "      <td>1</td>\n",
       "      <td>8</td>\n",
       "      <td>1</td>\n",
       "      <td>9</td>\n",
       "      <td>4</td>\n",
       "      <td>7</td>\n",
       "      <td>dft21_3.csv</td>\n",
       "    </tr>\n",
       "    <tr>\n",
       "      <th>12</th>\n",
       "      <td>1</td>\n",
       "      <td>3</td>\n",
       "      <td>9</td>\n",
       "      <td>2</td>\n",
       "      <td>3</td>\n",
       "      <td>5</td>\n",
       "      <td>9</td>\n",
       "      <td>dft21_2.csv</td>\n",
       "    </tr>\n",
       "    <tr>\n",
       "      <th>28</th>\n",
       "      <td>6</td>\n",
       "      <td>9</td>\n",
       "      <td>9</td>\n",
       "      <td>4</td>\n",
       "      <td>9</td>\n",
       "      <td>8</td>\n",
       "      <td>1</td>\n",
       "      <td>dft21_3.csv</td>\n",
       "    </tr>\n",
       "    <tr>\n",
       "      <th>13</th>\n",
       "      <td>2</td>\n",
       "      <td>3</td>\n",
       "      <td>8</td>\n",
       "      <td>9</td>\n",
       "      <td>9</td>\n",
       "      <td>7</td>\n",
       "      <td>6</td>\n",
       "      <td>dft21_2.csv</td>\n",
       "    </tr>\n",
       "    <tr>\n",
       "      <th>21</th>\n",
       "      <td>10</td>\n",
       "      <td>4</td>\n",
       "      <td>9</td>\n",
       "      <td>5</td>\n",
       "      <td>7</td>\n",
       "      <td>7</td>\n",
       "      <td>8</td>\n",
       "      <td>dft21_2.csv</td>\n",
       "    </tr>\n",
       "    <tr>\n",
       "      <th>2</th>\n",
       "      <td>2</td>\n",
       "      <td>9</td>\n",
       "      <td>2</td>\n",
       "      <td>9</td>\n",
       "      <td>1</td>\n",
       "      <td>2</td>\n",
       "      <td>3</td>\n",
       "      <td>dft21_1.csv</td>\n",
       "    </tr>\n",
       "    <tr>\n",
       "      <th>1</th>\n",
       "      <td>1</td>\n",
       "      <td>4</td>\n",
       "      <td>8</td>\n",
       "      <td>2</td>\n",
       "      <td>3</td>\n",
       "      <td>8</td>\n",
       "      <td>3</td>\n",
       "      <td>dft21_1.csv</td>\n",
       "    </tr>\n",
       "    <tr>\n",
       "      <th>24</th>\n",
       "      <td>2</td>\n",
       "      <td>2</td>\n",
       "      <td>2</td>\n",
       "      <td>1</td>\n",
       "      <td>4</td>\n",
       "      <td>3</td>\n",
       "      <td>2</td>\n",
       "      <td>dft21_3.csv</td>\n",
       "    </tr>\n",
       "    <tr>\n",
       "      <th>27</th>\n",
       "      <td>5</td>\n",
       "      <td>1</td>\n",
       "      <td>7</td>\n",
       "      <td>8</td>\n",
       "      <td>8</td>\n",
       "      <td>4</td>\n",
       "      <td>5</td>\n",
       "      <td>dft21_3.csv</td>\n",
       "    </tr>\n",
       "    <tr>\n",
       "      <th>11</th>\n",
       "      <td>0</td>\n",
       "      <td>8</td>\n",
       "      <td>4</td>\n",
       "      <td>4</td>\n",
       "      <td>4</td>\n",
       "      <td>2</td>\n",
       "      <td>2</td>\n",
       "      <td>dft21_2.csv</td>\n",
       "    </tr>\n",
       "  </tbody>\n",
       "</table>\n",
       "</div>"
      ]
     },
     "execution_count": 171,
     "metadata": {},
     "output_type": "execute_result"
    }
   ],
   "execution_count": 171
  },
  {
   "cell_type": "code",
   "id": "1d25e02bccde6c70",
   "metadata": {
    "ExecuteTime": {
     "end_time": "2025-10-04T18:13:29.859628Z",
     "start_time": "2025-10-04T18:13:29.812076Z"
    }
   },
   "source": [
    "del dft21,dft21_1,dft21_2,dft21_3, listFile\n",
    "gc.collect()"
   ],
   "outputs": [
    {
     "data": {
      "text/plain": [
       "12"
      ]
     },
     "execution_count": 172,
     "metadata": {},
     "output_type": "execute_result"
    }
   ],
   "execution_count": 172
  },
  {
   "cell_type": "markdown",
   "id": "67b07dfb1618ff2d",
   "metadata": {},
   "source": [
    "### Trick 22 - نحوه جابجایی ستون‌ها در Pandas"
   ]
  },
  {
   "cell_type": "code",
   "id": "64e467d05456d0e2",
   "metadata": {
    "ExecuteTime": {
     "end_time": "2025-10-04T18:13:30.015935Z",
     "start_time": "2025-10-04T18:13:30.011191Z"
    }
   },
   "source": [
    "dic22 = {\n",
    "    \"A\":[15, 20],\n",
    "    \"B\":[20, 25],\n",
    "    \"C\":[30 ,40],\n",
    "    \"D\":[50, 60]\n",
    "}\n",
    "dft22 = pd.DataFrame(dic22)\n",
    "dft22.head()\n"
   ],
   "outputs": [
    {
     "data": {
      "text/plain": [
       "    A   B   C   D\n",
       "0  15  20  30  50\n",
       "1  20  25  40  60"
      ],
      "text/html": [
       "<div>\n",
       "<style scoped>\n",
       "    .dataframe tbody tr th:only-of-type {\n",
       "        vertical-align: middle;\n",
       "    }\n",
       "\n",
       "    .dataframe tbody tr th {\n",
       "        vertical-align: top;\n",
       "    }\n",
       "\n",
       "    .dataframe thead th {\n",
       "        text-align: right;\n",
       "    }\n",
       "</style>\n",
       "<table border=\"1\" class=\"dataframe\">\n",
       "  <thead>\n",
       "    <tr style=\"text-align: right;\">\n",
       "      <th></th>\n",
       "      <th>A</th>\n",
       "      <th>B</th>\n",
       "      <th>C</th>\n",
       "      <th>D</th>\n",
       "    </tr>\n",
       "  </thead>\n",
       "  <tbody>\n",
       "    <tr>\n",
       "      <th>0</th>\n",
       "      <td>15</td>\n",
       "      <td>20</td>\n",
       "      <td>30</td>\n",
       "      <td>50</td>\n",
       "    </tr>\n",
       "    <tr>\n",
       "      <th>1</th>\n",
       "      <td>20</td>\n",
       "      <td>25</td>\n",
       "      <td>40</td>\n",
       "      <td>60</td>\n",
       "    </tr>\n",
       "  </tbody>\n",
       "</table>\n",
       "</div>"
      ]
     },
     "execution_count": 173,
     "metadata": {},
     "output_type": "execute_result"
    }
   ],
   "execution_count": 173
  },
  {
   "cell_type": "markdown",
   "id": "a527ca4ccce22428",
   "metadata": {},
   "source": [
    "#### a) روش اول"
   ]
  },
  {
   "cell_type": "code",
   "id": "18d84d63f782a7c1",
   "metadata": {
    "ExecuteTime": {
     "end_time": "2025-10-04T18:13:30.158452Z",
     "start_time": "2025-10-04T18:13:30.142689Z"
    }
   },
   "source": [
    "dft22.insert(3,'c2', dic22['C'])\n",
    "dft22.insert(1,'a2', dft22['A']*2)\n",
    "dft22.head()"
   ],
   "outputs": [
    {
     "data": {
      "text/plain": [
       "    A  a2   B   C  c2   D\n",
       "0  15  30  20  30  30  50\n",
       "1  20  40  25  40  40  60"
      ],
      "text/html": [
       "<div>\n",
       "<style scoped>\n",
       "    .dataframe tbody tr th:only-of-type {\n",
       "        vertical-align: middle;\n",
       "    }\n",
       "\n",
       "    .dataframe tbody tr th {\n",
       "        vertical-align: top;\n",
       "    }\n",
       "\n",
       "    .dataframe thead th {\n",
       "        text-align: right;\n",
       "    }\n",
       "</style>\n",
       "<table border=\"1\" class=\"dataframe\">\n",
       "  <thead>\n",
       "    <tr style=\"text-align: right;\">\n",
       "      <th></th>\n",
       "      <th>A</th>\n",
       "      <th>a2</th>\n",
       "      <th>B</th>\n",
       "      <th>C</th>\n",
       "      <th>c2</th>\n",
       "      <th>D</th>\n",
       "    </tr>\n",
       "  </thead>\n",
       "  <tbody>\n",
       "    <tr>\n",
       "      <th>0</th>\n",
       "      <td>15</td>\n",
       "      <td>30</td>\n",
       "      <td>20</td>\n",
       "      <td>30</td>\n",
       "      <td>30</td>\n",
       "      <td>50</td>\n",
       "    </tr>\n",
       "    <tr>\n",
       "      <th>1</th>\n",
       "      <td>20</td>\n",
       "      <td>40</td>\n",
       "      <td>25</td>\n",
       "      <td>40</td>\n",
       "      <td>40</td>\n",
       "      <td>60</td>\n",
       "    </tr>\n",
       "  </tbody>\n",
       "</table>\n",
       "</div>"
      ]
     },
     "execution_count": 174,
     "metadata": {},
     "output_type": "execute_result"
    }
   ],
   "execution_count": 174
  },
  {
   "cell_type": "markdown",
   "id": "3bd1d80a0db67967",
   "metadata": {},
   "source": [
    "#### b) روش دوم"
   ]
  },
  {
   "cell_type": "code",
   "id": "6068e5c62f453fa8",
   "metadata": {
    "ExecuteTime": {
     "end_time": "2025-10-04T18:13:30.384744Z",
     "start_time": "2025-10-04T18:13:30.379079Z"
    }
   },
   "source": [
    "dft22['c3'] = dft22['C']*20\n",
    "\n",
    "columList = dft22.columns.tolist()\n",
    "\n",
    "location = 5\n",
    "\n",
    "columList = columList[:location] + ['c3'] + columList[location: -1]\n",
    "\n",
    "dft22 = dft22[columList]\n",
    "dft22.head()"
   ],
   "outputs": [
    {
     "data": {
      "text/plain": [
       "    A  a2   B   C  c2   c3   D\n",
       "0  15  30  20  30  30  600  50\n",
       "1  20  40  25  40  40  800  60"
      ],
      "text/html": [
       "<div>\n",
       "<style scoped>\n",
       "    .dataframe tbody tr th:only-of-type {\n",
       "        vertical-align: middle;\n",
       "    }\n",
       "\n",
       "    .dataframe tbody tr th {\n",
       "        vertical-align: top;\n",
       "    }\n",
       "\n",
       "    .dataframe thead th {\n",
       "        text-align: right;\n",
       "    }\n",
       "</style>\n",
       "<table border=\"1\" class=\"dataframe\">\n",
       "  <thead>\n",
       "    <tr style=\"text-align: right;\">\n",
       "      <th></th>\n",
       "      <th>A</th>\n",
       "      <th>a2</th>\n",
       "      <th>B</th>\n",
       "      <th>C</th>\n",
       "      <th>c2</th>\n",
       "      <th>c3</th>\n",
       "      <th>D</th>\n",
       "    </tr>\n",
       "  </thead>\n",
       "  <tbody>\n",
       "    <tr>\n",
       "      <th>0</th>\n",
       "      <td>15</td>\n",
       "      <td>30</td>\n",
       "      <td>20</td>\n",
       "      <td>30</td>\n",
       "      <td>30</td>\n",
       "      <td>600</td>\n",
       "      <td>50</td>\n",
       "    </tr>\n",
       "    <tr>\n",
       "      <th>1</th>\n",
       "      <td>20</td>\n",
       "      <td>40</td>\n",
       "      <td>25</td>\n",
       "      <td>40</td>\n",
       "      <td>40</td>\n",
       "      <td>800</td>\n",
       "      <td>60</td>\n",
       "    </tr>\n",
       "  </tbody>\n",
       "</table>\n",
       "</div>"
      ]
     },
     "execution_count": 175,
     "metadata": {},
     "output_type": "execute_result"
    }
   ],
   "execution_count": 175
  },
  {
   "cell_type": "code",
   "id": "bceb7bd9ded8f53",
   "metadata": {
    "ExecuteTime": {
     "end_time": "2025-10-04T18:13:30.636554Z",
     "start_time": "2025-10-04T18:13:30.590032Z"
    }
   },
   "source": [
    "del dft22,columList,location,dic22\n",
    "gc.collect()"
   ],
   "outputs": [
    {
     "data": {
      "text/plain": [
       "12"
      ]
     },
     "execution_count": 176,
     "metadata": {},
     "output_type": "execute_result"
    }
   ],
   "execution_count": 176
  },
  {
   "cell_type": "markdown",
   "id": "9b9e0c5284e5a86e",
   "metadata": {},
   "source": [
    "### Trick 23 - نحوه Save نمودن دیتافریم در قالب یک فایل csv در Pandas"
   ]
  },
  {
   "attachments": {
    "769f86dc-df0b-4fd4-8db9-b94d42119a7f.png": {
     "image/png": "[encoded data removed]"
    }
   },
   "cell_type": "markdown",
   "id": "1da62027-f206-44ef-af81-fc0ffca73f3c",
   "metadata": {},
   "source": [
    "![02 30Trick of Pandas PicT2301.png](attachment:769f86dc-df0b-4fd4-8db9-b94d42119a7f.png)"
   ]
  },
  {
   "metadata": {
    "ExecuteTime": {
     "end_time": "2025-10-04T18:13:30.892277Z",
     "start_time": "2025-10-04T18:13:30.886225Z"
    }
   },
   "cell_type": "code",
   "source": [
    "dic23_1 = {\n",
    "            'Name': ['a','b','c','d'],\n",
    "            'Score': [100,200,300,0.005]\n",
    "          }\n",
    "dft23 = pd.DataFrame(dic23_1)\n",
    "dft23.head()"
   ],
   "id": "111e8dda38bb6670",
   "outputs": [
    {
     "data": {
      "text/plain": [
       "  Name    Score\n",
       "0    a  100.000\n",
       "1    b  200.000\n",
       "2    c  300.000\n",
       "3    d    0.005"
      ],
      "text/html": [
       "<div>\n",
       "<style scoped>\n",
       "    .dataframe tbody tr th:only-of-type {\n",
       "        vertical-align: middle;\n",
       "    }\n",
       "\n",
       "    .dataframe tbody tr th {\n",
       "        vertical-align: top;\n",
       "    }\n",
       "\n",
       "    .dataframe thead th {\n",
       "        text-align: right;\n",
       "    }\n",
       "</style>\n",
       "<table border=\"1\" class=\"dataframe\">\n",
       "  <thead>\n",
       "    <tr style=\"text-align: right;\">\n",
       "      <th></th>\n",
       "      <th>Name</th>\n",
       "      <th>Score</th>\n",
       "    </tr>\n",
       "  </thead>\n",
       "  <tbody>\n",
       "    <tr>\n",
       "      <th>0</th>\n",
       "      <td>a</td>\n",
       "      <td>100.000</td>\n",
       "    </tr>\n",
       "    <tr>\n",
       "      <th>1</th>\n",
       "      <td>b</td>\n",
       "      <td>200.000</td>\n",
       "    </tr>\n",
       "    <tr>\n",
       "      <th>2</th>\n",
       "      <td>c</td>\n",
       "      <td>300.000</td>\n",
       "    </tr>\n",
       "    <tr>\n",
       "      <th>3</th>\n",
       "      <td>d</td>\n",
       "      <td>0.005</td>\n",
       "    </tr>\n",
       "  </tbody>\n",
       "</table>\n",
       "</div>"
      ]
     },
     "execution_count": 177,
     "metadata": {},
     "output_type": "execute_result"
    }
   ],
   "execution_count": 177
  },
  {
   "metadata": {
    "ExecuteTime": {
     "end_time": "2025-10-04T18:13:31.026007Z",
     "start_time": "2025-10-04T18:13:31.003835Z"
    }
   },
   "cell_type": "code",
   "source": [
    "dft23.to_csv(\"dft23_1.csv\")\n",
    "#dft23.to_csv(\"E:\\\\ML\\\\MLproj002\\\\Pooria\\\\01 Preprocessing\\\\Pandas\\\\dft23.csv\")"
   ],
   "id": "a965c477766c65fa",
   "outputs": [],
   "execution_count": 178
  },
  {
   "metadata": {
    "ExecuteTime": {
     "end_time": "2025-10-04T18:13:31.159688Z",
     "start_time": "2025-10-04T18:13:31.155581Z"
    }
   },
   "cell_type": "code",
   "source": "dft23.to_csv(\"dft23_2.csv\", sep= '\\t')",
   "id": "e322788a0f597fab",
   "outputs": [],
   "execution_count": 179
  },
  {
   "metadata": {
    "ExecuteTime": {
     "end_time": "2025-10-04T18:13:31.272038Z",
     "start_time": "2025-10-04T18:13:31.268497Z"
    }
   },
   "cell_type": "code",
   "source": "dft23.to_csv(\"dft23_3.csv\", float_format='%.2f')",
   "id": "212329ab7854e4a6",
   "outputs": [],
   "execution_count": 180
  },
  {
   "metadata": {
    "ExecuteTime": {
     "end_time": "2025-10-04T18:13:31.354587Z",
     "start_time": "2025-10-04T18:13:31.346654Z"
    }
   },
   "cell_type": "code",
   "source": [
    "dft23.to_csv(\"dft23_4.csv\", header=False)\n",
    "dft23.to_csv(\"dft23_5.csv\", header=False, index=False)"
   ],
   "id": "f8461137c04db3bc",
   "outputs": [],
   "execution_count": 181
  },
  {
   "metadata": {
    "ExecuteTime": {
     "end_time": "2025-10-04T18:13:31.428046Z",
     "start_time": "2025-10-04T18:13:31.422699Z"
    }
   },
   "cell_type": "code",
   "source": [
    "dic23_2 = {\n",
    "            'Name': ['ستون چهارم','ستون سوم','ستون دوم','ستون اول'],\n",
    "            'Score': [100,200,300,0.005]\n",
    "          }\n",
    "dft23 = pd.DataFrame(dic23_2)\n",
    "dft23.head()"
   ],
   "id": "95bc8e13a4fa904c",
   "outputs": [
    {
     "data": {
      "text/plain": [
       "         Name    Score\n",
       "0  ستون چهارم  100.000\n",
       "1    ستون سوم  200.000\n",
       "2    ستون دوم  300.000\n",
       "3    ستون اول    0.005"
      ],
      "text/html": [
       "<div>\n",
       "<style scoped>\n",
       "    .dataframe tbody tr th:only-of-type {\n",
       "        vertical-align: middle;\n",
       "    }\n",
       "\n",
       "    .dataframe tbody tr th {\n",
       "        vertical-align: top;\n",
       "    }\n",
       "\n",
       "    .dataframe thead th {\n",
       "        text-align: right;\n",
       "    }\n",
       "</style>\n",
       "<table border=\"1\" class=\"dataframe\">\n",
       "  <thead>\n",
       "    <tr style=\"text-align: right;\">\n",
       "      <th></th>\n",
       "      <th>Name</th>\n",
       "      <th>Score</th>\n",
       "    </tr>\n",
       "  </thead>\n",
       "  <tbody>\n",
       "    <tr>\n",
       "      <th>0</th>\n",
       "      <td>ستون چهارم</td>\n",
       "      <td>100.000</td>\n",
       "    </tr>\n",
       "    <tr>\n",
       "      <th>1</th>\n",
       "      <td>ستون سوم</td>\n",
       "      <td>200.000</td>\n",
       "    </tr>\n",
       "    <tr>\n",
       "      <th>2</th>\n",
       "      <td>ستون دوم</td>\n",
       "      <td>300.000</td>\n",
       "    </tr>\n",
       "    <tr>\n",
       "      <th>3</th>\n",
       "      <td>ستون اول</td>\n",
       "      <td>0.005</td>\n",
       "    </tr>\n",
       "  </tbody>\n",
       "</table>\n",
       "</div>"
      ]
     },
     "execution_count": 182,
     "metadata": {},
     "output_type": "execute_result"
    }
   ],
   "execution_count": 182
  },
  {
   "metadata": {
    "ExecuteTime": {
     "end_time": "2025-10-04T18:13:31.515250Z",
     "start_time": "2025-10-04T18:13:31.510418Z"
    }
   },
   "cell_type": "code",
   "source": [
    "dft23.to_csv(\"dft23_6.csv\")\n",
    "dft23.to_csv(\"dft23_7.csv\", encoding='utf-8')\n",
    "dft23.to_csv(\"dft23_8.csv\", encoding='utf-8', index=False, header=False)"
   ],
   "id": "24ca1a23b0fee7f5",
   "outputs": [],
   "execution_count": 183
  },
  {
   "metadata": {
    "ExecuteTime": {
     "end_time": "2025-10-04T18:13:31.684555Z",
     "start_time": "2025-10-04T18:13:31.637669Z"
    }
   },
   "cell_type": "code",
   "source": [
    "del dic23_1, dic23_2, dft23\n",
    "gc.collect()"
   ],
   "id": "e388d5ad78dbe5be",
   "outputs": [
    {
     "data": {
      "text/plain": [
       "12"
      ]
     },
     "execution_count": 184,
     "metadata": {},
     "output_type": "execute_result"
    }
   ],
   "execution_count": 184
  },
  {
   "metadata": {},
   "cell_type": "markdown",
   "source": "### Trick 24 - کاربرد Groupby در Pandas",
   "id": "e0839d5891d889b4"
  },
  {
   "metadata": {
    "ExecuteTime": {
     "end_time": "2025-10-04T18:13:31.846479Z",
     "start_time": "2025-10-04T18:13:31.824565Z"
    }
   },
   "cell_type": "code",
   "source": [
    "dft24 = pd.read_csv('../../00 DATA/employee.csv')\n",
    "dft24.head()"
   ],
   "id": "8f902bb5f36ee1d8",
   "outputs": [
    {
     "data": {
      "text/plain": [
       "   Age Attrition     BusinessTravel  DailyRate              Department  \\\n",
       "0   41       Yes      Travel_Rarely       1102                   Sales   \n",
       "1   49        No  Travel_Frequently        279  Research & Development   \n",
       "2   37       Yes      Travel_Rarely       1373  Research & Development   \n",
       "3   33        No  Travel_Frequently       1392  Research & Development   \n",
       "4   27        No      Travel_Rarely        591  Research & Development   \n",
       "\n",
       "   DistanceFromHome  Education EducationField  EmployeeCount  EmployeeNumber  \\\n",
       "0                 1          2  Life Sciences              1               1   \n",
       "1                 8          1  Life Sciences              1               2   \n",
       "2                 2          2          Other              1               4   \n",
       "3                 3          4  Life Sciences              1               5   \n",
       "4                 2          1        Medical              1               7   \n",
       "\n",
       "   ...  RelationshipSatisfaction StandardHours  StockOptionLevel  \\\n",
       "0  ...                         1            80                 0   \n",
       "1  ...                         4            80                 1   \n",
       "2  ...                         2            80                 0   \n",
       "3  ...                         3            80                 0   \n",
       "4  ...                         4            80                 1   \n",
       "\n",
       "   TotalWorkingYears  TrainingTimesLastYear WorkLifeBalance  YearsAtCompany  \\\n",
       "0                  8                      0               1               6   \n",
       "1                 10                      3               3              10   \n",
       "2                  7                      3               3               0   \n",
       "3                  8                      3               3               8   \n",
       "4                  6                      3               3               2   \n",
       "\n",
       "  YearsInCurrentRole  YearsSinceLastPromotion  YearsWithCurrManager  \n",
       "0                  4                        0                     5  \n",
       "1                  7                        1                     7  \n",
       "2                  0                        0                     0  \n",
       "3                  7                        3                     0  \n",
       "4                  2                        2                     2  \n",
       "\n",
       "[5 rows x 35 columns]"
      ],
      "text/html": [
       "<div>\n",
       "<style scoped>\n",
       "    .dataframe tbody tr th:only-of-type {\n",
       "        vertical-align: middle;\n",
       "    }\n",
       "\n",
       "    .dataframe tbody tr th {\n",
       "        vertical-align: top;\n",
       "    }\n",
       "\n",
       "    .dataframe thead th {\n",
       "        text-align: right;\n",
       "    }\n",
       "</style>\n",
       "<table border=\"1\" class=\"dataframe\">\n",
       "  <thead>\n",
       "    <tr style=\"text-align: right;\">\n",
       "      <th></th>\n",
       "      <th>Age</th>\n",
       "      <th>Attrition</th>\n",
       "      <th>BusinessTravel</th>\n",
       "      <th>DailyRate</th>\n",
       "      <th>Department</th>\n",
       "      <th>DistanceFromHome</th>\n",
       "      <th>Education</th>\n",
       "      <th>EducationField</th>\n",
       "      <th>EmployeeCount</th>\n",
       "      <th>EmployeeNumber</th>\n",
       "      <th>...</th>\n",
       "      <th>RelationshipSatisfaction</th>\n",
       "      <th>StandardHours</th>\n",
       "      <th>StockOptionLevel</th>\n",
       "      <th>TotalWorkingYears</th>\n",
       "      <th>TrainingTimesLastYear</th>\n",
       "      <th>WorkLifeBalance</th>\n",
       "      <th>YearsAtCompany</th>\n",
       "      <th>YearsInCurrentRole</th>\n",
       "      <th>YearsSinceLastPromotion</th>\n",
       "      <th>YearsWithCurrManager</th>\n",
       "    </tr>\n",
       "  </thead>\n",
       "  <tbody>\n",
       "    <tr>\n",
       "      <th>0</th>\n",
       "      <td>41</td>\n",
       "      <td>Yes</td>\n",
       "      <td>Travel_Rarely</td>\n",
       "      <td>1102</td>\n",
       "      <td>Sales</td>\n",
       "      <td>1</td>\n",
       "      <td>2</td>\n",
       "      <td>Life Sciences</td>\n",
       "      <td>1</td>\n",
       "      <td>1</td>\n",
       "      <td>...</td>\n",
       "      <td>1</td>\n",
       "      <td>80</td>\n",
       "      <td>0</td>\n",
       "      <td>8</td>\n",
       "      <td>0</td>\n",
       "      <td>1</td>\n",
       "      <td>6</td>\n",
       "      <td>4</td>\n",
       "      <td>0</td>\n",
       "      <td>5</td>\n",
       "    </tr>\n",
       "    <tr>\n",
       "      <th>1</th>\n",
       "      <td>49</td>\n",
       "      <td>No</td>\n",
       "      <td>Travel_Frequently</td>\n",
       "      <td>279</td>\n",
       "      <td>Research &amp; Development</td>\n",
       "      <td>8</td>\n",
       "      <td>1</td>\n",
       "      <td>Life Sciences</td>\n",
       "      <td>1</td>\n",
       "      <td>2</td>\n",
       "      <td>...</td>\n",
       "      <td>4</td>\n",
       "      <td>80</td>\n",
       "      <td>1</td>\n",
       "      <td>10</td>\n",
       "      <td>3</td>\n",
       "      <td>3</td>\n",
       "      <td>10</td>\n",
       "      <td>7</td>\n",
       "      <td>1</td>\n",
       "      <td>7</td>\n",
       "    </tr>\n",
       "    <tr>\n",
       "      <th>2</th>\n",
       "      <td>37</td>\n",
       "      <td>Yes</td>\n",
       "      <td>Travel_Rarely</td>\n",
       "      <td>1373</td>\n",
       "      <td>Research &amp; Development</td>\n",
       "      <td>2</td>\n",
       "      <td>2</td>\n",
       "      <td>Other</td>\n",
       "      <td>1</td>\n",
       "      <td>4</td>\n",
       "      <td>...</td>\n",
       "      <td>2</td>\n",
       "      <td>80</td>\n",
       "      <td>0</td>\n",
       "      <td>7</td>\n",
       "      <td>3</td>\n",
       "      <td>3</td>\n",
       "      <td>0</td>\n",
       "      <td>0</td>\n",
       "      <td>0</td>\n",
       "      <td>0</td>\n",
       "    </tr>\n",
       "    <tr>\n",
       "      <th>3</th>\n",
       "      <td>33</td>\n",
       "      <td>No</td>\n",
       "      <td>Travel_Frequently</td>\n",
       "      <td>1392</td>\n",
       "      <td>Research &amp; Development</td>\n",
       "      <td>3</td>\n",
       "      <td>4</td>\n",
       "      <td>Life Sciences</td>\n",
       "      <td>1</td>\n",
       "      <td>5</td>\n",
       "      <td>...</td>\n",
       "      <td>3</td>\n",
       "      <td>80</td>\n",
       "      <td>0</td>\n",
       "      <td>8</td>\n",
       "      <td>3</td>\n",
       "      <td>3</td>\n",
       "      <td>8</td>\n",
       "      <td>7</td>\n",
       "      <td>3</td>\n",
       "      <td>0</td>\n",
       "    </tr>\n",
       "    <tr>\n",
       "      <th>4</th>\n",
       "      <td>27</td>\n",
       "      <td>No</td>\n",
       "      <td>Travel_Rarely</td>\n",
       "      <td>591</td>\n",
       "      <td>Research &amp; Development</td>\n",
       "      <td>2</td>\n",
       "      <td>1</td>\n",
       "      <td>Medical</td>\n",
       "      <td>1</td>\n",
       "      <td>7</td>\n",
       "      <td>...</td>\n",
       "      <td>4</td>\n",
       "      <td>80</td>\n",
       "      <td>1</td>\n",
       "      <td>6</td>\n",
       "      <td>3</td>\n",
       "      <td>3</td>\n",
       "      <td>2</td>\n",
       "      <td>2</td>\n",
       "      <td>2</td>\n",
       "      <td>2</td>\n",
       "    </tr>\n",
       "  </tbody>\n",
       "</table>\n",
       "<p>5 rows × 35 columns</p>\n",
       "</div>"
      ]
     },
     "execution_count": 185,
     "metadata": {},
     "output_type": "execute_result"
    }
   ],
   "execution_count": 185
  },
  {
   "metadata": {
    "ExecuteTime": {
     "end_time": "2025-10-04T18:13:31.942690Z",
     "start_time": "2025-10-04T18:13:31.935761Z"
    }
   },
   "cell_type": "code",
   "source": "dft24[['Age','DailyRate','Department']].groupby(['Department']).head()",
   "id": "909171b537f3ae5d",
   "outputs": [
    {
     "data": {
      "text/plain": [
       "     Age  DailyRate              Department\n",
       "0     41       1102                   Sales\n",
       "1     49        279  Research & Development\n",
       "2     37       1373  Research & Development\n",
       "3     33       1392  Research & Development\n",
       "4     27        591  Research & Development\n",
       "5     32       1005  Research & Development\n",
       "18    53       1219                   Sales\n",
       "21    36       1218                   Sales\n",
       "27    42        691                   Sales\n",
       "29    46        705                   Sales\n",
       "79    46        945         Human Resources\n",
       "100   37        807         Human Resources\n",
       "105   59       1420         Human Resources\n",
       "112   54        142         Human Resources\n",
       "134   26       1355         Human Resources"
      ],
      "text/html": [
       "<div>\n",
       "<style scoped>\n",
       "    .dataframe tbody tr th:only-of-type {\n",
       "        vertical-align: middle;\n",
       "    }\n",
       "\n",
       "    .dataframe tbody tr th {\n",
       "        vertical-align: top;\n",
       "    }\n",
       "\n",
       "    .dataframe thead th {\n",
       "        text-align: right;\n",
       "    }\n",
       "</style>\n",
       "<table border=\"1\" class=\"dataframe\">\n",
       "  <thead>\n",
       "    <tr style=\"text-align: right;\">\n",
       "      <th></th>\n",
       "      <th>Age</th>\n",
       "      <th>DailyRate</th>\n",
       "      <th>Department</th>\n",
       "    </tr>\n",
       "  </thead>\n",
       "  <tbody>\n",
       "    <tr>\n",
       "      <th>0</th>\n",
       "      <td>41</td>\n",
       "      <td>1102</td>\n",
       "      <td>Sales</td>\n",
       "    </tr>\n",
       "    <tr>\n",
       "      <th>1</th>\n",
       "      <td>49</td>\n",
       "      <td>279</td>\n",
       "      <td>Research &amp; Development</td>\n",
       "    </tr>\n",
       "    <tr>\n",
       "      <th>2</th>\n",
       "      <td>37</td>\n",
       "      <td>1373</td>\n",
       "      <td>Research &amp; Development</td>\n",
       "    </tr>\n",
       "    <tr>\n",
       "      <th>3</th>\n",
       "      <td>33</td>\n",
       "      <td>1392</td>\n",
       "      <td>Research &amp; Development</td>\n",
       "    </tr>\n",
       "    <tr>\n",
       "      <th>4</th>\n",
       "      <td>27</td>\n",
       "      <td>591</td>\n",
       "      <td>Research &amp; Development</td>\n",
       "    </tr>\n",
       "    <tr>\n",
       "      <th>5</th>\n",
       "      <td>32</td>\n",
       "      <td>1005</td>\n",
       "      <td>Research &amp; Development</td>\n",
       "    </tr>\n",
       "    <tr>\n",
       "      <th>18</th>\n",
       "      <td>53</td>\n",
       "      <td>1219</td>\n",
       "      <td>Sales</td>\n",
       "    </tr>\n",
       "    <tr>\n",
       "      <th>21</th>\n",
       "      <td>36</td>\n",
       "      <td>1218</td>\n",
       "      <td>Sales</td>\n",
       "    </tr>\n",
       "    <tr>\n",
       "      <th>27</th>\n",
       "      <td>42</td>\n",
       "      <td>691</td>\n",
       "      <td>Sales</td>\n",
       "    </tr>\n",
       "    <tr>\n",
       "      <th>29</th>\n",
       "      <td>46</td>\n",
       "      <td>705</td>\n",
       "      <td>Sales</td>\n",
       "    </tr>\n",
       "    <tr>\n",
       "      <th>79</th>\n",
       "      <td>46</td>\n",
       "      <td>945</td>\n",
       "      <td>Human Resources</td>\n",
       "    </tr>\n",
       "    <tr>\n",
       "      <th>100</th>\n",
       "      <td>37</td>\n",
       "      <td>807</td>\n",
       "      <td>Human Resources</td>\n",
       "    </tr>\n",
       "    <tr>\n",
       "      <th>105</th>\n",
       "      <td>59</td>\n",
       "      <td>1420</td>\n",
       "      <td>Human Resources</td>\n",
       "    </tr>\n",
       "    <tr>\n",
       "      <th>112</th>\n",
       "      <td>54</td>\n",
       "      <td>142</td>\n",
       "      <td>Human Resources</td>\n",
       "    </tr>\n",
       "    <tr>\n",
       "      <th>134</th>\n",
       "      <td>26</td>\n",
       "      <td>1355</td>\n",
       "      <td>Human Resources</td>\n",
       "    </tr>\n",
       "  </tbody>\n",
       "</table>\n",
       "</div>"
      ]
     },
     "execution_count": 186,
     "metadata": {},
     "output_type": "execute_result"
    }
   ],
   "execution_count": 186
  },
  {
   "metadata": {
    "ExecuteTime": {
     "end_time": "2025-10-04T18:13:32.191134Z",
     "start_time": "2025-10-04T18:13:32.185152Z"
    }
   },
   "cell_type": "code",
   "source": "dft24[['Age','DailyRate','Department']].groupby(['Department']).mean().head()",
   "id": "358612b5c054ea8",
   "outputs": [
    {
     "data": {
      "text/plain": [
       "                              Age   DailyRate\n",
       "Department                                   \n",
       "Human Resources         37.809524  751.539683\n",
       "Research & Development  37.042664  806.851197\n",
       "Sales                   36.542601  800.275785"
      ],
      "text/html": [
       "<div>\n",
       "<style scoped>\n",
       "    .dataframe tbody tr th:only-of-type {\n",
       "        vertical-align: middle;\n",
       "    }\n",
       "\n",
       "    .dataframe tbody tr th {\n",
       "        vertical-align: top;\n",
       "    }\n",
       "\n",
       "    .dataframe thead th {\n",
       "        text-align: right;\n",
       "    }\n",
       "</style>\n",
       "<table border=\"1\" class=\"dataframe\">\n",
       "  <thead>\n",
       "    <tr style=\"text-align: right;\">\n",
       "      <th></th>\n",
       "      <th>Age</th>\n",
       "      <th>DailyRate</th>\n",
       "    </tr>\n",
       "    <tr>\n",
       "      <th>Department</th>\n",
       "      <th></th>\n",
       "      <th></th>\n",
       "    </tr>\n",
       "  </thead>\n",
       "  <tbody>\n",
       "    <tr>\n",
       "      <th>Human Resources</th>\n",
       "      <td>37.809524</td>\n",
       "      <td>751.539683</td>\n",
       "    </tr>\n",
       "    <tr>\n",
       "      <th>Research &amp; Development</th>\n",
       "      <td>37.042664</td>\n",
       "      <td>806.851197</td>\n",
       "    </tr>\n",
       "    <tr>\n",
       "      <th>Sales</th>\n",
       "      <td>36.542601</td>\n",
       "      <td>800.275785</td>\n",
       "    </tr>\n",
       "  </tbody>\n",
       "</table>\n",
       "</div>"
      ]
     },
     "execution_count": 187,
     "metadata": {},
     "output_type": "execute_result"
    }
   ],
   "execution_count": 187
  },
  {
   "metadata": {
    "ExecuteTime": {
     "end_time": "2025-10-04T18:13:32.460393Z",
     "start_time": "2025-10-04T18:13:32.451482Z"
    }
   },
   "cell_type": "code",
   "source": "dft24[['Age','DailyRate','Department']].groupby(['Department']).agg('mean').head()",
   "id": "19d5b710e6251c10",
   "outputs": [
    {
     "data": {
      "text/plain": [
       "                              Age   DailyRate\n",
       "Department                                   \n",
       "Human Resources         37.809524  751.539683\n",
       "Research & Development  37.042664  806.851197\n",
       "Sales                   36.542601  800.275785"
      ],
      "text/html": [
       "<div>\n",
       "<style scoped>\n",
       "    .dataframe tbody tr th:only-of-type {\n",
       "        vertical-align: middle;\n",
       "    }\n",
       "\n",
       "    .dataframe tbody tr th {\n",
       "        vertical-align: top;\n",
       "    }\n",
       "\n",
       "    .dataframe thead th {\n",
       "        text-align: right;\n",
       "    }\n",
       "</style>\n",
       "<table border=\"1\" class=\"dataframe\">\n",
       "  <thead>\n",
       "    <tr style=\"text-align: right;\">\n",
       "      <th></th>\n",
       "      <th>Age</th>\n",
       "      <th>DailyRate</th>\n",
       "    </tr>\n",
       "    <tr>\n",
       "      <th>Department</th>\n",
       "      <th></th>\n",
       "      <th></th>\n",
       "    </tr>\n",
       "  </thead>\n",
       "  <tbody>\n",
       "    <tr>\n",
       "      <th>Human Resources</th>\n",
       "      <td>37.809524</td>\n",
       "      <td>751.539683</td>\n",
       "    </tr>\n",
       "    <tr>\n",
       "      <th>Research &amp; Development</th>\n",
       "      <td>37.042664</td>\n",
       "      <td>806.851197</td>\n",
       "    </tr>\n",
       "    <tr>\n",
       "      <th>Sales</th>\n",
       "      <td>36.542601</td>\n",
       "      <td>800.275785</td>\n",
       "    </tr>\n",
       "  </tbody>\n",
       "</table>\n",
       "</div>"
      ]
     },
     "execution_count": 188,
     "metadata": {},
     "output_type": "execute_result"
    }
   ],
   "execution_count": 188
  },
  {
   "metadata": {
    "ExecuteTime": {
     "end_time": "2025-10-04T18:13:32.685447Z",
     "start_time": "2025-10-04T18:13:32.643451Z"
    }
   },
   "cell_type": "code",
   "source": "dft24[['Age','DailyRate','Department']].groupby(['Department']).agg(['min','max','mean']).head()",
   "id": "63cabfae748bc78b",
   "outputs": [
    {
     "data": {
      "text/plain": [
       "                       Age                DailyRate                  \n",
       "                       min max       mean       min   max        mean\n",
       "Department                                                           \n",
       "Human Resources         19  59  37.809524       106  1444  751.539683\n",
       "Research & Development  18  60  37.042664       102  1496  806.851197\n",
       "Sales                   18  60  36.542601       107  1499  800.275785"
      ],
      "text/html": [
       "<div>\n",
       "<style scoped>\n",
       "    .dataframe tbody tr th:only-of-type {\n",
       "        vertical-align: middle;\n",
       "    }\n",
       "\n",
       "    .dataframe tbody tr th {\n",
       "        vertical-align: top;\n",
       "    }\n",
       "\n",
       "    .dataframe thead tr th {\n",
       "        text-align: left;\n",
       "    }\n",
       "\n",
       "    .dataframe thead tr:last-of-type th {\n",
       "        text-align: right;\n",
       "    }\n",
       "</style>\n",
       "<table border=\"1\" class=\"dataframe\">\n",
       "  <thead>\n",
       "    <tr>\n",
       "      <th></th>\n",
       "      <th colspan=\"3\" halign=\"left\">Age</th>\n",
       "      <th colspan=\"3\" halign=\"left\">DailyRate</th>\n",
       "    </tr>\n",
       "    <tr>\n",
       "      <th></th>\n",
       "      <th>min</th>\n",
       "      <th>max</th>\n",
       "      <th>mean</th>\n",
       "      <th>min</th>\n",
       "      <th>max</th>\n",
       "      <th>mean</th>\n",
       "    </tr>\n",
       "    <tr>\n",
       "      <th>Department</th>\n",
       "      <th></th>\n",
       "      <th></th>\n",
       "      <th></th>\n",
       "      <th></th>\n",
       "      <th></th>\n",
       "      <th></th>\n",
       "    </tr>\n",
       "  </thead>\n",
       "  <tbody>\n",
       "    <tr>\n",
       "      <th>Human Resources</th>\n",
       "      <td>19</td>\n",
       "      <td>59</td>\n",
       "      <td>37.809524</td>\n",
       "      <td>106</td>\n",
       "      <td>1444</td>\n",
       "      <td>751.539683</td>\n",
       "    </tr>\n",
       "    <tr>\n",
       "      <th>Research &amp; Development</th>\n",
       "      <td>18</td>\n",
       "      <td>60</td>\n",
       "      <td>37.042664</td>\n",
       "      <td>102</td>\n",
       "      <td>1496</td>\n",
       "      <td>806.851197</td>\n",
       "    </tr>\n",
       "    <tr>\n",
       "      <th>Sales</th>\n",
       "      <td>18</td>\n",
       "      <td>60</td>\n",
       "      <td>36.542601</td>\n",
       "      <td>107</td>\n",
       "      <td>1499</td>\n",
       "      <td>800.275785</td>\n",
       "    </tr>\n",
       "  </tbody>\n",
       "</table>\n",
       "</div>"
      ]
     },
     "execution_count": 189,
     "metadata": {},
     "output_type": "execute_result"
    }
   ],
   "execution_count": 189
  },
  {
   "metadata": {
    "ExecuteTime": {
     "end_time": "2025-10-04T18:14:37.281476Z",
     "start_time": "2025-10-04T18:14:37.245087Z"
    }
   },
   "cell_type": "code",
   "source": [
    "# let's group more than two attributes at the same time\n",
    "# trying to check Different Education Fields and their Mean Salaries in each of the Department\n",
    "\n",
    "dft24[['Department','EducationField','MonthlyRate']].groupby(by= ['Department','EducationField']).agg('mean')"
   ],
   "id": "d29f4de3fc36f1a",
   "outputs": [
    {
     "data": {
      "text/plain": [
       "                                          MonthlyRate\n",
       "Department             EducationField                \n",
       "Human Resources        Human Resources   14810.740741\n",
       "                       Life Sciences     12813.875000\n",
       "                       Medical           12668.230769\n",
       "                       Other              9275.000000\n",
       "                       Technical Degree  13158.500000\n",
       "Research & Development Life Sciences     14594.704545\n",
       "                       Medical           14163.603306\n",
       "                       Other             13051.765625\n",
       "                       Technical Degree  14142.393617\n",
       "Sales                  Life Sciences     14523.786667\n",
       "                       Marketing         14076.943396\n",
       "                       Medical           15077.625000\n",
       "                       Other             15004.400000\n",
       "                       Technical Degree  14522.029412"
      ],
      "text/html": [
       "<div>\n",
       "<style scoped>\n",
       "    .dataframe tbody tr th:only-of-type {\n",
       "        vertical-align: middle;\n",
       "    }\n",
       "\n",
       "    .dataframe tbody tr th {\n",
       "        vertical-align: top;\n",
       "    }\n",
       "\n",
       "    .dataframe thead th {\n",
       "        text-align: right;\n",
       "    }\n",
       "</style>\n",
       "<table border=\"1\" class=\"dataframe\">\n",
       "  <thead>\n",
       "    <tr style=\"text-align: right;\">\n",
       "      <th></th>\n",
       "      <th></th>\n",
       "      <th>MonthlyRate</th>\n",
       "    </tr>\n",
       "    <tr>\n",
       "      <th>Department</th>\n",
       "      <th>EducationField</th>\n",
       "      <th></th>\n",
       "    </tr>\n",
       "  </thead>\n",
       "  <tbody>\n",
       "    <tr>\n",
       "      <th rowspan=\"5\" valign=\"top\">Human Resources</th>\n",
       "      <th>Human Resources</th>\n",
       "      <td>14810.740741</td>\n",
       "    </tr>\n",
       "    <tr>\n",
       "      <th>Life Sciences</th>\n",
       "      <td>12813.875000</td>\n",
       "    </tr>\n",
       "    <tr>\n",
       "      <th>Medical</th>\n",
       "      <td>12668.230769</td>\n",
       "    </tr>\n",
       "    <tr>\n",
       "      <th>Other</th>\n",
       "      <td>9275.000000</td>\n",
       "    </tr>\n",
       "    <tr>\n",
       "      <th>Technical Degree</th>\n",
       "      <td>13158.500000</td>\n",
       "    </tr>\n",
       "    <tr>\n",
       "      <th rowspan=\"4\" valign=\"top\">Research &amp; Development</th>\n",
       "      <th>Life Sciences</th>\n",
       "      <td>14594.704545</td>\n",
       "    </tr>\n",
       "    <tr>\n",
       "      <th>Medical</th>\n",
       "      <td>14163.603306</td>\n",
       "    </tr>\n",
       "    <tr>\n",
       "      <th>Other</th>\n",
       "      <td>13051.765625</td>\n",
       "    </tr>\n",
       "    <tr>\n",
       "      <th>Technical Degree</th>\n",
       "      <td>14142.393617</td>\n",
       "    </tr>\n",
       "    <tr>\n",
       "      <th rowspan=\"5\" valign=\"top\">Sales</th>\n",
       "      <th>Life Sciences</th>\n",
       "      <td>14523.786667</td>\n",
       "    </tr>\n",
       "    <tr>\n",
       "      <th>Marketing</th>\n",
       "      <td>14076.943396</td>\n",
       "    </tr>\n",
       "    <tr>\n",
       "      <th>Medical</th>\n",
       "      <td>15077.625000</td>\n",
       "    </tr>\n",
       "    <tr>\n",
       "      <th>Other</th>\n",
       "      <td>15004.400000</td>\n",
       "    </tr>\n",
       "    <tr>\n",
       "      <th>Technical Degree</th>\n",
       "      <td>14522.029412</td>\n",
       "    </tr>\n",
       "  </tbody>\n",
       "</table>\n",
       "</div>"
      ]
     },
     "execution_count": 190,
     "metadata": {},
     "output_type": "execute_result"
    }
   ],
   "execution_count": 190
  },
  {
   "metadata": {
    "ExecuteTime": {
     "end_time": "2025-10-04T18:15:45.747486Z",
     "start_time": "2025-10-04T18:15:45.739067Z"
    }
   },
   "cell_type": "code",
   "source": [
    "# trying to check Different Departments and their Mean Salaries in each of the Education Fields.\n",
    "# Including more fields.\n",
    "\n",
    "dft24[['EducationField','Department','MonthlyRate','DailyRate']].groupby(by = ['EducationField','Department']).agg('mean')"
   ],
   "id": "8a04930c6acb3108",
   "outputs": [
    {
     "data": {
      "text/plain": [
       "                                          MonthlyRate    DailyRate\n",
       "EducationField   Department                                       \n",
       "Human Resources  Human Resources         14810.740741   675.259259\n",
       "Life Sciences    Human Resources         12813.875000   753.062500\n",
       "                 Research & Development  14594.704545   789.195455\n",
       "                 Sales                   14523.786667   854.580000\n",
       "Marketing        Sales                   14076.943396   727.836478\n",
       "Medical          Human Resources         12668.230769   875.615385\n",
       "                 Research & Development  14163.603306   825.730028\n",
       "                 Sales                   15077.625000   802.909091\n",
       "Other            Human Resources          9275.000000  1005.000000\n",
       "                 Research & Development  13051.765625   763.359375\n",
       "                 Sales                   15004.400000   893.600000\n",
       "Technical Degree Human Resources         13158.500000   667.000000\n",
       "                 Research & Development  14142.393617   846.202128\n",
       "                 Sales                   14522.029412   851.470588"
      ],
      "text/html": [
       "<div>\n",
       "<style scoped>\n",
       "    .dataframe tbody tr th:only-of-type {\n",
       "        vertical-align: middle;\n",
       "    }\n",
       "\n",
       "    .dataframe tbody tr th {\n",
       "        vertical-align: top;\n",
       "    }\n",
       "\n",
       "    .dataframe thead th {\n",
       "        text-align: right;\n",
       "    }\n",
       "</style>\n",
       "<table border=\"1\" class=\"dataframe\">\n",
       "  <thead>\n",
       "    <tr style=\"text-align: right;\">\n",
       "      <th></th>\n",
       "      <th></th>\n",
       "      <th>MonthlyRate</th>\n",
       "      <th>DailyRate</th>\n",
       "    </tr>\n",
       "    <tr>\n",
       "      <th>EducationField</th>\n",
       "      <th>Department</th>\n",
       "      <th></th>\n",
       "      <th></th>\n",
       "    </tr>\n",
       "  </thead>\n",
       "  <tbody>\n",
       "    <tr>\n",
       "      <th>Human Resources</th>\n",
       "      <th>Human Resources</th>\n",
       "      <td>14810.740741</td>\n",
       "      <td>675.259259</td>\n",
       "    </tr>\n",
       "    <tr>\n",
       "      <th rowspan=\"3\" valign=\"top\">Life Sciences</th>\n",
       "      <th>Human Resources</th>\n",
       "      <td>12813.875000</td>\n",
       "      <td>753.062500</td>\n",
       "    </tr>\n",
       "    <tr>\n",
       "      <th>Research &amp; Development</th>\n",
       "      <td>14594.704545</td>\n",
       "      <td>789.195455</td>\n",
       "    </tr>\n",
       "    <tr>\n",
       "      <th>Sales</th>\n",
       "      <td>14523.786667</td>\n",
       "      <td>854.580000</td>\n",
       "    </tr>\n",
       "    <tr>\n",
       "      <th>Marketing</th>\n",
       "      <th>Sales</th>\n",
       "      <td>14076.943396</td>\n",
       "      <td>727.836478</td>\n",
       "    </tr>\n",
       "    <tr>\n",
       "      <th rowspan=\"3\" valign=\"top\">Medical</th>\n",
       "      <th>Human Resources</th>\n",
       "      <td>12668.230769</td>\n",
       "      <td>875.615385</td>\n",
       "    </tr>\n",
       "    <tr>\n",
       "      <th>Research &amp; Development</th>\n",
       "      <td>14163.603306</td>\n",
       "      <td>825.730028</td>\n",
       "    </tr>\n",
       "    <tr>\n",
       "      <th>Sales</th>\n",
       "      <td>15077.625000</td>\n",
       "      <td>802.909091</td>\n",
       "    </tr>\n",
       "    <tr>\n",
       "      <th rowspan=\"3\" valign=\"top\">Other</th>\n",
       "      <th>Human Resources</th>\n",
       "      <td>9275.000000</td>\n",
       "      <td>1005.000000</td>\n",
       "    </tr>\n",
       "    <tr>\n",
       "      <th>Research &amp; Development</th>\n",
       "      <td>13051.765625</td>\n",
       "      <td>763.359375</td>\n",
       "    </tr>\n",
       "    <tr>\n",
       "      <th>Sales</th>\n",
       "      <td>15004.400000</td>\n",
       "      <td>893.600000</td>\n",
       "    </tr>\n",
       "    <tr>\n",
       "      <th rowspan=\"3\" valign=\"top\">Technical Degree</th>\n",
       "      <th>Human Resources</th>\n",
       "      <td>13158.500000</td>\n",
       "      <td>667.000000</td>\n",
       "    </tr>\n",
       "    <tr>\n",
       "      <th>Research &amp; Development</th>\n",
       "      <td>14142.393617</td>\n",
       "      <td>846.202128</td>\n",
       "    </tr>\n",
       "    <tr>\n",
       "      <th>Sales</th>\n",
       "      <td>14522.029412</td>\n",
       "      <td>851.470588</td>\n",
       "    </tr>\n",
       "  </tbody>\n",
       "</table>\n",
       "</div>"
      ]
     },
     "execution_count": 191,
     "metadata": {},
     "output_type": "execute_result"
    }
   ],
   "execution_count": 191
  },
  {
   "metadata": {
    "ExecuteTime": {
     "end_time": "2025-10-04T18:16:44.412892Z",
     "start_time": "2025-10-04T18:16:44.361785Z"
    }
   },
   "cell_type": "code",
   "source": [
    "del dft24\n",
    "gc.collect()"
   ],
   "id": "68d713b2fafee495",
   "outputs": [
    {
     "data": {
      "text/plain": [
       "12"
      ]
     },
     "execution_count": 192,
     "metadata": {},
     "output_type": "execute_result"
    }
   ],
   "execution_count": 192
  },
  {
   "metadata": {},
   "cell_type": "markdown",
   "source": "### Trick 25 - کاربرد Pivot در Pandas",
   "id": "16511196a263c936"
  },
  {
   "metadata": {
    "ExecuteTime": {
     "end_time": "2025-10-04T18:20:37.688918Z",
     "start_time": "2025-10-04T18:20:37.673702Z"
    }
   },
   "cell_type": "code",
   "source": [
    "dft25 = pd.read_csv('../../00 DATA/employee.csv')\n",
    "dft25.head()"
   ],
   "id": "7cf6ffabc63fda8b",
   "outputs": [
    {
     "data": {
      "text/plain": [
       "   Age Attrition     BusinessTravel  DailyRate              Department  \\\n",
       "0   41       Yes      Travel_Rarely       1102                   Sales   \n",
       "1   49        No  Travel_Frequently        279  Research & Development   \n",
       "2   37       Yes      Travel_Rarely       1373  Research & Development   \n",
       "3   33        No  Travel_Frequently       1392  Research & Development   \n",
       "4   27        No      Travel_Rarely        591  Research & Development   \n",
       "\n",
       "   DistanceFromHome  Education EducationField  EmployeeCount  EmployeeNumber  \\\n",
       "0                 1          2  Life Sciences              1               1   \n",
       "1                 8          1  Life Sciences              1               2   \n",
       "2                 2          2          Other              1               4   \n",
       "3                 3          4  Life Sciences              1               5   \n",
       "4                 2          1        Medical              1               7   \n",
       "\n",
       "   ...  RelationshipSatisfaction StandardHours  StockOptionLevel  \\\n",
       "0  ...                         1            80                 0   \n",
       "1  ...                         4            80                 1   \n",
       "2  ...                         2            80                 0   \n",
       "3  ...                         3            80                 0   \n",
       "4  ...                         4            80                 1   \n",
       "\n",
       "   TotalWorkingYears  TrainingTimesLastYear WorkLifeBalance  YearsAtCompany  \\\n",
       "0                  8                      0               1               6   \n",
       "1                 10                      3               3              10   \n",
       "2                  7                      3               3               0   \n",
       "3                  8                      3               3               8   \n",
       "4                  6                      3               3               2   \n",
       "\n",
       "  YearsInCurrentRole  YearsSinceLastPromotion  YearsWithCurrManager  \n",
       "0                  4                        0                     5  \n",
       "1                  7                        1                     7  \n",
       "2                  0                        0                     0  \n",
       "3                  7                        3                     0  \n",
       "4                  2                        2                     2  \n",
       "\n",
       "[5 rows x 35 columns]"
      ],
      "text/html": [
       "<div>\n",
       "<style scoped>\n",
       "    .dataframe tbody tr th:only-of-type {\n",
       "        vertical-align: middle;\n",
       "    }\n",
       "\n",
       "    .dataframe tbody tr th {\n",
       "        vertical-align: top;\n",
       "    }\n",
       "\n",
       "    .dataframe thead th {\n",
       "        text-align: right;\n",
       "    }\n",
       "</style>\n",
       "<table border=\"1\" class=\"dataframe\">\n",
       "  <thead>\n",
       "    <tr style=\"text-align: right;\">\n",
       "      <th></th>\n",
       "      <th>Age</th>\n",
       "      <th>Attrition</th>\n",
       "      <th>BusinessTravel</th>\n",
       "      <th>DailyRate</th>\n",
       "      <th>Department</th>\n",
       "      <th>DistanceFromHome</th>\n",
       "      <th>Education</th>\n",
       "      <th>EducationField</th>\n",
       "      <th>EmployeeCount</th>\n",
       "      <th>EmployeeNumber</th>\n",
       "      <th>...</th>\n",
       "      <th>RelationshipSatisfaction</th>\n",
       "      <th>StandardHours</th>\n",
       "      <th>StockOptionLevel</th>\n",
       "      <th>TotalWorkingYears</th>\n",
       "      <th>TrainingTimesLastYear</th>\n",
       "      <th>WorkLifeBalance</th>\n",
       "      <th>YearsAtCompany</th>\n",
       "      <th>YearsInCurrentRole</th>\n",
       "      <th>YearsSinceLastPromotion</th>\n",
       "      <th>YearsWithCurrManager</th>\n",
       "    </tr>\n",
       "  </thead>\n",
       "  <tbody>\n",
       "    <tr>\n",
       "      <th>0</th>\n",
       "      <td>41</td>\n",
       "      <td>Yes</td>\n",
       "      <td>Travel_Rarely</td>\n",
       "      <td>1102</td>\n",
       "      <td>Sales</td>\n",
       "      <td>1</td>\n",
       "      <td>2</td>\n",
       "      <td>Life Sciences</td>\n",
       "      <td>1</td>\n",
       "      <td>1</td>\n",
       "      <td>...</td>\n",
       "      <td>1</td>\n",
       "      <td>80</td>\n",
       "      <td>0</td>\n",
       "      <td>8</td>\n",
       "      <td>0</td>\n",
       "      <td>1</td>\n",
       "      <td>6</td>\n",
       "      <td>4</td>\n",
       "      <td>0</td>\n",
       "      <td>5</td>\n",
       "    </tr>\n",
       "    <tr>\n",
       "      <th>1</th>\n",
       "      <td>49</td>\n",
       "      <td>No</td>\n",
       "      <td>Travel_Frequently</td>\n",
       "      <td>279</td>\n",
       "      <td>Research &amp; Development</td>\n",
       "      <td>8</td>\n",
       "      <td>1</td>\n",
       "      <td>Life Sciences</td>\n",
       "      <td>1</td>\n",
       "      <td>2</td>\n",
       "      <td>...</td>\n",
       "      <td>4</td>\n",
       "      <td>80</td>\n",
       "      <td>1</td>\n",
       "      <td>10</td>\n",
       "      <td>3</td>\n",
       "      <td>3</td>\n",
       "      <td>10</td>\n",
       "      <td>7</td>\n",
       "      <td>1</td>\n",
       "      <td>7</td>\n",
       "    </tr>\n",
       "    <tr>\n",
       "      <th>2</th>\n",
       "      <td>37</td>\n",
       "      <td>Yes</td>\n",
       "      <td>Travel_Rarely</td>\n",
       "      <td>1373</td>\n",
       "      <td>Research &amp; Development</td>\n",
       "      <td>2</td>\n",
       "      <td>2</td>\n",
       "      <td>Other</td>\n",
       "      <td>1</td>\n",
       "      <td>4</td>\n",
       "      <td>...</td>\n",
       "      <td>2</td>\n",
       "      <td>80</td>\n",
       "      <td>0</td>\n",
       "      <td>7</td>\n",
       "      <td>3</td>\n",
       "      <td>3</td>\n",
       "      <td>0</td>\n",
       "      <td>0</td>\n",
       "      <td>0</td>\n",
       "      <td>0</td>\n",
       "    </tr>\n",
       "    <tr>\n",
       "      <th>3</th>\n",
       "      <td>33</td>\n",
       "      <td>No</td>\n",
       "      <td>Travel_Frequently</td>\n",
       "      <td>1392</td>\n",
       "      <td>Research &amp; Development</td>\n",
       "      <td>3</td>\n",
       "      <td>4</td>\n",
       "      <td>Life Sciences</td>\n",
       "      <td>1</td>\n",
       "      <td>5</td>\n",
       "      <td>...</td>\n",
       "      <td>3</td>\n",
       "      <td>80</td>\n",
       "      <td>0</td>\n",
       "      <td>8</td>\n",
       "      <td>3</td>\n",
       "      <td>3</td>\n",
       "      <td>8</td>\n",
       "      <td>7</td>\n",
       "      <td>3</td>\n",
       "      <td>0</td>\n",
       "    </tr>\n",
       "    <tr>\n",
       "      <th>4</th>\n",
       "      <td>27</td>\n",
       "      <td>No</td>\n",
       "      <td>Travel_Rarely</td>\n",
       "      <td>591</td>\n",
       "      <td>Research &amp; Development</td>\n",
       "      <td>2</td>\n",
       "      <td>1</td>\n",
       "      <td>Medical</td>\n",
       "      <td>1</td>\n",
       "      <td>7</td>\n",
       "      <td>...</td>\n",
       "      <td>4</td>\n",
       "      <td>80</td>\n",
       "      <td>1</td>\n",
       "      <td>6</td>\n",
       "      <td>3</td>\n",
       "      <td>3</td>\n",
       "      <td>2</td>\n",
       "      <td>2</td>\n",
       "      <td>2</td>\n",
       "      <td>2</td>\n",
       "    </tr>\n",
       "  </tbody>\n",
       "</table>\n",
       "<p>5 rows × 35 columns</p>\n",
       "</div>"
      ]
     },
     "execution_count": 193,
     "metadata": {},
     "output_type": "execute_result"
    }
   ],
   "execution_count": 193
  },
  {
   "metadata": {
    "ExecuteTime": {
     "end_time": "2025-10-04T18:23:33.103441Z",
     "start_time": "2025-10-04T18:23:33.095963Z"
    }
   },
   "cell_type": "code",
   "source": "dft25.pivot_table(values='Age',index = 'Department' ,aggfunc='mean').head()\n",
   "id": "3a2846e9205a4952",
   "outputs": [
    {
     "data": {
      "text/plain": [
       "                              Age\n",
       "Department                       \n",
       "Human Resources         37.809524\n",
       "Research & Development  37.042664\n",
       "Sales                   36.542601"
      ],
      "text/html": [
       "<div>\n",
       "<style scoped>\n",
       "    .dataframe tbody tr th:only-of-type {\n",
       "        vertical-align: middle;\n",
       "    }\n",
       "\n",
       "    .dataframe tbody tr th {\n",
       "        vertical-align: top;\n",
       "    }\n",
       "\n",
       "    .dataframe thead th {\n",
       "        text-align: right;\n",
       "    }\n",
       "</style>\n",
       "<table border=\"1\" class=\"dataframe\">\n",
       "  <thead>\n",
       "    <tr style=\"text-align: right;\">\n",
       "      <th></th>\n",
       "      <th>Age</th>\n",
       "    </tr>\n",
       "    <tr>\n",
       "      <th>Department</th>\n",
       "      <th></th>\n",
       "    </tr>\n",
       "  </thead>\n",
       "  <tbody>\n",
       "    <tr>\n",
       "      <th>Human Resources</th>\n",
       "      <td>37.809524</td>\n",
       "    </tr>\n",
       "    <tr>\n",
       "      <th>Research &amp; Development</th>\n",
       "      <td>37.042664</td>\n",
       "    </tr>\n",
       "    <tr>\n",
       "      <th>Sales</th>\n",
       "      <td>36.542601</td>\n",
       "    </tr>\n",
       "  </tbody>\n",
       "</table>\n",
       "</div>"
      ]
     },
     "execution_count": 195,
     "metadata": {},
     "output_type": "execute_result"
    }
   ],
   "execution_count": 195
  },
  {
   "metadata": {},
   "cell_type": "code",
   "outputs": [],
   "execution_count": null,
   "source": "",
   "id": "2f20bd86521bb894"
  }
 ],
 "metadata": {
  "kernelspec": {
   "display_name": "Python 3 (ipykernel)",
   "language": "python",
   "name": "python3"
  },
  "language_info": {
   "codemirror_mode": {
    "name": "ipython",
    "version": 3
   },
   "file_extension": ".py",
   "mimetype": "text/x-python",
   "name": "python",
   "nbconvert_exporter": "python",
   "pygments_lexer": "ipython3",
   "version": "3.13.5"
  }
 },
 "nbformat": 4,
 "nbformat_minor": 5
}
