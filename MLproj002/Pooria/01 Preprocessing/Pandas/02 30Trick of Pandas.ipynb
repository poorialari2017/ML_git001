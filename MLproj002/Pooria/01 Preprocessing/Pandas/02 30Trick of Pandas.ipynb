{
 "cells": [
  {
   "metadata": {},
   "cell_type": "markdown",
   "source": "### **Imports the libraries**",
   "id": "44c50be71eaf742e"
  },
  {
   "cell_type": "code",
   "id": "initial_id",
   "metadata": {
    "collapsed": true,
    "ExecuteTime": {
     "end_time": "2025-09-27T06:36:52.525679Z",
     "start_time": "2025-09-27T06:36:48.617626Z"
    }
   },
   "source": [
    "# وارد کردن کتابخونه به برنامه\n",
    "import pandas as pd\n",
    "import numpy as np\n",
    "# فهمیدن ورژن پانداس\n",
    "print(pd.__version__)\n"
   ],
   "outputs": [
    {
     "name": "stdout",
     "output_type": "stream",
     "text": [
      "2.3.2\n"
     ]
    }
   ],
   "execution_count": 2
  },
  {
   "metadata": {},
   "cell_type": "markdown",
   "source": "### **Trick 01 - نحوه بررسی مصرف حافظه (Memory Usage) در Pandas**",
   "id": "8625320aaddbbff8"
  },
  {
   "metadata": {
    "ExecuteTime": {
     "end_time": "2025-09-27T06:36:52.728102Z",
     "start_time": "2025-09-27T06:36:52.531999Z"
    }
   },
   "cell_type": "code",
   "source": [
    "dft01 = pd.read_csv(\"../../00 DATA/Churn_Modelling.csv\")\n",
    "dft01.head()\n",
    "\n"
   ],
   "id": "43095cdd0356de9d",
   "outputs": [
    {
     "data": {
      "text/plain": [
       "   RowNumber  CustomerId   Surname  CreditScore Geography  Gender  Age  \\\n",
       "0          1    15634602  Hargrave          619    France  Female   42   \n",
       "1          2    15647311      Hill          608     Spain  Female   41   \n",
       "2          3    15619304      Onio          502    France  Female   42   \n",
       "3          4    15701354      Boni          699    France  Female   39   \n",
       "4          5    15737888  Mitchell          850     Spain  Female   43   \n",
       "\n",
       "   Tenure    Balance  NumOfProducts  HasCrCard  IsActiveMember  \\\n",
       "0       2       0.00              1          1               1   \n",
       "1       1   83807.86              1          0               1   \n",
       "2       8  159660.80              3          1               0   \n",
       "3       1       0.00              2          0               0   \n",
       "4       2  125510.82              1          1               1   \n",
       "\n",
       "   EstimatedSalary  Exited  \n",
       "0        101348.88       1  \n",
       "1        112542.58       0  \n",
       "2        113931.57       1  \n",
       "3         93826.63       0  \n",
       "4         79084.10       0  "
      ],
      "text/html": [
       "<div>\n",
       "<style scoped>\n",
       "    .dataframe tbody tr th:only-of-type {\n",
       "        vertical-align: middle;\n",
       "    }\n",
       "\n",
       "    .dataframe tbody tr th {\n",
       "        vertical-align: top;\n",
       "    }\n",
       "\n",
       "    .dataframe thead th {\n",
       "        text-align: right;\n",
       "    }\n",
       "</style>\n",
       "<table border=\"1\" class=\"dataframe\">\n",
       "  <thead>\n",
       "    <tr style=\"text-align: right;\">\n",
       "      <th></th>\n",
       "      <th>RowNumber</th>\n",
       "      <th>CustomerId</th>\n",
       "      <th>Surname</th>\n",
       "      <th>CreditScore</th>\n",
       "      <th>Geography</th>\n",
       "      <th>Gender</th>\n",
       "      <th>Age</th>\n",
       "      <th>Tenure</th>\n",
       "      <th>Balance</th>\n",
       "      <th>NumOfProducts</th>\n",
       "      <th>HasCrCard</th>\n",
       "      <th>IsActiveMember</th>\n",
       "      <th>EstimatedSalary</th>\n",
       "      <th>Exited</th>\n",
       "    </tr>\n",
       "  </thead>\n",
       "  <tbody>\n",
       "    <tr>\n",
       "      <th>0</th>\n",
       "      <td>1</td>\n",
       "      <td>15634602</td>\n",
       "      <td>Hargrave</td>\n",
       "      <td>619</td>\n",
       "      <td>France</td>\n",
       "      <td>Female</td>\n",
       "      <td>42</td>\n",
       "      <td>2</td>\n",
       "      <td>0.00</td>\n",
       "      <td>1</td>\n",
       "      <td>1</td>\n",
       "      <td>1</td>\n",
       "      <td>101348.88</td>\n",
       "      <td>1</td>\n",
       "    </tr>\n",
       "    <tr>\n",
       "      <th>1</th>\n",
       "      <td>2</td>\n",
       "      <td>15647311</td>\n",
       "      <td>Hill</td>\n",
       "      <td>608</td>\n",
       "      <td>Spain</td>\n",
       "      <td>Female</td>\n",
       "      <td>41</td>\n",
       "      <td>1</td>\n",
       "      <td>83807.86</td>\n",
       "      <td>1</td>\n",
       "      <td>0</td>\n",
       "      <td>1</td>\n",
       "      <td>112542.58</td>\n",
       "      <td>0</td>\n",
       "    </tr>\n",
       "    <tr>\n",
       "      <th>2</th>\n",
       "      <td>3</td>\n",
       "      <td>15619304</td>\n",
       "      <td>Onio</td>\n",
       "      <td>502</td>\n",
       "      <td>France</td>\n",
       "      <td>Female</td>\n",
       "      <td>42</td>\n",
       "      <td>8</td>\n",
       "      <td>159660.80</td>\n",
       "      <td>3</td>\n",
       "      <td>1</td>\n",
       "      <td>0</td>\n",
       "      <td>113931.57</td>\n",
       "      <td>1</td>\n",
       "    </tr>\n",
       "    <tr>\n",
       "      <th>3</th>\n",
       "      <td>4</td>\n",
       "      <td>15701354</td>\n",
       "      <td>Boni</td>\n",
       "      <td>699</td>\n",
       "      <td>France</td>\n",
       "      <td>Female</td>\n",
       "      <td>39</td>\n",
       "      <td>1</td>\n",
       "      <td>0.00</td>\n",
       "      <td>2</td>\n",
       "      <td>0</td>\n",
       "      <td>0</td>\n",
       "      <td>93826.63</td>\n",
       "      <td>0</td>\n",
       "    </tr>\n",
       "    <tr>\n",
       "      <th>4</th>\n",
       "      <td>5</td>\n",
       "      <td>15737888</td>\n",
       "      <td>Mitchell</td>\n",
       "      <td>850</td>\n",
       "      <td>Spain</td>\n",
       "      <td>Female</td>\n",
       "      <td>43</td>\n",
       "      <td>2</td>\n",
       "      <td>125510.82</td>\n",
       "      <td>1</td>\n",
       "      <td>1</td>\n",
       "      <td>1</td>\n",
       "      <td>79084.10</td>\n",
       "      <td>0</td>\n",
       "    </tr>\n",
       "  </tbody>\n",
       "</table>\n",
       "</div>"
      ]
     },
     "execution_count": 3,
     "metadata": {},
     "output_type": "execute_result"
    }
   ],
   "execution_count": 3
  },
  {
   "metadata": {
    "ExecuteTime": {
     "end_time": "2025-09-27T06:36:52.864530Z",
     "start_time": "2025-09-27T06:36:52.757259Z"
    }
   },
   "cell_type": "code",
   "source": "dft01.info()",
   "id": "f990811876173cf5",
   "outputs": [
    {
     "name": "stdout",
     "output_type": "stream",
     "text": [
      "<class 'pandas.core.frame.DataFrame'>\n",
      "RangeIndex: 10000 entries, 0 to 9999\n",
      "Data columns (total 14 columns):\n",
      " #   Column           Non-Null Count  Dtype  \n",
      "---  ------           --------------  -----  \n",
      " 0   RowNumber        10000 non-null  int64  \n",
      " 1   CustomerId       10000 non-null  int64  \n",
      " 2   Surname          10000 non-null  object \n",
      " 3   CreditScore      10000 non-null  int64  \n",
      " 4   Geography        10000 non-null  object \n",
      " 5   Gender           10000 non-null  object \n",
      " 6   Age              10000 non-null  int64  \n",
      " 7   Tenure           10000 non-null  int64  \n",
      " 8   Balance          10000 non-null  float64\n",
      " 9   NumOfProducts    10000 non-null  int64  \n",
      " 10  HasCrCard        10000 non-null  int64  \n",
      " 11  IsActiveMember   10000 non-null  int64  \n",
      " 12  EstimatedSalary  10000 non-null  float64\n",
      " 13  Exited           10000 non-null  int64  \n",
      "dtypes: float64(2), int64(9), object(3)\n",
      "memory usage: 1.1+ MB\n"
     ]
    }
   ],
   "execution_count": 4
  },
  {
   "metadata": {
    "ExecuteTime": {
     "end_time": "2025-09-27T06:36:52.878035Z",
     "start_time": "2025-09-27T06:36:52.868860Z"
    }
   },
   "cell_type": "code",
   "source": "dft01.info(memory_usage=\"deep\")",
   "id": "c71045e6a77a086b",
   "outputs": [
    {
     "name": "stdout",
     "output_type": "stream",
     "text": [
      "<class 'pandas.core.frame.DataFrame'>\n",
      "RangeIndex: 10000 entries, 0 to 9999\n",
      "Data columns (total 14 columns):\n",
      " #   Column           Non-Null Count  Dtype  \n",
      "---  ------           --------------  -----  \n",
      " 0   RowNumber        10000 non-null  int64  \n",
      " 1   CustomerId       10000 non-null  int64  \n",
      " 2   Surname          10000 non-null  object \n",
      " 3   CreditScore      10000 non-null  int64  \n",
      " 4   Geography        10000 non-null  object \n",
      " 5   Gender           10000 non-null  object \n",
      " 6   Age              10000 non-null  int64  \n",
      " 7   Tenure           10000 non-null  int64  \n",
      " 8   Balance          10000 non-null  float64\n",
      " 9   NumOfProducts    10000 non-null  int64  \n",
      " 10  HasCrCard        10000 non-null  int64  \n",
      " 11  IsActiveMember   10000 non-null  int64  \n",
      " 12  EstimatedSalary  10000 non-null  float64\n",
      " 13  Exited           10000 non-null  int64  \n",
      "dtypes: float64(2), int64(9), object(3)\n",
      "memory usage: 2.4 MB\n"
     ]
    }
   ],
   "execution_count": 5
  },
  {
   "metadata": {
    "ExecuteTime": {
     "end_time": "2025-09-27T06:36:52.903729Z",
     "start_time": "2025-09-27T06:36:52.893040Z"
    }
   },
   "cell_type": "code",
   "source": [
    "# فهمیدن اینکه هر کدوم از ستون ها چقدر از حافظه را مصرف میکنه\n",
    "\n",
    "dft01.memory_usage(deep=True)"
   ],
   "id": "2c407b7f4122b7fd",
   "outputs": [
    {
     "data": {
      "text/plain": [
       "Index                 132\n",
       "RowNumber           80000\n",
       "CustomerId          80000\n",
       "Surname            554349\n",
       "CreditScore         80000\n",
       "Geography          550032\n",
       "Gender             539086\n",
       "Age                 80000\n",
       "Tenure              80000\n",
       "Balance             80000\n",
       "NumOfProducts       80000\n",
       "HasCrCard           80000\n",
       "IsActiveMember      80000\n",
       "EstimatedSalary     80000\n",
       "Exited              80000\n",
       "dtype: int64"
      ]
     },
     "execution_count": 6,
     "metadata": {},
     "output_type": "execute_result"
    }
   ],
   "execution_count": 6
  },
  {
   "metadata": {},
   "cell_type": "markdown",
   "source": "### **Trick 02 - نحوه تبدیل داده های گسسته (Convert) در Pandas**\n",
   "id": "8a25e03349207766"
  },
  {
   "metadata": {
    "ExecuteTime": {
     "end_time": "2025-09-27T06:36:52.953675Z",
     "start_time": "2025-09-27T06:36:52.932614Z"
    }
   },
   "cell_type": "code",
   "source": [
    "dft02 = pd.read_csv(\"../../00 DATA/titanic.csv\")\n",
    "dft02.info()"
   ],
   "id": "af473009fdfc8329",
   "outputs": [
    {
     "name": "stdout",
     "output_type": "stream",
     "text": [
      "<class 'pandas.core.frame.DataFrame'>\n",
      "RangeIndex: 1309 entries, 0 to 1308\n",
      "Data columns (total 14 columns):\n",
      " #   Column     Non-Null Count  Dtype  \n",
      "---  ------     --------------  -----  \n",
      " 0   pclass     1309 non-null   int64  \n",
      " 1   survived   1309 non-null   int64  \n",
      " 2   name       1309 non-null   object \n",
      " 3   sex        1309 non-null   object \n",
      " 4   age        1046 non-null   float64\n",
      " 5   sibsp      1309 non-null   int64  \n",
      " 6   parch      1309 non-null   int64  \n",
      " 7   ticket     1309 non-null   object \n",
      " 8   fare       1308 non-null   float64\n",
      " 9   cabin      295 non-null    object \n",
      " 10  embarked   1307 non-null   object \n",
      " 11  boat       486 non-null    object \n",
      " 12  body       121 non-null    float64\n",
      " 13  home.dest  745 non-null    object \n",
      "dtypes: float64(3), int64(4), object(7)\n",
      "memory usage: 143.3+ KB\n"
     ]
    }
   ],
   "execution_count": 7
  },
  {
   "metadata": {
    "ExecuteTime": {
     "end_time": "2025-09-27T06:36:52.973230Z",
     "start_time": "2025-09-27T06:36:52.964908Z"
    }
   },
   "cell_type": "code",
   "source": "dft02.head()",
   "id": "498d3532602fab4e",
   "outputs": [
    {
     "data": {
      "text/plain": [
       "   pclass  survived                                             name     sex  \\\n",
       "0       1         1                    Allen, Miss. Elisabeth Walton  female   \n",
       "1       1         1                   Allison, Master. Hudson Trevor    male   \n",
       "2       1         0                     Allison, Miss. Helen Loraine  female   \n",
       "3       1         0             Allison, Mr. Hudson Joshua Creighton    male   \n",
       "4       1         0  Allison, Mrs. Hudson J C (Bessie Waldo Daniels)  female   \n",
       "\n",
       "     age  sibsp  parch  ticket      fare    cabin embarked boat   body  \\\n",
       "0  29.00      0      0   24160  211.3375       B5        S    2    NaN   \n",
       "1   0.92      1      2  113781  151.5500  C22 C26        S   11    NaN   \n",
       "2   2.00      1      2  113781  151.5500  C22 C26        S  NaN    NaN   \n",
       "3  30.00      1      2  113781  151.5500  C22 C26        S  NaN  135.0   \n",
       "4  25.00      1      2  113781  151.5500  C22 C26        S  NaN    NaN   \n",
       "\n",
       "                         home.dest  \n",
       "0                     St Louis, MO  \n",
       "1  Montreal, PQ / Chesterville, ON  \n",
       "2  Montreal, PQ / Chesterville, ON  \n",
       "3  Montreal, PQ / Chesterville, ON  \n",
       "4  Montreal, PQ / Chesterville, ON  "
      ],
      "text/html": [
       "<div>\n",
       "<style scoped>\n",
       "    .dataframe tbody tr th:only-of-type {\n",
       "        vertical-align: middle;\n",
       "    }\n",
       "\n",
       "    .dataframe tbody tr th {\n",
       "        vertical-align: top;\n",
       "    }\n",
       "\n",
       "    .dataframe thead th {\n",
       "        text-align: right;\n",
       "    }\n",
       "</style>\n",
       "<table border=\"1\" class=\"dataframe\">\n",
       "  <thead>\n",
       "    <tr style=\"text-align: right;\">\n",
       "      <th></th>\n",
       "      <th>pclass</th>\n",
       "      <th>survived</th>\n",
       "      <th>name</th>\n",
       "      <th>sex</th>\n",
       "      <th>age</th>\n",
       "      <th>sibsp</th>\n",
       "      <th>parch</th>\n",
       "      <th>ticket</th>\n",
       "      <th>fare</th>\n",
       "      <th>cabin</th>\n",
       "      <th>embarked</th>\n",
       "      <th>boat</th>\n",
       "      <th>body</th>\n",
       "      <th>home.dest</th>\n",
       "    </tr>\n",
       "  </thead>\n",
       "  <tbody>\n",
       "    <tr>\n",
       "      <th>0</th>\n",
       "      <td>1</td>\n",
       "      <td>1</td>\n",
       "      <td>Allen, Miss. Elisabeth Walton</td>\n",
       "      <td>female</td>\n",
       "      <td>29.00</td>\n",
       "      <td>0</td>\n",
       "      <td>0</td>\n",
       "      <td>24160</td>\n",
       "      <td>211.3375</td>\n",
       "      <td>B5</td>\n",
       "      <td>S</td>\n",
       "      <td>2</td>\n",
       "      <td>NaN</td>\n",
       "      <td>St Louis, MO</td>\n",
       "    </tr>\n",
       "    <tr>\n",
       "      <th>1</th>\n",
       "      <td>1</td>\n",
       "      <td>1</td>\n",
       "      <td>Allison, Master. Hudson Trevor</td>\n",
       "      <td>male</td>\n",
       "      <td>0.92</td>\n",
       "      <td>1</td>\n",
       "      <td>2</td>\n",
       "      <td>113781</td>\n",
       "      <td>151.5500</td>\n",
       "      <td>C22 C26</td>\n",
       "      <td>S</td>\n",
       "      <td>11</td>\n",
       "      <td>NaN</td>\n",
       "      <td>Montreal, PQ / Chesterville, ON</td>\n",
       "    </tr>\n",
       "    <tr>\n",
       "      <th>2</th>\n",
       "      <td>1</td>\n",
       "      <td>0</td>\n",
       "      <td>Allison, Miss. Helen Loraine</td>\n",
       "      <td>female</td>\n",
       "      <td>2.00</td>\n",
       "      <td>1</td>\n",
       "      <td>2</td>\n",
       "      <td>113781</td>\n",
       "      <td>151.5500</td>\n",
       "      <td>C22 C26</td>\n",
       "      <td>S</td>\n",
       "      <td>NaN</td>\n",
       "      <td>NaN</td>\n",
       "      <td>Montreal, PQ / Chesterville, ON</td>\n",
       "    </tr>\n",
       "    <tr>\n",
       "      <th>3</th>\n",
       "      <td>1</td>\n",
       "      <td>0</td>\n",
       "      <td>Allison, Mr. Hudson Joshua Creighton</td>\n",
       "      <td>male</td>\n",
       "      <td>30.00</td>\n",
       "      <td>1</td>\n",
       "      <td>2</td>\n",
       "      <td>113781</td>\n",
       "      <td>151.5500</td>\n",
       "      <td>C22 C26</td>\n",
       "      <td>S</td>\n",
       "      <td>NaN</td>\n",
       "      <td>135.0</td>\n",
       "      <td>Montreal, PQ / Chesterville, ON</td>\n",
       "    </tr>\n",
       "    <tr>\n",
       "      <th>4</th>\n",
       "      <td>1</td>\n",
       "      <td>0</td>\n",
       "      <td>Allison, Mrs. Hudson J C (Bessie Waldo Daniels)</td>\n",
       "      <td>female</td>\n",
       "      <td>25.00</td>\n",
       "      <td>1</td>\n",
       "      <td>2</td>\n",
       "      <td>113781</td>\n",
       "      <td>151.5500</td>\n",
       "      <td>C22 C26</td>\n",
       "      <td>S</td>\n",
       "      <td>NaN</td>\n",
       "      <td>NaN</td>\n",
       "      <td>Montreal, PQ / Chesterville, ON</td>\n",
       "    </tr>\n",
       "  </tbody>\n",
       "</table>\n",
       "</div>"
      ]
     },
     "execution_count": 8,
     "metadata": {},
     "output_type": "execute_result"
    }
   ],
   "execution_count": 8
  },
  {
   "metadata": {
    "ExecuteTime": {
     "end_time": "2025-09-27T06:36:53.006289Z",
     "start_time": "2025-09-27T06:36:53.002041Z"
    }
   },
   "cell_type": "code",
   "source": "dft02.sex.info()",
   "id": "6459de21eeb7a858",
   "outputs": [
    {
     "name": "stdout",
     "output_type": "stream",
     "text": [
      "<class 'pandas.core.series.Series'>\n",
      "RangeIndex: 1309 entries, 0 to 1308\n",
      "Series name: sex\n",
      "Non-Null Count  Dtype \n",
      "--------------  ----- \n",
      "1309 non-null   object\n",
      "dtypes: object(1)\n",
      "memory usage: 10.4+ KB\n"
     ]
    }
   ],
   "execution_count": 9
  },
  {
   "metadata": {},
   "cell_type": "markdown",
   "source": "#### a) کانورت دستی",
   "id": "a4c2f97486a2fc2"
  },
  {
   "metadata": {
    "ExecuteTime": {
     "end_time": "2025-09-27T06:36:53.038529Z",
     "start_time": "2025-09-27T06:36:53.030094Z"
    }
   },
   "cell_type": "code",
   "source": [
    "# میخایم نوع دیتا تایپ رو به عدد تغیر بدیم چون اینجا اپجکت هست\n",
    "dft02['sex num'] = dft02.sex.map({'male':0, 'female':1})\n",
    "dft02.head()"
   ],
   "id": "9f08a9946d1c37c0",
   "outputs": [
    {
     "data": {
      "text/plain": [
       "   pclass  survived                                             name     sex  \\\n",
       "0       1         1                    Allen, Miss. Elisabeth Walton  female   \n",
       "1       1         1                   Allison, Master. Hudson Trevor    male   \n",
       "2       1         0                     Allison, Miss. Helen Loraine  female   \n",
       "3       1         0             Allison, Mr. Hudson Joshua Creighton    male   \n",
       "4       1         0  Allison, Mrs. Hudson J C (Bessie Waldo Daniels)  female   \n",
       "\n",
       "     age  sibsp  parch  ticket      fare    cabin embarked boat   body  \\\n",
       "0  29.00      0      0   24160  211.3375       B5        S    2    NaN   \n",
       "1   0.92      1      2  113781  151.5500  C22 C26        S   11    NaN   \n",
       "2   2.00      1      2  113781  151.5500  C22 C26        S  NaN    NaN   \n",
       "3  30.00      1      2  113781  151.5500  C22 C26        S  NaN  135.0   \n",
       "4  25.00      1      2  113781  151.5500  C22 C26        S  NaN    NaN   \n",
       "\n",
       "                         home.dest  sex num  \n",
       "0                     St Louis, MO        1  \n",
       "1  Montreal, PQ / Chesterville, ON        0  \n",
       "2  Montreal, PQ / Chesterville, ON        1  \n",
       "3  Montreal, PQ / Chesterville, ON        0  \n",
       "4  Montreal, PQ / Chesterville, ON        1  "
      ],
      "text/html": [
       "<div>\n",
       "<style scoped>\n",
       "    .dataframe tbody tr th:only-of-type {\n",
       "        vertical-align: middle;\n",
       "    }\n",
       "\n",
       "    .dataframe tbody tr th {\n",
       "        vertical-align: top;\n",
       "    }\n",
       "\n",
       "    .dataframe thead th {\n",
       "        text-align: right;\n",
       "    }\n",
       "</style>\n",
       "<table border=\"1\" class=\"dataframe\">\n",
       "  <thead>\n",
       "    <tr style=\"text-align: right;\">\n",
       "      <th></th>\n",
       "      <th>pclass</th>\n",
       "      <th>survived</th>\n",
       "      <th>name</th>\n",
       "      <th>sex</th>\n",
       "      <th>age</th>\n",
       "      <th>sibsp</th>\n",
       "      <th>parch</th>\n",
       "      <th>ticket</th>\n",
       "      <th>fare</th>\n",
       "      <th>cabin</th>\n",
       "      <th>embarked</th>\n",
       "      <th>boat</th>\n",
       "      <th>body</th>\n",
       "      <th>home.dest</th>\n",
       "      <th>sex num</th>\n",
       "    </tr>\n",
       "  </thead>\n",
       "  <tbody>\n",
       "    <tr>\n",
       "      <th>0</th>\n",
       "      <td>1</td>\n",
       "      <td>1</td>\n",
       "      <td>Allen, Miss. Elisabeth Walton</td>\n",
       "      <td>female</td>\n",
       "      <td>29.00</td>\n",
       "      <td>0</td>\n",
       "      <td>0</td>\n",
       "      <td>24160</td>\n",
       "      <td>211.3375</td>\n",
       "      <td>B5</td>\n",
       "      <td>S</td>\n",
       "      <td>2</td>\n",
       "      <td>NaN</td>\n",
       "      <td>St Louis, MO</td>\n",
       "      <td>1</td>\n",
       "    </tr>\n",
       "    <tr>\n",
       "      <th>1</th>\n",
       "      <td>1</td>\n",
       "      <td>1</td>\n",
       "      <td>Allison, Master. Hudson Trevor</td>\n",
       "      <td>male</td>\n",
       "      <td>0.92</td>\n",
       "      <td>1</td>\n",
       "      <td>2</td>\n",
       "      <td>113781</td>\n",
       "      <td>151.5500</td>\n",
       "      <td>C22 C26</td>\n",
       "      <td>S</td>\n",
       "      <td>11</td>\n",
       "      <td>NaN</td>\n",
       "      <td>Montreal, PQ / Chesterville, ON</td>\n",
       "      <td>0</td>\n",
       "    </tr>\n",
       "    <tr>\n",
       "      <th>2</th>\n",
       "      <td>1</td>\n",
       "      <td>0</td>\n",
       "      <td>Allison, Miss. Helen Loraine</td>\n",
       "      <td>female</td>\n",
       "      <td>2.00</td>\n",
       "      <td>1</td>\n",
       "      <td>2</td>\n",
       "      <td>113781</td>\n",
       "      <td>151.5500</td>\n",
       "      <td>C22 C26</td>\n",
       "      <td>S</td>\n",
       "      <td>NaN</td>\n",
       "      <td>NaN</td>\n",
       "      <td>Montreal, PQ / Chesterville, ON</td>\n",
       "      <td>1</td>\n",
       "    </tr>\n",
       "    <tr>\n",
       "      <th>3</th>\n",
       "      <td>1</td>\n",
       "      <td>0</td>\n",
       "      <td>Allison, Mr. Hudson Joshua Creighton</td>\n",
       "      <td>male</td>\n",
       "      <td>30.00</td>\n",
       "      <td>1</td>\n",
       "      <td>2</td>\n",
       "      <td>113781</td>\n",
       "      <td>151.5500</td>\n",
       "      <td>C22 C26</td>\n",
       "      <td>S</td>\n",
       "      <td>NaN</td>\n",
       "      <td>135.0</td>\n",
       "      <td>Montreal, PQ / Chesterville, ON</td>\n",
       "      <td>0</td>\n",
       "    </tr>\n",
       "    <tr>\n",
       "      <th>4</th>\n",
       "      <td>1</td>\n",
       "      <td>0</td>\n",
       "      <td>Allison, Mrs. Hudson J C (Bessie Waldo Daniels)</td>\n",
       "      <td>female</td>\n",
       "      <td>25.00</td>\n",
       "      <td>1</td>\n",
       "      <td>2</td>\n",
       "      <td>113781</td>\n",
       "      <td>151.5500</td>\n",
       "      <td>C22 C26</td>\n",
       "      <td>S</td>\n",
       "      <td>NaN</td>\n",
       "      <td>NaN</td>\n",
       "      <td>Montreal, PQ / Chesterville, ON</td>\n",
       "      <td>1</td>\n",
       "    </tr>\n",
       "  </tbody>\n",
       "</table>\n",
       "</div>"
      ]
     },
     "execution_count": 10,
     "metadata": {},
     "output_type": "execute_result"
    }
   ],
   "execution_count": 10
  },
  {
   "metadata": {},
   "cell_type": "markdown",
   "source": "#### b)  کانورت خودکار",
   "id": "4d9ab3a7b056b7af"
  },
  {
   "metadata": {
    "ExecuteTime": {
     "end_time": "2025-09-27T06:36:53.059028Z",
     "start_time": "2025-09-27T06:36:53.053483Z"
    }
   },
   "cell_type": "code",
   "source": "dft02.embarked.info(), dft02.embarked.head()",
   "id": "1937dbdcc3c4e24a",
   "outputs": [
    {
     "name": "stdout",
     "output_type": "stream",
     "text": [
      "<class 'pandas.core.series.Series'>\n",
      "RangeIndex: 1309 entries, 0 to 1308\n",
      "Series name: embarked\n",
      "Non-Null Count  Dtype \n",
      "--------------  ----- \n",
      "1307 non-null   object\n",
      "dtypes: object(1)\n",
      "memory usage: 10.4+ KB\n"
     ]
    },
    {
     "data": {
      "text/plain": [
       "(None,\n",
       " 0    S\n",
       " 1    S\n",
       " 2    S\n",
       " 3    S\n",
       " 4    S\n",
       " Name: embarked, dtype: object)"
      ]
     },
     "execution_count": 11,
     "metadata": {},
     "output_type": "execute_result"
    }
   ],
   "execution_count": 11
  },
  {
   "metadata": {
    "ExecuteTime": {
     "end_time": "2025-09-27T06:36:53.080996Z",
     "start_time": "2025-09-27T06:36:53.076757Z"
    }
   },
   "cell_type": "code",
   "source": [
    "# این دستور با استفاده از تابع فکتورایز به صورت خودکار مقدار دهی میکنه برای وقتی که بیش تر از دو پارامتر داریم خوبه\n",
    "dft02['embarked num'] = dft02.embarked.factorize()[0]\n",
    "\n",
    "\n",
    "dft02.embarked.head(20)\n"
   ],
   "id": "419f79b5b595aca1",
   "outputs": [
    {
     "data": {
      "text/plain": [
       "0     S\n",
       "1     S\n",
       "2     S\n",
       "3     S\n",
       "4     S\n",
       "5     S\n",
       "6     S\n",
       "7     S\n",
       "8     S\n",
       "9     C\n",
       "10    C\n",
       "11    C\n",
       "12    C\n",
       "13    S\n",
       "14    S\n",
       "15    S\n",
       "16    C\n",
       "17    C\n",
       "18    C\n",
       "19    C\n",
       "Name: embarked, dtype: object"
      ]
     },
     "execution_count": 12,
     "metadata": {},
     "output_type": "execute_result"
    }
   ],
   "execution_count": 12
  },
  {
   "metadata": {
    "ExecuteTime": {
     "end_time": "2025-09-27T06:36:53.097422Z",
     "start_time": "2025-09-27T06:36:53.093981Z"
    }
   },
   "cell_type": "code",
   "source": "dft02['embarked num'].head(20)",
   "id": "4137ed110bade341",
   "outputs": [
    {
     "data": {
      "text/plain": [
       "0     0\n",
       "1     0\n",
       "2     0\n",
       "3     0\n",
       "4     0\n",
       "5     0\n",
       "6     0\n",
       "7     0\n",
       "8     0\n",
       "9     1\n",
       "10    1\n",
       "11    1\n",
       "12    1\n",
       "13    0\n",
       "14    0\n",
       "15    0\n",
       "16    1\n",
       "17    1\n",
       "18    1\n",
       "19    1\n",
       "Name: embarked num, dtype: int64"
      ]
     },
     "execution_count": 13,
     "metadata": {},
     "output_type": "execute_result"
    }
   ],
   "execution_count": 13
  },
  {
   "metadata": {
    "ExecuteTime": {
     "end_time": "2025-09-27T06:36:53.114562Z",
     "start_time": "2025-09-27T06:36:53.111357Z"
    }
   },
   "cell_type": "code",
   "source": [
    "# فهمیدن ترتیب دیتا\n",
    "dft02.embarked.factorize()[1]"
   ],
   "id": "67ce17cc44f26c16",
   "outputs": [
    {
     "data": {
      "text/plain": [
       "Index(['S', 'C', 'Q'], dtype='object')"
      ]
     },
     "execution_count": 14,
     "metadata": {},
     "output_type": "execute_result"
    }
   ],
   "execution_count": 14
  },
  {
   "metadata": {},
   "cell_type": "markdown",
   "source": "#### c) روش سوم",
   "id": "7d202cfe67e92c6b"
  },
  {
   "metadata": {
    "ExecuteTime": {
     "end_time": "2025-09-27T06:36:53.134167Z",
     "start_time": "2025-09-27T06:36:53.130835Z"
    }
   },
   "cell_type": "code",
   "source": [
    "# حالت باینری برای وقتاییی که میخایم صرفا یه جواب صفر یا یک داشته باشیم\n",
    "# ستون sibsp یا ۰ هست یا ۱ یا ۲ ولی ما میخایم فقط ببینیم وجود داره یا نه (پس ۱ با ۲ بودن فرقی نداره)\n",
    "dft02['sibsp'].head(40)"
   ],
   "id": "2cb5c75dc9a20a3",
   "outputs": [
    {
     "data": {
      "text/plain": [
       "0     0\n",
       "1     1\n",
       "2     1\n",
       "3     1\n",
       "4     1\n",
       "5     0\n",
       "6     1\n",
       "7     0\n",
       "8     2\n",
       "9     0\n",
       "10    1\n",
       "11    1\n",
       "12    0\n",
       "13    0\n",
       "14    0\n",
       "15    0\n",
       "16    0\n",
       "17    0\n",
       "18    0\n",
       "19    0\n",
       "20    1\n",
       "21    1\n",
       "22    0\n",
       "23    0\n",
       "24    0\n",
       "25    0\n",
       "26    1\n",
       "27    1\n",
       "28    0\n",
       "29    0\n",
       "30    0\n",
       "31    0\n",
       "32    0\n",
       "33    0\n",
       "34    0\n",
       "35    0\n",
       "36    0\n",
       "37    0\n",
       "38    0\n",
       "39    0\n",
       "Name: sibsp, dtype: int64"
      ]
     },
     "execution_count": 15,
     "metadata": {},
     "output_type": "execute_result"
    }
   ],
   "execution_count": 15
  },
  {
   "metadata": {
    "ExecuteTime": {
     "end_time": "2025-09-27T06:36:53.156401Z",
     "start_time": "2025-09-27T06:36:53.152788Z"
    }
   },
   "cell_type": "code",
   "source": [
    "dft02['sibsp_binary'] = (dft02['sibsp'] > 0).astype(int)\n",
    "dft02['sibsp_binary'].head(20)"
   ],
   "id": "1ed02844a537b99e",
   "outputs": [
    {
     "data": {
      "text/plain": [
       "0     0\n",
       "1     1\n",
       "2     1\n",
       "3     1\n",
       "4     1\n",
       "5     0\n",
       "6     1\n",
       "7     0\n",
       "8     1\n",
       "9     0\n",
       "10    1\n",
       "11    1\n",
       "12    0\n",
       "13    0\n",
       "14    0\n",
       "15    0\n",
       "16    0\n",
       "17    0\n",
       "18    0\n",
       "19    0\n",
       "Name: sibsp_binary, dtype: int64"
      ]
     },
     "execution_count": 16,
     "metadata": {},
     "output_type": "execute_result"
    }
   ],
   "execution_count": 16
  },
  {
   "metadata": {},
   "cell_type": "markdown",
   "source": "### **Trick 03 - نحوه تبدیل داده های پیوسته (Convert) در Pandas**",
   "id": "18f1492adb19eac"
  },
  {
   "metadata": {
    "ExecuteTime": {
     "end_time": "2025-09-27T06:36:53.180931Z",
     "start_time": "2025-09-27T06:36:53.169734Z"
    }
   },
   "cell_type": "code",
   "source": [
    "dft03 = pd.read_csv(\"../../00 DATA/titanic.csv\")\n",
    "dft03.head()"
   ],
   "id": "68fd15e9698a3d51",
   "outputs": [
    {
     "data": {
      "text/plain": [
       "   pclass  survived                                             name     sex  \\\n",
       "0       1         1                    Allen, Miss. Elisabeth Walton  female   \n",
       "1       1         1                   Allison, Master. Hudson Trevor    male   \n",
       "2       1         0                     Allison, Miss. Helen Loraine  female   \n",
       "3       1         0             Allison, Mr. Hudson Joshua Creighton    male   \n",
       "4       1         0  Allison, Mrs. Hudson J C (Bessie Waldo Daniels)  female   \n",
       "\n",
       "     age  sibsp  parch  ticket      fare    cabin embarked boat   body  \\\n",
       "0  29.00      0      0   24160  211.3375       B5        S    2    NaN   \n",
       "1   0.92      1      2  113781  151.5500  C22 C26        S   11    NaN   \n",
       "2   2.00      1      2  113781  151.5500  C22 C26        S  NaN    NaN   \n",
       "3  30.00      1      2  113781  151.5500  C22 C26        S  NaN  135.0   \n",
       "4  25.00      1      2  113781  151.5500  C22 C26        S  NaN    NaN   \n",
       "\n",
       "                         home.dest  \n",
       "0                     St Louis, MO  \n",
       "1  Montreal, PQ / Chesterville, ON  \n",
       "2  Montreal, PQ / Chesterville, ON  \n",
       "3  Montreal, PQ / Chesterville, ON  \n",
       "4  Montreal, PQ / Chesterville, ON  "
      ],
      "text/html": [
       "<div>\n",
       "<style scoped>\n",
       "    .dataframe tbody tr th:only-of-type {\n",
       "        vertical-align: middle;\n",
       "    }\n",
       "\n",
       "    .dataframe tbody tr th {\n",
       "        vertical-align: top;\n",
       "    }\n",
       "\n",
       "    .dataframe thead th {\n",
       "        text-align: right;\n",
       "    }\n",
       "</style>\n",
       "<table border=\"1\" class=\"dataframe\">\n",
       "  <thead>\n",
       "    <tr style=\"text-align: right;\">\n",
       "      <th></th>\n",
       "      <th>pclass</th>\n",
       "      <th>survived</th>\n",
       "      <th>name</th>\n",
       "      <th>sex</th>\n",
       "      <th>age</th>\n",
       "      <th>sibsp</th>\n",
       "      <th>parch</th>\n",
       "      <th>ticket</th>\n",
       "      <th>fare</th>\n",
       "      <th>cabin</th>\n",
       "      <th>embarked</th>\n",
       "      <th>boat</th>\n",
       "      <th>body</th>\n",
       "      <th>home.dest</th>\n",
       "    </tr>\n",
       "  </thead>\n",
       "  <tbody>\n",
       "    <tr>\n",
       "      <th>0</th>\n",
       "      <td>1</td>\n",
       "      <td>1</td>\n",
       "      <td>Allen, Miss. Elisabeth Walton</td>\n",
       "      <td>female</td>\n",
       "      <td>29.00</td>\n",
       "      <td>0</td>\n",
       "      <td>0</td>\n",
       "      <td>24160</td>\n",
       "      <td>211.3375</td>\n",
       "      <td>B5</td>\n",
       "      <td>S</td>\n",
       "      <td>2</td>\n",
       "      <td>NaN</td>\n",
       "      <td>St Louis, MO</td>\n",
       "    </tr>\n",
       "    <tr>\n",
       "      <th>1</th>\n",
       "      <td>1</td>\n",
       "      <td>1</td>\n",
       "      <td>Allison, Master. Hudson Trevor</td>\n",
       "      <td>male</td>\n",
       "      <td>0.92</td>\n",
       "      <td>1</td>\n",
       "      <td>2</td>\n",
       "      <td>113781</td>\n",
       "      <td>151.5500</td>\n",
       "      <td>C22 C26</td>\n",
       "      <td>S</td>\n",
       "      <td>11</td>\n",
       "      <td>NaN</td>\n",
       "      <td>Montreal, PQ / Chesterville, ON</td>\n",
       "    </tr>\n",
       "    <tr>\n",
       "      <th>2</th>\n",
       "      <td>1</td>\n",
       "      <td>0</td>\n",
       "      <td>Allison, Miss. Helen Loraine</td>\n",
       "      <td>female</td>\n",
       "      <td>2.00</td>\n",
       "      <td>1</td>\n",
       "      <td>2</td>\n",
       "      <td>113781</td>\n",
       "      <td>151.5500</td>\n",
       "      <td>C22 C26</td>\n",
       "      <td>S</td>\n",
       "      <td>NaN</td>\n",
       "      <td>NaN</td>\n",
       "      <td>Montreal, PQ / Chesterville, ON</td>\n",
       "    </tr>\n",
       "    <tr>\n",
       "      <th>3</th>\n",
       "      <td>1</td>\n",
       "      <td>0</td>\n",
       "      <td>Allison, Mr. Hudson Joshua Creighton</td>\n",
       "      <td>male</td>\n",
       "      <td>30.00</td>\n",
       "      <td>1</td>\n",
       "      <td>2</td>\n",
       "      <td>113781</td>\n",
       "      <td>151.5500</td>\n",
       "      <td>C22 C26</td>\n",
       "      <td>S</td>\n",
       "      <td>NaN</td>\n",
       "      <td>135.0</td>\n",
       "      <td>Montreal, PQ / Chesterville, ON</td>\n",
       "    </tr>\n",
       "    <tr>\n",
       "      <th>4</th>\n",
       "      <td>1</td>\n",
       "      <td>0</td>\n",
       "      <td>Allison, Mrs. Hudson J C (Bessie Waldo Daniels)</td>\n",
       "      <td>female</td>\n",
       "      <td>25.00</td>\n",
       "      <td>1</td>\n",
       "      <td>2</td>\n",
       "      <td>113781</td>\n",
       "      <td>151.5500</td>\n",
       "      <td>C22 C26</td>\n",
       "      <td>S</td>\n",
       "      <td>NaN</td>\n",
       "      <td>NaN</td>\n",
       "      <td>Montreal, PQ / Chesterville, ON</td>\n",
       "    </tr>\n",
       "  </tbody>\n",
       "</table>\n",
       "</div>"
      ]
     },
     "execution_count": 17,
     "metadata": {},
     "output_type": "execute_result"
    }
   ],
   "execution_count": 17
  },
  {
   "metadata": {},
   "cell_type": "markdown",
   "source": "#### a)  روش دستی",
   "id": "fc71da2bd165abe4"
  },
  {
   "metadata": {
    "ExecuteTime": {
     "end_time": "2025-09-27T06:36:53.261449Z",
     "start_time": "2025-09-27T06:36:53.194795Z"
    }
   },
   "cell_type": "code",
   "source": [
    "# برای وقتی که درک از دیتا داریم\n",
    "pd.cut(dft03.age , bins = [0,18,25,99], labels = [\"child\",\"young\",\"old\"]).head(20)"
   ],
   "id": "ac8f7580a242b59",
   "outputs": [
    {
     "data": {
      "text/plain": [
       "0       old\n",
       "1     child\n",
       "2     child\n",
       "3       old\n",
       "4     young\n",
       "5       old\n",
       "6       old\n",
       "7       old\n",
       "8       old\n",
       "9       old\n",
       "10      old\n",
       "11    child\n",
       "12    young\n",
       "13      old\n",
       "14      old\n",
       "15      NaN\n",
       "16    young\n",
       "17      old\n",
       "18      old\n",
       "19      old\n",
       "Name: age, dtype: category\n",
       "Categories (3, object): ['child' < 'young' < 'old']"
      ]
     },
     "execution_count": 18,
     "metadata": {},
     "output_type": "execute_result"
    }
   ],
   "execution_count": 18
  },
  {
   "metadata": {},
   "cell_type": "markdown",
   "source": "#### b) برای وقتی که درکی از دیتا نداریم",
   "id": "5eae2b4ddd5f9c46"
  },
  {
   "metadata": {
    "ExecuteTime": {
     "end_time": "2025-09-27T06:36:53.320654Z",
     "start_time": "2025-09-27T06:36:53.268708Z"
    }
   },
   "cell_type": "code",
   "source": [
    "# p برای اینکه بگیم به چند بخش تقسیم کن\n",
    "# تابع value_counts() این مقدار رو بهم ما نشون میده\n",
    "pd.qcut(dft03['age'], q = 3).value_counts()\n",
    "dft03.head(20)"
   ],
   "id": "9f53ef1b9df78d7e",
   "outputs": [
    {
     "data": {
      "text/plain": [
       "    pclass  survived                                               name  \\\n",
       "0        1         1                      Allen, Miss. Elisabeth Walton   \n",
       "1        1         1                     Allison, Master. Hudson Trevor   \n",
       "2        1         0                       Allison, Miss. Helen Loraine   \n",
       "3        1         0               Allison, Mr. Hudson Joshua Creighton   \n",
       "4        1         0    Allison, Mrs. Hudson J C (Bessie Waldo Daniels)   \n",
       "5        1         1                                Anderson, Mr. Harry   \n",
       "6        1         1                  Andrews, Miss. Kornelia Theodosia   \n",
       "7        1         0                             Andrews, Mr. Thomas Jr   \n",
       "8        1         1      Appleton, Mrs. Edward Dale (Charlotte Lamson)   \n",
       "9        1         0                            Artagaveytia, Mr. Ramon   \n",
       "10       1         0                             Astor, Col. John Jacob   \n",
       "11       1         1  Astor, Mrs. John Jacob (Madeleine Talmadge Force)   \n",
       "12       1         1                      Aubart, Mme. Leontine Pauline   \n",
       "13       1         1                       Barber, Miss. Ellen \"Nellie\"   \n",
       "14       1         1               Barkworth, Mr. Algernon Henry Wilson   \n",
       "15       1         0                                Baumann, Mr. John D   \n",
       "16       1         0                           Baxter, Mr. Quigg Edmond   \n",
       "17       1         1    Baxter, Mrs. James (Helene DeLaudeniere Chaput)   \n",
       "18       1         1                              Bazzani, Miss. Albina   \n",
       "19       1         0                               Beattie, Mr. Thomson   \n",
       "\n",
       "       sex    age  sibsp  parch    ticket      fare    cabin embarked boat  \\\n",
       "0   female  29.00      0      0     24160  211.3375       B5        S    2   \n",
       "1     male   0.92      1      2    113781  151.5500  C22 C26        S   11   \n",
       "2   female   2.00      1      2    113781  151.5500  C22 C26        S  NaN   \n",
       "3     male  30.00      1      2    113781  151.5500  C22 C26        S  NaN   \n",
       "4   female  25.00      1      2    113781  151.5500  C22 C26        S  NaN   \n",
       "5     male  48.00      0      0     19952   26.5500      E12        S    3   \n",
       "6   female  63.00      1      0     13502   77.9583       D7        S   10   \n",
       "7     male  39.00      0      0    112050    0.0000      A36        S  NaN   \n",
       "8   female  53.00      2      0     11769   51.4792     C101        S    D   \n",
       "9     male  71.00      0      0  PC 17609   49.5042      NaN        C  NaN   \n",
       "10    male  47.00      1      0  PC 17757  227.5250  C62 C64        C  NaN   \n",
       "11  female  18.00      1      0  PC 17757  227.5250  C62 C64        C    4   \n",
       "12  female  24.00      0      0  PC 17477   69.3000      B35        C    9   \n",
       "13  female  26.00      0      0     19877   78.8500      NaN        S    6   \n",
       "14    male  80.00      0      0     27042   30.0000      A23        S    B   \n",
       "15    male    NaN      0      0  PC 17318   25.9250      NaN        S  NaN   \n",
       "16    male  24.00      0      1  PC 17558  247.5208  B58 B60        C  NaN   \n",
       "17  female  50.00      0      1  PC 17558  247.5208  B58 B60        C    6   \n",
       "18  female  32.00      0      0     11813   76.2917      D15        C    8   \n",
       "19    male  36.00      0      0     13050   75.2417       C6        C    A   \n",
       "\n",
       "     body                        home.dest  \n",
       "0     NaN                     St Louis, MO  \n",
       "1     NaN  Montreal, PQ / Chesterville, ON  \n",
       "2     NaN  Montreal, PQ / Chesterville, ON  \n",
       "3   135.0  Montreal, PQ / Chesterville, ON  \n",
       "4     NaN  Montreal, PQ / Chesterville, ON  \n",
       "5     NaN                     New York, NY  \n",
       "6     NaN                       Hudson, NY  \n",
       "7     NaN                      Belfast, NI  \n",
       "8     NaN              Bayside, Queens, NY  \n",
       "9    22.0              Montevideo, Uruguay  \n",
       "10  124.0                     New York, NY  \n",
       "11    NaN                     New York, NY  \n",
       "12    NaN                    Paris, France  \n",
       "13    NaN                              NaN  \n",
       "14    NaN                    Hessle, Yorks  \n",
       "15    NaN                     New York, NY  \n",
       "16    NaN                     Montreal, PQ  \n",
       "17    NaN                     Montreal, PQ  \n",
       "18    NaN                              NaN  \n",
       "19    NaN                     Winnipeg, MN  "
      ],
      "text/html": [
       "<div>\n",
       "<style scoped>\n",
       "    .dataframe tbody tr th:only-of-type {\n",
       "        vertical-align: middle;\n",
       "    }\n",
       "\n",
       "    .dataframe tbody tr th {\n",
       "        vertical-align: top;\n",
       "    }\n",
       "\n",
       "    .dataframe thead th {\n",
       "        text-align: right;\n",
       "    }\n",
       "</style>\n",
       "<table border=\"1\" class=\"dataframe\">\n",
       "  <thead>\n",
       "    <tr style=\"text-align: right;\">\n",
       "      <th></th>\n",
       "      <th>pclass</th>\n",
       "      <th>survived</th>\n",
       "      <th>name</th>\n",
       "      <th>sex</th>\n",
       "      <th>age</th>\n",
       "      <th>sibsp</th>\n",
       "      <th>parch</th>\n",
       "      <th>ticket</th>\n",
       "      <th>fare</th>\n",
       "      <th>cabin</th>\n",
       "      <th>embarked</th>\n",
       "      <th>boat</th>\n",
       "      <th>body</th>\n",
       "      <th>home.dest</th>\n",
       "    </tr>\n",
       "  </thead>\n",
       "  <tbody>\n",
       "    <tr>\n",
       "      <th>0</th>\n",
       "      <td>1</td>\n",
       "      <td>1</td>\n",
       "      <td>Allen, Miss. Elisabeth Walton</td>\n",
       "      <td>female</td>\n",
       "      <td>29.00</td>\n",
       "      <td>0</td>\n",
       "      <td>0</td>\n",
       "      <td>24160</td>\n",
       "      <td>211.3375</td>\n",
       "      <td>B5</td>\n",
       "      <td>S</td>\n",
       "      <td>2</td>\n",
       "      <td>NaN</td>\n",
       "      <td>St Louis, MO</td>\n",
       "    </tr>\n",
       "    <tr>\n",
       "      <th>1</th>\n",
       "      <td>1</td>\n",
       "      <td>1</td>\n",
       "      <td>Allison, Master. Hudson Trevor</td>\n",
       "      <td>male</td>\n",
       "      <td>0.92</td>\n",
       "      <td>1</td>\n",
       "      <td>2</td>\n",
       "      <td>113781</td>\n",
       "      <td>151.5500</td>\n",
       "      <td>C22 C26</td>\n",
       "      <td>S</td>\n",
       "      <td>11</td>\n",
       "      <td>NaN</td>\n",
       "      <td>Montreal, PQ / Chesterville, ON</td>\n",
       "    </tr>\n",
       "    <tr>\n",
       "      <th>2</th>\n",
       "      <td>1</td>\n",
       "      <td>0</td>\n",
       "      <td>Allison, Miss. Helen Loraine</td>\n",
       "      <td>female</td>\n",
       "      <td>2.00</td>\n",
       "      <td>1</td>\n",
       "      <td>2</td>\n",
       "      <td>113781</td>\n",
       "      <td>151.5500</td>\n",
       "      <td>C22 C26</td>\n",
       "      <td>S</td>\n",
       "      <td>NaN</td>\n",
       "      <td>NaN</td>\n",
       "      <td>Montreal, PQ / Chesterville, ON</td>\n",
       "    </tr>\n",
       "    <tr>\n",
       "      <th>3</th>\n",
       "      <td>1</td>\n",
       "      <td>0</td>\n",
       "      <td>Allison, Mr. Hudson Joshua Creighton</td>\n",
       "      <td>male</td>\n",
       "      <td>30.00</td>\n",
       "      <td>1</td>\n",
       "      <td>2</td>\n",
       "      <td>113781</td>\n",
       "      <td>151.5500</td>\n",
       "      <td>C22 C26</td>\n",
       "      <td>S</td>\n",
       "      <td>NaN</td>\n",
       "      <td>135.0</td>\n",
       "      <td>Montreal, PQ / Chesterville, ON</td>\n",
       "    </tr>\n",
       "    <tr>\n",
       "      <th>4</th>\n",
       "      <td>1</td>\n",
       "      <td>0</td>\n",
       "      <td>Allison, Mrs. Hudson J C (Bessie Waldo Daniels)</td>\n",
       "      <td>female</td>\n",
       "      <td>25.00</td>\n",
       "      <td>1</td>\n",
       "      <td>2</td>\n",
       "      <td>113781</td>\n",
       "      <td>151.5500</td>\n",
       "      <td>C22 C26</td>\n",
       "      <td>S</td>\n",
       "      <td>NaN</td>\n",
       "      <td>NaN</td>\n",
       "      <td>Montreal, PQ / Chesterville, ON</td>\n",
       "    </tr>\n",
       "    <tr>\n",
       "      <th>5</th>\n",
       "      <td>1</td>\n",
       "      <td>1</td>\n",
       "      <td>Anderson, Mr. Harry</td>\n",
       "      <td>male</td>\n",
       "      <td>48.00</td>\n",
       "      <td>0</td>\n",
       "      <td>0</td>\n",
       "      <td>19952</td>\n",
       "      <td>26.5500</td>\n",
       "      <td>E12</td>\n",
       "      <td>S</td>\n",
       "      <td>3</td>\n",
       "      <td>NaN</td>\n",
       "      <td>New York, NY</td>\n",
       "    </tr>\n",
       "    <tr>\n",
       "      <th>6</th>\n",
       "      <td>1</td>\n",
       "      <td>1</td>\n",
       "      <td>Andrews, Miss. Kornelia Theodosia</td>\n",
       "      <td>female</td>\n",
       "      <td>63.00</td>\n",
       "      <td>1</td>\n",
       "      <td>0</td>\n",
       "      <td>13502</td>\n",
       "      <td>77.9583</td>\n",
       "      <td>D7</td>\n",
       "      <td>S</td>\n",
       "      <td>10</td>\n",
       "      <td>NaN</td>\n",
       "      <td>Hudson, NY</td>\n",
       "    </tr>\n",
       "    <tr>\n",
       "      <th>7</th>\n",
       "      <td>1</td>\n",
       "      <td>0</td>\n",
       "      <td>Andrews, Mr. Thomas Jr</td>\n",
       "      <td>male</td>\n",
       "      <td>39.00</td>\n",
       "      <td>0</td>\n",
       "      <td>0</td>\n",
       "      <td>112050</td>\n",
       "      <td>0.0000</td>\n",
       "      <td>A36</td>\n",
       "      <td>S</td>\n",
       "      <td>NaN</td>\n",
       "      <td>NaN</td>\n",
       "      <td>Belfast, NI</td>\n",
       "    </tr>\n",
       "    <tr>\n",
       "      <th>8</th>\n",
       "      <td>1</td>\n",
       "      <td>1</td>\n",
       "      <td>Appleton, Mrs. Edward Dale (Charlotte Lamson)</td>\n",
       "      <td>female</td>\n",
       "      <td>53.00</td>\n",
       "      <td>2</td>\n",
       "      <td>0</td>\n",
       "      <td>11769</td>\n",
       "      <td>51.4792</td>\n",
       "      <td>C101</td>\n",
       "      <td>S</td>\n",
       "      <td>D</td>\n",
       "      <td>NaN</td>\n",
       "      <td>Bayside, Queens, NY</td>\n",
       "    </tr>\n",
       "    <tr>\n",
       "      <th>9</th>\n",
       "      <td>1</td>\n",
       "      <td>0</td>\n",
       "      <td>Artagaveytia, Mr. Ramon</td>\n",
       "      <td>male</td>\n",
       "      <td>71.00</td>\n",
       "      <td>0</td>\n",
       "      <td>0</td>\n",
       "      <td>PC 17609</td>\n",
       "      <td>49.5042</td>\n",
       "      <td>NaN</td>\n",
       "      <td>C</td>\n",
       "      <td>NaN</td>\n",
       "      <td>22.0</td>\n",
       "      <td>Montevideo, Uruguay</td>\n",
       "    </tr>\n",
       "    <tr>\n",
       "      <th>10</th>\n",
       "      <td>1</td>\n",
       "      <td>0</td>\n",
       "      <td>Astor, Col. John Jacob</td>\n",
       "      <td>male</td>\n",
       "      <td>47.00</td>\n",
       "      <td>1</td>\n",
       "      <td>0</td>\n",
       "      <td>PC 17757</td>\n",
       "      <td>227.5250</td>\n",
       "      <td>C62 C64</td>\n",
       "      <td>C</td>\n",
       "      <td>NaN</td>\n",
       "      <td>124.0</td>\n",
       "      <td>New York, NY</td>\n",
       "    </tr>\n",
       "    <tr>\n",
       "      <th>11</th>\n",
       "      <td>1</td>\n",
       "      <td>1</td>\n",
       "      <td>Astor, Mrs. John Jacob (Madeleine Talmadge Force)</td>\n",
       "      <td>female</td>\n",
       "      <td>18.00</td>\n",
       "      <td>1</td>\n",
       "      <td>0</td>\n",
       "      <td>PC 17757</td>\n",
       "      <td>227.5250</td>\n",
       "      <td>C62 C64</td>\n",
       "      <td>C</td>\n",
       "      <td>4</td>\n",
       "      <td>NaN</td>\n",
       "      <td>New York, NY</td>\n",
       "    </tr>\n",
       "    <tr>\n",
       "      <th>12</th>\n",
       "      <td>1</td>\n",
       "      <td>1</td>\n",
       "      <td>Aubart, Mme. Leontine Pauline</td>\n",
       "      <td>female</td>\n",
       "      <td>24.00</td>\n",
       "      <td>0</td>\n",
       "      <td>0</td>\n",
       "      <td>PC 17477</td>\n",
       "      <td>69.3000</td>\n",
       "      <td>B35</td>\n",
       "      <td>C</td>\n",
       "      <td>9</td>\n",
       "      <td>NaN</td>\n",
       "      <td>Paris, France</td>\n",
       "    </tr>\n",
       "    <tr>\n",
       "      <th>13</th>\n",
       "      <td>1</td>\n",
       "      <td>1</td>\n",
       "      <td>Barber, Miss. Ellen \"Nellie\"</td>\n",
       "      <td>female</td>\n",
       "      <td>26.00</td>\n",
       "      <td>0</td>\n",
       "      <td>0</td>\n",
       "      <td>19877</td>\n",
       "      <td>78.8500</td>\n",
       "      <td>NaN</td>\n",
       "      <td>S</td>\n",
       "      <td>6</td>\n",
       "      <td>NaN</td>\n",
       "      <td>NaN</td>\n",
       "    </tr>\n",
       "    <tr>\n",
       "      <th>14</th>\n",
       "      <td>1</td>\n",
       "      <td>1</td>\n",
       "      <td>Barkworth, Mr. Algernon Henry Wilson</td>\n",
       "      <td>male</td>\n",
       "      <td>80.00</td>\n",
       "      <td>0</td>\n",
       "      <td>0</td>\n",
       "      <td>27042</td>\n",
       "      <td>30.0000</td>\n",
       "      <td>A23</td>\n",
       "      <td>S</td>\n",
       "      <td>B</td>\n",
       "      <td>NaN</td>\n",
       "      <td>Hessle, Yorks</td>\n",
       "    </tr>\n",
       "    <tr>\n",
       "      <th>15</th>\n",
       "      <td>1</td>\n",
       "      <td>0</td>\n",
       "      <td>Baumann, Mr. John D</td>\n",
       "      <td>male</td>\n",
       "      <td>NaN</td>\n",
       "      <td>0</td>\n",
       "      <td>0</td>\n",
       "      <td>PC 17318</td>\n",
       "      <td>25.9250</td>\n",
       "      <td>NaN</td>\n",
       "      <td>S</td>\n",
       "      <td>NaN</td>\n",
       "      <td>NaN</td>\n",
       "      <td>New York, NY</td>\n",
       "    </tr>\n",
       "    <tr>\n",
       "      <th>16</th>\n",
       "      <td>1</td>\n",
       "      <td>0</td>\n",
       "      <td>Baxter, Mr. Quigg Edmond</td>\n",
       "      <td>male</td>\n",
       "      <td>24.00</td>\n",
       "      <td>0</td>\n",
       "      <td>1</td>\n",
       "      <td>PC 17558</td>\n",
       "      <td>247.5208</td>\n",
       "      <td>B58 B60</td>\n",
       "      <td>C</td>\n",
       "      <td>NaN</td>\n",
       "      <td>NaN</td>\n",
       "      <td>Montreal, PQ</td>\n",
       "    </tr>\n",
       "    <tr>\n",
       "      <th>17</th>\n",
       "      <td>1</td>\n",
       "      <td>1</td>\n",
       "      <td>Baxter, Mrs. James (Helene DeLaudeniere Chaput)</td>\n",
       "      <td>female</td>\n",
       "      <td>50.00</td>\n",
       "      <td>0</td>\n",
       "      <td>1</td>\n",
       "      <td>PC 17558</td>\n",
       "      <td>247.5208</td>\n",
       "      <td>B58 B60</td>\n",
       "      <td>C</td>\n",
       "      <td>6</td>\n",
       "      <td>NaN</td>\n",
       "      <td>Montreal, PQ</td>\n",
       "    </tr>\n",
       "    <tr>\n",
       "      <th>18</th>\n",
       "      <td>1</td>\n",
       "      <td>1</td>\n",
       "      <td>Bazzani, Miss. Albina</td>\n",
       "      <td>female</td>\n",
       "      <td>32.00</td>\n",
       "      <td>0</td>\n",
       "      <td>0</td>\n",
       "      <td>11813</td>\n",
       "      <td>76.2917</td>\n",
       "      <td>D15</td>\n",
       "      <td>C</td>\n",
       "      <td>8</td>\n",
       "      <td>NaN</td>\n",
       "      <td>NaN</td>\n",
       "    </tr>\n",
       "    <tr>\n",
       "      <th>19</th>\n",
       "      <td>1</td>\n",
       "      <td>0</td>\n",
       "      <td>Beattie, Mr. Thomson</td>\n",
       "      <td>male</td>\n",
       "      <td>36.00</td>\n",
       "      <td>0</td>\n",
       "      <td>0</td>\n",
       "      <td>13050</td>\n",
       "      <td>75.2417</td>\n",
       "      <td>C6</td>\n",
       "      <td>C</td>\n",
       "      <td>A</td>\n",
       "      <td>NaN</td>\n",
       "      <td>Winnipeg, MN</td>\n",
       "    </tr>\n",
       "  </tbody>\n",
       "</table>\n",
       "</div>"
      ]
     },
     "execution_count": 19,
     "metadata": {},
     "output_type": "execute_result"
    }
   ],
   "execution_count": 19
  },
  {
   "metadata": {},
   "cell_type": "markdown",
   "source": "### **Trick 04 - نحوه تغییر نمایش (Display Option) در Pandas**",
   "id": "7dfb007edbfa6a5a"
  },
  {
   "metadata": {
    "ExecuteTime": {
     "end_time": "2025-09-27T06:36:53.349615Z",
     "start_time": "2025-09-27T06:36:53.341321Z"
    }
   },
   "cell_type": "code",
   "source": [
    "dft04 = pd.read_csv(\"../../00 DATA/titanic.csv\")\n",
    "dft04.fare\n"
   ],
   "id": "3f0a8cae12218498",
   "outputs": [
    {
     "data": {
      "text/plain": [
       "0       211.3375\n",
       "1       151.5500\n",
       "2       151.5500\n",
       "3       151.5500\n",
       "4       151.5500\n",
       "          ...   \n",
       "1304     14.4542\n",
       "1305     14.4542\n",
       "1306      7.2250\n",
       "1307      7.2250\n",
       "1308      7.8750\n",
       "Name: fare, Length: 1309, dtype: float64"
      ]
     },
     "execution_count": 20,
     "metadata": {},
     "output_type": "execute_result"
    }
   ],
   "execution_count": 20
  },
  {
   "metadata": {},
   "cell_type": "markdown",
   "source": "#### a) تنظیم رقم اعشار",
   "id": "398521f6d74bdd7d"
  },
  {
   "metadata": {
    "ExecuteTime": {
     "end_time": "2025-09-27T06:36:53.366927Z",
     "start_time": "2025-09-27T06:36:53.364509Z"
    }
   },
   "cell_type": "code",
   "source": "pd.set_option('display.float_format', lambda x: '%.10f' % x)",
   "id": "61d3ca177c669cd4",
   "outputs": [],
   "execution_count": 21
  },
  {
   "metadata": {
    "ExecuteTime": {
     "end_time": "2025-09-27T06:36:53.385403Z",
     "start_time": "2025-09-27T06:36:53.381320Z"
    }
   },
   "cell_type": "code",
   "source": [
    "pd.set_option('display.float_format', lambda x: '%.1f' % x)\n",
    "dft04.fare\n",
    "# دقت کنید این کار روی کل پانداس اعمال میشه نه دیتا فریم\n"
   ],
   "id": "bf8801cb16135284",
   "outputs": [
    {
     "data": {
      "text/plain": [
       "0      211.3\n",
       "1      151.6\n",
       "2      151.6\n",
       "3      151.6\n",
       "4      151.6\n",
       "        ... \n",
       "1304    14.5\n",
       "1305    14.5\n",
       "1306     7.2\n",
       "1307     7.2\n",
       "1308     7.9\n",
       "Name: fare, Length: 1309, dtype: float64"
      ]
     },
     "execution_count": 22,
     "metadata": {},
     "output_type": "execute_result"
    }
   ],
   "execution_count": 22
  },
  {
   "metadata": {},
   "cell_type": "markdown",
   "source": "#### b) برای ریست کردن",
   "id": "fe8e33c46d64b193"
  },
  {
   "metadata": {
    "ExecuteTime": {
     "end_time": "2025-09-27T06:36:53.409282Z",
     "start_time": "2025-09-27T06:36:53.405748Z"
    }
   },
   "cell_type": "code",
   "source": [
    "pd.reset_option('display.float_format')\n",
    "dft04.fare"
   ],
   "id": "dfc900d71c581e2c",
   "outputs": [
    {
     "data": {
      "text/plain": [
       "0       211.3375\n",
       "1       151.5500\n",
       "2       151.5500\n",
       "3       151.5500\n",
       "4       151.5500\n",
       "          ...   \n",
       "1304     14.4542\n",
       "1305     14.4542\n",
       "1306      7.2250\n",
       "1307      7.2250\n",
       "1308      7.8750\n",
       "Name: fare, Length: 1309, dtype: float64"
      ]
     },
     "execution_count": 23,
     "metadata": {},
     "output_type": "execute_result"
    }
   ],
   "execution_count": 23
  },
  {
   "metadata": {
    "ExecuteTime": {
     "end_time": "2025-09-27T06:36:53.430179Z",
     "start_time": "2025-09-27T06:36:53.426050Z"
    }
   },
   "cell_type": "code",
   "source": [
    "pd.set_option('display.float_format', lambda x: '%.1f' % x)\n",
    "print(dft04.fare)\n",
    "pd.reset_option('display.float_format')\n",
    "print(dft04.fare)"
   ],
   "id": "79db66a453b77068",
   "outputs": [
    {
     "name": "stdout",
     "output_type": "stream",
     "text": [
      "0      211.3\n",
      "1      151.6\n",
      "2      151.6\n",
      "3      151.6\n",
      "4      151.6\n",
      "        ... \n",
      "1304    14.5\n",
      "1305    14.5\n",
      "1306     7.2\n",
      "1307     7.2\n",
      "1308     7.9\n",
      "Name: fare, Length: 1309, dtype: float64\n",
      "0       211.3375\n",
      "1       151.5500\n",
      "2       151.5500\n",
      "3       151.5500\n",
      "4       151.5500\n",
      "          ...   \n",
      "1304     14.4542\n",
      "1305     14.4542\n",
      "1306      7.2250\n",
      "1307      7.2250\n",
      "1308      7.8750\n",
      "Name: fare, Length: 1309, dtype: float64\n"
     ]
    }
   ],
   "execution_count": 24
  },
  {
   "metadata": {
    "ExecuteTime": {
     "end_time": "2025-09-27T06:36:53.447571Z",
     "start_time": "2025-09-27T06:36:53.446152Z"
    }
   },
   "cell_type": "code",
   "source": "",
   "id": "2b8a01c5fa4b85b5",
   "outputs": [],
   "execution_count": null
  },
  {
   "metadata": {},
   "cell_type": "markdown",
   "source": "### **Trick 05 - نحوه تغییر استایل (Styling) در Pandas**",
   "id": "117a04a5bd099d50"
  },
  {
   "metadata": {
    "ExecuteTime": {
     "end_time": "2025-09-27T06:36:53.466091Z",
     "start_time": "2025-09-27T06:36:53.463405Z"
    }
   },
   "cell_type": "code",
   "source": [
    "import warnings\n",
    "warnings.filterwarnings('ignore')\n",
    "# این کار باعث میشه فایل نهایی شامل وارنینگ ها نباشه که از نظر بصری خروجی بهتری داشته باشیم\n"
   ],
   "id": "2e4f7ecc12c65019",
   "outputs": [],
   "execution_count": 25
  },
  {
   "metadata": {
    "ExecuteTime": {
     "end_time": "2025-09-27T06:36:53.476115Z",
     "start_time": "2025-09-27T06:36:53.470235Z"
    }
   },
   "cell_type": "code",
   "source": [
    "dft05 = pd.read_csv(\"../../00 DATA/stocks.csv\")\n",
    "dft05.head()\n",
    "#(dft05.style.background_gradient(cmap='RdYlGn'))"
   ],
   "id": "c0d49f1d2b17b2a",
   "outputs": [
    {
     "data": {
      "text/plain": [
       "         Date   Close    Volume Symbol\n",
       "0  2016-10-03   31.50  14070500   CSCO\n",
       "1  2016-10-03  112.52  21701800   AAPL\n",
       "2  2016-10-03   57.42  19189500   MSFT\n",
       "3  2016-10-04  113.00  29736800   AAPL\n",
       "4  2016-10-04   57.24  20085900   MSFT"
      ],
      "text/html": [
       "<div>\n",
       "<style scoped>\n",
       "    .dataframe tbody tr th:only-of-type {\n",
       "        vertical-align: middle;\n",
       "    }\n",
       "\n",
       "    .dataframe tbody tr th {\n",
       "        vertical-align: top;\n",
       "    }\n",
       "\n",
       "    .dataframe thead th {\n",
       "        text-align: right;\n",
       "    }\n",
       "</style>\n",
       "<table border=\"1\" class=\"dataframe\">\n",
       "  <thead>\n",
       "    <tr style=\"text-align: right;\">\n",
       "      <th></th>\n",
       "      <th>Date</th>\n",
       "      <th>Close</th>\n",
       "      <th>Volume</th>\n",
       "      <th>Symbol</th>\n",
       "    </tr>\n",
       "  </thead>\n",
       "  <tbody>\n",
       "    <tr>\n",
       "      <th>0</th>\n",
       "      <td>2016-10-03</td>\n",
       "      <td>31.50</td>\n",
       "      <td>14070500</td>\n",
       "      <td>CSCO</td>\n",
       "    </tr>\n",
       "    <tr>\n",
       "      <th>1</th>\n",
       "      <td>2016-10-03</td>\n",
       "      <td>112.52</td>\n",
       "      <td>21701800</td>\n",
       "      <td>AAPL</td>\n",
       "    </tr>\n",
       "    <tr>\n",
       "      <th>2</th>\n",
       "      <td>2016-10-03</td>\n",
       "      <td>57.42</td>\n",
       "      <td>19189500</td>\n",
       "      <td>MSFT</td>\n",
       "    </tr>\n",
       "    <tr>\n",
       "      <th>3</th>\n",
       "      <td>2016-10-04</td>\n",
       "      <td>113.00</td>\n",
       "      <td>29736800</td>\n",
       "      <td>AAPL</td>\n",
       "    </tr>\n",
       "    <tr>\n",
       "      <th>4</th>\n",
       "      <td>2016-10-04</td>\n",
       "      <td>57.24</td>\n",
       "      <td>20085900</td>\n",
       "      <td>MSFT</td>\n",
       "    </tr>\n",
       "  </tbody>\n",
       "</table>\n",
       "</div>"
      ]
     },
     "execution_count": 26,
     "metadata": {},
     "output_type": "execute_result"
    }
   ],
   "execution_count": 26
  },
  {
   "metadata": {},
   "cell_type": "markdown",
   "source": "**DATA Frame Styling**",
   "id": "85137c90c810ec5d"
  },
  {
   "metadata": {
    "ExecuteTime": {
     "end_time": "2025-09-27T06:36:53.490877Z",
     "start_time": "2025-09-27T06:36:53.488959Z"
    }
   },
   "cell_type": "code",
   "source": [
    "formatter = {'Close': '${:.2f}', 'Volume': '{:,}'}\n",
    "# یک علامت دلار قبل کلوسر میاد و تا دورقم اعشار نمایش داده میشه\n",
    "# , به طور خودکار سه رقم سه رقم جدا میشه\n"
   ],
   "id": "907c737244f5d0f5",
   "outputs": [],
   "execution_count": 27
  },
  {
   "metadata": {},
   "cell_type": "markdown",
   "source": "#### a) حالت اول",
   "id": "7357bf203440a22"
  },
  {
   "metadata": {
    "ExecuteTime": {
     "end_time": "2025-09-27T06:36:53.519491Z",
     "start_time": "2025-09-27T06:36:53.516268Z"
    }
   },
   "cell_type": "code",
   "source": "dft05.columns",
   "id": "db73d558c530b66c",
   "outputs": [
    {
     "data": {
      "text/plain": [
       "Index(['Date', 'Close', 'Volume', 'Symbol'], dtype='object')"
      ]
     },
     "execution_count": 28,
     "metadata": {},
     "output_type": "execute_result"
    }
   ],
   "execution_count": 28
  },
  {
   "metadata": {
    "ExecuteTime": {
     "end_time": "2025-09-27T06:36:54.709557Z",
     "start_time": "2025-09-27T06:36:53.535369Z"
    }
   },
   "cell_type": "code",
   "source": "dft05.style.format(formatter)",
   "id": "cd63850537b3d351",
   "outputs": [
    {
     "data": {
      "text/plain": [
       "<pandas.io.formats.style.Styler at 0x17523225010>"
      ],
      "text/html": [
       "<style type=\"text/css\">\n",
       "</style>\n",
       "<table id=\"T_d3670\">\n",
       "  <thead>\n",
       "    <tr>\n",
       "      <th class=\"blank level0\" >&nbsp;</th>\n",
       "      <th id=\"T_d3670_level0_col0\" class=\"col_heading level0 col0\" >Date</th>\n",
       "      <th id=\"T_d3670_level0_col1\" class=\"col_heading level0 col1\" >Close</th>\n",
       "      <th id=\"T_d3670_level0_col2\" class=\"col_heading level0 col2\" >Volume</th>\n",
       "      <th id=\"T_d3670_level0_col3\" class=\"col_heading level0 col3\" >Symbol</th>\n",
       "    </tr>\n",
       "  </thead>\n",
       "  <tbody>\n",
       "    <tr>\n",
       "      <th id=\"T_d3670_level0_row0\" class=\"row_heading level0 row0\" >0</th>\n",
       "      <td id=\"T_d3670_row0_col0\" class=\"data row0 col0\" >2016-10-03</td>\n",
       "      <td id=\"T_d3670_row0_col1\" class=\"data row0 col1\" >$31.50</td>\n",
       "      <td id=\"T_d3670_row0_col2\" class=\"data row0 col2\" >14,070,500</td>\n",
       "      <td id=\"T_d3670_row0_col3\" class=\"data row0 col3\" >CSCO</td>\n",
       "    </tr>\n",
       "    <tr>\n",
       "      <th id=\"T_d3670_level0_row1\" class=\"row_heading level0 row1\" >1</th>\n",
       "      <td id=\"T_d3670_row1_col0\" class=\"data row1 col0\" >2016-10-03</td>\n",
       "      <td id=\"T_d3670_row1_col1\" class=\"data row1 col1\" >$112.52</td>\n",
       "      <td id=\"T_d3670_row1_col2\" class=\"data row1 col2\" >21,701,800</td>\n",
       "      <td id=\"T_d3670_row1_col3\" class=\"data row1 col3\" >AAPL</td>\n",
       "    </tr>\n",
       "    <tr>\n",
       "      <th id=\"T_d3670_level0_row2\" class=\"row_heading level0 row2\" >2</th>\n",
       "      <td id=\"T_d3670_row2_col0\" class=\"data row2 col0\" >2016-10-03</td>\n",
       "      <td id=\"T_d3670_row2_col1\" class=\"data row2 col1\" >$57.42</td>\n",
       "      <td id=\"T_d3670_row2_col2\" class=\"data row2 col2\" >19,189,500</td>\n",
       "      <td id=\"T_d3670_row2_col3\" class=\"data row2 col3\" >MSFT</td>\n",
       "    </tr>\n",
       "    <tr>\n",
       "      <th id=\"T_d3670_level0_row3\" class=\"row_heading level0 row3\" >3</th>\n",
       "      <td id=\"T_d3670_row3_col0\" class=\"data row3 col0\" >2016-10-04</td>\n",
       "      <td id=\"T_d3670_row3_col1\" class=\"data row3 col1\" >$113.00</td>\n",
       "      <td id=\"T_d3670_row3_col2\" class=\"data row3 col2\" >29,736,800</td>\n",
       "      <td id=\"T_d3670_row3_col3\" class=\"data row3 col3\" >AAPL</td>\n",
       "    </tr>\n",
       "    <tr>\n",
       "      <th id=\"T_d3670_level0_row4\" class=\"row_heading level0 row4\" >4</th>\n",
       "      <td id=\"T_d3670_row4_col0\" class=\"data row4 col0\" >2016-10-04</td>\n",
       "      <td id=\"T_d3670_row4_col1\" class=\"data row4 col1\" >$57.24</td>\n",
       "      <td id=\"T_d3670_row4_col2\" class=\"data row4 col2\" >20,085,900</td>\n",
       "      <td id=\"T_d3670_row4_col3\" class=\"data row4 col3\" >MSFT</td>\n",
       "    </tr>\n",
       "    <tr>\n",
       "      <th id=\"T_d3670_level0_row5\" class=\"row_heading level0 row5\" >5</th>\n",
       "      <td id=\"T_d3670_row5_col0\" class=\"data row5 col0\" >2016-10-04</td>\n",
       "      <td id=\"T_d3670_row5_col1\" class=\"data row5 col1\" >$31.35</td>\n",
       "      <td id=\"T_d3670_row5_col2\" class=\"data row5 col2\" >18,460,400</td>\n",
       "      <td id=\"T_d3670_row5_col3\" class=\"data row5 col3\" >CSCO</td>\n",
       "    </tr>\n",
       "    <tr>\n",
       "      <th id=\"T_d3670_level0_row6\" class=\"row_heading level0 row6\" >6</th>\n",
       "      <td id=\"T_d3670_row6_col0\" class=\"data row6 col0\" >2016-10-05</td>\n",
       "      <td id=\"T_d3670_row6_col1\" class=\"data row6 col1\" >$57.64</td>\n",
       "      <td id=\"T_d3670_row6_col2\" class=\"data row6 col2\" >16,726,400</td>\n",
       "      <td id=\"T_d3670_row6_col3\" class=\"data row6 col3\" >MSFT</td>\n",
       "    </tr>\n",
       "    <tr>\n",
       "      <th id=\"T_d3670_level0_row7\" class=\"row_heading level0 row7\" >7</th>\n",
       "      <td id=\"T_d3670_row7_col0\" class=\"data row7 col0\" >2016-10-05</td>\n",
       "      <td id=\"T_d3670_row7_col1\" class=\"data row7 col1\" >$31.59</td>\n",
       "      <td id=\"T_d3670_row7_col2\" class=\"data row7 col2\" >11,808,600</td>\n",
       "      <td id=\"T_d3670_row7_col3\" class=\"data row7 col3\" >CSCO</td>\n",
       "    </tr>\n",
       "    <tr>\n",
       "      <th id=\"T_d3670_level0_row8\" class=\"row_heading level0 row8\" >8</th>\n",
       "      <td id=\"T_d3670_row8_col0\" class=\"data row8 col0\" >2016-10-05</td>\n",
       "      <td id=\"T_d3670_row8_col1\" class=\"data row8 col1\" >$113.05</td>\n",
       "      <td id=\"T_d3670_row8_col2\" class=\"data row8 col2\" >21,453,100</td>\n",
       "      <td id=\"T_d3670_row8_col3\" class=\"data row8 col3\" >AAPL</td>\n",
       "    </tr>\n",
       "  </tbody>\n",
       "</table>\n"
      ]
     },
     "execution_count": 29,
     "metadata": {},
     "output_type": "execute_result"
    }
   ],
   "execution_count": 29
  },
  {
   "metadata": {},
   "cell_type": "markdown",
   "source": "#### b) حالت دوم",
   "id": "f00e70d5b27c4b7e"
  },
  {
   "metadata": {
    "ExecuteTime": {
     "end_time": "2025-09-27T06:36:54.761532Z",
     "start_time": "2025-09-27T06:36:54.713947Z"
    }
   },
   "cell_type": "code",
   "source": [
    "(dft05.style.format(formatter)\n",
    "  # به بخش axis='index' بیشتر دقت داشته باش\n",
    " .hide(axis='index')\n",
    " .highlight_min('Close', color='red')\n",
    " .highlight_max('Close', color='lightgreen')\n",
    ")"
   ],
   "id": "9cdf03869bef23e6",
   "outputs": [
    {
     "data": {
      "text/plain": [
       "<pandas.io.formats.style.Styler at 0x1752265a710>"
      ],
      "text/html": [
       "<style type=\"text/css\">\n",
       "#T_93a08_row5_col1 {\n",
       "  background-color: red;\n",
       "}\n",
       "#T_93a08_row8_col1 {\n",
       "  background-color: lightgreen;\n",
       "}\n",
       "</style>\n",
       "<table id=\"T_93a08\">\n",
       "  <thead>\n",
       "    <tr>\n",
       "      <th id=\"T_93a08_level0_col0\" class=\"col_heading level0 col0\" >Date</th>\n",
       "      <th id=\"T_93a08_level0_col1\" class=\"col_heading level0 col1\" >Close</th>\n",
       "      <th id=\"T_93a08_level0_col2\" class=\"col_heading level0 col2\" >Volume</th>\n",
       "      <th id=\"T_93a08_level0_col3\" class=\"col_heading level0 col3\" >Symbol</th>\n",
       "    </tr>\n",
       "  </thead>\n",
       "  <tbody>\n",
       "    <tr>\n",
       "      <td id=\"T_93a08_row0_col0\" class=\"data row0 col0\" >2016-10-03</td>\n",
       "      <td id=\"T_93a08_row0_col1\" class=\"data row0 col1\" >$31.50</td>\n",
       "      <td id=\"T_93a08_row0_col2\" class=\"data row0 col2\" >14,070,500</td>\n",
       "      <td id=\"T_93a08_row0_col3\" class=\"data row0 col3\" >CSCO</td>\n",
       "    </tr>\n",
       "    <tr>\n",
       "      <td id=\"T_93a08_row1_col0\" class=\"data row1 col0\" >2016-10-03</td>\n",
       "      <td id=\"T_93a08_row1_col1\" class=\"data row1 col1\" >$112.52</td>\n",
       "      <td id=\"T_93a08_row1_col2\" class=\"data row1 col2\" >21,701,800</td>\n",
       "      <td id=\"T_93a08_row1_col3\" class=\"data row1 col3\" >AAPL</td>\n",
       "    </tr>\n",
       "    <tr>\n",
       "      <td id=\"T_93a08_row2_col0\" class=\"data row2 col0\" >2016-10-03</td>\n",
       "      <td id=\"T_93a08_row2_col1\" class=\"data row2 col1\" >$57.42</td>\n",
       "      <td id=\"T_93a08_row2_col2\" class=\"data row2 col2\" >19,189,500</td>\n",
       "      <td id=\"T_93a08_row2_col3\" class=\"data row2 col3\" >MSFT</td>\n",
       "    </tr>\n",
       "    <tr>\n",
       "      <td id=\"T_93a08_row3_col0\" class=\"data row3 col0\" >2016-10-04</td>\n",
       "      <td id=\"T_93a08_row3_col1\" class=\"data row3 col1\" >$113.00</td>\n",
       "      <td id=\"T_93a08_row3_col2\" class=\"data row3 col2\" >29,736,800</td>\n",
       "      <td id=\"T_93a08_row3_col3\" class=\"data row3 col3\" >AAPL</td>\n",
       "    </tr>\n",
       "    <tr>\n",
       "      <td id=\"T_93a08_row4_col0\" class=\"data row4 col0\" >2016-10-04</td>\n",
       "      <td id=\"T_93a08_row4_col1\" class=\"data row4 col1\" >$57.24</td>\n",
       "      <td id=\"T_93a08_row4_col2\" class=\"data row4 col2\" >20,085,900</td>\n",
       "      <td id=\"T_93a08_row4_col3\" class=\"data row4 col3\" >MSFT</td>\n",
       "    </tr>\n",
       "    <tr>\n",
       "      <td id=\"T_93a08_row5_col0\" class=\"data row5 col0\" >2016-10-04</td>\n",
       "      <td id=\"T_93a08_row5_col1\" class=\"data row5 col1\" >$31.35</td>\n",
       "      <td id=\"T_93a08_row5_col2\" class=\"data row5 col2\" >18,460,400</td>\n",
       "      <td id=\"T_93a08_row5_col3\" class=\"data row5 col3\" >CSCO</td>\n",
       "    </tr>\n",
       "    <tr>\n",
       "      <td id=\"T_93a08_row6_col0\" class=\"data row6 col0\" >2016-10-05</td>\n",
       "      <td id=\"T_93a08_row6_col1\" class=\"data row6 col1\" >$57.64</td>\n",
       "      <td id=\"T_93a08_row6_col2\" class=\"data row6 col2\" >16,726,400</td>\n",
       "      <td id=\"T_93a08_row6_col3\" class=\"data row6 col3\" >MSFT</td>\n",
       "    </tr>\n",
       "    <tr>\n",
       "      <td id=\"T_93a08_row7_col0\" class=\"data row7 col0\" >2016-10-05</td>\n",
       "      <td id=\"T_93a08_row7_col1\" class=\"data row7 col1\" >$31.59</td>\n",
       "      <td id=\"T_93a08_row7_col2\" class=\"data row7 col2\" >11,808,600</td>\n",
       "      <td id=\"T_93a08_row7_col3\" class=\"data row7 col3\" >CSCO</td>\n",
       "    </tr>\n",
       "    <tr>\n",
       "      <td id=\"T_93a08_row8_col0\" class=\"data row8 col0\" >2016-10-05</td>\n",
       "      <td id=\"T_93a08_row8_col1\" class=\"data row8 col1\" >$113.05</td>\n",
       "      <td id=\"T_93a08_row8_col2\" class=\"data row8 col2\" >21,453,100</td>\n",
       "      <td id=\"T_93a08_row8_col3\" class=\"data row8 col3\" >AAPL</td>\n",
       "    </tr>\n",
       "  </tbody>\n",
       "</table>\n"
      ]
     },
     "execution_count": 30,
     "metadata": {},
     "output_type": "execute_result"
    }
   ],
   "execution_count": 30
  },
  {
   "metadata": {},
   "cell_type": "markdown",
   "source": "#### c) حالت سوم\n",
   "id": "2ddbd47c591e07cc"
  },
  {
   "metadata": {
    "ExecuteTime": {
     "end_time": "2025-09-27T06:36:54.804170Z",
     "start_time": "2025-09-27T06:36:54.786908Z"
    }
   },
   "cell_type": "code",
   "source": [
    "(dft05.style.format(formatter)\n",
    " .hide(axis='index')\n",
    " .background_gradient(subset = 'Volume',cmap='PuBu'))"
   ],
   "id": "f146b9a3ba962e99",
   "outputs": [
    {
     "data": {
      "text/plain": [
       "<pandas.io.formats.style.Styler at 0x175232b4050>"
      ],
      "text/html": [
       "<style type=\"text/css\">\n",
       "#T_11373_row0_col2 {\n",
       "  background-color: #ece7f2;\n",
       "  color: #000000;\n",
       "}\n",
       "#T_11373_row1_col2 {\n",
       "  background-color: #5a9ec9;\n",
       "  color: #f1f1f1;\n",
       "}\n",
       "#T_11373_row2_col2 {\n",
       "  background-color: #97b7d7;\n",
       "  color: #000000;\n",
       "}\n",
       "#T_11373_row3_col2 {\n",
       "  background-color: #023858;\n",
       "  color: #f1f1f1;\n",
       "}\n",
       "#T_11373_row4_col2 {\n",
       "  background-color: #83afd3;\n",
       "  color: #f1f1f1;\n",
       "}\n",
       "#T_11373_row5_col2 {\n",
       "  background-color: #a8bedc;\n",
       "  color: #000000;\n",
       "}\n",
       "#T_11373_row6_col2 {\n",
       "  background-color: #c8cde4;\n",
       "  color: #000000;\n",
       "}\n",
       "#T_11373_row7_col2 {\n",
       "  background-color: #fff7fb;\n",
       "  color: #000000;\n",
       "}\n",
       "#T_11373_row8_col2 {\n",
       "  background-color: #62a2cb;\n",
       "  color: #f1f1f1;\n",
       "}\n",
       "</style>\n",
       "<table id=\"T_11373\">\n",
       "  <thead>\n",
       "    <tr>\n",
       "      <th id=\"T_11373_level0_col0\" class=\"col_heading level0 col0\" >Date</th>\n",
       "      <th id=\"T_11373_level0_col1\" class=\"col_heading level0 col1\" >Close</th>\n",
       "      <th id=\"T_11373_level0_col2\" class=\"col_heading level0 col2\" >Volume</th>\n",
       "      <th id=\"T_11373_level0_col3\" class=\"col_heading level0 col3\" >Symbol</th>\n",
       "    </tr>\n",
       "  </thead>\n",
       "  <tbody>\n",
       "    <tr>\n",
       "      <td id=\"T_11373_row0_col0\" class=\"data row0 col0\" >2016-10-03</td>\n",
       "      <td id=\"T_11373_row0_col1\" class=\"data row0 col1\" >$31.50</td>\n",
       "      <td id=\"T_11373_row0_col2\" class=\"data row0 col2\" >14,070,500</td>\n",
       "      <td id=\"T_11373_row0_col3\" class=\"data row0 col3\" >CSCO</td>\n",
       "    </tr>\n",
       "    <tr>\n",
       "      <td id=\"T_11373_row1_col0\" class=\"data row1 col0\" >2016-10-03</td>\n",
       "      <td id=\"T_11373_row1_col1\" class=\"data row1 col1\" >$112.52</td>\n",
       "      <td id=\"T_11373_row1_col2\" class=\"data row1 col2\" >21,701,800</td>\n",
       "      <td id=\"T_11373_row1_col3\" class=\"data row1 col3\" >AAPL</td>\n",
       "    </tr>\n",
       "    <tr>\n",
       "      <td id=\"T_11373_row2_col0\" class=\"data row2 col0\" >2016-10-03</td>\n",
       "      <td id=\"T_11373_row2_col1\" class=\"data row2 col1\" >$57.42</td>\n",
       "      <td id=\"T_11373_row2_col2\" class=\"data row2 col2\" >19,189,500</td>\n",
       "      <td id=\"T_11373_row2_col3\" class=\"data row2 col3\" >MSFT</td>\n",
       "    </tr>\n",
       "    <tr>\n",
       "      <td id=\"T_11373_row3_col0\" class=\"data row3 col0\" >2016-10-04</td>\n",
       "      <td id=\"T_11373_row3_col1\" class=\"data row3 col1\" >$113.00</td>\n",
       "      <td id=\"T_11373_row3_col2\" class=\"data row3 col2\" >29,736,800</td>\n",
       "      <td id=\"T_11373_row3_col3\" class=\"data row3 col3\" >AAPL</td>\n",
       "    </tr>\n",
       "    <tr>\n",
       "      <td id=\"T_11373_row4_col0\" class=\"data row4 col0\" >2016-10-04</td>\n",
       "      <td id=\"T_11373_row4_col1\" class=\"data row4 col1\" >$57.24</td>\n",
       "      <td id=\"T_11373_row4_col2\" class=\"data row4 col2\" >20,085,900</td>\n",
       "      <td id=\"T_11373_row4_col3\" class=\"data row4 col3\" >MSFT</td>\n",
       "    </tr>\n",
       "    <tr>\n",
       "      <td id=\"T_11373_row5_col0\" class=\"data row5 col0\" >2016-10-04</td>\n",
       "      <td id=\"T_11373_row5_col1\" class=\"data row5 col1\" >$31.35</td>\n",
       "      <td id=\"T_11373_row5_col2\" class=\"data row5 col2\" >18,460,400</td>\n",
       "      <td id=\"T_11373_row5_col3\" class=\"data row5 col3\" >CSCO</td>\n",
       "    </tr>\n",
       "    <tr>\n",
       "      <td id=\"T_11373_row6_col0\" class=\"data row6 col0\" >2016-10-05</td>\n",
       "      <td id=\"T_11373_row6_col1\" class=\"data row6 col1\" >$57.64</td>\n",
       "      <td id=\"T_11373_row6_col2\" class=\"data row6 col2\" >16,726,400</td>\n",
       "      <td id=\"T_11373_row6_col3\" class=\"data row6 col3\" >MSFT</td>\n",
       "    </tr>\n",
       "    <tr>\n",
       "      <td id=\"T_11373_row7_col0\" class=\"data row7 col0\" >2016-10-05</td>\n",
       "      <td id=\"T_11373_row7_col1\" class=\"data row7 col1\" >$31.59</td>\n",
       "      <td id=\"T_11373_row7_col2\" class=\"data row7 col2\" >11,808,600</td>\n",
       "      <td id=\"T_11373_row7_col3\" class=\"data row7 col3\" >CSCO</td>\n",
       "    </tr>\n",
       "    <tr>\n",
       "      <td id=\"T_11373_row8_col0\" class=\"data row8 col0\" >2016-10-05</td>\n",
       "      <td id=\"T_11373_row8_col1\" class=\"data row8 col1\" >$113.05</td>\n",
       "      <td id=\"T_11373_row8_col2\" class=\"data row8 col2\" >21,453,100</td>\n",
       "      <td id=\"T_11373_row8_col3\" class=\"data row8 col3\" >AAPL</td>\n",
       "    </tr>\n",
       "  </tbody>\n",
       "</table>\n"
      ]
     },
     "execution_count": 31,
     "metadata": {},
     "output_type": "execute_result"
    }
   ],
   "execution_count": 31
  },
  {
   "metadata": {},
   "cell_type": "markdown",
   "source": "#### d) حالت چهارم",
   "id": "6410e8efc5e6cb5d"
  },
  {
   "metadata": {
    "ExecuteTime": {
     "end_time": "2025-09-27T06:36:54.826427Z",
     "start_time": "2025-09-27T06:36:54.819905Z"
    }
   },
   "cell_type": "code",
   "source": [
    "(dft05.style.format(formatter)\n",
    " .hide(axis='index')\n",
    " .bar('Volume')\n",
    " )"
   ],
   "id": "7ee2d6c983e90d4b",
   "outputs": [
    {
     "data": {
      "text/plain": [
       "<pandas.io.formats.style.Styler at 0x175232b4550>"
      ],
      "text/html": [
       "<style type=\"text/css\">\n",
       "#T_acab2_row0_col2 {\n",
       "  width: 10em;\n",
       "  background: linear-gradient(90deg, #d65f5f 47.3%, transparent 47.3%);\n",
       "}\n",
       "#T_acab2_row1_col2 {\n",
       "  width: 10em;\n",
       "  background: linear-gradient(90deg, #d65f5f 73.0%, transparent 73.0%);\n",
       "}\n",
       "#T_acab2_row2_col2 {\n",
       "  width: 10em;\n",
       "  background: linear-gradient(90deg, #d65f5f 64.5%, transparent 64.5%);\n",
       "}\n",
       "#T_acab2_row3_col2 {\n",
       "  width: 10em;\n",
       "  background: linear-gradient(90deg, #d65f5f 100.0%, transparent 100.0%);\n",
       "}\n",
       "#T_acab2_row4_col2 {\n",
       "  width: 10em;\n",
       "  background: linear-gradient(90deg, #d65f5f 67.5%, transparent 67.5%);\n",
       "}\n",
       "#T_acab2_row5_col2 {\n",
       "  width: 10em;\n",
       "  background: linear-gradient(90deg, #d65f5f 62.1%, transparent 62.1%);\n",
       "}\n",
       "#T_acab2_row6_col2 {\n",
       "  width: 10em;\n",
       "  background: linear-gradient(90deg, #d65f5f 56.2%, transparent 56.2%);\n",
       "}\n",
       "#T_acab2_row7_col2 {\n",
       "  width: 10em;\n",
       "  background: linear-gradient(90deg, #d65f5f 39.7%, transparent 39.7%);\n",
       "}\n",
       "#T_acab2_row8_col2 {\n",
       "  width: 10em;\n",
       "  background: linear-gradient(90deg, #d65f5f 72.1%, transparent 72.1%);\n",
       "}\n",
       "</style>\n",
       "<table id=\"T_acab2\">\n",
       "  <thead>\n",
       "    <tr>\n",
       "      <th id=\"T_acab2_level0_col0\" class=\"col_heading level0 col0\" >Date</th>\n",
       "      <th id=\"T_acab2_level0_col1\" class=\"col_heading level0 col1\" >Close</th>\n",
       "      <th id=\"T_acab2_level0_col2\" class=\"col_heading level0 col2\" >Volume</th>\n",
       "      <th id=\"T_acab2_level0_col3\" class=\"col_heading level0 col3\" >Symbol</th>\n",
       "    </tr>\n",
       "  </thead>\n",
       "  <tbody>\n",
       "    <tr>\n",
       "      <td id=\"T_acab2_row0_col0\" class=\"data row0 col0\" >2016-10-03</td>\n",
       "      <td id=\"T_acab2_row0_col1\" class=\"data row0 col1\" >$31.50</td>\n",
       "      <td id=\"T_acab2_row0_col2\" class=\"data row0 col2\" >14,070,500</td>\n",
       "      <td id=\"T_acab2_row0_col3\" class=\"data row0 col3\" >CSCO</td>\n",
       "    </tr>\n",
       "    <tr>\n",
       "      <td id=\"T_acab2_row1_col0\" class=\"data row1 col0\" >2016-10-03</td>\n",
       "      <td id=\"T_acab2_row1_col1\" class=\"data row1 col1\" >$112.52</td>\n",
       "      <td id=\"T_acab2_row1_col2\" class=\"data row1 col2\" >21,701,800</td>\n",
       "      <td id=\"T_acab2_row1_col3\" class=\"data row1 col3\" >AAPL</td>\n",
       "    </tr>\n",
       "    <tr>\n",
       "      <td id=\"T_acab2_row2_col0\" class=\"data row2 col0\" >2016-10-03</td>\n",
       "      <td id=\"T_acab2_row2_col1\" class=\"data row2 col1\" >$57.42</td>\n",
       "      <td id=\"T_acab2_row2_col2\" class=\"data row2 col2\" >19,189,500</td>\n",
       "      <td id=\"T_acab2_row2_col3\" class=\"data row2 col3\" >MSFT</td>\n",
       "    </tr>\n",
       "    <tr>\n",
       "      <td id=\"T_acab2_row3_col0\" class=\"data row3 col0\" >2016-10-04</td>\n",
       "      <td id=\"T_acab2_row3_col1\" class=\"data row3 col1\" >$113.00</td>\n",
       "      <td id=\"T_acab2_row3_col2\" class=\"data row3 col2\" >29,736,800</td>\n",
       "      <td id=\"T_acab2_row3_col3\" class=\"data row3 col3\" >AAPL</td>\n",
       "    </tr>\n",
       "    <tr>\n",
       "      <td id=\"T_acab2_row4_col0\" class=\"data row4 col0\" >2016-10-04</td>\n",
       "      <td id=\"T_acab2_row4_col1\" class=\"data row4 col1\" >$57.24</td>\n",
       "      <td id=\"T_acab2_row4_col2\" class=\"data row4 col2\" >20,085,900</td>\n",
       "      <td id=\"T_acab2_row4_col3\" class=\"data row4 col3\" >MSFT</td>\n",
       "    </tr>\n",
       "    <tr>\n",
       "      <td id=\"T_acab2_row5_col0\" class=\"data row5 col0\" >2016-10-04</td>\n",
       "      <td id=\"T_acab2_row5_col1\" class=\"data row5 col1\" >$31.35</td>\n",
       "      <td id=\"T_acab2_row5_col2\" class=\"data row5 col2\" >18,460,400</td>\n",
       "      <td id=\"T_acab2_row5_col3\" class=\"data row5 col3\" >CSCO</td>\n",
       "    </tr>\n",
       "    <tr>\n",
       "      <td id=\"T_acab2_row6_col0\" class=\"data row6 col0\" >2016-10-05</td>\n",
       "      <td id=\"T_acab2_row6_col1\" class=\"data row6 col1\" >$57.64</td>\n",
       "      <td id=\"T_acab2_row6_col2\" class=\"data row6 col2\" >16,726,400</td>\n",
       "      <td id=\"T_acab2_row6_col3\" class=\"data row6 col3\" >MSFT</td>\n",
       "    </tr>\n",
       "    <tr>\n",
       "      <td id=\"T_acab2_row7_col0\" class=\"data row7 col0\" >2016-10-05</td>\n",
       "      <td id=\"T_acab2_row7_col1\" class=\"data row7 col1\" >$31.59</td>\n",
       "      <td id=\"T_acab2_row7_col2\" class=\"data row7 col2\" >11,808,600</td>\n",
       "      <td id=\"T_acab2_row7_col3\" class=\"data row7 col3\" >CSCO</td>\n",
       "    </tr>\n",
       "    <tr>\n",
       "      <td id=\"T_acab2_row8_col0\" class=\"data row8 col0\" >2016-10-05</td>\n",
       "      <td id=\"T_acab2_row8_col1\" class=\"data row8 col1\" >$113.05</td>\n",
       "      <td id=\"T_acab2_row8_col2\" class=\"data row8 col2\" >21,453,100</td>\n",
       "      <td id=\"T_acab2_row8_col3\" class=\"data row8 col3\" >AAPL</td>\n",
       "    </tr>\n",
       "  </tbody>\n",
       "</table>\n"
      ]
     },
     "execution_count": 32,
     "metadata": {},
     "output_type": "execute_result"
    }
   ],
   "execution_count": 32
  },
  {
   "metadata": {
    "ExecuteTime": {
     "end_time": "2025-09-27T06:36:54.858186Z",
     "start_time": "2025-09-27T06:36:54.852656Z"
    }
   },
   "cell_type": "code",
   "source": [
    "(dft05.style.format(formatter)\n",
    " .hide(axis='index')\n",
    " .bar('Volume', color='lightblue')\n",
    " )"
   ],
   "id": "a500f787c1a28f16",
   "outputs": [
    {
     "data": {
      "text/plain": [
       "<pandas.io.formats.style.Styler at 0x175232b4690>"
      ],
      "text/html": [
       "<style type=\"text/css\">\n",
       "#T_457b0_row0_col2 {\n",
       "  width: 10em;\n",
       "  background: linear-gradient(90deg, lightblue 47.3%, transparent 47.3%);\n",
       "}\n",
       "#T_457b0_row1_col2 {\n",
       "  width: 10em;\n",
       "  background: linear-gradient(90deg, lightblue 73.0%, transparent 73.0%);\n",
       "}\n",
       "#T_457b0_row2_col2 {\n",
       "  width: 10em;\n",
       "  background: linear-gradient(90deg, lightblue 64.5%, transparent 64.5%);\n",
       "}\n",
       "#T_457b0_row3_col2 {\n",
       "  width: 10em;\n",
       "  background: linear-gradient(90deg, lightblue 100.0%, transparent 100.0%);\n",
       "}\n",
       "#T_457b0_row4_col2 {\n",
       "  width: 10em;\n",
       "  background: linear-gradient(90deg, lightblue 67.5%, transparent 67.5%);\n",
       "}\n",
       "#T_457b0_row5_col2 {\n",
       "  width: 10em;\n",
       "  background: linear-gradient(90deg, lightblue 62.1%, transparent 62.1%);\n",
       "}\n",
       "#T_457b0_row6_col2 {\n",
       "  width: 10em;\n",
       "  background: linear-gradient(90deg, lightblue 56.2%, transparent 56.2%);\n",
       "}\n",
       "#T_457b0_row7_col2 {\n",
       "  width: 10em;\n",
       "  background: linear-gradient(90deg, lightblue 39.7%, transparent 39.7%);\n",
       "}\n",
       "#T_457b0_row8_col2 {\n",
       "  width: 10em;\n",
       "  background: linear-gradient(90deg, lightblue 72.1%, transparent 72.1%);\n",
       "}\n",
       "</style>\n",
       "<table id=\"T_457b0\">\n",
       "  <thead>\n",
       "    <tr>\n",
       "      <th id=\"T_457b0_level0_col0\" class=\"col_heading level0 col0\" >Date</th>\n",
       "      <th id=\"T_457b0_level0_col1\" class=\"col_heading level0 col1\" >Close</th>\n",
       "      <th id=\"T_457b0_level0_col2\" class=\"col_heading level0 col2\" >Volume</th>\n",
       "      <th id=\"T_457b0_level0_col3\" class=\"col_heading level0 col3\" >Symbol</th>\n",
       "    </tr>\n",
       "  </thead>\n",
       "  <tbody>\n",
       "    <tr>\n",
       "      <td id=\"T_457b0_row0_col0\" class=\"data row0 col0\" >2016-10-03</td>\n",
       "      <td id=\"T_457b0_row0_col1\" class=\"data row0 col1\" >$31.50</td>\n",
       "      <td id=\"T_457b0_row0_col2\" class=\"data row0 col2\" >14,070,500</td>\n",
       "      <td id=\"T_457b0_row0_col3\" class=\"data row0 col3\" >CSCO</td>\n",
       "    </tr>\n",
       "    <tr>\n",
       "      <td id=\"T_457b0_row1_col0\" class=\"data row1 col0\" >2016-10-03</td>\n",
       "      <td id=\"T_457b0_row1_col1\" class=\"data row1 col1\" >$112.52</td>\n",
       "      <td id=\"T_457b0_row1_col2\" class=\"data row1 col2\" >21,701,800</td>\n",
       "      <td id=\"T_457b0_row1_col3\" class=\"data row1 col3\" >AAPL</td>\n",
       "    </tr>\n",
       "    <tr>\n",
       "      <td id=\"T_457b0_row2_col0\" class=\"data row2 col0\" >2016-10-03</td>\n",
       "      <td id=\"T_457b0_row2_col1\" class=\"data row2 col1\" >$57.42</td>\n",
       "      <td id=\"T_457b0_row2_col2\" class=\"data row2 col2\" >19,189,500</td>\n",
       "      <td id=\"T_457b0_row2_col3\" class=\"data row2 col3\" >MSFT</td>\n",
       "    </tr>\n",
       "    <tr>\n",
       "      <td id=\"T_457b0_row3_col0\" class=\"data row3 col0\" >2016-10-04</td>\n",
       "      <td id=\"T_457b0_row3_col1\" class=\"data row3 col1\" >$113.00</td>\n",
       "      <td id=\"T_457b0_row3_col2\" class=\"data row3 col2\" >29,736,800</td>\n",
       "      <td id=\"T_457b0_row3_col3\" class=\"data row3 col3\" >AAPL</td>\n",
       "    </tr>\n",
       "    <tr>\n",
       "      <td id=\"T_457b0_row4_col0\" class=\"data row4 col0\" >2016-10-04</td>\n",
       "      <td id=\"T_457b0_row4_col1\" class=\"data row4 col1\" >$57.24</td>\n",
       "      <td id=\"T_457b0_row4_col2\" class=\"data row4 col2\" >20,085,900</td>\n",
       "      <td id=\"T_457b0_row4_col3\" class=\"data row4 col3\" >MSFT</td>\n",
       "    </tr>\n",
       "    <tr>\n",
       "      <td id=\"T_457b0_row5_col0\" class=\"data row5 col0\" >2016-10-04</td>\n",
       "      <td id=\"T_457b0_row5_col1\" class=\"data row5 col1\" >$31.35</td>\n",
       "      <td id=\"T_457b0_row5_col2\" class=\"data row5 col2\" >18,460,400</td>\n",
       "      <td id=\"T_457b0_row5_col3\" class=\"data row5 col3\" >CSCO</td>\n",
       "    </tr>\n",
       "    <tr>\n",
       "      <td id=\"T_457b0_row6_col0\" class=\"data row6 col0\" >2016-10-05</td>\n",
       "      <td id=\"T_457b0_row6_col1\" class=\"data row6 col1\" >$57.64</td>\n",
       "      <td id=\"T_457b0_row6_col2\" class=\"data row6 col2\" >16,726,400</td>\n",
       "      <td id=\"T_457b0_row6_col3\" class=\"data row6 col3\" >MSFT</td>\n",
       "    </tr>\n",
       "    <tr>\n",
       "      <td id=\"T_457b0_row7_col0\" class=\"data row7 col0\" >2016-10-05</td>\n",
       "      <td id=\"T_457b0_row7_col1\" class=\"data row7 col1\" >$31.59</td>\n",
       "      <td id=\"T_457b0_row7_col2\" class=\"data row7 col2\" >11,808,600</td>\n",
       "      <td id=\"T_457b0_row7_col3\" class=\"data row7 col3\" >CSCO</td>\n",
       "    </tr>\n",
       "    <tr>\n",
       "      <td id=\"T_457b0_row8_col0\" class=\"data row8 col0\" >2016-10-05</td>\n",
       "      <td id=\"T_457b0_row8_col1\" class=\"data row8 col1\" >$113.05</td>\n",
       "      <td id=\"T_457b0_row8_col2\" class=\"data row8 col2\" >21,453,100</td>\n",
       "      <td id=\"T_457b0_row8_col3\" class=\"data row8 col3\" >AAPL</td>\n",
       "    </tr>\n",
       "  </tbody>\n",
       "</table>\n"
      ]
     },
     "execution_count": 33,
     "metadata": {},
     "output_type": "execute_result"
    }
   ],
   "execution_count": 33
  },
  {
   "metadata": {
    "ExecuteTime": {
     "end_time": "2025-09-27T06:36:54.880347Z",
     "start_time": "2025-09-27T06:36:54.874149Z"
    }
   },
   "cell_type": "code",
   "source": [
    "(dft05.style.format(formatter)\n",
    " .hide(axis='index')\n",
    " .bar('Volume', color='lightblue', align='left') # default\n",
    " )"
   ],
   "id": "cfe7bfaf4db55b39",
   "outputs": [
    {
     "data": {
      "text/plain": [
       "<pandas.io.formats.style.Styler at 0x175232b4410>"
      ],
      "text/html": [
       "<style type=\"text/css\">\n",
       "#T_47600_row0_col2 {\n",
       "  width: 10em;\n",
       "  background: linear-gradient(90deg, lightblue 12.6%, transparent 12.6%);\n",
       "}\n",
       "#T_47600_row1_col2 {\n",
       "  width: 10em;\n",
       "  background: linear-gradient(90deg, lightblue 55.2%, transparent 55.2%);\n",
       "}\n",
       "#T_47600_row2_col2 {\n",
       "  width: 10em;\n",
       "  background: linear-gradient(90deg, lightblue 41.2%, transparent 41.2%);\n",
       "}\n",
       "#T_47600_row3_col2 {\n",
       "  width: 10em;\n",
       "  background: linear-gradient(90deg, lightblue 100.0%, transparent 100.0%);\n",
       "}\n",
       "#T_47600_row4_col2 {\n",
       "  width: 10em;\n",
       "  background: linear-gradient(90deg, lightblue 46.2%, transparent 46.2%);\n",
       "}\n",
       "#T_47600_row5_col2 {\n",
       "  width: 10em;\n",
       "  background: linear-gradient(90deg, lightblue 37.1%, transparent 37.1%);\n",
       "}\n",
       "#T_47600_row6_col2 {\n",
       "  width: 10em;\n",
       "  background: linear-gradient(90deg, lightblue 27.4%, transparent 27.4%);\n",
       "}\n",
       "#T_47600_row7_col2 {\n",
       "  width: 10em;\n",
       "}\n",
       "#T_47600_row8_col2 {\n",
       "  width: 10em;\n",
       "  background: linear-gradient(90deg, lightblue 53.8%, transparent 53.8%);\n",
       "}\n",
       "</style>\n",
       "<table id=\"T_47600\">\n",
       "  <thead>\n",
       "    <tr>\n",
       "      <th id=\"T_47600_level0_col0\" class=\"col_heading level0 col0\" >Date</th>\n",
       "      <th id=\"T_47600_level0_col1\" class=\"col_heading level0 col1\" >Close</th>\n",
       "      <th id=\"T_47600_level0_col2\" class=\"col_heading level0 col2\" >Volume</th>\n",
       "      <th id=\"T_47600_level0_col3\" class=\"col_heading level0 col3\" >Symbol</th>\n",
       "    </tr>\n",
       "  </thead>\n",
       "  <tbody>\n",
       "    <tr>\n",
       "      <td id=\"T_47600_row0_col0\" class=\"data row0 col0\" >2016-10-03</td>\n",
       "      <td id=\"T_47600_row0_col1\" class=\"data row0 col1\" >$31.50</td>\n",
       "      <td id=\"T_47600_row0_col2\" class=\"data row0 col2\" >14,070,500</td>\n",
       "      <td id=\"T_47600_row0_col3\" class=\"data row0 col3\" >CSCO</td>\n",
       "    </tr>\n",
       "    <tr>\n",
       "      <td id=\"T_47600_row1_col0\" class=\"data row1 col0\" >2016-10-03</td>\n",
       "      <td id=\"T_47600_row1_col1\" class=\"data row1 col1\" >$112.52</td>\n",
       "      <td id=\"T_47600_row1_col2\" class=\"data row1 col2\" >21,701,800</td>\n",
       "      <td id=\"T_47600_row1_col3\" class=\"data row1 col3\" >AAPL</td>\n",
       "    </tr>\n",
       "    <tr>\n",
       "      <td id=\"T_47600_row2_col0\" class=\"data row2 col0\" >2016-10-03</td>\n",
       "      <td id=\"T_47600_row2_col1\" class=\"data row2 col1\" >$57.42</td>\n",
       "      <td id=\"T_47600_row2_col2\" class=\"data row2 col2\" >19,189,500</td>\n",
       "      <td id=\"T_47600_row2_col3\" class=\"data row2 col3\" >MSFT</td>\n",
       "    </tr>\n",
       "    <tr>\n",
       "      <td id=\"T_47600_row3_col0\" class=\"data row3 col0\" >2016-10-04</td>\n",
       "      <td id=\"T_47600_row3_col1\" class=\"data row3 col1\" >$113.00</td>\n",
       "      <td id=\"T_47600_row3_col2\" class=\"data row3 col2\" >29,736,800</td>\n",
       "      <td id=\"T_47600_row3_col3\" class=\"data row3 col3\" >AAPL</td>\n",
       "    </tr>\n",
       "    <tr>\n",
       "      <td id=\"T_47600_row4_col0\" class=\"data row4 col0\" >2016-10-04</td>\n",
       "      <td id=\"T_47600_row4_col1\" class=\"data row4 col1\" >$57.24</td>\n",
       "      <td id=\"T_47600_row4_col2\" class=\"data row4 col2\" >20,085,900</td>\n",
       "      <td id=\"T_47600_row4_col3\" class=\"data row4 col3\" >MSFT</td>\n",
       "    </tr>\n",
       "    <tr>\n",
       "      <td id=\"T_47600_row5_col0\" class=\"data row5 col0\" >2016-10-04</td>\n",
       "      <td id=\"T_47600_row5_col1\" class=\"data row5 col1\" >$31.35</td>\n",
       "      <td id=\"T_47600_row5_col2\" class=\"data row5 col2\" >18,460,400</td>\n",
       "      <td id=\"T_47600_row5_col3\" class=\"data row5 col3\" >CSCO</td>\n",
       "    </tr>\n",
       "    <tr>\n",
       "      <td id=\"T_47600_row6_col0\" class=\"data row6 col0\" >2016-10-05</td>\n",
       "      <td id=\"T_47600_row6_col1\" class=\"data row6 col1\" >$57.64</td>\n",
       "      <td id=\"T_47600_row6_col2\" class=\"data row6 col2\" >16,726,400</td>\n",
       "      <td id=\"T_47600_row6_col3\" class=\"data row6 col3\" >MSFT</td>\n",
       "    </tr>\n",
       "    <tr>\n",
       "      <td id=\"T_47600_row7_col0\" class=\"data row7 col0\" >2016-10-05</td>\n",
       "      <td id=\"T_47600_row7_col1\" class=\"data row7 col1\" >$31.59</td>\n",
       "      <td id=\"T_47600_row7_col2\" class=\"data row7 col2\" >11,808,600</td>\n",
       "      <td id=\"T_47600_row7_col3\" class=\"data row7 col3\" >CSCO</td>\n",
       "    </tr>\n",
       "    <tr>\n",
       "      <td id=\"T_47600_row8_col0\" class=\"data row8 col0\" >2016-10-05</td>\n",
       "      <td id=\"T_47600_row8_col1\" class=\"data row8 col1\" >$113.05</td>\n",
       "      <td id=\"T_47600_row8_col2\" class=\"data row8 col2\" >21,453,100</td>\n",
       "      <td id=\"T_47600_row8_col3\" class=\"data row8 col3\" >AAPL</td>\n",
       "    </tr>\n",
       "  </tbody>\n",
       "</table>\n"
      ]
     },
     "execution_count": 34,
     "metadata": {},
     "output_type": "execute_result"
    }
   ],
   "execution_count": 34
  },
  {
   "metadata": {
    "ExecuteTime": {
     "end_time": "2025-09-27T06:36:54.891574Z",
     "start_time": "2025-09-27T06:36:54.886366Z"
    }
   },
   "cell_type": "code",
   "source": [
    "(dft05.style.format(formatter)\n",
    " .hide(axis='index')\n",
    " .bar('Volume', color='lightblue', align='right')\n",
    " )"
   ],
   "id": "560691bf09d59a45",
   "outputs": [
    {
     "data": {
      "text/plain": [
       "<pandas.io.formats.style.Styler at 0x175232b4a50>"
      ],
      "text/html": [
       "<style type=\"text/css\">\n",
       "#T_0735e_row0_col2 {\n",
       "  width: 10em;\n",
       "  background: linear-gradient(90deg, transparent 12.6%, lightblue 12.6%, lightblue 100.0%, transparent 100.0%);\n",
       "}\n",
       "#T_0735e_row1_col2 {\n",
       "  width: 10em;\n",
       "  background: linear-gradient(90deg, transparent 55.2%, lightblue 55.2%, lightblue 100.0%, transparent 100.0%);\n",
       "}\n",
       "#T_0735e_row2_col2 {\n",
       "  width: 10em;\n",
       "  background: linear-gradient(90deg, transparent 41.2%, lightblue 41.2%, lightblue 100.0%, transparent 100.0%);\n",
       "}\n",
       "#T_0735e_row3_col2 {\n",
       "  width: 10em;\n",
       "}\n",
       "#T_0735e_row4_col2 {\n",
       "  width: 10em;\n",
       "  background: linear-gradient(90deg, transparent 46.2%, lightblue 46.2%, lightblue 100.0%, transparent 100.0%);\n",
       "}\n",
       "#T_0735e_row5_col2 {\n",
       "  width: 10em;\n",
       "  background: linear-gradient(90deg, transparent 37.1%, lightblue 37.1%, lightblue 100.0%, transparent 100.0%);\n",
       "}\n",
       "#T_0735e_row6_col2 {\n",
       "  width: 10em;\n",
       "  background: linear-gradient(90deg, transparent 27.4%, lightblue 27.4%, lightblue 100.0%, transparent 100.0%);\n",
       "}\n",
       "#T_0735e_row7_col2 {\n",
       "  width: 10em;\n",
       "  background: linear-gradient(90deg, lightblue 100.0%, transparent 100.0%);\n",
       "}\n",
       "#T_0735e_row8_col2 {\n",
       "  width: 10em;\n",
       "  background: linear-gradient(90deg, transparent 53.8%, lightblue 53.8%, lightblue 100.0%, transparent 100.0%);\n",
       "}\n",
       "</style>\n",
       "<table id=\"T_0735e\">\n",
       "  <thead>\n",
       "    <tr>\n",
       "      <th id=\"T_0735e_level0_col0\" class=\"col_heading level0 col0\" >Date</th>\n",
       "      <th id=\"T_0735e_level0_col1\" class=\"col_heading level0 col1\" >Close</th>\n",
       "      <th id=\"T_0735e_level0_col2\" class=\"col_heading level0 col2\" >Volume</th>\n",
       "      <th id=\"T_0735e_level0_col3\" class=\"col_heading level0 col3\" >Symbol</th>\n",
       "    </tr>\n",
       "  </thead>\n",
       "  <tbody>\n",
       "    <tr>\n",
       "      <td id=\"T_0735e_row0_col0\" class=\"data row0 col0\" >2016-10-03</td>\n",
       "      <td id=\"T_0735e_row0_col1\" class=\"data row0 col1\" >$31.50</td>\n",
       "      <td id=\"T_0735e_row0_col2\" class=\"data row0 col2\" >14,070,500</td>\n",
       "      <td id=\"T_0735e_row0_col3\" class=\"data row0 col3\" >CSCO</td>\n",
       "    </tr>\n",
       "    <tr>\n",
       "      <td id=\"T_0735e_row1_col0\" class=\"data row1 col0\" >2016-10-03</td>\n",
       "      <td id=\"T_0735e_row1_col1\" class=\"data row1 col1\" >$112.52</td>\n",
       "      <td id=\"T_0735e_row1_col2\" class=\"data row1 col2\" >21,701,800</td>\n",
       "      <td id=\"T_0735e_row1_col3\" class=\"data row1 col3\" >AAPL</td>\n",
       "    </tr>\n",
       "    <tr>\n",
       "      <td id=\"T_0735e_row2_col0\" class=\"data row2 col0\" >2016-10-03</td>\n",
       "      <td id=\"T_0735e_row2_col1\" class=\"data row2 col1\" >$57.42</td>\n",
       "      <td id=\"T_0735e_row2_col2\" class=\"data row2 col2\" >19,189,500</td>\n",
       "      <td id=\"T_0735e_row2_col3\" class=\"data row2 col3\" >MSFT</td>\n",
       "    </tr>\n",
       "    <tr>\n",
       "      <td id=\"T_0735e_row3_col0\" class=\"data row3 col0\" >2016-10-04</td>\n",
       "      <td id=\"T_0735e_row3_col1\" class=\"data row3 col1\" >$113.00</td>\n",
       "      <td id=\"T_0735e_row3_col2\" class=\"data row3 col2\" >29,736,800</td>\n",
       "      <td id=\"T_0735e_row3_col3\" class=\"data row3 col3\" >AAPL</td>\n",
       "    </tr>\n",
       "    <tr>\n",
       "      <td id=\"T_0735e_row4_col0\" class=\"data row4 col0\" >2016-10-04</td>\n",
       "      <td id=\"T_0735e_row4_col1\" class=\"data row4 col1\" >$57.24</td>\n",
       "      <td id=\"T_0735e_row4_col2\" class=\"data row4 col2\" >20,085,900</td>\n",
       "      <td id=\"T_0735e_row4_col3\" class=\"data row4 col3\" >MSFT</td>\n",
       "    </tr>\n",
       "    <tr>\n",
       "      <td id=\"T_0735e_row5_col0\" class=\"data row5 col0\" >2016-10-04</td>\n",
       "      <td id=\"T_0735e_row5_col1\" class=\"data row5 col1\" >$31.35</td>\n",
       "      <td id=\"T_0735e_row5_col2\" class=\"data row5 col2\" >18,460,400</td>\n",
       "      <td id=\"T_0735e_row5_col3\" class=\"data row5 col3\" >CSCO</td>\n",
       "    </tr>\n",
       "    <tr>\n",
       "      <td id=\"T_0735e_row6_col0\" class=\"data row6 col0\" >2016-10-05</td>\n",
       "      <td id=\"T_0735e_row6_col1\" class=\"data row6 col1\" >$57.64</td>\n",
       "      <td id=\"T_0735e_row6_col2\" class=\"data row6 col2\" >16,726,400</td>\n",
       "      <td id=\"T_0735e_row6_col3\" class=\"data row6 col3\" >MSFT</td>\n",
       "    </tr>\n",
       "    <tr>\n",
       "      <td id=\"T_0735e_row7_col0\" class=\"data row7 col0\" >2016-10-05</td>\n",
       "      <td id=\"T_0735e_row7_col1\" class=\"data row7 col1\" >$31.59</td>\n",
       "      <td id=\"T_0735e_row7_col2\" class=\"data row7 col2\" >11,808,600</td>\n",
       "      <td id=\"T_0735e_row7_col3\" class=\"data row7 col3\" >CSCO</td>\n",
       "    </tr>\n",
       "    <tr>\n",
       "      <td id=\"T_0735e_row8_col0\" class=\"data row8 col0\" >2016-10-05</td>\n",
       "      <td id=\"T_0735e_row8_col1\" class=\"data row8 col1\" >$113.05</td>\n",
       "      <td id=\"T_0735e_row8_col2\" class=\"data row8 col2\" >21,453,100</td>\n",
       "      <td id=\"T_0735e_row8_col3\" class=\"data row8 col3\" >AAPL</td>\n",
       "    </tr>\n",
       "  </tbody>\n",
       "</table>\n"
      ]
     },
     "execution_count": 35,
     "metadata": {},
     "output_type": "execute_result"
    }
   ],
   "execution_count": 35
  },
  {
   "metadata": {
    "ExecuteTime": {
     "end_time": "2025-09-27T06:36:54.911143Z",
     "start_time": "2025-09-27T06:36:54.905478Z"
    }
   },
   "cell_type": "code",
   "source": [
    "(dft05.style.format(formatter)\n",
    " .hide(axis='index')\n",
    " .bar('Volume', color='lightblue', align='zero')\n",
    " .set_caption('Volume from 2008')\n",
    " )"
   ],
   "id": "e2dfc6a63873a60",
   "outputs": [
    {
     "data": {
      "text/plain": [
       "<pandas.io.formats.style.Styler at 0x17521f25a90>"
      ],
      "text/html": [
       "<style type=\"text/css\">\n",
       "#T_3dcd0_row0_col2 {\n",
       "  width: 10em;\n",
       "  background: linear-gradient(90deg, transparent 50.0%, lightblue 50.0%, lightblue 73.7%, transparent 73.7%);\n",
       "}\n",
       "#T_3dcd0_row1_col2 {\n",
       "  width: 10em;\n",
       "  background: linear-gradient(90deg, transparent 50.0%, lightblue 50.0%, lightblue 86.5%, transparent 86.5%);\n",
       "}\n",
       "#T_3dcd0_row2_col2 {\n",
       "  width: 10em;\n",
       "  background: linear-gradient(90deg, transparent 50.0%, lightblue 50.0%, lightblue 82.3%, transparent 82.3%);\n",
       "}\n",
       "#T_3dcd0_row3_col2 {\n",
       "  width: 10em;\n",
       "  background: linear-gradient(90deg, transparent 50.0%, lightblue 50.0%, lightblue 100.0%, transparent 100.0%);\n",
       "}\n",
       "#T_3dcd0_row4_col2 {\n",
       "  width: 10em;\n",
       "  background: linear-gradient(90deg, transparent 50.0%, lightblue 50.0%, lightblue 83.8%, transparent 83.8%);\n",
       "}\n",
       "#T_3dcd0_row5_col2 {\n",
       "  width: 10em;\n",
       "  background: linear-gradient(90deg, transparent 50.0%, lightblue 50.0%, lightblue 81.0%, transparent 81.0%);\n",
       "}\n",
       "#T_3dcd0_row6_col2 {\n",
       "  width: 10em;\n",
       "  background: linear-gradient(90deg, transparent 50.0%, lightblue 50.0%, lightblue 78.1%, transparent 78.1%);\n",
       "}\n",
       "#T_3dcd0_row7_col2 {\n",
       "  width: 10em;\n",
       "  background: linear-gradient(90deg, transparent 50.0%, lightblue 50.0%, lightblue 69.9%, transparent 69.9%);\n",
       "}\n",
       "#T_3dcd0_row8_col2 {\n",
       "  width: 10em;\n",
       "  background: linear-gradient(90deg, transparent 50.0%, lightblue 50.0%, lightblue 86.1%, transparent 86.1%);\n",
       "}\n",
       "</style>\n",
       "<table id=\"T_3dcd0\">\n",
       "  <caption>Volume from 2008</caption>\n",
       "  <thead>\n",
       "    <tr>\n",
       "      <th id=\"T_3dcd0_level0_col0\" class=\"col_heading level0 col0\" >Date</th>\n",
       "      <th id=\"T_3dcd0_level0_col1\" class=\"col_heading level0 col1\" >Close</th>\n",
       "      <th id=\"T_3dcd0_level0_col2\" class=\"col_heading level0 col2\" >Volume</th>\n",
       "      <th id=\"T_3dcd0_level0_col3\" class=\"col_heading level0 col3\" >Symbol</th>\n",
       "    </tr>\n",
       "  </thead>\n",
       "  <tbody>\n",
       "    <tr>\n",
       "      <td id=\"T_3dcd0_row0_col0\" class=\"data row0 col0\" >2016-10-03</td>\n",
       "      <td id=\"T_3dcd0_row0_col1\" class=\"data row0 col1\" >$31.50</td>\n",
       "      <td id=\"T_3dcd0_row0_col2\" class=\"data row0 col2\" >14,070,500</td>\n",
       "      <td id=\"T_3dcd0_row0_col3\" class=\"data row0 col3\" >CSCO</td>\n",
       "    </tr>\n",
       "    <tr>\n",
       "      <td id=\"T_3dcd0_row1_col0\" class=\"data row1 col0\" >2016-10-03</td>\n",
       "      <td id=\"T_3dcd0_row1_col1\" class=\"data row1 col1\" >$112.52</td>\n",
       "      <td id=\"T_3dcd0_row1_col2\" class=\"data row1 col2\" >21,701,800</td>\n",
       "      <td id=\"T_3dcd0_row1_col3\" class=\"data row1 col3\" >AAPL</td>\n",
       "    </tr>\n",
       "    <tr>\n",
       "      <td id=\"T_3dcd0_row2_col0\" class=\"data row2 col0\" >2016-10-03</td>\n",
       "      <td id=\"T_3dcd0_row2_col1\" class=\"data row2 col1\" >$57.42</td>\n",
       "      <td id=\"T_3dcd0_row2_col2\" class=\"data row2 col2\" >19,189,500</td>\n",
       "      <td id=\"T_3dcd0_row2_col3\" class=\"data row2 col3\" >MSFT</td>\n",
       "    </tr>\n",
       "    <tr>\n",
       "      <td id=\"T_3dcd0_row3_col0\" class=\"data row3 col0\" >2016-10-04</td>\n",
       "      <td id=\"T_3dcd0_row3_col1\" class=\"data row3 col1\" >$113.00</td>\n",
       "      <td id=\"T_3dcd0_row3_col2\" class=\"data row3 col2\" >29,736,800</td>\n",
       "      <td id=\"T_3dcd0_row3_col3\" class=\"data row3 col3\" >AAPL</td>\n",
       "    </tr>\n",
       "    <tr>\n",
       "      <td id=\"T_3dcd0_row4_col0\" class=\"data row4 col0\" >2016-10-04</td>\n",
       "      <td id=\"T_3dcd0_row4_col1\" class=\"data row4 col1\" >$57.24</td>\n",
       "      <td id=\"T_3dcd0_row4_col2\" class=\"data row4 col2\" >20,085,900</td>\n",
       "      <td id=\"T_3dcd0_row4_col3\" class=\"data row4 col3\" >MSFT</td>\n",
       "    </tr>\n",
       "    <tr>\n",
       "      <td id=\"T_3dcd0_row5_col0\" class=\"data row5 col0\" >2016-10-04</td>\n",
       "      <td id=\"T_3dcd0_row5_col1\" class=\"data row5 col1\" >$31.35</td>\n",
       "      <td id=\"T_3dcd0_row5_col2\" class=\"data row5 col2\" >18,460,400</td>\n",
       "      <td id=\"T_3dcd0_row5_col3\" class=\"data row5 col3\" >CSCO</td>\n",
       "    </tr>\n",
       "    <tr>\n",
       "      <td id=\"T_3dcd0_row6_col0\" class=\"data row6 col0\" >2016-10-05</td>\n",
       "      <td id=\"T_3dcd0_row6_col1\" class=\"data row6 col1\" >$57.64</td>\n",
       "      <td id=\"T_3dcd0_row6_col2\" class=\"data row6 col2\" >16,726,400</td>\n",
       "      <td id=\"T_3dcd0_row6_col3\" class=\"data row6 col3\" >MSFT</td>\n",
       "    </tr>\n",
       "    <tr>\n",
       "      <td id=\"T_3dcd0_row7_col0\" class=\"data row7 col0\" >2016-10-05</td>\n",
       "      <td id=\"T_3dcd0_row7_col1\" class=\"data row7 col1\" >$31.59</td>\n",
       "      <td id=\"T_3dcd0_row7_col2\" class=\"data row7 col2\" >11,808,600</td>\n",
       "      <td id=\"T_3dcd0_row7_col3\" class=\"data row7 col3\" >CSCO</td>\n",
       "    </tr>\n",
       "    <tr>\n",
       "      <td id=\"T_3dcd0_row8_col0\" class=\"data row8 col0\" >2016-10-05</td>\n",
       "      <td id=\"T_3dcd0_row8_col1\" class=\"data row8 col1\" >$113.05</td>\n",
       "      <td id=\"T_3dcd0_row8_col2\" class=\"data row8 col2\" >21,453,100</td>\n",
       "      <td id=\"T_3dcd0_row8_col3\" class=\"data row8 col3\" >AAPL</td>\n",
       "    </tr>\n",
       "  </tbody>\n",
       "</table>\n"
      ]
     },
     "execution_count": 36,
     "metadata": {},
     "output_type": "execute_result"
    }
   ],
   "execution_count": 36
  },
  {
   "metadata": {
    "ExecuteTime": {
     "end_time": "2025-09-27T06:36:54.925589Z",
     "start_time": "2025-09-27T06:36:54.924193Z"
    }
   },
   "cell_type": "code",
   "source": "",
   "id": "8d978b59d91c083d",
   "outputs": [],
   "execution_count": null
  },
  {
   "metadata": {},
   "cell_type": "markdown",
   "source": "### **~~Trick 06 - آشنایی با Pandas Profiling در Pandas~~ (UNUSED)**\n",
   "id": "98c9eb7b7a9e82bb"
  },
  {
   "metadata": {},
   "cell_type": "markdown",
   "source": "### **Trick 07- نحوه تغییر نام ستون ها در Pandas**",
   "id": "5e35a412e1b7cf27"
  },
  {
   "metadata": {
    "ExecuteTime": {
     "end_time": "2025-09-27T06:36:54.959939Z",
     "start_time": "2025-09-27T06:36:54.950838Z"
    }
   },
   "cell_type": "code",
   "source": [
    "dft07 = pd.DataFrame(np.random.randn(10,5))\n",
    "print(dft07)"
   ],
   "id": "b9b442f2c3063d52",
   "outputs": [
    {
     "name": "stdout",
     "output_type": "stream",
     "text": [
      "          0         1         2         3         4\n",
      "0 -0.892097  1.267455  0.235089  0.550880  1.621099\n",
      "1  0.092840 -0.379838 -0.021919 -1.600641 -0.961135\n",
      "2  0.786946  1.665428  1.857318  0.888909  0.385097\n",
      "3  0.221591  0.880539  2.797839 -0.008963 -1.321481\n",
      "4  0.114247  1.162167 -0.003202  2.277567  1.520937\n",
      "5 -0.532978 -0.461919 -1.210450  0.506461  1.736144\n",
      "6 -1.692603 -0.073881  0.869393  0.243543  1.405118\n",
      "7  0.803114 -1.487133 -0.491873 -1.136673  1.152349\n",
      "8  0.412049  0.225180 -0.360126 -0.242780  0.393273\n",
      "9  0.296039  0.192912 -0.444678  0.914465  0.850687\n"
     ]
    }
   ],
   "execution_count": 37
  },
  {
   "metadata": {
    "ExecuteTime": {
     "end_time": "2025-09-27T06:36:54.984223Z",
     "start_time": "2025-09-27T06:36:54.977817Z"
    }
   },
   "cell_type": "code",
   "source": [
    "dft07 = pd.DataFrame(np.random.randn(10,5), columns=['A', 'B', 'C', 'D','F'])\n",
    "# or dft07 = pd.DataFrame(np.random.randn(10,5), columns=list('ABCDF'))\n",
    "dft07"
   ],
   "id": "2acbf96f1d8ce5c9",
   "outputs": [
    {
     "data": {
      "text/plain": [
       "          A         B         C         D         F\n",
       "0  0.523718  1.141141  0.168832  0.064013  0.517984\n",
       "1 -1.753680 -1.427573  0.255800 -0.169428 -1.739495\n",
       "2 -0.530400 -1.624907  0.492141 -1.428845 -0.488692\n",
       "3  1.621845 -0.697485 -0.505472 -0.055670  1.098212\n",
       "4  0.207744 -0.499553 -2.287791 -1.430812 -0.562666\n",
       "5 -0.854930  1.250718  0.902021 -0.761801 -0.338170\n",
       "6 -0.700013 -0.760339 -0.916403 -0.756395 -0.133621\n",
       "7 -2.677391  0.012865  1.497091 -1.388574  0.278858\n",
       "8  0.124503  1.725540  0.884826 -1.143330 -1.089736\n",
       "9 -1.343811 -0.285199  0.047016  0.409332 -0.391059"
      ],
      "text/html": [
       "<div>\n",
       "<style scoped>\n",
       "    .dataframe tbody tr th:only-of-type {\n",
       "        vertical-align: middle;\n",
       "    }\n",
       "\n",
       "    .dataframe tbody tr th {\n",
       "        vertical-align: top;\n",
       "    }\n",
       "\n",
       "    .dataframe thead th {\n",
       "        text-align: right;\n",
       "    }\n",
       "</style>\n",
       "<table border=\"1\" class=\"dataframe\">\n",
       "  <thead>\n",
       "    <tr style=\"text-align: right;\">\n",
       "      <th></th>\n",
       "      <th>A</th>\n",
       "      <th>B</th>\n",
       "      <th>C</th>\n",
       "      <th>D</th>\n",
       "      <th>F</th>\n",
       "    </tr>\n",
       "  </thead>\n",
       "  <tbody>\n",
       "    <tr>\n",
       "      <th>0</th>\n",
       "      <td>0.523718</td>\n",
       "      <td>1.141141</td>\n",
       "      <td>0.168832</td>\n",
       "      <td>0.064013</td>\n",
       "      <td>0.517984</td>\n",
       "    </tr>\n",
       "    <tr>\n",
       "      <th>1</th>\n",
       "      <td>-1.753680</td>\n",
       "      <td>-1.427573</td>\n",
       "      <td>0.255800</td>\n",
       "      <td>-0.169428</td>\n",
       "      <td>-1.739495</td>\n",
       "    </tr>\n",
       "    <tr>\n",
       "      <th>2</th>\n",
       "      <td>-0.530400</td>\n",
       "      <td>-1.624907</td>\n",
       "      <td>0.492141</td>\n",
       "      <td>-1.428845</td>\n",
       "      <td>-0.488692</td>\n",
       "    </tr>\n",
       "    <tr>\n",
       "      <th>3</th>\n",
       "      <td>1.621845</td>\n",
       "      <td>-0.697485</td>\n",
       "      <td>-0.505472</td>\n",
       "      <td>-0.055670</td>\n",
       "      <td>1.098212</td>\n",
       "    </tr>\n",
       "    <tr>\n",
       "      <th>4</th>\n",
       "      <td>0.207744</td>\n",
       "      <td>-0.499553</td>\n",
       "      <td>-2.287791</td>\n",
       "      <td>-1.430812</td>\n",
       "      <td>-0.562666</td>\n",
       "    </tr>\n",
       "    <tr>\n",
       "      <th>5</th>\n",
       "      <td>-0.854930</td>\n",
       "      <td>1.250718</td>\n",
       "      <td>0.902021</td>\n",
       "      <td>-0.761801</td>\n",
       "      <td>-0.338170</td>\n",
       "    </tr>\n",
       "    <tr>\n",
       "      <th>6</th>\n",
       "      <td>-0.700013</td>\n",
       "      <td>-0.760339</td>\n",
       "      <td>-0.916403</td>\n",
       "      <td>-0.756395</td>\n",
       "      <td>-0.133621</td>\n",
       "    </tr>\n",
       "    <tr>\n",
       "      <th>7</th>\n",
       "      <td>-2.677391</td>\n",
       "      <td>0.012865</td>\n",
       "      <td>1.497091</td>\n",
       "      <td>-1.388574</td>\n",
       "      <td>0.278858</td>\n",
       "    </tr>\n",
       "    <tr>\n",
       "      <th>8</th>\n",
       "      <td>0.124503</td>\n",
       "      <td>1.725540</td>\n",
       "      <td>0.884826</td>\n",
       "      <td>-1.143330</td>\n",
       "      <td>-1.089736</td>\n",
       "    </tr>\n",
       "    <tr>\n",
       "      <th>9</th>\n",
       "      <td>-1.343811</td>\n",
       "      <td>-0.285199</td>\n",
       "      <td>0.047016</td>\n",
       "      <td>0.409332</td>\n",
       "      <td>-0.391059</td>\n",
       "    </tr>\n",
       "  </tbody>\n",
       "</table>\n",
       "</div>"
      ]
     },
     "execution_count": 38,
     "metadata": {},
     "output_type": "execute_result"
    }
   ],
   "execution_count": 38
  },
  {
   "metadata": {},
   "cell_type": "markdown",
   "source": "**Another Solution**",
   "id": "41c3ab06f97064f"
  },
  {
   "metadata": {
    "ExecuteTime": {
     "end_time": "2025-09-27T06:36:54.995029Z",
     "start_time": "2025-09-27T06:36:54.990015Z"
    }
   },
   "cell_type": "code",
   "source": [
    "dft07 = pd.DataFrame({'ستون یک': [10,20],'ستون دو': [20,30]})\n",
    "dft07\n"
   ],
   "id": "7908c37c230a1873",
   "outputs": [
    {
     "data": {
      "text/plain": [
       "   ستون یک  ستون دو\n",
       "0       10       20\n",
       "1       20       30"
      ],
      "text/html": [
       "<div>\n",
       "<style scoped>\n",
       "    .dataframe tbody tr th:only-of-type {\n",
       "        vertical-align: middle;\n",
       "    }\n",
       "\n",
       "    .dataframe tbody tr th {\n",
       "        vertical-align: top;\n",
       "    }\n",
       "\n",
       "    .dataframe thead th {\n",
       "        text-align: right;\n",
       "    }\n",
       "</style>\n",
       "<table border=\"1\" class=\"dataframe\">\n",
       "  <thead>\n",
       "    <tr style=\"text-align: right;\">\n",
       "      <th></th>\n",
       "      <th>ستون یک</th>\n",
       "      <th>ستون دو</th>\n",
       "    </tr>\n",
       "  </thead>\n",
       "  <tbody>\n",
       "    <tr>\n",
       "      <th>0</th>\n",
       "      <td>10</td>\n",
       "      <td>20</td>\n",
       "    </tr>\n",
       "    <tr>\n",
       "      <th>1</th>\n",
       "      <td>20</td>\n",
       "      <td>30</td>\n",
       "    </tr>\n",
       "  </tbody>\n",
       "</table>\n",
       "</div>"
      ]
     },
     "execution_count": 39,
     "metadata": {},
     "output_type": "execute_result"
    }
   ],
   "execution_count": 39
  },
  {
   "metadata": {},
   "cell_type": "markdown",
   "source": "#### a) روش اول",
   "id": "216bede05aa4f76a"
  },
  {
   "metadata": {
    "ExecuteTime": {
     "end_time": "2025-09-27T06:36:55.026538Z",
     "start_time": "2025-09-27T06:36:55.022329Z"
    }
   },
   "cell_type": "code",
   "source": [
    "dft07 = dft07.rename({'ستون یک' : 'columns1', 'ستون دو' : 'columns2'}, axis='columns')\n",
    "dft07"
   ],
   "id": "f1e92b0342360695",
   "outputs": [
    {
     "data": {
      "text/plain": [
       "   columns1  columns2\n",
       "0        10        20\n",
       "1        20        30"
      ],
      "text/html": [
       "<div>\n",
       "<style scoped>\n",
       "    .dataframe tbody tr th:only-of-type {\n",
       "        vertical-align: middle;\n",
       "    }\n",
       "\n",
       "    .dataframe tbody tr th {\n",
       "        vertical-align: top;\n",
       "    }\n",
       "\n",
       "    .dataframe thead th {\n",
       "        text-align: right;\n",
       "    }\n",
       "</style>\n",
       "<table border=\"1\" class=\"dataframe\">\n",
       "  <thead>\n",
       "    <tr style=\"text-align: right;\">\n",
       "      <th></th>\n",
       "      <th>columns1</th>\n",
       "      <th>columns2</th>\n",
       "    </tr>\n",
       "  </thead>\n",
       "  <tbody>\n",
       "    <tr>\n",
       "      <th>0</th>\n",
       "      <td>10</td>\n",
       "      <td>20</td>\n",
       "    </tr>\n",
       "    <tr>\n",
       "      <th>1</th>\n",
       "      <td>20</td>\n",
       "      <td>30</td>\n",
       "    </tr>\n",
       "  </tbody>\n",
       "</table>\n",
       "</div>"
      ]
     },
     "execution_count": 40,
     "metadata": {},
     "output_type": "execute_result"
    }
   ],
   "execution_count": 40
  },
  {
   "metadata": {},
   "cell_type": "markdown",
   "source": "#### b) روش دوم",
   "id": "35f4ae15588b1a09"
  },
  {
   "metadata": {
    "ExecuteTime": {
     "end_time": "2025-09-27T06:36:55.048018Z",
     "start_time": "2025-09-27T06:36:55.043315Z"
    }
   },
   "cell_type": "code",
   "source": [
    "dft07.columns = ['colu_1','colu_2']\n",
    "dft07"
   ],
   "id": "52679ee016ce4589",
   "outputs": [
    {
     "data": {
      "text/plain": [
       "   colu_1  colu_2\n",
       "0      10      20\n",
       "1      20      30"
      ],
      "text/html": [
       "<div>\n",
       "<style scoped>\n",
       "    .dataframe tbody tr th:only-of-type {\n",
       "        vertical-align: middle;\n",
       "    }\n",
       "\n",
       "    .dataframe tbody tr th {\n",
       "        vertical-align: top;\n",
       "    }\n",
       "\n",
       "    .dataframe thead th {\n",
       "        text-align: right;\n",
       "    }\n",
       "</style>\n",
       "<table border=\"1\" class=\"dataframe\">\n",
       "  <thead>\n",
       "    <tr style=\"text-align: right;\">\n",
       "      <th></th>\n",
       "      <th>colu_1</th>\n",
       "      <th>colu_2</th>\n",
       "    </tr>\n",
       "  </thead>\n",
       "  <tbody>\n",
       "    <tr>\n",
       "      <th>0</th>\n",
       "      <td>10</td>\n",
       "      <td>20</td>\n",
       "    </tr>\n",
       "    <tr>\n",
       "      <th>1</th>\n",
       "      <td>20</td>\n",
       "      <td>30</td>\n",
       "    </tr>\n",
       "  </tbody>\n",
       "</table>\n",
       "</div>"
      ]
     },
     "execution_count": 41,
     "metadata": {},
     "output_type": "execute_result"
    }
   ],
   "execution_count": 41
  },
  {
   "metadata": {},
   "cell_type": "markdown",
   "source": "#### c)  **STR Replace**",
   "id": "940ebeb2fcb5a851"
  },
  {
   "metadata": {
    "ExecuteTime": {
     "end_time": "2025-09-27T06:36:55.070706Z",
     "start_time": "2025-09-27T06:36:55.066454Z"
    }
   },
   "cell_type": "code",
   "source": [
    "dft07.columns = dft07.columns.str.replace('_',' ')\n",
    "dft07"
   ],
   "id": "88b63613f639ffe",
   "outputs": [
    {
     "data": {
      "text/plain": [
       "   colu 1  colu 2\n",
       "0      10      20\n",
       "1      20      30"
      ],
      "text/html": [
       "<div>\n",
       "<style scoped>\n",
       "    .dataframe tbody tr th:only-of-type {\n",
       "        vertical-align: middle;\n",
       "    }\n",
       "\n",
       "    .dataframe tbody tr th {\n",
       "        vertical-align: top;\n",
       "    }\n",
       "\n",
       "    .dataframe thead th {\n",
       "        text-align: right;\n",
       "    }\n",
       "</style>\n",
       "<table border=\"1\" class=\"dataframe\">\n",
       "  <thead>\n",
       "    <tr style=\"text-align: right;\">\n",
       "      <th></th>\n",
       "      <th>colu 1</th>\n",
       "      <th>colu 2</th>\n",
       "    </tr>\n",
       "  </thead>\n",
       "  <tbody>\n",
       "    <tr>\n",
       "      <th>0</th>\n",
       "      <td>10</td>\n",
       "      <td>20</td>\n",
       "    </tr>\n",
       "    <tr>\n",
       "      <th>1</th>\n",
       "      <td>20</td>\n",
       "      <td>30</td>\n",
       "    </tr>\n",
       "  </tbody>\n",
       "</table>\n",
       "</div>"
      ]
     },
     "execution_count": 42,
     "metadata": {},
     "output_type": "execute_result"
    }
   ],
   "execution_count": 42
  },
  {
   "metadata": {
    "ExecuteTime": {
     "end_time": "2025-09-27T06:36:55.091722Z",
     "start_time": "2025-09-27T06:36:55.087493Z"
    }
   },
   "cell_type": "code",
   "source": [
    "dft07.columns = dft07.columns.str.replace('colu','column')\n",
    "dft07"
   ],
   "id": "980ff09ef80807eb",
   "outputs": [
    {
     "data": {
      "text/plain": [
       "   column 1  column 2\n",
       "0        10        20\n",
       "1        20        30"
      ],
      "text/html": [
       "<div>\n",
       "<style scoped>\n",
       "    .dataframe tbody tr th:only-of-type {\n",
       "        vertical-align: middle;\n",
       "    }\n",
       "\n",
       "    .dataframe tbody tr th {\n",
       "        vertical-align: top;\n",
       "    }\n",
       "\n",
       "    .dataframe thead th {\n",
       "        text-align: right;\n",
       "    }\n",
       "</style>\n",
       "<table border=\"1\" class=\"dataframe\">\n",
       "  <thead>\n",
       "    <tr style=\"text-align: right;\">\n",
       "      <th></th>\n",
       "      <th>column 1</th>\n",
       "      <th>column 2</th>\n",
       "    </tr>\n",
       "  </thead>\n",
       "  <tbody>\n",
       "    <tr>\n",
       "      <th>0</th>\n",
       "      <td>10</td>\n",
       "      <td>20</td>\n",
       "    </tr>\n",
       "    <tr>\n",
       "      <th>1</th>\n",
       "      <td>20</td>\n",
       "      <td>30</td>\n",
       "    </tr>\n",
       "  </tbody>\n",
       "</table>\n",
       "</div>"
      ]
     },
     "execution_count": 43,
     "metadata": {},
     "output_type": "execute_result"
    }
   ],
   "execution_count": 43
  },
  {
   "metadata": {},
   "cell_type": "markdown",
   "source": "#### d) اضافه کردن به اول و اخر اسم ها",
   "id": "ca994d1cfc4042ad"
  },
  {
   "metadata": {
    "ExecuteTime": {
     "end_time": "2025-09-27T06:36:55.116826Z",
     "start_time": "2025-09-27T06:36:55.112418Z"
    }
   },
   "cell_type": "code",
   "source": "dft07.add_prefix('x_')",
   "id": "1935b738702d3492",
   "outputs": [
    {
     "data": {
      "text/plain": [
       "   x_column 1  x_column 2\n",
       "0          10          20\n",
       "1          20          30"
      ],
      "text/html": [
       "<div>\n",
       "<style scoped>\n",
       "    .dataframe tbody tr th:only-of-type {\n",
       "        vertical-align: middle;\n",
       "    }\n",
       "\n",
       "    .dataframe tbody tr th {\n",
       "        vertical-align: top;\n",
       "    }\n",
       "\n",
       "    .dataframe thead th {\n",
       "        text-align: right;\n",
       "    }\n",
       "</style>\n",
       "<table border=\"1\" class=\"dataframe\">\n",
       "  <thead>\n",
       "    <tr style=\"text-align: right;\">\n",
       "      <th></th>\n",
       "      <th>x_column 1</th>\n",
       "      <th>x_column 2</th>\n",
       "    </tr>\n",
       "  </thead>\n",
       "  <tbody>\n",
       "    <tr>\n",
       "      <th>0</th>\n",
       "      <td>10</td>\n",
       "      <td>20</td>\n",
       "    </tr>\n",
       "    <tr>\n",
       "      <th>1</th>\n",
       "      <td>20</td>\n",
       "      <td>30</td>\n",
       "    </tr>\n",
       "  </tbody>\n",
       "</table>\n",
       "</div>"
      ]
     },
     "execution_count": 44,
     "metadata": {},
     "output_type": "execute_result"
    }
   ],
   "execution_count": 44
  },
  {
   "metadata": {
    "ExecuteTime": {
     "end_time": "2025-09-27T06:36:55.138496Z",
     "start_time": "2025-09-27T06:36:55.134629Z"
    }
   },
   "cell_type": "code",
   "source": "dft07.add_suffix('_y')",
   "id": "6e38ee020ca3c0d6",
   "outputs": [
    {
     "data": {
      "text/plain": [
       "   column 1_y  column 2_y\n",
       "0          10          20\n",
       "1          20          30"
      ],
      "text/html": [
       "<div>\n",
       "<style scoped>\n",
       "    .dataframe tbody tr th:only-of-type {\n",
       "        vertical-align: middle;\n",
       "    }\n",
       "\n",
       "    .dataframe tbody tr th {\n",
       "        vertical-align: top;\n",
       "    }\n",
       "\n",
       "    .dataframe thead th {\n",
       "        text-align: right;\n",
       "    }\n",
       "</style>\n",
       "<table border=\"1\" class=\"dataframe\">\n",
       "  <thead>\n",
       "    <tr style=\"text-align: right;\">\n",
       "      <th></th>\n",
       "      <th>column 1_y</th>\n",
       "      <th>column 2_y</th>\n",
       "    </tr>\n",
       "  </thead>\n",
       "  <tbody>\n",
       "    <tr>\n",
       "      <th>0</th>\n",
       "      <td>10</td>\n",
       "      <td>20</td>\n",
       "    </tr>\n",
       "    <tr>\n",
       "      <th>1</th>\n",
       "      <td>20</td>\n",
       "      <td>30</td>\n",
       "    </tr>\n",
       "  </tbody>\n",
       "</table>\n",
       "</div>"
      ]
     },
     "execution_count": 45,
     "metadata": {},
     "output_type": "execute_result"
    }
   ],
   "execution_count": 45
  },
  {
   "metadata": {},
   "cell_type": "markdown",
   "source": "save changes",
   "id": "2fb7db7ea4241ad4"
  },
  {
   "metadata": {
    "ExecuteTime": {
     "end_time": "2025-09-27T06:36:55.158701Z",
     "start_time": "2025-09-27T06:36:55.155421Z"
    }
   },
   "cell_type": "code",
   "source": [
    "dft07 = dft07.add_prefix('x_')\n",
    "dft07 = dft07.add_suffix('_Y')\n",
    "print(dft07)"
   ],
   "id": "e737245f3af27fcd",
   "outputs": [
    {
     "name": "stdout",
     "output_type": "stream",
     "text": [
      "   x_column 1_Y  x_column 2_Y\n",
      "0            10            20\n",
      "1            20            30\n"
     ]
    }
   ],
   "execution_count": 46
  },
  {
   "metadata": {},
   "cell_type": "markdown",
   "source": "### Trick 08 - نحوه تشخیص برابر بودن ستون ها در Pandas",
   "id": "5a80d2868ad1430c"
  },
  {
   "metadata": {
    "ExecuteTime": {
     "end_time": "2025-09-27T06:36:55.180490Z",
     "start_time": "2025-09-27T06:36:55.175630Z"
    }
   },
   "cell_type": "code",
   "source": [
    "dft08 = pd.DataFrame({'First' : [12,24,44,np.nan], 'Sec' : [12,24,44,np.nan]})\n",
    "dft08\n"
   ],
   "id": "2669935a80e67399",
   "outputs": [
    {
     "data": {
      "text/plain": [
       "   First   Sec\n",
       "0   12.0  12.0\n",
       "1   24.0  24.0\n",
       "2   44.0  44.0\n",
       "3    NaN   NaN"
      ],
      "text/html": [
       "<div>\n",
       "<style scoped>\n",
       "    .dataframe tbody tr th:only-of-type {\n",
       "        vertical-align: middle;\n",
       "    }\n",
       "\n",
       "    .dataframe tbody tr th {\n",
       "        vertical-align: top;\n",
       "    }\n",
       "\n",
       "    .dataframe thead th {\n",
       "        text-align: right;\n",
       "    }\n",
       "</style>\n",
       "<table border=\"1\" class=\"dataframe\">\n",
       "  <thead>\n",
       "    <tr style=\"text-align: right;\">\n",
       "      <th></th>\n",
       "      <th>First</th>\n",
       "      <th>Sec</th>\n",
       "    </tr>\n",
       "  </thead>\n",
       "  <tbody>\n",
       "    <tr>\n",
       "      <th>0</th>\n",
       "      <td>12.0</td>\n",
       "      <td>12.0</td>\n",
       "    </tr>\n",
       "    <tr>\n",
       "      <th>1</th>\n",
       "      <td>24.0</td>\n",
       "      <td>24.0</td>\n",
       "    </tr>\n",
       "    <tr>\n",
       "      <th>2</th>\n",
       "      <td>44.0</td>\n",
       "      <td>44.0</td>\n",
       "    </tr>\n",
       "    <tr>\n",
       "      <th>3</th>\n",
       "      <td>NaN</td>\n",
       "      <td>NaN</td>\n",
       "    </tr>\n",
       "  </tbody>\n",
       "</table>\n",
       "</div>"
      ]
     },
     "execution_count": 47,
     "metadata": {},
     "output_type": "execute_result"
    }
   ],
   "execution_count": 47
  },
  {
   "metadata": {
    "ExecuteTime": {
     "end_time": "2025-09-27T06:36:55.201976Z",
     "start_time": "2025-09-27T06:36:55.199406Z"
    }
   },
   "cell_type": "code",
   "source": [
    "# دو ستون عملا مساوی هستن ولی دو nan هیچوقت مساوی نخواهند بود\n",
    "np.nan == np.nan"
   ],
   "id": "e06b91d33ce976bb",
   "outputs": [
    {
     "data": {
      "text/plain": [
       "False"
      ]
     },
     "execution_count": 48,
     "metadata": {},
     "output_type": "execute_result"
    }
   ],
   "execution_count": 48
  },
  {
   "metadata": {},
   "cell_type": "markdown",
   "source": "#### a)",
   "id": "30d31dc1d0ef3264"
  },
  {
   "metadata": {
    "ExecuteTime": {
     "end_time": "2025-09-27T06:36:55.222663Z",
     "start_time": "2025-09-27T06:36:55.219814Z"
    }
   },
   "cell_type": "code",
   "source": "dft08.First.equals(dft08.Sec)",
   "id": "58c8bd66966b1724",
   "outputs": [
    {
     "data": {
      "text/plain": [
       "True"
      ]
     },
     "execution_count": 49,
     "metadata": {},
     "output_type": "execute_result"
    }
   ],
   "execution_count": 49
  },
  {
   "metadata": {},
   "cell_type": "markdown",
   "source": "#### b)",
   "id": "60bf56ab0adcbb3b"
  },
  {
   "metadata": {
    "ExecuteTime": {
     "end_time": "2025-09-27T06:36:55.242716Z",
     "start_time": "2025-09-27T06:36:55.239066Z"
    }
   },
   "cell_type": "code",
   "source": [
    "dft08_new = dft08.copy()\n",
    "dft08_new.equals(dft08)"
   ],
   "id": "376e31097159a463",
   "outputs": [
    {
     "data": {
      "text/plain": [
       "True"
      ]
     },
     "execution_count": 50,
     "metadata": {},
     "output_type": "execute_result"
    }
   ],
   "execution_count": 50
  },
  {
   "metadata": {},
   "cell_type": "markdown",
   "source": "### Trick 09 - نحوه استفاده از تابع Query در Pandas",
   "id": "34d347c84a7adcf5"
  },
  {
   "metadata": {
    "ExecuteTime": {
     "end_time": "2025-09-27T06:36:55.272877Z",
     "start_time": "2025-09-27T06:36:55.270608Z"
    }
   },
   "cell_type": "code",
   "source": [
    "import warnings\n",
    "warnings.filterwarnings('ignore')"
   ],
   "id": "9326f8bfbdffc99e",
   "outputs": [],
   "execution_count": 51
  },
  {
   "metadata": {
    "ExecuteTime": {
     "end_time": "2025-09-27T06:36:55.297587Z",
     "start_time": "2025-09-27T06:36:55.291257Z"
    }
   },
   "cell_type": "code",
   "source": [
    "dft09 = pd.read_csv(\"../../00 DATA/stocks.csv\")\n",
    "dft09.head()"
   ],
   "id": "3a7f4a263e53c94a",
   "outputs": [
    {
     "data": {
      "text/plain": [
       "         Date   Close    Volume Symbol\n",
       "0  2016-10-03   31.50  14070500   CSCO\n",
       "1  2016-10-03  112.52  21701800   AAPL\n",
       "2  2016-10-03   57.42  19189500   MSFT\n",
       "3  2016-10-04  113.00  29736800   AAPL\n",
       "4  2016-10-04   57.24  20085900   MSFT"
      ],
      "text/html": [
       "<div>\n",
       "<style scoped>\n",
       "    .dataframe tbody tr th:only-of-type {\n",
       "        vertical-align: middle;\n",
       "    }\n",
       "\n",
       "    .dataframe tbody tr th {\n",
       "        vertical-align: top;\n",
       "    }\n",
       "\n",
       "    .dataframe thead th {\n",
       "        text-align: right;\n",
       "    }\n",
       "</style>\n",
       "<table border=\"1\" class=\"dataframe\">\n",
       "  <thead>\n",
       "    <tr style=\"text-align: right;\">\n",
       "      <th></th>\n",
       "      <th>Date</th>\n",
       "      <th>Close</th>\n",
       "      <th>Volume</th>\n",
       "      <th>Symbol</th>\n",
       "    </tr>\n",
       "  </thead>\n",
       "  <tbody>\n",
       "    <tr>\n",
       "      <th>0</th>\n",
       "      <td>2016-10-03</td>\n",
       "      <td>31.50</td>\n",
       "      <td>14070500</td>\n",
       "      <td>CSCO</td>\n",
       "    </tr>\n",
       "    <tr>\n",
       "      <th>1</th>\n",
       "      <td>2016-10-03</td>\n",
       "      <td>112.52</td>\n",
       "      <td>21701800</td>\n",
       "      <td>AAPL</td>\n",
       "    </tr>\n",
       "    <tr>\n",
       "      <th>2</th>\n",
       "      <td>2016-10-03</td>\n",
       "      <td>57.42</td>\n",
       "      <td>19189500</td>\n",
       "      <td>MSFT</td>\n",
       "    </tr>\n",
       "    <tr>\n",
       "      <th>3</th>\n",
       "      <td>2016-10-04</td>\n",
       "      <td>113.00</td>\n",
       "      <td>29736800</td>\n",
       "      <td>AAPL</td>\n",
       "    </tr>\n",
       "    <tr>\n",
       "      <th>4</th>\n",
       "      <td>2016-10-04</td>\n",
       "      <td>57.24</td>\n",
       "      <td>20085900</td>\n",
       "      <td>MSFT</td>\n",
       "    </tr>\n",
       "  </tbody>\n",
       "</table>\n",
       "</div>"
      ]
     },
     "execution_count": 52,
     "metadata": {},
     "output_type": "execute_result"
    }
   ],
   "execution_count": 52
  },
  {
   "metadata": {},
   "cell_type": "markdown",
   "source": "#### a) سلکت کردن با کوئری",
   "id": "870ea8639a0daaaa"
  },
  {
   "metadata": {},
   "cell_type": "markdown",
   "source": "a) روش معمولی",
   "id": "de90746400f01b66"
  },
  {
   "metadata": {
    "ExecuteTime": {
     "end_time": "2025-09-27T06:36:55.368106Z",
     "start_time": "2025-09-27T06:36:55.362351Z"
    }
   },
   "cell_type": "code",
   "source": "dft09[dft09.Symbol == 'AAPL']",
   "id": "fbcfad1b52deb46e",
   "outputs": [
    {
     "data": {
      "text/plain": [
       "         Date   Close    Volume Symbol\n",
       "1  2016-10-03  112.52  21701800   AAPL\n",
       "3  2016-10-04  113.00  29736800   AAPL\n",
       "8  2016-10-05  113.05  21453100   AAPL"
      ],
      "text/html": [
       "<div>\n",
       "<style scoped>\n",
       "    .dataframe tbody tr th:only-of-type {\n",
       "        vertical-align: middle;\n",
       "    }\n",
       "\n",
       "    .dataframe tbody tr th {\n",
       "        vertical-align: top;\n",
       "    }\n",
       "\n",
       "    .dataframe thead th {\n",
       "        text-align: right;\n",
       "    }\n",
       "</style>\n",
       "<table border=\"1\" class=\"dataframe\">\n",
       "  <thead>\n",
       "    <tr style=\"text-align: right;\">\n",
       "      <th></th>\n",
       "      <th>Date</th>\n",
       "      <th>Close</th>\n",
       "      <th>Volume</th>\n",
       "      <th>Symbol</th>\n",
       "    </tr>\n",
       "  </thead>\n",
       "  <tbody>\n",
       "    <tr>\n",
       "      <th>1</th>\n",
       "      <td>2016-10-03</td>\n",
       "      <td>112.52</td>\n",
       "      <td>21701800</td>\n",
       "      <td>AAPL</td>\n",
       "    </tr>\n",
       "    <tr>\n",
       "      <th>3</th>\n",
       "      <td>2016-10-04</td>\n",
       "      <td>113.00</td>\n",
       "      <td>29736800</td>\n",
       "      <td>AAPL</td>\n",
       "    </tr>\n",
       "    <tr>\n",
       "      <th>8</th>\n",
       "      <td>2016-10-05</td>\n",
       "      <td>113.05</td>\n",
       "      <td>21453100</td>\n",
       "      <td>AAPL</td>\n",
       "    </tr>\n",
       "  </tbody>\n",
       "</table>\n",
       "</div>"
      ]
     },
     "execution_count": 53,
     "metadata": {},
     "output_type": "execute_result"
    }
   ],
   "execution_count": 53
  },
  {
   "metadata": {},
   "cell_type": "markdown",
   "source": "b) روش استفاده از کوئری",
   "id": "fecd493e6f8c9618"
  },
  {
   "metadata": {
    "ExecuteTime": {
     "end_time": "2025-09-27T06:36:55.497063Z",
     "start_time": "2025-09-27T06:36:55.490742Z"
    }
   },
   "cell_type": "code",
   "source": "dft09.query('Symbol == \"AAPL\" ')",
   "id": "133cd9bf3c4e7bdb",
   "outputs": [
    {
     "data": {
      "text/plain": [
       "         Date   Close    Volume Symbol\n",
       "1  2016-10-03  112.52  21701800   AAPL\n",
       "3  2016-10-04  113.00  29736800   AAPL\n",
       "8  2016-10-05  113.05  21453100   AAPL"
      ],
      "text/html": [
       "<div>\n",
       "<style scoped>\n",
       "    .dataframe tbody tr th:only-of-type {\n",
       "        vertical-align: middle;\n",
       "    }\n",
       "\n",
       "    .dataframe tbody tr th {\n",
       "        vertical-align: top;\n",
       "    }\n",
       "\n",
       "    .dataframe thead th {\n",
       "        text-align: right;\n",
       "    }\n",
       "</style>\n",
       "<table border=\"1\" class=\"dataframe\">\n",
       "  <thead>\n",
       "    <tr style=\"text-align: right;\">\n",
       "      <th></th>\n",
       "      <th>Date</th>\n",
       "      <th>Close</th>\n",
       "      <th>Volume</th>\n",
       "      <th>Symbol</th>\n",
       "    </tr>\n",
       "  </thead>\n",
       "  <tbody>\n",
       "    <tr>\n",
       "      <th>1</th>\n",
       "      <td>2016-10-03</td>\n",
       "      <td>112.52</td>\n",
       "      <td>21701800</td>\n",
       "      <td>AAPL</td>\n",
       "    </tr>\n",
       "    <tr>\n",
       "      <th>3</th>\n",
       "      <td>2016-10-04</td>\n",
       "      <td>113.00</td>\n",
       "      <td>29736800</td>\n",
       "      <td>AAPL</td>\n",
       "    </tr>\n",
       "    <tr>\n",
       "      <th>8</th>\n",
       "      <td>2016-10-05</td>\n",
       "      <td>113.05</td>\n",
       "      <td>21453100</td>\n",
       "      <td>AAPL</td>\n",
       "    </tr>\n",
       "  </tbody>\n",
       "</table>\n",
       "</div>"
      ]
     },
     "execution_count": 54,
     "metadata": {},
     "output_type": "execute_result"
    }
   ],
   "execution_count": 54
  },
  {
   "metadata": {},
   "cell_type": "markdown",
   "source": "#### b) عملیات منتطقی با کوئری\n",
   "id": "aa6d96a06669624d"
  },
  {
   "metadata": {},
   "cell_type": "markdown",
   "source": "a) روش معمولی",
   "id": "a495efa256c148a5"
  },
  {
   "metadata": {
    "ExecuteTime": {
     "end_time": "2025-09-27T06:37:58.807013Z",
     "start_time": "2025-09-27T06:37:58.800231Z"
    }
   },
   "cell_type": "code",
   "source": "dft09.groupby(\"Symbol\").mean('Volume','Close')",
   "id": "208adcf1c8629abb",
   "outputs": [
    {
     "data": {
      "text/plain": [
       "             Close        Volume\n",
       "Symbol                          \n",
       "AAPL    112.856667  2.429723e+07\n",
       "CSCO     31.480000  1.477983e+07\n",
       "MSFT     57.433333  1.866727e+07"
      ],
      "text/html": [
       "<div>\n",
       "<style scoped>\n",
       "    .dataframe tbody tr th:only-of-type {\n",
       "        vertical-align: middle;\n",
       "    }\n",
       "\n",
       "    .dataframe tbody tr th {\n",
       "        vertical-align: top;\n",
       "    }\n",
       "\n",
       "    .dataframe thead th {\n",
       "        text-align: right;\n",
       "    }\n",
       "</style>\n",
       "<table border=\"1\" class=\"dataframe\">\n",
       "  <thead>\n",
       "    <tr style=\"text-align: right;\">\n",
       "      <th></th>\n",
       "      <th>Close</th>\n",
       "      <th>Volume</th>\n",
       "    </tr>\n",
       "    <tr>\n",
       "      <th>Symbol</th>\n",
       "      <th></th>\n",
       "      <th></th>\n",
       "    </tr>\n",
       "  </thead>\n",
       "  <tbody>\n",
       "    <tr>\n",
       "      <th>AAPL</th>\n",
       "      <td>112.856667</td>\n",
       "      <td>2.429723e+07</td>\n",
       "    </tr>\n",
       "    <tr>\n",
       "      <th>CSCO</th>\n",
       "      <td>31.480000</td>\n",
       "      <td>1.477983e+07</td>\n",
       "    </tr>\n",
       "    <tr>\n",
       "      <th>MSFT</th>\n",
       "      <td>57.433333</td>\n",
       "      <td>1.866727e+07</td>\n",
       "    </tr>\n",
       "  </tbody>\n",
       "</table>\n",
       "</div>"
      ]
     },
     "execution_count": 58,
     "metadata": {},
     "output_type": "execute_result"
    }
   ],
   "execution_count": 58
  },
  {
   "metadata": {
    "ExecuteTime": {
     "end_time": "2025-09-27T06:40:34.143731Z",
     "start_time": "2025-09-27T06:40:34.137249Z"
    }
   },
   "cell_type": "code",
   "source": [
    "temp = dft09.groupby(\"Symbol\").mean('Volume','Close')\n",
    "temp = temp[temp['Close'] < 100]\n",
    "temp"
   ],
   "id": "37cf6c9488f297ad",
   "outputs": [
    {
     "data": {
      "text/plain": [
       "            Close        Volume\n",
       "Symbol                         \n",
       "CSCO    31.480000  1.477983e+07\n",
       "MSFT    57.433333  1.866727e+07"
      ],
      "text/html": [
       "<div>\n",
       "<style scoped>\n",
       "    .dataframe tbody tr th:only-of-type {\n",
       "        vertical-align: middle;\n",
       "    }\n",
       "\n",
       "    .dataframe tbody tr th {\n",
       "        vertical-align: top;\n",
       "    }\n",
       "\n",
       "    .dataframe thead th {\n",
       "        text-align: right;\n",
       "    }\n",
       "</style>\n",
       "<table border=\"1\" class=\"dataframe\">\n",
       "  <thead>\n",
       "    <tr style=\"text-align: right;\">\n",
       "      <th></th>\n",
       "      <th>Close</th>\n",
       "      <th>Volume</th>\n",
       "    </tr>\n",
       "    <tr>\n",
       "      <th>Symbol</th>\n",
       "      <th></th>\n",
       "      <th></th>\n",
       "    </tr>\n",
       "  </thead>\n",
       "  <tbody>\n",
       "    <tr>\n",
       "      <th>CSCO</th>\n",
       "      <td>31.480000</td>\n",
       "      <td>1.477983e+07</td>\n",
       "    </tr>\n",
       "    <tr>\n",
       "      <th>MSFT</th>\n",
       "      <td>57.433333</td>\n",
       "      <td>1.866727e+07</td>\n",
       "    </tr>\n",
       "  </tbody>\n",
       "</table>\n",
       "</div>"
      ]
     },
     "execution_count": 65,
     "metadata": {},
     "output_type": "execute_result"
    }
   ],
   "execution_count": 65
  },
  {
   "metadata": {},
   "cell_type": "markdown",
   "source": "b) استفاده از کوئری",
   "id": "c5e7c15bfc4a8ef1"
  },
  {
   "metadata": {
    "ExecuteTime": {
     "end_time": "2025-09-27T06:42:51.807427Z",
     "start_time": "2025-09-27T06:42:51.800280Z"
    }
   },
   "cell_type": "code",
   "source": [
    "temp = dft09.groupby(\"Symbol\").mean('Volume','Close').query('Close<100')\n",
    "temp"
   ],
   "id": "f2b1137d10b1a95",
   "outputs": [
    {
     "data": {
      "text/plain": [
       "            Close        Volume\n",
       "Symbol                         \n",
       "CSCO    31.480000  1.477983e+07\n",
       "MSFT    57.433333  1.866727e+07"
      ],
      "text/html": [
       "<div>\n",
       "<style scoped>\n",
       "    .dataframe tbody tr th:only-of-type {\n",
       "        vertical-align: middle;\n",
       "    }\n",
       "\n",
       "    .dataframe tbody tr th {\n",
       "        vertical-align: top;\n",
       "    }\n",
       "\n",
       "    .dataframe thead th {\n",
       "        text-align: right;\n",
       "    }\n",
       "</style>\n",
       "<table border=\"1\" class=\"dataframe\">\n",
       "  <thead>\n",
       "    <tr style=\"text-align: right;\">\n",
       "      <th></th>\n",
       "      <th>Close</th>\n",
       "      <th>Volume</th>\n",
       "    </tr>\n",
       "    <tr>\n",
       "      <th>Symbol</th>\n",
       "      <th></th>\n",
       "      <th></th>\n",
       "    </tr>\n",
       "  </thead>\n",
       "  <tbody>\n",
       "    <tr>\n",
       "      <th>CSCO</th>\n",
       "      <td>31.480000</td>\n",
       "      <td>1.477983e+07</td>\n",
       "    </tr>\n",
       "    <tr>\n",
       "      <th>MSFT</th>\n",
       "      <td>57.433333</td>\n",
       "      <td>1.866727e+07</td>\n",
       "    </tr>\n",
       "  </tbody>\n",
       "</table>\n",
       "</div>"
      ]
     },
     "execution_count": 66,
     "metadata": {},
     "output_type": "execute_result"
    }
   ],
   "execution_count": 66
  },
  {
   "metadata": {},
   "cell_type": "code",
   "outputs": [],
   "execution_count": null,
   "source": "",
   "id": "1f878e076800e752"
  }
 ],
 "metadata": {
  "kernelspec": {
   "display_name": "Python 3",
   "language": "python",
   "name": "python3"
  },
  "language_info": {
   "codemirror_mode": {
    "name": "ipython",
    "version": 2
   },
   "file_extension": ".py",
   "mimetype": "text/x-python",
   "name": "python",
   "nbconvert_exporter": "python",
   "pygments_lexer": "ipython2",
   "version": "2.7.6"
  }
 },
 "nbformat": 4,
 "nbformat_minor": 5
}
