{
 "cells": [
  {
   "cell_type": "code",
   "id": "initial_id",
   "metadata": {
    "collapsed": true,
    "ExecuteTime": {
     "end_time": "2025-10-18T07:44:44.539929Z",
     "start_time": "2025-10-18T07:44:44.534533Z"
    }
   },
   "source": [
    "# Data wrangling\n",
    "import pandas as pd\n",
    "import numpy as np\n",
    "\n",
    "# Data visualisation\n",
    "import seaborn as sns\n",
    "import matplotlib.pyplot as plt\n",
    "\n",
    "# Machine learning\n",
    "from sklearn.experimental import enable_iterative_imputer\n",
    "from sklearn.impute import SimpleImputer, IterativeImputer, KNNImputer\n",
    "from sklearn.preprocessing import OneHotEncoder\n",
    "from sklearn.compose import make_column_transformer\n",
    "from sklearn.pipeline import make_pipeline\n",
    "from sklearn.ensemble import RandomForestClassifier\n",
    "from sklearn.model_selection import cross_val_score\n",
    "\n",
    "# Remove warnings\n",
    "import warnings\n",
    "warnings.filterwarnings('ignore')"
   ],
   "outputs": [],
   "execution_count": 13
  },
  {
   "metadata": {
    "ExecuteTime": {
     "end_time": "2025-10-18T07:44:44.560051Z",
     "start_time": "2025-10-18T07:44:44.555390Z"
    }
   },
   "cell_type": "code",
   "source": [
    "\n",
    "data = pd.read_csv('../../00 DATA/train.csv', sep = ',')\n"
   ],
   "id": "7fa07fd709201735",
   "outputs": [],
   "execution_count": 14
  },
  {
   "metadata": {
    "ExecuteTime": {
     "end_time": "2025-10-18T07:44:44.588572Z",
     "start_time": "2025-10-18T07:44:44.581107Z"
    }
   },
   "cell_type": "code",
   "source": [
    "# Drop PassengerId, Name, Ticket and Cabin columns\n",
    "data = data.drop(['PassengerId', 'Name', 'Ticket', 'Cabin'], axis = 1)\n",
    "data.head()"
   ],
   "id": "e663cf6a02f36d8c",
   "outputs": [
    {
     "data": {
      "text/plain": [
       "   Survived  Pclass     Sex   Age  SibSp  Parch     Fare Embarked\n",
       "0         0       3    male  22.0      1      0   7.2500        S\n",
       "1         1       1  female  38.0      1      0  71.2833        C\n",
       "2         1       3  female  26.0      0      0   7.9250        S\n",
       "3         1       1  female  35.0      1      0  53.1000        S\n",
       "4         0       3    male  35.0      0      0   8.0500        S"
      ],
      "text/html": [
       "<div>\n",
       "<style scoped>\n",
       "    .dataframe tbody tr th:only-of-type {\n",
       "        vertical-align: middle;\n",
       "    }\n",
       "\n",
       "    .dataframe tbody tr th {\n",
       "        vertical-align: top;\n",
       "    }\n",
       "\n",
       "    .dataframe thead th {\n",
       "        text-align: right;\n",
       "    }\n",
       "</style>\n",
       "<table border=\"1\" class=\"dataframe\">\n",
       "  <thead>\n",
       "    <tr style=\"text-align: right;\">\n",
       "      <th></th>\n",
       "      <th>Survived</th>\n",
       "      <th>Pclass</th>\n",
       "      <th>Sex</th>\n",
       "      <th>Age</th>\n",
       "      <th>SibSp</th>\n",
       "      <th>Parch</th>\n",
       "      <th>Fare</th>\n",
       "      <th>Embarked</th>\n",
       "    </tr>\n",
       "  </thead>\n",
       "  <tbody>\n",
       "    <tr>\n",
       "      <th>0</th>\n",
       "      <td>0</td>\n",
       "      <td>3</td>\n",
       "      <td>male</td>\n",
       "      <td>22.0</td>\n",
       "      <td>1</td>\n",
       "      <td>0</td>\n",
       "      <td>7.2500</td>\n",
       "      <td>S</td>\n",
       "    </tr>\n",
       "    <tr>\n",
       "      <th>1</th>\n",
       "      <td>1</td>\n",
       "      <td>1</td>\n",
       "      <td>female</td>\n",
       "      <td>38.0</td>\n",
       "      <td>1</td>\n",
       "      <td>0</td>\n",
       "      <td>71.2833</td>\n",
       "      <td>C</td>\n",
       "    </tr>\n",
       "    <tr>\n",
       "      <th>2</th>\n",
       "      <td>1</td>\n",
       "      <td>3</td>\n",
       "      <td>female</td>\n",
       "      <td>26.0</td>\n",
       "      <td>0</td>\n",
       "      <td>0</td>\n",
       "      <td>7.9250</td>\n",
       "      <td>S</td>\n",
       "    </tr>\n",
       "    <tr>\n",
       "      <th>3</th>\n",
       "      <td>1</td>\n",
       "      <td>1</td>\n",
       "      <td>female</td>\n",
       "      <td>35.0</td>\n",
       "      <td>1</td>\n",
       "      <td>0</td>\n",
       "      <td>53.1000</td>\n",
       "      <td>S</td>\n",
       "    </tr>\n",
       "    <tr>\n",
       "      <th>4</th>\n",
       "      <td>0</td>\n",
       "      <td>3</td>\n",
       "      <td>male</td>\n",
       "      <td>35.0</td>\n",
       "      <td>0</td>\n",
       "      <td>0</td>\n",
       "      <td>8.0500</td>\n",
       "      <td>S</td>\n",
       "    </tr>\n",
       "  </tbody>\n",
       "</table>\n",
       "</div>"
      ]
     },
     "execution_count": 15,
     "metadata": {},
     "output_type": "execute_result"
    }
   ],
   "execution_count": 15
  },
  {
   "metadata": {
    "ExecuteTime": {
     "end_time": "2025-10-18T07:44:44.625735Z",
     "start_time": "2025-10-18T07:44:44.620974Z"
    }
   },
   "cell_type": "code",
   "source": [
    "# Missing data\n",
    "\n",
    "missing = data.isnull().sum()\n",
    "missing = missing[missing > 0].sort_values(ascending = False)\n",
    "missing"
   ],
   "id": "5641ea72774cd473",
   "outputs": [
    {
     "data": {
      "text/plain": [
       "Age         177\n",
       "Embarked      2\n",
       "dtype: int64"
      ]
     },
     "execution_count": 16,
     "metadata": {},
     "output_type": "execute_result"
    }
   ],
   "execution_count": 16
  },
  {
   "metadata": {
    "ExecuteTime": {
     "end_time": "2025-10-18T07:44:44.709193Z",
     "start_time": "2025-10-18T07:44:44.704685Z"
    }
   },
   "cell_type": "code",
   "source": [
    "# Drop rows with missing Embarked values\n",
    "\n",
    "print(\"Before: \", data.shape)\n",
    "data = data.loc[data['Embarked'].notnull(), :]\n",
    "print(\"After: \", data.shape)"
   ],
   "id": "411caca6187aeddf",
   "outputs": [
    {
     "name": "stdout",
     "output_type": "stream",
     "text": [
      "Before:  (891, 8)\n",
      "After:  (889, 8)\n"
     ]
    }
   ],
   "execution_count": 17
  },
  {
   "metadata": {
    "ExecuteTime": {
     "end_time": "2025-10-18T07:44:44.787206Z",
     "start_time": "2025-10-18T07:44:44.776873Z"
    }
   },
   "cell_type": "code",
   "source": [
    "data['Sex'] = data['Sex'].map({'male': 1, 'female': 0})\n",
    "data['Embarked'] = data['Embarked'].map({'S': 0, 'C': 1, 'Q': 2})\n"
   ],
   "id": "7feb948291d00de2",
   "outputs": [],
   "execution_count": 18
  },
  {
   "metadata": {
    "ExecuteTime": {
     "end_time": "2025-10-18T07:44:45.416181Z",
     "start_time": "2025-10-18T07:44:44.811179Z"
    }
   },
   "cell_type": "code",
   "source": [
    "# Plot heatmap\n",
    "\n",
    "correlation = data.corr()\n",
    "plt.figure(figsize = (7, 5))\n",
    "sns.heatmap(correlation, annot = True, fmt = '.2f', cmap = 'coolwarm')\n",
    "plt.title('Correlation between features')"
   ],
   "id": "5c14e811f8e780f8",
   "outputs": [
    {
     "data": {
      "text/plain": [
       "Text(0.5, 1.0, 'Correlation between features')"
      ]
     },
     "execution_count": 19,
     "metadata": {},
     "output_type": "execute_result"
    },
    {
     "data": {
      "text/plain": [
       "<Figure size 700x500 with 2 Axes>"
      ],
      "image/png": "[encoded data removed]"
     },
     "metadata": {},
     "output_type": "display_data"
    }
   ],
   "execution_count": 19
  },
  {
   "metadata": {
    "ExecuteTime": {
     "end_time": "2025-10-18T07:46:10.603010Z",
     "start_time": "2025-10-18T07:46:10.236065Z"
    }
   },
   "cell_type": "code",
   "source": [
    "# Plot passenger age distribution\n",
    "\n",
    "plt.figure(figsize = (8, 5))\n",
    "sns.distplot(data['Age'], label = 'Skewness: {:.2f}'.format(data['Age'].skew()))\n",
    "plt.legend(loc = 'best')\n",
    "plt.title('Passenger Age Distribution')"
   ],
   "id": "dcefc3cb3a58e61c",
   "outputs": [
    {
     "data": {
      "text/plain": [
       "Text(0.5, 1.0, 'Passenger Age Distribution')"
      ]
     },
     "execution_count": 20,
     "metadata": {},
     "output_type": "execute_result"
    },
    {
     "data": {
      "text/plain": [
       "<Figure size 800x500 with 1 Axes>"
      ],
      "image/png": "[encoded data removed]"
     },
     "metadata": {},
     "output_type": "display_data"
    }
   ],
   "execution_count": 20
  },
  {
   "metadata": {
    "ExecuteTime": {
     "end_time": "2025-10-18T07:46:31.124224Z",
     "start_time": "2025-10-18T07:46:31.089820Z"
    }
   },
   "cell_type": "code",
   "source": [
    "# Age summary statistics\n",
    "\n",
    "data['Age'].describe()"
   ],
   "id": "f0b6b114f2426e73",
   "outputs": [
    {
     "data": {
      "text/plain": [
       "count    712.000000\n",
       "mean      29.642093\n",
       "std       14.492933\n",
       "min        0.420000\n",
       "25%       20.000000\n",
       "50%       28.000000\n",
       "75%       38.000000\n",
       "max       80.000000\n",
       "Name: Age, dtype: float64"
      ]
     },
     "execution_count": 21,
     "metadata": {},
     "output_type": "execute_result"
    }
   ],
   "execution_count": 21
  },
  {
   "metadata": {
    "ExecuteTime": {
     "end_time": "2025-10-18T07:46:43.255538Z",
     "start_time": "2025-10-18T07:46:43.250214Z"
    }
   },
   "cell_type": "code",
   "source": [
    "# Create sample dataframe\n",
    "\n",
    "df = pd.DataFrame({'SibSp': [1, 1, 0, 1, 0, 0],\n",
    "                   'Fare': [7.25, 71.2833, 7.925, 53.1, 8.05, 8.4583],\n",
    "                   'Age': [22, 38, 26, 35, 35, np.nan]})\n",
    "df"
   ],
   "id": "853b3115e47f11dc",
   "outputs": [
    {
     "data": {
      "text/plain": [
       "   SibSp     Fare   Age\n",
       "0      1   7.2500  22.0\n",
       "1      1  71.2833  38.0\n",
       "2      0   7.9250  26.0\n",
       "3      1  53.1000  35.0\n",
       "4      0   8.0500  35.0\n",
       "5      0   8.4583   NaN"
      ],
      "text/html": [
       "<div>\n",
       "<style scoped>\n",
       "    .dataframe tbody tr th:only-of-type {\n",
       "        vertical-align: middle;\n",
       "    }\n",
       "\n",
       "    .dataframe tbody tr th {\n",
       "        vertical-align: top;\n",
       "    }\n",
       "\n",
       "    .dataframe thead th {\n",
       "        text-align: right;\n",
       "    }\n",
       "</style>\n",
       "<table border=\"1\" class=\"dataframe\">\n",
       "  <thead>\n",
       "    <tr style=\"text-align: right;\">\n",
       "      <th></th>\n",
       "      <th>SibSp</th>\n",
       "      <th>Fare</th>\n",
       "      <th>Age</th>\n",
       "    </tr>\n",
       "  </thead>\n",
       "  <tbody>\n",
       "    <tr>\n",
       "      <th>0</th>\n",
       "      <td>1</td>\n",
       "      <td>7.2500</td>\n",
       "      <td>22.0</td>\n",
       "    </tr>\n",
       "    <tr>\n",
       "      <th>1</th>\n",
       "      <td>1</td>\n",
       "      <td>71.2833</td>\n",
       "      <td>38.0</td>\n",
       "    </tr>\n",
       "    <tr>\n",
       "      <th>2</th>\n",
       "      <td>0</td>\n",
       "      <td>7.9250</td>\n",
       "      <td>26.0</td>\n",
       "    </tr>\n",
       "    <tr>\n",
       "      <th>3</th>\n",
       "      <td>1</td>\n",
       "      <td>53.1000</td>\n",
       "      <td>35.0</td>\n",
       "    </tr>\n",
       "    <tr>\n",
       "      <th>4</th>\n",
       "      <td>0</td>\n",
       "      <td>8.0500</td>\n",
       "      <td>35.0</td>\n",
       "    </tr>\n",
       "    <tr>\n",
       "      <th>5</th>\n",
       "      <td>0</td>\n",
       "      <td>8.4583</td>\n",
       "      <td>NaN</td>\n",
       "    </tr>\n",
       "  </tbody>\n",
       "</table>\n",
       "</div>"
      ]
     },
     "execution_count": 22,
     "metadata": {},
     "output_type": "execute_result"
    }
   ],
   "execution_count": 22
  },
  {
   "metadata": {
    "ExecuteTime": {
     "end_time": "2025-10-18T07:47:42.707460Z",
     "start_time": "2025-10-18T07:47:42.676907Z"
    }
   },
   "cell_type": "code",
   "source": [
    "print(\"Average age: \", df['Age'].mean())\n",
    "simple_imp = SimpleImputer(missing_values = np.nan, strategy = 'mean')\n",
    "simple_imp.fit_transform(df)"
   ],
   "id": "14b69a182e22be05",
   "outputs": [
    {
     "name": "stdout",
     "output_type": "stream",
     "text": [
      "Average age:  31.2\n"
     ]
    },
    {
     "data": {
      "text/plain": [
       "array([[ 1.    ,  7.25  , 22.    ],\n",
       "       [ 1.    , 71.2833, 38.    ],\n",
       "       [ 0.    ,  7.925 , 26.    ],\n",
       "       [ 1.    , 53.1   , 35.    ],\n",
       "       [ 0.    ,  8.05  , 35.    ],\n",
       "       [ 0.    ,  8.4583, 31.2   ]])"
      ]
     },
     "execution_count": 23,
     "metadata": {},
     "output_type": "execute_result"
    }
   ],
   "execution_count": 23
  },
  {
   "metadata": {},
   "cell_type": "markdown",
   "source": [
    "# Iterative imputer\n",
    "\n",
    "Iterative imputer is an example of a multivariate approach to imputation. It models the missing values in a column by using information from the other columns in a dataset. More specifically, it treats the column with missing values as a target variable while the remaining columns are used are predictor variables to predict the target variable. \n",
    "\n",
    "In our sample data frame, the Age column has one missing value on row 6 and is therefore assigned as the target variable in this scenario. This leaves the SibSp and Fare columns as our predictor variables. \n",
    "\n",
    "Iterative imputer will use the first 5 rows of the data frame to train a predictive model. Once the model is ready, it will then values in the SibSp and Fare columns of row 6 as inputs and predict the Age value for that row.\n",
    "\n",
    "#### It is a data transform that is first configured based on the method used to estimate the missing values. By default, a BayesianRidge model is employed that uses a function of all other input features. Features are filled in ascending order, from those with the fewest missing values to those with the most.\n",
    "\n"
   ],
   "id": "ef16d399626b3156"
  },
  {
   "metadata": {
    "ExecuteTime": {
     "end_time": "2025-10-18T07:48:47.810938Z",
     "start_time": "2025-10-18T07:48:47.665194Z"
    }
   },
   "cell_type": "code",
   "source": [
    "# بجای میانگین گرفتن از رگرسیون برای پر کردن داده استفاده میشه\n",
    "\n",
    "iterative_imp = IterativeImputer()\n",
    "iterative_imp.fit_transform(df)"
   ],
   "id": "304e9790941e9bdf",
   "outputs": [
    {
     "data": {
      "text/plain": [
       "array([[ 1.        ,  7.25      , 22.        ],\n",
       "       [ 1.        , 71.2833    , 38.        ],\n",
       "       [ 0.        ,  7.925     , 26.        ],\n",
       "       [ 1.        , 53.1       , 35.        ],\n",
       "       [ 0.        ,  8.05      , 35.        ],\n",
       "       [ 0.        ,  8.4583    , 28.50639495]])"
      ]
     },
     "execution_count": 24,
     "metadata": {},
     "output_type": "execute_result"
    }
   ],
   "execution_count": 24
  },
  {
   "metadata": {},
   "cell_type": "markdown",
   "source": [
    "# 4.3 KNN imputer\n",
    "\n",
    "Last but not least, we have KNN Imputer which is another multivariate imputation technique. KNN Imputer scans our dataframe for k nearest observations to the row with missing value. It will then proceed to fill the missing value with the average of those nearest observations.\n",
    "\n",
    "Here, I have set k to equal to 2 or in other words, I want KNN imputer to look for 2 observations that are nearest to row 6 and fill the missing age with the average age of those 2 rows."
   ],
   "id": "47adb1f691bf1c39"
  },
  {
   "metadata": {
    "ExecuteTime": {
     "end_time": "2025-10-18T07:51:29.948599Z",
     "start_time": "2025-10-18T07:51:29.906873Z"
    }
   },
   "cell_type": "code",
   "source": [
    "knn_imp = KNNImputer(n_neighbors = 2)\n",
    "knn_imp.fit_transform(df)"
   ],
   "id": "96c96d2d9db936ad",
   "outputs": [
    {
     "data": {
      "text/plain": [
       "array([[ 1.    ,  7.25  , 22.    ],\n",
       "       [ 1.    , 71.2833, 38.    ],\n",
       "       [ 0.    ,  7.925 , 26.    ],\n",
       "       [ 1.    , 53.1   , 35.    ],\n",
       "       [ 0.    ,  8.05  , 35.    ],\n",
       "       [ 0.    ,  8.4583, 30.5   ]])"
      ]
     },
     "execution_count": 25,
     "metadata": {},
     "output_type": "execute_result"
    }
   ],
   "execution_count": 25
  },
  {
   "metadata": {},
   "cell_type": "markdown",
   "source": "Run in models",
   "id": "f3a324f0496cf679"
  },
  {
   "metadata": {
    "ExecuteTime": {
     "end_time": "2025-10-18T08:00:21.881859Z",
     "start_time": "2025-10-18T08:00:21.877466Z"
    }
   },
   "cell_type": "code",
   "source": [
    "data.head()\n",
    "# Get predictor and target variables\n",
    "\n",
    "X = data.drop('Survived', axis=1)\n",
    "Y = data['Survived']\n",
    "# Predictor and target variables shape\n",
    "\n",
    "print(\"X shape: \", X.shape)\n",
    "print(\"Y shape: \", Y.shape)"
   ],
   "id": "d50c30e71454bba3",
   "outputs": [
    {
     "name": "stdout",
     "output_type": "stream",
     "text": [
      "X shape:  (889, 7)\n",
      "Y shape:  (889,)\n"
     ]
    }
   ],
   "execution_count": 28
  },
  {
   "metadata": {},
   "cell_type": "markdown",
   "source": "simple imputer",
   "id": "5eec10559285b0b8"
  },
  {
   "metadata": {
    "ExecuteTime": {
     "end_time": "2025-10-18T08:00:25.803080Z",
     "start_time": "2025-10-18T08:00:24.610478Z"
    }
   },
   "cell_type": "code",
   "source": [
    "# Instantiate OneHotEncoder for Sex and Embarked columns\n",
    "ohe = OneHotEncoder()\n",
    "\n",
    "# Instantiate simple imputer\n",
    "simple_imp = SimpleImputer(missing_values = np.nan, strategy = 'mean')\n",
    "\n",
    "# Instantiate model\n",
    "rf = RandomForestClassifier()\n",
    "\n",
    "# Make column transformer with simple imputer\n",
    "column_transform = make_column_transformer(\n",
    "    (ohe, ['Sex', 'Embarked']),\n",
    "    (simple_imp, ['Age']),\n",
    "    remainder = 'passthrough')\n",
    "\n",
    "# Pipeline\n",
    "pipe = make_pipeline(column_transform, rf)\n",
    "\n",
    "# 10-fold cross-validation\n",
    "cross_val_score(pipe, X, Y, cv = 10, scoring = 'accuracy').mean()"
   ],
   "id": "5349e4b6918e7a83",
   "outputs": [
    {
     "data": {
      "text/plain": [
       "np.float64(0.8065628192032687)"
      ]
     },
     "execution_count": 29,
     "metadata": {},
     "output_type": "execute_result"
    }
   ],
   "execution_count": 29
  },
  {
   "metadata": {},
   "cell_type": "markdown",
   "source": "iterative imputer",
   "id": "f78d63beb53ab6c5"
  },
  {
   "metadata": {
    "ExecuteTime": {
     "end_time": "2025-10-18T08:01:08.188543Z",
     "start_time": "2025-10-18T08:01:07.134032Z"
    }
   },
   "cell_type": "code",
   "source": [
    "# Instantiate OneHotEncoder for Sex and Embarked columns\n",
    "ohe = OneHotEncoder()\n",
    "\n",
    "# Instantiate iterative imputer\n",
    "iterative_imp = IterativeImputer()\n",
    "\n",
    "# Instantiate model\n",
    "rf = RandomForestClassifier()\n",
    "\n",
    "# Make column transformer with iterative imputer\n",
    "column_transform = make_column_transformer(\n",
    "    (ohe, ['Sex', 'Embarked']),\n",
    "    (iterative_imp, ['Age']),\n",
    "    remainder = 'passthrough')\n",
    "\n",
    "# Pipeline\n",
    "pipe = make_pipeline(column_transform, rf)\n",
    "\n",
    "# 10-fold cross-validation\n",
    "cross_val_score(pipe, X, Y, cv = 10, scoring = 'accuracy').mean()"
   ],
   "id": "fa25de3d0af8897d",
   "outputs": [
    {
     "data": {
      "text/plain": [
       "np.float64(0.8166751787538304)"
      ]
     },
     "execution_count": 30,
     "metadata": {},
     "output_type": "execute_result"
    }
   ],
   "execution_count": 30
  },
  {
   "metadata": {},
   "cell_type": "markdown",
   "source": "knn imputer",
   "id": "217348d03b6d798"
  },
  {
   "metadata": {
    "ExecuteTime": {
     "end_time": "2025-10-18T08:02:50.057913Z",
     "start_time": "2025-10-18T08:02:48.949003Z"
    }
   },
   "cell_type": "code",
   "source": [
    "# Instantiate OneHotEncoder for Sex and Embarked columns\n",
    "ohe = OneHotEncoder()\n",
    "\n",
    "# Instantiate KNN imputer\n",
    "KNN_imp = KNNImputer()\n",
    "\n",
    "# KNN model\n",
    "rf = RandomForestClassifier()\n",
    "\n",
    "# Make column transformer with iterative imputer\n",
    "column_transform = make_column_transformer(\n",
    "    (ohe, ['Sex', 'Embarked']),\n",
    "    (KNN_imp, ['Age']),\n",
    "    remainder = 'passthrough')\n",
    "\n",
    "# Pipeline\n",
    "pipe = make_pipeline(column_transform, rf)\n",
    "\n",
    "# 10-fold cross-validation\n",
    "cross_val_score(pipe, X, Y, cv = 10, scoring = 'accuracy').mean()"
   ],
   "id": "2352f40888d6f6c3",
   "outputs": [
    {
     "data": {
      "text/plain": [
       "np.float64(0.8076608784473953)"
      ]
     },
     "execution_count": 31,
     "metadata": {},
     "output_type": "execute_result"
    }
   ],
   "execution_count": 31
  }
 ],
 "metadata": {
  "kernelspec": {
   "display_name": "Python 3",
   "language": "python",
   "name": "python3"
  },
  "language_info": {
   "codemirror_mode": {
    "name": "ipython",
    "version": 2
   },
   "file_extension": ".py",
   "mimetype": "text/x-python",
   "name": "python",
   "nbconvert_exporter": "python",
   "pygments_lexer": "ipython2",
   "version": "2.7.6"
  }
 },
 "nbformat": 4,
 "nbformat_minor": 5
}
