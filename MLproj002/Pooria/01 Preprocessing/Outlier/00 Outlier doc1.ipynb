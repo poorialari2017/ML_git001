{
 "cells": [
  {
   "metadata": {},
   "cell_type": "markdown",
   "source": [
    "###  What are outliers?\n",
    "*    Outliers are the values that look different from the other values in the data.\n",
    "<img src = \"outlier.png\" width=50%>\n",
    "\n",
    "### Reasons for outliers in data\n",
    "\n",
    "*    Errors during data entry or a faulty measuring device (a faulty sensor may result in extreme readings).\n",
    "*    Natural occurrence (salaries of junior level employees vs C-level employees)\n",
    "\n",
    "### Problems caused by outliers\n",
    "\n",
    "*    Outliers in the data may causes problems during model fitting (esp. linear models).\n",
    "*    Outliers may inflate the error metrics which give higher weights to large errors (example, mean squared error, RMSE).\n",
    "\n",
    "\n",
    "### Why do we need to Detect Outliers?\n",
    "\n",
    "Outliers can impact the results of our analysis and statistical modeling in a drastic way. Check out the below image to visualize what happens to a model when outliers are present versus when they have been dealt with:\n",
    "\n",
    "<img src = \"01.png\" width=50%>\n",
    "\n",
    "\n",
    "* “Outliers are not necessarily a bad thing. These are just observations that are not following the same pattern as the other ones. But it can be the case that an outlier is very interesting. For example, if in a biological experiment, a rat is not dead whereas all others are, then it would be very interesting to understand why. This could lead to new scientific discoveries.  So, it is important to detect outliers.”"
   ],
   "id": "7b3e1e607bd3d1b1"
  },
  {
   "metadata": {},
   "cell_type": "markdown",
   "source": [
    "#  BoxPlot\n",
    "Box plots are a visual method to identify outliers. Box plots is one of the many ways to visualize data distribution. Box plot plots the q1 (25th percentile), q2 (50th percentile or median) and q3 (75th percentile) of the data along with (q1–1.5*(q3-q1)) and (q3+1.5*(q3-q1)). Outliers, if any, are plotted as points above and below the plot.\n",
    "<img src = \"box.png\">\n"
   ],
   "id": "361700bda3508a53"
  },
  {
   "metadata": {},
   "cell_type": "markdown",
   "source": [
    "# Inter Quartile Range (IQR)\n",
    "Inter Quartile Range (IQR) is one of the most extensively used procedure for outlier detection and removal. According to this procedure, we need to follow the following steps:\n",
    "\n",
    "*    Find the first quartile, Q1.\n",
    "*    Find the third quartile, Q3.\n",
    "*    Calculate the IQR. IQR = Q3-Q1.\n",
    "*    Define the normal data range with lower limit as Q1–1.5*IQR and upper limit as Q3+1.5*IQR.\n",
    "*    Any data point outside this range is considered as outlier and should be removed for further analysis.\n",
    "\n",
    "<img src = \"1.png\" width=50%>\n",
    "\n",
    "#### In boxplot, this IQR method is implemented to detect any extreme data point where the maximum point (the end of high whisker) is Q3+1.5*IQR and the minimum point (the start of low whisker) is Q1–1.5*IQR.\n",
    "\n",
    "\n"
   ],
   "id": "253cdc6d17049ff2"
  },
  {
   "metadata": {},
   "cell_type": "markdown",
   "source": [
    "#  Z-score\n",
    "<img src = \"Z-score-formula.jpg\" width=20%>\n",
    "\n",
    "\n",
    "Z-score is just another form of standard deviation procedure. (**Assumption– The features are normally or approximately normally distributed.)**\n",
    "\n",
    "\n",
    "– The data points which fall below mean-3*(sigma) or above mean+3*(sigma) are outliers.\n",
    "\n",
    "where mean and sigma are the average value and standard deviation of a particular column.mean= 0.\n",
    "\n",
    "<img src = \"3.png\" width=50%>\n"
   ],
   "id": "9f83837fa4167e3a"
  },
  {
   "metadata": {},
   "cell_type": "markdown",
   "source": [
    "# Outlier detection in a nutshell\n",
    "* For Normal distributions: Use empirical relations of Normal distribution.\n",
    "\n",
    "– The data points which fall below mean-3*(svd) or above mean+3*(svd) are outliers.\n",
    "* For Skewed distributions: Use Inter-Quartile Range (IQR) proximity rule.\n",
    "\n",
    "– The data points which fall below (Q1 – 1.5 IQR) or above (Q3 + 1.5 IQR) are outliers.\n",
    "* For Other distributions: Use percentile-based approach.\n",
    "\n",
    "For Example, Data points that are far from 99% percentile and less than 1 percentile are considered an outlier.\n",
    "<img src = \"2.png\" width=70%>\n"
   ],
   "id": "99ebae045f5dc222"
  },
  {
   "cell_type": "code",
   "execution_count": null,
   "id": "initial_id",
   "metadata": {
    "collapsed": true
   },
   "outputs": [],
   "source": [
    ""
   ]
  }
 ],
 "metadata": {
  "kernelspec": {
   "display_name": "Python 3",
   "language": "python",
   "name": "python3"
  },
  "language_info": {
   "codemirror_mode": {
    "name": "ipython",
    "version": 2
   },
   "file_extension": ".py",
   "mimetype": "text/x-python",
   "name": "python",
   "nbconvert_exporter": "python",
   "pygments_lexer": "ipython2",
   "version": "2.7.6"
  }
 },
 "nbformat": 4,
 "nbformat_minor": 5
}
