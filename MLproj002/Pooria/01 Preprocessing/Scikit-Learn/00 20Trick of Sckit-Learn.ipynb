{
 "cells": [
  {
   "metadata": {},
   "cell_type": "markdown",
   "source": "Import",
   "id": "1304e516a0dc5bb9"
  },
  {
   "metadata": {
    "ExecuteTime": {
     "end_time": "2025-10-05T13:45:24.131324Z",
     "start_time": "2025-10-05T13:45:24.127945Z"
    }
   },
   "cell_type": "code",
   "source": [
    "import sklearn\n",
    "import numpy as np\n",
    "import pandas as pd\n",
    "import matplotlib.pyplot as plt\n",
    "import gc\n",
    "sklearn.__version__"
   ],
   "id": "3ca38bfb554a0b60",
   "outputs": [
    {
     "data": {
      "text/plain": [
       "'1.7.1'"
      ]
     },
     "execution_count": 145,
     "metadata": {},
     "output_type": "execute_result"
    }
   ],
   "execution_count": 145
  },
  {
   "metadata": {},
   "cell_type": "markdown",
   "source": "### Trick 01 - کاربرد Random State در Scikit-Learn\n",
   "id": "362f69712958d92b"
  },
  {
   "metadata": {
    "ExecuteTime": {
     "end_time": "2025-10-05T13:45:24.163697Z",
     "start_time": "2025-10-05T13:45:24.152853Z"
    }
   },
   "cell_type": "code",
   "source": [
    "df = pd.read_csv(\"../../00 DATA/titanic.csv\")\n",
    "df.head()"
   ],
   "id": "31c1f8275d5eb4ae",
   "outputs": [
    {
     "data": {
      "text/plain": [
       "   pclass  survived                                             name     sex  \\\n",
       "0       1         1                    Allen, Miss. Elisabeth Walton  female   \n",
       "1       1         1                   Allison, Master. Hudson Trevor    male   \n",
       "2       1         0                     Allison, Miss. Helen Loraine  female   \n",
       "3       1         0             Allison, Mr. Hudson Joshua Creighton    male   \n",
       "4       1         0  Allison, Mrs. Hudson J C (Bessie Waldo Daniels)  female   \n",
       "\n",
       "     age  sibsp  parch  ticket      fare    cabin embarked boat   body  \\\n",
       "0  29.00      0      0   24160  211.3375       B5        S    2    NaN   \n",
       "1   0.92      1      2  113781  151.5500  C22 C26        S   11    NaN   \n",
       "2   2.00      1      2  113781  151.5500  C22 C26        S  NaN    NaN   \n",
       "3  30.00      1      2  113781  151.5500  C22 C26        S  NaN  135.0   \n",
       "4  25.00      1      2  113781  151.5500  C22 C26        S  NaN    NaN   \n",
       "\n",
       "                         home.dest  \n",
       "0                     St Louis, MO  \n",
       "1  Montreal, PQ / Chesterville, ON  \n",
       "2  Montreal, PQ / Chesterville, ON  \n",
       "3  Montreal, PQ / Chesterville, ON  \n",
       "4  Montreal, PQ / Chesterville, ON  "
      ],
      "text/html": [
       "<div>\n",
       "<style scoped>\n",
       "    .dataframe tbody tr th:only-of-type {\n",
       "        vertical-align: middle;\n",
       "    }\n",
       "\n",
       "    .dataframe tbody tr th {\n",
       "        vertical-align: top;\n",
       "    }\n",
       "\n",
       "    .dataframe thead th {\n",
       "        text-align: right;\n",
       "    }\n",
       "</style>\n",
       "<table border=\"1\" class=\"dataframe\">\n",
       "  <thead>\n",
       "    <tr style=\"text-align: right;\">\n",
       "      <th></th>\n",
       "      <th>pclass</th>\n",
       "      <th>survived</th>\n",
       "      <th>name</th>\n",
       "      <th>sex</th>\n",
       "      <th>age</th>\n",
       "      <th>sibsp</th>\n",
       "      <th>parch</th>\n",
       "      <th>ticket</th>\n",
       "      <th>fare</th>\n",
       "      <th>cabin</th>\n",
       "      <th>embarked</th>\n",
       "      <th>boat</th>\n",
       "      <th>body</th>\n",
       "      <th>home.dest</th>\n",
       "    </tr>\n",
       "  </thead>\n",
       "  <tbody>\n",
       "    <tr>\n",
       "      <th>0</th>\n",
       "      <td>1</td>\n",
       "      <td>1</td>\n",
       "      <td>Allen, Miss. Elisabeth Walton</td>\n",
       "      <td>female</td>\n",
       "      <td>29.00</td>\n",
       "      <td>0</td>\n",
       "      <td>0</td>\n",
       "      <td>24160</td>\n",
       "      <td>211.3375</td>\n",
       "      <td>B5</td>\n",
       "      <td>S</td>\n",
       "      <td>2</td>\n",
       "      <td>NaN</td>\n",
       "      <td>St Louis, MO</td>\n",
       "    </tr>\n",
       "    <tr>\n",
       "      <th>1</th>\n",
       "      <td>1</td>\n",
       "      <td>1</td>\n",
       "      <td>Allison, Master. Hudson Trevor</td>\n",
       "      <td>male</td>\n",
       "      <td>0.92</td>\n",
       "      <td>1</td>\n",
       "      <td>2</td>\n",
       "      <td>113781</td>\n",
       "      <td>151.5500</td>\n",
       "      <td>C22 C26</td>\n",
       "      <td>S</td>\n",
       "      <td>11</td>\n",
       "      <td>NaN</td>\n",
       "      <td>Montreal, PQ / Chesterville, ON</td>\n",
       "    </tr>\n",
       "    <tr>\n",
       "      <th>2</th>\n",
       "      <td>1</td>\n",
       "      <td>0</td>\n",
       "      <td>Allison, Miss. Helen Loraine</td>\n",
       "      <td>female</td>\n",
       "      <td>2.00</td>\n",
       "      <td>1</td>\n",
       "      <td>2</td>\n",
       "      <td>113781</td>\n",
       "      <td>151.5500</td>\n",
       "      <td>C22 C26</td>\n",
       "      <td>S</td>\n",
       "      <td>NaN</td>\n",
       "      <td>NaN</td>\n",
       "      <td>Montreal, PQ / Chesterville, ON</td>\n",
       "    </tr>\n",
       "    <tr>\n",
       "      <th>3</th>\n",
       "      <td>1</td>\n",
       "      <td>0</td>\n",
       "      <td>Allison, Mr. Hudson Joshua Creighton</td>\n",
       "      <td>male</td>\n",
       "      <td>30.00</td>\n",
       "      <td>1</td>\n",
       "      <td>2</td>\n",
       "      <td>113781</td>\n",
       "      <td>151.5500</td>\n",
       "      <td>C22 C26</td>\n",
       "      <td>S</td>\n",
       "      <td>NaN</td>\n",
       "      <td>135.0</td>\n",
       "      <td>Montreal, PQ / Chesterville, ON</td>\n",
       "    </tr>\n",
       "    <tr>\n",
       "      <th>4</th>\n",
       "      <td>1</td>\n",
       "      <td>0</td>\n",
       "      <td>Allison, Mrs. Hudson J C (Bessie Waldo Daniels)</td>\n",
       "      <td>female</td>\n",
       "      <td>25.00</td>\n",
       "      <td>1</td>\n",
       "      <td>2</td>\n",
       "      <td>113781</td>\n",
       "      <td>151.5500</td>\n",
       "      <td>C22 C26</td>\n",
       "      <td>S</td>\n",
       "      <td>NaN</td>\n",
       "      <td>NaN</td>\n",
       "      <td>Montreal, PQ / Chesterville, ON</td>\n",
       "    </tr>\n",
       "  </tbody>\n",
       "</table>\n",
       "</div>"
      ]
     },
     "execution_count": 146,
     "metadata": {},
     "output_type": "execute_result"
    }
   ],
   "execution_count": 146
  },
  {
   "metadata": {
    "ExecuteTime": {
     "end_time": "2025-10-05T13:45:24.190814Z",
     "start_time": "2025-10-05T13:45:24.187633Z"
    }
   },
   "cell_type": "code",
   "source": [
    "cols = ['fare','embarked','sex']\n",
    "x = df[cols]\n",
    "y = df['survived']"
   ],
   "id": "ca6ef791cc017c01",
   "outputs": [],
   "execution_count": 147
  },
  {
   "metadata": {
    "ExecuteTime": {
     "end_time": "2025-10-05T13:45:24.228375Z",
     "start_time": "2025-10-05T13:45:24.226117Z"
    }
   },
   "cell_type": "code",
   "source": "from sklearn.model_selection import train_test_split",
   "id": "c1114dfb13d5c25e",
   "outputs": [],
   "execution_count": 148
  },
  {
   "metadata": {
    "ExecuteTime": {
     "end_time": "2025-10-05T13:45:24.332965Z",
     "start_time": "2025-10-05T13:45:24.326279Z"
    }
   },
   "cell_type": "code",
   "source": "x",
   "id": "3911d45f0f2c5b1e",
   "outputs": [
    {
     "data": {
      "text/plain": [
       "          fare embarked     sex\n",
       "0     211.3375        S  female\n",
       "1     151.5500        S    male\n",
       "2     151.5500        S  female\n",
       "3     151.5500        S    male\n",
       "4     151.5500        S  female\n",
       "...        ...      ...     ...\n",
       "1304   14.4542        C  female\n",
       "1305   14.4542        C  female\n",
       "1306    7.2250        C    male\n",
       "1307    7.2250        C    male\n",
       "1308    7.8750        S    male\n",
       "\n",
       "[1309 rows x 3 columns]"
      ],
      "text/html": [
       "<div>\n",
       "<style scoped>\n",
       "    .dataframe tbody tr th:only-of-type {\n",
       "        vertical-align: middle;\n",
       "    }\n",
       "\n",
       "    .dataframe tbody tr th {\n",
       "        vertical-align: top;\n",
       "    }\n",
       "\n",
       "    .dataframe thead th {\n",
       "        text-align: right;\n",
       "    }\n",
       "</style>\n",
       "<table border=\"1\" class=\"dataframe\">\n",
       "  <thead>\n",
       "    <tr style=\"text-align: right;\">\n",
       "      <th></th>\n",
       "      <th>fare</th>\n",
       "      <th>embarked</th>\n",
       "      <th>sex</th>\n",
       "    </tr>\n",
       "  </thead>\n",
       "  <tbody>\n",
       "    <tr>\n",
       "      <th>0</th>\n",
       "      <td>211.3375</td>\n",
       "      <td>S</td>\n",
       "      <td>female</td>\n",
       "    </tr>\n",
       "    <tr>\n",
       "      <th>1</th>\n",
       "      <td>151.5500</td>\n",
       "      <td>S</td>\n",
       "      <td>male</td>\n",
       "    </tr>\n",
       "    <tr>\n",
       "      <th>2</th>\n",
       "      <td>151.5500</td>\n",
       "      <td>S</td>\n",
       "      <td>female</td>\n",
       "    </tr>\n",
       "    <tr>\n",
       "      <th>3</th>\n",
       "      <td>151.5500</td>\n",
       "      <td>S</td>\n",
       "      <td>male</td>\n",
       "    </tr>\n",
       "    <tr>\n",
       "      <th>4</th>\n",
       "      <td>151.5500</td>\n",
       "      <td>S</td>\n",
       "      <td>female</td>\n",
       "    </tr>\n",
       "    <tr>\n",
       "      <th>...</th>\n",
       "      <td>...</td>\n",
       "      <td>...</td>\n",
       "      <td>...</td>\n",
       "    </tr>\n",
       "    <tr>\n",
       "      <th>1304</th>\n",
       "      <td>14.4542</td>\n",
       "      <td>C</td>\n",
       "      <td>female</td>\n",
       "    </tr>\n",
       "    <tr>\n",
       "      <th>1305</th>\n",
       "      <td>14.4542</td>\n",
       "      <td>C</td>\n",
       "      <td>female</td>\n",
       "    </tr>\n",
       "    <tr>\n",
       "      <th>1306</th>\n",
       "      <td>7.2250</td>\n",
       "      <td>C</td>\n",
       "      <td>male</td>\n",
       "    </tr>\n",
       "    <tr>\n",
       "      <th>1307</th>\n",
       "      <td>7.2250</td>\n",
       "      <td>C</td>\n",
       "      <td>male</td>\n",
       "    </tr>\n",
       "    <tr>\n",
       "      <th>1308</th>\n",
       "      <td>7.8750</td>\n",
       "      <td>S</td>\n",
       "      <td>male</td>\n",
       "    </tr>\n",
       "  </tbody>\n",
       "</table>\n",
       "<p>1309 rows × 3 columns</p>\n",
       "</div>"
      ]
     },
     "execution_count": 149,
     "metadata": {},
     "output_type": "execute_result"
    }
   ],
   "execution_count": 149
  },
  {
   "metadata": {
    "ExecuteTime": {
     "end_time": "2025-10-05T13:45:24.384547Z",
     "start_time": "2025-10-05T13:45:24.378853Z"
    }
   },
   "cell_type": "code",
   "source": [
    "x_test,x_train,y_train,y_test = train_test_split(x,y,test_size=0.5, random_state=1)\n",
    "x_train.head()"
   ],
   "id": "1ce41f3d83aec1bd",
   "outputs": [
    {
     "data": {
      "text/plain": [
       "          fare embarked     sex\n",
       "201    51.8625        S    male\n",
       "115   263.0000        S    male\n",
       "255    69.3000        C  female\n",
       "1103   39.6875        S    male\n",
       "195    86.5000        S  female"
      ],
      "text/html": [
       "<div>\n",
       "<style scoped>\n",
       "    .dataframe tbody tr th:only-of-type {\n",
       "        vertical-align: middle;\n",
       "    }\n",
       "\n",
       "    .dataframe tbody tr th {\n",
       "        vertical-align: top;\n",
       "    }\n",
       "\n",
       "    .dataframe thead th {\n",
       "        text-align: right;\n",
       "    }\n",
       "</style>\n",
       "<table border=\"1\" class=\"dataframe\">\n",
       "  <thead>\n",
       "    <tr style=\"text-align: right;\">\n",
       "      <th></th>\n",
       "      <th>fare</th>\n",
       "      <th>embarked</th>\n",
       "      <th>sex</th>\n",
       "    </tr>\n",
       "  </thead>\n",
       "  <tbody>\n",
       "    <tr>\n",
       "      <th>201</th>\n",
       "      <td>51.8625</td>\n",
       "      <td>S</td>\n",
       "      <td>male</td>\n",
       "    </tr>\n",
       "    <tr>\n",
       "      <th>115</th>\n",
       "      <td>263.0000</td>\n",
       "      <td>S</td>\n",
       "      <td>male</td>\n",
       "    </tr>\n",
       "    <tr>\n",
       "      <th>255</th>\n",
       "      <td>69.3000</td>\n",
       "      <td>C</td>\n",
       "      <td>female</td>\n",
       "    </tr>\n",
       "    <tr>\n",
       "      <th>1103</th>\n",
       "      <td>39.6875</td>\n",
       "      <td>S</td>\n",
       "      <td>male</td>\n",
       "    </tr>\n",
       "    <tr>\n",
       "      <th>195</th>\n",
       "      <td>86.5000</td>\n",
       "      <td>S</td>\n",
       "      <td>female</td>\n",
       "    </tr>\n",
       "  </tbody>\n",
       "</table>\n",
       "</div>"
      ]
     },
     "execution_count": 150,
     "metadata": {},
     "output_type": "execute_result"
    }
   ],
   "execution_count": 150
  },
  {
   "metadata": {
    "ExecuteTime": {
     "end_time": "2025-10-05T13:45:24.494491Z",
     "start_time": "2025-10-05T13:45:24.487951Z"
    }
   },
   "cell_type": "code",
   "source": [
    "x_test,x_train,y_train,y_test = train_test_split(x,y,test_size=0.5, random_state=1)\n",
    "x_train.head()"
   ],
   "id": "3a628c2a59f5a741",
   "outputs": [
    {
     "data": {
      "text/plain": [
       "          fare embarked     sex\n",
       "201    51.8625        S    male\n",
       "115   263.0000        S    male\n",
       "255    69.3000        C  female\n",
       "1103   39.6875        S    male\n",
       "195    86.5000        S  female"
      ],
      "text/html": [
       "<div>\n",
       "<style scoped>\n",
       "    .dataframe tbody tr th:only-of-type {\n",
       "        vertical-align: middle;\n",
       "    }\n",
       "\n",
       "    .dataframe tbody tr th {\n",
       "        vertical-align: top;\n",
       "    }\n",
       "\n",
       "    .dataframe thead th {\n",
       "        text-align: right;\n",
       "    }\n",
       "</style>\n",
       "<table border=\"1\" class=\"dataframe\">\n",
       "  <thead>\n",
       "    <tr style=\"text-align: right;\">\n",
       "      <th></th>\n",
       "      <th>fare</th>\n",
       "      <th>embarked</th>\n",
       "      <th>sex</th>\n",
       "    </tr>\n",
       "  </thead>\n",
       "  <tbody>\n",
       "    <tr>\n",
       "      <th>201</th>\n",
       "      <td>51.8625</td>\n",
       "      <td>S</td>\n",
       "      <td>male</td>\n",
       "    </tr>\n",
       "    <tr>\n",
       "      <th>115</th>\n",
       "      <td>263.0000</td>\n",
       "      <td>S</td>\n",
       "      <td>male</td>\n",
       "    </tr>\n",
       "    <tr>\n",
       "      <th>255</th>\n",
       "      <td>69.3000</td>\n",
       "      <td>C</td>\n",
       "      <td>female</td>\n",
       "    </tr>\n",
       "    <tr>\n",
       "      <th>1103</th>\n",
       "      <td>39.6875</td>\n",
       "      <td>S</td>\n",
       "      <td>male</td>\n",
       "    </tr>\n",
       "    <tr>\n",
       "      <th>195</th>\n",
       "      <td>86.5000</td>\n",
       "      <td>S</td>\n",
       "      <td>female</td>\n",
       "    </tr>\n",
       "  </tbody>\n",
       "</table>\n",
       "</div>"
      ]
     },
     "execution_count": 151,
     "metadata": {},
     "output_type": "execute_result"
    }
   ],
   "execution_count": 151
  },
  {
   "metadata": {
    "ExecuteTime": {
     "end_time": "2025-10-05T13:45:24.608812Z",
     "start_time": "2025-10-05T13:45:24.606156Z"
    }
   },
   "cell_type": "code",
   "source": "# هر بار که این دستور رو اجرا کنیم باز هم یک دیتا رو میگیرم چون رندوم استیت یک هست\n",
   "id": "388ff6582e10339d",
   "outputs": [],
   "execution_count": 152
  },
  {
   "metadata": {
    "ExecuteTime": {
     "end_time": "2025-10-05T13:45:24.733771Z",
     "start_time": "2025-10-05T13:45:24.728114Z"
    }
   },
   "cell_type": "code",
   "source": [
    "x_test,x_train,y_train,y_test = train_test_split(x,y,test_size=0.5, random_state=42)\n",
    "x_train.head()"
   ],
   "id": "791a84be4d9beadf",
   "outputs": [
    {
     "data": {
      "text/plain": [
       "         fare embarked   sex\n",
       "1148   7.1250        S  male\n",
       "1049  15.7417        C  male\n",
       "982    7.8958        S  male\n",
       "808    8.0500        S  male\n",
       "1195   7.7500        Q  male"
      ],
      "text/html": [
       "<div>\n",
       "<style scoped>\n",
       "    .dataframe tbody tr th:only-of-type {\n",
       "        vertical-align: middle;\n",
       "    }\n",
       "\n",
       "    .dataframe tbody tr th {\n",
       "        vertical-align: top;\n",
       "    }\n",
       "\n",
       "    .dataframe thead th {\n",
       "        text-align: right;\n",
       "    }\n",
       "</style>\n",
       "<table border=\"1\" class=\"dataframe\">\n",
       "  <thead>\n",
       "    <tr style=\"text-align: right;\">\n",
       "      <th></th>\n",
       "      <th>fare</th>\n",
       "      <th>embarked</th>\n",
       "      <th>sex</th>\n",
       "    </tr>\n",
       "  </thead>\n",
       "  <tbody>\n",
       "    <tr>\n",
       "      <th>1148</th>\n",
       "      <td>7.1250</td>\n",
       "      <td>S</td>\n",
       "      <td>male</td>\n",
       "    </tr>\n",
       "    <tr>\n",
       "      <th>1049</th>\n",
       "      <td>15.7417</td>\n",
       "      <td>C</td>\n",
       "      <td>male</td>\n",
       "    </tr>\n",
       "    <tr>\n",
       "      <th>982</th>\n",
       "      <td>7.8958</td>\n",
       "      <td>S</td>\n",
       "      <td>male</td>\n",
       "    </tr>\n",
       "    <tr>\n",
       "      <th>808</th>\n",
       "      <td>8.0500</td>\n",
       "      <td>S</td>\n",
       "      <td>male</td>\n",
       "    </tr>\n",
       "    <tr>\n",
       "      <th>1195</th>\n",
       "      <td>7.7500</td>\n",
       "      <td>Q</td>\n",
       "      <td>male</td>\n",
       "    </tr>\n",
       "  </tbody>\n",
       "</table>\n",
       "</div>"
      ]
     },
     "execution_count": 153,
     "metadata": {},
     "output_type": "execute_result"
    }
   ],
   "execution_count": 153
  },
  {
   "metadata": {
    "ExecuteTime": {
     "end_time": "2025-10-05T13:45:24.816080Z",
     "start_time": "2025-10-05T13:45:24.809766Z"
    }
   },
   "cell_type": "code",
   "source": [
    "x_test,x_train,y_train,y_test = train_test_split(x,y,test_size=0.5, random_state=42)\n",
    "x_train.head()"
   ],
   "id": "368c13695250f341",
   "outputs": [
    {
     "data": {
      "text/plain": [
       "         fare embarked   sex\n",
       "1148   7.1250        S  male\n",
       "1049  15.7417        C  male\n",
       "982    7.8958        S  male\n",
       "808    8.0500        S  male\n",
       "1195   7.7500        Q  male"
      ],
      "text/html": [
       "<div>\n",
       "<style scoped>\n",
       "    .dataframe tbody tr th:only-of-type {\n",
       "        vertical-align: middle;\n",
       "    }\n",
       "\n",
       "    .dataframe tbody tr th {\n",
       "        vertical-align: top;\n",
       "    }\n",
       "\n",
       "    .dataframe thead th {\n",
       "        text-align: right;\n",
       "    }\n",
       "</style>\n",
       "<table border=\"1\" class=\"dataframe\">\n",
       "  <thead>\n",
       "    <tr style=\"text-align: right;\">\n",
       "      <th></th>\n",
       "      <th>fare</th>\n",
       "      <th>embarked</th>\n",
       "      <th>sex</th>\n",
       "    </tr>\n",
       "  </thead>\n",
       "  <tbody>\n",
       "    <tr>\n",
       "      <th>1148</th>\n",
       "      <td>7.1250</td>\n",
       "      <td>S</td>\n",
       "      <td>male</td>\n",
       "    </tr>\n",
       "    <tr>\n",
       "      <th>1049</th>\n",
       "      <td>15.7417</td>\n",
       "      <td>C</td>\n",
       "      <td>male</td>\n",
       "    </tr>\n",
       "    <tr>\n",
       "      <th>982</th>\n",
       "      <td>7.8958</td>\n",
       "      <td>S</td>\n",
       "      <td>male</td>\n",
       "    </tr>\n",
       "    <tr>\n",
       "      <th>808</th>\n",
       "      <td>8.0500</td>\n",
       "      <td>S</td>\n",
       "      <td>male</td>\n",
       "    </tr>\n",
       "    <tr>\n",
       "      <th>1195</th>\n",
       "      <td>7.7500</td>\n",
       "      <td>Q</td>\n",
       "      <td>male</td>\n",
       "    </tr>\n",
       "  </tbody>\n",
       "</table>\n",
       "</div>"
      ]
     },
     "execution_count": 154,
     "metadata": {},
     "output_type": "execute_result"
    }
   ],
   "execution_count": 154
  },
  {
   "metadata": {
    "ExecuteTime": {
     "end_time": "2025-10-05T13:45:24.929845Z",
     "start_time": "2025-10-05T13:45:24.927187Z"
    }
   },
   "cell_type": "code",
   "source": "# اما وقتی رندوم استیت رو عوض کنیم هر بار تفاوت خواهیم داشت",
   "id": "655f277523f388c9",
   "outputs": [],
   "execution_count": 155
  },
  {
   "metadata": {
    "ExecuteTime": {
     "end_time": "2025-10-05T13:45:25.118416Z",
     "start_time": "2025-10-05T13:45:25.034962Z"
    }
   },
   "cell_type": "code",
   "source": [
    "del df,x,y,x_test,x_train,y_train,y_test, cols\n",
    "gc.collect()"
   ],
   "id": "4f3d1482e21fcb65",
   "outputs": [
    {
     "data": {
      "text/plain": [
       "12"
      ]
     },
     "execution_count": 156,
     "metadata": {},
     "output_type": "execute_result"
    }
   ],
   "execution_count": 156
  },
  {
   "metadata": {},
   "cell_type": "markdown",
   "source": "### Trick 02 - کاربرد Stratify در Scikit-Learn",
   "id": "5b81af88645303df"
  },
  {
   "metadata": {
    "ExecuteTime": {
     "end_time": "2025-10-05T13:45:25.187459Z",
     "start_time": "2025-10-05T13:45:25.185016Z"
    }
   },
   "cell_type": "code",
   "source": [
    "# هدف اینه که تقسیم بندی دیتا تست و ترین رو به یک نوع انجام دهیم که که تناسب کفیت داشته باشن\n",
    "\n",
    "\n",
    "df = pd.DataFrame({'feature':list(range(12)), 'target':['Not Fraud']*10 + ['Fraud']*2})\n",
    "#dft02.sample()\n"
   ],
   "id": "a48eadc8342638a",
   "outputs": [],
   "execution_count": 157
  },
  {
   "metadata": {
    "ExecuteTime": {
     "end_time": "2025-10-05T13:45:25.217820Z",
     "start_time": "2025-10-05T13:45:25.215660Z"
    }
   },
   "cell_type": "code",
   "source": [
    "x = df['feature']\n",
    "y = df['target']\n"
   ],
   "id": "c15cda5cf68e35",
   "outputs": [],
   "execution_count": 158
  },
  {
   "metadata": {
    "ExecuteTime": {
     "end_time": "2025-10-05T13:45:25.231896Z",
     "start_time": "2025-10-05T13:45:25.229994Z"
    }
   },
   "cell_type": "code",
   "source": "from sklearn.model_selection import train_test_split",
   "id": "ccbb4f8326fbd41",
   "outputs": [],
   "execution_count": 159
  },
  {
   "metadata": {},
   "cell_type": "markdown",
   "source": [
    "#### **Not stratified**\n",
    "\n",
    "`y_train` contains **NONE** of the minority class, whereas `y_test` contains **ALL** of the minority class. (This is bad!)"
   ],
   "id": "274d529facd31978"
  },
  {
   "metadata": {
    "ExecuteTime": {
     "end_time": "2025-10-05T13:45:25.251136Z",
     "start_time": "2025-10-05T13:45:25.247262Z"
    }
   },
   "cell_type": "code",
   "source": "x_train,x_test,y_train,y_test = train_test_split(x,y,test_size=0.5, random_state=0)",
   "id": "800ff18a69ca046d",
   "outputs": [],
   "execution_count": 160
  },
  {
   "metadata": {
    "ExecuteTime": {
     "end_time": "2025-10-05T13:45:25.277526Z",
     "start_time": "2025-10-05T13:45:25.273001Z"
    }
   },
   "cell_type": "code",
   "source": "y_train",
   "id": "b656a38c6e9505df",
   "outputs": [
    {
     "data": {
      "text/plain": [
       "1    Not Fraud\n",
       "7    Not Fraud\n",
       "9    Not Fraud\n",
       "3    Not Fraud\n",
       "0    Not Fraud\n",
       "5    Not Fraud\n",
       "Name: target, dtype: object"
      ]
     },
     "execution_count": 161,
     "metadata": {},
     "output_type": "execute_result"
    }
   ],
   "execution_count": 161
  },
  {
   "metadata": {
    "ExecuteTime": {
     "end_time": "2025-10-05T13:45:25.311Z",
     "start_time": "2025-10-05T13:45:25.307958Z"
    }
   },
   "cell_type": "code",
   "source": "y_test",
   "id": "708404d1d12d3ec2",
   "outputs": [
    {
     "data": {
      "text/plain": [
       "6     Not Fraud\n",
       "11        Fraud\n",
       "4     Not Fraud\n",
       "10        Fraud\n",
       "2     Not Fraud\n",
       "8     Not Fraud\n",
       "Name: target, dtype: object"
      ]
     },
     "execution_count": 162,
     "metadata": {},
     "output_type": "execute_result"
    }
   ],
   "execution_count": 162
  },
  {
   "metadata": {},
   "cell_type": "markdown",
   "source": [
    "#### Stratified\n",
    "\n",
    "Class proportions are the **SAME** in `y_train` and `y_test`. (This is good!)"
   ],
   "id": "13c2fb1b9a2587cc"
  },
  {
   "metadata": {
    "ExecuteTime": {
     "end_time": "2025-10-05T13:45:25.405439Z",
     "start_time": "2025-10-05T13:45:25.401570Z"
    }
   },
   "cell_type": "code",
   "source": "x_train,x_test,y_train,y_test = train_test_split(x,y,test_size=0.5, random_state=0, stratify=y)",
   "id": "8e0436d504fc9a2a",
   "outputs": [],
   "execution_count": 163
  },
  {
   "metadata": {
    "ExecuteTime": {
     "end_time": "2025-10-05T13:45:25.515639Z",
     "start_time": "2025-10-05T13:45:25.511557Z"
    }
   },
   "cell_type": "code",
   "source": "y_train",
   "id": "ef0127e582d11faf",
   "outputs": [
    {
     "data": {
      "text/plain": [
       "2     Not Fraud\n",
       "8     Not Fraud\n",
       "4     Not Fraud\n",
       "1     Not Fraud\n",
       "11        Fraud\n",
       "9     Not Fraud\n",
       "Name: target, dtype: object"
      ]
     },
     "execution_count": 164,
     "metadata": {},
     "output_type": "execute_result"
    }
   ],
   "execution_count": 164
  },
  {
   "metadata": {
    "ExecuteTime": {
     "end_time": "2025-10-05T13:45:25.606508Z",
     "start_time": "2025-10-05T13:45:25.602753Z"
    }
   },
   "cell_type": "code",
   "source": "y_test",
   "id": "e8fd9d147a6dc63",
   "outputs": [
    {
     "data": {
      "text/plain": [
       "0     Not Fraud\n",
       "7     Not Fraud\n",
       "3     Not Fraud\n",
       "5     Not Fraud\n",
       "10        Fraud\n",
       "6     Not Fraud\n",
       "Name: target, dtype: object"
      ]
     },
     "execution_count": 165,
     "metadata": {},
     "output_type": "execute_result"
    }
   ],
   "execution_count": 165
  },
  {
   "metadata": {},
   "cell_type": "markdown",
   "source": "#### Delete",
   "id": "db79d571940979dc"
  },
  {
   "metadata": {
    "ExecuteTime": {
     "end_time": "2025-10-05T13:45:25.785910Z",
     "start_time": "2025-10-05T13:45:25.700330Z"
    }
   },
   "cell_type": "code",
   "source": [
    "del df,x,y,x_test,x_train,y_train,y_test\n",
    "gc.collect()"
   ],
   "id": "7080f760796a6fb1",
   "outputs": [
    {
     "data": {
      "text/plain": [
       "12"
      ]
     },
     "execution_count": 166,
     "metadata": {},
     "output_type": "execute_result"
    }
   ],
   "execution_count": 166
  },
  {
   "metadata": {},
   "cell_type": "markdown",
   "source": "### Trick 03 - کاربرد Missing Indicator در Scikit-Learn",
   "id": "1ab8d07833e00e67"
  },
  {
   "metadata": {
    "ExecuteTime": {
     "end_time": "2025-10-05T13:55:46.166830Z",
     "start_time": "2025-10-05T13:55:46.160388Z"
    }
   },
   "cell_type": "code",
   "source": [
    "#این مثال رو در نظر بگیرید\n",
    "\n",
    "x = pd.DataFrame({\n",
    "    'age':[20,30, 10 , np.nan, 10]\n",
    "})\n",
    "x"
   ],
   "id": "76eeb89ceb2d82f1",
   "outputs": [
    {
     "data": {
      "text/plain": [
       "    age\n",
       "0  20.0\n",
       "1  30.0\n",
       "2  10.0\n",
       "3   NaN\n",
       "4  10.0"
      ],
      "text/html": [
       "<div>\n",
       "<style scoped>\n",
       "    .dataframe tbody tr th:only-of-type {\n",
       "        vertical-align: middle;\n",
       "    }\n",
       "\n",
       "    .dataframe tbody tr th {\n",
       "        vertical-align: top;\n",
       "    }\n",
       "\n",
       "    .dataframe thead th {\n",
       "        text-align: right;\n",
       "    }\n",
       "</style>\n",
       "<table border=\"1\" class=\"dataframe\">\n",
       "  <thead>\n",
       "    <tr style=\"text-align: right;\">\n",
       "      <th></th>\n",
       "      <th>age</th>\n",
       "    </tr>\n",
       "  </thead>\n",
       "  <tbody>\n",
       "    <tr>\n",
       "      <th>0</th>\n",
       "      <td>20.0</td>\n",
       "    </tr>\n",
       "    <tr>\n",
       "      <th>1</th>\n",
       "      <td>30.0</td>\n",
       "    </tr>\n",
       "    <tr>\n",
       "      <th>2</th>\n",
       "      <td>10.0</td>\n",
       "    </tr>\n",
       "    <tr>\n",
       "      <th>3</th>\n",
       "      <td>NaN</td>\n",
       "    </tr>\n",
       "    <tr>\n",
       "      <th>4</th>\n",
       "      <td>10.0</td>\n",
       "    </tr>\n",
       "  </tbody>\n",
       "</table>\n",
       "</div>"
      ]
     },
     "execution_count": 167,
     "metadata": {},
     "output_type": "execute_result"
    }
   ],
   "execution_count": 167
  },
  {
   "metadata": {
    "ExecuteTime": {
     "end_time": "2025-10-05T13:57:54.467307Z",
     "start_time": "2025-10-05T13:57:53.750982Z"
    }
   },
   "cell_type": "code",
   "source": [
    "\"\"\" ما نمی تونیم دیتایی که نات نامبر هست رو نگر داریم برای همین باید یه فکری براش بکنیم\n",
    "مثلا باید دراپشون کنیم\n",
    "یکی از راها اینه که با میانگین گرفتن از بقیه ریکورد ها جاشو پر کنیم\n",
    "\"\"\"\n",
    "from sklearn.impute import SimpleImputer"
   ],
   "id": "b54fa238666fc25d",
   "outputs": [],
   "execution_count": 169
  },
  {
   "metadata": {
    "ExecuteTime": {
     "end_time": "2025-10-05T14:03:13.639359Z",
     "start_time": "2025-10-05T14:03:13.634455Z"
    }
   },
   "cell_type": "code",
   "source": [
    "imputer = SimpleImputer(missing_values=np.nan, strategy='mean')\n",
    "#'constant', 'median', 'most_frequent', 'mean'\n",
    "# imputer = SimpleImputer()\n",
    "imputer.fit_transform(x)\n"
   ],
   "id": "1277622d0b371534",
   "outputs": [
    {
     "data": {
      "text/plain": [
       "array([[20. ],\n",
       "       [30. ],\n",
       "       [10. ],\n",
       "       [17.5],\n",
       "       [10. ]])"
      ]
     },
     "execution_count": 184,
     "metadata": {},
     "output_type": "execute_result"
    }
   ],
   "execution_count": 184
  },
  {
   "metadata": {
    "ExecuteTime": {
     "end_time": "2025-10-05T14:03:08.454045Z",
     "start_time": "2025-10-05T14:03:08.416450Z"
    }
   },
   "cell_type": "code",
   "source": [
    "imputer = SimpleImputer(missing_values=np.nan, strategy = 'median')\n",
    "#'constant', 'median', 'most_frequent', 'mean'\n",
    "# imputer = SimpleImputer()\n",
    "imputer.fit_transform(x)\n"
   ],
   "id": "f7d1898b895105f2",
   "outputs": [
    {
     "data": {
      "text/plain": [
       "array([[20.],\n",
       "       [30.],\n",
       "       [10.],\n",
       "       [15.],\n",
       "       [10.]])"
      ]
     },
     "execution_count": 183,
     "metadata": {},
     "output_type": "execute_result"
    }
   ],
   "execution_count": 183
  },
  {
   "metadata": {
    "ExecuteTime": {
     "end_time": "2025-10-05T14:00:31.865249Z",
     "start_time": "2025-10-05T14:00:31.859780Z"
    }
   },
   "cell_type": "code",
   "source": [
    "# پرچم گذاری : برای اینکه بفهمیم این داده میس ولو هست و توسط ما پر شده\n",
    "imputer = SimpleImputer(missing_values=np.nan, strategy='mean')\n",
    "imputer = SimpleImputer(add_indicator=True)\n",
    "imputer.fit_transform(x)\n"
   ],
   "id": "d4cfe96064aa843b",
   "outputs": [
    {
     "data": {
      "text/plain": [
       "array([[20. ,  0. ],\n",
       "       [30. ,  0. ],\n",
       "       [10. ,  0. ],\n",
       "       [17.5,  1. ],\n",
       "       [10. ,  0. ]])"
      ]
     },
     "execution_count": 180,
     "metadata": {},
     "output_type": "execute_result"
    }
   ],
   "execution_count": 180
  },
  {
   "metadata": {},
   "cell_type": "code",
   "outputs": [],
   "execution_count": null,
   "source": "",
   "id": "24336b62b227ace4"
  }
 ],
 "metadata": {
  "kernelspec": {
   "display_name": "Python 3",
   "language": "python",
   "name": "python3"
  },
  "language_info": {
   "codemirror_mode": {
    "name": "ipython",
    "version": 2
   },
   "file_extension": ".py",
   "mimetype": "text/x-python",
   "name": "python",
   "nbconvert_exporter": "python",
   "pygments_lexer": "ipython2",
   "version": "2.7.6"
  }
 },
 "nbformat": 4,
 "nbformat_minor": 5
}
