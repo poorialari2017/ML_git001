{
 "cells": [
  {
   "metadata": {},
   "cell_type": "markdown",
   "source": "# Numpy Document",
   "id": "6bdd4fa50eaa76fd"
  },
  {
   "cell_type": "code",
   "id": "initial_id",
   "metadata": {
    "collapsed": true,
    "ExecuteTime": {
     "end_time": "2025-08-15T20:03:26.229060Z",
     "start_time": "2025-08-15T20:03:26.226612Z"
    }
   },
   "source": "import numpy as np",
   "outputs": [],
   "execution_count": 11
  },
  {
   "metadata": {},
   "cell_type": "markdown",
   "source": "### create array and matrix",
   "id": "f9993491aade9d3c"
  },
  {
   "metadata": {
    "ExecuteTime": {
     "end_time": "2025-08-15T20:03:26.242322Z",
     "start_time": "2025-08-15T20:03:26.239317Z"
    }
   },
   "cell_type": "code",
   "source": [
    "# name = np.array([val])\n",
    "\n",
    "myMat = np.array([[1,2,3],[4,5,6],[7,8,9]])\n",
    "print(myMat)"
   ],
   "id": "48ec8b5e33a82a5",
   "outputs": [
    {
     "name": "stdout",
     "output_type": "stream",
     "text": [
      "[[1 2 3]\n",
      " [4 5 6]\n",
      " [7 8 9]]\n"
     ]
    }
   ],
   "execution_count": 12
  },
  {
   "metadata": {
    "ExecuteTime": {
     "end_time": "2025-08-15T20:03:26.291495Z",
     "start_time": "2025-08-15T20:03:26.287533Z"
    }
   },
   "cell_type": "code",
   "source": [
    "a = np.array([1,2,3,4,5,6,7,8,9])\n",
    "\n",
    "b = np.array([[1,2,3,4],[6,7,8,9]])\n",
    "\n",
    "\n",
    "print(b)"
   ],
   "id": "ec933e7d4e12ab73",
   "outputs": [
    {
     "name": "stdout",
     "output_type": "stream",
     "text": [
      "[[1 2 3 4]\n",
      " [6 7 8 9]]\n"
     ]
    }
   ],
   "execution_count": 13
  },
  {
   "metadata": {},
   "cell_type": "markdown",
   "source": "### shape cells",
   "id": "5f9b5381c6ac72ad"
  },
  {
   "metadata": {
    "ExecuteTime": {
     "end_time": "2025-08-15T20:03:26.340281Z",
     "start_time": "2025-08-15T20:03:26.337780Z"
    }
   },
   "cell_type": "code",
   "source": [
    "#برای فهمیدن تعداد سطر و ستون ها\n",
    "\n",
    "print(np.shape(a))\n",
    "print(np.shape(b))\n",
    "# OR\n",
    "print(b.shape, a.shape)"
   ],
   "id": "edb9f42e969b4a2f",
   "outputs": [
    {
     "name": "stdout",
     "output_type": "stream",
     "text": [
      "(9,)\n",
      "(2, 4)\n",
      "(2, 4) (9,)\n"
     ]
    }
   ],
   "execution_count": 14
  },
  {
   "metadata": {},
   "cell_type": "markdown",
   "source": "### reshape",
   "id": "55f3d9bce8cd288d"
  },
  {
   "metadata": {
    "ExecuteTime": {
     "end_time": "2025-08-15T20:03:26.387206Z",
     "start_time": "2025-08-15T20:03:26.383545Z"
    }
   },
   "cell_type": "code",
   "source": [
    "#listname.reshape(new_size)\n",
    "c = np.array([1,2,3,4,5,6,7,8,9])\n",
    "print(c)\n",
    "\n",
    "print(np.shape(c))\n",
    "\n",
    "print(c.reshape(9,1))\n",
    "\n",
    "print(np.shape(c))\n"
   ],
   "id": "6aae6a4bb7020e76",
   "outputs": [
    {
     "name": "stdout",
     "output_type": "stream",
     "text": [
      "[1 2 3 4 5 6 7 8 9]\n",
      "(9,)\n",
      "[[1]\n",
      " [2]\n",
      " [3]\n",
      " [4]\n",
      " [5]\n",
      " [6]\n",
      " [7]\n",
      " [8]\n",
      " [9]]\n",
      "(9,)\n"
     ]
    }
   ],
   "execution_count": 15
  },
  {
   "metadata": {
    "ExecuteTime": {
     "end_time": "2025-08-15T20:03:26.425062Z",
     "start_time": "2025-08-15T20:03:26.421785Z"
    }
   },
   "cell_type": "code",
   "source": [
    "a = np.array([1,2,3,4,5,6,7,8,9,10,11,12,13,14,15])\n",
    "\n",
    "b = a.reshape(3,5)\n",
    "print(b)"
   ],
   "id": "45c6c2ffe0c66a3f",
   "outputs": [
    {
     "name": "stdout",
     "output_type": "stream",
     "text": [
      "[[ 1  2  3  4  5]\n",
      " [ 6  7  8  9 10]\n",
      " [11 12 13 14 15]]\n"
     ]
    }
   ],
   "execution_count": 16
  },
  {
   "metadata": {},
   "cell_type": "markdown",
   "source": "#### -1 in reshape",
   "id": "63540ff61ae5a9ce"
  },
  {
   "metadata": {
    "ExecuteTime": {
     "end_time": "2025-08-15T20:03:26.464646Z",
     "start_time": "2025-08-15T20:03:26.461953Z"
    }
   },
   "cell_type": "code",
   "source": [
    "#اگر مقدار رو نمیدونستیم منفی یک میزاریم خودش میسازه\n",
    "\n",
    "c = a.reshape(5,-1)\n",
    "print(c)\n"
   ],
   "id": "fba48e8de971a547",
   "outputs": [
    {
     "name": "stdout",
     "output_type": "stream",
     "text": [
      "[[ 1  2  3]\n",
      " [ 4  5  6]\n",
      " [ 7  8  9]\n",
      " [10 11 12]\n",
      " [13 14 15]]\n"
     ]
    }
   ],
   "execution_count": 17
  },
  {
   "metadata": {},
   "cell_type": "markdown",
   "source": "### Concatenate",
   "id": "535af46c0427b7c4"
  },
  {
   "metadata": {
    "ExecuteTime": {
     "end_time": "2025-08-15T20:03:26.510505Z",
     "start_time": "2025-08-15T20:03:26.506491Z"
    }
   },
   "cell_type": "code",
   "source": [
    "a = np.array([1,2,3,4,5,6,7,8,9,10,11,12,13,14,15])\n",
    "b = np.array([15,16,17,18,19,20,21,22,23,24,25])\n",
    "\n",
    "\n",
    "c = np.concatenate((a,b))\n",
    "print(c)\n",
    "\n",
    "# حالا میخام یه ماتریس دو ستونه بسازم\n",
    "d = c.reshape(-1,2)\n",
    "print(d)\n",
    "\n"
   ],
   "id": "5d8cec6c4894d633",
   "outputs": [
    {
     "name": "stdout",
     "output_type": "stream",
     "text": [
      "[ 1  2  3  4  5  6  7  8  9 10 11 12 13 14 15 15 16 17 18 19 20 21 22 23\n",
      " 24 25]\n",
      "[[ 1  2]\n",
      " [ 3  4]\n",
      " [ 5  6]\n",
      " [ 7  8]\n",
      " [ 9 10]\n",
      " [11 12]\n",
      " [13 14]\n",
      " [15 15]\n",
      " [16 17]\n",
      " [18 19]\n",
      " [20 21]\n",
      " [22 23]\n",
      " [24 25]]\n"
     ]
    }
   ],
   "execution_count": 18
  },
  {
   "metadata": {},
   "cell_type": "markdown",
   "source": "### brodcasting\n",
   "id": "ddfa9b2360c64ea7"
  },
  {
   "metadata": {
    "ExecuteTime": {
     "end_time": "2025-08-15T20:03:26.557386Z",
     "start_time": "2025-08-15T20:03:26.553602Z"
    }
   },
   "cell_type": "code",
   "source": [
    "a = np.array([1,2,3,4,5,6,7,8,9,10,11,12,13,14,15])\n",
    "b = np.array([16,17,18,19,20,21,22,23,24,25,26,27,28,29,30])\n",
    "\n",
    "c = a + b\n",
    "print(c)\n",
    "\n",
    "d = a - b\n",
    "print(d)\n",
    "\n",
    "e = a +100\n",
    "print(e)\n",
    "\n",
    "f = a / 2\n",
    "print(f)\n",
    "\n",
    "g = a % 2\n",
    "print(g)\n",
    "\n",
    "\n",
    "\n"
   ],
   "id": "66d6779b0da66f92",
   "outputs": [
    {
     "name": "stdout",
     "output_type": "stream",
     "text": [
      "[17 19 21 23 25 27 29 31 33 35 37 39 41 43 45]\n",
      "[-15 -15 -15 -15 -15 -15 -15 -15 -15 -15 -15 -15 -15 -15 -15]\n",
      "[101 102 103 104 105 106 107 108 109 110 111 112 113 114 115]\n",
      "[0.5 1.  1.5 2.  2.5 3.  3.5 4.  4.5 5.  5.5 6.  6.5 7.  7.5]\n",
      "[1 0 1 0 1 0 1 0 1 0 1 0 1 0 1]\n"
     ]
    }
   ],
   "execution_count": 19
  },
  {
   "metadata": {
    "ExecuteTime": {
     "end_time": "2025-08-15T20:03:26.606486Z",
     "start_time": "2025-08-15T20:03:26.603870Z"
    }
   },
   "cell_type": "code",
   "source": [
    "\n",
    "\n",
    "import numpy as reza\n",
    "a = reza.array([1, 2])\n",
    "print(a)\n"
   ],
   "id": "542d9d362bd63f34",
   "outputs": [
    {
     "name": "stdout",
     "output_type": "stream",
     "text": [
      "[1 2]\n"
     ]
    }
   ],
   "execution_count": 20
  }
 ],
 "metadata": {
  "kernelspec": {
   "display_name": "Python 3",
   "language": "python",
   "name": "python3"
  },
  "language_info": {
   "codemirror_mode": {
    "name": "ipython",
    "version": 2
   },
   "file_extension": ".py",
   "mimetype": "text/x-python",
   "name": "python",
   "nbconvert_exporter": "python",
   "pygments_lexer": "ipython2",
   "version": "2.7.6"
  }
 },
 "nbformat": 4,
 "nbformat_minor": 5
}
