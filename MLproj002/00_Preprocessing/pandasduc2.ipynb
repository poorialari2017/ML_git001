{
 "cells": [
  {
   "cell_type": "code",
   "id": "initial_id",
   "metadata": {
    "collapsed": true,
    "ExecuteTime": {
     "end_time": "2025-09-18T07:37:45.643735Z",
     "start_time": "2025-09-18T07:37:45.641125Z"
    }
   },
   "source": [
    "import pandas as pd\n",
    "import numpy as np"
   ],
   "outputs": [],
   "execution_count": 23
  },
  {
   "metadata": {
    "ExecuteTime": {
     "end_time": "2025-09-18T07:37:45.658605Z",
     "start_time": "2025-09-18T07:37:45.655532Z"
    }
   },
   "cell_type": "code",
   "source": [
    "data = {\n",
    "    'a': [1, 2, 3],\n",
    "    'b': [4, 5, 6],\n",
    "    'c': [7, 8, 9],\n",
    "    'd': [10, 11, 12],\n",
    "}\n"
   ],
   "id": "dc03a7f52e08fd25",
   "outputs": [],
   "execution_count": 24
  },
  {
   "metadata": {
    "ExecuteTime": {
     "end_time": "2025-09-18T07:37:45.682475Z",
     "start_time": "2025-09-18T07:37:45.678746Z"
    }
   },
   "cell_type": "code",
   "source": "df = pd.DataFrame(data)",
   "id": "fe7a1ac2e5eb071d",
   "outputs": [],
   "execution_count": 25
  },
  {
   "metadata": {
    "ExecuteTime": {
     "end_time": "2025-09-18T07:37:45.705771Z",
     "start_time": "2025-09-18T07:37:45.698791Z"
    }
   },
   "cell_type": "code",
   "source": "df\n",
   "id": "5383ab309ad8c041",
   "outputs": [
    {
     "data": {
      "text/plain": [
       "   a  b  c   d\n",
       "0  1  4  7  10\n",
       "1  2  5  8  11\n",
       "2  3  6  9  12"
      ],
      "text/html": [
       "<div>\n",
       "<style scoped>\n",
       "    .dataframe tbody tr th:only-of-type {\n",
       "        vertical-align: middle;\n",
       "    }\n",
       "\n",
       "    .dataframe tbody tr th {\n",
       "        vertical-align: top;\n",
       "    }\n",
       "\n",
       "    .dataframe thead th {\n",
       "        text-align: right;\n",
       "    }\n",
       "</style>\n",
       "<table border=\"1\" class=\"dataframe\">\n",
       "  <thead>\n",
       "    <tr style=\"text-align: right;\">\n",
       "      <th></th>\n",
       "      <th>a</th>\n",
       "      <th>b</th>\n",
       "      <th>c</th>\n",
       "      <th>d</th>\n",
       "    </tr>\n",
       "  </thead>\n",
       "  <tbody>\n",
       "    <tr>\n",
       "      <th>0</th>\n",
       "      <td>1</td>\n",
       "      <td>4</td>\n",
       "      <td>7</td>\n",
       "      <td>10</td>\n",
       "    </tr>\n",
       "    <tr>\n",
       "      <th>1</th>\n",
       "      <td>2</td>\n",
       "      <td>5</td>\n",
       "      <td>8</td>\n",
       "      <td>11</td>\n",
       "    </tr>\n",
       "    <tr>\n",
       "      <th>2</th>\n",
       "      <td>3</td>\n",
       "      <td>6</td>\n",
       "      <td>9</td>\n",
       "      <td>12</td>\n",
       "    </tr>\n",
       "  </tbody>\n",
       "</table>\n",
       "</div>"
      ]
     },
     "execution_count": 26,
     "metadata": {},
     "output_type": "execute_result"
    }
   ],
   "execution_count": 26
  },
  {
   "metadata": {
    "ExecuteTime": {
     "end_time": "2025-09-18T07:38:28.686257Z",
     "start_time": "2025-09-18T07:38:28.683231Z"
    }
   },
   "cell_type": "code",
   "source": "index = ['radif1', 'radif2', 'radif3']",
   "id": "37cc4e53b3c81284",
   "outputs": [],
   "execution_count": 29
  },
  {
   "metadata": {
    "ExecuteTime": {
     "end_time": "2025-09-18T07:38:29.470161Z",
     "start_time": "2025-09-18T07:38:29.462473Z"
    }
   },
   "cell_type": "code",
   "source": [
    "df = pd.DataFrame(data, index=index)\n",
    "df"
   ],
   "id": "513c65de999fd932",
   "outputs": [
    {
     "data": {
      "text/plain": [
       "        a  b  c   d\n",
       "radif1  1  4  7  10\n",
       "radif2  2  5  8  11\n",
       "radif3  3  6  9  12"
      ],
      "text/html": [
       "<div>\n",
       "<style scoped>\n",
       "    .dataframe tbody tr th:only-of-type {\n",
       "        vertical-align: middle;\n",
       "    }\n",
       "\n",
       "    .dataframe tbody tr th {\n",
       "        vertical-align: top;\n",
       "    }\n",
       "\n",
       "    .dataframe thead th {\n",
       "        text-align: right;\n",
       "    }\n",
       "</style>\n",
       "<table border=\"1\" class=\"dataframe\">\n",
       "  <thead>\n",
       "    <tr style=\"text-align: right;\">\n",
       "      <th></th>\n",
       "      <th>a</th>\n",
       "      <th>b</th>\n",
       "      <th>c</th>\n",
       "      <th>d</th>\n",
       "    </tr>\n",
       "  </thead>\n",
       "  <tbody>\n",
       "    <tr>\n",
       "      <th>radif1</th>\n",
       "      <td>1</td>\n",
       "      <td>4</td>\n",
       "      <td>7</td>\n",
       "      <td>10</td>\n",
       "    </tr>\n",
       "    <tr>\n",
       "      <th>radif2</th>\n",
       "      <td>2</td>\n",
       "      <td>5</td>\n",
       "      <td>8</td>\n",
       "      <td>11</td>\n",
       "    </tr>\n",
       "    <tr>\n",
       "      <th>radif3</th>\n",
       "      <td>3</td>\n",
       "      <td>6</td>\n",
       "      <td>9</td>\n",
       "      <td>12</td>\n",
       "    </tr>\n",
       "  </tbody>\n",
       "</table>\n",
       "</div>"
      ]
     },
     "execution_count": 30,
     "metadata": {},
     "output_type": "execute_result"
    }
   ],
   "execution_count": 30
  },
  {
   "metadata": {},
   "cell_type": "markdown",
   "source": "",
   "id": "2a0940048c5853ce"
  },
  {
   "metadata": {
    "ExecuteTime": {
     "end_time": "2025-09-18T07:38:36.761652Z",
     "start_time": "2025-09-18T07:38:36.752355Z"
    }
   },
   "cell_type": "code",
   "source": [
    "data2 ={\n",
    "\n",
    "    'نام': ['علی', 'رضا', 'سارا', 'نازنین'],\n",
    "    'سن': [25, 30, 22, 28],\n",
    "    'شهر': ['تهران', 'مشهد', 'اصفهان', 'شیراز'],\n",
    "    'امتیاز': [85, 92, 78, 88]\n",
    "}\n",
    "\n",
    "df = pd.DataFrame(data2)\n",
    "df"
   ],
   "id": "df9ee8c92e2912e6",
   "outputs": [
    {
     "data": {
      "text/plain": [
       "      نام  سن     شهر  امتیاز\n",
       "0     علی  25   تهران      85\n",
       "1     رضا  30    مشهد      92\n",
       "2    سارا  22  اصفهان      78\n",
       "3  نازنین  28   شیراز      88"
      ],
      "text/html": [
       "<div>\n",
       "<style scoped>\n",
       "    .dataframe tbody tr th:only-of-type {\n",
       "        vertical-align: middle;\n",
       "    }\n",
       "\n",
       "    .dataframe tbody tr th {\n",
       "        vertical-align: top;\n",
       "    }\n",
       "\n",
       "    .dataframe thead th {\n",
       "        text-align: right;\n",
       "    }\n",
       "</style>\n",
       "<table border=\"1\" class=\"dataframe\">\n",
       "  <thead>\n",
       "    <tr style=\"text-align: right;\">\n",
       "      <th></th>\n",
       "      <th>نام</th>\n",
       "      <th>سن</th>\n",
       "      <th>شهر</th>\n",
       "      <th>امتیاز</th>\n",
       "    </tr>\n",
       "  </thead>\n",
       "  <tbody>\n",
       "    <tr>\n",
       "      <th>0</th>\n",
       "      <td>علی</td>\n",
       "      <td>25</td>\n",
       "      <td>تهران</td>\n",
       "      <td>85</td>\n",
       "    </tr>\n",
       "    <tr>\n",
       "      <th>1</th>\n",
       "      <td>رضا</td>\n",
       "      <td>30</td>\n",
       "      <td>مشهد</td>\n",
       "      <td>92</td>\n",
       "    </tr>\n",
       "    <tr>\n",
       "      <th>2</th>\n",
       "      <td>سارا</td>\n",
       "      <td>22</td>\n",
       "      <td>اصفهان</td>\n",
       "      <td>78</td>\n",
       "    </tr>\n",
       "    <tr>\n",
       "      <th>3</th>\n",
       "      <td>نازنین</td>\n",
       "      <td>28</td>\n",
       "      <td>شیراز</td>\n",
       "      <td>88</td>\n",
       "    </tr>\n",
       "  </tbody>\n",
       "</table>\n",
       "</div>"
      ]
     },
     "execution_count": 31,
     "metadata": {},
     "output_type": "execute_result"
    }
   ],
   "execution_count": 31
  },
  {
   "metadata": {
    "ExecuteTime": {
     "end_time": "2025-09-18T07:38:56.657396Z",
     "start_time": "2025-09-18T07:38:56.648558Z"
    }
   },
   "cell_type": "code",
   "source": [
    "\n",
    "df = pd.DataFrame(data)\n",
    "print(\"دیتافریم اصلی:\")\n",
    "print(df)\n",
    "print(\"\\n\" + \"=\"*50 + \"\\n\")"
   ],
   "id": "7776a5b14d99a6fe",
   "outputs": [
    {
     "name": "stdout",
     "output_type": "stream",
     "text": [
      "دیتافریم اصلی:\n",
      "   a  b  c   d\n",
      "0  1  4  7  10\n",
      "1  2  5  8  11\n",
      "2  3  6  9  12\n",
      "\n",
      "==================================================\n",
      "\n"
     ]
    }
   ],
   "execution_count": 32
  },
  {
   "metadata": {
    "ExecuteTime": {
     "end_time": "2025-09-18T07:39:58.961509Z",
     "start_time": "2025-09-18T07:39:58.928851Z"
    }
   },
   "cell_type": "code",
   "source": [
    "print(\"اطلاعات دیتافریم:\")\n",
    "print(df.info())\n",
    "\n",
    "print(\"\\nاولین ۲ سطر:\")\n",
    "print(df.head(2))\n",
    "\n",
    "print(\"\\nآمار توصیفی:\")\n",
    "print(df.describe())"
   ],
   "id": "37024d3c9331fc9c",
   "outputs": [
    {
     "name": "stdout",
     "output_type": "stream",
     "text": [
      "اطلاعات دیتافریم:\n",
      "<class 'pandas.core.frame.DataFrame'>\n",
      "RangeIndex: 3 entries, 0 to 2\n",
      "Data columns (total 4 columns):\n",
      " #   Column  Non-Null Count  Dtype\n",
      "---  ------  --------------  -----\n",
      " 0   a       3 non-null      int64\n",
      " 1   b       3 non-null      int64\n",
      " 2   c       3 non-null      int64\n",
      " 3   d       3 non-null      int64\n",
      "dtypes: int64(4)\n",
      "memory usage: 228.0 bytes\n",
      "None\n",
      "\n",
      "اولین ۲ سطر:\n",
      "   a  b  c   d\n",
      "0  1  4  7  10\n",
      "1  2  5  8  11\n",
      "\n",
      "آمار توصیفی:\n",
      "         a    b    c     d\n",
      "count  3.0  3.0  3.0   3.0\n",
      "mean   2.0  5.0  8.0  11.0\n",
      "std    1.0  1.0  1.0   1.0\n",
      "min    1.0  4.0  7.0  10.0\n",
      "25%    1.5  4.5  7.5  10.5\n",
      "50%    2.0  5.0  8.0  11.0\n",
      "75%    2.5  5.5  8.5  11.5\n",
      "max    3.0  6.0  9.0  12.0\n"
     ]
    }
   ],
   "execution_count": 33
  },
  {
   "metadata": {},
   "cell_type": "markdown",
   "source": "### select data",
   "id": "c2cf4396c949cd"
  },
  {
   "metadata": {
    "ExecuteTime": {
     "end_time": "2025-09-18T08:43:47.838093Z",
     "start_time": "2025-09-18T08:43:47.833974Z"
    }
   },
   "cell_type": "code",
   "source": "df = pd.DataFrame(data2)",
   "id": "7535163b833a91d7",
   "outputs": [],
   "execution_count": 43
  },
  {
   "metadata": {
    "ExecuteTime": {
     "end_time": "2025-09-18T08:44:10.231549Z",
     "start_time": "2025-09-18T08:44:10.225928Z"
    }
   },
   "cell_type": "code",
   "source": [
    "age = df['سن']\n",
    "age"
   ],
   "id": "6dac84a237c37ff1",
   "outputs": [
    {
     "data": {
      "text/plain": [
       "0    25\n",
       "1    30\n",
       "2    22\n",
       "3    28\n",
       "Name: سن, dtype: int64"
      ]
     },
     "execution_count": 45,
     "metadata": {},
     "output_type": "execute_result"
    }
   ],
   "execution_count": 45
  },
  {
   "metadata": {
    "ExecuteTime": {
     "end_time": "2025-09-18T08:47:17.521349Z",
     "start_time": "2025-09-18T08:47:17.513539Z"
    }
   },
   "cell_type": "code",
   "source": [
    "sunset = df [['نام', 'شهر']]\n",
    "sunset"
   ],
   "id": "44d379322332a621",
   "outputs": [
    {
     "data": {
      "text/plain": [
       "      نام     شهر\n",
       "0     علی   تهران\n",
       "1     رضا    مشهد\n",
       "2    سارا  اصفهان\n",
       "3  نازنین   شیراز"
      ],
      "text/html": [
       "<div>\n",
       "<style scoped>\n",
       "    .dataframe tbody tr th:only-of-type {\n",
       "        vertical-align: middle;\n",
       "    }\n",
       "\n",
       "    .dataframe tbody tr th {\n",
       "        vertical-align: top;\n",
       "    }\n",
       "\n",
       "    .dataframe thead th {\n",
       "        text-align: right;\n",
       "    }\n",
       "</style>\n",
       "<table border=\"1\" class=\"dataframe\">\n",
       "  <thead>\n",
       "    <tr style=\"text-align: right;\">\n",
       "      <th></th>\n",
       "      <th>نام</th>\n",
       "      <th>شهر</th>\n",
       "    </tr>\n",
       "  </thead>\n",
       "  <tbody>\n",
       "    <tr>\n",
       "      <th>0</th>\n",
       "      <td>علی</td>\n",
       "      <td>تهران</td>\n",
       "    </tr>\n",
       "    <tr>\n",
       "      <th>1</th>\n",
       "      <td>رضا</td>\n",
       "      <td>مشهد</td>\n",
       "    </tr>\n",
       "    <tr>\n",
       "      <th>2</th>\n",
       "      <td>سارا</td>\n",
       "      <td>اصفهان</td>\n",
       "    </tr>\n",
       "    <tr>\n",
       "      <th>3</th>\n",
       "      <td>نازنین</td>\n",
       "      <td>شیراز</td>\n",
       "    </tr>\n",
       "  </tbody>\n",
       "</table>\n",
       "</div>"
      ]
     },
     "execution_count": 48,
     "metadata": {},
     "output_type": "execute_result"
    }
   ],
   "execution_count": 48
  },
  {
   "metadata": {
    "ExecuteTime": {
     "end_time": "2025-09-18T08:48:13.474747Z",
     "start_time": "2025-09-18T08:48:13.467504Z"
    }
   },
   "cell_type": "code",
   "source": [
    "print(\"سطر اول:\")\n",
    "print(df.iloc[0])\n",
    "\n",
    "print(\"\\nسطرهای ۱ تا ۳:\")\n",
    "print(df.iloc[1:3])\n",
    "\n",
    "# انتخاب با loc (بر اساس label)\n",
    "print(\"\\nسطرهای بر اساس label:\")\n",
    "print(df.loc[0:2])"
   ],
   "id": "7c9e4aa85f07f0e8",
   "outputs": [
    {
     "name": "stdout",
     "output_type": "stream",
     "text": [
      "سطر اول:\n",
      "نام         علی\n",
      "سن           25\n",
      "شهر       تهران\n",
      "امتیاز       85\n",
      "Name: 0, dtype: object\n",
      "\n",
      "سطرهای ۱ تا ۳:\n",
      "    نام  سن     شهر  امتیاز\n",
      "1   رضا  30    مشهد      92\n",
      "2  سارا  22  اصفهان      78\n",
      "\n",
      "سطرهای بر اساس label:\n",
      "    نام  سن     شهر  امتیاز\n",
      "0   علی  25   تهران      85\n",
      "1   رضا  30    مشهد      92\n",
      "2  سارا  22  اصفهان      78\n"
     ]
    }
   ],
   "execution_count": 49
  },
  {
   "metadata": {
    "ExecuteTime": {
     "end_time": "2025-09-18T08:50:17.387627Z",
     "start_time": "2025-09-18T08:50:17.379756Z"
    }
   },
   "cell_type": "code",
   "source": [
    "ex1 = df[['نام','امتیاز']]\n",
    "ex2 = df.loc[2:3]\n",
    "ex2"
   ],
   "id": "77f95aab3197c0cb",
   "outputs": [
    {
     "data": {
      "text/plain": [
       "      نام  سن     شهر  امتیاز\n",
       "2    سارا  22  اصفهان      78\n",
       "3  نازنین  28   شیراز      88"
      ],
      "text/html": [
       "<div>\n",
       "<style scoped>\n",
       "    .dataframe tbody tr th:only-of-type {\n",
       "        vertical-align: middle;\n",
       "    }\n",
       "\n",
       "    .dataframe tbody tr th {\n",
       "        vertical-align: top;\n",
       "    }\n",
       "\n",
       "    .dataframe thead th {\n",
       "        text-align: right;\n",
       "    }\n",
       "</style>\n",
       "<table border=\"1\" class=\"dataframe\">\n",
       "  <thead>\n",
       "    <tr style=\"text-align: right;\">\n",
       "      <th></th>\n",
       "      <th>نام</th>\n",
       "      <th>سن</th>\n",
       "      <th>شهر</th>\n",
       "      <th>امتیاز</th>\n",
       "    </tr>\n",
       "  </thead>\n",
       "  <tbody>\n",
       "    <tr>\n",
       "      <th>2</th>\n",
       "      <td>سارا</td>\n",
       "      <td>22</td>\n",
       "      <td>اصفهان</td>\n",
       "      <td>78</td>\n",
       "    </tr>\n",
       "    <tr>\n",
       "      <th>3</th>\n",
       "      <td>نازنین</td>\n",
       "      <td>28</td>\n",
       "      <td>شیراز</td>\n",
       "      <td>88</td>\n",
       "    </tr>\n",
       "  </tbody>\n",
       "</table>\n",
       "</div>"
      ]
     },
     "execution_count": 52,
     "metadata": {},
     "output_type": "execute_result"
    }
   ],
   "execution_count": 52
  },
  {
   "metadata": {},
   "cell_type": "code",
   "outputs": [],
   "execution_count": null,
   "source": "",
   "id": "f945cebc90c4d6c2"
  }
 ],
 "metadata": {
  "kernelspec": {
   "display_name": "Python 3",
   "language": "python",
   "name": "python3"
  },
  "language_info": {
   "codemirror_mode": {
    "name": "ipython",
    "version": 2
   },
   "file_extension": ".py",
   "mimetype": "text/x-python",
   "name": "python",
   "nbconvert_exporter": "python",
   "pygments_lexer": "ipython2",
   "version": "2.7.6"
  }
 },
 "nbformat": 4,
 "nbformat_minor": 5
}
